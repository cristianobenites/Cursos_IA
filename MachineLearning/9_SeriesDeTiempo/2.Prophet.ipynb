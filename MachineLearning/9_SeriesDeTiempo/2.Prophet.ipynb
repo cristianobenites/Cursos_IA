{
 "cells": [
  {
   "cell_type": "markdown",
   "metadata": {},
   "source": [
    "<a href=\"https://colab.research.google.com/github/institutohumai/cursos-python/blob/master/MachineLearning/9_SeriesDeTiempo/2.Prophet.ipynb\"> <img src='https://colab.research.google.com/assets/colab-badge.svg' /> </a>\n",
    "<div align=\"center\"> Recordá abrir en una nueva pestaña </div>"
   ]
  },
  {
   "cell_type": "markdown",
   "metadata": {
    "id": "eJnHyBkQjZEp"
   },
   "source": [
    "# Prophet"
   ]
  },
  {
   "cell_type": "code",
   "execution_count": 46,
   "metadata": {
    "executionInfo": {
     "elapsed": 555,
     "status": "ok",
     "timestamp": 1631051124925,
     "user": {
      "displayName": "Maria Frances Gaska",
      "photoUrl": "",
      "userId": "00507418052719867119"
     },
     "user_tz": 180
    },
    "id": "2-OwzCj9jZEs",
    "lines_to_next_cell": 2
   },
   "outputs": [],
   "source": [
    "import itertools\n",
    "import numpy as np\n",
    "import pandas as pd\n",
    "from fbprophet import Prophet\n",
    "from fbprophet.diagnostics import cross_validation, performance_metrics\n",
    "from fbprophet.plot import plot_plotly\n",
    "from matplotlib import pyplot as plt\n",
    "from plotly import offline as py\n",
    "plt.rcParams[\"figure.figsize\"] = (20,5)\n"
   ]
  },
  {
   "cell_type": "code",
   "execution_count": 2,
   "metadata": {
    "executionInfo": {
     "elapsed": 4,
     "status": "ok",
     "timestamp": 1631047263635,
     "user": {
      "displayName": "Maria Frances Gaska",
      "photoUrl": "",
      "userId": "00507418052719867119"
     },
     "user_tz": 180
    },
    "id": "iH5sVStMjZEu"
   },
   "outputs": [],
   "source": [
    "# importamos datos abiertos del servicio de meteorologia y atmósfera\n",
    "# link: https://www.ncdc.noaa.gov/data-access\n",
    "# datos anuales desde 1880 a 2021"
   ]
  },
  {
   "cell_type": "markdown",
   "metadata": {
    "id": "uJuFjDnF6PU1"
   },
   "source": [
    "## Trabando sobre datos climáticos\n",
    "importamos datos abiertos del servicio de meteorologia y atmósfera\n",
    "\n",
    "link: https://www.ncdc.noaa.gov/data-access\n",
    "\n",
    "datos anuales desde 1880 a 2021"
   ]
  },
  {
   "cell_type": "code",
   "execution_count": 47,
   "metadata": {
    "colab": {
     "base_uri": "https://localhost:8080/",
     "height": 355
    },
    "executionInfo": {
     "elapsed": 1041,
     "status": "ok",
     "timestamp": 1631051256310,
     "user": {
      "displayName": "Maria Frances Gaska",
      "photoUrl": "",
      "userId": "00507418052719867119"
     },
     "user_tz": 180
    },
    "id": "a31j3ywQjZEw",
    "outputId": "06044304-7eab-458b-87c3-c44beebbcc9f"
   },
   "outputs": [
    {
     "data": {
      "text/html": [
       "<div>\n",
       "<style scoped>\n",
       "    .dataframe tbody tr th:only-of-type {\n",
       "        vertical-align: middle;\n",
       "    }\n",
       "\n",
       "    .dataframe tbody tr th {\n",
       "        vertical-align: top;\n",
       "    }\n",
       "\n",
       "    .dataframe thead th {\n",
       "        text-align: right;\n",
       "    }\n",
       "</style>\n",
       "<table border=\"1\" class=\"dataframe\">\n",
       "  <thead>\n",
       "    <tr style=\"text-align: right;\">\n",
       "      <th></th>\n",
       "      <th>ds</th>\n",
       "      <th>y</th>\n",
       "    </tr>\n",
       "  </thead>\n",
       "  <tbody>\n",
       "    <tr>\n",
       "      <th>0</th>\n",
       "      <td>1895-01-01</td>\n",
       "      <td>26.69</td>\n",
       "    </tr>\n",
       "    <tr>\n",
       "      <th>1</th>\n",
       "      <td>1895-02-01</td>\n",
       "      <td>26.60</td>\n",
       "    </tr>\n",
       "    <tr>\n",
       "      <th>2</th>\n",
       "      <td>1895-03-01</td>\n",
       "      <td>39.97</td>\n",
       "    </tr>\n",
       "    <tr>\n",
       "      <th>3</th>\n",
       "      <td>1895-04-01</td>\n",
       "      <td>52.90</td>\n",
       "    </tr>\n",
       "    <tr>\n",
       "      <th>4</th>\n",
       "      <td>1895-05-01</td>\n",
       "      <td>59.94</td>\n",
       "    </tr>\n",
       "    <tr>\n",
       "      <th>5</th>\n",
       "      <td>1895-06-01</td>\n",
       "      <td>67.80</td>\n",
       "    </tr>\n",
       "    <tr>\n",
       "      <th>6</th>\n",
       "      <td>1895-07-01</td>\n",
       "      <td>71.24</td>\n",
       "    </tr>\n",
       "    <tr>\n",
       "      <th>7</th>\n",
       "      <td>1895-08-01</td>\n",
       "      <td>71.62</td>\n",
       "    </tr>\n",
       "    <tr>\n",
       "      <th>8</th>\n",
       "      <td>1895-09-01</td>\n",
       "      <td>65.57</td>\n",
       "    </tr>\n",
       "    <tr>\n",
       "      <th>9</th>\n",
       "      <td>1895-10-01</td>\n",
       "      <td>50.85</td>\n",
       "    </tr>\n",
       "  </tbody>\n",
       "</table>\n",
       "</div>"
      ],
      "text/plain": [
       "          ds      y\n",
       "0 1895-01-01  26.69\n",
       "1 1895-02-01  26.60\n",
       "2 1895-03-01  39.97\n",
       "3 1895-04-01  52.90\n",
       "4 1895-05-01  59.94\n",
       "5 1895-06-01  67.80\n",
       "6 1895-07-01  71.24\n",
       "7 1895-08-01  71.62\n",
       "8 1895-09-01  65.57\n",
       "9 1895-10-01  50.85"
      ]
     },
     "execution_count": 47,
     "metadata": {},
     "output_type": "execute_result"
    }
   ],
   "source": [
    "data = pd.read_csv('https://datasets-humai.s3.amazonaws.com/datasets/monthly_temp.csv')\n",
    "data.ds = pd.to_datetime(data.ds)\n",
    "train = data.copy()\n",
    "train.head(10)"
   ]
  },
  {
   "cell_type": "code",
   "execution_count": 48,
   "metadata": {
    "colab": {
     "base_uri": "https://localhost:8080/",
     "height": 355
    },
    "executionInfo": {
     "elapsed": 12,
     "status": "ok",
     "timestamp": 1631051256312,
     "user": {
      "displayName": "Maria Frances Gaska",
      "photoUrl": "",
      "userId": "00507418052719867119"
     },
     "user_tz": 180
    },
    "id": "w8Rz6MBEJm7w",
    "outputId": "0f6ca614-347c-40bc-a737-79e21125efb0"
   },
   "outputs": [
    {
     "data": {
      "text/html": [
       "<div>\n",
       "<style scoped>\n",
       "    .dataframe tbody tr th:only-of-type {\n",
       "        vertical-align: middle;\n",
       "    }\n",
       "\n",
       "    .dataframe tbody tr th {\n",
       "        vertical-align: top;\n",
       "    }\n",
       "\n",
       "    .dataframe thead th {\n",
       "        text-align: right;\n",
       "    }\n",
       "</style>\n",
       "<table border=\"1\" class=\"dataframe\">\n",
       "  <thead>\n",
       "    <tr style=\"text-align: right;\">\n",
       "      <th></th>\n",
       "      <th>ds</th>\n",
       "      <th>y</th>\n",
       "    </tr>\n",
       "  </thead>\n",
       "  <tbody>\n",
       "    <tr>\n",
       "      <th>1509</th>\n",
       "      <td>2020-10-01</td>\n",
       "      <td>54.30</td>\n",
       "    </tr>\n",
       "    <tr>\n",
       "      <th>1510</th>\n",
       "      <td>2020-11-01</td>\n",
       "      <td>46.33</td>\n",
       "    </tr>\n",
       "    <tr>\n",
       "      <th>1511</th>\n",
       "      <td>2020-12-01</td>\n",
       "      <td>35.73</td>\n",
       "    </tr>\n",
       "    <tr>\n",
       "      <th>1512</th>\n",
       "      <td>2021-01-01</td>\n",
       "      <td>34.59</td>\n",
       "    </tr>\n",
       "    <tr>\n",
       "      <th>1513</th>\n",
       "      <td>2021-02-01</td>\n",
       "      <td>30.58</td>\n",
       "    </tr>\n",
       "    <tr>\n",
       "      <th>1514</th>\n",
       "      <td>2021-03-01</td>\n",
       "      <td>45.54</td>\n",
       "    </tr>\n",
       "    <tr>\n",
       "      <th>1515</th>\n",
       "      <td>2021-04-01</td>\n",
       "      <td>51.85</td>\n",
       "    </tr>\n",
       "    <tr>\n",
       "      <th>1516</th>\n",
       "      <td>2021-05-01</td>\n",
       "      <td>60.35</td>\n",
       "    </tr>\n",
       "    <tr>\n",
       "      <th>1517</th>\n",
       "      <td>2021-06-01</td>\n",
       "      <td>72.63</td>\n",
       "    </tr>\n",
       "    <tr>\n",
       "      <th>1518</th>\n",
       "      <td>2021-07-01</td>\n",
       "      <td>75.47</td>\n",
       "    </tr>\n",
       "  </tbody>\n",
       "</table>\n",
       "</div>"
      ],
      "text/plain": [
       "             ds      y\n",
       "1509 2020-10-01  54.30\n",
       "1510 2020-11-01  46.33\n",
       "1511 2020-12-01  35.73\n",
       "1512 2021-01-01  34.59\n",
       "1513 2021-02-01  30.58\n",
       "1514 2021-03-01  45.54\n",
       "1515 2021-04-01  51.85\n",
       "1516 2021-05-01  60.35\n",
       "1517 2021-06-01  72.63\n",
       "1518 2021-07-01  75.47"
      ]
     },
     "execution_count": 48,
     "metadata": {},
     "output_type": "execute_result"
    }
   ],
   "source": [
    "train.tail(10)"
   ]
  },
  {
   "cell_type": "code",
   "execution_count": 49,
   "metadata": {
    "executionInfo": {
     "elapsed": 11,
     "status": "ok",
     "timestamp": 1631051256313,
     "user": {
      "displayName": "Maria Frances Gaska",
      "photoUrl": "",
      "userId": "00507418052719867119"
     },
     "user_tz": 180
    },
    "id": "SgFyYRsejZEx"
   },
   "outputs": [],
   "source": [
    "# generamos un dataset futuro para hacer la prediccion, desde\n",
    "# 2021 a 2090\n",
    "futuro = pd.DataFrame({'ds': pd.to_datetime(\n",
    "    [x for x in range(2021, 2090)], format='%Y'), 'y': np.nan})"
   ]
  },
  {
   "cell_type": "code",
   "execution_count": 33,
   "metadata": {
    "colab": {
     "base_uri": "https://localhost:8080/",
     "height": 476
    },
    "executionInfo": {
     "elapsed": 6864,
     "status": "ok",
     "timestamp": 1631049924982,
     "user": {
      "displayName": "Maria Frances Gaska",
      "photoUrl": "",
      "userId": "00507418052719867119"
     },
     "user_tz": 180
    },
    "id": "2dpayoLEjZEy",
    "outputId": "1317b837-89c0-4ae8-a736-7141c7669e3a"
   },
   "outputs": [
    {
     "name": "stderr",
     "output_type": "stream",
     "text": [
      "INFO:fbprophet:Disabling weekly seasonality. Run prophet with weekly_seasonality=True to override this.\n",
      "INFO:fbprophet:Disabling daily seasonality. Run prophet with daily_seasonality=True to override this.\n"
     ]
    },
    {
     "data": {
      "image/png": "[encoded data removed]",
      "text/plain": [
       "<Figure size 648x432 with 2 Axes>"
      ]
     },
     "metadata": {},
     "output_type": "display_data"
    }
   ],
   "source": [
    "# instanciamos modelo\n",
    "m = Prophet()\n",
    "\n",
    "# fiteamos el modelo en TRAIN\n",
    "m.fit(train)\n",
    "\n",
    "# predecimos en futuro\n",
    "forecast = m.predict(futuro)\n",
    "\n",
    "# para graficar, hacemos predict tambien en train\n",
    "forecast_train = m.predict(train)\n",
    "\n",
    "# #unimos los dos DFs para visualizar las dos partes, train-prediccion\n",
    "forecast_final = pd.concat([forecast_train, forecast])\n",
    "\n",
    "# #plot componentes del forecast\n",
    "m.plot_components(forecast_train);"
   ]
  },
  {
   "cell_type": "code",
   "execution_count": 34,
   "metadata": {
    "executionInfo": {
     "elapsed": 293,
     "status": "ok",
     "timestamp": 1631049934161,
     "user": {
      "displayName": "Maria Frances Gaska",
      "photoUrl": "",
      "userId": "00507418052719867119"
     },
     "user_tz": 180
    },
    "id": "Srg--TIGjZEz"
   },
   "outputs": [],
   "source": [
    "# vemos como prophet captura la estacionalidad anual y la tendencia creciente."
   ]
  },
  {
   "cell_type": "code",
   "execution_count": 50,
   "metadata": {
    "colab": {
     "base_uri": "https://localhost:8080/",
     "height": 441
    },
    "executionInfo": {
     "elapsed": 605,
     "status": "ok",
     "timestamp": 1631051413849,
     "user": {
      "displayName": "Maria Frances Gaska",
      "photoUrl": "",
      "userId": "00507418052719867119"
     },
     "user_tz": 180
    },
    "id": "g3zODTKtjZE2",
    "outputId": "f6dd578b-8143-4c37-b8e4-06dd336921c2"
   },
   "outputs": [
    {
     "data": {
      "image/png": "[encoded data removed]",
      "text/plain": [
       "<Figure size 720x432 with 1 Axes>"
      ]
     },
     "metadata": {},
     "output_type": "display_data"
    }
   ],
   "source": [
    "m.plot(forecast_final[forecast_final['ds'].dt.month==1])\n",
    "plt.show()"
   ]
  },
  {
   "cell_type": "code",
   "execution_count": 42,
   "metadata": {
    "colab": {
     "base_uri": "https://localhost:8080/"
    },
    "executionInfo": {
     "elapsed": 80621,
     "status": "ok",
     "timestamp": 1631050193031,
     "user": {
      "displayName": "Maria Frances Gaska",
      "photoUrl": "",
      "userId": "00507418052719867119"
     },
     "user_tz": 180
    },
    "id": "k8DJg01HjZE4",
    "outputId": "c7e863d7-91fc-4461-e3cc-9350c4b0a37e"
   },
   "outputs": [
    {
     "name": "stderr",
     "output_type": "stream",
     "text": [
      "INFO:fbprophet:Disabling weekly seasonality. Run prophet with weekly_seasonality=True to override this.\n",
      "INFO:fbprophet:Disabling daily seasonality. Run prophet with daily_seasonality=True to override this.\n"
     ]
    },
    {
     "name": "stdout",
     "output_type": "stream",
     "text": [
      "1\n"
     ]
    },
    {
     "name": "stderr",
     "output_type": "stream",
     "text": [
      "INFO:fbprophet:Making 3 forecasts with cutoffs between 1996-07-07 00:00:00 and 2016-07-02 00:00:00\n",
      "INFO:fbprophet:Applying in parallel with <concurrent.futures.process.ProcessPoolExecutor object at 0x7f665f300c10>\n",
      "INFO:fbprophet:Disabling weekly seasonality. Run prophet with weekly_seasonality=True to override this.\n",
      "INFO:fbprophet:Disabling daily seasonality. Run prophet with daily_seasonality=True to override this.\n"
     ]
    },
    {
     "name": "stdout",
     "output_type": "stream",
     "text": [
      "2\n"
     ]
    },
    {
     "name": "stderr",
     "output_type": "stream",
     "text": [
      "INFO:fbprophet:Making 3 forecasts with cutoffs between 1996-07-07 00:00:00 and 2016-07-02 00:00:00\n",
      "INFO:fbprophet:Applying in parallel with <concurrent.futures.process.ProcessPoolExecutor object at 0x7f6659cf5950>\n",
      "INFO:fbprophet:Disabling weekly seasonality. Run prophet with weekly_seasonality=True to override this.\n",
      "INFO:fbprophet:Disabling daily seasonality. Run prophet with daily_seasonality=True to override this.\n"
     ]
    },
    {
     "name": "stdout",
     "output_type": "stream",
     "text": [
      "3\n"
     ]
    },
    {
     "name": "stderr",
     "output_type": "stream",
     "text": [
      "INFO:fbprophet:Making 3 forecasts with cutoffs between 1996-07-07 00:00:00 and 2016-07-02 00:00:00\n",
      "INFO:fbprophet:Applying in parallel with <concurrent.futures.process.ProcessPoolExecutor object at 0x7f665f134550>\n",
      "INFO:fbprophet:Disabling weekly seasonality. Run prophet with weekly_seasonality=True to override this.\n",
      "INFO:fbprophet:Disabling daily seasonality. Run prophet with daily_seasonality=True to override this.\n"
     ]
    },
    {
     "name": "stdout",
     "output_type": "stream",
     "text": [
      "4\n"
     ]
    },
    {
     "name": "stderr",
     "output_type": "stream",
     "text": [
      "INFO:fbprophet:Making 3 forecasts with cutoffs between 1996-07-07 00:00:00 and 2016-07-02 00:00:00\n",
      "INFO:fbprophet:Applying in parallel with <concurrent.futures.process.ProcessPoolExecutor object at 0x7f6659cf5950>\n",
      "INFO:fbprophet:Disabling weekly seasonality. Run prophet with weekly_seasonality=True to override this.\n",
      "INFO:fbprophet:Disabling daily seasonality. Run prophet with daily_seasonality=True to override this.\n"
     ]
    },
    {
     "name": "stdout",
     "output_type": "stream",
     "text": [
      "5\n"
     ]
    },
    {
     "name": "stderr",
     "output_type": "stream",
     "text": [
      "INFO:fbprophet:Making 3 forecasts with cutoffs between 1996-07-07 00:00:00 and 2016-07-02 00:00:00\n",
      "INFO:fbprophet:Applying in parallel with <concurrent.futures.process.ProcessPoolExecutor object at 0x7f66599febd0>\n",
      "INFO:fbprophet:Disabling weekly seasonality. Run prophet with weekly_seasonality=True to override this.\n",
      "INFO:fbprophet:Disabling daily seasonality. Run prophet with daily_seasonality=True to override this.\n"
     ]
    },
    {
     "name": "stdout",
     "output_type": "stream",
     "text": [
      "6\n"
     ]
    },
    {
     "name": "stderr",
     "output_type": "stream",
     "text": [
      "INFO:fbprophet:Making 3 forecasts with cutoffs between 1996-07-07 00:00:00 and 2016-07-02 00:00:00\n",
      "INFO:fbprophet:Applying in parallel with <concurrent.futures.process.ProcessPoolExecutor object at 0x7f6659cde050>\n",
      "INFO:fbprophet:Disabling weekly seasonality. Run prophet with weekly_seasonality=True to override this.\n",
      "INFO:fbprophet:Disabling daily seasonality. Run prophet with daily_seasonality=True to override this.\n"
     ]
    },
    {
     "name": "stdout",
     "output_type": "stream",
     "text": [
      "7\n"
     ]
    },
    {
     "name": "stderr",
     "output_type": "stream",
     "text": [
      "INFO:fbprophet:Making 3 forecasts with cutoffs between 1996-07-07 00:00:00 and 2016-07-02 00:00:00\n",
      "INFO:fbprophet:Applying in parallel with <concurrent.futures.process.ProcessPoolExecutor object at 0x7f6659726bd0>\n",
      "INFO:fbprophet:Disabling weekly seasonality. Run prophet with weekly_seasonality=True to override this.\n",
      "INFO:fbprophet:Disabling daily seasonality. Run prophet with daily_seasonality=True to override this.\n"
     ]
    },
    {
     "name": "stdout",
     "output_type": "stream",
     "text": [
      "8\n"
     ]
    },
    {
     "name": "stderr",
     "output_type": "stream",
     "text": [
      "INFO:fbprophet:Making 3 forecasts with cutoffs between 1996-07-07 00:00:00 and 2016-07-02 00:00:00\n",
      "INFO:fbprophet:Applying in parallel with <concurrent.futures.process.ProcessPoolExecutor object at 0x7f6659d3ed90>\n",
      "INFO:fbprophet:Disabling weekly seasonality. Run prophet with weekly_seasonality=True to override this.\n",
      "INFO:fbprophet:Disabling daily seasonality. Run prophet with daily_seasonality=True to override this.\n"
     ]
    },
    {
     "name": "stdout",
     "output_type": "stream",
     "text": [
      "9\n"
     ]
    },
    {
     "name": "stderr",
     "output_type": "stream",
     "text": [
      "INFO:fbprophet:Making 3 forecasts with cutoffs between 1996-07-07 00:00:00 and 2016-07-02 00:00:00\n",
      "INFO:fbprophet:Applying in parallel with <concurrent.futures.process.ProcessPoolExecutor object at 0x7f6659748b10>\n",
      "INFO:fbprophet:Disabling weekly seasonality. Run prophet with weekly_seasonality=True to override this.\n",
      "INFO:fbprophet:Disabling daily seasonality. Run prophet with daily_seasonality=True to override this.\n"
     ]
    },
    {
     "name": "stdout",
     "output_type": "stream",
     "text": [
      "10\n"
     ]
    },
    {
     "name": "stderr",
     "output_type": "stream",
     "text": [
      "INFO:fbprophet:Making 3 forecasts with cutoffs between 1996-07-07 00:00:00 and 2016-07-02 00:00:00\n",
      "INFO:fbprophet:Applying in parallel with <concurrent.futures.process.ProcessPoolExecutor object at 0x7f66598e4e10>\n",
      "INFO:fbprophet:Disabling weekly seasonality. Run prophet with weekly_seasonality=True to override this.\n",
      "INFO:fbprophet:Disabling daily seasonality. Run prophet with daily_seasonality=True to override this.\n"
     ]
    },
    {
     "name": "stdout",
     "output_type": "stream",
     "text": [
      "11\n"
     ]
    },
    {
     "name": "stderr",
     "output_type": "stream",
     "text": [
      "INFO:fbprophet:Making 3 forecasts with cutoffs between 1996-07-07 00:00:00 and 2016-07-02 00:00:00\n",
      "INFO:fbprophet:Applying in parallel with <concurrent.futures.process.ProcessPoolExecutor object at 0x7f665f297710>\n",
      "INFO:fbprophet:Disabling weekly seasonality. Run prophet with weekly_seasonality=True to override this.\n",
      "INFO:fbprophet:Disabling daily seasonality. Run prophet with daily_seasonality=True to override this.\n"
     ]
    },
    {
     "name": "stdout",
     "output_type": "stream",
     "text": [
      "12\n"
     ]
    },
    {
     "name": "stderr",
     "output_type": "stream",
     "text": [
      "INFO:fbprophet:Making 3 forecasts with cutoffs between 1996-07-07 00:00:00 and 2016-07-02 00:00:00\n",
      "INFO:fbprophet:Applying in parallel with <concurrent.futures.process.ProcessPoolExecutor object at 0x7f66598e4a90>\n"
     ]
    },
    {
     "name": "stdout",
     "output_type": "stream",
     "text": [
      "    changepoint_prior_scale  seasonality_prior_scale seasonality_mode       mae\n",
      "0                     0.001                    10.00         additive  1.593933\n",
      "1                     0.001                    10.00   multiplicative  1.641191\n",
      "2                     0.001                     0.01         additive  1.586797\n",
      "3                     0.001                     0.01   multiplicative  1.619352\n",
      "4                     0.001                     1.00         additive  1.602075\n",
      "5                     0.001                     1.00   multiplicative  1.636612\n",
      "6                     0.050                    10.00         additive  1.595910\n",
      "7                     0.050                    10.00   multiplicative  1.633363\n",
      "8                     0.050                     0.01         additive  1.572045\n",
      "9                     0.050                     0.01   multiplicative  1.558590\n",
      "10                    0.050                     1.00         additive  1.598904\n",
      "11                    0.050                     1.00   multiplicative  1.630582\n",
      "{'changepoint_prior_scale': 0.05, 'seasonality_prior_scale': 0.01, 'seasonality_mode': 'multiplicative'}\n"
     ]
    }
   ],
   "source": [
    "# podemos pasar una grilla de hiperparámetros y probar con rolloing cross validation\n",
    "# el set que minimiza el error. En este caso el MAE. Luego repetimos la prediccion\n",
    "# con el mejor set de hiperparámetros.\n",
    "\n",
    "# nombrar hiperparametros mas importantes, changepoint_prior_scale y changepoint range. como funcionan.\n",
    "# prophet tambine puede recibir regresores de una matriz de datos.\n",
    "# fechas de feriados para argentina y otros paises, etc.\n",
    "\n",
    "\n",
    "param_grid = {\n",
    "    'changepoint_prior_scale': [0.001, 0.05],  # default 0.05\n",
    "    'seasonality_prior_scale': [10.0, 0.01, 1.0],  # default 10\n",
    "    'seasonality_mode': [\"additive\", \"multiplicative\"]}\n",
    "\n",
    "\n",
    "# Generate all combinations of parameters\n",
    "all_params = [dict(zip(param_grid.keys(), v))\n",
    "              for v in itertools.product(*param_grid.values())]\n",
    "maes = []  # Store the MAEs for each params here\n",
    "counter = 1\n",
    "# Use cross validation to evaluate all parameters\n",
    "for params in all_params:\n",
    "    m = Prophet(**params)\n",
    "    print(counter)\n",
    "    counter = counter + 1\n",
    "\n",
    "    m.fit(train)  # Fit model with given params\n",
    "\n",
    "    initial_forecast_date = '1980-01-01'\n",
    "    initial = str(\n",
    "        abs(data[data.ds > initial_forecast_date].shape[0] - data.shape[0])) + ' days'\n",
    "\n",
    "# tendremos 100 años de entrenamiento fijos\n",
    "# luego haremos predicciones cada 10 años de 5 años de ventana de prediccion\n",
    "# sucesivamente hasta que los datos se agoten.\n",
    "\n",
    "    df_cv = cross_validation(\n",
    "        m, initial='36500 days', period='3650 days', horizon='1825 days', parallel=\"processes\")\n",
    "    df_p = performance_metrics(df_cv, rolling_window=5)\n",
    "    # rmses.append(df_p['rmse'].values[0])\n",
    "    maes.append(df_p['mae'].values[0])  # USAMOS EL MAE\n",
    "\n",
    "\n",
    "tuning_results = pd.DataFrame(all_params)\n",
    "\n",
    "tuning_results['mae'] = maes\n",
    "print(tuning_results)\n",
    "best_params = all_params[np.argmin(maes)]\n",
    "print(best_params)"
   ]
  },
  {
   "cell_type": "code",
   "execution_count": 44,
   "metadata": {
    "colab": {
     "base_uri": "https://localhost:8080/"
    },
    "executionInfo": {
     "elapsed": 494,
     "status": "ok",
     "timestamp": 1631050212019,
     "user": {
      "displayName": "Maria Frances Gaska",
      "photoUrl": "",
      "userId": "00507418052719867119"
     },
     "user_tz": 180
    },
    "id": "lByPU3lojZE5",
    "outputId": "534368a1-8ed8-442e-f086-5b38d52b3e41"
   },
   "outputs": [
    {
     "data": {
      "text/plain": [
       "{'changepoint_prior_scale': 0.05,\n",
       " 'seasonality_mode': 'multiplicative',\n",
       " 'seasonality_prior_scale': 0.01}"
      ]
     },
     "execution_count": 44,
     "metadata": {},
     "output_type": "execute_result"
    }
   ],
   "source": [
    "# el mejor set de hiperparámetros\n",
    "best_params"
   ]
  },
  {
   "cell_type": "code",
   "execution_count": null,
   "metadata": {
    "id": "jKgzubfCKynO"
   },
   "outputs": [],
   "source": []
  }
 ],
 "metadata": {
  "colab": {
   "collapsed_sections": [],
   "name": "Prophet.ipynb",
   "provenance": []
  },
  "environment": {
   "name": "pytorch-gpu.1-8.m71",
   "type": "gcloud",
   "uri": "gcr.io/deeplearning-platform-release/pytorch-gpu.1-8:m71"
  },
  "jupytext": {
   "encoding": "# -*- coding: utf-8 -*-"
  },
  "kernelspec": {
   "display_name": "Python 3",
   "language": "python",
   "name": "python3"
  },
  "language_info": {
   "codemirror_mode": {
    "name": "ipython",
    "version": 3
   },
   "file_extension": ".py",
   "mimetype": "text/x-python",
   "name": "python",
   "nbconvert_exporter": "python",
   "pygments_lexer": "ipython3",
   "version": "3.7.10"
  }
 },
 "nbformat": 4,
 "nbformat_minor": 4
}
