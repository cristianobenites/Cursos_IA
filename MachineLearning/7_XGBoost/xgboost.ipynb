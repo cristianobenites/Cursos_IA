{
 "cells": [
  {
   "cell_type": "markdown",
   "metadata": {
    "id": "jCN0lBRZhYMF"
   },
   "source": [
    "<a href=\"https://colab.research.google.com/github/institutohumai/cursos-python/blob/master/MachineLearning/7_XGBoost/xgboost.ipynb\"> <img src='https://colab.research.google.com/assets/colab-badge.svg' /> </a>\n",
    "<div align=\"center\"> Recordá abrir en una nueva pestaña </div>"
   ]
  },
  {
   "cell_type": "markdown",
   "metadata": {},
   "source": [
    "# XGBoost"
   ]
  },
  {
   "cell_type": "code",
   "execution_count": null,
   "metadata": {
    "colab": {
     "base_uri": "https://localhost:8080/"
    },
    "id": "dRLlHyPqJlNh",
    "outputId": "3e6951e8-c677-4841-8ff8-03e7dae9f847"
   },
   "outputs": [
    {
     "name": "stdout",
     "output_type": "stream",
     "text": [
      "Requirement already satisfied: scikit-learn in /usr/local/lib/python3.7/dist-packages (0.22.2.post1)\n",
      "Collecting scikit-learn\n",
      "  Downloading scikit_learn-0.24.2-cp37-cp37m-manylinux2010_x86_64.whl (22.3 MB)\n",
      "\u001b[K     |████████████████████████████████| 22.3 MB 1.2 MB/s \n",
      "\u001b[?25hRequirement already satisfied: numpy>=1.13.3 in /usr/local/lib/python3.7/dist-packages (from scikit-learn) (1.19.5)\n",
      "Requirement already satisfied: joblib>=0.11 in /usr/local/lib/python3.7/dist-packages (from scikit-learn) (1.0.1)\n",
      "Requirement already satisfied: scipy>=0.19.1 in /usr/local/lib/python3.7/dist-packages (from scikit-learn) (1.4.1)\n",
      "Collecting threadpoolctl>=2.0.0\n",
      "  Downloading threadpoolctl-2.2.0-py3-none-any.whl (12 kB)\n",
      "Installing collected packages: threadpoolctl, scikit-learn\n",
      "  Attempting uninstall: scikit-learn\n",
      "    Found existing installation: scikit-learn 0.22.2.post1\n",
      "    Uninstalling scikit-learn-0.22.2.post1:\n",
      "      Successfully uninstalled scikit-learn-0.22.2.post1\n",
      "Successfully installed scikit-learn-0.24.2 threadpoolctl-2.2.0\n"
     ]
    }
   ],
   "source": [
    "!pip3 install -U scikit-learn --upgrade # necesitamos sklearn >= 0.24"
   ]
  },
  {
   "cell_type": "code",
   "execution_count": null,
   "metadata": {
    "colab": {
     "base_uri": "https://localhost:8080/"
    },
    "id": "VhxlN8cLIc0O",
    "outputId": "7cbf1f53-21be-4955-8bb1-29d1d4a5043e"
   },
   "outputs": [
    {
     "name": "stdout",
     "output_type": "stream",
     "text": [
      "Requirement already satisfied: xgboost in /usr/local/lib/python3.7/dist-packages (0.90)\n",
      "Requirement already satisfied: numpy in /usr/local/lib/python3.7/dist-packages (from xgboost) (1.19.5)\n",
      "Requirement already satisfied: scipy in /usr/local/lib/python3.7/dist-packages (from xgboost) (1.4.1)\n"
     ]
    }
   ],
   "source": [
    "!pip install xgboost"
   ]
  },
  {
   "cell_type": "code",
   "execution_count": null,
   "metadata": {
    "colab": {
     "base_uri": "https://localhost:8080/"
    },
    "id": "c9c_UtQAIc0S",
    "outputId": "c97946ab-e70a-48b4-af27-9b3cdad7aae8"
   },
   "outputs": [
    {
     "name": "stdout",
     "output_type": "stream",
     "text": [
      "Requirement already satisfied: lightgbm in /usr/local/lib/python3.7/dist-packages (2.2.3)\n",
      "Requirement already satisfied: numpy in /usr/local/lib/python3.7/dist-packages (from lightgbm) (1.19.5)\n",
      "Requirement already satisfied: scipy in /usr/local/lib/python3.7/dist-packages (from lightgbm) (1.4.1)\n",
      "Requirement already satisfied: scikit-learn in /usr/local/lib/python3.7/dist-packages (from lightgbm) (0.24.2)\n",
      "Requirement already satisfied: joblib>=0.11 in /usr/local/lib/python3.7/dist-packages (from scikit-learn->lightgbm) (1.0.1)\n",
      "Requirement already satisfied: threadpoolctl>=2.0.0 in /usr/local/lib/python3.7/dist-packages (from scikit-learn->lightgbm) (2.2.0)\n"
     ]
    }
   ],
   "source": [
    "!pip install lightgbm"
   ]
  },
  {
   "cell_type": "code",
   "execution_count": null,
   "metadata": {
    "colab": {
     "base_uri": "https://localhost:8080/"
    },
    "id": "5dbR4bkDIc0T",
    "outputId": "5bb9abe9-dffd-4222-ac03-00a950a58ba6"
   },
   "outputs": [
    {
     "name": "stdout",
     "output_type": "stream",
     "text": [
      "Requirement already satisfied: catboost in /usr/local/lib/python3.7/dist-packages (0.26.1)\n",
      "Requirement already satisfied: scipy in /usr/local/lib/python3.7/dist-packages (from catboost) (1.4.1)\n",
      "Requirement already satisfied: six in /usr/local/lib/python3.7/dist-packages (from catboost) (1.15.0)\n",
      "Requirement already satisfied: graphviz in /usr/local/lib/python3.7/dist-packages (from catboost) (0.10.1)\n",
      "Requirement already satisfied: pandas>=0.24.0 in /usr/local/lib/python3.7/dist-packages (from catboost) (1.1.5)\n",
      "Requirement already satisfied: numpy>=1.16.0 in /usr/local/lib/python3.7/dist-packages (from catboost) (1.19.5)\n",
      "Requirement already satisfied: matplotlib in /usr/local/lib/python3.7/dist-packages (from catboost) (3.2.2)\n",
      "Requirement already satisfied: plotly in /usr/local/lib/python3.7/dist-packages (from catboost) (4.4.1)\n",
      "Requirement already satisfied: pytz>=2017.2 in /usr/local/lib/python3.7/dist-packages (from pandas>=0.24.0->catboost) (2018.9)\n",
      "Requirement already satisfied: python-dateutil>=2.7.3 in /usr/local/lib/python3.7/dist-packages (from pandas>=0.24.0->catboost) (2.8.1)\n",
      "Requirement already satisfied: pyparsing!=2.0.4,!=2.1.2,!=2.1.6,>=2.0.1 in /usr/local/lib/python3.7/dist-packages (from matplotlib->catboost) (2.4.7)\n",
      "Requirement already satisfied: kiwisolver>=1.0.1 in /usr/local/lib/python3.7/dist-packages (from matplotlib->catboost) (1.3.1)\n",
      "Requirement already satisfied: cycler>=0.10 in /usr/local/lib/python3.7/dist-packages (from matplotlib->catboost) (0.10.0)\n",
      "Requirement already satisfied: retrying>=1.3.3 in /usr/local/lib/python3.7/dist-packages (from plotly->catboost) (1.3.3)\n"
     ]
    }
   ],
   "source": [
    "!pip install catboost"
   ]
  },
  {
   "cell_type": "code",
   "execution_count": null,
   "metadata": {
    "colab": {
     "base_uri": "https://localhost:8080/"
    },
    "id": "SaOUCem0Ic0U",
    "outputId": "bd9cc2ac-6cfc-4702-94ef-7882b629f570"
   },
   "outputs": [
    {
     "name": "stdout",
     "output_type": "stream",
     "text": [
      "Requirement already satisfied: sweetviz in /usr/local/lib/python3.7/dist-packages (2.1.3)\n",
      "Requirement already satisfied: matplotlib>=3.1.3 in /usr/local/lib/python3.7/dist-packages (from sweetviz) (3.2.2)\n",
      "Requirement already satisfied: jinja2>=2.11.1 in /usr/local/lib/python3.7/dist-packages (from sweetviz) (2.11.3)\n",
      "Requirement already satisfied: importlib-resources>=1.2.0 in /usr/local/lib/python3.7/dist-packages (from sweetviz) (5.2.0)\n",
      "Requirement already satisfied: pandas!=1.0.0,!=1.0.1,!=1.0.2,>=0.25.3 in /usr/local/lib/python3.7/dist-packages (from sweetviz) (1.1.5)\n",
      "Requirement already satisfied: numpy>=1.16.0 in /usr/local/lib/python3.7/dist-packages (from sweetviz) (1.19.5)\n",
      "Requirement already satisfied: scipy>=1.3.2 in /usr/local/lib/python3.7/dist-packages (from sweetviz) (1.4.1)\n",
      "Requirement already satisfied: tqdm>=4.43.0 in /usr/local/lib/python3.7/dist-packages (from sweetviz) (4.62.0)\n",
      "Requirement already satisfied: zipp>=3.1.0 in /usr/local/lib/python3.7/dist-packages (from importlib-resources>=1.2.0->sweetviz) (3.5.0)\n",
      "Requirement already satisfied: MarkupSafe>=0.23 in /usr/local/lib/python3.7/dist-packages (from jinja2>=2.11.1->sweetviz) (2.0.1)\n",
      "Requirement already satisfied: python-dateutil>=2.1 in /usr/local/lib/python3.7/dist-packages (from matplotlib>=3.1.3->sweetviz) (2.8.1)\n",
      "Requirement already satisfied: cycler>=0.10 in /usr/local/lib/python3.7/dist-packages (from matplotlib>=3.1.3->sweetviz) (0.10.0)\n",
      "Requirement already satisfied: kiwisolver>=1.0.1 in /usr/local/lib/python3.7/dist-packages (from matplotlib>=3.1.3->sweetviz) (1.3.1)\n",
      "Requirement already satisfied: pyparsing!=2.0.4,!=2.1.2,!=2.1.6,>=2.0.1 in /usr/local/lib/python3.7/dist-packages (from matplotlib>=3.1.3->sweetviz) (2.4.7)\n",
      "Requirement already satisfied: six in /usr/local/lib/python3.7/dist-packages (from cycler>=0.10->matplotlib>=3.1.3->sweetviz) (1.15.0)\n",
      "Requirement already satisfied: pytz>=2017.2 in /usr/local/lib/python3.7/dist-packages (from pandas!=1.0.0,!=1.0.1,!=1.0.2,>=0.25.3->sweetviz) (2018.9)\n"
     ]
    }
   ],
   "source": [
    "!pip install sweetviz"
   ]
  },
  {
   "cell_type": "code",
   "execution_count": null,
   "metadata": {
    "colab": {
     "base_uri": "https://localhost:8080/"
    },
    "id": "QZ4siZguIc0W",
    "outputId": "8e10a92a-5e35-46fc-eec9-0561e05fd37a"
   },
   "outputs": [
    {
     "name": "stdout",
     "output_type": "stream",
     "text": [
      "Requirement already satisfied: ipywidgets in /usr/local/lib/python3.7/dist-packages (7.6.3)\n",
      "Requirement already satisfied: ipython>=4.0.0 in /usr/local/lib/python3.7/dist-packages (from ipywidgets) (5.5.0)\n",
      "Requirement already satisfied: ipykernel>=4.5.1 in /usr/local/lib/python3.7/dist-packages (from ipywidgets) (4.10.1)\n",
      "Requirement already satisfied: widgetsnbextension~=3.5.0 in /usr/local/lib/python3.7/dist-packages (from ipywidgets) (3.5.1)\n",
      "Requirement already satisfied: nbformat>=4.2.0 in /usr/local/lib/python3.7/dist-packages (from ipywidgets) (5.1.3)\n",
      "Requirement already satisfied: traitlets>=4.3.1 in /usr/local/lib/python3.7/dist-packages (from ipywidgets) (5.0.5)\n",
      "Requirement already satisfied: jupyterlab-widgets>=1.0.0 in /usr/local/lib/python3.7/dist-packages (from ipywidgets) (1.0.0)\n",
      "Requirement already satisfied: tornado>=4.0 in /usr/local/lib/python3.7/dist-packages (from ipykernel>=4.5.1->ipywidgets) (5.1.1)\n",
      "Requirement already satisfied: jupyter-client in /usr/local/lib/python3.7/dist-packages (from ipykernel>=4.5.1->ipywidgets) (5.3.5)\n",
      "Requirement already satisfied: pickleshare in /usr/local/lib/python3.7/dist-packages (from ipython>=4.0.0->ipywidgets) (0.7.5)\n",
      "Requirement already satisfied: simplegeneric>0.8 in /usr/local/lib/python3.7/dist-packages (from ipython>=4.0.0->ipywidgets) (0.8.1)\n",
      "Requirement already satisfied: prompt-toolkit<2.0.0,>=1.0.4 in /usr/local/lib/python3.7/dist-packages (from ipython>=4.0.0->ipywidgets) (1.0.18)\n",
      "Requirement already satisfied: pygments in /usr/local/lib/python3.7/dist-packages (from ipython>=4.0.0->ipywidgets) (2.6.1)\n",
      "Requirement already satisfied: setuptools>=18.5 in /usr/local/lib/python3.7/dist-packages (from ipython>=4.0.0->ipywidgets) (57.2.0)\n",
      "Requirement already satisfied: decorator in /usr/local/lib/python3.7/dist-packages (from ipython>=4.0.0->ipywidgets) (4.4.2)\n",
      "Requirement already satisfied: pexpect in /usr/local/lib/python3.7/dist-packages (from ipython>=4.0.0->ipywidgets) (4.8.0)\n",
      "Requirement already satisfied: ipython-genutils in /usr/local/lib/python3.7/dist-packages (from nbformat>=4.2.0->ipywidgets) (0.2.0)\n",
      "Requirement already satisfied: jsonschema!=2.5.0,>=2.4 in /usr/local/lib/python3.7/dist-packages (from nbformat>=4.2.0->ipywidgets) (2.6.0)\n",
      "Requirement already satisfied: jupyter-core in /usr/local/lib/python3.7/dist-packages (from nbformat>=4.2.0->ipywidgets) (4.7.1)\n",
      "Requirement already satisfied: wcwidth in /usr/local/lib/python3.7/dist-packages (from prompt-toolkit<2.0.0,>=1.0.4->ipython>=4.0.0->ipywidgets) (0.2.5)\n",
      "Requirement already satisfied: six>=1.9.0 in /usr/local/lib/python3.7/dist-packages (from prompt-toolkit<2.0.0,>=1.0.4->ipython>=4.0.0->ipywidgets) (1.15.0)\n",
      "Requirement already satisfied: notebook>=4.4.1 in /usr/local/lib/python3.7/dist-packages (from widgetsnbextension~=3.5.0->ipywidgets) (5.3.1)\n",
      "Requirement already satisfied: terminado>=0.8.1 in /usr/local/lib/python3.7/dist-packages (from notebook>=4.4.1->widgetsnbextension~=3.5.0->ipywidgets) (0.10.1)\n",
      "Requirement already satisfied: Send2Trash in /usr/local/lib/python3.7/dist-packages (from notebook>=4.4.1->widgetsnbextension~=3.5.0->ipywidgets) (1.7.1)\n",
      "Requirement already satisfied: nbconvert in /usr/local/lib/python3.7/dist-packages (from notebook>=4.4.1->widgetsnbextension~=3.5.0->ipywidgets) (5.6.1)\n",
      "Requirement already satisfied: jinja2 in /usr/local/lib/python3.7/dist-packages (from notebook>=4.4.1->widgetsnbextension~=3.5.0->ipywidgets) (2.11.3)\n",
      "Requirement already satisfied: pyzmq>=13 in /usr/local/lib/python3.7/dist-packages (from jupyter-client->ipykernel>=4.5.1->ipywidgets) (22.1.0)\n",
      "Requirement already satisfied: python-dateutil>=2.1 in /usr/local/lib/python3.7/dist-packages (from jupyter-client->ipykernel>=4.5.1->ipywidgets) (2.8.1)\n",
      "Requirement already satisfied: ptyprocess in /usr/local/lib/python3.7/dist-packages (from terminado>=0.8.1->notebook>=4.4.1->widgetsnbextension~=3.5.0->ipywidgets) (0.7.0)\n",
      "Requirement already satisfied: MarkupSafe>=0.23 in /usr/local/lib/python3.7/dist-packages (from jinja2->notebook>=4.4.1->widgetsnbextension~=3.5.0->ipywidgets) (2.0.1)\n",
      "Requirement already satisfied: testpath in /usr/local/lib/python3.7/dist-packages (from nbconvert->notebook>=4.4.1->widgetsnbextension~=3.5.0->ipywidgets) (0.5.0)\n",
      "Requirement already satisfied: pandocfilters>=1.4.1 in /usr/local/lib/python3.7/dist-packages (from nbconvert->notebook>=4.4.1->widgetsnbextension~=3.5.0->ipywidgets) (1.4.3)\n",
      "Requirement already satisfied: bleach in /usr/local/lib/python3.7/dist-packages (from nbconvert->notebook>=4.4.1->widgetsnbextension~=3.5.0->ipywidgets) (3.3.0)\n",
      "Requirement already satisfied: defusedxml in /usr/local/lib/python3.7/dist-packages (from nbconvert->notebook>=4.4.1->widgetsnbextension~=3.5.0->ipywidgets) (0.7.1)\n",
      "Requirement already satisfied: mistune<2,>=0.8.1 in /usr/local/lib/python3.7/dist-packages (from nbconvert->notebook>=4.4.1->widgetsnbextension~=3.5.0->ipywidgets) (0.8.4)\n",
      "Requirement already satisfied: entrypoints>=0.2.2 in /usr/local/lib/python3.7/dist-packages (from nbconvert->notebook>=4.4.1->widgetsnbextension~=3.5.0->ipywidgets) (0.3)\n",
      "Requirement already satisfied: packaging in /usr/local/lib/python3.7/dist-packages (from bleach->nbconvert->notebook>=4.4.1->widgetsnbextension~=3.5.0->ipywidgets) (21.0)\n",
      "Requirement already satisfied: webencodings in /usr/local/lib/python3.7/dist-packages (from bleach->nbconvert->notebook>=4.4.1->widgetsnbextension~=3.5.0->ipywidgets) (0.5.1)\n",
      "Requirement already satisfied: pyparsing>=2.0.2 in /usr/local/lib/python3.7/dist-packages (from packaging->bleach->nbconvert->notebook>=4.4.1->widgetsnbextension~=3.5.0->ipywidgets) (2.4.7)\n"
     ]
    }
   ],
   "source": [
    "!pip install ipywidgets # puede ser necesario si lo corren local"
   ]
  },
  {
   "cell_type": "code",
   "execution_count": null,
   "metadata": {
    "colab": {
     "base_uri": "https://localhost:8080/"
    },
    "id": "MZ0meT4VIc0W",
    "outputId": "d94f4c22-916d-4852-95f4-bbadc964b458"
   },
   "outputs": [
    {
     "name": "stdout",
     "output_type": "stream",
     "text": [
      "Requirement already satisfied: scikit-optimize in /usr/local/lib/python3.7/dist-packages (0.8.1)\n",
      "Requirement already satisfied: numpy>=1.13.3 in /usr/local/lib/python3.7/dist-packages (from scikit-optimize) (1.19.5)\n",
      "Requirement already satisfied: pyaml>=16.9 in /usr/local/lib/python3.7/dist-packages (from scikit-optimize) (21.8.3)\n",
      "Requirement already satisfied: scipy>=0.19.1 in /usr/local/lib/python3.7/dist-packages (from scikit-optimize) (1.4.1)\n",
      "Requirement already satisfied: joblib>=0.11 in /usr/local/lib/python3.7/dist-packages (from scikit-optimize) (1.0.1)\n",
      "Requirement already satisfied: scikit-learn>=0.20.0 in /usr/local/lib/python3.7/dist-packages (from scikit-optimize) (0.24.2)\n",
      "Requirement already satisfied: PyYAML in /usr/local/lib/python3.7/dist-packages (from pyaml>=16.9->scikit-optimize) (3.13)\n",
      "Requirement already satisfied: threadpoolctl>=2.0.0 in /usr/local/lib/python3.7/dist-packages (from scikit-learn>=0.20.0->scikit-optimize) (2.2.0)\n"
     ]
    }
   ],
   "source": [
    "!pip install scikit-optimize"
   ]
  },
  {
   "cell_type": "markdown",
   "metadata": {
    "id": "nD10-9QRIc0X"
   },
   "source": [
    "## Introducción"
   ]
  },
  {
   "cell_type": "markdown",
   "metadata": {
    "id": "ffYhdFpFIc0Y"
   },
   "source": [
    "Vamos a trabajar con un dataset famoso llamado **adult** tomado de UCI: https://archive.ics.uci.edu/ml/datasets/Adult . Son datos obtenidos del censo de Estados Unidos de 1994 y la tarea consiste en predecir si una persona gana más de 50.000 dólares al año o no. Por lo tanto, cada fila es una persona y las columnas son las características de la misma."
   ]
  },
  {
   "cell_type": "code",
   "execution_count": 1,
   "metadata": {
    "id": "bgYopa2aIc0Z"
   },
   "outputs": [],
   "source": [
    "import pandas as pd\n",
    "import numpy as np"
   ]
  },
  {
   "cell_type": "code",
   "execution_count": 2,
   "metadata": {
    "id": "pRLoU4_wIc0b"
   },
   "outputs": [],
   "source": [
    "df = pd.read_csv(\"https://datasets-humai.s3.amazonaws.com/datasets/adult_train.csv\")"
   ]
  },
  {
   "cell_type": "code",
   "execution_count": 3,
   "metadata": {
    "colab": {
     "base_uri": "https://localhost:8080/"
    },
    "id": "ugLTRe0IIc0c",
    "outputId": "77446110-3576-4f12-8a2d-3d5720efcaf6"
   },
   "outputs": [
    {
     "data": {
      "text/plain": [
       "Index(['age', 'workclass', 'fnlwgt', 'education', 'education-num',\n",
       "       'marital-status', 'occupation', 'relationship', 'race', 'sex',\n",
       "       'capital-gain', 'capital-loss', 'hours-per-week', 'native-country',\n",
       "       'target'],\n",
       "      dtype='object')"
      ]
     },
     "execution_count": 3,
     "metadata": {},
     "output_type": "execute_result"
    }
   ],
   "source": [
    "df.columns"
   ]
  },
  {
   "cell_type": "code",
   "execution_count": 4,
   "metadata": {
    "colab": {
     "base_uri": "https://localhost:8080/"
    },
    "id": "ezlk7SK4Ic0g",
    "outputId": "c494f873-dbe4-49ea-c3fc-2329abe6f5d0"
   },
   "outputs": [
    {
     "data": {
      "text/plain": [
       "(32561, 15)"
      ]
     },
     "execution_count": 4,
     "metadata": {},
     "output_type": "execute_result"
    }
   ],
   "source": [
    "df.shape"
   ]
  },
  {
   "cell_type": "code",
   "execution_count": null,
   "metadata": {
    "colab": {
     "base_uri": "https://localhost:8080/"
    },
    "id": "hpMVCVttIc0h",
    "outputId": "e2a01eaf-a998-476c-bb55-35092d6adb11"
   },
   "outputs": [
    {
     "name": "stdout",
     "output_type": "stream",
     "text": [
      "<class 'pandas.core.frame.DataFrame'>\n",
      "RangeIndex: 32561 entries, 0 to 32560\n",
      "Data columns (total 15 columns):\n",
      " #   Column          Non-Null Count  Dtype \n",
      "---  ------          --------------  ----- \n",
      " 0   age             32561 non-null  int64 \n",
      " 1   workclass       32561 non-null  object\n",
      " 2   fnlwgt          32561 non-null  int64 \n",
      " 3   education       32561 non-null  object\n",
      " 4   education-num   32561 non-null  int64 \n",
      " 5   marital-status  32561 non-null  object\n",
      " 6   occupation      32561 non-null  object\n",
      " 7   relationship    32561 non-null  object\n",
      " 8   race            32561 non-null  object\n",
      " 9   sex             32561 non-null  object\n",
      " 10  capital-gain    32561 non-null  int64 \n",
      " 11  capital-loss    32561 non-null  int64 \n",
      " 12  hours-per-week  32561 non-null  int64 \n",
      " 13  native-country  32561 non-null  object\n",
      " 14  target          32561 non-null  object\n",
      "dtypes: int64(6), object(9)\n",
      "memory usage: 3.7+ MB\n"
     ]
    }
   ],
   "source": [
    "df.info()"
   ]
  },
  {
   "cell_type": "markdown",
   "metadata": {
    "id": "K00akIwpIc0i"
   },
   "source": [
    "- Las variables categóricas son: **workclass**, **education**, **marital-status**, **occupation**, **relationship**, **race**, **sex**, **native-country**.\n",
    "\n",
    "- Las variables numéricas son: **age**, **fnlwgt**, **education-num**, **capital-gain**, **capital-loss**, **hours-per-week**"
   ]
  },
  {
   "cell_type": "markdown",
   "metadata": {
    "id": "eXYqGnr2Ic0j"
   },
   "source": [
    "## Análisis exploratorio"
   ]
  },
  {
   "cell_type": "markdown",
   "metadata": {
    "id": "FgnbK8HFIc0k"
   },
   "source": [
    "Para este EDA vamos a usar un paquete que nos genera numerosos gráficos automáticamente y, por lo tanto, nos permite una aproximación rápida a los datos con los que vamos a trabajar."
   ]
  },
  {
   "cell_type": "code",
   "execution_count": null,
   "metadata": {
    "colab": {
     "base_uri": "https://localhost:8080/",
     "height": 49,
     "referenced_widgets": [
      "d3b909bb7ed449ef83206aae5689be44",
      "27c634f04a2e42e4b2c78619ebfa8c9c",
      "57adb5033d66497095f89eea77409666",
      "1620fef0d32f463a9679f208224312bc",
      "3588c9e253cb4950aceda16625c39c74",
      "1c3bcb3dae0c48b591dcde28c9cb7a06",
      "ef62fd419a3a48588bceaefaefe6df29",
      "5248f948480f483a90d9a9f5a79c3afc",
      "00214d4a68d941d19778ddb17f0c47de",
      "9f657e3a45f84c329c348b11abdba32c",
      "9259a16797d94c9ea543938ec9f0dbd4"
     ]
    },
    "id": "KUWw0XymIc0k",
    "outputId": "6c7074f1-3823-408b-fa44-a4b1155e723d"
   },
   "outputs": [],
   "source": [
    "# sweetviz es un paquete de análisis exploratorio automático, una alternativa también es pandas-profiling\n",
    "import sweetviz as sv\n",
    "#analyzing the dataset\n",
    "advert_report = sv.analyze(df)"
   ]
  },
  {
   "cell_type": "markdown",
   "metadata": {
    "id": "VYm70hycIc0l"
   },
   "source": [
    "El siguiente comando escribe un *html* con una serie de gráficos. Además, intenta abrir una pestaña nueva. Si ésto no sucede entonces deberán ejecutar manualmente el archivo. Para eso, si están en Google Colab deberán descargar el archivo y luego darle doble clic al archivo en su computadora."
   ]
  },
  {
   "cell_type": "code",
   "execution_count": null,
   "metadata": {
    "colab": {
     "base_uri": "https://localhost:8080/"
    },
    "id": "9whnUcnuIc0m",
    "outputId": "0b6e3a1e-9f2a-40fb-a0b9-3f8e2e11bda6"
   },
   "outputs": [],
   "source": [
    "advert_report.show_html('df.html')"
   ]
  },
  {
   "cell_type": "markdown",
   "metadata": {
    "id": "zPg-2P2QIc0n"
   },
   "source": [
    "### Observaciones"
   ]
  },
  {
   "cell_type": "markdown",
   "metadata": {
    "id": "UWz-Vi-UIc0o"
   },
   "source": [
    "Del reporte de *sweetviz* interesan destacar las siguientes cuestiones:\n"
   ]
  },
  {
   "cell_type": "markdown",
   "metadata": {
    "id": "cFGLIgHrIc0o"
   },
   "source": [
    "1- En **workclass** los nulos se identifican con **?**.\n",
    "\n",
    "2- **target** está parejamente distribuido, con 76% para la categoría **<=50K** y 24% para **>50K**.\n",
    "\n",
    "3- **capital-gain** y **capital-loss** son variables continuas pero mayoritariamente son 0 (91.7% y 95.3% respectivamente).\n",
    "\n",
    "Cliqueando en ASSOCIATIONS (arriba al medio) podemos ver métricas de correlación entre variables, allí se observa que:\n",
    "\n",
    "4- **education-num**, **capital-gain**, **hours-per-week**, **age**, **relationship** y en menor medida **marital-status** son las variables más correlacionadas con **target**."
   ]
  },
  {
   "cell_type": "markdown",
   "metadata": {
    "id": "QJlRaDqiIc0p"
   },
   "source": [
    "## Preparamos train y test"
   ]
  },
  {
   "cell_type": "code",
   "execution_count": 5,
   "metadata": {
    "id": "u1euqvlgIc0p"
   },
   "outputs": [],
   "source": [
    "from sklearn.preprocessing import LabelEncoder, OrdinalEncoder"
   ]
  },
  {
   "cell_type": "code",
   "execution_count": 6,
   "metadata": {
    "id": "U-EhJNBNIc0q"
   },
   "outputs": [],
   "source": [
    "X_train = df.drop(\"target\",axis=1)\n",
    "y_train = df[\"target\"]"
   ]
  },
  {
   "cell_type": "code",
   "execution_count": 7,
   "metadata": {
    "id": "okDOFsTQIc0q"
   },
   "outputs": [],
   "source": [
    "# LabelEncoder se usa para codificar las labels como números\n",
    "l_encoder = LabelEncoder()"
   ]
  },
  {
   "cell_type": "code",
   "execution_count": 8,
   "metadata": {
    "id": "uW9KfgK_Ic0r"
   },
   "outputs": [],
   "source": [
    "# Al hacer fit el objeto aprende un mapeo de cada label a un número que luego usaremos en test. \n",
    "# Al hacer transform ejecuta el mapeo. fit_transform primero ejecuta fit y luego transform\n",
    "y_train = l_encoder.fit_transform(y_train)"
   ]
  },
  {
   "cell_type": "code",
   "execution_count": 9,
   "metadata": {
    "id": "33964VhkIc0r"
   },
   "outputs": [],
   "source": [
    "test = pd.read_csv(\"https://datasets-humai.s3.amazonaws.com/datasets/adult_test.csv\")"
   ]
  },
  {
   "cell_type": "code",
   "execution_count": 10,
   "metadata": {
    "id": "unIkRWIiIc0r"
   },
   "outputs": [],
   "source": [
    "X_test = test.drop(\"target\",axis=1)\n",
    "y_test = test[\"target\"]"
   ]
  },
  {
   "cell_type": "code",
   "execution_count": 11,
   "metadata": {
    "colab": {
     "base_uri": "https://localhost:8080/"
    },
    "id": "1LvGJUFOIc0r",
    "outputId": "030a2978-3569-4fde-80d5-3f7b0bc43f83"
   },
   "outputs": [
    {
     "data": {
      "text/plain": [
       "array([0, 0, 1, ..., 0, 0, 1])"
      ]
     },
     "execution_count": 11,
     "metadata": {},
     "output_type": "execute_result"
    }
   ],
   "source": [
    "l_encoder.transform(test[\"target\"])"
   ]
  },
  {
   "cell_type": "code",
   "execution_count": 12,
   "metadata": {
    "id": "SaJETBfvIc0s"
   },
   "outputs": [],
   "source": [
    "# acá estamos traduciendo las etiquetas de las labels a números, con el mismo mapeo de antes (!!!!)\n",
    "y_test = l_encoder.transform(y_test)"
   ]
  },
  {
   "cell_type": "code",
   "execution_count": 13,
   "metadata": {
    "colab": {
     "base_uri": "https://localhost:8080/"
    },
    "id": "4lkVLxFnIc0t",
    "outputId": "c6b97379-2837-42fb-e0b5-07be446152d9"
   },
   "outputs": [
    {
     "data": {
      "text/plain": [
       "array(['<=50K', '<=50K', '>50K', ..., '<=50K', '<=50K', '>50K'],\n",
       "      dtype=object)"
      ]
     },
     "execution_count": 13,
     "metadata": {},
     "output_type": "execute_result"
    }
   ],
   "source": [
    "# inverse_transform nos permite hacer el mapeo en el sentido opuesto, de número a label\n",
    "l_encoder.inverse_transform(y_test)"
   ]
  },
  {
   "cell_type": "code",
   "execution_count": 14,
   "metadata": {
    "id": "dSyt7uBCIc0u"
   },
   "outputs": [],
   "source": [
    "# Para chequear que el mapeo se hace correctamente podemos hacer lo siguiente:"
   ]
  },
  {
   "cell_type": "code",
   "execution_count": 15,
   "metadata": {
    "colab": {
     "base_uri": "https://localhost:8080/"
    },
    "id": "Epa5x8enIc0u",
    "outputId": "27bf81c2-4b48-4dea-b292-c0df0f603c75"
   },
   "outputs": [
    {
     "data": {
      "text/plain": [
       "True"
      ]
     },
     "execution_count": 15,
     "metadata": {},
     "output_type": "execute_result"
    }
   ],
   "source": [
    "np.array_equal(test[\"target\"].values, l_encoder.inverse_transform(y_test))"
   ]
  },
  {
   "cell_type": "markdown",
   "metadata": {
    "id": "XK6VGIWZIc0v"
   },
   "source": [
    "## Entreno modelos"
   ]
  },
  {
   "cell_type": "code",
   "execution_count": 16,
   "metadata": {
    "id": "j62g9YTgIc0v"
   },
   "outputs": [],
   "source": [
    "from sklearn.compose import ColumnTransformer\n",
    "from sklearn.pipeline import Pipeline"
   ]
  },
  {
   "cell_type": "code",
   "execution_count": 17,
   "metadata": {
    "id": "2VJc4LPXIc0v"
   },
   "outputs": [],
   "source": [
    "from sklearn.preprocessing import PolynomialFeatures, OneHotEncoder"
   ]
  },
  {
   "cell_type": "code",
   "execution_count": 18,
   "metadata": {
    "id": "UwCAMgWnIc0v"
   },
   "outputs": [],
   "source": [
    "import scipy.stats as st"
   ]
  },
  {
   "cell_type": "code",
   "execution_count": 19,
   "metadata": {
    "id": "eO1V8k6sIc0w"
   },
   "outputs": [],
   "source": [
    "from xgboost.sklearn import XGBClassifier"
   ]
  },
  {
   "cell_type": "code",
   "execution_count": 20,
   "metadata": {
    "id": "3XR35qK6Ic0x"
   },
   "outputs": [],
   "source": [
    "from lightgbm import LGBMClassifier"
   ]
  },
  {
   "cell_type": "code",
   "execution_count": 21,
   "metadata": {
    "id": "MTwry87kIc0x"
   },
   "outputs": [],
   "source": [
    "from catboost import CatBoostClassifier"
   ]
  },
  {
   "cell_type": "code",
   "execution_count": 22,
   "metadata": {
    "id": "CAJD5P00Ic0x"
   },
   "outputs": [],
   "source": [
    "from sklearn.linear_model import LogisticRegression"
   ]
  },
  {
   "cell_type": "code",
   "execution_count": 23,
   "metadata": {
    "id": "_w75Ogq_Ic0x"
   },
   "outputs": [],
   "source": [
    "from sklearn.model_selection import RandomizedSearchCV"
   ]
  },
  {
   "cell_type": "code",
   "execution_count": 24,
   "metadata": {
    "id": "mjC-UhqoIc0y"
   },
   "outputs": [],
   "source": [
    "cat_columns = [\"workclass\", \"education\", \"marital-status\", \"occupation\", \"relationship\", \"race\", \"sex\", \"native-country\"]\n",
    "\n",
    "num_columns = [\"age\", \"fnlwgt\", \"education-num\", \"capital-gain\", \"capital-loss\", \"hours-per-week\"]"
   ]
  },
  {
   "cell_type": "code",
   "execution_count": null,
   "metadata": {
    "id": "ZNmeL0wrIc0y"
   },
   "outputs": [],
   "source": [
    "# vamos a usar polynomial features sobre las variables numéricas\n",
    "poly = PolynomialFeatures()"
   ]
  },
  {
   "cell_type": "code",
   "execution_count": null,
   "metadata": {
    "id": "C64tGMYeIc0y"
   },
   "outputs": [],
   "source": [
    "# Las categorías \"nuevas\" que aparezcan se imputan con el valor de unknown_value\n",
    "o_encoder = OrdinalEncoder(handle_unknown=\"use_encoded_value\", unknown_value=99999999)"
   ]
  },
  {
   "cell_type": "markdown",
   "metadata": {
    "id": "Oawzf-juIc0y"
   },
   "source": [
    "Los modelos que vamos a probar son XGBoost, LightGBM, CatBoost y Regresión logística."
   ]
  },
  {
   "cell_type": "markdown",
   "metadata": {
    "id": "zKVSjelGIc0y"
   },
   "source": [
    "Armamos un pipeline en donde:\n",
    "\n",
    "1- Usamos `ColumnTransformer` para seleccionar las columnas numéricas y aplicar `PolynomialFeatures`. `remainder=\"passthrough\"` hace que el resto de las columnas pasen sin cambios. De este paso vamos a optimizar el hiperparámetro que indica el grado del polinomio: `selector_num__poly__degree`.\n",
    "\n",
    "2- Luego aplicamos una transformación sobre las variables categóricas. Para los modelos basados en árboles usamos `OrdinalEncoder` que codifica las categorías como números. De este paso vamos a optimizar el hiperparámetro que indica cómo se representan las categorías nuevas, no vistas en train, con `ord_encoder__unknown_value`. Por último, para la regresión logística aplicamos one hot encoding.\n",
    "\n",
    "3- Finalmente aplicamos un clasificador."
   ]
  },
  {
   "cell_type": "markdown",
   "metadata": {
    "id": "h7bCBRBIIc00"
   },
   "source": [
    "Nota: los nombres de los hiperparámetros que vamos a optimizar se llaman como `nombre del step + __ + nombre del hiperparámetro`"
   ]
  },
  {
   "cell_type": "code",
   "execution_count": null,
   "metadata": {
    "id": "tqXilHfLIc00"
   },
   "outputs": [],
   "source": [
    "pipeline = Pipeline([\n",
    "    (\"selector_num\", ColumnTransformer(\n",
    "        [\n",
    "            (\"poly\", poly, num_columns)\n",
    "        ], remainder=\"passthrough\")\n",
    "    ),\n",
    "    (\"cat_encoder\", o_encoder),\n",
    "    (\"classifier\", CatBoostClassifier())\n",
    "    ]\n",
    ")"
   ]
  },
  {
   "cell_type": "code",
   "execution_count": null,
   "metadata": {
    "id": "nGTKQjS5Ic01"
   },
   "outputs": [],
   "source": [
    "# pipeline.get_params()"
   ]
  },
  {
   "cell_type": "code",
   "execution_count": null,
   "metadata": {
    "id": "qd3IOutOIc01"
   },
   "outputs": [],
   "source": [
    "one_to_left = st.beta(10, 1) # Esta distribución nos dará valores entre 0 y 1 mayormente cercanos a 1"
   ]
  },
  {
   "cell_type": "code",
   "execution_count": null,
   "metadata": {
    "id": "aDyUzdygIc01"
   },
   "outputs": [],
   "source": [
    "# este diccionario de parámetros lo vamos a usar tanto para XGBoost como para LightGBM\n",
    "params = {  \n",
    "    \"classifier__n_estimators\": st.randint(20,150), # n. de árboles.\n",
    "    \"classifier__max_depth\": st.randint(3, 12),     # máxima profundiad del árbol\n",
    "    \"classifier__learning_rate\": st.uniform(0.05, 0.4), # learning rate (xgb’s “eta”)\n",
    "    \"classifier__colsample_bytree\": one_to_left, # ratio de la muestra de las columnas a la hora de construir el árbol\n",
    "    \"classifier__subsample\": one_to_left,     # ratio de la muestra de las observaciones\n",
    "    'classifier__reg_alpha': st.uniform(0.05,10),   # término de regularización L1\n",
    "    \"classifier__min_child_weight\": st.uniform(1,20), # Suma mínima del peso de la instancia (hessiano) requerida en los hijos\n",
    "}"
   ]
  },
  {
   "cell_type": "code",
   "execution_count": null,
   "metadata": {
    "id": "rjK_dFUxIc02"
   },
   "outputs": [],
   "source": [
    "other_params = {\"selector_num__poly__degree\": [1, 2, 3],\n",
    "                \"cat_encoder__unknown_value\": [np.nan, 99999999]}"
   ]
  },
  {
   "cell_type": "markdown",
   "metadata": {
    "id": "mFSBzmnfIc02"
   },
   "source": [
    "Para optimizar modelos con distintos hiperparámetros se puede usar una lista de diccionarios, en donde cada diccionario es un hiperparámetro distinto. \n",
    "\n",
    "En primer lugar, classifier \"pisa\" el clasificador del pipeline original, en este caso `CatBoostClassifier`. \n",
    "\n",
    "En segundo lugar, pasamos los parámetros que definimos en `params` (usados en XGBoost y LightGBM) y `other_params` (que son los hiperparámetro que no corresponden al clasificador). \n",
    "\n",
    "En tercer lugar, también incluímos otros hiperparámetros de los clasificadores."
   ]
  },
  {
   "cell_type": "code",
   "execution_count": null,
   "metadata": {
    "id": "OxbKn63wIc03"
   },
   "outputs": [],
   "source": [
    "search_space = [{\"classifier\": [XGBClassifier(n_jobs=3, eval_metric=\"logloss\", use_label_encoder=False)], \n",
    "                 **params,\n",
    "                 **other_params,\n",
    "                \"classifier__gamma\": st.uniform(0, 10), # reducción mínima de la pérdida requerida para hacer un split\n",
    "                },\n",
    "                {\"classifier\": [LGBMClassifier(n_jobs=3, verbose=-1)],\n",
    "                 **params,\n",
    "                **other_params},\n",
    "                {\"classifier\": [CatBoostClassifier(thread_count=3, verbose=False)],\n",
    "                 **other_params,\n",
    "                 \"classifier__n_estimators\": st.randint(20,150), # n. de árboles.\n",
    "                \"classifier__max_depth\": st.randint(3, 12),     # máxima profundiad del árbol\n",
    "                \"classifier__learning_rate\": st.uniform(0.05, 0.4), # learning rate (xgb’s “eta”)\n",
    "                \"classifier__subsample\": one_to_left,     # ratio de la muestra de las observaciones\n",
    "                },\n",
    "               {\n",
    "                   \"classifier\": [LogisticRegression(max_iter=1000)],\n",
    "                   \"classifier__C\": [10**x for x in range(-5, 3)],\n",
    "                   \"cat_encoder\": [OneHotEncoder(handle_unknown=\"ignore\")],\n",
    "               }]"
   ]
  },
  {
   "cell_type": "code",
   "execution_count": null,
   "metadata": {
    "id": "QYb8nG7uIc04"
   },
   "outputs": [],
   "source": [
    "model = RandomizedSearchCV(pipeline, search_space, n_iter=100, verbose=1, cv=3)"
   ]
  },
  {
   "cell_type": "markdown",
   "metadata": {
    "id": "fK-oHPoPIc04"
   },
   "source": [
    "Comenzamos el entrenamiento"
   ]
  },
  {
   "cell_type": "code",
   "execution_count": null,
   "metadata": {
    "colab": {
     "base_uri": "https://localhost:8080/"
    },
    "id": "yPsbnhEoIc05",
    "outputId": "2346b779-fc2f-480d-9bc7-3b3ffc625636"
   },
   "outputs": [],
   "source": [
    "model.fit(X_train, y_train)"
   ]
  },
  {
   "cell_type": "markdown",
   "metadata": {
    "id": "bcZFChg8Ic05"
   },
   "source": [
    "Guardamos los resultados"
   ]
  },
  {
   "cell_type": "code",
   "execution_count": null,
   "metadata": {
    "id": "KNXrr9eLIc05"
   },
   "outputs": [],
   "source": [
    "results = pd.DataFrame(model.cv_results_)"
   ]
  },
  {
   "cell_type": "code",
   "execution_count": 65,
   "metadata": {
    "colab": {
     "base_uri": "https://localhost:8080/"
    },
    "id": "jEVuv0kYIc06",
    "outputId": "6f374f4b-85c5-463c-db5e-7c56d100896c"
   },
   "outputs": [
    {
     "data": {
      "text/plain": [
       "Index(['mean_fit_time', 'std_fit_time', 'mean_score_time', 'std_score_time',\n",
       "       'param_cat_encoder__unknown_value', 'param_classifier',\n",
       "       'param_classifier__learning_rate', 'param_classifier__max_depth',\n",
       "       'param_classifier__n_estimators', 'param_classifier__subsample',\n",
       "       'param_selector_num__poly__degree',\n",
       "       'param_classifier__colsample_bytree',\n",
       "       'param_classifier__min_child_weight', 'param_classifier__reg_alpha',\n",
       "       'param_cat_encoder', 'param_classifier__C', 'param_classifier__gamma',\n",
       "       'params', 'split0_test_score', 'split1_test_score', 'split2_test_score',\n",
       "       'mean_test_score', 'std_test_score', 'rank_test_score'],\n",
       "      dtype='object')"
      ]
     },
     "execution_count": 65,
     "metadata": {
      "tags": []
     },
     "output_type": "execute_result"
    }
   ],
   "source": [
    "results.columns"
   ]
  },
  {
   "cell_type": "code",
   "execution_count": null,
   "metadata": {
    "colab": {
     "base_uri": "https://localhost:8080/",
     "height": 617
    },
    "id": "5EoPizQeIc06",
    "outputId": "cf6dc9dc-cfb6-43af-8dd5-f3614440fcff"
   },
   "outputs": [
    {
     "data": {
      "text/html": [
       "<div>\n",
       "<style scoped>\n",
       "    .dataframe tbody tr th:only-of-type {\n",
       "        vertical-align: middle;\n",
       "    }\n",
       "\n",
       "    .dataframe tbody tr th {\n",
       "        vertical-align: top;\n",
       "    }\n",
       "\n",
       "    .dataframe thead th {\n",
       "        text-align: right;\n",
       "    }\n",
       "</style>\n",
       "<table border=\"1\" class=\"dataframe\">\n",
       "  <thead>\n",
       "    <tr style=\"text-align: right;\">\n",
       "      <th></th>\n",
       "      <th>mean_fit_time</th>\n",
       "      <th>std_fit_time</th>\n",
       "      <th>mean_score_time</th>\n",
       "      <th>std_score_time</th>\n",
       "      <th>param_cat_encoder__unknown_value</th>\n",
       "      <th>param_classifier</th>\n",
       "      <th>param_classifier__learning_rate</th>\n",
       "      <th>param_classifier__max_depth</th>\n",
       "      <th>param_classifier__n_estimators</th>\n",
       "      <th>param_classifier__subsample</th>\n",
       "      <th>param_selector_num__poly__degree</th>\n",
       "      <th>param_classifier__colsample_bytree</th>\n",
       "      <th>param_classifier__min_child_weight</th>\n",
       "      <th>param_classifier__reg_alpha</th>\n",
       "      <th>param_cat_encoder</th>\n",
       "      <th>param_classifier__C</th>\n",
       "      <th>param_classifier__gamma</th>\n",
       "      <th>params</th>\n",
       "      <th>split0_test_score</th>\n",
       "      <th>split1_test_score</th>\n",
       "      <th>split2_test_score</th>\n",
       "      <th>mean_test_score</th>\n",
       "      <th>std_test_score</th>\n",
       "      <th>rank_test_score</th>\n",
       "    </tr>\n",
       "  </thead>\n",
       "  <tbody>\n",
       "    <tr>\n",
       "      <th>0</th>\n",
       "      <td>2.936934</td>\n",
       "      <td>0.056898</td>\n",
       "      <td>1.359948</td>\n",
       "      <td>0.036173</td>\n",
       "      <td>NaN</td>\n",
       "      <td>&lt;catboost.core.CatBoostClassifier object at 0x...</td>\n",
       "      <td>0.309641</td>\n",
       "      <td>6</td>\n",
       "      <td>34</td>\n",
       "      <td>0.92519</td>\n",
       "      <td>2</td>\n",
       "      <td>NaN</td>\n",
       "      <td>NaN</td>\n",
       "      <td>NaN</td>\n",
       "      <td>NaN</td>\n",
       "      <td>NaN</td>\n",
       "      <td>NaN</td>\n",
       "      <td>{'cat_encoder__unknown_value': nan, 'classifie...</td>\n",
       "      <td>0.859959</td>\n",
       "      <td>0.862631</td>\n",
       "      <td>0.866212</td>\n",
       "      <td>0.862934</td>\n",
       "      <td>0.002562</td>\n",
       "      <td>39</td>\n",
       "    </tr>\n",
       "    <tr>\n",
       "      <th>1</th>\n",
       "      <td>2.804172</td>\n",
       "      <td>0.008023</td>\n",
       "      <td>1.332804</td>\n",
       "      <td>0.008763</td>\n",
       "      <td>99999999</td>\n",
       "      <td>&lt;catboost.core.CatBoostClassifier object at 0x...</td>\n",
       "      <td>0.311417</td>\n",
       "      <td>5</td>\n",
       "      <td>38</td>\n",
       "      <td>0.936492</td>\n",
       "      <td>2</td>\n",
       "      <td>NaN</td>\n",
       "      <td>NaN</td>\n",
       "      <td>NaN</td>\n",
       "      <td>NaN</td>\n",
       "      <td>NaN</td>\n",
       "      <td>NaN</td>\n",
       "      <td>{'cat_encoder__unknown_value': 99999999, 'clas...</td>\n",
       "      <td>0.853879</td>\n",
       "      <td>0.863460</td>\n",
       "      <td>0.872478</td>\n",
       "      <td>0.863272</td>\n",
       "      <td>0.007594</td>\n",
       "      <td>35</td>\n",
       "    </tr>\n",
       "    <tr>\n",
       "      <th>2</th>\n",
       "      <td>1.201455</td>\n",
       "      <td>0.014653</td>\n",
       "      <td>0.281089</td>\n",
       "      <td>0.002945</td>\n",
       "      <td>99999999</td>\n",
       "      <td>LGBMClassifier(colsample_bytree=0.568065918403...</td>\n",
       "      <td>0.117293</td>\n",
       "      <td>7</td>\n",
       "      <td>123</td>\n",
       "      <td>0.999777</td>\n",
       "      <td>1</td>\n",
       "      <td>0.90358</td>\n",
       "      <td>5.20343</td>\n",
       "      <td>2.03779</td>\n",
       "      <td>NaN</td>\n",
       "      <td>NaN</td>\n",
       "      <td>NaN</td>\n",
       "      <td>{'cat_encoder__unknown_value': 99999999, 'clas...</td>\n",
       "      <td>0.863000</td>\n",
       "      <td>0.864658</td>\n",
       "      <td>0.870727</td>\n",
       "      <td>0.866128</td>\n",
       "      <td>0.003321</td>\n",
       "      <td>10</td>\n",
       "    </tr>\n",
       "    <tr>\n",
       "      <th>3</th>\n",
       "      <td>4.031158</td>\n",
       "      <td>0.034245</td>\n",
       "      <td>1.340886</td>\n",
       "      <td>0.008231</td>\n",
       "      <td>99999999</td>\n",
       "      <td>&lt;catboost.core.CatBoostClassifier object at 0x...</td>\n",
       "      <td>0.411351</td>\n",
       "      <td>5</td>\n",
       "      <td>121</td>\n",
       "      <td>0.863801</td>\n",
       "      <td>2</td>\n",
       "      <td>NaN</td>\n",
       "      <td>NaN</td>\n",
       "      <td>NaN</td>\n",
       "      <td>NaN</td>\n",
       "      <td>NaN</td>\n",
       "      <td>NaN</td>\n",
       "      <td>{'cat_encoder__unknown_value': 99999999, 'clas...</td>\n",
       "      <td>0.840427</td>\n",
       "      <td>0.844297</td>\n",
       "      <td>0.842256</td>\n",
       "      <td>0.842327</td>\n",
       "      <td>0.001581</td>\n",
       "      <td>94</td>\n",
       "    </tr>\n",
       "    <tr>\n",
       "      <th>4</th>\n",
       "      <td>1.906238</td>\n",
       "      <td>0.009491</td>\n",
       "      <td>0.278017</td>\n",
       "      <td>0.002024</td>\n",
       "      <td>99999999</td>\n",
       "      <td>&lt;catboost.core.CatBoostClassifier object at 0x...</td>\n",
       "      <td>0.0928543</td>\n",
       "      <td>9</td>\n",
       "      <td>113</td>\n",
       "      <td>0.948361</td>\n",
       "      <td>1</td>\n",
       "      <td>NaN</td>\n",
       "      <td>NaN</td>\n",
       "      <td>NaN</td>\n",
       "      <td>NaN</td>\n",
       "      <td>NaN</td>\n",
       "      <td>NaN</td>\n",
       "      <td>{'cat_encoder__unknown_value': 99999999, 'clas...</td>\n",
       "      <td>0.858485</td>\n",
       "      <td>0.864842</td>\n",
       "      <td>0.869621</td>\n",
       "      <td>0.864316</td>\n",
       "      <td>0.004561</td>\n",
       "      <td>27</td>\n",
       "    </tr>\n",
       "    <tr>\n",
       "      <th>...</th>\n",
       "      <td>...</td>\n",
       "      <td>...</td>\n",
       "      <td>...</td>\n",
       "      <td>...</td>\n",
       "      <td>...</td>\n",
       "      <td>...</td>\n",
       "      <td>...</td>\n",
       "      <td>...</td>\n",
       "      <td>...</td>\n",
       "      <td>...</td>\n",
       "      <td>...</td>\n",
       "      <td>...</td>\n",
       "      <td>...</td>\n",
       "      <td>...</td>\n",
       "      <td>...</td>\n",
       "      <td>...</td>\n",
       "      <td>...</td>\n",
       "      <td>...</td>\n",
       "      <td>...</td>\n",
       "      <td>...</td>\n",
       "      <td>...</td>\n",
       "      <td>...</td>\n",
       "      <td>...</td>\n",
       "      <td>...</td>\n",
       "    </tr>\n",
       "    <tr>\n",
       "      <th>95</th>\n",
       "      <td>15.465202</td>\n",
       "      <td>0.880778</td>\n",
       "      <td>1.283002</td>\n",
       "      <td>0.007008</td>\n",
       "      <td>NaN</td>\n",
       "      <td>LogisticRegression(max_iter=1000)</td>\n",
       "      <td>NaN</td>\n",
       "      <td>NaN</td>\n",
       "      <td>NaN</td>\n",
       "      <td>NaN</td>\n",
       "      <td>NaN</td>\n",
       "      <td>NaN</td>\n",
       "      <td>NaN</td>\n",
       "      <td>NaN</td>\n",
       "      <td>OneHotEncoder(handle_unknown='ignore')</td>\n",
       "      <td>1</td>\n",
       "      <td>NaN</td>\n",
       "      <td>{'cat_encoder': OneHotEncoder(handle_unknown='...</td>\n",
       "      <td>0.861802</td>\n",
       "      <td>0.866040</td>\n",
       "      <td>0.866765</td>\n",
       "      <td>0.864869</td>\n",
       "      <td>0.002189</td>\n",
       "      <td>15</td>\n",
       "    </tr>\n",
       "    <tr>\n",
       "      <th>96</th>\n",
       "      <td>6.117545</td>\n",
       "      <td>0.016200</td>\n",
       "      <td>1.261460</td>\n",
       "      <td>0.009766</td>\n",
       "      <td>NaN</td>\n",
       "      <td>XGBClassifier(eval_metric='logloss', n_jobs=3,...</td>\n",
       "      <td>0.188846</td>\n",
       "      <td>11</td>\n",
       "      <td>55</td>\n",
       "      <td>0.786913</td>\n",
       "      <td>2</td>\n",
       "      <td>0.911721</td>\n",
       "      <td>12.7364</td>\n",
       "      <td>0.912148</td>\n",
       "      <td>NaN</td>\n",
       "      <td>NaN</td>\n",
       "      <td>4.93172</td>\n",
       "      <td>{'cat_encoder__unknown_value': nan, 'classifie...</td>\n",
       "      <td>0.859959</td>\n",
       "      <td>0.856735</td>\n",
       "      <td>0.866396</td>\n",
       "      <td>0.861030</td>\n",
       "      <td>0.004016</td>\n",
       "      <td>55</td>\n",
       "    </tr>\n",
       "    <tr>\n",
       "      <th>97</th>\n",
       "      <td>2.875012</td>\n",
       "      <td>0.019920</td>\n",
       "      <td>1.355173</td>\n",
       "      <td>0.011729</td>\n",
       "      <td>NaN</td>\n",
       "      <td>&lt;catboost.core.CatBoostClassifier object at 0x...</td>\n",
       "      <td>0.243398</td>\n",
       "      <td>7</td>\n",
       "      <td>26</td>\n",
       "      <td>0.786128</td>\n",
       "      <td>2</td>\n",
       "      <td>NaN</td>\n",
       "      <td>NaN</td>\n",
       "      <td>NaN</td>\n",
       "      <td>NaN</td>\n",
       "      <td>NaN</td>\n",
       "      <td>NaN</td>\n",
       "      <td>{'cat_encoder__unknown_value': nan, 'classifie...</td>\n",
       "      <td>0.854708</td>\n",
       "      <td>0.861065</td>\n",
       "      <td>0.866028</td>\n",
       "      <td>0.860600</td>\n",
       "      <td>0.004633</td>\n",
       "      <td>59</td>\n",
       "    </tr>\n",
       "    <tr>\n",
       "      <th>98</th>\n",
       "      <td>0.885625</td>\n",
       "      <td>0.029326</td>\n",
       "      <td>0.276791</td>\n",
       "      <td>0.004060</td>\n",
       "      <td>NaN</td>\n",
       "      <td>LGBMClassifier(colsample_bytree=0.568065918403...</td>\n",
       "      <td>0.428516</td>\n",
       "      <td>5</td>\n",
       "      <td>140</td>\n",
       "      <td>0.961159</td>\n",
       "      <td>1</td>\n",
       "      <td>0.568066</td>\n",
       "      <td>6.62831</td>\n",
       "      <td>6.34121</td>\n",
       "      <td>NaN</td>\n",
       "      <td>NaN</td>\n",
       "      <td>NaN</td>\n",
       "      <td>{'cat_encoder__unknown_value': nan, 'classifie...</td>\n",
       "      <td>0.870186</td>\n",
       "      <td>0.866040</td>\n",
       "      <td>0.870727</td>\n",
       "      <td>0.868984</td>\n",
       "      <td>0.002094</td>\n",
       "      <td>1</td>\n",
       "    </tr>\n",
       "    <tr>\n",
       "      <th>99</th>\n",
       "      <td>3.185162</td>\n",
       "      <td>0.022505</td>\n",
       "      <td>1.367073</td>\n",
       "      <td>0.022355</td>\n",
       "      <td>NaN</td>\n",
       "      <td>&lt;catboost.core.CatBoostClassifier object at 0x...</td>\n",
       "      <td>0.191919</td>\n",
       "      <td>4</td>\n",
       "      <td>73</td>\n",
       "      <td>0.988287</td>\n",
       "      <td>2</td>\n",
       "      <td>NaN</td>\n",
       "      <td>NaN</td>\n",
       "      <td>NaN</td>\n",
       "      <td>NaN</td>\n",
       "      <td>NaN</td>\n",
       "      <td>NaN</td>\n",
       "      <td>{'cat_encoder__unknown_value': nan, 'classifie...</td>\n",
       "      <td>0.858762</td>\n",
       "      <td>0.864290</td>\n",
       "      <td>0.867134</td>\n",
       "      <td>0.863395</td>\n",
       "      <td>0.003476</td>\n",
       "      <td>34</td>\n",
       "    </tr>\n",
       "  </tbody>\n",
       "</table>\n",
       "<p>100 rows × 24 columns</p>\n",
       "</div>"
      ],
      "text/plain": [
       "    mean_fit_time  std_fit_time  ...  std_test_score  rank_test_score\n",
       "0        2.936934      0.056898  ...        0.002562               39\n",
       "1        2.804172      0.008023  ...        0.007594               35\n",
       "2        1.201455      0.014653  ...        0.003321               10\n",
       "3        4.031158      0.034245  ...        0.001581               94\n",
       "4        1.906238      0.009491  ...        0.004561               27\n",
       "..            ...           ...  ...             ...              ...\n",
       "95      15.465202      0.880778  ...        0.002189               15\n",
       "96       6.117545      0.016200  ...        0.004016               55\n",
       "97       2.875012      0.019920  ...        0.004633               59\n",
       "98       0.885625      0.029326  ...        0.002094                1\n",
       "99       3.185162      0.022505  ...        0.003476               34\n",
       "\n",
       "[100 rows x 24 columns]"
      ]
     },
     "execution_count": 47,
     "metadata": {
      "tags": []
     },
     "output_type": "execute_result"
    }
   ],
   "source": [
    "results"
   ]
  },
  {
   "cell_type": "markdown",
   "metadata": {
    "id": "OpFBk55gIc07"
   },
   "source": [
    "El mejor modelo es..."
   ]
  },
  {
   "cell_type": "code",
   "execution_count": null,
   "metadata": {
    "colab": {
     "base_uri": "https://localhost:8080/"
    },
    "id": "yA2qNzXuIc07",
    "outputId": "f227ce20-2c62-4d98-ce7f-369d74390398"
   },
   "outputs": [
    {
     "data": {
      "text/plain": [
       "Pipeline(steps=[('selector_num',\n",
       "                 ColumnTransformer(remainder='passthrough',\n",
       "                                   transformers=[('poly',\n",
       "                                                  PolynomialFeatures(degree=1),\n",
       "                                                  ['age', 'fnlwgt',\n",
       "                                                   'education-num',\n",
       "                                                   'capital-gain',\n",
       "                                                   'capital-loss',\n",
       "                                                   'hours-per-week'])])),\n",
       "                ('cat_encoder',\n",
       "                 OrdinalEncoder(handle_unknown='use_encoded_value',\n",
       "                                unknown_value=nan)),\n",
       "                ('classifier',\n",
       "                 LGBMClassifier(colsample_bytree=0.5680659184034419,\n",
       "                                learning_rate=0.42851649311686096, max_depth=5,\n",
       "                                min_child_weight=6.628314238403993,\n",
       "                                n_estimators=140, n_jobs=3,\n",
       "                                reg_alpha=6.341209408980988,\n",
       "                                subsample=0.9611592624441331, verbose=-1))])"
      ]
     },
     "execution_count": 48,
     "metadata": {
      "tags": []
     },
     "output_type": "execute_result"
    }
   ],
   "source": [
    "model.best_estimator_"
   ]
  },
  {
   "cell_type": "markdown",
   "metadata": {
    "id": "LqSgGILYIc08"
   },
   "source": [
    "Para a dibujar la curva ROC, para eso primero usamos `predict_proba` y luego importamos `plot_roc` de `scikitplot`."
   ]
  },
  {
   "cell_type": "code",
   "execution_count": null,
   "metadata": {
    "id": "S4sgTLVoIc08"
   },
   "outputs": [],
   "source": [
    "y_predicted = model.predict_proba(X_test)"
   ]
  },
  {
   "cell_type": "code",
   "execution_count": null,
   "metadata": {
    "colab": {
     "base_uri": "https://localhost:8080/"
    },
    "id": "lWLv8K8pIc08",
    "outputId": "e54329d9-a61f-4bca-f8f6-f56f15936f63"
   },
   "outputs": [
    {
     "name": "stdout",
     "output_type": "stream",
     "text": [
      "Collecting scikit-plot\n",
      "  Downloading scikit_plot-0.3.7-py3-none-any.whl (33 kB)\n",
      "Requirement already satisfied: scipy>=0.9 in /usr/local/lib/python3.7/dist-packages (from scikit-plot) (1.4.1)\n",
      "Requirement already satisfied: joblib>=0.10 in /usr/local/lib/python3.7/dist-packages (from scikit-plot) (1.0.1)\n",
      "Requirement already satisfied: matplotlib>=1.4.0 in /usr/local/lib/python3.7/dist-packages (from scikit-plot) (3.2.2)\n",
      "Requirement already satisfied: scikit-learn>=0.18 in /usr/local/lib/python3.7/dist-packages (from scikit-plot) (0.24.2)\n",
      "Requirement already satisfied: python-dateutil>=2.1 in /usr/local/lib/python3.7/dist-packages (from matplotlib>=1.4.0->scikit-plot) (2.8.1)\n",
      "Requirement already satisfied: pyparsing!=2.0.4,!=2.1.2,!=2.1.6,>=2.0.1 in /usr/local/lib/python3.7/dist-packages (from matplotlib>=1.4.0->scikit-plot) (2.4.7)\n",
      "Requirement already satisfied: numpy>=1.11 in /usr/local/lib/python3.7/dist-packages (from matplotlib>=1.4.0->scikit-plot) (1.19.5)\n",
      "Requirement already satisfied: kiwisolver>=1.0.1 in /usr/local/lib/python3.7/dist-packages (from matplotlib>=1.4.0->scikit-plot) (1.3.1)\n",
      "Requirement already satisfied: cycler>=0.10 in /usr/local/lib/python3.7/dist-packages (from matplotlib>=1.4.0->scikit-plot) (0.10.0)\n",
      "Requirement already satisfied: six in /usr/local/lib/python3.7/dist-packages (from cycler>=0.10->matplotlib>=1.4.0->scikit-plot) (1.15.0)\n",
      "Requirement already satisfied: threadpoolctl>=2.0.0 in /usr/local/lib/python3.7/dist-packages (from scikit-learn>=0.18->scikit-plot) (2.2.0)\n",
      "Installing collected packages: scikit-plot\n",
      "Successfully installed scikit-plot-0.3.7\n"
     ]
    }
   ],
   "source": [
    "!pip install scikit-plot"
   ]
  },
  {
   "cell_type": "code",
   "execution_count": 33,
   "metadata": {
    "id": "1vCx3PDNIc08"
   },
   "outputs": [],
   "source": [
    "from scikitplot.metrics import plot_roc"
   ]
  },
  {
   "cell_type": "code",
   "execution_count": null,
   "metadata": {
    "colab": {
     "base_uri": "https://localhost:8080/",
     "height": 419
    },
    "id": "VLAhveNSIc09",
    "outputId": "6f5185f3-2336-4932-8e44-9381ef0a72b5"
   },
   "outputs": [
    {
     "data": {
      "text/plain": [
       "<matplotlib.axes._subplots.AxesSubplot at 0x7fa280dd5050>"
      ]
     },
     "execution_count": 52,
     "metadata": {
      "tags": []
     },
     "output_type": "execute_result"
    },
    {
     "data": {
      "image/png": "[encoded data removed]",
      "text/plain": [
       "<Figure size 600x400 with 1 Axes>"
      ]
     },
     "metadata": {
      "tags": []
     },
     "output_type": "display_data"
    }
   ],
   "source": [
    "plot_roc(y_test, y_predicted)"
   ]
  },
  {
   "cell_type": "code",
   "execution_count": 34,
   "metadata": {
    "id": "hwbGZvTiIc09"
   },
   "outputs": [],
   "source": [
    "from sklearn.metrics import roc_auc_score"
   ]
  },
  {
   "cell_type": "code",
   "execution_count": 74,
   "metadata": {
    "colab": {
     "base_uri": "https://localhost:8080/"
    },
    "id": "uzxqq7Y9Ic09",
    "outputId": "5b4f69dd-19a2-4517-a944-918dcd0b137b"
   },
   "outputs": [
    {
     "data": {
      "text/plain": [
       "0.9229927186633102"
      ]
     },
     "execution_count": 74,
     "metadata": {
      "tags": []
     },
     "output_type": "execute_result"
    }
   ],
   "source": [
    "roc_auc_score(y_test, y_predicted[:,1])"
   ]
  },
  {
   "cell_type": "markdown",
   "metadata": {
    "id": "MWk523pRIc09"
   },
   "source": [
    "## Uso CatBoost con categorical features"
   ]
  },
  {
   "cell_type": "code",
   "execution_count": 25,
   "metadata": {
    "id": "IWNyvj44Ic0-"
   },
   "outputs": [],
   "source": [
    "categorical_features_indices = np.where(X_train.dtypes == object)[0]"
   ]
  },
  {
   "cell_type": "code",
   "execution_count": 26,
   "metadata": {
    "id": "yujZTFy-Ic0-"
   },
   "outputs": [],
   "source": [
    "model = CatBoostClassifier(\n",
    "    random_seed=42,\n",
    "    logging_level='Silent'\n",
    ")"
   ]
  },
  {
   "cell_type": "code",
   "execution_count": null,
   "metadata": {
    "colab": {
     "base_uri": "https://localhost:8080/",
     "height": 17,
     "referenced_widgets": [
      "d3a6559c9d11439dbbe0718235ccb8c1"
     ]
    },
    "id": "a3_k-ym7Ic0-",
    "outputId": "6437b3d4-9300-4d14-ff52-95c35d0f8241"
   },
   "outputs": [],
   "source": [
    "from catboost import Pool, metrics, cv\n",
    "\n",
    "cv_params = model.get_params()\n",
    "cv_params.update({\n",
    "    'loss_function': metrics.Logloss()\n",
    "})\n",
    "cv_data = cv(\n",
    "    Pool(X_train, y_train, cat_features=categorical_features_indices),\n",
    "    cv_params,\n",
    "    plot=True\n",
    ")"
   ]
  },
  {
   "cell_type": "code",
   "execution_count": 28,
   "metadata": {
    "colab": {
     "base_uri": "https://localhost:8080/"
    },
    "id": "9RoyxoDmIc0_",
    "outputId": "99de0da2-cad7-4a27-8151-4f2b98897012"
   },
   "outputs": [
    {
     "data": {
      "text/plain": [
       "999"
      ]
     },
     "execution_count": 28,
     "metadata": {},
     "output_type": "execute_result"
    }
   ],
   "source": [
    "# obtengo la mejor epoch\n",
    "cv_data[\"test-Logloss-mean\"].argmin()"
   ]
  },
  {
   "cell_type": "code",
   "execution_count": 29,
   "metadata": {
    "id": "J8SzE5n7Ic0_"
   },
   "outputs": [],
   "source": [
    "# vamos a reentrenar con 811 steps"
   ]
  },
  {
   "cell_type": "code",
   "execution_count": 30,
   "metadata": {
    "id": "8gmNwlQiIc1A"
   },
   "outputs": [],
   "source": [
    "model = CatBoostClassifier(\n",
    "    iterations=811,\n",
    "    random_seed=42,\n",
    "    logging_level='Silent',\n",
    "    cat_features=categorical_features_indices\n",
    ")"
   ]
  },
  {
   "cell_type": "code",
   "execution_count": 31,
   "metadata": {
    "colab": {
     "base_uri": "https://localhost:8080/"
    },
    "id": "mGevZQwvIc1A",
    "outputId": "5d554542-c615-4c88-b0c0-e202950061f8"
   },
   "outputs": [
    {
     "data": {
      "text/plain": [
       "<catboost.core.CatBoostClassifier at 0x7f570c1c2370>"
      ]
     },
     "execution_count": 31,
     "metadata": {},
     "output_type": "execute_result"
    }
   ],
   "source": [
    "model.fit(X_train, y_train)"
   ]
  },
  {
   "cell_type": "code",
   "execution_count": 32,
   "metadata": {
    "id": "VianiZnUIc1A"
   },
   "outputs": [],
   "source": [
    "predictions_probs = model.predict_proba(X_test)"
   ]
  },
  {
   "cell_type": "code",
   "execution_count": 35,
   "metadata": {
    "colab": {
     "base_uri": "https://localhost:8080/",
     "height": 419
    },
    "id": "VTTRqRTZIc1A",
    "outputId": "4aaf9be6-8ccc-40de-97fd-92d9d321cb16"
   },
   "outputs": [
    {
     "data": {
      "text/plain": [
       "<AxesSubplot:title={'center':'ROC Curves'}, xlabel='False Positive Rate', ylabel='True Positive Rate'>"
      ]
     },
     "execution_count": 35,
     "metadata": {},
     "output_type": "execute_result"
    },
    {
     "data": {
      "image/png": "[encoded data removed]",
      "text/plain": [
       "<Figure size 432x288 with 1 Axes>"
      ]
     },
     "metadata": {
      "needs_background": "light"
     },
     "output_type": "display_data"
    }
   ],
   "source": [
    "plot_roc(y_test, predictions_probs)"
   ]
  },
  {
   "cell_type": "code",
   "execution_count": 36,
   "metadata": {
    "colab": {
     "base_uri": "https://localhost:8080/"
    },
    "id": "e-wIHBwKIc1B",
    "outputId": "67da8dd5-3c6f-437c-c914-36dc4a175c5b"
   },
   "outputs": [
    {
     "data": {
      "text/plain": [
       "0.9280263506479142"
      ]
     },
     "execution_count": 36,
     "metadata": {},
     "output_type": "execute_result"
    }
   ],
   "source": [
    "roc_auc_score(y_test, predictions_probs[:,1])"
   ]
  }
 ],
 "metadata": {
  "colab": {
   "name": "xgboost.ipynb",
   "provenance": []
  },
  "environment": {
   "name": "pytorch-gpu.1-8.m71",
   "type": "gcloud",
   "uri": "gcr.io/deeplearning-platform-release/pytorch-gpu.1-8:m71"
  },
  "kernelspec": {
   "display_name": "pipeenv",
   "language": "python",
   "name": "pipeenv"
  },
  "language_info": {
   "codemirror_mode": {
    "name": "ipython",
    "version": 3
   },
   "file_extension": ".py",
   "mimetype": "text/x-python",
   "name": "python",
   "nbconvert_exporter": "python",
   "pygments_lexer": "ipython3",
   "version": "3.9.5"
  },
  "widgets": {
   "application/vnd.jupyter.widget-state+json": {
    "00214d4a68d941d19778ddb17f0c47de": {
     "model_module": "@jupyter-widgets/base",
     "model_module_version": "1.2.0",
     "model_name": "LayoutModel",
     "state": {
      "_model_module": "@jupyter-widgets/base",
      "_model_module_version": "1.2.0",
      "_model_name": "LayoutModel",
      "_view_count": null,
      "_view_module": "@jupyter-widgets/base",
      "_view_module_version": "1.2.0",
      "_view_name": "LayoutView",
      "align_content": null,
      "align_items": null,
      "align_self": null,
      "border": null,
      "bottom": null,
      "display": null,
      "flex": "2",
      "flex_flow": null,
      "grid_area": null,
      "grid_auto_columns": null,
      "grid_auto_flow": null,
      "grid_auto_rows": null,
      "grid_column": null,
      "grid_gap": null,
      "grid_row": null,
      "grid_template_areas": null,
      "grid_template_columns": null,
      "grid_template_rows": null,
      "height": null,
      "justify_content": null,
      "justify_items": null,
      "left": null,
      "margin": null,
      "max_height": null,
      "max_width": null,
      "min_height": null,
      "min_width": null,
      "object_fit": null,
      "object_position": null,
      "order": null,
      "overflow": null,
      "overflow_x": null,
      "overflow_y": null,
      "padding": null,
      "right": null,
      "top": null,
      "visibility": null,
      "width": null
     }
    },
    "1620fef0d32f463a9679f208224312bc": {
     "model_module": "@jupyter-widgets/controls",
     "model_module_version": "1.5.0",
     "model_name": "FloatProgressModel",
     "state": {
      "_dom_classes": [],
      "_model_module": "@jupyter-widgets/controls",
      "_model_module_version": "1.5.0",
      "_model_name": "FloatProgressModel",
      "_view_count": null,
      "_view_module": "@jupyter-widgets/controls",
      "_view_module_version": "1.5.0",
      "_view_name": "ProgressView",
      "bar_style": "success",
      "description": "",
      "description_tooltip": null,
      "layout": "IPY_MODEL_00214d4a68d941d19778ddb17f0c47de",
      "max": 1,
      "min": 0,
      "orientation": "horizontal",
      "style": "IPY_MODEL_5248f948480f483a90d9a9f5a79c3afc",
      "value": 1
     }
    },
    "1c3bcb3dae0c48b591dcde28c9cb7a06": {
     "model_module": "@jupyter-widgets/controls",
     "model_module_version": "1.5.0",
     "model_name": "DescriptionStyleModel",
     "state": {
      "_model_module": "@jupyter-widgets/controls",
      "_model_module_version": "1.5.0",
      "_model_name": "DescriptionStyleModel",
      "_view_count": null,
      "_view_module": "@jupyter-widgets/base",
      "_view_module_version": "1.2.0",
      "_view_name": "StyleView",
      "description_width": ""
     }
    },
    "27c634f04a2e42e4b2c78619ebfa8c9c": {
     "model_module": "@jupyter-widgets/base",
     "model_module_version": "1.2.0",
     "model_name": "LayoutModel",
     "state": {
      "_model_module": "@jupyter-widgets/base",
      "_model_module_version": "1.2.0",
      "_model_name": "LayoutModel",
      "_view_count": null,
      "_view_module": "@jupyter-widgets/base",
      "_view_module_version": "1.2.0",
      "_view_name": "LayoutView",
      "align_content": null,
      "align_items": null,
      "align_self": null,
      "border": null,
      "bottom": null,
      "display": "inline-flex",
      "flex": null,
      "flex_flow": "row wrap",
      "grid_area": null,
      "grid_auto_columns": null,
      "grid_auto_flow": null,
      "grid_auto_rows": null,
      "grid_column": null,
      "grid_gap": null,
      "grid_row": null,
      "grid_template_areas": null,
      "grid_template_columns": null,
      "grid_template_rows": null,
      "height": null,
      "justify_content": null,
      "justify_items": null,
      "left": null,
      "margin": null,
      "max_height": null,
      "max_width": null,
      "min_height": null,
      "min_width": null,
      "object_fit": null,
      "object_position": null,
      "order": null,
      "overflow": null,
      "overflow_x": null,
      "overflow_y": null,
      "padding": null,
      "right": null,
      "top": null,
      "visibility": null,
      "width": "100%"
     }
    },
    "3588c9e253cb4950aceda16625c39c74": {
     "model_module": "@jupyter-widgets/controls",
     "model_module_version": "1.5.0",
     "model_name": "HTMLModel",
     "state": {
      "_dom_classes": [],
      "_model_module": "@jupyter-widgets/controls",
      "_model_module_version": "1.5.0",
      "_model_name": "HTMLModel",
      "_view_count": null,
      "_view_module": "@jupyter-widgets/controls",
      "_view_module_version": "1.5.0",
      "_view_name": "HTMLView",
      "description": "",
      "description_tooltip": null,
      "layout": "IPY_MODEL_9259a16797d94c9ea543938ec9f0dbd4",
      "placeholder": "​",
      "style": "IPY_MODEL_9f657e3a45f84c329c348b11abdba32c",
      "value": " [100%]   00:01 -&gt; (00:00 left)"
     }
    },
    "5248f948480f483a90d9a9f5a79c3afc": {
     "model_module": "@jupyter-widgets/controls",
     "model_module_version": "1.5.0",
     "model_name": "ProgressStyleModel",
     "state": {
      "_model_module": "@jupyter-widgets/controls",
      "_model_module_version": "1.5.0",
      "_model_name": "ProgressStyleModel",
      "_view_count": null,
      "_view_module": "@jupyter-widgets/base",
      "_view_module_version": "1.2.0",
      "_view_name": "StyleView",
      "bar_color": null,
      "description_width": ""
     }
    },
    "57adb5033d66497095f89eea77409666": {
     "model_module": "@jupyter-widgets/controls",
     "model_module_version": "1.5.0",
     "model_name": "HTMLModel",
     "state": {
      "_dom_classes": [],
      "_model_module": "@jupyter-widgets/controls",
      "_model_module_version": "1.5.0",
      "_model_name": "HTMLModel",
      "_view_count": null,
      "_view_module": "@jupyter-widgets/controls",
      "_view_module_version": "1.5.0",
      "_view_name": "HTMLView",
      "description": "",
      "description_tooltip": null,
      "layout": "IPY_MODEL_ef62fd419a3a48588bceaefaefe6df29",
      "placeholder": "​",
      "style": "IPY_MODEL_1c3bcb3dae0c48b591dcde28c9cb7a06",
      "value": "Done! Use &#x27;show&#x27; commands to display/save.   "
     }
    },
    "9259a16797d94c9ea543938ec9f0dbd4": {
     "model_module": "@jupyter-widgets/base",
     "model_module_version": "1.2.0",
     "model_name": "LayoutModel",
     "state": {
      "_model_module": "@jupyter-widgets/base",
      "_model_module_version": "1.2.0",
      "_model_name": "LayoutModel",
      "_view_count": null,
      "_view_module": "@jupyter-widgets/base",
      "_view_module_version": "1.2.0",
      "_view_name": "LayoutView",
      "align_content": null,
      "align_items": null,
      "align_self": null,
      "border": null,
      "bottom": null,
      "display": null,
      "flex": null,
      "flex_flow": null,
      "grid_area": null,
      "grid_auto_columns": null,
      "grid_auto_flow": null,
      "grid_auto_rows": null,
      "grid_column": null,
      "grid_gap": null,
      "grid_row": null,
      "grid_template_areas": null,
      "grid_template_columns": null,
      "grid_template_rows": null,
      "height": null,
      "justify_content": null,
      "justify_items": null,
      "left": null,
      "margin": null,
      "max_height": null,
      "max_width": null,
      "min_height": null,
      "min_width": null,
      "object_fit": null,
      "object_position": null,
      "order": null,
      "overflow": null,
      "overflow_x": null,
      "overflow_y": null,
      "padding": null,
      "right": null,
      "top": null,
      "visibility": null,
      "width": null
     }
    },
    "9f657e3a45f84c329c348b11abdba32c": {
     "model_module": "@jupyter-widgets/controls",
     "model_module_version": "1.5.0",
     "model_name": "DescriptionStyleModel",
     "state": {
      "_model_module": "@jupyter-widgets/controls",
      "_model_module_version": "1.5.0",
      "_model_name": "DescriptionStyleModel",
      "_view_count": null,
      "_view_module": "@jupyter-widgets/base",
      "_view_module_version": "1.2.0",
      "_view_name": "StyleView",
      "description_width": ""
     }
    },
    "d3a6559c9d11439dbbe0718235ccb8c1": {
     "model_module": "catboost-widget",
     "model_module_version": "^1.0.0",
     "model_name": "CatboostWidgetModel",
     "state": {
      "_dom_classes": [],
      "_model_module": "catboost-widget",
      "_model_module_version": "^1.0.0",
      "_model_name": "CatboostWidgetModel",
      "_view_count": null,
      "_view_module": "catboost-widget",
      "_view_module_version": "^1.0.0",
      "_view_name": "CatboostWidgetView",
      "data": {
       "catboost_info": {
        "content": {
         "data": {
          "iterations": [
           {
            "fold_0_learn": [
             0.6626959928
            ],
            "fold_0_test": [
             0.6621865041
            ],
            "fold_1_learn": [
             0.662200609
            ],
            "fold_1_test": [
             0.661821185
            ],
            "fold_2_learn": [
             0.6626769298
            ],
            "fold_2_test": [
             0.6619104731
            ],
            "iteration": 0
           },
           {
            "fold_0_learn": [
             0.6328174625
            ],
            "fold_0_test": [
             0.6325311379
            ],
            "fold_1_learn": [
             0.6325870845
            ],
            "fold_1_test": [
             0.6319686587
            ],
            "fold_2_learn": [
             0.6338510933
            ],
            "fold_2_test": [
             0.6329356062
            ],
            "iteration": 1
           },
           {
            "fold_0_learn": [
             0.605607092
            ],
            "fold_0_test": [
             0.6050144079
            ],
            "fold_1_learn": [
             0.6056603198
            ],
            "fold_1_test": [
             0.6044797545
            ],
            "fold_2_learn": [
             0.6079729846
            ],
            "fold_2_test": [
             0.6062747701
            ],
            "iteration": 2
           },
           {
            "fold_0_learn": [
             0.5810059961
            ],
            "fold_0_test": [
             0.5799890214
            ],
            "fold_1_learn": [
             0.580941232
            ],
            "fold_1_test": [
             0.5793719958
            ],
            "fold_2_learn": [
             0.5836609484
            ],
            "fold_2_test": [
             0.5816087103
            ],
            "iteration": 3,
            "passed_time": 1.185046969,
            "remaining_time": 295.0766952
           },
           {
            "fold_0_learn": [
             0.5613700286
            ],
            "fold_0_test": [
             0.5600877684
            ],
            "fold_1_learn": [
             0.5602966939
            ],
            "fold_1_test": [
             0.5590314496
            ],
            "fold_2_learn": [
             0.5621904366
            ],
            "fold_2_test": [
             0.5602394604
            ],
            "iteration": 4
           },
           {
            "fold_0_learn": [
             0.5408345436
            ],
            "fold_0_test": [
             0.5395648102
            ],
            "fold_1_learn": [
             0.5413652742
            ],
            "fold_1_test": [
             0.5396420633
            ],
            "fold_2_learn": [
             0.5431013255
            ],
            "fold_2_test": [
             0.5408534233
            ],
            "iteration": 5
           },
           {
            "fold_0_learn": [
             0.5224548571
            ],
            "fold_0_test": [
             0.5210850633
            ],
            "fold_1_learn": [
             0.5221554617
            ],
            "fold_1_test": [
             0.520524017
            ],
            "fold_2_learn": [
             0.5241018773
            ],
            "fold_2_test": [
             0.5214523935
            ],
            "iteration": 6
           },
           {
            "fold_0_learn": [
             0.5041364967
            ],
            "fold_0_test": [
             0.5029214554
            ],
            "fold_1_learn": [
             0.5052047864
            ],
            "fold_1_test": [
             0.503601874
            ],
            "fold_2_learn": [
             0.5068185378
            ],
            "fold_2_test": [
             0.5032877913
            ],
            "iteration": 7
           },
           {
            "fold_0_learn": [
             0.4868573035
            ],
            "fold_0_test": [
             0.485734937
            ],
            "fold_1_learn": [
             0.4904464871
            ],
            "fold_1_test": [
             0.488687554
            ],
            "fold_2_learn": [
             0.4895098428
            ],
            "fold_2_test": [
             0.485525641
            ],
            "iteration": 8
           },
           {
            "fold_0_learn": [
             0.4742411493
            ],
            "fold_0_test": [
             0.4729650934
            ],
            "fold_1_learn": [
             0.4764122624
            ],
            "fold_1_test": [
             0.4745881406
            ],
            "fold_2_learn": [
             0.4755481137
            ],
            "fold_2_test": [
             0.4712727057
            ],
            "iteration": 9,
            "passed_time": 2.73839998,
            "remaining_time": 271.101598
           },
           {
            "fold_0_learn": [
             0.4597445621
            ],
            "fold_0_test": [
             0.4582817523
            ],
            "fold_1_learn": [
             0.4626675456
            ],
            "fold_1_test": [
             0.460981207
            ],
            "fold_2_learn": [
             0.4626307954
            ],
            "fold_2_test": [
             0.4578265291
            ],
            "iteration": 10
           },
           {
            "fold_0_learn": [
             0.4491313372
            ],
            "fold_0_test": [
             0.447587701
            ],
            "fold_1_learn": [
             0.4512475656
            ],
            "fold_1_test": [
             0.4494819479
            ],
            "fold_2_learn": [
             0.4516614189
            ],
            "fold_2_test": [
             0.4466041152
            ],
            "iteration": 11
           },
           {
            "fold_0_learn": [
             0.4380163428
            ],
            "fold_0_test": [
             0.4364993039
            ],
            "fold_1_learn": [
             0.4387817211
            ],
            "fold_1_test": [
             0.437001675
            ],
            "fold_2_learn": [
             0.4397171076
            ],
            "fold_2_test": [
             0.4344747409
            ],
            "iteration": 12
           },
           {
            "fold_0_learn": [
             0.4270962817
            ],
            "fold_0_test": [
             0.4257679678
            ],
            "fold_1_learn": [
             0.4281001264
            ],
            "fold_1_test": [
             0.4265615877
            ],
            "fold_2_learn": [
             0.4287527954
            ],
            "fold_2_test": [
             0.4236810736
            ],
            "iteration": 13
           },
           {
            "fold_0_learn": [
             0.4179746011
            ],
            "fold_0_test": [
             0.4167377259
            ],
            "fold_1_learn": [
             0.4182387358
            ],
            "fold_1_test": [
             0.4166410333
            ],
            "fold_2_learn": [
             0.4201960877
            ],
            "fold_2_test": [
             0.4150634265
            ],
            "iteration": 14,
            "passed_time": 4.03960621,
            "remaining_time": 265.2674744
           },
           {
            "fold_0_learn": [
             0.4087963422
            ],
            "fold_0_test": [
             0.4075344639
            ],
            "fold_1_learn": [
             0.4096036386
            ],
            "fold_1_test": [
             0.4080181806
            ],
            "fold_2_learn": [
             0.4127752417
            ],
            "fold_2_test": [
             0.4073079057
            ],
            "iteration": 15
           },
           {
            "fold_0_learn": [
             0.4001902571
            ],
            "fold_0_test": [
             0.3990518225
            ],
            "fold_1_learn": [
             0.4011915665
            ],
            "fold_1_test": [
             0.3999443452
            ],
            "fold_2_learn": [
             0.4045079881
            ],
            "fold_2_test": [
             0.3989226073
            ],
            "iteration": 16
           },
           {
            "fold_0_learn": [
             0.3934518997
            ],
            "fold_0_test": [
             0.3921243803
            ],
            "fold_1_learn": [
             0.3938828034
            ],
            "fold_1_test": [
             0.3927342763
            ],
            "fold_2_learn": [
             0.3965312804
            ],
            "fold_2_test": [
             0.3907173095
            ],
            "iteration": 17
           },
           {
            "fold_0_learn": [
             0.3868051618
            ],
            "fold_0_test": [
             0.3855105906
            ],
            "fold_1_learn": [
             0.3881016667
            ],
            "fold_1_test": [
             0.3869231177
            ],
            "fold_2_learn": [
             0.3895724107
            ],
            "fold_2_test": [
             0.3838856349
            ],
            "iteration": 18
           },
           {
            "fold_0_learn": [
             0.3800870863
            ],
            "fold_0_test": [
             0.3788846408
            ],
            "fold_1_learn": [
             0.3820677828
            ],
            "fold_1_test": [
             0.380855219
            ],
            "fold_2_learn": [
             0.3842268178
            ],
            "fold_2_test": [
             0.3782317707
            ],
            "iteration": 19
           },
           {
            "fold_0_learn": [
             0.3746566864
            ],
            "fold_0_test": [
             0.3734986152
            ],
            "fold_1_learn": [
             0.3755990704
            ],
            "fold_1_test": [
             0.3745067586
            ],
            "fold_2_learn": [
             0.3786691767
            ],
            "fold_2_test": [
             0.3725737338
            ],
            "iteration": 20,
            "passed_time": 5.602977143,
            "remaining_time": 261.2054583
           },
           {
            "fold_0_learn": [
             0.3701174283
            ],
            "fold_0_test": [
             0.3689764701
            ],
            "fold_1_learn": [
             0.3703569625
            ],
            "fold_1_test": [
             0.3693179917
            ],
            "fold_2_learn": [
             0.373901891
            ],
            "fold_2_test": [
             0.3678314603
            ],
            "iteration": 21
           },
           {
            "fold_0_learn": [
             0.3649653776
            ],
            "fold_0_test": [
             0.3638558367
            ],
            "fold_1_learn": [
             0.3662773088
            ],
            "fold_1_test": [
             0.3651320303
            ],
            "fold_2_learn": [
             0.3699106486
            ],
            "fold_2_test": [
             0.3637484791
            ],
            "iteration": 22
           },
           {
            "fold_0_learn": [
             0.3611720725
            ],
            "fold_0_test": [
             0.3601351315
            ],
            "fold_1_learn": [
             0.3605069135
            ],
            "fold_1_test": [
             0.3595665529
            ],
            "fold_2_learn": [
             0.3652804795
            ],
            "fold_2_test": [
             0.3589930223
            ],
            "iteration": 23
           },
           {
            "fold_0_learn": [
             0.3562191649
            ],
            "fold_0_test": [
             0.3552463306
            ],
            "fold_1_learn": [
             0.3564366126
            ],
            "fold_1_test": [
             0.3554323808
            ],
            "fold_2_learn": [
             0.3614724244
            ],
            "fold_2_test": [
             0.3551250667
            ],
            "iteration": 24
           },
           {
            "fold_0_learn": [
             0.3523003418
            ],
            "fold_0_test": [
             0.3512740475
            ],
            "fold_1_learn": [
             0.3528595038
            ],
            "fold_1_test": [
             0.3518378466
            ],
            "fold_2_learn": [
             0.359011905
            ],
            "fold_2_test": [
             0.3525783517
            ],
            "iteration": 25
           },
           {
            "fold_0_learn": [
             0.3481766769
            ],
            "fold_0_test": [
             0.347263573
            ],
            "fold_1_learn": [
             0.3491190352
            ],
            "fold_1_test": [
             0.3479638266
            ],
            "fold_2_learn": [
             0.3553177088
            ],
            "fold_2_test": [
             0.3487743673
            ],
            "iteration": 26
           },
           {
            "fold_0_learn": [
             0.3449739393
            ],
            "fold_0_test": [
             0.3441358856
            ],
            "fold_1_learn": [
             0.3458267728
            ],
            "fold_1_test": [
             0.3447310041
            ],
            "fold_2_learn": [
             0.3520930479
            ],
            "fold_2_test": [
             0.3455017916
            ],
            "iteration": 27
           },
           {
            "fold_0_learn": [
             0.3423903768
            ],
            "fold_0_test": [
             0.3414233298
            ],
            "fold_1_learn": [
             0.3430031218
            ],
            "fold_1_test": [
             0.3419015961
            ],
            "fold_2_learn": [
             0.3488003732
            ],
            "fold_2_test": [
             0.3423374064
            ],
            "iteration": 28,
            "passed_time": 7.63023966,
            "remaining_time": 255.4814728
           },
           {
            "fold_0_learn": [
             0.3391591011
            ],
            "fold_0_test": [
             0.3383227473
            ],
            "fold_1_learn": [
             0.3403496383
            ],
            "fold_1_test": [
             0.3392936006
            ],
            "fold_2_learn": [
             0.3452979928
            ],
            "fold_2_test": [
             0.3387572992
            ],
            "iteration": 29
           },
           {
            "fold_0_learn": [
             0.3364333659
            ],
            "fold_0_test": [
             0.3357236626
            ],
            "fold_1_learn": [
             0.337843351
            ],
            "fold_1_test": [
             0.3368516231
            ],
            "fold_2_learn": [
             0.342203134
            ],
            "fold_2_test": [
             0.3354947254
            ],
            "iteration": 30
           },
           {
            "fold_0_learn": [
             0.3336880487
            ],
            "fold_0_test": [
             0.3328785606
            ],
            "fold_1_learn": [
             0.3354886227
            ],
            "fold_1_test": [
             0.3346003591
            ],
            "fold_2_learn": [
             0.3395008846
            ],
            "fold_2_test": [
             0.3325335655
            ],
            "iteration": 31
           },
           {
            "fold_0_learn": [
             0.3308555666
            ],
            "fold_0_test": [
             0.3301188637
            ],
            "fold_1_learn": [
             0.3325390529
            ],
            "fold_1_test": [
             0.3316787308
            ],
            "fold_2_learn": [
             0.3374238799
            ],
            "fold_2_test": [
             0.3304122865
            ],
            "iteration": 32
           },
           {
            "fold_0_learn": [
             0.3287323528
            ],
            "fold_0_test": [
             0.327959415
            ],
            "fold_1_learn": [
             0.3308510246
            ],
            "fold_1_test": [
             0.3299881624
            ],
            "fold_2_learn": [
             0.3350162837
            ],
            "fold_2_test": [
             0.327999589
            ],
            "iteration": 33
           },
           {
            "fold_0_learn": [
             0.3269881001
            ],
            "fold_0_test": [
             0.3263104073
            ],
            "fold_1_learn": [
             0.3290124137
            ],
            "fold_1_test": [
             0.3281890969
            ],
            "fold_2_learn": [
             0.3323797316
            ],
            "fold_2_test": [
             0.3253493696
            ],
            "iteration": 34,
            "passed_time": 9.29291556,
            "remaining_time": 256.2189576
           },
           {
            "fold_0_learn": [
             0.3245062572
            ],
            "fold_0_test": [
             0.3239405787
            ],
            "fold_1_learn": [
             0.3268752833
            ],
            "fold_1_test": [
             0.3260717983
            ],
            "fold_2_learn": [
             0.3306074712
            ],
            "fold_2_test": [
             0.3234282732
            ],
            "iteration": 35
           },
           {
            "fold_0_learn": [
             0.3228424647
            ],
            "fold_0_test": [
             0.3223671674
            ],
            "fold_1_learn": [
             0.324477348
            ],
            "fold_1_test": [
             0.323700835
            ],
            "fold_2_learn": [
             0.3286780236
            ],
            "fold_2_test": [
             0.3214249582
            ],
            "iteration": 36
           },
           {
            "fold_0_learn": [
             0.3205719985
            ],
            "fold_0_test": [
             0.3202219925
            ],
            "fold_1_learn": [
             0.3227928064
            ],
            "fold_1_test": [
             0.3218161639
            ],
            "fold_2_learn": [
             0.326723216
            ],
            "fold_2_test": [
             0.3194983065
            ],
            "iteration": 37
           },
           {
            "fold_0_learn": [
             0.3189906697
            ],
            "fold_0_test": [
             0.3185815191
            ],
            "fold_1_learn": [
             0.3211843959
            ],
            "fold_1_test": [
             0.3202597417
            ],
            "fold_2_learn": [
             0.3253589564
            ],
            "fold_2_test": [
             0.3181040482
            ],
            "iteration": 38
           },
           {
            "fold_0_learn": [
             0.3172034362
            ],
            "fold_0_test": [
             0.3168809107
            ],
            "fold_1_learn": [
             0.3197613082
            ],
            "fold_1_test": [
             0.3188813171
            ],
            "fold_2_learn": [
             0.3236691514
            ],
            "fold_2_test": [
             0.3162784614
            ],
            "iteration": 39,
            "passed_time": 10.63297126,
            "remaining_time": 255.1913103
           },
           {
            "fold_0_learn": [
             0.3155966646
            ],
            "fold_0_test": [
             0.3152737143
            ],
            "fold_1_learn": [
             0.3182884215
            ],
            "fold_1_test": [
             0.3174008647
            ],
            "fold_2_learn": [
             0.3218622363
            ],
            "fold_2_test": [
             0.3143329761
            ],
            "iteration": 40
           },
           {
            "fold_0_learn": [
             0.3142964048
            ],
            "fold_0_test": [
             0.3140726265
            ],
            "fold_1_learn": [
             0.3169273715
            ],
            "fold_1_test": [
             0.3160949966
            ],
            "fold_2_learn": [
             0.3206348082
            ],
            "fold_2_test": [
             0.3130485996
            ],
            "iteration": 41
           },
           {
            "fold_0_learn": [
             0.3129867845
            ],
            "fold_0_test": [
             0.3128898249
            ],
            "fold_1_learn": [
             0.3152454042
            ],
            "fold_1_test": [
             0.3144410976
            ],
            "fold_2_learn": [
             0.3192587731
            ],
            "fold_2_test": [
             0.3116546384
            ],
            "iteration": 42
           },
           {
            "fold_0_learn": [
             0.3118616947
            ],
            "fold_0_test": [
             0.3119076211
            ],
            "fold_1_learn": [
             0.3139671675
            ],
            "fold_1_test": [
             0.3131159555
            ],
            "fold_2_learn": [
             0.317762732
            ],
            "fold_2_test": [
             0.3101471542
            ],
            "iteration": 43
           },
           {
            "fold_0_learn": [
             0.3104848436
            ],
            "fold_0_test": [
             0.3106187464
            ],
            "fold_1_learn": [
             0.3127257694
            ],
            "fold_1_test": [
             0.3119509525
            ],
            "fold_2_learn": [
             0.3161288701
            ],
            "fold_2_test": [
             0.3083963537
            ],
            "iteration": 44,
            "passed_time": 12.0202202,
            "remaining_time": 255.0957843
           },
           {
            "fold_0_learn": [
             0.3093025253
            ],
            "fold_0_test": [
             0.3094440781
            ],
            "fold_1_learn": [
             0.3112737963
            ],
            "fold_1_test": [
             0.3105640897
            ],
            "fold_2_learn": [
             0.3149838862
            ],
            "fold_2_test": [
             0.307257874
            ],
            "iteration": 45
           },
           {
            "fold_0_learn": [
             0.3079802911
            ],
            "fold_0_test": [
             0.3081809357
            ],
            "fold_1_learn": [
             0.3102278498
            ],
            "fold_1_test": [
             0.3095376499
            ],
            "fold_2_learn": [
             0.313877355
            ],
            "fold_2_test": [
             0.3060948393
            ],
            "iteration": 46
           },
           {
            "fold_0_learn": [
             0.3070131059
            ],
            "fold_0_test": [
             0.3073296226
            ],
            "fold_1_learn": [
             0.3092923609
            ],
            "fold_1_test": [
             0.3086792304
            ],
            "fold_2_learn": [
             0.3128770759
            ],
            "fold_2_test": [
             0.3051179817
            ],
            "iteration": 47
           },
           {
            "fold_0_learn": [
             0.3063075051
            ],
            "fold_0_test": [
             0.3066758018
            ],
            "fold_1_learn": [
             0.3082090468
            ],
            "fold_1_test": [
             0.3075710987
            ],
            "fold_2_learn": [
             0.3114908493
            ],
            "fold_2_test": [
             0.3036643632
            ],
            "iteration": 48
           },
           {
            "fold_0_learn": [
             0.3054414678
            ],
            "fold_0_test": [
             0.3058419551
            ],
            "fold_1_learn": [
             0.3074168329
            ],
            "fold_1_test": [
             0.3067899151
            ],
            "fold_2_learn": [
             0.310721847
            ],
            "fold_2_test": [
             0.3029125061
            ],
            "iteration": 49,
            "passed_time": 13.420196,
            "remaining_time": 254.983724
           },
           {
            "fold_0_learn": [
             0.3043164054
            ],
            "fold_0_test": [
             0.3047435532
            ],
            "fold_1_learn": [
             0.3063350562
            ],
            "fold_1_test": [
             0.3057152017
            ],
            "fold_2_learn": [
             0.3100890473
            ],
            "fold_2_test": [
             0.3022334599
            ],
            "iteration": 50
           },
           {
            "fold_0_learn": [
             0.3036889649
            ],
            "fold_0_test": [
             0.304205256
            ],
            "fold_1_learn": [
             0.3053318426
            ],
            "fold_1_test": [
             0.3048641585
            ],
            "fold_2_learn": [
             0.3092512779
            ],
            "fold_2_test": [
             0.3013406399
            ],
            "iteration": 51
           },
           {
            "fold_0_learn": [
             0.3024340611
            ],
            "fold_0_test": [
             0.3029520669
            ],
            "fold_1_learn": [
             0.3045678767
            ],
            "fold_1_test": [
             0.3041454313
            ],
            "fold_2_learn": [
             0.3085188476
            ],
            "fold_2_test": [
             0.3006321448
            ],
            "iteration": 52
           },
           {
            "fold_0_learn": [
             0.301726519
            ],
            "fold_0_test": [
             0.3022522141
            ],
            "fold_1_learn": [
             0.3037281987
            ],
            "fold_1_test": [
             0.3033306694
            ],
            "fold_2_learn": [
             0.3082166077
            ],
            "fold_2_test": [
             0.3002865227
            ],
            "iteration": 53
           },
           {
            "fold_0_learn": [
             0.3011138643
            ],
            "fold_0_test": [
             0.301718501
            ],
            "fold_1_learn": [
             0.3026538694
            ],
            "fold_1_test": [
             0.3023688334
            ],
            "fold_2_learn": [
             0.3074177424
            ],
            "fold_2_test": [
             0.2994676875
            ],
            "iteration": 54
           },
           {
            "fold_0_learn": [
             0.3002599485
            ],
            "fold_0_test": [
             0.3009609868
            ],
            "fold_1_learn": [
             0.3019617183
            ],
            "fold_1_test": [
             0.3017141482
            ],
            "fold_2_learn": [
             0.306548349
            ],
            "fold_2_test": [
             0.298529145
            ],
            "iteration": 55,
            "passed_time": 15.00939025,
            "remaining_time": 253.0154356
           },
           {
            "fold_0_learn": [
             0.299631237
            ],
            "fold_0_test": [
             0.3003931895
            ],
            "fold_1_learn": [
             0.301253335
            ],
            "fold_1_test": [
             0.3010108004
            ],
            "fold_2_learn": [
             0.305771489
            ],
            "fold_2_test": [
             0.297706273
            ],
            "iteration": 56
           },
           {
            "fold_0_learn": [
             0.2989971462
            ],
            "fold_0_test": [
             0.2998270523
            ],
            "fold_1_learn": [
             0.3004121525
            ],
            "fold_1_test": [
             0.3002233651
            ],
            "fold_2_learn": [
             0.3049399431
            ],
            "fold_2_test": [
             0.2968346483
            ],
            "iteration": 57
           },
           {
            "fold_0_learn": [
             0.2984516502
            ],
            "fold_0_test": [
             0.2993687867
            ],
            "fold_1_learn": [
             0.2998496404
            ],
            "fold_1_test": [
             0.2996340211
            ],
            "fold_2_learn": [
             0.3042679042
            ],
            "fold_2_test": [
             0.2962198732
            ],
            "iteration": 58
           },
           {
            "fold_0_learn": [
             0.2979602925
            ],
            "fold_0_test": [
             0.2989169588
            ],
            "fold_1_learn": [
             0.2990115127
            ],
            "fold_1_test": [
             0.298900099
            ],
            "fold_2_learn": [
             0.3037154733
            ],
            "fold_2_test": [
             0.2956503147
            ],
            "iteration": 59,
            "passed_time": 16.11804142,
            "remaining_time": 252.5159822
           },
           {
            "fold_0_learn": [
             0.2974888063
            ],
            "fold_0_test": [
             0.2985003011
            ],
            "fold_1_learn": [
             0.2980056124
            ],
            "fold_1_test": [
             0.2980045926
            ],
            "fold_2_learn": [
             0.302890141
            ],
            "fold_2_test": [
             0.2947855127
            ],
            "iteration": 60
           },
           {
            "fold_0_learn": [
             0.2967434164
            ],
            "fold_0_test": [
             0.2977353367
            ],
            "fold_1_learn": [
             0.2974564043
            ],
            "fold_1_test": [
             0.2975393716
            ],
            "fold_2_learn": [
             0.3024363862
            ],
            "fold_2_test": [
             0.2943075797
            ],
            "iteration": 61
           },
           {
            "fold_0_learn": [
             0.2964289887
            ],
            "fold_0_test": [
             0.297428545
            ],
            "fold_1_learn": [
             0.2970268924
            ],
            "fold_1_test": [
             0.2971648375
            ],
            "fold_2_learn": [
             0.301839666
            ],
            "fold_2_test": [
             0.2936667431
            ],
            "iteration": 62
           },
           {
            "fold_0_learn": [
             0.2960867742
            ],
            "fold_0_test": [
             0.2971267047
            ],
            "fold_1_learn": [
             0.2964628086
            ],
            "fold_1_test": [
             0.296630266
            ],
            "fold_2_learn": [
             0.3013518962
            ],
            "fold_2_test": [
             0.2931610046
            ],
            "iteration": 63
           },
           {
            "fold_0_learn": [
             0.2954585217
            ],
            "fold_0_test": [
             0.2965492613
            ],
            "fold_1_learn": [
             0.2959203614
            ],
            "fold_1_test": [
             0.2961098712
            ],
            "fold_2_learn": [
             0.3008982723
            ],
            "fold_2_test": [
             0.2926860765
            ],
            "iteration": 64
           },
           {
            "fold_0_learn": [
             0.2949898678
            ],
            "fold_0_test": [
             0.2960838617
            ],
            "fold_1_learn": [
             0.2954548533
            ],
            "fold_1_test": [
             0.2956221903
            ],
            "fold_2_learn": [
             0.3002781475
            ],
            "fold_2_test": [
             0.2920847605
            ],
            "iteration": 65,
            "passed_time": 17.76048135,
            "remaining_time": 251.3377209
           },
           {
            "fold_0_learn": [
             0.294651721
            ],
            "fold_0_test": [
             0.2957727767
            ],
            "fold_1_learn": [
             0.2947519531
            ],
            "fold_1_test": [
             0.2948511185
            ],
            "fold_2_learn": [
             0.2998141196
            ],
            "fold_2_test": [
             0.2915911556
            ],
            "iteration": 66
           },
           {
            "fold_0_learn": [
             0.2941919094
            ],
            "fold_0_test": [
             0.2953202886
            ],
            "fold_1_learn": [
             0.294335809
            ],
            "fold_1_test": [
             0.2944902773
            ],
            "fold_2_learn": [
             0.2993678307
            ],
            "fold_2_test": [
             0.2911921113
            ],
            "iteration": 67
           },
           {
            "fold_0_learn": [
             0.2939085881
            ],
            "fold_0_test": [
             0.295093127
            ],
            "fold_1_learn": [
             0.2937662761
            ],
            "fold_1_test": [
             0.2939879408
            ],
            "fold_2_learn": [
             0.298721054
            ],
            "fold_2_test": [
             0.2906164975
            ],
            "iteration": 68
           },
           {
            "fold_0_learn": [
             0.2935778856
            ],
            "fold_0_test": [
             0.2948477518
            ],
            "fold_1_learn": [
             0.2932403123
            ],
            "fold_1_test": [
             0.293478025
            ],
            "fold_2_learn": [
             0.2982121532
            ],
            "fold_2_test": [
             0.2901531034
            ],
            "iteration": 69
           },
           {
            "fold_0_learn": [
             0.2930980782
            ],
            "fold_0_test": [
             0.2944391915
            ],
            "fold_1_learn": [
             0.2927931792
            ],
            "fold_1_test": [
             0.2930343604
            ],
            "fold_2_learn": [
             0.297849285
            ],
            "fold_2_test": [
             0.2898643546
            ],
            "iteration": 70
           },
           {
            "fold_0_learn": [
             0.2924829289
            ],
            "fold_0_test": [
             0.2937365695
            ],
            "fold_1_learn": [
             0.2924708149
            ],
            "fold_1_test": [
             0.2927877483
            ],
            "fold_2_learn": [
             0.2974756718
            ],
            "fold_2_test": [
             0.2895092359
            ],
            "iteration": 71,
            "passed_time": 19.43639519,
            "remaining_time": 250.5135381
           },
           {
            "fold_0_learn": [
             0.2921235889
            ],
            "fold_0_test": [
             0.2933997666
            ],
            "fold_1_learn": [
             0.2920803495
            ],
            "fold_1_test": [
             0.292446643
            ],
            "fold_2_learn": [
             0.2970590418
            ],
            "fold_2_test": [
             0.2891252987
            ],
            "iteration": 72
           },
           {
            "fold_0_learn": [
             0.2917184972
            ],
            "fold_0_test": [
             0.2930500264
            ],
            "fold_1_learn": [
             0.2915742474
            ],
            "fold_1_test": [
             0.2919532214
            ],
            "fold_2_learn": [
             0.2966183474
            ],
            "fold_2_test": [
             0.2886518391
            ],
            "iteration": 73
           },
           {
            "fold_0_learn": [
             0.2914839351
            ],
            "fold_0_test": [
             0.292891129
            ],
            "fold_1_learn": [
             0.2912254618
            ],
            "fold_1_test": [
             0.2916264343
            ],
            "fold_2_learn": [
             0.296292758
            ],
            "fold_2_test": [
             0.2882923106
            ],
            "iteration": 74
           },
           {
            "fold_0_learn": [
             0.2911193129
            ],
            "fold_0_test": [
             0.2925224753
            ],
            "fold_1_learn": [
             0.2908662046
            ],
            "fold_1_test": [
             0.2913487719
            ],
            "fold_2_learn": [
             0.2958938559
            ],
            "fold_2_test": [
             0.2877907487
            ],
            "iteration": 75
           },
           {
            "fold_0_learn": [
             0.2906748668
            ],
            "fold_0_test": [
             0.292140759
            ],
            "fold_1_learn": [
             0.2904775954
            ],
            "fold_1_test": [
             0.2909756655
            ],
            "fold_2_learn": [
             0.2954439858
            ],
            "fold_2_test": [
             0.2873116239
            ],
            "iteration": 76
           },
           {
            "fold_0_learn": [
             0.290340619
            ],
            "fold_0_test": [
             0.2918259786
            ],
            "fold_1_learn": [
             0.2903182323
            ],
            "fold_1_test": [
             0.2907660386
            ],
            "fold_2_learn": [
             0.2950828119
            ],
            "fold_2_test": [
             0.2869121396
            ],
            "iteration": 77
           },
           {
            "fold_0_learn": [
             0.2900380919
            ],
            "fold_0_test": [
             0.2916100509
            ],
            "fold_1_learn": [
             0.2899325787
            ],
            "fold_1_test": [
             0.2903523661
            ],
            "fold_2_learn": [
             0.2946990013
            ],
            "fold_2_test": [
             0.2865505775
            ],
            "iteration": 78,
            "passed_time": 21.35104894,
            "remaining_time": 248.9153934
           },
           {
            "fold_0_learn": [
             0.2897988721
            ],
            "fold_0_test": [
             0.291430703
            ],
            "fold_1_learn": [
             0.2895971401
            ],
            "fold_1_test": [
             0.2900691493
            ],
            "fold_2_learn": [
             0.2942884282
            ],
            "fold_2_test": [
             0.2861460634
            ],
            "iteration": 79
           },
           {
            "fold_0_learn": [
             0.2893985108
            ],
            "fold_0_test": [
             0.2911349401
            ],
            "fold_1_learn": [
             0.2893869537
            ],
            "fold_1_test": [
             0.2899044283
            ],
            "fold_2_learn": [
             0.2939129097
            ],
            "fold_2_test": [
             0.2858245483
            ],
            "iteration": 80
           },
           {
            "fold_0_learn": [
             0.2888575116
            ],
            "fold_0_test": [
             0.2906820054
            ],
            "fold_1_learn": [
             0.2891284067
            ],
            "fold_1_test": [
             0.2896961332
            ],
            "fold_2_learn": [
             0.2934512775
            ],
            "fold_2_test": [
             0.2854571165
            ],
            "iteration": 81
           },
           {
            "fold_0_learn": [
             0.2882967067
            ],
            "fold_0_test": [
             0.2901510032
            ],
            "fold_1_learn": [
             0.2886790917
            ],
            "fold_1_test": [
             0.289289857
            ],
            "fold_2_learn": [
             0.2931399402
            ],
            "fold_2_test": [
             0.2851784082
            ],
            "iteration": 82
           },
           {
            "fold_0_learn": [
             0.2879963867
            ],
            "fold_0_test": [
             0.2899031931
            ],
            "fold_1_learn": [
             0.2883936361
            ],
            "fold_1_test": [
             0.2890568983
            ],
            "fold_2_learn": [
             0.2928073024
            ],
            "fold_2_test": [
             0.2848562057
            ],
            "iteration": 83
           },
           {
            "fold_0_learn": [
             0.2877588543
            ],
            "fold_0_test": [
             0.2896992392
            ],
            "fold_1_learn": [
             0.2880494289
            ],
            "fold_1_test": [
             0.2888090628
            ],
            "fold_2_learn": [
             0.2924329108
            ],
            "fold_2_test": [
             0.2844766055
            ],
            "iteration": 84,
            "passed_time": 22.96486145,
            "remaining_time": 247.2099791
           },
           {
            "fold_0_learn": [
             0.2875558048
            ],
            "fold_0_test": [
             0.2895436428
            ],
            "fold_1_learn": [
             0.287812482
            ],
            "fold_1_test": [
             0.2886206852
            ],
            "fold_2_learn": [
             0.2921987052
            ],
            "fold_2_test": [
             0.2843321718
            ],
            "iteration": 85
           },
           {
            "fold_0_learn": [
             0.2871037281
            ],
            "fold_0_test": [
             0.2890367878
            ],
            "fold_1_learn": [
             0.2874220827
            ],
            "fold_1_test": [
             0.28826648
            ],
            "fold_2_learn": [
             0.2918608207
            ],
            "fold_2_test": [
             0.2839782376
            ],
            "iteration": 86
           },
           {
            "fold_0_learn": [
             0.2867893374
            ],
            "fold_0_test": [
             0.2888060714
            ],
            "fold_1_learn": [
             0.2871820038
            ],
            "fold_1_test": [
             0.2880346142
            ],
            "fold_2_learn": [
             0.2916800102
            ],
            "fold_2_test": [
             0.2838168194
            ],
            "iteration": 87
           },
           {
            "fold_0_learn": [
             0.2865604558
            ],
            "fold_0_test": [
             0.2886097033
            ],
            "fold_1_learn": [
             0.2868999523
            ],
            "fold_1_test": [
             0.2877705291
            ],
            "fold_2_learn": [
             0.2913855355
            ],
            "fold_2_test": [
             0.2835589912
            ],
            "iteration": 88
           },
           {
            "fold_0_learn": [
             0.2863661387
            ],
            "fold_0_test": [
             0.2883959429
            ],
            "fold_1_learn": [
             0.2866570542
            ],
            "fold_1_test": [
             0.2874931218
            ],
            "fold_2_learn": [
             0.2911789065
            ],
            "fold_2_test": [
             0.2833121174
            ],
            "iteration": 89,
            "passed_time": 24.60039186,
            "remaining_time": 248.7372954
           },
           {
            "fold_0_learn": [
             0.2862061999
            ],
            "fold_0_test": [
             0.2882573637
            ],
            "fold_1_learn": [
             0.2864658835
            ],
            "fold_1_test": [
             0.2873031726
            ],
            "fold_2_learn": [
             0.2907991634
            ],
            "fold_2_test": [
             0.2828804574
            ],
            "iteration": 90
           },
           {
            "fold_0_learn": [
             0.2860056137
            ],
            "fold_0_test": [
             0.2880341267
            ],
            "fold_1_learn": [
             0.2861379639
            ],
            "fold_1_test": [
             0.2870091211
            ],
            "fold_2_learn": [
             0.2905118638
            ],
            "fold_2_test": [
             0.2826056267
            ],
            "iteration": 91
           },
           {
            "fold_0_learn": [
             0.285707255
            ],
            "fold_0_test": [
             0.2876897948
            ],
            "fold_1_learn": [
             0.2858865261
            ],
            "fold_1_test": [
             0.2868391754
            ],
            "fold_2_learn": [
             0.2902562959
            ],
            "fold_2_test": [
             0.2824165994
            ],
            "iteration": 92
           },
           {
            "fold_0_learn": [
             0.2854370798
            ],
            "fold_0_test": [
             0.2874920475
            ],
            "fold_1_learn": [
             0.2856498475
            ],
            "fold_1_test": [
             0.2866511245
            ],
            "fold_2_learn": [
             0.2899873224
            ],
            "fold_2_test": [
             0.2821508195
            ],
            "iteration": 93
           },
           {
            "fold_0_learn": [
             0.2851315673
            ],
            "fold_0_test": [
             0.2872023206
            ],
            "fold_1_learn": [
             0.285419073
            ],
            "fold_1_test": [
             0.2864570637
            ],
            "fold_2_learn": [
             0.2897937257
            ],
            "fold_2_test": [
             0.2820056741
            ],
            "iteration": 94,
            "passed_time": 26.00248369,
            "remaining_time": 247.707871
           },
           {
            "fold_0_learn": [
             0.284814119
            ],
            "fold_0_test": [
             0.2868115366
            ],
            "fold_1_learn": [
             0.2851075595
            ],
            "fold_1_test": [
             0.2861308969
            ],
            "fold_2_learn": [
             0.2895580224
            ],
            "fold_2_test": [
             0.2818008184
            ],
            "iteration": 95
           },
           {
            "fold_0_learn": [
             0.2846081145
            ],
            "fold_0_test": [
             0.2866699819
            ],
            "fold_1_learn": [
             0.2849232766
            ],
            "fold_1_test": [
             0.2859932865
            ],
            "fold_2_learn": [
             0.2892255405
            ],
            "fold_2_test": [
             0.2815235092
            ],
            "iteration": 96
           },
           {
            "fold_0_learn": [
             0.2843942136
            ],
            "fold_0_test": [
             0.2865242123
            ],
            "fold_1_learn": [
             0.2847306486
            ],
            "fold_1_test": [
             0.2858535921
            ],
            "fold_2_learn": [
             0.2889879818
            ],
            "fold_2_test": [
             0.2813605215
            ],
            "iteration": 97
           },
           {
            "fold_0_learn": [
             0.2840543252
            ],
            "fold_0_test": [
             0.2861732359
            ],
            "fold_1_learn": [
             0.2845625827
            ],
            "fold_1_test": [
             0.2857354859
            ],
            "fold_2_learn": [
             0.2888026376
            ],
            "fold_2_test": [
             0.2811906884
            ],
            "iteration": 98
           },
           {
            "fold_0_learn": [
             0.2838739377
            ],
            "fold_0_test": [
             0.2860090323
            ],
            "fold_1_learn": [
             0.2842963102
            ],
            "fold_1_test": [
             0.2854988668
            ],
            "fold_2_learn": [
             0.2886289853
            ],
            "fold_2_test": [
             0.2810570802
            ],
            "iteration": 99,
            "passed_time": 27.47407889,
            "remaining_time": 247.26671
           },
           {
            "fold_0_learn": [
             0.2835163612
            ],
            "fold_0_test": [
             0.2856254001
            ],
            "fold_1_learn": [
             0.284095263
            ],
            "fold_1_test": [
             0.2853601362
            ],
            "fold_2_learn": [
             0.2883679134
            ],
            "fold_2_test": [
             0.280830687
            ],
            "iteration": 100
           },
           {
            "fold_0_learn": [
             0.2833359947
            ],
            "fold_0_test": [
             0.2854981708
            ],
            "fold_1_learn": [
             0.2839360351
            ],
            "fold_1_test": [
             0.285210544
            ],
            "fold_2_learn": [
             0.2881338589
            ],
            "fold_2_test": [
             0.280659911
            ],
            "iteration": 101
           },
           {
            "fold_0_learn": [
             0.2831616498
            ],
            "fold_0_test": [
             0.285330387
            ],
            "fold_1_learn": [
             0.283740277
            ],
            "fold_1_test": [
             0.2851466782
            ],
            "fold_2_learn": [
             0.2878223094
            ],
            "fold_2_test": [
             0.2804598022
            ],
            "iteration": 102
           },
           {
            "fold_0_learn": [
             0.2829114875
            ],
            "fold_0_test": [
             0.2851159672
            ],
            "fold_1_learn": [
             0.2835312394
            ],
            "fold_1_test": [
             0.2850467209
            ],
            "fold_2_learn": [
             0.2875987764
            ],
            "fold_2_test": [
             0.2802502662
            ],
            "iteration": 103
           },
           {
            "fold_0_learn": [
             0.2827380054
            ],
            "fold_0_test": [
             0.2849354487
            ],
            "fold_1_learn": [
             0.2832927096
            ],
            "fold_1_test": [
             0.2847714044
            ],
            "fold_2_learn": [
             0.2874433623
            ],
            "fold_2_test": [
             0.280143173
            ],
            "iteration": 104,
            "passed_time": 28.93804146,
            "remaining_time": 246.6623534
           },
           {
            "fold_0_learn": [
             0.2825059399
            ],
            "fold_0_test": [
             0.2847769802
            ],
            "fold_1_learn": [
             0.2831464266
            ],
            "fold_1_test": [
             0.2846688053
            ],
            "fold_2_learn": [
             0.2872714509
            ],
            "fold_2_test": [
             0.2800235669
            ],
            "iteration": 105
           },
           {
            "fold_0_learn": [
             0.2823848009
            ],
            "fold_0_test": [
             0.2846581354
            ],
            "fold_1_learn": [
             0.2829848221
            ],
            "fold_1_test": [
             0.2845274833
            ],
            "fold_2_learn": [
             0.2871197995
            ],
            "fold_2_test": [
             0.2798921367
            ],
            "iteration": 106
           },
           {
            "fold_0_learn": [
             0.2822410185
            ],
            "fold_0_test": [
             0.2845517635
            ],
            "fold_1_learn": [
             0.2828228672
            ],
            "fold_1_test": [
             0.2844106227
            ],
            "fold_2_learn": [
             0.2870628081
            ],
            "fold_2_test": [
             0.2798254189
            ],
            "iteration": 107
           },
           {
            "fold_0_learn": [
             0.2820593312
            ],
            "fold_0_test": [
             0.2843876636
            ],
            "fold_1_learn": [
             0.2826467005
            ],
            "fold_1_test": [
             0.2843165655
            ],
            "fold_2_learn": [
             0.2869021551
            ],
            "fold_2_test": [
             0.279696912
            ],
            "iteration": 108
           },
           {
            "fold_0_learn": [
             0.2819245676
            ],
            "fold_0_test": [
             0.2842881628
            ],
            "fold_1_learn": [
             0.2824244789
            ],
            "fold_1_test": [
             0.2841618487
            ],
            "fold_2_learn": [
             0.2867397388
            ],
            "fold_2_test": [
             0.279573739
            ],
            "iteration": 109,
            "passed_time": 30.32871826,
            "remaining_time": 245.3869023
           },
           {
            "fold_0_learn": [
             0.281723557
            ],
            "fold_0_test": [
             0.284207742
            ],
            "fold_1_learn": [
             0.2822176488
            ],
            "fold_1_test": [
             0.2840453653
            ],
            "fold_2_learn": [
             0.2865905725
            ],
            "fold_2_test": [
             0.2794852198
            ],
            "iteration": 110
           },
           {
            "fold_0_learn": [
             0.2816227178
            ],
            "fold_0_test": [
             0.2841235237
            ],
            "fold_1_learn": [
             0.2820602072
            ],
            "fold_1_test": [
             0.2839474148
            ],
            "fold_2_learn": [
             0.2862811879
            ],
            "fold_2_test": [
             0.279182261
            ],
            "iteration": 111
           },
           {
            "fold_0_learn": [
             0.2813897919
            ],
            "fold_0_test": [
             0.2839945313
            ],
            "fold_1_learn": [
             0.2819118999
            ],
            "fold_1_test": [
             0.2838243734
            ],
            "fold_2_learn": [
             0.2858075417
            ],
            "fold_2_test": [
             0.2786954513
            ],
            "iteration": 112
           },
           {
            "fold_0_learn": [
             0.2812184118
            ],
            "fold_0_test": [
             0.2839468595
            ],
            "fold_1_learn": [
             0.2817668815
            ],
            "fold_1_test": [
             0.2837182745
            ],
            "fold_2_learn": [
             0.285605902
            ],
            "fold_2_test": [
             0.2785416442
            ],
            "iteration": 113
           },
           {
            "fold_0_learn": [
             0.2810796013
            ],
            "fold_0_test": [
             0.28391146
            ],
            "fold_1_learn": [
             0.2813642936
            ],
            "fold_1_test": [
             0.2833614628
            ],
            "fold_2_learn": [
             0.2854998549
            ],
            "fold_2_test": [
             0.278484158
            ],
            "iteration": 114,
            "passed_time": 31.74708592,
            "remaining_time": 244.3145308
           },
           {
            "fold_0_learn": [
             0.2808891441
            ],
            "fold_0_test": [
             0.2838513728
            ],
            "fold_1_learn": [
             0.2811890733
            ],
            "fold_1_test": [
             0.2832665678
            ],
            "fold_2_learn": [
             0.2853473227
            ],
            "fold_2_test": [
             0.2783875301
            ],
            "iteration": 115
           },
           {
            "fold_0_learn": [
             0.2806415945
            ],
            "fold_0_test": [
             0.2837244549
            ],
            "fold_1_learn": [
             0.2809262764
            ],
            "fold_1_test": [
             0.2830079737
            ],
            "fold_2_learn": [
             0.2852221955
            ],
            "fold_2_test": [
             0.2783198236
            ],
            "iteration": 116
           },
           {
            "fold_0_learn": [
             0.280428452
            ],
            "fold_0_test": [
             0.2835951669
            ],
            "fold_1_learn": [
             0.2807751537
            ],
            "fold_1_test": [
             0.2828781974
            ],
            "fold_2_learn": [
             0.28503761
            ],
            "fold_2_test": [
             0.2781983673
            ],
            "iteration": 117
           },
           {
            "fold_0_learn": [
             0.2801966898
            ],
            "fold_0_test": [
             0.28350154
            ],
            "fold_1_learn": [
             0.2806361356
            ],
            "fold_1_test": [
             0.2828002042
            ],
            "fold_2_learn": [
             0.284851838
            ],
            "fold_2_test": [
             0.278029991
            ],
            "iteration": 118
           },
           {
            "fold_0_learn": [
             0.280041722
            ],
            "fold_0_test": [
             0.283425023
            ],
            "fold_1_learn": [
             0.2802164256
            ],
            "fold_1_test": [
             0.2824331702
            ],
            "fold_2_learn": [
             0.2846409714
            ],
            "fold_2_test": [
             0.2778148768
            ],
            "iteration": 119
           },
           {
            "fold_0_learn": [
             0.2799298796
            ],
            "fold_0_test": [
             0.2834141641
            ],
            "fold_1_learn": [
             0.2800958104
            ],
            "fold_1_test": [
             0.2823528288
            ],
            "fold_2_learn": [
             0.284367732
            ],
            "fold_2_test": [
             0.2775310371
            ],
            "iteration": 120,
            "passed_time": 33.41783276,
            "remaining_time": 242.7626033
           },
           {
            "fold_0_learn": [
             0.2797258575
            ],
            "fold_0_test": [
             0.2832875306
            ],
            "fold_1_learn": [
             0.2799874255
            ],
            "fold_1_test": [
             0.2823145714
            ],
            "fold_2_learn": [
             0.284026834
            ],
            "fold_2_test": [
             0.2772348174
            ],
            "iteration": 121
           },
           {
            "fold_0_learn": [
             0.2795704621
            ],
            "fold_0_test": [
             0.2832324134
            ],
            "fold_1_learn": [
             0.2798854773
            ],
            "fold_1_test": [
             0.2822243401
            ],
            "fold_2_learn": [
             0.2839148206
            ],
            "fold_2_test": [
             0.2771676475
            ],
            "iteration": 122
           },
           {
            "fold_0_learn": [
             0.2794516047
            ],
            "fold_0_test": [
             0.2831289517
            ],
            "fold_1_learn": [
             0.2797214758
            ],
            "fold_1_test": [
             0.2821200093
            ],
            "fold_2_learn": [
             0.2836329038
            ],
            "fold_2_test": [
             0.2769389612
            ],
            "iteration": 123
           },
           {
            "fold_0_learn": [
             0.2793053715
            ],
            "fold_0_test": [
             0.2830218658
            ],
            "fold_1_learn": [
             0.279579395
            ],
            "fold_1_test": [
             0.2820599149
            ],
            "fold_2_learn": [
             0.2834981312
            ],
            "fold_2_test": [
             0.2768574699
            ],
            "iteration": 124
           },
           {
            "fold_0_learn": [
             0.2791146774
            ],
            "fold_0_test": [
             0.2828513499
            ],
            "fold_1_learn": [
             0.2794492635
            ],
            "fold_1_test": [
             0.2819660188
            ],
            "fold_2_learn": [
             0.2833640065
            ],
            "fold_2_test": [
             0.2767983859
            ],
            "iteration": 125,
            "passed_time": 34.84781193,
            "remaining_time": 241.722124
           },
           {
            "fold_0_learn": [
             0.2790241505
            ],
            "fold_0_test": [
             0.2828138922
            ],
            "fold_1_learn": [
             0.2793023368
            ],
            "fold_1_test": [
             0.28186263
            ],
            "fold_2_learn": [
             0.2832821942
            ],
            "fold_2_test": [
             0.2767619258
            ],
            "iteration": 126
           },
           {
            "fold_0_learn": [
             0.2786985553
            ],
            "fold_0_test": [
             0.2825604758
            ],
            "fold_1_learn": [
             0.2790807204
            ],
            "fold_1_test": [
             0.2816961357
            ],
            "fold_2_learn": [
             0.2830891966
            ],
            "fold_2_test": [
             0.2765986846
            ],
            "iteration": 127
           },
           {
            "fold_0_learn": [
             0.2785836677
            ],
            "fold_0_test": [
             0.2825217716
            ],
            "fold_1_learn": [
             0.2788673403
            ],
            "fold_1_test": [
             0.2815606647
            ],
            "fold_2_learn": [
             0.282907766
            ],
            "fold_2_test": [
             0.2764821688
            ],
            "iteration": 128
           },
           {
            "fold_0_learn": [
             0.2784410839
            ],
            "fold_0_test": [
             0.2824496694
            ],
            "fold_1_learn": [
             0.2787967606
            ],
            "fold_1_test": [
             0.2815002328
            ],
            "fold_2_learn": [
             0.2827665726
            ],
            "fold_2_test": [
             0.2763742482
            ],
            "iteration": 129
           },
           {
            "fold_0_learn": [
             0.2782695344
            ],
            "fold_0_test": [
             0.2824014062
            ],
            "fold_1_learn": [
             0.2786432566
            ],
            "fold_1_test": [
             0.2814062507
            ],
            "fold_2_learn": [
             0.2825929314
            ],
            "fold_2_test": [
             0.2762473988
            ],
            "iteration": 130,
            "passed_time": 36.26559562,
            "remaining_time": 240.5710121
           },
           {
            "fold_0_learn": [
             0.2781613306
            ],
            "fold_0_test": [
             0.2823644633
            ],
            "fold_1_learn": [
             0.2784103455
            ],
            "fold_1_test": [
             0.2812696175
            ],
            "fold_2_learn": [
             0.2825236649
            ],
            "fold_2_test": [
             0.2762054238
            ],
            "iteration": 131
           },
           {
            "fold_0_learn": [
             0.2780442564
            ],
            "fold_0_test": [
             0.2822984222
            ],
            "fold_1_learn": [
             0.2783010331
            ],
            "fold_1_test": [
             0.2812303193
            ],
            "fold_2_learn": [
             0.2823433738
            ],
            "fold_2_test": [
             0.2760213238
            ],
            "iteration": 132
           },
           {
            "fold_0_learn": [
             0.2778568911
            ],
            "fold_0_test": [
             0.2821035354
            ],
            "fold_1_learn": [
             0.2780621961
            ],
            "fold_1_test": [
             0.2809882202
            ],
            "fold_2_learn": [
             0.2822441763
            ],
            "fold_2_test": [
             0.2759304577
            ],
            "iteration": 133
           },
           {
            "fold_0_learn": [
             0.2776963997
            ],
            "fold_0_test": [
             0.2821008527
            ],
            "fold_1_learn": [
             0.2778589338
            ],
            "fold_1_test": [
             0.2808487833
            ],
            "fold_2_learn": [
             0.2820934751
            ],
            "fold_2_test": [
             0.2758165626
            ],
            "iteration": 134
           },
           {
            "fold_0_learn": [
             0.2774995017
            ],
            "fold_0_test": [
             0.2819307884
            ],
            "fold_1_learn": [
             0.2777175776
            ],
            "fold_1_test": [
             0.280762733
            ],
            "fold_2_learn": [
             0.2819540743
            ],
            "fold_2_test": [
             0.2757632707
            ],
            "iteration": 135,
            "passed_time": 37.63271532,
            "remaining_time": 239.0784267
           },
           {
            "fold_0_learn": [
             0.2773931167
            ],
            "fold_0_test": [
             0.2818536443
            ],
            "fold_1_learn": [
             0.2776300331
            ],
            "fold_1_test": [
             0.2807070447
            ],
            "fold_2_learn": [
             0.2817714292
            ],
            "fold_2_test": [
             0.2756090123
            ],
            "iteration": 136
           },
           {
            "fold_0_learn": [
             0.2772989711
            ],
            "fold_0_test": [
             0.2818181756
            ],
            "fold_1_learn": [
             0.2775223841
            ],
            "fold_1_test": [
             0.2806309679
            ],
            "fold_2_learn": [
             0.2816320828
            ],
            "fold_2_test": [
             0.2755242768
            ],
            "iteration": 137
           },
           {
            "fold_0_learn": [
             0.2772175409
            ],
            "fold_0_test": [
             0.2818170948
            ],
            "fold_1_learn": [
             0.2775142004
            ],
            "fold_1_test": [
             0.280615639
            ],
            "fold_2_learn": [
             0.2814815872
            ],
            "fold_2_test": [
             0.2754429142
            ],
            "iteration": 138
           },
           {
            "fold_0_learn": [
             0.2771188209
            ],
            "fold_0_test": [
             0.2817222684
            ],
            "fold_1_learn": [
             0.2773955602
            ],
            "fold_1_test": [
             0.2805736327
            ],
            "fold_2_learn": [
             0.2812990472
            ],
            "fold_2_test": [
             0.2753466345
            ],
            "iteration": 139,
            "passed_time": 38.70140679,
            "remaining_time": 237.7372131
           },
           {
            "fold_0_learn": [
             0.276958598
            ],
            "fold_0_test": [
             0.2816158745
            ],
            "fold_1_learn": [
             0.2772583709
            ],
            "fold_1_test": [
             0.2804885041
            ],
            "fold_2_learn": [
             0.2811324192
            ],
            "fold_2_test": [
             0.2752521571
            ],
            "iteration": 140
           },
           {
            "fold_0_learn": [
             0.2768624309
            ],
            "fold_0_test": [
             0.2815995762
            ],
            "fold_1_learn": [
             0.2771053079
            ],
            "fold_1_test": [
             0.2804257085
            ],
            "fold_2_learn": [
             0.280983513
            ],
            "fold_2_test": [
             0.2751657293
            ],
            "iteration": 141
           },
           {
            "fold_0_learn": [
             0.2767259053
            ],
            "fold_0_test": [
             0.2815710108
            ],
            "fold_1_learn": [
             0.2769852264
            ],
            "fold_1_test": [
             0.2803773032
            ],
            "fold_2_learn": [
             0.2809138769
            ],
            "fold_2_test": [
             0.2751095198
            ],
            "iteration": 142
           },
           {
            "fold_0_learn": [
             0.2765423443
            ],
            "fold_0_test": [
             0.2814583509
            ],
            "fold_1_learn": [
             0.2769237479
            ],
            "fold_1_test": [
             0.2803431927
            ],
            "fold_2_learn": [
             0.2807554659
            ],
            "fold_2_test": [
             0.2750057542
            ],
            "iteration": 143
           },
           {
            "fold_0_learn": [
             0.276481749
            ],
            "fold_0_test": [
             0.2814028853
            ],
            "fold_1_learn": [
             0.2767630362
            ],
            "fold_1_test": [
             0.2802818173
            ],
            "fold_2_learn": [
             0.2805444184
            ],
            "fold_2_test": [
             0.2748309248
            ],
            "iteration": 144,
            "passed_time": 40.07811717,
            "remaining_time": 236.3226909
           },
           {
            "fold_0_learn": [
             0.276342599
            ],
            "fold_0_test": [
             0.2813278031
            ],
            "fold_1_learn": [
             0.2766663187
            ],
            "fold_1_test": [
             0.2802363373
            ],
            "fold_2_learn": [
             0.2804247644
            ],
            "fold_2_test": [
             0.2747456851
            ],
            "iteration": 145
           },
           {
            "fold_0_learn": [
             0.2762181807
            ],
            "fold_0_test": [
             0.2812593614
            ],
            "fold_1_learn": [
             0.2764771673
            ],
            "fold_1_test": [
             0.2800843556
            ],
            "fold_2_learn": [
             0.2803215367
            ],
            "fold_2_test": [
             0.2746852466
            ],
            "iteration": 146
           },
           {
            "fold_0_learn": [
             0.2760956644
            ],
            "fold_0_test": [
             0.2812045512
            ],
            "fold_1_learn": [
             0.2762984579
            ],
            "fold_1_test": [
             0.2799616655
            ],
            "fold_2_learn": [
             0.2801977156
            ],
            "fold_2_test": [
             0.274642059
            ],
            "iteration": 147
           },
           {
            "fold_0_learn": [
             0.2759061122
            ],
            "fold_0_test": [
             0.2810535639
            ],
            "fold_1_learn": [
             0.2761711781
            ],
            "fold_1_test": [
             0.2799044531
            ],
            "fold_2_learn": [
             0.2801480491
            ],
            "fold_2_test": [
             0.2745959729
            ],
            "iteration": 148
           },
           {
            "fold_0_learn": [
             0.2758289697
            ],
            "fold_0_test": [
             0.2809848942
            ],
            "fold_1_learn": [
             0.2760605559
            ],
            "fold_1_test": [
             0.2798136434
            ],
            "fold_2_learn": [
             0.2800064831
            ],
            "fold_2_test": [
             0.2744968921
            ],
            "iteration": 149,
            "passed_time": 41.49436534,
            "remaining_time": 235.1347369
           },
           {
            "fold_0_learn": [
             0.2757313835
            ],
            "fold_0_test": [
             0.2809024236
            ],
            "fold_1_learn": [
             0.2759751227
            ],
            "fold_1_test": [
             0.2798048593
            ],
            "fold_2_learn": [
             0.279928482
            ],
            "fold_2_test": [
             0.2744422429
            ],
            "iteration": 150
           },
           {
            "fold_0_learn": [
             0.2756451537
            ],
            "fold_0_test": [
             0.2808479331
            ],
            "fold_1_learn": [
             0.2758886887
            ],
            "fold_1_test": [
             0.2797534566
            ],
            "fold_2_learn": [
             0.2797866499
            ],
            "fold_2_test": [
             0.2743221261
            ],
            "iteration": 151
           },
           {
            "fold_0_learn": [
             0.2755905748
            ],
            "fold_0_test": [
             0.2808082298
            ],
            "fold_1_learn": [
             0.2757382585
            ],
            "fold_1_test": [
             0.2796201843
            ],
            "fold_2_learn": [
             0.2796532716
            ],
            "fold_2_test": [
             0.2742495221
            ],
            "iteration": 152
           },
           {
            "fold_0_learn": [
             0.2755029954
            ],
            "fold_0_test": [
             0.2807577328
            ],
            "fold_1_learn": [
             0.2754912418
            ],
            "fold_1_test": [
             0.2794313812
            ],
            "fold_2_learn": [
             0.2795731579
            ],
            "fold_2_test": [
             0.2741925713
            ],
            "iteration": 153
           },
           {
            "fold_0_learn": [
             0.2753971114
            ],
            "fold_0_test": [
             0.2806957578
            ],
            "fold_1_learn": [
             0.275403756
            ],
            "fold_1_test": [
             0.2793618865
            ],
            "fold_2_learn": [
             0.279468804
            ],
            "fold_2_test": [
             0.2741255285
            ],
            "iteration": 154,
            "passed_time": 42.80655624,
            "remaining_time": 233.3647743
           },
           {
            "fold_0_learn": [
             0.2753331488
            ],
            "fold_0_test": [
             0.2806897067
            ],
            "fold_1_learn": [
             0.2752961713
            ],
            "fold_1_test": [
             0.2793255239
            ],
            "fold_2_learn": [
             0.2793041298
            ],
            "fold_2_test": [
             0.2740224073
            ],
            "iteration": 155
           },
           {
            "fold_0_learn": [
             0.2751901474
            ],
            "fold_0_test": [
             0.2805598512
            ],
            "fold_1_learn": [
             0.2751726945
            ],
            "fold_1_test": [
             0.2792610127
            ],
            "fold_2_learn": [
             0.2791092895
            ],
            "fold_2_test": [
             0.2738781019
            ],
            "iteration": 156
           },
           {
            "fold_0_learn": [
             0.2750967056
            ],
            "fold_0_test": [
             0.2805515622
            ],
            "fold_1_learn": [
             0.2751048703
            ],
            "fold_1_test": [
             0.2792402259
            ],
            "fold_2_learn": [
             0.2789778087
            ],
            "fold_2_test": [
             0.2738066013
            ],
            "iteration": 157
           },
           {
            "fold_0_learn": [
             0.2749698932
            ],
            "fold_0_test": [
             0.280476597
            ],
            "fold_1_learn": [
             0.2749994568
            ],
            "fold_1_test": [
             0.2792031335
            ],
            "fold_2_learn": [
             0.2788488353
            ],
            "fold_2_test": [
             0.2737653285
            ],
            "iteration": 158
           },
           {
            "fold_0_learn": [
             0.2747484403
            ],
            "fold_0_test": [
             0.2803227823
            ],
            "fold_1_learn": [
             0.2747543758
            ],
            "fold_1_test": [
             0.278972735
            ],
            "fold_2_learn": [
             0.2787409032
            ],
            "fold_2_test": [
             0.273698964
            ],
            "iteration": 159
           },
           {
            "fold_0_learn": [
             0.2746438779
            ],
            "fold_0_test": [
             0.2802217365
            ],
            "fold_1_learn": [
             0.2746954846
            ],
            "fold_1_test": [
             0.2789454828
            ],
            "fold_2_learn": [
             0.2785850044
            ],
            "fold_2_test": [
             0.2736157705
            ],
            "iteration": 160,
            "passed_time": 44.45210695,
            "remaining_time": 231.6479362
           },
           {
            "fold_0_learn": [
             0.2745621425
            ],
            "fold_0_test": [
             0.2801600058
            ],
            "fold_1_learn": [
             0.2746192759
            ],
            "fold_1_test": [
             0.2789342856
            ],
            "fold_2_learn": [
             0.278441811
            ],
            "fold_2_test": [
             0.2735512133
            ],
            "iteration": 161
           },
           {
            "fold_0_learn": [
             0.2744910091
            ],
            "fold_0_test": [
             0.2801297464
            ],
            "fold_1_learn": [
             0.2744693369
            ],
            "fold_1_test": [
             0.2788462852
            ],
            "fold_2_learn": [
             0.2783129656
            ],
            "fold_2_test": [
             0.2734798416
            ],
            "iteration": 162
           },
           {
            "fold_0_learn": [
             0.274407432
            ],
            "fold_0_test": [
             0.2801049431
            ],
            "fold_1_learn": [
             0.2743745464
            ],
            "fold_1_test": [
             0.2787958035
            ],
            "fold_2_learn": [
             0.2782478966
            ],
            "fold_2_test": [
             0.2734300442
            ],
            "iteration": 163
           },
           {
            "fold_0_learn": [
             0.2742878708
            ],
            "fold_0_test": [
             0.2800601405
            ],
            "fold_1_learn": [
             0.2742586209
            ],
            "fold_1_test": [
             0.2787359886
            ],
            "fold_2_learn": [
             0.278164693
            ],
            "fold_2_test": [
             0.2733653293
            ],
            "iteration": 164
           },
           {
            "fold_0_learn": [
             0.2742088717
            ],
            "fold_0_test": [
             0.2800237562
            ],
            "fold_1_learn": [
             0.2740909788
            ],
            "fold_1_test": [
             0.2786334309
            ],
            "fold_2_learn": [
             0.2780364284
            ],
            "fold_2_test": [
             0.2732633636
            ],
            "iteration": 165
           },
           {
            "fold_0_learn": [
             0.2741271651
            ],
            "fold_0_test": [
             0.2799580873
            ],
            "fold_1_learn": [
             0.2739658955
            ],
            "fold_1_test": [
             0.2785510515
            ],
            "fold_2_learn": [
             0.2778823668
            ],
            "fold_2_test": [
             0.2731463605
            ],
            "iteration": 166,
            "passed_time": 46.07195912,
            "remaining_time": 229.8080356
           },
           {
            "fold_0_learn": [
             0.2740960406
            ],
            "fold_0_test": [
             0.2799454093
            ],
            "fold_1_learn": [
             0.2739011417
            ],
            "fold_1_test": [
             0.2784954171
            ],
            "fold_2_learn": [
             0.2777771066
            ],
            "fold_2_test": [
             0.2730399819
            ],
            "iteration": 167
           },
           {
            "fold_0_learn": [
             0.2739292425
            ],
            "fold_0_test": [
             0.2797993449
            ],
            "fold_1_learn": [
             0.2738267029
            ],
            "fold_1_test": [
             0.2784600176
            ],
            "fold_2_learn": [
             0.2776960641
            ],
            "fold_2_test": [
             0.273001792
            ],
            "iteration": 168
           },
           {
            "fold_0_learn": [
             0.2738330285
            ],
            "fold_0_test": [
             0.2797112812
            ],
            "fold_1_learn": [
             0.2736609318
            ],
            "fold_1_test": [
             0.2783249944
            ],
            "fold_2_learn": [
             0.2775996164
            ],
            "fold_2_test": [
             0.272933226
            ],
            "iteration": 169
           },
           {
            "fold_0_learn": [
             0.2737411639
            ],
            "fold_0_test": [
             0.2796929627
            ],
            "fold_1_learn": [
             0.2736044299
            ],
            "fold_1_test": [
             0.2783040522
            ],
            "fold_2_learn": [
             0.2775527989
            ],
            "fold_2_test": [
             0.2729066625
            ],
            "iteration": 170
           },
           {
            "fold_0_learn": [
             0.2736644868
            ],
            "fold_0_test": [
             0.2796355338
            ],
            "fold_1_learn": [
             0.2734360942
            ],
            "fold_1_test": [
             0.2781947137
            ],
            "fold_2_learn": [
             0.2774604767
            ],
            "fold_2_test": [
             0.2728531999
            ],
            "iteration": 171
           },
           {
            "fold_0_learn": [
             0.2735345701
            ],
            "fold_0_test": [
             0.2795342529
            ],
            "fold_1_learn": [
             0.2733617095
            ],
            "fold_1_test": [
             0.2781698345
            ],
            "fold_2_learn": [
             0.2773429334
            ],
            "fold_2_test": [
             0.2727535568
            ],
            "iteration": 172,
            "passed_time": 47.69924196,
            "remaining_time": 228.0189196
           },
           {
            "fold_0_learn": [
             0.2734547908
            ],
            "fold_0_test": [
             0.2795209133
            ],
            "fold_1_learn": [
             0.2731494346
            ],
            "fold_1_test": [
             0.277966205
            ],
            "fold_2_learn": [
             0.2772300883
            ],
            "fold_2_test": [
             0.2726778608
            ],
            "iteration": 173
           },
           {
            "fold_0_learn": [
             0.2733500518
            ],
            "fold_0_test": [
             0.279471764
            ],
            "fold_1_learn": [
             0.2730707167
            ],
            "fold_1_test": [
             0.2779303059
            ],
            "fold_2_learn": [
             0.2771863179
            ],
            "fold_2_test": [
             0.2726751658
            ],
            "iteration": 174
           },
           {
            "fold_0_learn": [
             0.2732638671
            ],
            "fold_0_test": [
             0.279424685
            ],
            "fold_1_learn": [
             0.2729542212
            ],
            "fold_1_test": [
             0.2778820369
            ],
            "fold_2_learn": [
             0.2770426133
            ],
            "fold_2_test": [
             0.2725675052
            ],
            "iteration": 175
           },
           {
            "fold_0_learn": [
             0.2731753168
            ],
            "fold_0_test": [
             0.2793953403
            ],
            "fold_1_learn": [
             0.2729067519
            ],
            "fold_1_test": [
             0.2778654407
            ],
            "fold_2_learn": [
             0.2769829939
            ],
            "fold_2_test": [
             0.2725431242
            ],
            "iteration": 176
           },
           {
            "fold_0_learn": [
             0.2730881654
            ],
            "fold_0_test": [
             0.2793271352
            ],
            "fold_1_learn": [
             0.2728226529
            ],
            "fold_1_test": [
             0.2778060757
            ],
            "fold_2_learn": [
             0.276883971
            ],
            "fold_2_test": [
             0.272507921
            ],
            "iteration": 177,
            "passed_time": 49.05176726,
            "remaining_time": 226.5199589
           },
           {
            "fold_0_learn": [
             0.2729672316
            ],
            "fold_0_test": [
             0.2792736092
            ],
            "fold_1_learn": [
             0.2727511821
            ],
            "fold_1_test": [
             0.2777856182
            ],
            "fold_2_learn": [
             0.2768180358
            ],
            "fold_2_test": [
             0.2724593517
            ],
            "iteration": 178
           },
           {
            "fold_0_learn": [
             0.2729235658
            ],
            "fold_0_test": [
             0.2792496579
            ],
            "fold_1_learn": [
             0.2727037775
            ],
            "fold_1_test": [
             0.2777469123
            ],
            "fold_2_learn": [
             0.2767225286
            ],
            "fold_2_test": [
             0.2724174923
            ],
            "iteration": 179
           },
           {
            "fold_0_learn": [
             0.2728303632
            ],
            "fold_0_test": [
             0.2791913422
            ],
            "fold_1_learn": [
             0.2726341968
            ],
            "fold_1_test": [
             0.2777193339
            ],
            "fold_2_learn": [
             0.2766134025
            ],
            "fold_2_test": [
             0.2723475074
            ],
            "iteration": 180
           },
           {
            "fold_0_learn": [
             0.2727836811
            ],
            "fold_0_test": [
             0.2791616059
            ],
            "fold_1_learn": [
             0.2724862769
            ],
            "fold_1_test": [
             0.2776352037
            ],
            "fold_2_learn": [
             0.2765642208
            ],
            "fold_2_test": [
             0.2723464245
            ],
            "iteration": 181
           },
           {
            "fold_0_learn": [
             0.2727172957
            ],
            "fold_0_test": [
             0.279146631
            ],
            "fold_1_learn": [
             0.2724372084
            ],
            "fold_1_test": [
             0.2775925696
            ],
            "fold_2_learn": [
             0.276414161
            ],
            "fold_2_test": [
             0.2722310364
            ],
            "iteration": 182
           },
           {
            "fold_0_learn": [
             0.2726181339
            ],
            "fold_0_test": [
             0.2790724902
            ],
            "fold_1_learn": [
             0.2723114831
            ],
            "fold_1_test": [
             0.2775176902
            ],
            "fold_2_learn": [
             0.2763525936
            ],
            "fold_2_test": [
             0.2721999053
            ],
            "iteration": 183,
            "passed_time": 50.72061721,
            "remaining_time": 224.9349111
           },
           {
            "fold_0_learn": [
             0.2725252112
            ],
            "fold_0_test": [
             0.2790071067
            ],
            "fold_1_learn": [
             0.2721843957
            ],
            "fold_1_test": [
             0.2774128187
            ],
            "fold_2_learn": [
             0.2762549821
            ],
            "fold_2_test": [
             0.2721653801
            ],
            "iteration": 184
           },
           {
            "fold_0_learn": [
             0.2724121255
            ],
            "fold_0_test": [
             0.2789212175
            ],
            "fold_1_learn": [
             0.272122041
            ],
            "fold_1_test": [
             0.2773713914
            ],
            "fold_2_learn": [
             0.2761766514
            ],
            "fold_2_test": [
             0.2721412583
            ],
            "iteration": 185
           },
           {
            "fold_0_learn": [
             0.2722997212
            ],
            "fold_0_test": [
             0.2788675322
            ],
            "fold_1_learn": [
             0.2720021303
            ],
            "fold_1_test": [
             0.2773351586
            ],
            "fold_2_learn": [
             0.2760783252
            ],
            "fold_2_test": [
             0.2721052174
            ],
            "iteration": 186
           },
           {
            "fold_0_learn": [
             0.2722517203
            ],
            "fold_0_test": [
             0.2788506467
            ],
            "fold_1_learn": [
             0.2719183349
            ],
            "fold_1_test": [
             0.2772975856
            ],
            "fold_2_learn": [
             0.2760289175
            ],
            "fold_2_test": [
             0.2720796197
            ],
            "iteration": 187
           },
           {
            "fold_0_learn": [
             0.2721788337
            ],
            "fold_0_test": [
             0.2787969862
            ],
            "fold_1_learn": [
             0.2718621699
            ],
            "fold_1_test": [
             0.2772541408
            ],
            "fold_2_learn": [
             0.2759105233
            ],
            "fold_2_test": [
             0.2720475656
            ],
            "iteration": 188,
            "passed_time": 52.13609148,
            "remaining_time": 223.7162444
           },
           {
            "fold_0_learn": [
             0.2721169845
            ],
            "fold_0_test": [
             0.2787742561
            ],
            "fold_1_learn": [
             0.2717837764
            ],
            "fold_1_test": [
             0.2772358419
            ],
            "fold_2_learn": [
             0.2758290001
            ],
            "fold_2_test": [
             0.2720166263
            ],
            "iteration": 189
           },
           {
            "fold_0_learn": [
             0.2720350322
            ],
            "fold_0_test": [
             0.2787687824
            ],
            "fold_1_learn": [
             0.2717095664
            ],
            "fold_1_test": [
             0.2772125319
            ],
            "fold_2_learn": [
             0.2757862846
            ],
            "fold_2_test": [
             0.2720107923
            ],
            "iteration": 190
           },
           {
            "fold_0_learn": [
             0.2719521209
            ],
            "fold_0_test": [
             0.2787188716
            ],
            "fold_1_learn": [
             0.2716542174
            ],
            "fold_1_test": [
             0.277171777
            ],
            "fold_2_learn": [
             0.2757295923
            ],
            "fold_2_test": [
             0.2719729681
            ],
            "iteration": 191
           },
           {
            "fold_0_learn": [
             0.2719030618
            ],
            "fold_0_test": [
             0.2786921325
            ],
            "fold_1_learn": [
             0.2715795296
            ],
            "fold_1_test": [
             0.2771618021
            ],
            "fold_2_learn": [
             0.2756190384
            ],
            "fold_2_test": [
             0.271901032
            ],
            "iteration": 192
           },
           {
            "fold_0_learn": [
             0.2718359463
            ],
            "fold_0_test": [
             0.2786880154
            ],
            "fold_1_learn": [
             0.2715138091
            ],
            "fold_1_test": [
             0.2771351709
            ],
            "fold_2_learn": [
             0.2754983377
            ],
            "fold_2_test": [
             0.2718734
            ],
            "iteration": 193
           },
           {
            "fold_0_learn": [
             0.2717744559
            ],
            "fold_0_test": [
             0.2786672606
            ],
            "fold_1_learn": [
             0.2714327369
            ],
            "fold_1_test": [
             0.2770938115
            ],
            "fold_2_learn": [
             0.2753829331
            ],
            "fold_2_test": [
             0.2717968026
            ],
            "iteration": 194,
            "passed_time": 53.77585766,
            "remaining_time": 221.9977714
           },
           {
            "fold_0_learn": [
             0.2717295142
            ],
            "fold_0_test": [
             0.2786444546
            ],
            "fold_1_learn": [
             0.2713338867
            ],
            "fold_1_test": [
             0.2770183649
            ],
            "fold_2_learn": [
             0.2753217205
            ],
            "fold_2_test": [
             0.2717653613
            ],
            "iteration": 195
           },
           {
            "fold_0_learn": [
             0.2716446463
            ],
            "fold_0_test": [
             0.2785814685
            ],
            "fold_1_learn": [
             0.2712849401
            ],
            "fold_1_test": [
             0.2770057949
            ],
            "fold_2_learn": [
             0.2752330895
            ],
            "fold_2_test": [
             0.2717111569
            ],
            "iteration": 196
           },
           {
            "fold_0_learn": [
             0.2715583342
            ],
            "fold_0_test": [
             0.2785202408
            ],
            "fold_1_learn": [
             0.2712196552
            ],
            "fold_1_test": [
             0.2769589119
            ],
            "fold_2_learn": [
             0.2751897329
            ],
            "fold_2_test": [
             0.2717030564
            ],
            "iteration": 197
           },
           {
            "fold_0_learn": [
             0.2714762415
            ],
            "fold_0_test": [
             0.2784717983
            ],
            "fold_1_learn": [
             0.2711723155
            ],
            "fold_1_test": [
             0.2769385339
            ],
            "fold_2_learn": [
             0.2750936604
            ],
            "fold_2_test": [
             0.2716416821
            ],
            "iteration": 198
           },
           {
            "fold_0_learn": [
             0.2714494841
            ],
            "fold_0_test": [
             0.2784641602
            ],
            "fold_1_learn": [
             0.2710696801
            ],
            "fold_1_test": [
             0.2768769208
            ],
            "fold_2_learn": [
             0.2749662768
            ],
            "fold_2_test": [
             0.2715385558
            ],
            "iteration": 199,
            "passed_time": 55.19515484,
            "remaining_time": 220.7806194
           },
           {
            "fold_0_learn": [
             0.2713820953
            ],
            "fold_0_test": [
             0.278462664
            ],
            "fold_1_learn": [
             0.2710160858
            ],
            "fold_1_test": [
             0.2768749021
            ],
            "fold_2_learn": [
             0.2749170903
            ],
            "fold_2_test": [
             0.2715076298
            ],
            "iteration": 200
           },
           {
            "fold_0_learn": [
             0.2713416534
            ],
            "fold_0_test": [
             0.2784696057
            ],
            "fold_1_learn": [
             0.270947801
            ],
            "fold_1_test": [
             0.2768861654
            ],
            "fold_2_learn": [
             0.2748404448
            ],
            "fold_2_test": [
             0.2714911578
            ],
            "iteration": 201
           },
           {
            "fold_0_learn": [
             0.2712496231
            ],
            "fold_0_test": [
             0.2784085636
            ],
            "fold_1_learn": [
             0.2708459545
            ],
            "fold_1_test": [
             0.2768679349
            ],
            "fold_2_learn": [
             0.2747818943
            ],
            "fold_2_test": [
             0.2714454897
            ],
            "iteration": 202
           },
           {
            "fold_0_learn": [
             0.2711468918
            ],
            "fold_0_test": [
             0.278323274
            ],
            "fold_1_learn": [
             0.2708148759
            ],
            "fold_1_test": [
             0.2768675154
            ],
            "fold_2_learn": [
             0.274694401
            ],
            "fold_2_test": [
             0.2714369672
            ],
            "iteration": 203
           },
           {
            "fold_0_learn": [
             0.27109
            ],
            "fold_0_test": [
             0.2783042412
            ],
            "fold_1_learn": [
             0.2707684896
            ],
            "fold_1_test": [
             0.2768436649
            ],
            "fold_2_learn": [
             0.274624314
            ],
            "fold_2_test": [
             0.2714135082
            ],
            "iteration": 204,
            "passed_time": 56.61413827,
            "remaining_time": 219.5523899
           },
           {
            "fold_0_learn": [
             0.2710035427
            ],
            "fold_0_test": [
             0.278278922
            ],
            "fold_1_learn": [
             0.2707272635
            ],
            "fold_1_test": [
             0.2768107894
            ],
            "fold_2_learn": [
             0.2745585839
            ],
            "fold_2_test": [
             0.271385873
            ],
            "iteration": 205
           },
           {
            "fold_0_learn": [
             0.2708960319
            ],
            "fold_0_test": [
             0.2782447923
            ],
            "fold_1_learn": [
             0.2706221251
            ],
            "fold_1_test": [
             0.2767707957
            ],
            "fold_2_learn": [
             0.2744750482
            ],
            "fold_2_test": [
             0.2713315857
            ],
            "iteration": 206
           },
           {
            "fold_0_learn": [
             0.2708674088
            ],
            "fold_0_test": [
             0.2782340566
            ],
            "fold_1_learn": [
             0.2705328118
            ],
            "fold_1_test": [
             0.2767129497
            ],
            "fold_2_learn": [
             0.274360034
            ],
            "fold_2_test": [
             0.2712613652
            ],
            "iteration": 207
           },
           {
            "fold_0_learn": [
             0.2708176451
            ],
            "fold_0_test": [
             0.2782065223
            ],
            "fold_1_learn": [
             0.2704911004
            ],
            "fold_1_test": [
             0.2767202267
            ],
            "fold_2_learn": [
             0.2743021647
            ],
            "fold_2_test": [
             0.2712289838
            ],
            "iteration": 208
           },
           {
            "fold_0_learn": [
             0.2707496313
            ],
            "fold_0_test": [
             0.2781694389
            ],
            "fold_1_learn": [
             0.2704265192
            ],
            "fold_1_test": [
             0.2767156403
            ],
            "fold_2_learn": [
             0.2742060812
            ],
            "fold_2_test": [
             0.2711338275
            ],
            "iteration": 209,
            "passed_time": 58.00322272,
            "remaining_time": 218.2025997
           },
           {
            "fold_0_learn": [
             0.2707281418
            ],
            "fold_0_test": [
             0.278161082
            ],
            "fold_1_learn": [
             0.2703751989
            ],
            "fold_1_test": [
             0.2766920723
            ],
            "fold_2_learn": [
             0.2741312075
            ],
            "fold_2_test": [
             0.27109116
            ],
            "iteration": 210
           },
           {
            "fold_0_learn": [
             0.2706373622
            ],
            "fold_0_test": [
             0.278116354
            ],
            "fold_1_learn": [
             0.2703066014
            ],
            "fold_1_test": [
             0.2766563636
            ],
            "fold_2_learn": [
             0.2740540278
            ],
            "fold_2_test": [
             0.2710488237
            ],
            "iteration": 211
           },
           {
            "fold_0_learn": [
             0.2705992116
            ],
            "fold_0_test": [
             0.2781100836
            ],
            "fold_1_learn": [
             0.2702810522
            ],
            "fold_1_test": [
             0.276657431
            ],
            "fold_2_learn": [
             0.2739863947
            ],
            "fold_2_test": [
             0.2709994375
            ],
            "iteration": 212
           },
           {
            "fold_0_learn": [
             0.2705396259
            ],
            "fold_0_test": [
             0.278083642
            ],
            "fold_1_learn": [
             0.2701966273
            ],
            "fold_1_test": [
             0.2766175765
            ],
            "fold_2_learn": [
             0.2738890689
            ],
            "fold_2_test": [
             0.2709713776
            ],
            "iteration": 213
           },
           {
            "fold_0_learn": [
             0.2704472457
            ],
            "fold_0_test": [
             0.2780371112
            ],
            "fold_1_learn": [
             0.2701557578
            ],
            "fold_1_test": [
             0.2766052803
            ],
            "fold_2_learn": [
             0.2738737931
            ],
            "fold_2_test": [
             0.2709688791
            ],
            "iteration": 214
           },
           {
            "fold_0_learn": [
             0.2704066524
            ],
            "fold_0_test": [
             0.2780254514
            ],
            "fold_1_learn": [
             0.2700844509
            ],
            "fold_1_test": [
             0.2765740336
            ],
            "fold_2_learn": [
             0.273779669
            ],
            "fold_2_test": [
             0.2709177172
            ],
            "iteration": 215
           },
           {
            "fold_0_learn": [
             0.2703420588
            ],
            "fold_0_test": [
             0.2779650128
            ],
            "fold_1_learn": [
             0.2700032974
            ],
            "fold_1_test": [
             0.2765178849
            ],
            "fold_2_learn": [
             0.2737161328
            ],
            "fold_2_test": [
             0.2708813308
            ],
            "iteration": 216
           },
           {
            "fold_0_learn": [
             0.270251955
            ],
            "fold_0_test": [
             0.2779163199
            ],
            "fold_1_learn": [
             0.2699370364
            ],
            "fold_1_test": [
             0.2764862234
            ],
            "fold_2_learn": [
             0.2736586315
            ],
            "fold_2_test": [
             0.270831147
            ],
            "iteration": 217
           },
           {
            "fold_0_learn": [
             0.2701835943
            ],
            "fold_0_test": [
             0.2778803335
            ],
            "fold_1_learn": [
             0.2698989277
            ],
            "fold_1_test": [
             0.276479254
            ],
            "fold_2_learn": [
             0.2735735844
            ],
            "fold_2_test": [
             0.2707771443
            ],
            "iteration": 218,
            "passed_time": 60.37952549,
            "remaining_time": 215.3260703
           },
           {
            "fold_0_learn": [
             0.2701223338
            ],
            "fold_0_test": [
             0.2778639749
            ],
            "fold_1_learn": [
             0.2698404902
            ],
            "fold_1_test": [
             0.2764701176
            ],
            "fold_2_learn": [
             0.2735428618
            ],
            "fold_2_test": [
             0.2707731338
            ],
            "iteration": 219
           },
           {
            "fold_0_learn": [
             0.270072829
            ],
            "fold_0_test": [
             0.2778838999
            ],
            "fold_1_learn": [
             0.2697904179
            ],
            "fold_1_test": [
             0.2764473355
            ],
            "fold_2_learn": [
             0.2734042442
            ],
            "fold_2_test": [
             0.2707256687
            ],
            "iteration": 220
           },
           {
            "fold_0_learn": [
             0.2700500231
            ],
            "fold_0_test": [
             0.2778782161
            ],
            "fold_1_learn": [
             0.2697335312
            ],
            "fold_1_test": [
             0.2764058685
            ],
            "fold_2_learn": [
             0.273338922
            ],
            "fold_2_test": [
             0.2707110807
            ],
            "iteration": 221
           },
           {
            "fold_0_learn": [
             0.2700125374
            ],
            "fold_0_test": [
             0.2778827299
            ],
            "fold_1_learn": [
             0.2695997068
            ],
            "fold_1_test": [
             0.2764093376
            ],
            "fold_2_learn": [
             0.2732765452
            ],
            "fold_2_test": [
             0.2706353022
            ],
            "iteration": 222
           },
           {
            "fold_0_learn": [
             0.2699337477
            ],
            "fold_0_test": [
             0.2778187569
            ],
            "fold_1_learn": [
             0.2695294614
            ],
            "fold_1_test": [
             0.2763789803
            ],
            "fold_2_learn": [
             0.2731944106
            ],
            "fold_2_test": [
             0.2706158634
            ],
            "iteration": 223,
            "passed_time": 61.80608102,
            "remaining_time": 214.1139235
           },
           {
            "fold_0_learn": [
             0.2698257441
            ],
            "fold_0_test": [
             0.2777590456
            ],
            "fold_1_learn": [
             0.2694539921
            ],
            "fold_1_test": [
             0.2763812421
            ],
            "fold_2_learn": [
             0.2731606128
            ],
            "fold_2_test": [
             0.2706153802
            ],
            "iteration": 224
           },
           {
            "fold_0_learn": [
             0.2697510824
            ],
            "fold_0_test": [
             0.2777053666
            ],
            "fold_1_learn": [
             0.2694137054
            ],
            "fold_1_test": [
             0.2763742919
            ],
            "fold_2_learn": [
             0.2730727635
            ],
            "fold_2_test": [
             0.2706062099
            ],
            "iteration": 225
           },
           {
            "fold_0_learn": [
             0.2696773954
            ],
            "fold_0_test": [
             0.2777167063
            ],
            "fold_1_learn": [
             0.2693205268
            ],
            "fold_1_test": [
             0.2763162058
            ],
            "fold_2_learn": [
             0.2730300798
            ],
            "fold_2_test": [
             0.2705906654
            ],
            "iteration": 226
           },
           {
            "fold_0_learn": [
             0.2696204338
            ],
            "fold_0_test": [
             0.2777134859
            ],
            "fold_1_learn": [
             0.2692386099
            ],
            "fold_1_test": [
             0.2763038139
            ],
            "fold_2_learn": [
             0.2728916776
            ],
            "fold_2_test": [
             0.2705256644
            ],
            "iteration": 227
           },
           {
            "fold_0_learn": [
             0.2695394253
            ],
            "fold_0_test": [
             0.2776696479
            ],
            "fold_1_learn": [
             0.2692327627
            ],
            "fold_1_test": [
             0.2762963808
            ],
            "fold_2_learn": [
             0.2728368783
            ],
            "fold_2_test": [
             0.2704979632
            ],
            "iteration": 228
           },
           {
            "fold_0_learn": [
             0.2694388948
            ],
            "fold_0_test": [
             0.2776197573
            ],
            "fold_1_learn": [
             0.2691446204
            ],
            "fold_1_test": [
             0.276202127
            ],
            "fold_2_learn": [
             0.2727644933
            ],
            "fold_2_test": [
             0.2704716636
            ],
            "iteration": 229,
            "passed_time": 63.36529012,
            "remaining_time": 212.1359713
           },
           {
            "fold_0_learn": [
             0.2692777254
            ],
            "fold_0_test": [
             0.2774694651
            ],
            "fold_1_learn": [
             0.2691082549
            ],
            "fold_1_test": [
             0.2761877452
            ],
            "fold_2_learn": [
             0.2727203181
            ],
            "fold_2_test": [
             0.2704473165
            ],
            "iteration": 230
           },
           {
            "fold_0_learn": [
             0.269197316
            ],
            "fold_0_test": [
             0.2774461251
            ],
            "fold_1_learn": [
             0.2690538404
            ],
            "fold_1_test": [
             0.2761651975
            ],
            "fold_2_learn": [
             0.27259515
            ],
            "fold_2_test": [
             0.2703536791
            ],
            "iteration": 231
           },
           {
            "fold_0_learn": [
             0.2691234014
            ],
            "fold_0_test": [
             0.2774089237
            ],
            "fold_1_learn": [
             0.2689426638
            ],
            "fold_1_test": [
             0.2761404706
            ],
            "fold_2_learn": [
             0.272443428
            ],
            "fold_2_test": [
             0.2702900911
            ],
            "iteration": 232
           },
           {
            "fold_0_learn": [
             0.2690520839
            ],
            "fold_0_test": [
             0.2773548591
            ],
            "fold_1_learn": [
             0.2688272044
            ],
            "fold_1_test": [
             0.2760860399
            ],
            "fold_2_learn": [
             0.2723516938
            ],
            "fold_2_test": [
             0.2702297674
            ],
            "iteration": 233
           },
           {
            "fold_0_learn": [
             0.269007978
            ],
            "fold_0_test": [
             0.2773268794
            ],
            "fold_1_learn": [
             0.2687375445
            ],
            "fold_1_test": [
             0.2760585101
            ],
            "fold_2_learn": [
             0.2722369336
            ],
            "fold_2_test": [
             0.2701668097
            ],
            "iteration": 234
           },
           {
            "fold_0_learn": [
             0.2690068432
            ],
            "fold_0_test": [
             0.2773264476
            ],
            "fold_1_learn": [
             0.2686772862
            ],
            "fold_1_test": [
             0.276055309
            ],
            "fold_2_learn": [
             0.2721892692
            ],
            "fold_2_test": [
             0.2701369243
            ],
            "iteration": 235,
            "passed_time": 64.89331087,
            "remaining_time": 210.0783454
           },
           {
            "fold_0_learn": [
             0.2689513139
            ],
            "fold_0_test": [
             0.277290346
            ],
            "fold_1_learn": [
             0.2686392119
            ],
            "fold_1_test": [
             0.2760406626
            ],
            "fold_2_learn": [
             0.2721440173
            ],
            "fold_2_test": [
             0.27011062
            ],
            "iteration": 236
           },
           {
            "fold_0_learn": [
             0.2689047804
            ],
            "fold_0_test": [
             0.2772753751
            ],
            "fold_1_learn": [
             0.2685382911
            ],
            "fold_1_test": [
             0.2760286924
            ],
            "fold_2_learn": [
             0.2721278547
            ],
            "fold_2_test": [
             0.2701100111
            ],
            "iteration": 237
           },
           {
            "fold_0_learn": [
             0.2688075814
            ],
            "fold_0_test": [
             0.2771840693
            ],
            "fold_1_learn": [
             0.2684924375
            ],
            "fold_1_test": [
             0.2760302222
            ],
            "fold_2_learn": [
             0.2720545712
            ],
            "fold_2_test": [
             0.2701158918
            ],
            "iteration": 238
           },
           {
            "fold_0_learn": [
             0.2687190009
            ],
            "fold_0_test": [
             0.2771269077
            ],
            "fold_1_learn": [
             0.2684442275
            ],
            "fold_1_test": [
             0.2760243139
            ],
            "fold_2_learn": [
             0.2720084031
            ],
            "fold_2_test": [
             0.2700948019
            ],
            "iteration": 239
           },
           {
            "fold_0_learn": [
             0.2686717621
            ],
            "fold_0_test": [
             0.2771159079
            ],
            "fold_1_learn": [
             0.2683662383
            ],
            "fold_1_test": [
             0.2759719508
            ],
            "fold_2_learn": [
             0.2718989301
            ],
            "fold_2_test": [
             0.269976817
            ],
            "iteration": 240,
            "passed_time": 66.28051022,
            "remaining_time": 208.7423538
           },
           {
            "fold_0_learn": [
             0.2685994214
            ],
            "fold_0_test": [
             0.2771295613
            ],
            "fold_1_learn": [
             0.2682412887
            ],
            "fold_1_test": [
             0.2758590954
            ],
            "fold_2_learn": [
             0.2718739179
            ],
            "fold_2_test": [
             0.2699940578
            ],
            "iteration": 241
           },
           {
            "fold_0_learn": [
             0.2685087055
            ],
            "fold_0_test": [
             0.2770956035
            ],
            "fold_1_learn": [
             0.2681803089
            ],
            "fold_1_test": [
             0.2758460556
            ],
            "fold_2_learn": [
             0.2718312353
            ],
            "fold_2_test": [
             0.2699702779
            ],
            "iteration": 242
           },
           {
            "fold_0_learn": [
             0.2684405876
            ],
            "fold_0_test": [
             0.2770378324
            ],
            "fold_1_learn": [
             0.2681355449
            ],
            "fold_1_test": [
             0.2758407088
            ],
            "fold_2_learn": [
             0.2717664186
            ],
            "fold_2_test": [
             0.2699579527
            ],
            "iteration": 243,
            "passed_time": 67.15689963,
            "remaining_time": 208.0762956
           },
           {
            "fold_0_learn": [
             0.2684096811
            ],
            "fold_0_test": [
             0.2770291724
            ],
            "fold_1_learn": [
             0.2680696967
            ],
            "fold_1_test": [
             0.2758179674
            ],
            "fold_2_learn": [
             0.2717315184
            ],
            "fold_2_test": [
             0.2699579251
            ],
            "iteration": 244
           },
           {
            "fold_0_learn": [
             0.2683556851
            ],
            "fold_0_test": [
             0.2770207868
            ],
            "fold_1_learn": [
             0.2680081847
            ],
            "fold_1_test": [
             0.2757979005
            ],
            "fold_2_learn": [
             0.2717140799
            ],
            "fold_2_test": [
             0.2699497478
            ],
            "iteration": 245
           },
           {
            "fold_0_learn": [
             0.2682931684
            ],
            "fold_0_test": [
             0.2770007848
            ],
            "fold_1_learn": [
             0.2679665227
            ],
            "fold_1_test": [
             0.2757995864
            ],
            "fold_2_learn": [
             0.2716667742
            ],
            "fold_2_test": [
             0.2699230424
            ],
            "iteration": 246
           },
           {
            "fold_0_learn": [
             0.268268055
            ],
            "fold_0_test": [
             0.2769861851
            ],
            "fold_1_learn": [
             0.2679258677
            ],
            "fold_1_test": [
             0.2758095148
            ],
            "fold_2_learn": [
             0.2716218637
            ],
            "fold_2_test": [
             0.2698951205
            ],
            "iteration": 247
           },
           {
            "fold_0_learn": [
             0.2681575368
            ],
            "fold_0_test": [
             0.2769114322
            ],
            "fold_1_learn": [
             0.2678545549
            ],
            "fold_1_test": [
             0.2758077629
            ],
            "fold_2_learn": [
             0.2715317669
            ],
            "fold_2_test": [
             0.2698414128
            ],
            "iteration": 248,
            "passed_time": 68.59783547,
            "remaining_time": 206.8954797
           },
           {
            "fold_0_learn": [
             0.2681114794
            ],
            "fold_0_test": [
             0.2769151998
            ],
            "fold_1_learn": [
             0.2677774227
            ],
            "fold_1_test": [
             0.2757569957
            ],
            "fold_2_learn": [
             0.2714604572
            ],
            "fold_2_test": [
             0.2697936255
            ],
            "iteration": 249
           },
           {
            "fold_0_learn": [
             0.2680167641
            ],
            "fold_0_test": [
             0.2768649455
            ],
            "fold_1_learn": [
             0.267698903
            ],
            "fold_1_test": [
             0.2757620834
            ],
            "fold_2_learn": [
             0.2714171549
            ],
            "fold_2_test": [
             0.2698050137
            ],
            "iteration": 250
           },
           {
            "fold_0_learn": [
             0.2679615594
            ],
            "fold_0_test": [
             0.2768492764
            ],
            "fold_1_learn": [
             0.2676368688
            ],
            "fold_1_test": [
             0.2757534504
            ],
            "fold_2_learn": [
             0.2713583603
            ],
            "fold_2_test": [
             0.2697884381
            ],
            "iteration": 251
           },
           {
            "fold_0_learn": [
             0.2678553367
            ],
            "fold_0_test": [
             0.2768458962
            ],
            "fold_1_learn": [
             0.2675693762
            ],
            "fold_1_test": [
             0.2757488882
            ],
            "fold_2_learn": [
             0.2713319081
            ],
            "fold_2_test": [
             0.2697810287
            ],
            "iteration": 252
           },
           {
            "fold_0_learn": [
             0.2677987785
            ],
            "fold_0_test": [
             0.27684969
            ],
            "fold_1_learn": [
             0.2675222865
            ],
            "fold_1_test": [
             0.2757502158
            ],
            "fold_2_learn": [
             0.2712555762
            ],
            "fold_2_test": [
             0.2697551727
            ],
            "iteration": 253
           },
           {
            "fold_0_learn": [
             0.2677968857
            ],
            "fold_0_test": [
             0.2768500192
            ],
            "fold_1_learn": [
             0.2674840311
            ],
            "fold_1_test": [
             0.2757265547
            ],
            "fold_2_learn": [
             0.2712264009
            ],
            "fold_2_test": [
             0.2697487416
            ],
            "iteration": 254,
            "passed_time": 70.20380341,
            "remaining_time": 205.1052296
           },
           {
            "fold_0_learn": [
             0.2676977252
            ],
            "fold_0_test": [
             0.2768277642
            ],
            "fold_1_learn": [
             0.267427229
            ],
            "fold_1_test": [
             0.2757169998
            ],
            "fold_2_learn": [
             0.271177375
            ],
            "fold_2_test": [
             0.2697286242
            ],
            "iteration": 255
           },
           {
            "fold_0_learn": [
             0.2676347094
            ],
            "fold_0_test": [
             0.2768148992
            ],
            "fold_1_learn": [
             0.2673976594
            ],
            "fold_1_test": [
             0.2757075476
            ],
            "fold_2_learn": [
             0.2711339811
            ],
            "fold_2_test": [
             0.2697300812
            ],
            "iteration": 256
           },
           {
            "fold_0_learn": [
             0.2675786193
            ],
            "fold_0_test": [
             0.2768085248
            ],
            "fold_1_learn": [
             0.2673658744
            ],
            "fold_1_test": [
             0.2757056934
            ],
            "fold_2_learn": [
             0.2710893765
            ],
            "fold_2_test": [
             0.2697165888
            ],
            "iteration": 257
           },
           {
            "fold_0_learn": [
             0.2675379341
            ],
            "fold_0_test": [
             0.2768049311
            ],
            "fold_1_learn": [
             0.2673178743
            ],
            "fold_1_test": [
             0.2757092317
            ],
            "fold_2_learn": [
             0.2710480213
            ],
            "fold_2_test": [
             0.2696952721
            ],
            "iteration": 258
           },
           {
            "fold_0_learn": [
             0.2675047102
            ],
            "fold_0_test": [
             0.27677799
            ],
            "fold_1_learn": [
             0.267227182
            ],
            "fold_1_test": [
             0.2756747996
            ],
            "fold_2_learn": [
             0.2710480212
            ],
            "fold_2_test": [
             0.2696952746
            ],
            "iteration": 259,
            "passed_time": 71.56448629,
            "remaining_time": 203.6835379
           },
           {
            "fold_0_learn": [
             0.2675044308
            ],
            "fold_0_test": [
             0.2767780982
            ],
            "fold_1_learn": [
             0.2671894729
            ],
            "fold_1_test": [
             0.2756687836
            ],
            "fold_2_learn": [
             0.2710046556
            ],
            "fold_2_test": [
             0.2696807385
            ],
            "iteration": 260
           },
           {
            "fold_0_learn": [
             0.2674387935
            ],
            "fold_0_test": [
             0.2767653823
            ],
            "fold_1_learn": [
             0.2671430809
            ],
            "fold_1_test": [
             0.2756548783
            ],
            "fold_2_learn": [
             0.2709290501
            ],
            "fold_2_test": [
             0.2696710398
            ],
            "iteration": 261
           },
           {
            "fold_0_learn": [
             0.2674110725
            ],
            "fold_0_test": [
             0.2767561388
            ],
            "fold_1_learn": [
             0.267066534
            ],
            "fold_1_test": [
             0.2756086087
            ],
            "fold_2_learn": [
             0.2708477054
            ],
            "fold_2_test": [
             0.2696507945
            ],
            "iteration": 262
           },
           {
            "fold_0_learn": [
             0.2673332786
            ],
            "fold_0_test": [
             0.2767013361
            ],
            "fold_1_learn": [
             0.2670252419
            ],
            "fold_1_test": [
             0.2756036501
            ],
            "fold_2_learn": [
             0.270803347
            ],
            "fold_2_test": [
             0.2696420354
            ],
            "iteration": 263
           },
           {
            "fold_0_learn": [
             0.2673111427
            ],
            "fold_0_test": [
             0.2766901783
            ],
            "fold_1_learn": [
             0.2669339524
            ],
            "fold_1_test": [
             0.2755776497
            ],
            "fold_2_learn": [
             0.2707658377
            ],
            "fold_2_test": [
             0.269643788
            ],
            "iteration": 264
           },
           {
            "fold_0_learn": [
             0.2672512592
            ],
            "fold_0_test": [
             0.2766702389
            ],
            "fold_1_learn": [
             0.2668321009
            ],
            "fold_1_test": [
             0.2755038786
            ],
            "fold_2_learn": [
             0.2707242093
            ],
            "fold_2_test": [
             0.2696456289
            ],
            "iteration": 265
           },
           {
            "fold_0_learn": [
             0.2671482518
            ],
            "fold_0_test": [
             0.2766215701
            ],
            "fold_1_learn": [
             0.2667438622
            ],
            "fold_1_test": [
             0.2755093729
            ],
            "fold_2_learn": [
             0.2706358113
            ],
            "fold_2_test": [
             0.2696196691
            ],
            "iteration": 266
           },
           {
            "fold_0_learn": [
             0.2671016916
            ],
            "fold_0_test": [
             0.2766074001
            ],
            "fold_1_learn": [
             0.2667048335
            ],
            "fold_1_test": [
             0.2754953966
            ],
            "fold_2_learn": [
             0.2706256087
            ],
            "fold_2_test": [
             0.2696297918
            ],
            "iteration": 267
           },
           {
            "fold_0_learn": [
             0.267053248
            ],
            "fold_0_test": [
             0.2765557232
            ],
            "fold_1_learn": [
             0.2666418478
            ],
            "fold_1_test": [
             0.2754745678
            ],
            "fold_2_learn": [
             0.2705893143
            ],
            "fold_2_test": [
             0.2696252443
            ],
            "iteration": 268
           },
           {
            "fold_0_learn": [
             0.2669491266
            ],
            "fold_0_test": [
             0.2765524021
            ],
            "fold_1_learn": [
             0.2666342226
            ],
            "fold_1_test": [
             0.2754773312
            ],
            "fold_2_learn": [
             0.2705454883
            ],
            "fold_2_test": [
             0.2696219806
            ],
            "iteration": 269
           },
           {
            "fold_0_learn": [
             0.2668989864
            ],
            "fold_0_test": [
             0.2765149267
            ],
            "fold_1_learn": [
             0.2665856401
            ],
            "fold_1_test": [
             0.2754448712
            ],
            "fold_2_learn": [
             0.2705083274
            ],
            "fold_2_test": [
             0.2696134658
            ],
            "iteration": 270
           },
           {
            "fold_0_learn": [
             0.2668621208
            ],
            "fold_0_test": [
             0.2765033878
            ],
            "fold_1_learn": [
             0.2665327461
            ],
            "fold_1_test": [
             0.2753932304
            ],
            "fold_2_learn": [
             0.2704516571
            ],
            "fold_2_test": [
             0.2696018164
            ],
            "iteration": 271
           },
           {
            "fold_0_learn": [
             0.2668007683
            ],
            "fold_0_test": [
             0.2764738968
            ],
            "fold_1_learn": [
             0.2664763487
            ],
            "fold_1_test": [
             0.2753800488
            ],
            "fold_2_learn": [
             0.2704294166
            ],
            "fold_2_test": [
             0.2695930016
            ],
            "iteration": 272
           },
           {
            "fold_0_learn": [
             0.2667244954
            ],
            "fold_0_test": [
             0.2764550801
            ],
            "fold_1_learn": [
             0.2664489005
            ],
            "fold_1_test": [
             0.2753765556
            ],
            "fold_2_learn": [
             0.2703987386
            ],
            "fold_2_test": [
             0.2695672728
            ],
            "iteration": 273
           },
           {
            "fold_0_learn": [
             0.2667094355
            ],
            "fold_0_test": [
             0.2764436954
            ],
            "fold_1_learn": [
             0.266393404
            ],
            "fold_1_test": [
             0.2753269348
            ],
            "fold_2_learn": [
             0.2703378032
            ],
            "fold_2_test": [
             0.2695067407
            ],
            "iteration": 274
           },
           {
            "fold_0_learn": [
             0.2666549725
            ],
            "fold_0_test": [
             0.2764774797
            ],
            "fold_1_learn": [
             0.2663581994
            ],
            "fold_1_test": [
             0.275316183
            ],
            "fold_2_learn": [
             0.2702777368
            ],
            "fold_2_test": [
             0.2694608997
            ],
            "iteration": 275
           },
           {
            "fold_0_learn": [
             0.2665879233
            ],
            "fold_0_test": [
             0.2764787415
            ],
            "fold_1_learn": [
             0.2662951365
            ],
            "fold_1_test": [
             0.275328679
            ],
            "fold_2_learn": [
             0.2702598574
            ],
            "fold_2_test": [
             0.2694435309
            ],
            "iteration": 276
           },
           {
            "fold_0_learn": [
             0.2665634538
            ],
            "fold_0_test": [
             0.2764726654
            ],
            "fold_1_learn": [
             0.266217728
            ],
            "fold_1_test": [
             0.275286443
            ],
            "fold_2_learn": [
             0.2701939798
            ],
            "fold_2_test": [
             0.2694204239
            ],
            "iteration": 277
           },
           {
            "fold_0_learn": [
             0.2664927236
            ],
            "fold_0_test": [
             0.2764738073
            ],
            "fold_1_learn": [
             0.2662024619
            ],
            "fold_1_test": [
             0.2752947534
            ],
            "fold_2_learn": [
             0.2701355617
            ],
            "fold_2_test": [
             0.2694345593
            ],
            "iteration": 278
           },
           {
            "fold_0_learn": [
             0.2664449462
            ],
            "fold_0_test": [
             0.2764662207
            ],
            "fold_1_learn": [
             0.2661677741
            ],
            "fold_1_test": [
             0.2752934173
            ],
            "fold_2_learn": [
             0.2701169102
            ],
            "fold_2_test": [
             0.2694503807
            ],
            "iteration": 279,
            "passed_time": 76.62185441,
            "remaining_time": 197.0276256
           },
           {
            "fold_0_learn": [
             0.2663411937
            ],
            "fold_0_test": [
             0.2764287549
            ],
            "fold_1_learn": [
             0.2661120453
            ],
            "fold_1_test": [
             0.275283797
            ],
            "fold_2_learn": [
             0.2700809822
            ],
            "fold_2_test": [
             0.2694478742
            ],
            "iteration": 280
           },
           {
            "fold_0_learn": [
             0.2663276529
            ],
            "fold_0_test": [
             0.2764391368
            ],
            "fold_1_learn": [
             0.2660758572
            ],
            "fold_1_test": [
             0.2752454372
            ],
            "fold_2_learn": [
             0.2699712746
            ],
            "fold_2_test": [
             0.2694428685
            ],
            "iteration": 281
           },
           {
            "fold_0_learn": [
             0.2662836991
            ],
            "fold_0_test": [
             0.276386496
            ],
            "fold_1_learn": [
             0.2659801165
            ],
            "fold_1_test": [
             0.2752499274
            ],
            "fold_2_learn": [
             0.2698922725
            ],
            "fold_2_test": [
             0.2694282607
            ],
            "iteration": 282
           },
           {
            "fold_0_learn": [
             0.266228933
            ],
            "fold_0_test": [
             0.2763500953
            ],
            "fold_1_learn": [
             0.2659426752
            ],
            "fold_1_test": [
             0.2752256032
            ],
            "fold_2_learn": [
             0.2698479662
            ],
            "fold_2_test": [
             0.2694338893
            ],
            "iteration": 283
           },
           {
            "fold_0_learn": [
             0.2661912057
            ],
            "fold_0_test": [
             0.2762968556
            ],
            "fold_1_learn": [
             0.2659173932
            ],
            "fold_1_test": [
             0.2752403879
            ],
            "fold_2_learn": [
             0.2697325085
            ],
            "fold_2_test": [
             0.2693590011
            ],
            "iteration": 284
           },
           {
            "fold_0_learn": [
             0.2661449484
            ],
            "fold_0_test": [
             0.2762988799
            ],
            "fold_1_learn": [
             0.2658964568
            ],
            "fold_1_test": [
             0.2752355869
            ],
            "fold_2_learn": [
             0.2696853564
            ],
            "fold_2_test": [
             0.2693332716
            ],
            "iteration": 285,
            "passed_time": 78.28807764,
            "remaining_time": 195.4464596
           },
           {
            "fold_0_learn": [
             0.2661267727
            ],
            "fold_0_test": [
             0.276287557
            ],
            "fold_1_learn": [
             0.2658320169
            ],
            "fold_1_test": [
             0.2751926215
            ],
            "fold_2_learn": [
             0.2696318608
            ],
            "fold_2_test": [
             0.2693273974
            ],
            "iteration": 286
           },
           {
            "fold_0_learn": [
             0.2660692252
            ],
            "fold_0_test": [
             0.2762667349
            ],
            "fold_1_learn": [
             0.2658015015
            ],
            "fold_1_test": [
             0.2751831829
            ],
            "fold_2_learn": [
             0.2695311161
            ],
            "fold_2_test": [
             0.2692947986
            ],
            "iteration": 287
           },
           {
            "fold_0_learn": [
             0.2660005073
            ],
            "fold_0_test": [
             0.2762573183
            ],
            "fold_1_learn": [
             0.2657698058
            ],
            "fold_1_test": [
             0.27518829
            ],
            "fold_2_learn": [
             0.2695193091
            ],
            "fold_2_test": [
             0.269289778
            ],
            "iteration": 288
           },
           {
            "fold_0_learn": [
             0.265927618
            ],
            "fold_0_test": [
             0.2762591813
            ],
            "fold_1_learn": [
             0.2656726021
            ],
            "fold_1_test": [
             0.2751521137
            ],
            "fold_2_learn": [
             0.2694536782
            ],
            "fold_2_test": [
             0.2692840139
            ],
            "iteration": 289
           },
           {
            "fold_0_learn": [
             0.2658867752
            ],
            "fold_0_test": [
             0.2762429959
            ],
            "fold_1_learn": [
             0.2656359653
            ],
            "fold_1_test": [
             0.27514395
            ],
            "fold_2_learn": [
             0.2694012837
            ],
            "fold_2_test": [
             0.2692568369
            ],
            "iteration": 290
           },
           {
            "fold_0_learn": [
             0.2658317802
            ],
            "fold_0_test": [
             0.2761945956
            ],
            "fold_1_learn": [
             0.2655752126
            ],
            "fold_1_test": [
             0.2751058572
            ],
            "fold_2_learn": [
             0.2693976219
            ],
            "fold_2_test": [
             0.2692558424
            ],
            "iteration": 291,
            "passed_time": 79.88963938,
            "remaining_time": 193.705016
           },
           {
            "fold_0_learn": [
             0.2658035923
            ],
            "fold_0_test": [
             0.2762094835
            ],
            "fold_1_learn": [
             0.2655590194
            ],
            "fold_1_test": [
             0.2750984897
            ],
            "fold_2_learn": [
             0.2693162015
            ],
            "fold_2_test": [
             0.26922988
            ],
            "iteration": 292
           },
           {
            "fold_0_learn": [
             0.2657132019
            ],
            "fold_0_test": [
             0.2761955718
            ],
            "fold_1_learn": [
             0.2655392669
            ],
            "fold_1_test": [
             0.2750986715
            ],
            "fold_2_learn": [
             0.2692833862
            ],
            "fold_2_test": [
             0.2692154359
            ],
            "iteration": 293
           },
           {
            "fold_0_learn": [
             0.2656917428
            ],
            "fold_0_test": [
             0.2761857444
            ],
            "fold_1_learn": [
             0.2654672013
            ],
            "fold_1_test": [
             0.2750882148
            ],
            "fold_2_learn": [
             0.2692785477
            ],
            "fold_2_test": [
             0.2692128729
            ],
            "iteration": 294
           },
           {
            "fold_0_learn": [
             0.2655982254
            ],
            "fold_0_test": [
             0.2761459697
            ],
            "fold_1_learn": [
             0.2654236018
            ],
            "fold_1_test": [
             0.2750863505
            ],
            "fold_2_learn": [
             0.2691771407
            ],
            "fold_2_test": [
             0.2691737098
            ],
            "iteration": 295
           },
           {
            "fold_0_learn": [
             0.2655157271
            ],
            "fold_0_test": [
             0.2760945962
            ],
            "fold_1_learn": [
             0.2653465223
            ],
            "fold_1_test": [
             0.275062845
            ],
            "fold_2_learn": [
             0.2691532589
            ],
            "fold_2_test": [
             0.2691655516
            ],
            "iteration": 296,
            "passed_time": 81.31053356,
            "remaining_time": 192.4623067
           },
           {
            "fold_0_learn": [
             0.265480216
            ],
            "fold_0_test": [
             0.2761200747
            ],
            "fold_1_learn": [
             0.2653185736
            ],
            "fold_1_test": [
             0.2750422837
            ],
            "fold_2_learn": [
             0.2690859565
            ],
            "fold_2_test": [
             0.2691587771
            ],
            "iteration": 297
           },
           {
            "fold_0_learn": [
             0.2654102086
            ],
            "fold_0_test": [
             0.2761151264
            ],
            "fold_1_learn": [
             0.2652750246
            ],
            "fold_1_test": [
             0.2750154283
            ],
            "fold_2_learn": [
             0.269021824
            ],
            "fold_2_test": [
             0.2691159199
            ],
            "iteration": 298
           },
           {
            "fold_0_learn": [
             0.2653219784
            ],
            "fold_0_test": [
             0.2760663443
            ],
            "fold_1_learn": [
             0.2652172715
            ],
            "fold_1_test": [
             0.2750048728
            ],
            "fold_2_learn": [
             0.2689876911
            ],
            "fold_2_test": [
             0.2691112699
            ],
            "iteration": 299
           },
           {
            "fold_0_learn": [
             0.2652977085
            ],
            "fold_0_test": [
             0.2760503419
            ],
            "fold_1_learn": [
             0.2651625214
            ],
            "fold_1_test": [
             0.2749968298
            ],
            "fold_2_learn": [
             0.2689612183
            ],
            "fold_2_test": [
             0.2690997738
            ],
            "iteration": 300
           },
           {
            "fold_0_learn": [
             0.2652596507
            ],
            "fold_0_test": [
             0.2760298951
            ],
            "fold_1_learn": [
             0.2651224162
            ],
            "fold_1_test": [
             0.2749690799
            ],
            "fold_2_learn": [
             0.2689020217
            ],
            "fold_2_test": [
             0.2690891932
            ],
            "iteration": 301
           },
           {
            "fold_0_learn": [
             0.2652227059
            ],
            "fold_0_test": [
             0.2760074013
            ],
            "fold_1_learn": [
             0.2650341416
            ],
            "fold_1_test": [
             0.274946231
            ],
            "fold_2_learn": [
             0.2688486803
            ],
            "fold_2_test": [
             0.2690831635
            ],
            "iteration": 302,
            "passed_time": 83.09012054,
            "remaining_time": 191.1346997
           },
           {
            "fold_0_learn": [
             0.2651408052
            ],
            "fold_0_test": [
             0.276007775
            ],
            "fold_1_learn": [
             0.2650037081
            ],
            "fold_1_test": [
             0.2749554695
            ],
            "fold_2_learn": [
             0.2688221242
            ],
            "fold_2_test": [
             0.2690767166
            ],
            "iteration": 303
           },
           {
            "fold_0_learn": [
             0.2650933411
            ],
            "fold_0_test": [
             0.2759952874
            ],
            "fold_1_learn": [
             0.2649702364
            ],
            "fold_1_test": [
             0.2749494365
            ],
            "fold_2_learn": [
             0.2687138017
            ],
            "fold_2_test": [
             0.2690574959
            ],
            "iteration": 304
           },
           {
            "fold_0_learn": [
             0.2650547166
            ],
            "fold_0_test": [
             0.2759967063
            ],
            "fold_1_learn": [
             0.264925274
            ],
            "fold_1_test": [
             0.2749507056
            ],
            "fold_2_learn": [
             0.2686925063
            ],
            "fold_2_test": [
             0.2690579074
            ],
            "iteration": 305
           },
           {
            "fold_0_learn": [
             0.2649759333
            ],
            "fold_0_test": [
             0.2759308265
            ],
            "fold_1_learn": [
             0.2648805173
            ],
            "fold_1_test": [
             0.2749526853
            ],
            "fold_2_learn": [
             0.2686653992
            ],
            "fold_2_test": [
             0.2690414243
            ],
            "iteration": 306
           },
           {
            "fold_0_learn": [
             0.2649418894
            ],
            "fold_0_test": [
             0.2759388032
            ],
            "fold_1_learn": [
             0.2648198937
            ],
            "fold_1_test": [
             0.274918589
            ],
            "fold_2_learn": [
             0.2686258354
            ],
            "fold_2_test": [
             0.2690319709
            ],
            "iteration": 307,
            "passed_time": 84.48005501,
            "remaining_time": 189.8058379
           },
           {
            "fold_0_learn": [
             0.2649037722
            ],
            "fold_0_test": [
             0.2759223311
            ],
            "fold_1_learn": [
             0.2647733741
            ],
            "fold_1_test": [
             0.2749188584
            ],
            "fold_2_learn": [
             0.2685927275
            ],
            "fold_2_test": [
             0.2690343489
            ],
            "iteration": 308
           },
           {
            "fold_0_learn": [
             0.2647800586
            ],
            "fold_0_test": [
             0.2758841595
            ],
            "fold_1_learn": [
             0.2647207465
            ],
            "fold_1_test": [
             0.2749145579
            ],
            "fold_2_learn": [
             0.2685494618
            ],
            "fold_2_test": [
             0.2690017593
            ],
            "iteration": 309
           },
           {
            "fold_0_learn": [
             0.2646863665
            ],
            "fold_0_test": [
             0.2759125669
            ],
            "fold_1_learn": [
             0.264674542
            ],
            "fold_1_test": [
             0.2749118992
            ],
            "fold_2_learn": [
             0.2684759147
            ],
            "fold_2_test": [
             0.268957117
            ],
            "iteration": 310
           },
           {
            "fold_0_learn": [
             0.2646830002
            ],
            "fold_0_test": [
             0.275911423
            ],
            "fold_1_learn": [
             0.2645988404
            ],
            "fold_1_test": [
             0.274926435
            ],
            "fold_2_learn": [
             0.2684018499
            ],
            "fold_2_test": [
             0.2689195482
            ],
            "iteration": 311
           },
           {
            "fold_0_learn": [
             0.2646082958
            ],
            "fold_0_test": [
             0.2759073017
            ],
            "fold_1_learn": [
             0.2645483148
            ],
            "fold_1_test": [
             0.2749040218
            ],
            "fold_2_learn": [
             0.2683385205
            ],
            "fold_2_test": [
             0.2688927312
            ],
            "iteration": 312,
            "passed_time": 85.87986,
            "remaining_time": 188.4966895
           },
           {
            "fold_0_learn": [
             0.2645655603
            ],
            "fold_0_test": [
             0.27588285
            ],
            "fold_1_learn": [
             0.2644765353
            ],
            "fold_1_test": [
             0.2748642775
            ],
            "fold_2_learn": [
             0.2683130247
            ],
            "fold_2_test": [
             0.2688869513
            ],
            "iteration": 313
           },
           {
            "fold_0_learn": [
             0.2645011869
            ],
            "fold_0_test": [
             0.275858021
            ],
            "fold_1_learn": [
             0.2644127148
            ],
            "fold_1_test": [
             0.2748259489
            ],
            "fold_2_learn": [
             0.2682736976
            ],
            "fold_2_test": [
             0.2688679254
            ],
            "iteration": 314
           },
           {
            "fold_0_learn": [
             0.2644802433
            ],
            "fold_0_test": [
             0.2758501584
            ],
            "fold_1_learn": [
             0.2643609606
            ],
            "fold_1_test": [
             0.274833698
            ],
            "fold_2_learn": [
             0.268255038
            ],
            "fold_2_test": [
             0.2688557958
            ],
            "iteration": 315
           },
           {
            "fold_0_learn": [
             0.2644726621
            ],
            "fold_0_test": [
             0.2758515327
            ],
            "fold_1_learn": [
             0.2642573503
            ],
            "fold_1_test": [
             0.2748142638
            ],
            "fold_2_learn": [
             0.2682545062
            ],
            "fold_2_test": [
             0.2688562678
            ],
            "iteration": 316
           },
           {
            "fold_0_learn": [
             0.2644723134
            ],
            "fold_0_test": [
             0.2758518883
            ],
            "fold_1_learn": [
             0.2642135922
            ],
            "fold_1_test": [
             0.2748237457
            ],
            "fold_2_learn": [
             0.2682336069
            ],
            "fold_2_test": [
             0.2688641025
            ],
            "iteration": 317
           },
           {
            "fold_0_learn": [
             0.2644303143
            ],
            "fold_0_test": [
             0.2758615677
            ],
            "fold_1_learn": [
             0.2641754154
            ],
            "fold_1_test": [
             0.274824854
            ],
            "fold_2_learn": [
             0.2681738401
            ],
            "fold_2_test": [
             0.2688615584
            ],
            "iteration": 318
           },
           {
            "fold_0_learn": [
             0.2643751381
            ],
            "fold_0_test": [
             0.2758664103
            ],
            "fold_1_learn": [
             0.2641051266
            ],
            "fold_1_test": [
             0.2747939596
            ],
            "fold_2_learn": [
             0.2681306079
            ],
            "fold_2_test": [
             0.2688744362
            ],
            "iteration": 319,
            "passed_time": 87.65308187,
            "remaining_time": 186.262799
           },
           {
            "fold_0_learn": [
             0.2643626372
            ],
            "fold_0_test": [
             0.27586061
            ],
            "fold_1_learn": [
             0.2640689078
            ],
            "fold_1_test": [
             0.2747635749
            ],
            "fold_2_learn": [
             0.2680906414
            ],
            "fold_2_test": [
             0.268862876
            ],
            "iteration": 320
           },
           {
            "fold_0_learn": [
             0.2643287669
            ],
            "fold_0_test": [
             0.2758596725
            ],
            "fold_1_learn": [
             0.2640273654
            ],
            "fold_1_test": [
             0.2747662487
            ],
            "fold_2_learn": [
             0.2680594703
            ],
            "fold_2_test": [
             0.2688600665
            ],
            "iteration": 321
           },
           {
            "fold_0_learn": [
             0.2642493192
            ],
            "fold_0_test": [
             0.2758233641
            ],
            "fold_1_learn": [
             0.2640179816
            ],
            "fold_1_test": [
             0.2747633882
            ],
            "fold_2_learn": [
             0.268014116
            ],
            "fold_2_test": [
             0.2688476371
            ],
            "iteration": 322
           },
           {
            "fold_0_learn": [
             0.2642488675
            ],
            "fold_0_test": [
             0.2758234076
            ],
            "fold_1_learn": [
             0.2639682132
            ],
            "fold_1_test": [
             0.2747341585
            ],
            "fold_2_learn": [
             0.2679654374
            ],
            "fold_2_test": [
             0.2688463722
            ],
            "iteration": 323
           },
           {
            "fold_0_learn": [
             0.2642205274
            ],
            "fold_0_test": [
             0.275818962
            ],
            "fold_1_learn": [
             0.2639210646
            ],
            "fold_1_test": [
             0.2747357137
            ],
            "fold_2_learn": [
             0.2679423064
            ],
            "fold_2_test": [
             0.2688449573
            ],
            "iteration": 324
           },
           {
            "fold_0_learn": [
             0.2641826668
            ],
            "fold_0_test": [
             0.275825139
            ],
            "fold_1_learn": [
             0.263843099
            ],
            "fold_1_test": [
             0.274688879
            ],
            "fold_2_learn": [
             0.26792223
            ],
            "fold_2_test": [
             0.2688445645
            ],
            "iteration": 325,
            "passed_time": 89.27379802,
            "remaining_time": 184.5722082
           },
           {
            "fold_0_learn": [
             0.2641632005
            ],
            "fold_0_test": [
             0.2758327085
            ],
            "fold_1_learn": [
             0.2637807446
            ],
            "fold_1_test": [
             0.2746655397
            ],
            "fold_2_learn": [
             0.2678901185
            ],
            "fold_2_test": [
             0.2688396067
            ],
            "iteration": 326
           },
           {
            "fold_0_learn": [
             0.2641104327
            ],
            "fold_0_test": [
             0.2758143045
            ],
            "fold_1_learn": [
             0.2637503014
            ],
            "fold_1_test": [
             0.2746537261
            ],
            "fold_2_learn": [
             0.2678214405
            ],
            "fold_2_test": [
             0.2688409337
            ],
            "iteration": 327
           },
           {
            "fold_0_learn": [
             0.2640932736
            ],
            "fold_0_test": [
             0.2758075825
            ],
            "fold_1_learn": [
             0.2637072397
            ],
            "fold_1_test": [
             0.2746315675
            ],
            "fold_2_learn": [
             0.2677716889
            ],
            "fold_2_test": [
             0.2688146539
            ],
            "iteration": 328
           },
           {
            "fold_0_learn": [
             0.2640442054
            ],
            "fold_0_test": [
             0.2757886784
            ],
            "fold_1_learn": [
             0.263677122
            ],
            "fold_1_test": [
             0.2746319318
            ],
            "fold_2_learn": [
             0.2676980902
            ],
            "fold_2_test": [
             0.2687969948
            ],
            "iteration": 329
           },
           {
            "fold_0_learn": [
             0.2640147985
            ],
            "fold_0_test": [
             0.2757439692
            ],
            "fold_1_learn": [
             0.2635706642
            ],
            "fold_1_test": [
             0.2746028207
            ],
            "fold_2_learn": [
             0.2676407438
            ],
            "fold_2_test": [
             0.2687745473
            ],
            "iteration": 330,
            "passed_time": 90.64564653,
            "remaining_time": 183.2082705
           },
           {
            "fold_0_learn": [
             0.2639847208
            ],
            "fold_0_test": [
             0.2757438702
            ],
            "fold_1_learn": [
             0.263487053
            ],
            "fold_1_test": [
             0.2745472588
            ],
            "fold_2_learn": [
             0.2676054417
            ],
            "fold_2_test": [
             0.2687680156
            ],
            "iteration": 331
           },
           {
            "fold_0_learn": [
             0.2639421288
            ],
            "fold_0_test": [
             0.2757236551
            ],
            "fold_1_learn": [
             0.2634325319
            ],
            "fold_1_test": [
             0.2745403044
            ],
            "fold_2_learn": [
             0.267595797
            ],
            "fold_2_test": [
             0.2687673954
            ],
            "iteration": 332
           },
           {
            "fold_0_learn": [
             0.2638502034
            ],
            "fold_0_test": [
             0.2757200106
            ],
            "fold_1_learn": [
             0.2634141857
            ],
            "fold_1_test": [
             0.2745487595
            ],
            "fold_2_learn": [
             0.2675627491
            ],
            "fold_2_test": [
             0.2687612991
            ],
            "iteration": 333
           },
           {
            "fold_0_learn": [
             0.2637916348
            ],
            "fold_0_test": [
             0.2756748284
            ],
            "fold_1_learn": [
             0.2633473262
            ],
            "fold_1_test": [
             0.2745224433
            ],
            "fold_2_learn": [
             0.2675256437
            ],
            "fold_2_test": [
             0.2687527552
            ],
            "iteration": 334
           },
           {
            "fold_0_learn": [
             0.2637386395
            ],
            "fold_0_test": [
             0.2756829222
            ],
            "fold_1_learn": [
             0.263317505
            ],
            "fold_1_test": [
             0.2745137031
            ],
            "fold_2_learn": [
             0.2674767827
            ],
            "fold_2_test": [
             0.2687250834
            ],
            "iteration": 335,
            "passed_time": 92.10064082,
            "remaining_time": 182.0084092
           },
           {
            "fold_0_learn": [
             0.2636640019
            ],
            "fold_0_test": [
             0.2757168051
            ],
            "fold_1_learn": [
             0.2632768054
            ],
            "fold_1_test": [
             0.2744845592
            ],
            "fold_2_learn": [
             0.2674303835
            ],
            "fold_2_test": [
             0.2687276348
            ],
            "iteration": 336
           },
           {
            "fold_0_learn": [
             0.2636247988
            ],
            "fold_0_test": [
             0.2756903785
            ],
            "fold_1_learn": [
             0.2632221873
            ],
            "fold_1_test": [
             0.2744694901
            ],
            "fold_2_learn": [
             0.2674302215
            ],
            "fold_2_test": [
             0.2687279579
            ],
            "iteration": 337
           },
           {
            "fold_0_learn": [
             0.2635718529
            ],
            "fold_0_test": [
             0.2756919619
            ],
            "fold_1_learn": [
             0.2631522293
            ],
            "fold_1_test": [
             0.2744573839
            ],
            "fold_2_learn": [
             0.2673724497
            ],
            "fold_2_test": [
             0.2687180255
            ],
            "iteration": 338
           },
           {
            "fold_0_learn": [
             0.2635081868
            ],
            "fold_0_test": [
             0.2756516324
            ],
            "fold_1_learn": [
             0.2630731881
            ],
            "fold_1_test": [
             0.2744565608
            ],
            "fold_2_learn": [
             0.2673146282
            ],
            "fold_2_test": [
             0.2686873014
            ],
            "iteration": 339,
            "passed_time": 93.21112478,
            "remaining_time": 180.9392422
           },
           {
            "fold_0_learn": [
             0.2634276293
            ],
            "fold_0_test": [
             0.2755931458
            ],
            "fold_1_learn": [
             0.2630231507
            ],
            "fold_1_test": [
             0.2744736119
            ],
            "fold_2_learn": [
             0.2672930565
            ],
            "fold_2_test": [
             0.2686859276
            ],
            "iteration": 340
           },
           {
            "fold_0_learn": [
             0.2633688591
            ],
            "fold_0_test": [
             0.2755912226
            ],
            "fold_1_learn": [
             0.2630054383
            ],
            "fold_1_test": [
             0.2744716581
            ],
            "fold_2_learn": [
             0.2672511547
            ],
            "fold_2_test": [
             0.2686689619
            ],
            "iteration": 341
           },
           {
            "fold_0_learn": [
             0.2633244764
            ],
            "fold_0_test": [
             0.275570759
            ],
            "fold_1_learn": [
             0.2629148836
            ],
            "fold_1_test": [
             0.2744422857
            ],
            "fold_2_learn": [
             0.2672296322
            ],
            "fold_2_test": [
             0.2686570934
            ],
            "iteration": 342
           },
           {
            "fold_0_learn": [
             0.2632618301
            ],
            "fold_0_test": [
             0.275592836
            ],
            "fold_1_learn": [
             0.2628392487
            ],
            "fold_1_test": [
             0.2744353644
            ],
            "fold_2_learn": [
             0.2671747359
            ],
            "fold_2_test": [
             0.2686367911
            ],
            "iteration": 343
           },
           {
            "fold_0_learn": [
             0.2632311342
            ],
            "fold_0_test": [
             0.2755813577
            ],
            "fold_1_learn": [
             0.2627923447
            ],
            "fold_1_test": [
             0.2744270816
            ],
            "fold_2_learn": [
             0.2671433219
            ],
            "fold_2_test": [
             0.2686296577
            ],
            "iteration": 344
           },
           {
            "fold_0_learn": [
             0.2632165424
            ],
            "fold_0_test": [
             0.2755729309
            ],
            "fold_1_learn": [
             0.2627599277
            ],
            "fold_1_test": [
             0.2744451125
            ],
            "fold_2_learn": [
             0.2670963241
            ],
            "fold_2_test": [
             0.2686305583
            ],
            "iteration": 345,
            "passed_time": 94.88872761,
            "remaining_time": 179.3561499
           },
           {
            "fold_0_learn": [
             0.2632010491
            ],
            "fold_0_test": [
             0.2755662158
            ],
            "fold_1_learn": [
             0.2627167968
            ],
            "fold_1_test": [
             0.2744314257
            ],
            "fold_2_learn": [
             0.2670866725
            ],
            "fold_2_test": [
             0.2686286988
            ],
            "iteration": 346
           },
           {
            "fold_0_learn": [
             0.2631650111
            ],
            "fold_0_test": [
             0.2755715194
            ],
            "fold_1_learn": [
             0.2626671093
            ],
            "fold_1_test": [
             0.2743991754
            ],
            "fold_2_learn": [
             0.2670096504
            ],
            "fold_2_test": [
             0.268626438
            ],
            "iteration": 347
           },
           {
            "fold_0_learn": [
             0.2631278498
            ],
            "fold_0_test": [
             0.2755461106
            ],
            "fold_1_learn": [
             0.2625854067
            ],
            "fold_1_test": [
             0.274415392
            ],
            "fold_2_learn": [
             0.266941885
            ],
            "fold_2_test": [
             0.2686037958
            ],
            "iteration": 348
           },
           {
            "fold_0_learn": [
             0.2630908955
            ],
            "fold_0_test": [
             0.2755544684
            ],
            "fold_1_learn": [
             0.2625670247
            ],
            "fold_1_test": [
             0.2744240938
            ],
            "fold_2_learn": [
             0.2668855705
            ],
            "fold_2_test": [
             0.2685928534
            ],
            "iteration": 349
           },
           {
            "fold_0_learn": [
             0.2630681836
            ],
            "fold_0_test": [
             0.2755521821
            ],
            "fold_1_learn": [
             0.2625335398
            ],
            "fold_1_test": [
             0.2744367615
            ],
            "fold_2_learn": [
             0.2668463714
            ],
            "fold_2_test": [
             0.2685915738
            ],
            "iteration": 350
           },
           {
            "fold_0_learn": [
             0.2630593139
            ],
            "fold_0_test": [
             0.2755444096
            ],
            "fold_1_learn": [
             0.2624957193
            ],
            "fold_1_test": [
             0.2744334112
            ],
            "fold_2_learn": [
             0.2668338128
            ],
            "fold_2_test": [
             0.2685934349
            ],
            "iteration": 351,
            "passed_time": 96.59162064,
            "remaining_time": 177.8163925
           },
           {
            "fold_0_learn": [
             0.2630258902
            ],
            "fold_0_test": [
             0.2755391303
            ],
            "fold_1_learn": [
             0.2624816091
            ],
            "fold_1_test": [
             0.2744292188
            ],
            "fold_2_learn": [
             0.2667671992
            ],
            "fold_2_test": [
             0.268565073
            ],
            "iteration": 352
           },
           {
            "fold_0_learn": [
             0.2629593318
            ],
            "fold_0_test": [
             0.2754944604
            ],
            "fold_1_learn": [
             0.2624472365
            ],
            "fold_1_test": [
             0.2744264675
            ],
            "fold_2_learn": [
             0.2667082384
            ],
            "fold_2_test": [
             0.2685675211
            ],
            "iteration": 353
           },
           {
            "fold_0_learn": [
             0.2629277114
            ],
            "fold_0_test": [
             0.2754974212
            ],
            "fold_1_learn": [
             0.2623952818
            ],
            "fold_1_test": [
             0.2744424454
            ],
            "fold_2_learn": [
             0.2666665532
            ],
            "fold_2_test": [
             0.2685558751
            ],
            "iteration": 354
           },
           {
            "fold_0_learn": [
             0.262877565
            ],
            "fold_0_test": [
             0.2754904506
            ],
            "fold_1_learn": [
             0.2623345121
            ],
            "fold_1_test": [
             0.2744369087
            ],
            "fold_2_learn": [
             0.2666279279
            ],
            "fold_2_test": [
             0.2685375361
            ],
            "iteration": 355
           },
           {
            "fold_0_learn": [
             0.2628457843
            ],
            "fold_0_test": [
             0.2754894596
            ],
            "fold_1_learn": [
             0.2623150167
            ],
            "fold_1_test": [
             0.274432883
            ],
            "fold_2_learn": [
             0.266535072
            ],
            "fold_2_test": [
             0.268501297
            ],
            "iteration": 356,
            "passed_time": 98.02840488,
            "remaining_time": 176.5609645
           },
           {
            "fold_0_learn": [
             0.2628101026
            ],
            "fold_0_test": [
             0.2754767682
            ],
            "fold_1_learn": [
             0.2622682124
            ],
            "fold_1_test": [
             0.2744192438
            ],
            "fold_2_learn": [
             0.2665005642
            ],
            "fold_2_test": [
             0.2684844591
            ],
            "iteration": 357
           },
           {
            "fold_0_learn": [
             0.2627788426
            ],
            "fold_0_test": [
             0.2754860665
            ],
            "fold_1_learn": [
             0.2622446472
            ],
            "fold_1_test": [
             0.274427161
            ],
            "fold_2_learn": [
             0.2664450724
            ],
            "fold_2_test": [
             0.2684778874
            ],
            "iteration": 358
           },
           {
            "fold_0_learn": [
             0.2627433938
            ],
            "fold_0_test": [
             0.2754726062
            ],
            "fold_1_learn": [
             0.2621907781
            ],
            "fold_1_test": [
             0.2744423209
            ],
            "fold_2_learn": [
             0.2664434838
            ],
            "fold_2_test": [
             0.2684780745
            ],
            "iteration": 359
           },
           {
            "fold_0_learn": [
             0.2627281763
            ],
            "fold_0_test": [
             0.2754661532
            ],
            "fold_1_learn": [
             0.2621629677
            ],
            "fold_1_test": [
             0.2744305107
            ],
            "fold_2_learn": [
             0.2663417328
            ],
            "fold_2_test": [
             0.2684419606
            ],
            "iteration": 360
           },
           {
            "fold_0_learn": [
             0.2626952246
            ],
            "fold_0_test": [
             0.2754525255
            ],
            "fold_1_learn": [
             0.2620821853
            ],
            "fold_1_test": [
             0.2744356478
            ],
            "fold_2_learn": [
             0.2663190411
            ],
            "fold_2_test": [
             0.2684430941
            ],
            "iteration": 361,
            "passed_time": 99.44409132,
            "remaining_time": 175.2633433
           },
           {
            "fold_0_learn": [
             0.2626185264
            ],
            "fold_0_test": [
             0.2754428457
            ],
            "fold_1_learn": [
             0.2620323838
            ],
            "fold_1_test": [
             0.2744094031
            ],
            "fold_2_learn": [
             0.2662791859
            ],
            "fold_2_test": [
             0.2684195038
            ],
            "iteration": 362
           },
           {
            "fold_0_learn": [
             0.2625862381
            ],
            "fold_0_test": [
             0.2754221236
            ],
            "fold_1_learn": [
             0.2619369523
            ],
            "fold_1_test": [
             0.274368461
            ],
            "fold_2_learn": [
             0.2662311373
            ],
            "fold_2_test": [
             0.2683733427
            ],
            "iteration": 363
           },
           {
            "fold_0_learn": [
             0.2625441032
            ],
            "fold_0_test": [
             0.2754436815
            ],
            "fold_1_learn": [
             0.2619123541
            ],
            "fold_1_test": [
             0.2743672057
            ],
            "fold_2_learn": [
             0.2661912044
            ],
            "fold_2_test": [
             0.2683487032
            ],
            "iteration": 364
           },
           {
            "fold_0_learn": [
             0.2624750583
            ],
            "fold_0_test": [
             0.2754486667
            ],
            "fold_1_learn": [
             0.2618708169
            ],
            "fold_1_test": [
             0.2743590093
            ],
            "fold_2_learn": [
             0.2661051868
            ],
            "fold_2_test": [
             0.2683685895
            ],
            "iteration": 365,
            "passed_time": 100.633799,
            "remaining_time": 174.321936
           },
           {
            "fold_0_learn": [
             0.2624175344
            ],
            "fold_0_test": [
             0.2754332071
            ],
            "fold_1_learn": [
             0.2618253897
            ],
            "fold_1_test": [
             0.2743508354
            ],
            "fold_2_learn": [
             0.2660341042
            ],
            "fold_2_test": [
             0.2683573402
            ],
            "iteration": 366
           },
           {
            "fold_0_learn": [
             0.2623748306
            ],
            "fold_0_test": [
             0.2754188442
            ],
            "fold_1_learn": [
             0.2617914561
            ],
            "fold_1_test": [
             0.2743441331
            ],
            "fold_2_learn": [
             0.2659538686
            ],
            "fold_2_test": [
             0.2683435694
            ],
            "iteration": 367
           },
           {
            "fold_0_learn": [
             0.2623053775
            ],
            "fold_0_test": [
             0.2753897473
            ],
            "fold_1_learn": [
             0.2617504306
            ],
            "fold_1_test": [
             0.2743452325
            ],
            "fold_2_learn": [
             0.2659020251
            ],
            "fold_2_test": [
             0.2683339114
            ],
            "iteration": 368
           },
           {
            "fold_0_learn": [
             0.26230201
            ],
            "fold_0_test": [
             0.2753884914
            ],
            "fold_1_learn": [
             0.2617243917
            ],
            "fold_1_test": [
             0.2743492159
            ],
            "fold_2_learn": [
             0.2658384328
            ],
            "fold_2_test": [
             0.2682940688
            ],
            "iteration": 369
           },
           {
            "fold_0_learn": [
             0.2622427091
            ],
            "fold_0_test": [
             0.2753697463
            ],
            "fold_1_learn": [
             0.261683604
            ],
            "fold_1_test": [
             0.2743468264
            ],
            "fold_2_learn": [
             0.2657854421
            ],
            "fold_2_test": [
             0.2682722321
            ],
            "iteration": 370,
            "passed_time": 102.2086911,
            "remaining_time": 173.2864331
           },
           {
            "fold_0_learn": [
             0.262185183
            ],
            "fold_0_test": [
             0.2753784131
            ],
            "fold_1_learn": [
             0.2616242489
            ],
            "fold_1_test": [
             0.2743504148
            ],
            "fold_2_learn": [
             0.2657541338
            ],
            "fold_2_test": [
             0.2682689912
            ],
            "iteration": 371
           },
           {
            "fold_0_learn": [
             0.2621813753
            ],
            "fold_0_test": [
             0.2753760152
            ],
            "fold_1_learn": [
             0.2615631884
            ],
            "fold_1_test": [
             0.2743252784
            ],
            "fold_2_learn": [
             0.2657184487
            ],
            "fold_2_test": [
             0.2682589591
            ],
            "iteration": 372
           },
           {
            "fold_0_learn": [
             0.262160209
            ],
            "fold_0_test": [
             0.2753827505
            ],
            "fold_1_learn": [
             0.2615136158
            ],
            "fold_1_test": [
             0.2743184314
            ],
            "fold_2_learn": [
             0.2656883033
            ],
            "fold_2_test": [
             0.2682549094
            ],
            "iteration": 373
           },
           {
            "fold_0_learn": [
             0.2621315172
            ],
            "fold_0_test": [
             0.2753843687
            ],
            "fold_1_learn": [
             0.2614918974
            ],
            "fold_1_test": [
             0.2743140158
            ],
            "fold_2_learn": [
             0.2656120233
            ],
            "fold_2_test": [
             0.2681865335
            ],
            "iteration": 374,
            "passed_time": 103.3869042,
            "remaining_time": 172.311507
           },
           {
            "fold_0_learn": [
             0.2621214029
            ],
            "fold_0_test": [
             0.2753727396
            ],
            "fold_1_learn": [
             0.2614470208
            ],
            "fold_1_test": [
             0.2743059364
            ],
            "fold_2_learn": [
             0.2655696944
            ],
            "fold_2_test": [
             0.2681716317
            ],
            "iteration": 375
           },
           {
            "fold_0_learn": [
             0.262059713
            ],
            "fold_0_test": [
             0.2753744779
            ],
            "fold_1_learn": [
             0.261427495
            ],
            "fold_1_test": [
             0.2743074515
            ],
            "fold_2_learn": [
             0.2654856799
            ],
            "fold_2_test": [
             0.2681745538
            ],
            "iteration": 376
           },
           {
            "fold_0_learn": [
             0.2620379623
            ],
            "fold_0_test": [
             0.2753719816
            ],
            "fold_1_learn": [
             0.261406069
            ],
            "fold_1_test": [
             0.2743106865
            ],
            "fold_2_learn": [
             0.2654505482
            ],
            "fold_2_test": [
             0.2681708963
            ],
            "iteration": 377
           },
           {
            "fold_0_learn": [
             0.2619956292
            ],
            "fold_0_test": [
             0.2753723044
            ],
            "fold_1_learn": [
             0.2613542149
            ],
            "fold_1_test": [
             0.274318624
            ],
            "fold_2_learn": [
             0.2654280521
            ],
            "fold_2_test": [
             0.2681561046
            ],
            "iteration": 378
           },
           {
            "fold_0_learn": [
             0.2619869022
            ],
            "fold_0_test": [
             0.2753682811
            ],
            "fold_1_learn": [
             0.261292139
            ],
            "fold_1_test": [
             0.2742958403
            ],
            "fold_2_learn": [
             0.2653984695
            ],
            "fold_2_test": [
             0.2681471169
            ],
            "iteration": 379,
            "passed_time": 104.8610342,
            "remaining_time": 171.0890559
           },
           {
            "fold_0_learn": [
             0.2619825444
            ],
            "fold_0_test": [
             0.2753630553
            ],
            "fold_1_learn": [
             0.2612437791
            ],
            "fold_1_test": [
             0.2742924462
            ],
            "fold_2_learn": [
             0.2653495849
            ],
            "fold_2_test": [
             0.268136124
            ],
            "iteration": 380
           },
           {
            "fold_0_learn": [
             0.2619371583
            ],
            "fold_0_test": [
             0.2753633723
            ],
            "fold_1_learn": [
             0.2612155989
            ],
            "fold_1_test": [
             0.2742962917
            ],
            "fold_2_learn": [
             0.2653094258
            ],
            "fold_2_test": [
             0.2681333286
            ],
            "iteration": 381
           },
           {
            "fold_0_learn": [
             0.2619185207
            ],
            "fold_0_test": [
             0.2753727302
            ],
            "fold_1_learn": [
             0.2611620836
            ],
            "fold_1_test": [
             0.2742822311
            ],
            "fold_2_learn": [
             0.265288555
            ],
            "fold_2_test": [
             0.2681360865
            ],
            "iteration": 382,
            "passed_time": 105.8139842,
            "remaining_time": 170.4627369
           },
           {
            "fold_0_learn": [
             0.2618681443
            ],
            "fold_0_test": [
             0.2753713875
            ],
            "fold_1_learn": [
             0.2610935322
            ],
            "fold_1_test": [
             0.2743184075
            ],
            "fold_2_learn": [
             0.265262683
            ],
            "fold_2_test": [
             0.2681401729
            ],
            "iteration": 383
           },
           {
            "fold_0_learn": [
             0.2618613288
            ],
            "fold_0_test": [
             0.2753699146
            ],
            "fold_1_learn": [
             0.2610726683
            ],
            "fold_1_test": [
             0.2743209706
            ],
            "fold_2_learn": [
             0.2652265523
            ],
            "fold_2_test": [
             0.2681293043
            ],
            "iteration": 384
           },
           {
            "fold_0_learn": [
             0.2618442816
            ],
            "fold_0_test": [
             0.2753726768
            ],
            "fold_1_learn": [
             0.2610261471
            ],
            "fold_1_test": [
             0.2743106984
            ],
            "fold_2_learn": [
             0.2651935998
            ],
            "fold_2_test": [
             0.2681291388
            ],
            "iteration": 385
           },
           {
            "fold_0_learn": [
             0.2618377129
            ],
            "fold_0_test": [
             0.2753716355
            ],
            "fold_1_learn": [
             0.2610041624
            ],
            "fold_1_test": [
             0.2743145216
            ],
            "fold_2_learn": [
             0.2651636939
            ],
            "fold_2_test": [
             0.2681248907
            ],
            "iteration": 386
           },
           {
            "fold_0_learn": [
             0.2618012003
            ],
            "fold_0_test": [
             0.2753682158
            ],
            "fold_1_learn": [
             0.2609840248
            ],
            "fold_1_test": [
             0.2743218807
            ],
            "fold_2_learn": [
             0.2651122193
            ],
            "fold_2_test": [
             0.2681219613
            ],
            "iteration": 387,
            "passed_time": 107.2659997,
            "remaining_time": 169.1927625
           },
           {
            "fold_0_learn": [
             0.2617632075
            ],
            "fold_0_test": [
             0.2753705742
            ],
            "fold_1_learn": [
             0.2609637673
            ],
            "fold_1_test": [
             0.2743204607
            ],
            "fold_2_learn": [
             0.2650901378
            ],
            "fold_2_test": [
             0.2681147908
            ],
            "iteration": 388
           },
           {
            "fold_0_learn": [
             0.2617147667
            ],
            "fold_0_test": [
             0.2753646062
            ],
            "fold_1_learn": [
             0.2609513443
            ],
            "fold_1_test": [
             0.2743157912
            ],
            "fold_2_learn": [
             0.2650597985
            ],
            "fold_2_test": [
             0.2681111239
            ],
            "iteration": 389
           },
           {
            "fold_0_learn": [
             0.2616943595
            ],
            "fold_0_test": [
             0.2753598654
            ],
            "fold_1_learn": [
             0.2608683994
            ],
            "fold_1_test": [
             0.2742956949
            ],
            "fold_2_learn": [
             0.2650104873
            ],
            "fold_2_test": [
             0.2681087121
            ],
            "iteration": 390
           },
           {
            "fold_0_learn": [
             0.2616535249
            ],
            "fold_0_test": [
             0.2753769388
            ],
            "fold_1_learn": [
             0.2608456674
            ],
            "fold_1_test": [
             0.2742979261
            ],
            "fold_2_learn": [
             0.2649943943
            ],
            "fold_2_test": [
             0.268111562
            ],
            "iteration": 391,
            "passed_time": 108.4849932,
            "remaining_time": 168.2624385
           },
           {
            "fold_0_learn": [
             0.2615967773
            ],
            "fold_0_test": [
             0.2753480229
            ],
            "fold_1_learn": [
             0.260780464
            ],
            "fold_1_test": [
             0.2743055076
            ],
            "fold_2_learn": [
             0.264946339
            ],
            "fold_2_test": [
             0.2680917395
            ],
            "iteration": 392
           },
           {
            "fold_0_learn": [
             0.2615662188
            ],
            "fold_0_test": [
             0.2753427275
            ],
            "fold_1_learn": [
             0.2607715435
            ],
            "fold_1_test": [
             0.2743043154
            ],
            "fold_2_learn": [
             0.2649179539
            ],
            "fold_2_test": [
             0.268098479
            ],
            "iteration": 393
           },
           {
            "fold_0_learn": [
             0.2615578079
            ],
            "fold_0_test": [
             0.2753418005
            ],
            "fold_1_learn": [
             0.2607094914
            ],
            "fold_1_test": [
             0.2742987499
            ],
            "fold_2_learn": [
             0.2648827072
            ],
            "fold_2_test": [
             0.268094673
            ],
            "iteration": 394
           },
           {
            "fold_0_learn": [
             0.2615346169
            ],
            "fold_0_test": [
             0.2753413605
            ],
            "fold_1_learn": [
             0.2606789678
            ],
            "fold_1_test": [
             0.2743007453
            ],
            "fold_2_learn": [
             0.2648522389
            ],
            "fold_2_test": [
             0.2680959538
            ],
            "iteration": 395
           },
           {
            "fold_0_learn": [
             0.2614877176
            ],
            "fold_0_test": [
             0.2753140369
            ],
            "fold_1_learn": [
             0.2606534559
            ],
            "fold_1_test": [
             0.2742973511
            ],
            "fold_2_learn": [
             0.2648232157
            ],
            "fold_2_test": [
             0.2680833128
            ],
            "iteration": 396
           },
           {
            "fold_0_learn": [
             0.2614199891
            ],
            "fold_0_test": [
             0.2753311926
            ],
            "fold_1_learn": [
             0.260596329
            ],
            "fold_1_test": [
             0.2743002405
            ],
            "fold_2_learn": [
             0.2647794253
            ],
            "fold_2_test": [
             0.2680691585
            ],
            "iteration": 397,
            "passed_time": 110.1537495,
            "remaining_time": 166.6144653
           },
           {
            "fold_0_learn": [
             0.2613708927
            ],
            "fold_0_test": [
             0.2753001716
            ],
            "fold_1_learn": [
             0.2605563489
            ],
            "fold_1_test": [
             0.2742650292
            ],
            "fold_2_learn": [
             0.2647442852
            ],
            "fold_2_test": [
             0.2680674131
            ],
            "iteration": 398
           },
           {
            "fold_0_learn": [
             0.2613591073
            ],
            "fold_0_test": [
             0.2753002665
            ],
            "fold_1_learn": [
             0.2605297815
            ],
            "fold_1_test": [
             0.2742674226
            ],
            "fold_2_learn": [
             0.2646981351
            ],
            "fold_2_test": [
             0.2680687897
            ],
            "iteration": 399
           },
           {
            "fold_0_learn": [
             0.261354348
            ],
            "fold_0_test": [
             0.275301126
            ],
            "fold_1_learn": [
             0.260506548
            ],
            "fold_1_test": [
             0.2742750803
            ],
            "fold_2_learn": [
             0.2646585184
            ],
            "fold_2_test": [
             0.2680552464
            ],
            "iteration": 400
           },
           {
            "fold_0_learn": [
             0.2613506107
            ],
            "fold_0_test": [
             0.2753022347
            ],
            "fold_1_learn": [
             0.2604982575
            ],
            "fold_1_test": [
             0.2742719287
            ],
            "fold_2_learn": [
             0.2646094193
            ],
            "fold_2_test": [
             0.2680416076
            ],
            "iteration": 401
           },
           {
            "fold_0_learn": [
             0.2613306463
            ],
            "fold_0_test": [
             0.2752881206
            ],
            "fold_1_learn": [
             0.2604145779
            ],
            "fold_1_test": [
             0.2742668946
            ],
            "fold_2_learn": [
             0.2645578347
            ],
            "fold_2_test": [
             0.2680283761
            ],
            "iteration": 402,
            "passed_time": 111.5903502,
            "remaining_time": 165.3087818
           },
           {
            "fold_0_learn": [
             0.2612794217
            ],
            "fold_0_test": [
             0.2753056921
            ],
            "fold_1_learn": [
             0.2603367734
            ],
            "fold_1_test": [
             0.2742811685
            ],
            "fold_2_learn": [
             0.2645192214
            ],
            "fold_2_test": [
             0.2680254555
            ],
            "iteration": 403
           },
           {
            "fold_0_learn": [
             0.2612362008
            ],
            "fold_0_test": [
             0.2752851322
            ],
            "fold_1_learn": [
             0.2602869995
            ],
            "fold_1_test": [
             0.2742661986
            ],
            "fold_2_learn": [
             0.2644992793
            ],
            "fold_2_test": [
             0.2680269701
            ],
            "iteration": 404
           },
           {
            "fold_0_learn": [
             0.2611497326
            ],
            "fold_0_test": [
             0.2752653668
            ],
            "fold_1_learn": [
             0.2602510937
            ],
            "fold_1_test": [
             0.2742646719
            ],
            "fold_2_learn": [
             0.2644732787
            ],
            "fold_2_test": [
             0.2680239498
            ],
            "iteration": 405
           },
           {
            "fold_0_learn": [
             0.2611116007
            ],
            "fold_0_test": [
             0.27526699
            ],
            "fold_1_learn": [
             0.2602363063
            ],
            "fold_1_test": [
             0.2742626997
            ],
            "fold_2_learn": [
             0.2644155707
            ],
            "fold_2_test": [
             0.26799952
            ],
            "iteration": 406,
            "passed_time": 112.7861644,
            "remaining_time": 164.3297187
           },
           {
            "fold_0_learn": [
             0.2610797116
            ],
            "fold_0_test": [
             0.2752635166
            ],
            "fold_1_learn": [
             0.2602110535
            ],
            "fold_1_test": [
             0.2742493426
            ],
            "fold_2_learn": [
             0.2643768063
            ],
            "fold_2_test": [
             0.2679970156
            ],
            "iteration": 407
           },
           {
            "fold_0_learn": [
             0.26102649
            ],
            "fold_0_test": [
             0.2752650439
            ],
            "fold_1_learn": [
             0.2601663749
            ],
            "fold_1_test": [
             0.2742425193
            ],
            "fold_2_learn": [
             0.2643461025
            ],
            "fold_2_test": [
             0.268002493
            ],
            "iteration": 408
           },
           {
            "fold_0_learn": [
             0.2609783269
            ],
            "fold_0_test": [
             0.2752624449
            ],
            "fold_1_learn": [
             0.2601519175
            ],
            "fold_1_test": [
             0.274238911
            ],
            "fold_2_learn": [
             0.2643351686
            ],
            "fold_2_test": [
             0.2680017418
            ],
            "iteration": 409
           },
           {
            "fold_0_learn": [
             0.260942184
            ],
            "fold_0_test": [
             0.2752449007
            ],
            "fold_1_learn": [
             0.2600832909
            ],
            "fold_1_test": [
             0.2742138363
            ],
            "fold_2_learn": [
             0.2643059365
            ],
            "fold_2_test": [
             0.268009347
            ],
            "iteration": 410,
            "passed_time": 113.9868628,
            "remaining_time": 163.3534359
           },
           {
            "fold_0_learn": [
             0.260906272
            ],
            "fold_0_test": [
             0.2752466654
            ],
            "fold_1_learn": [
             0.2600371715
            ],
            "fold_1_test": [
             0.2742195625
            ],
            "fold_2_learn": [
             0.2642568952
            ],
            "fold_2_test": [
             0.2679791951
            ],
            "iteration": 411
           },
           {
            "fold_0_learn": [
             0.2608939295
            ],
            "fold_0_test": [
             0.2752448773
            ],
            "fold_1_learn": [
             0.2600022906
            ],
            "fold_1_test": [
             0.2742278116
            ],
            "fold_2_learn": [
             0.2642062122
            ],
            "fold_2_test": [
             0.2679534597
            ],
            "iteration": 412
           },
           {
            "fold_0_learn": [
             0.2608399392
            ],
            "fold_0_test": [
             0.2752418094
            ],
            "fold_1_learn": [
             0.259944245
            ],
            "fold_1_test": [
             0.2742261361
            ],
            "fold_2_learn": [
             0.2641484904
            ],
            "fold_2_test": [
             0.2679216054
            ],
            "iteration": 413
           },
           {
            "fold_0_learn": [
             0.2608242142
            ],
            "fold_0_test": [
             0.2752397103
            ],
            "fold_1_learn": [
             0.2599161089
            ],
            "fold_1_test": [
             0.2742385479
            ],
            "fold_2_learn": [
             0.2641346023
            ],
            "fold_2_test": [
             0.267924791
            ],
            "iteration": 414
           },
           {
            "fold_0_learn": [
             0.2607757352
            ],
            "fold_0_test": [
             0.2752083296
            ],
            "fold_1_learn": [
             0.2598706283
            ],
            "fold_1_test": [
             0.2742243302
            ],
            "fold_2_learn": [
             0.264114689
            ],
            "fold_2_test": [
             0.2679274837
            ],
            "iteration": 415
           },
           {
            "fold_0_learn": [
             0.2607336882
            ],
            "fold_0_test": [
             0.2752054826
            ],
            "fold_1_learn": [
             0.2598489089
            ],
            "fold_1_test": [
             0.2742134462
            ],
            "fold_2_learn": [
             0.2640782222
            ],
            "fold_2_test": [
             0.2679149663
            ],
            "iteration": 416
           },
           {
            "fold_0_learn": [
             0.2607034581
            ],
            "fold_0_test": [
             0.2751983056
            ],
            "fold_1_learn": [
             0.2598139968
            ],
            "fold_1_test": [
             0.2742154882
            ],
            "fold_2_learn": [
             0.2640029928
            ],
            "fold_2_test": [
             0.2678544005
            ],
            "iteration": 417,
            "passed_time": 115.9018125,
            "remaining_time": 161.375251
           },
           {
            "fold_0_learn": [
             0.2606595011
            ],
            "fold_0_test": [
             0.2751992047
            ],
            "fold_1_learn": [
             0.2597670975
            ],
            "fold_1_test": [
             0.2742068546
            ],
            "fold_2_learn": [
             0.2639374438
            ],
            "fold_2_test": [
             0.2678449592
            ],
            "iteration": 418
           },
           {
            "fold_0_learn": [
             0.2606025825
            ],
            "fold_0_test": [
             0.2752097713
            ],
            "fold_1_learn": [
             0.2597429833
            ],
            "fold_1_test": [
             0.2742085693
            ],
            "fold_2_learn": [
             0.2639130856
            ],
            "fold_2_test": [
             0.2678381992
            ],
            "iteration": 419
           },
           {
            "fold_0_learn": [
             0.2605667407
            ],
            "fold_0_test": [
             0.2752219235
            ],
            "fold_1_learn": [
             0.2596724565
            ],
            "fold_1_test": [
             0.2742016436
            ],
            "fold_2_learn": [
             0.2638643113
            ],
            "fold_2_test": [
             0.2678377371
            ],
            "iteration": 420
           },
           {
            "fold_0_learn": [
             0.2604998639
            ],
            "fold_0_test": [
             0.2752107973
            ],
            "fold_1_learn": [
             0.259600989
            ],
            "fold_1_test": [
             0.2742035786
            ],
            "fold_2_learn": [
             0.2638363745
            ],
            "fold_2_test": [
             0.2678357042
            ],
            "iteration": 421
           },
           {
            "fold_0_learn": [
             0.2604371768
            ],
            "fold_0_test": [
             0.2752087994
            ],
            "fold_1_learn": [
             0.2595475651
            ],
            "fold_1_test": [
             0.2742082021
            ],
            "fold_2_learn": [
             0.2638007
            ],
            "fold_2_test": [
             0.2678161219
            ],
            "iteration": 422
           },
           {
            "fold_0_learn": [
             0.2604280377
            ],
            "fold_0_test": [
             0.2752065404
            ],
            "fold_1_learn": [
             0.2594753135
            ],
            "fold_1_test": [
             0.2741967952
            ],
            "fold_2_learn": [
             0.2637571158
            ],
            "fold_2_test": [
             0.2677999264
            ],
            "iteration": 423,
            "passed_time": 117.7468687,
            "remaining_time": 159.9580103
           },
           {
            "fold_0_learn": [
             0.2603879419
            ],
            "fold_0_test": [
             0.2751873584
            ],
            "fold_1_learn": [
             0.2594460282
            ],
            "fold_1_test": [
             0.2741937721
            ],
            "fold_2_learn": [
             0.2637562481
            ],
            "fold_2_test": [
             0.2678000955
            ],
            "iteration": 424
           },
           {
            "fold_0_learn": [
             0.2603401887
            ],
            "fold_0_test": [
             0.2751684851
            ],
            "fold_1_learn": [
             0.2593954307
            ],
            "fold_1_test": [
             0.274189675
            ],
            "fold_2_learn": [
             0.2637203382
            ],
            "fold_2_test": [
             0.2677859141
            ],
            "iteration": 425
           },
           {
            "fold_0_learn": [
             0.2603074003
            ],
            "fold_0_test": [
             0.2751610889
            ],
            "fold_1_learn": [
             0.2593261767
            ],
            "fold_1_test": [
             0.2741947027
            ],
            "fold_2_learn": [
             0.2636383786
            ],
            "fold_2_test": [
             0.2677697895
            ],
            "iteration": 426
           },
           {
            "fold_0_learn": [
             0.2602958011
            ],
            "fold_0_test": [
             0.2751480887
            ],
            "fold_1_learn": [
             0.2593159465
            ],
            "fold_1_test": [
             0.2741929509
            ],
            "fold_2_learn": [
             0.2635979379
            ],
            "fold_2_test": [
             0.2677697788
            ],
            "iteration": 427
           },
           {
            "fold_0_learn": [
             0.2602473949
            ],
            "fold_0_test": [
             0.2751596881
            ],
            "fold_1_learn": [
             0.2592939523
            ],
            "fold_1_test": [
             0.2741940181
            ],
            "fold_2_learn": [
             0.2635578825
            ],
            "fold_2_test": [
             0.2677703259
            ],
            "iteration": 428,
            "passed_time": 119.1510034,
            "remaining_time": 158.5902632
           },
           {
            "fold_0_learn": [
             0.2602447154
            ],
            "fold_0_test": [
             0.27516015
            ],
            "fold_1_learn": [
             0.2592666058
            ],
            "fold_1_test": [
             0.2741889266
            ],
            "fold_2_learn": [
             0.2635063671
            ],
            "fold_2_test": [
             0.2677294565
            ],
            "iteration": 429
           },
           {
            "fold_0_learn": [
             0.2602281186
            ],
            "fold_0_test": [
             0.2751542596
            ],
            "fold_1_learn": [
             0.2592019377
            ],
            "fold_1_test": [
             0.2741958225
            ],
            "fold_2_learn": [
             0.2634881201
            ],
            "fold_2_test": [
             0.2677233045
            ],
            "iteration": 430
           },
           {
            "fold_0_learn": [
             0.2602248592
            ],
            "fold_0_test": [
             0.2751554444
            ],
            "fold_1_learn": [
             0.2591663601
            ],
            "fold_1_test": [
             0.2741874899
            ],
            "fold_2_learn": [
             0.2634784578
            ],
            "fold_2_test": [
             0.2677237095
            ],
            "iteration": 431
           },
           {
            "fold_0_learn": [
             0.2601700262
            ],
            "fold_0_test": [
             0.2751243541
            ],
            "fold_1_learn": [
             0.2591340362
            ],
            "fold_1_test": [
             0.2741900155
            ],
            "fold_2_learn": [
             0.2634407036
            ],
            "fold_2_test": [
             0.2676939382
            ],
            "iteration": 432
           },
           {
            "fold_0_learn": [
             0.2601058494
            ],
            "fold_0_test": [
             0.2751049354
            ],
            "fold_1_learn": [
             0.2590969972
            ],
            "fold_1_test": [
             0.2741837006
            ],
            "fold_2_learn": [
             0.2634290808
            ],
            "fold_2_test": [
             0.2676980668
            ],
            "iteration": 433
           },
           {
            "fold_0_learn": [
             0.260060543
            ],
            "fold_0_test": [
             0.2750888368
            ],
            "fold_1_learn": [
             0.2590674875
            ],
            "fold_1_test": [
             0.2741828417
            ],
            "fold_2_learn": [
             0.2634229522
            ],
            "fold_2_test": [
             0.2676942037
            ],
            "iteration": 434,
            "passed_time": 120.8282089,
            "remaining_time": 156.9377886
           },
           {
            "fold_0_learn": [
             0.2600509663
            ],
            "fold_0_test": [
             0.2750908245
            ],
            "fold_1_learn": [
             0.2590344165
            ],
            "fold_1_test": [
             0.2741945788
            ],
            "fold_2_learn": [
             0.2633680425
            ],
            "fold_2_test": [
             0.2676960297
            ],
            "iteration": 435
           },
           {
            "fold_0_learn": [
             0.2600229676
            ],
            "fold_0_test": [
             0.2750877759
            ],
            "fold_1_learn": [
             0.2589814462
            ],
            "fold_1_test": [
             0.2742127148
            ],
            "fold_2_learn": [
             0.2633035838
            ],
            "fold_2_test": [
             0.267661781
            ],
            "iteration": 436
           },
           {
            "fold_0_learn": [
             0.2599732408
            ],
            "fold_0_test": [
             0.2750799032
            ],
            "fold_1_learn": [
             0.258951276
            ],
            "fold_1_test": [
             0.2742265073
            ],
            "fold_2_learn": [
             0.2632944245
            ],
            "fold_2_test": [
             0.2676608966
            ],
            "iteration": 437
           },
           {
            "fold_0_learn": [
             0.2599634506
            ],
            "fold_0_test": [
             0.2750816606
            ],
            "fold_1_learn": [
             0.2589183779
            ],
            "fold_1_test": [
             0.2742427529
            ],
            "fold_2_learn": [
             0.2632616521
            ],
            "fold_2_test": [
             0.2676689736
            ],
            "iteration": 438
           },
           {
            "fold_0_learn": [
             0.2599282536
            ],
            "fold_0_test": [
             0.2750757404
            ],
            "fold_1_learn": [
             0.2588756516
            ],
            "fold_1_test": [
             0.2742285971
            ],
            "fold_2_learn": [
             0.2632278198
            ],
            "fold_2_test": [
             0.2676642748
            ],
            "iteration": 439
           },
           {
            "fold_0_learn": [
             0.2599055584
            ],
            "fold_0_test": [
             0.2750685867
            ],
            "fold_1_learn": [
             0.2588573691
            ],
            "fold_1_test": [
             0.274222549
            ],
            "fold_2_learn": [
             0.2631843803
            ],
            "fold_2_test": [
             0.2676607447
            ],
            "iteration": 440,
            "passed_time": 122.6537274,
            "remaining_time": 155.4726386
           },
           {
            "fold_0_learn": [
             0.2598593208
            ],
            "fold_0_test": [
             0.2750471884
            ],
            "fold_1_learn": [
             0.258836367
            ],
            "fold_1_test": [
             0.2742280269
            ],
            "fold_2_learn": [
             0.2631584559
            ],
            "fold_2_test": [
             0.2676697769
            ],
            "iteration": 441
           },
           {
            "fold_0_learn": [
             0.2598076231
            ],
            "fold_0_test": [
             0.2750385574
            ],
            "fold_1_learn": [
             0.2587886552
            ],
            "fold_1_test": [
             0.2742342106
            ],
            "fold_2_learn": [
             0.2631324307
            ],
            "fold_2_test": [
             0.2676765451
            ],
            "iteration": 442
           },
           {
            "fold_0_learn": [
             0.259745821
            ],
            "fold_0_test": [
             0.2750430055
            ],
            "fold_1_learn": [
             0.2587659263
            ],
            "fold_1_test": [
             0.274230157
            ],
            "fold_2_learn": [
             0.2630951976
            ],
            "fold_2_test": [
             0.2676771285
            ],
            "iteration": 443
           },
           {
            "fold_0_learn": [
             0.2596773772
            ],
            "fold_0_test": [
             0.2750010624
            ],
            "fold_1_learn": [
             0.2587335241
            ],
            "fold_1_test": [
             0.2742433663
            ],
            "fold_2_learn": [
             0.2630392143
            ],
            "fold_2_test": [
             0.2676673167
            ],
            "iteration": 444
           },
           {
            "fold_0_learn": [
             0.2596541561
            ],
            "fold_0_test": [
             0.2749944952
            ],
            "fold_1_learn": [
             0.2587150992
            ],
            "fold_1_test": [
             0.2742472316
            ],
            "fold_2_learn": [
             0.2629897144
            ],
            "fold_2_test": [
             0.2676609513
            ],
            "iteration": 445,
            "passed_time": 124.1026851,
            "remaining_time": 154.1544564
           },
           {
            "fold_0_learn": [
             0.2596116592
            ],
            "fold_0_test": [
             0.2749812734
            ],
            "fold_1_learn": [
             0.2586925482
            ],
            "fold_1_test": [
             0.2742412141
            ],
            "fold_2_learn": [
             0.2629245358
            ],
            "fold_2_test": [
             0.2676008532
            ],
            "iteration": 446
           },
           {
            "fold_0_learn": [
             0.2596048275
            ],
            "fold_0_test": [
             0.2749784188
            ],
            "fold_1_learn": [
             0.2586540051
            ],
            "fold_1_test": [
             0.2742446968
            ],
            "fold_2_learn": [
             0.2628972875
            ],
            "fold_2_test": [
             0.2675919258
            ],
            "iteration": 447
           },
           {
            "fold_0_learn": [
             0.2595832737
            ],
            "fold_0_test": [
             0.2749726415
            ],
            "fold_1_learn": [
             0.2585910389
            ],
            "fold_1_test": [
             0.2741997446
            ],
            "fold_2_learn": [
             0.2628838551
            ],
            "fold_2_test": [
             0.267594485
            ],
            "iteration": 448
           },
           {
            "fold_0_learn": [
             0.259542242
            ],
            "fold_0_test": [
             0.2750032827
            ],
            "fold_1_learn": [
             0.2585518142
            ],
            "fold_1_test": [
             0.2742027486
            ],
            "fold_2_learn": [
             0.2628711689
            ],
            "fold_2_test": [
             0.2675993862
            ],
            "iteration": 449
           },
           {
            "fold_0_learn": [
             0.2594928497
            ],
            "fold_0_test": [
             0.2749817184
            ],
            "fold_1_learn": [
             0.2585147268
            ],
            "fold_1_test": [
             0.2741750426
            ],
            "fold_2_learn": [
             0.2628378494
            ],
            "fold_2_test": [
             0.2675913591
            ],
            "iteration": 450
           },
           {
            "fold_0_learn": [
             0.2594762256
            ],
            "fold_0_test": [
             0.2749700658
            ],
            "fold_1_learn": [
             0.2585049305
            ],
            "fold_1_test": [
             0.2741735461
            ],
            "fold_2_learn": [
             0.2628117531
            ],
            "fold_2_test": [
             0.2675723717
            ],
            "iteration": 451,
            "passed_time": 125.8491422,
            "remaining_time": 152.5781635
           },
           {
            "fold_0_learn": [
             0.2594604634
            ],
            "fold_0_test": [
             0.2749590922
            ],
            "fold_1_learn": [
             0.2584668168
            ],
            "fold_1_test": [
             0.2741804691
            ],
            "fold_2_learn": [
             0.2627929964
            ],
            "fold_2_test": [
             0.2675703236
            ],
            "iteration": 452
           },
           {
            "fold_0_learn": [
             0.2594545222
            ],
            "fold_0_test": [
             0.2749581738
            ],
            "fold_1_learn": [
             0.2584206996
            ],
            "fold_1_test": [
             0.2741757091
            ],
            "fold_2_learn": [
             0.2627572721
            ],
            "fold_2_test": [
             0.2675750944
            ],
            "iteration": 453
           },
           {
            "fold_0_learn": [
             0.2594239161
            ],
            "fold_0_test": [
             0.2749611399
            ],
            "fold_1_learn": [
             0.2583825013
            ],
            "fold_1_test": [
             0.2741478925
            ],
            "fold_2_learn": [
             0.2627432501
            ],
            "fold_2_test": [
             0.2675812297
            ],
            "iteration": 454,
            "passed_time": 126.767479,
            "remaining_time": 151.8423649
           },
           {
            "fold_0_learn": [
             0.2594036868
            ],
            "fold_0_test": [
             0.2749569151
            ],
            "fold_1_learn": [
             0.2583195465
            ],
            "fold_1_test": [
             0.2741328723
            ],
            "fold_2_learn": [
             0.2627141485
            ],
            "fold_2_test": [
             0.2675848187
            ],
            "iteration": 455
           },
           {
            "fold_0_learn": [
             0.2593518068
            ],
            "fold_0_test": [
             0.2749584352
            ],
            "fold_1_learn": [
             0.2583063915
            ],
            "fold_1_test": [
             0.2741308574
            ],
            "fold_2_learn": [
             0.2626887211
            ],
            "fold_2_test": [
             0.2675809429
            ],
            "iteration": 456
           },
           {
            "fold_0_learn": [
             0.2593357504
            ],
            "fold_0_test": [
             0.2749588657
            ],
            "fold_1_learn": [
             0.2582958354
            ],
            "fold_1_test": [
             0.274135961
            ],
            "fold_2_learn": [
             0.2626466282
            ],
            "fold_2_test": [
             0.2675643143
            ],
            "iteration": 457
           },
           {
            "fold_0_learn": [
             0.2593079157
            ],
            "fold_0_test": [
             0.2749542268
            ],
            "fold_1_learn": [
             0.2582414035
            ],
            "fold_1_test": [
             0.2741380482
            ],
            "fold_2_learn": [
             0.2626203377
            ],
            "fold_2_test": [
             0.267553304
            ],
            "iteration": 458
           },
           {
            "fold_0_learn": [
             0.2593056984
            ],
            "fold_0_test": [
             0.2749546929
            ],
            "fold_1_learn": [
             0.2581887321
            ],
            "fold_1_test": [
             0.2741436464
            ],
            "fold_2_learn": [
             0.2625869677
            ],
            "fold_2_test": [
             0.2675620829
            ],
            "iteration": 459,
            "passed_time": 128.2014992,
            "remaining_time": 150.4974121
           },
           {
            "fold_0_learn": [
             0.2592913721
            ],
            "fold_0_test": [
             0.2749556993
            ],
            "fold_1_learn": [
             0.2581168034
            ],
            "fold_1_test": [
             0.2740977625
            ],
            "fold_2_learn": [
             0.2625598767
            ],
            "fold_2_test": [
             0.2675449441
            ],
            "iteration": 460
           },
           {
            "fold_0_learn": [
             0.2592586919
            ],
            "fold_0_test": [
             0.2749396682
            ],
            "fold_1_learn": [
             0.2580799257
            ],
            "fold_1_test": [
             0.2740772733
            ],
            "fold_2_learn": [
             0.2625276908
            ],
            "fold_2_test": [
             0.2675308538
            ],
            "iteration": 461
           },
           {
            "fold_0_learn": [
             0.2591962195
            ],
            "fold_0_test": [
             0.2749351425
            ],
            "fold_1_learn": [
             0.2580483468
            ],
            "fold_1_test": [
             0.2740585473
            ],
            "fold_2_learn": [
             0.2625018808
            ],
            "fold_2_test": [
             0.2675398567
            ],
            "iteration": 462
           },
           {
            "fold_0_learn": [
             0.2591359551
            ],
            "fold_0_test": [
             0.2749159137
            ],
            "fold_1_learn": [
             0.2580005589
            ],
            "fold_1_test": [
             0.2740496755
            ],
            "fold_2_learn": [
             0.2624703809
            ],
            "fold_2_test": [
             0.2675336733
            ],
            "iteration": 463
           },
           {
            "fold_0_learn": [
             0.2590601084
            ],
            "fold_0_test": [
             0.2749148212
            ],
            "fold_1_learn": [
             0.2579667571
            ],
            "fold_1_test": [
             0.2740443212
            ],
            "fold_2_learn": [
             0.2624401453
            ],
            "fold_2_test": [
             0.2675207765
            ],
            "iteration": 464,
            "passed_time": 129.6909372,
            "remaining_time": 149.2143041
           },
           {
            "fold_0_learn": [
             0.2590175582
            ],
            "fold_0_test": [
             0.2749162151
            ],
            "fold_1_learn": [
             0.2579612069
            ],
            "fold_1_test": [
             0.2740483644
            ],
            "fold_2_learn": [
             0.2624255361
            ],
            "fold_2_test": [
             0.2675250268
            ],
            "iteration": 465
           },
           {
            "fold_0_learn": [
             0.2589469504
            ],
            "fold_0_test": [
             0.2749421863
            ],
            "fold_1_learn": [
             0.2579260352
            ],
            "fold_1_test": [
             0.2740561132
            ],
            "fold_2_learn": [
             0.2624023099
            ],
            "fold_2_test": [
             0.2675337629
            ],
            "iteration": 466
           },
           {
            "fold_0_learn": [
             0.2589442446
            ],
            "fold_0_test": [
             0.2749323611
            ],
            "fold_1_learn": [
             0.2578858075
            ],
            "fold_1_test": [
             0.2740347153
            ],
            "fold_2_learn": [
             0.262391259
            ],
            "fold_2_test": [
             0.2675280935
            ],
            "iteration": 467
           },
           {
            "fold_0_learn": [
             0.2589160278
            ],
            "fold_0_test": [
             0.2749343164
            ],
            "fold_1_learn": [
             0.2578598513
            ],
            "fold_1_test": [
             0.2740150504
            ],
            "fold_2_learn": [
             0.262369166
            ],
            "fold_2_test": [
             0.2675366151
            ],
            "iteration": 468
           },
           {
            "fold_0_learn": [
             0.2589006149
            ],
            "fold_0_test": [
             0.2749288111
            ],
            "fold_1_learn": [
             0.2578380418
            ],
            "fold_1_test": [
             0.2740091171
            ],
            "fold_2_learn": [
             0.2623526886
            ],
            "fold_2_test": [
             0.2675327353
            ],
            "iteration": 469,
            "passed_time": 131.1112952,
            "remaining_time": 147.8489073
           },
           {
            "fold_0_learn": [
             0.2588626322
            ],
            "fold_0_test": [
             0.2749242976
            ],
            "fold_1_learn": [
             0.2578194976
            ],
            "fold_1_test": [
             0.274015897
            ],
            "fold_2_learn": [
             0.2623410217
            ],
            "fold_2_test": [
             0.2675389967
            ],
            "iteration": 470,
            "passed_time": 131.6223834,
            "remaining_time": 147.83066
           },
           {
            "fold_0_learn": [
             0.2588448102
            ],
            "fold_0_test": [
             0.2749246805
            ],
            "fold_1_learn": [
             0.2577913327
            ],
            "fold_1_test": [
             0.2740072886
            ],
            "fold_2_learn": [
             0.2623055883
            ],
            "fold_2_test": [
             0.2675591101
            ],
            "iteration": 471
           },
           {
            "fold_0_learn": [
             0.2587975061
            ],
            "fold_0_test": [
             0.2749212396
            ],
            "fold_1_learn": [
             0.2577594301
            ],
            "fold_1_test": [
             0.2740113768
            ],
            "fold_2_learn": [
             0.2622436628
            ],
            "fold_2_test": [
             0.2675256591
            ],
            "iteration": 472
           },
           {
            "fold_0_learn": [
             0.2587634585
            ],
            "fold_0_test": [
             0.2749132569
            ],
            "fold_1_learn": [
             0.2577060822
            ],
            "fold_1_test": [
             0.2740118781
            ],
            "fold_2_learn": [
             0.2622266382
            ],
            "fold_2_test": [
             0.2675333962
            ],
            "iteration": 473
           },
           {
            "fold_0_learn": [
             0.2587308731
            ],
            "fold_0_test": [
             0.2748893485
            ],
            "fold_1_learn": [
             0.2576616364
            ],
            "fold_1_test": [
             0.2740231873
            ],
            "fold_2_learn": [
             0.2621495224
            ],
            "fold_2_test": [
             0.2675101601
            ],
            "iteration": 474
           },
           {
            "fold_0_learn": [
             0.2586848804
            ],
            "fold_0_test": [
             0.2748692161
            ],
            "fold_1_learn": [
             0.2576499665
            ],
            "fold_1_test": [
             0.2740224682
            ],
            "fold_2_learn": [
             0.2620998013
            ],
            "fold_2_test": [
             0.2674909755
            ],
            "iteration": 475
           },
           {
            "fold_0_learn": [
             0.2586676139
            ],
            "fold_0_test": [
             0.2748706646
            ],
            "fold_1_learn": [
             0.2576159886
            ],
            "fold_1_test": [
             0.274025144
            ],
            "fold_2_learn": [
             0.2620989789
            ],
            "fold_2_test": [
             0.2674910684
            ],
            "iteration": 476,
            "passed_time": 133.2563497,
            "remaining_time": 146.1070669
           },
           {
            "fold_0_learn": [
             0.2586269558
            ],
            "fold_0_test": [
             0.2748812111
            ],
            "fold_1_learn": [
             0.2575805633
            ],
            "fold_1_test": [
             0.2740290773
            ],
            "fold_2_learn": [
             0.262086773
            ],
            "fold_2_test": [
             0.2674874427
            ],
            "iteration": 477
           },
           {
            "fold_0_learn": [
             0.2585411015
            ],
            "fold_0_test": [
             0.2748282803
            ],
            "fold_1_learn": [
             0.2575131293
            ],
            "fold_1_test": [
             0.2740233635
            ],
            "fold_2_learn": [
             0.2620755368
            ],
            "fold_2_test": [
             0.2674933703
            ],
            "iteration": 478
           },
           {
            "fold_0_learn": [
             0.2585353259
            ],
            "fold_0_test": [
             0.2748339903
            ],
            "fold_1_learn": [
             0.2574776752
            ],
            "fold_1_test": [
             0.2740296526
            ],
            "fold_2_learn": [
             0.2620109352
            ],
            "fold_2_test": [
             0.2674818412
            ],
            "iteration": 479
           },
           {
            "fold_0_learn": [
             0.258499997
            ],
            "fold_0_test": [
             0.274807161
            ],
            "fold_1_learn": [
             0.2574224071
            ],
            "fold_1_test": [
             0.2739838279
            ],
            "fold_2_learn": [
             0.2619993341
            ],
            "fold_2_test": [
             0.2674784335
            ],
            "iteration": 480
           },
           {
            "fold_0_learn": [
             0.2584924901
            ],
            "fold_0_test": [
             0.2748075045
            ],
            "fold_1_learn": [
             0.2574119251
            ],
            "fold_1_test": [
             0.273981792
            ],
            "fold_2_learn": [
             0.2619837765
            ],
            "fold_2_test": [
             0.2674836534
            ],
            "iteration": 481,
            "passed_time": 134.7049875,
            "remaining_time": 144.7659409
           },
           {
            "fold_0_learn": [
             0.258479127
            ],
            "fold_0_test": [
             0.2748139454
            ],
            "fold_1_learn": [
             0.2573437307
            ],
            "fold_1_test": [
             0.2739674574
            ],
            "fold_2_learn": [
             0.2619637469
            ],
            "fold_2_test": [
             0.2674786603
            ],
            "iteration": 482
           },
           {
            "fold_0_learn": [
             0.2584540868
            ],
            "fold_0_test": [
             0.2748054696
            ],
            "fold_1_learn": [
             0.2573073095
            ],
            "fold_1_test": [
             0.2739805548
            ],
            "fold_2_learn": [
             0.2619381196
            ],
            "fold_2_test": [
             0.2674781138
            ],
            "iteration": 483
           },
           {
            "fold_0_learn": [
             0.2584280775
            ],
            "fold_0_test": [
             0.2748092328
            ],
            "fold_1_learn": [
             0.257239783
            ],
            "fold_1_test": [
             0.2739738579
            ],
            "fold_2_learn": [
             0.2619152865
            ],
            "fold_2_test": [
             0.2674729819
            ],
            "iteration": 484
           },
           {
            "fold_0_learn": [
             0.2583575953
            ],
            "fold_0_test": [
             0.274810233
            ],
            "fold_1_learn": [
             0.2572066414
            ],
            "fold_1_test": [
             0.2739824688
            ],
            "fold_2_learn": [
             0.2619051968
            ],
            "fold_2_test": [
             0.2674722581
            ],
            "iteration": 485
           },
           {
            "fold_0_learn": [
             0.2583454716
            ],
            "fold_0_test": [
             0.2748103765
            ],
            "fold_1_learn": [
             0.2571756758
            ],
            "fold_1_test": [
             0.2739780889
            ],
            "fold_2_learn": [
             0.2618798922
            ],
            "fold_2_test": [
             0.2674760905
            ],
            "iteration": 486
           },
           {
            "fold_0_learn": [
             0.2582970573
            ],
            "fold_0_test": [
             0.2748231037
            ],
            "fold_1_learn": [
             0.2571520222
            ],
            "fold_1_test": [
             0.2739895402
            ],
            "fold_2_learn": [
             0.2618629323
            ],
            "fold_2_test": [
             0.2674774187
            ],
            "iteration": 487,
            "passed_time": 136.3935185,
            "remaining_time": 143.1013965
           },
           {
            "fold_0_learn": [
             0.2582516695
            ],
            "fold_0_test": [
             0.2748088669
            ],
            "fold_1_learn": [
             0.2571265779
            ],
            "fold_1_test": [
             0.2739658342
            ],
            "fold_2_learn": [
             0.2618250175
            ],
            "fold_2_test": [
             0.2674713342
            ],
            "iteration": 488
           },
           {
            "fold_0_learn": [
             0.2582496293
            ],
            "fold_0_test": [
             0.274808379
            ],
            "fold_1_learn": [
             0.2570746688
            ],
            "fold_1_test": [
             0.2739710645
            ],
            "fold_2_learn": [
             0.2617703835
            ],
            "fold_2_test": [
             0.2674812468
            ],
            "iteration": 489
           },
           {
            "fold_0_learn": [
             0.2582438251
            ],
            "fold_0_test": [
             0.2748091308
            ],
            "fold_1_learn": [
             0.2570390717
            ],
            "fold_1_test": [
             0.2739648237
            ],
            "fold_2_learn": [
             0.2617197138
            ],
            "fold_2_test": [
             0.2674679608
            ],
            "iteration": 490
           },
           {
            "fold_0_learn": [
             0.2582140677
            ],
            "fold_0_test": [
             0.2748207902
            ],
            "fold_1_learn": [
             0.2570137687
            ],
            "fold_1_test": [
             0.2739616389
            ],
            "fold_2_learn": [
             0.2616891666
            ],
            "fold_2_test": [
             0.2674781978
            ],
            "iteration": 491
           },
           {
            "fold_0_learn": [
             0.2581978844
            ],
            "fold_0_test": [
             0.2748223086
            ],
            "fold_1_learn": [
             0.2569705341
            ],
            "fold_1_test": [
             0.2739275055
            ],
            "fold_2_learn": [
             0.2616417031
            ],
            "fold_2_test": [
             0.2674704808
            ],
            "iteration": 492,
            "passed_time": 137.831083,
            "remaining_time": 141.7451502
           },
           {
            "fold_0_learn": [
             0.2581704418
            ],
            "fold_0_test": [
             0.27481286
            ],
            "fold_1_learn": [
             0.2568977676
            ],
            "fold_1_test": [
             0.2739298056
            ],
            "fold_2_learn": [
             0.2616251841
            ],
            "fold_2_test": [
             0.2674670648
            ],
            "iteration": 493
           },
           {
            "fold_0_learn": [
             0.2581051936
            ],
            "fold_0_test": [
             0.2748001261
            ],
            "fold_1_learn": [
             0.2568580009
            ],
            "fold_1_test": [
             0.2739309662
            ],
            "fold_2_learn": [
             0.2616137114
            ],
            "fold_2_test": [
             0.2674737849
            ],
            "iteration": 494
           },
           {
            "fold_0_learn": [
             0.2580917144
            ],
            "fold_0_test": [
             0.2747959915
            ],
            "fold_1_learn": [
             0.2567993895
            ],
            "fold_1_test": [
             0.2738998262
            ],
            "fold_2_learn": [
             0.2615804872
            ],
            "fold_2_test": [
             0.2674719257
            ],
            "iteration": 495
           },
           {
            "fold_0_learn": [
             0.2580610345
            ],
            "fold_0_test": [
             0.2747888199
            ],
            "fold_1_learn": [
             0.256772281
            ],
            "fold_1_test": [
             0.2738933252
            ],
            "fold_2_learn": [
             0.2615717098
            ],
            "fold_2_test": [
             0.2674742617
            ],
            "iteration": 496
           },
           {
            "fold_0_learn": [
             0.2580249817
            ],
            "fold_0_test": [
             0.2747733759
            ],
            "fold_1_learn": [
             0.2567490542
            ],
            "fold_1_test": [
             0.2738815599
            ],
            "fold_2_learn": [
             0.2615448851
            ],
            "fold_2_test": [
             0.2674616348
            ],
            "iteration": 497,
            "passed_time": 139.3116753,
            "remaining_time": 140.4306445
           },
           {
            "fold_0_learn": [
             0.2579803959
            ],
            "fold_0_test": [
             0.2747857874
            ],
            "fold_1_learn": [
             0.2567180237
            ],
            "fold_1_test": [
             0.2738908775
            ],
            "fold_2_learn": [
             0.2615194259
            ],
            "fold_2_test": [
             0.2674617207
            ],
            "iteration": 498
           },
           {
            "fold_0_learn": [
             0.2579276841
            ],
            "fold_0_test": [
             0.2747853433
            ],
            "fold_1_learn": [
             0.2566527275
            ],
            "fold_1_test": [
             0.2738893112
            ],
            "fold_2_learn": [
             0.2614629027
            ],
            "fold_2_test": [
             0.2674686343
            ],
            "iteration": 499
           },
           {
            "fold_0_learn": [
             0.2579133608
            ],
            "fold_0_test": [
             0.274781599
            ],
            "fold_1_learn": [
             0.2566168972
            ],
            "fold_1_test": [
             0.2738727867
            ],
            "fold_2_learn": [
             0.2614454868
            ],
            "fold_2_test": [
             0.2674617
            ],
            "iteration": 500
           },
           {
            "fold_0_learn": [
             0.2578522471
            ],
            "fold_0_test": [
             0.2747834719
            ],
            "fold_1_learn": [
             0.2565577873
            ],
            "fold_1_test": [
             0.2738679061
            ],
            "fold_2_learn": [
             0.2614318385
            ],
            "fold_2_test": [
             0.2674616885
            ],
            "iteration": 501
           },
           {
            "fold_0_learn": [
             0.2578131865
            ],
            "fold_0_test": [
             0.2747893747
            ],
            "fold_1_learn": [
             0.2565290581
            ],
            "fold_1_test": [
             0.2738656364
            ],
            "fold_2_learn": [
             0.2613826972
            ],
            "fold_2_test": [
             0.2674573297
            ],
            "iteration": 502,
            "passed_time": 140.7485382,
            "remaining_time": 139.0696292
           },
           {
            "fold_0_learn": [
             0.2577754656
            ],
            "fold_0_test": [
             0.2747712764
            ],
            "fold_1_learn": [
             0.2564971678
            ],
            "fold_1_test": [
             0.2738711095
            ],
            "fold_2_learn": [
             0.2613597647
            ],
            "fold_2_test": [
             0.2674585044
            ],
            "iteration": 503
           },
           {
            "fold_0_learn": [
             0.2577058567
            ],
            "fold_0_test": [
             0.2747567741
            ],
            "fold_1_learn": [
             0.2564315274
            ],
            "fold_1_test": [
             0.2738803793
            ],
            "fold_2_learn": [
             0.2613361299
            ],
            "fold_2_test": [
             0.2674778346
            ],
            "iteration": 504
           },
           {
            "fold_0_learn": [
             0.2576711387
            ],
            "fold_0_test": [
             0.2747468909
            ],
            "fold_1_learn": [
             0.2564218579
            ],
            "fold_1_test": [
             0.273882502
            ],
            "fold_2_learn": [
             0.261312138
            ],
            "fold_2_test": [
             0.2674889916
            ],
            "iteration": 505,
            "passed_time": 141.643352,
            "remaining_time": 138.2842211
           },
           {
            "fold_0_learn": [
             0.2575945081
            ],
            "fold_0_test": [
             0.2747307904
            ],
            "fold_1_learn": [
             0.2563954704
            ],
            "fold_1_test": [
             0.2738751619
            ],
            "fold_2_learn": [
             0.2612956262
            ],
            "fold_2_test": [
             0.2674858671
            ],
            "iteration": 506
           },
           {
            "fold_0_learn": [
             0.2575321777
            ],
            "fold_0_test": [
             0.2747447634
            ],
            "fold_1_learn": [
             0.2563487092
            ],
            "fold_1_test": [
             0.273877207
            ],
            "fold_2_learn": [
             0.261223206
            ],
            "fold_2_test": [
             0.2674917521
            ],
            "iteration": 507
           },
           {
            "fold_0_learn": [
             0.2575094123
            ],
            "fold_0_test": [
             0.2747381627
            ],
            "fold_1_learn": [
             0.256312682
            ],
            "fold_1_test": [
             0.2738466347
            ],
            "fold_2_learn": [
             0.2611923034
            ],
            "fold_2_test": [
             0.2674862075
            ],
            "iteration": 508
           },
           {
            "fold_0_learn": [
             0.2574824891
            ],
            "fold_0_test": [
             0.2747342345
            ],
            "fold_1_learn": [
             0.2562958728
            ],
            "fold_1_test": [
             0.2738376535
            ],
            "fold_2_learn": [
             0.2611379912
            ],
            "fold_2_test": [
             0.2674636265
            ],
            "iteration": 509
           },
           {
            "fold_0_learn": [
             0.2574370398
            ],
            "fold_0_test": [
             0.274730103
            ],
            "fold_1_learn": [
             0.2562597745
            ],
            "fold_1_test": [
             0.2738276909
            ],
            "fold_2_learn": [
             0.2611296796
            ],
            "fold_2_test": [
             0.2674658665
            ],
            "iteration": 510,
            "passed_time": 143.1298639,
            "remaining_time": 136.9677172
           },
           {
            "fold_0_learn": [
             0.2573993654
            ],
            "fold_0_test": [
             0.274712288
            ],
            "fold_1_learn": [
             0.2562368919
            ],
            "fold_1_test": [
             0.2738264676
            ],
            "fold_2_learn": [
             0.2610994133
            ],
            "fold_2_test": [
             0.2674504485
            ],
            "iteration": 511
           },
           {
            "fold_0_learn": [
             0.2573802623
            ],
            "fold_0_test": [
             0.2747096515
            ],
            "fold_1_learn": [
             0.25617411
            ],
            "fold_1_test": [
             0.2737955158
            ],
            "fold_2_learn": [
             0.2610286178
            ],
            "fold_2_test": [
             0.2674233462
            ],
            "iteration": 512
           },
           {
            "fold_0_learn": [
             0.257310562
            ],
            "fold_0_test": [
             0.2747173333
            ],
            "fold_1_learn": [
             0.2561459267
            ],
            "fold_1_test": [
             0.2737874462
            ],
            "fold_2_learn": [
             0.2610156899
            ],
            "fold_2_test": [
             0.2674145447
            ],
            "iteration": 513
           },
           {
            "fold_0_learn": [
             0.2572576622
            ],
            "fold_0_test": [
             0.2747094946
            ],
            "fold_1_learn": [
             0.2560850199
            ],
            "fold_1_test": [
             0.2737914438
            ],
            "fold_2_learn": [
             0.2610053636
            ],
            "fold_2_test": [
             0.267416367
            ],
            "iteration": 514
           },
           {
            "fold_0_learn": [
             0.2572038575
            ],
            "fold_0_test": [
             0.2747050061
            ],
            "fold_1_learn": [
             0.2560603534
            ],
            "fold_1_test": [
             0.2737864675
            ],
            "fold_2_learn": [
             0.2609760315
            ],
            "fold_2_test": [
             0.2674193647
            ],
            "iteration": 515,
            "passed_time": 144.6892149,
            "remaining_time": 135.7162403
           },
           {
            "fold_0_learn": [
             0.2571660041
            ],
            "fold_0_test": [
             0.2746821648
            ],
            "fold_1_learn": [
             0.2560391135
            ],
            "fold_1_test": [
             0.2737840234
            ],
            "fold_2_learn": [
             0.2609598331
            ],
            "fold_2_test": [
             0.2674160992
            ],
            "iteration": 516
           },
           {
            "fold_0_learn": [
             0.2571585956
            ],
            "fold_0_test": [
             0.2746749918
            ],
            "fold_1_learn": [
             0.2560165175
            ],
            "fold_1_test": [
             0.2737908672
            ],
            "fold_2_learn": [
             0.2609372046
            ],
            "fold_2_test": [
             0.2674098103
            ],
            "iteration": 517
           },
           {
            "fold_0_learn": [
             0.2571476975
            ],
            "fold_0_test": [
             0.2746869262
            ],
            "fold_1_learn": [
             0.2559885116
            ],
            "fold_1_test": [
             0.2737847432
            ],
            "fold_2_learn": [
             0.2608935924
            ],
            "fold_2_test": [
             0.2673973254
            ],
            "iteration": 518
           },
           {
            "fold_0_learn": [
             0.2570872442
            ],
            "fold_0_test": [
             0.2746708084
            ],
            "fold_1_learn": [
             0.2559869397
            ],
            "fold_1_test": [
             0.2737845445
            ],
            "fold_2_learn": [
             0.2608873443
            ],
            "fold_2_test": [
             0.2673898526
            ],
            "iteration": 519
           },
           {
            "fold_0_learn": [
             0.2570169438
            ],
            "fold_0_test": [
             0.2746735073
            ],
            "fold_1_learn": [
             0.2559623857
            ],
            "fold_1_test": [
             0.2737868537
            ],
            "fold_2_learn": [
             0.2608545088
            ],
            "fold_2_test": [
             0.2673894571
            ],
            "iteration": 520,
            "passed_time": 146.1129356,
            "remaining_time": 134.3341577
           },
           {
            "fold_0_learn": [
             0.2570144036
            ],
            "fold_0_test": [
             0.2746639464
            ],
            "fold_1_learn": [
             0.2559223159
            ],
            "fold_1_test": [
             0.2737548509
            ],
            "fold_2_learn": [
             0.260808635
            ],
            "fold_2_test": [
             0.2673874944
            ],
            "iteration": 521
           },
           {
            "fold_0_learn": [
             0.2569561915
            ],
            "fold_0_test": [
             0.2746526881
            ],
            "fold_1_learn": [
             0.2558663726
            ],
            "fold_1_test": [
             0.273747354
            ],
            "fold_2_learn": [
             0.2607356726
            ],
            "fold_2_test": [
             0.2673712409
            ],
            "iteration": 522
           },
           {
            "fold_0_learn": [
             0.2569422327
            ],
            "fold_0_test": [
             0.2746419821
            ],
            "fold_1_learn": [
             0.2558522565
            ],
            "fold_1_test": [
             0.2737551983
            ],
            "fold_2_learn": [
             0.2606934365
            ],
            "fold_2_test": [
             0.2673717665
            ],
            "iteration": 523,
            "passed_time": 147.0325314,
            "remaining_time": 133.5639026
           },
           {
            "fold_0_learn": [
             0.2569119433
            ],
            "fold_0_test": [
             0.2746304728
            ],
            "fold_1_learn": [
             0.2558186818
            ],
            "fold_1_test": [
             0.2737592185
            ],
            "fold_2_learn": [
             0.2606393892
            ],
            "fold_2_test": [
             0.2673633201
            ],
            "iteration": 524
           },
           {
            "fold_0_learn": [
             0.2568621535
            ],
            "fold_0_test": [
             0.2746223107
            ],
            "fold_1_learn": [
             0.2557803207
            ],
            "fold_1_test": [
             0.273763285
            ],
            "fold_2_learn": [
             0.2605815226
            ],
            "fold_2_test": [
             0.267344384
            ],
            "iteration": 525
           },
           {
            "fold_0_learn": [
             0.256796699
            ],
            "fold_0_test": [
             0.2746241047
            ],
            "fold_1_learn": [
             0.2557275595
            ],
            "fold_1_test": [
             0.2737252873
            ],
            "fold_2_learn": [
             0.2605282867
            ],
            "fold_2_test": [
             0.2673385677
            ],
            "iteration": 526
           },
           {
            "fold_0_learn": [
             0.2567495582
            ],
            "fold_0_test": [
             0.2746141082
            ],
            "fold_1_learn": [
             0.2556776606
            ],
            "fold_1_test": [
             0.2737322197
            ],
            "fold_2_learn": [
             0.2605111262
            ],
            "fold_2_test": [
             0.2673317436
            ],
            "iteration": 527
           },
           {
            "fold_0_learn": [
             0.2567192519
            ],
            "fold_0_test": [
             0.2746156973
            ],
            "fold_1_learn": [
             0.2556018247
            ],
            "fold_1_test": [
             0.2736937138
            ],
            "fold_2_learn": [
             0.2604357014
            ],
            "fold_2_test": [
             0.2673185562
            ],
            "iteration": 528,
            "passed_time": 148.5019922,
            "remaining_time": 132.2201103
           },
           {
            "fold_0_learn": [
             0.2566844341
            ],
            "fold_0_test": [
             0.2746078242
            ],
            "fold_1_learn": [
             0.2555856417
            ],
            "fold_1_test": [
             0.2737008306
            ],
            "fold_2_learn": [
             0.2603950202
            ],
            "fold_2_test": [
             0.2673063321
            ],
            "iteration": 529
           },
           {
            "fold_0_learn": [
             0.2566828236
            ],
            "fold_0_test": [
             0.2746080405
            ],
            "fold_1_learn": [
             0.255517112
            ],
            "fold_1_test": [
             0.2737029201
            ],
            "fold_2_learn": [
             0.2603683772
            ],
            "fold_2_test": [
             0.2672957154
            ],
            "iteration": 530
           },
           {
            "fold_0_learn": [
             0.2566340557
            ],
            "fold_0_test": [
             0.2746044361
            ],
            "fold_1_learn": [
             0.2554940574
            ],
            "fold_1_test": [
             0.2737081271
            ],
            "fold_2_learn": [
             0.2603441511
            ],
            "fold_2_test": [
             0.2672928628
            ],
            "iteration": 531
           },
           {
            "fold_0_learn": [
             0.2565853208
            ],
            "fold_0_test": [
             0.2746008988
            ],
            "fold_1_learn": [
             0.2554755178
            ],
            "fold_1_test": [
             0.2737061437
            ],
            "fold_2_learn": [
             0.2603103718
            ],
            "fold_2_test": [
             0.2672946806
            ],
            "iteration": 532
           },
           {
            "fold_0_learn": [
             0.2565469877
            ],
            "fold_0_test": [
             0.2745777495
            ],
            "fold_1_learn": [
             0.2554645178
            ],
            "fold_1_test": [
             0.2737049626
            ],
            "fold_2_learn": [
             0.2602580855
            ],
            "fold_2_test": [
             0.2672671046
            ],
            "iteration": 533
           },
           {
            "fold_0_learn": [
             0.2564822264
            ],
            "fold_0_test": [
             0.2745653299
            ],
            "fold_1_learn": [
             0.2554431583
            ],
            "fold_1_test": [
             0.2737164397
            ],
            "fold_2_learn": [
             0.2601953336
            ],
            "fold_2_test": [
             0.2672751443
            ],
            "iteration": 534,
            "passed_time": 150.2280009,
            "remaining_time": 130.5720008
           },
           {
            "fold_0_learn": [
             0.2564211134
            ],
            "fold_0_test": [
             0.2745668901
            ],
            "fold_1_learn": [
             0.255437812
            ],
            "fold_1_test": [
             0.2737163217
            ],
            "fold_2_learn": [
             0.2601790754
            ],
            "fold_2_test": [
             0.2672688836
            ],
            "iteration": 535
           },
           {
            "fold_0_learn": [
             0.2563700166
            ],
            "fold_0_test": [
             0.2745438014
            ],
            "fold_1_learn": [
             0.2553786919
            ],
            "fold_1_test": [
             0.2736874117
            ],
            "fold_2_learn": [
             0.2601452098
            ],
            "fold_2_test": [
             0.2672845109
            ],
            "iteration": 536
           },
           {
            "fold_0_learn": [
             0.2563433756
            ],
            "fold_0_test": [
             0.2745391922
            ],
            "fold_1_learn": [
             0.2553580754
            ],
            "fold_1_test": [
             0.2736826454
            ],
            "fold_2_learn": [
             0.2601368282
            ],
            "fold_2_test": [
             0.2672813895
            ],
            "iteration": 537
           },
           {
            "fold_0_learn": [
             0.2563185759
            ],
            "fold_0_test": [
             0.2745313486
            ],
            "fold_1_learn": [
             0.2553342012
            ],
            "fold_1_test": [
             0.2736944597
            ],
            "fold_2_learn": [
             0.2600883072
            ],
            "fold_2_test": [
             0.2672825405
            ],
            "iteration": 538
           },
           {
            "fold_0_learn": [
             0.2562574927
            ],
            "fold_0_test": [
             0.2745207627
            ],
            "fold_1_learn": [
             0.2552931735
            ],
            "fold_1_test": [
             0.2736627582
            ],
            "fold_2_learn": [
             0.2600363441
            ],
            "fold_2_test": [
             0.2672633236
            ],
            "iteration": 539,
            "passed_time": 151.6978787,
            "remaining_time": 129.2241189
           },
           {
            "fold_0_learn": [
             0.2562283926
            ],
            "fold_0_test": [
             0.2745028144
            ],
            "fold_1_learn": [
             0.2552749846
            ],
            "fold_1_test": [
             0.2736704652
            ],
            "fold_2_learn": [
             0.260016017
            ],
            "fold_2_test": [
             0.2672768739
            ],
            "iteration": 540
           },
           {
            "fold_0_learn": [
             0.2562140626
            ],
            "fold_0_test": [
             0.2745029318
            ],
            "fold_1_learn": [
             0.2552357438
            ],
            "fold_1_test": [
             0.2736854837
            ],
            "fold_2_learn": [
             0.2599869795
            ],
            "fold_2_test": [
             0.2672676292
            ],
            "iteration": 541
           },
           {
            "fold_0_learn": [
             0.2561860864
            ],
            "fold_0_test": [
             0.274490488
            ],
            "fold_1_learn": [
             0.2551899118
            ],
            "fold_1_test": [
             0.2736789036
            ],
            "fold_2_learn": [
             0.2599456627
            ],
            "fold_2_test": [
             0.2672640387
            ],
            "iteration": 542
           },
           {
            "fold_0_learn": [
             0.2561652965
            ],
            "fold_0_test": [
             0.2744993158
            ],
            "fold_1_learn": [
             0.2551630863
            ],
            "fold_1_test": [
             0.2736776899
            ],
            "fold_2_learn": [
             0.2598976508
            ],
            "fold_2_test": [
             0.2672601869
            ],
            "iteration": 543
           },
           {
            "fold_0_learn": [
             0.2561399402
            ],
            "fold_0_test": [
             0.2744950037
            ],
            "fold_1_learn": [
             0.2551523767
            ],
            "fold_1_test": [
             0.2736753073
            ],
            "fold_2_learn": [
             0.2598313473
            ],
            "fold_2_test": [
             0.267232989
            ],
            "iteration": 544
           },
           {
            "fold_0_learn": [
             0.2561204728
            ],
            "fold_0_test": [
             0.2744921081
            ],
            "fold_1_learn": [
             0.2551306522
            ],
            "fold_1_test": [
             0.2736756605
            ],
            "fold_2_learn": [
             0.2597823162
            ],
            "fold_2_test": [
             0.2672158434
            ],
            "iteration": 545,
            "passed_time": 153.4786056,
            "remaining_time": 127.6177416
           },
           {
            "fold_0_learn": [
             0.2560835816
            ],
            "fold_0_test": [
             0.2745041949
            ],
            "fold_1_learn": [
             0.2550497936
            ],
            "fold_1_test": [
             0.273632866
            ],
            "fold_2_learn": [
             0.2597235226
            ],
            "fold_2_test": [
             0.267224736
            ],
            "iteration": 546
           },
           {
            "fold_0_learn": [
             0.2560416332
            ],
            "fold_0_test": [
             0.2745305356
            ],
            "fold_1_learn": [
             0.2550112379
            ],
            "fold_1_test": [
             0.2736332904
            ],
            "fold_2_learn": [
             0.2596955899
            ],
            "fold_2_test": [
             0.2672118316
            ],
            "iteration": 547
           },
           {
            "fold_0_learn": [
             0.2560095173
            ],
            "fold_0_test": [
             0.2745343946
            ],
            "fold_1_learn": [
             0.2549802563
            ],
            "fold_1_test": [
             0.2736130013
            ],
            "fold_2_learn": [
             0.2596859575
            ],
            "fold_2_test": [
             0.2672152055
            ],
            "iteration": 548,
            "passed_time": 154.4521811,
            "remaining_time": 126.8814821
           },
           {
            "fold_0_learn": [
             0.2559698927
            ],
            "fold_0_test": [
             0.2745140439
            ],
            "fold_1_learn": [
             0.2549332301
            ],
            "fold_1_test": [
             0.2736383529
            ],
            "fold_2_learn": [
             0.2596369411
            ],
            "fold_2_test": [
             0.2672031122
            ],
            "iteration": 549
           },
           {
            "fold_0_learn": [
             0.2559455701
            ],
            "fold_0_test": [
             0.2745087092
            ],
            "fold_1_learn": [
             0.2548738495
            ],
            "fold_1_test": [
             0.2736488856
            ],
            "fold_2_learn": [
             0.2595794693
            ],
            "fold_2_test": [
             0.2671621086
            ],
            "iteration": 550
           },
           {
            "fold_0_learn": [
             0.2559366132
            ],
            "fold_0_test": [
             0.2745071412
            ],
            "fold_1_learn": [
             0.2547884959
            ],
            "fold_1_test": [
             0.2736387814
            ],
            "fold_2_learn": [
             0.2595540444
            ],
            "fold_2_test": [
             0.2671662915
            ],
            "iteration": 551
           },
           {
            "fold_0_learn": [
             0.2559046356
            ],
            "fold_0_test": [
             0.2745062699
            ],
            "fold_1_learn": [
             0.254763911
            ],
            "fold_1_test": [
             0.2736327463
            ],
            "fold_2_learn": [
             0.2595447478
            ],
            "fold_2_test": [
             0.2671617938
            ],
            "iteration": 552
           },
           {
            "fold_0_learn": [
             0.2558742072
            ],
            "fold_0_test": [
             0.2744934038
            ],
            "fold_1_learn": [
             0.2547147334
            ],
            "fold_1_test": [
             0.273631772
            ],
            "fold_2_learn": [
             0.2595195329
            ],
            "fold_2_test": [
             0.2671586445
            ],
            "iteration": 553
           },
           {
            "fold_0_learn": [
             0.2558299819
            ],
            "fold_0_test": [
             0.2745168539
            ],
            "fold_1_learn": [
             0.2546741316
            ],
            "fold_1_test": [
             0.2736081066
            ],
            "fold_2_learn": [
             0.2594755933
            ],
            "fold_2_test": [
             0.2671342512
            ],
            "iteration": 554,
            "passed_time": 156.3798634,
            "remaining_time": 125.3856562
           },
           {
            "fold_0_learn": [
             0.2557702329
            ],
            "fold_0_test": [
             0.2745282085
            ],
            "fold_1_learn": [
             0.2546322681
            ],
            "fold_1_test": [
             0.2736019916
            ],
            "fold_2_learn": [
             0.2594558297
            ],
            "fold_2_test": [
             0.267143366
            ],
            "iteration": 555
           },
           {
            "fold_0_learn": [
             0.2557404597
            ],
            "fold_0_test": [
             0.2745189699
            ],
            "fold_1_learn": [
             0.2545767636
            ],
            "fold_1_test": [
             0.2735751802
            ],
            "fold_2_learn": [
             0.259408551
            ],
            "fold_2_test": [
             0.2671430383
            ],
            "iteration": 556
           },
           {
            "fold_0_learn": [
             0.2557147378
            ],
            "fold_0_test": [
             0.2745161633
            ],
            "fold_1_learn": [
             0.2545337816
            ],
            "fold_1_test": [
             0.2735678426
            ],
            "fold_2_learn": [
             0.2593706755
            ],
            "fold_2_test": [
             0.2671444043
            ],
            "iteration": 557
           },
           {
            "fold_0_learn": [
             0.2557030366
            ],
            "fold_0_test": [
             0.2745128233
            ],
            "fold_1_learn": [
             0.2544893578
            ],
            "fold_1_test": [
             0.2735617194
            ],
            "fold_2_learn": [
             0.2593278993
            ],
            "fold_2_test": [
             0.2671218794
            ],
            "iteration": 558
           },
           {
            "fold_0_learn": [
             0.2556768609
            ],
            "fold_0_test": [
             0.274510112
            ],
            "fold_1_learn": [
             0.2544629341
            ],
            "fold_1_test": [
             0.2735598832
            ],
            "fold_2_learn": [
             0.2593040525
            ],
            "fold_2_test": [
             0.2671261733
            ],
            "iteration": 559,
            "passed_time": 157.8076682,
            "remaining_time": 123.9917393
           },
           {
            "fold_0_learn": [
             0.2556569943
            ],
            "fold_0_test": [
             0.2745108836
            ],
            "fold_1_learn": [
             0.2544529745
            ],
            "fold_1_test": [
             0.2735642429
            ],
            "fold_2_learn": [
             0.2592578152
            ],
            "fold_2_test": [
             0.2671073642
            ],
            "iteration": 560
           },
           {
            "fold_0_learn": [
             0.2555998413
            ],
            "fold_0_test": [
             0.2745186224
            ],
            "fold_1_learn": [
             0.2544290226
            ],
            "fold_1_test": [
             0.2735563663
            ],
            "fold_2_learn": [
             0.2592283968
            ],
            "fold_2_test": [
             0.2671051967
            ],
            "iteration": 561
           },
           {
            "fold_0_learn": [
             0.2555848496
            ],
            "fold_0_test": [
             0.2745201337
            ],
            "fold_1_learn": [
             0.2544014241
            ],
            "fold_1_test": [
             0.2735546795
            ],
            "fold_2_learn": [
             0.2591778171
            ],
            "fold_2_test": [
             0.267076067
            ],
            "iteration": 562
           },
           {
            "fold_0_learn": [
             0.2555368501
            ],
            "fold_0_test": [
             0.2745238221
            ],
            "fold_1_learn": [
             0.2543954923
            ],
            "fold_1_test": [
             0.2735510941
            ],
            "fold_2_learn": [
             0.2591544251
            ],
            "fold_2_test": [
             0.2670742026
            ],
            "iteration": 563
           },
           {
            "fold_0_learn": [
             0.2554869444
            ],
            "fold_0_test": [
             0.2745192214
            ],
            "fold_1_learn": [
             0.2543549258
            ],
            "fold_1_test": [
             0.273548525
            ],
            "fold_2_learn": [
             0.2591303581
            ],
            "fold_2_test": [
             0.2670790576
            ],
            "iteration": 564,
            "passed_time": 159.2890572,
            "remaining_time": 122.6384776
           },
           {
            "fold_0_learn": [
             0.2554756434
            ],
            "fold_0_test": [
             0.2745204511
            ],
            "fold_1_learn": [
             0.2543121763
            ],
            "fold_1_test": [
             0.2735346381
            ],
            "fold_2_learn": [
             0.2591181918
            ],
            "fold_2_test": [
             0.2670766829
            ],
            "iteration": 565
           },
           {
            "fold_0_learn": [
             0.2554385761
            ],
            "fold_0_test": [
             0.2745480309
            ],
            "fold_1_learn": [
             0.2543072683
            ],
            "fold_1_test": [
             0.2735344948
            ],
            "fold_2_learn": [
             0.2590835666
            ],
            "fold_2_test": [
             0.2670682947
            ],
            "iteration": 566
           },
           {
            "fold_0_learn": [
             0.2554103347
            ],
            "fold_0_test": [
             0.2745375869
            ],
            "fold_1_learn": [
             0.2542788342
            ],
            "fold_1_test": [
             0.2735389542
            ],
            "fold_2_learn": [
             0.2590266993
            ],
            "fold_2_test": [
             0.2670602953
            ],
            "iteration": 567
           },
           {
            "fold_0_learn": [
             0.2553981062
            ],
            "fold_0_test": [
             0.2745350281
            ],
            "fold_1_learn": [
             0.2542196919
            ],
            "fold_1_test": [
             0.2735271856
            ],
            "fold_2_learn": [
             0.2589821752
            ],
            "fold_2_test": [
             0.2670509933
            ],
            "iteration": 568
           },
           {
            "fold_0_learn": [
             0.2553656042
            ],
            "fold_0_test": [
             0.2745384216
            ],
            "fold_1_learn": [
             0.2541601098
            ],
            "fold_1_test": [
             0.2735184844
            ],
            "fold_2_learn": [
             0.2589562825
            ],
            "fold_2_test": [
             0.2670418302
            ],
            "iteration": 569
           },
           {
            "fold_0_learn": [
             0.2553511794
            ],
            "fold_0_test": [
             0.274536118
            ],
            "fold_1_learn": [
             0.2541269374
            ],
            "fold_1_test": [
             0.2735186063
            ],
            "fold_2_learn": [
             0.2589108142
            ],
            "fold_2_test": [
             0.267057548
            ],
            "iteration": 570,
            "passed_time": 160.9894266,
            "remaining_time": 120.9535272
           },
           {
            "fold_0_learn": [
             0.2553246587
            ],
            "fold_0_test": [
             0.2745382905
            ],
            "fold_1_learn": [
             0.2540939243
            ],
            "fold_1_test": [
             0.2735161388
            ],
            "fold_2_learn": [
             0.2588814323
            ],
            "fold_2_test": [
             0.267058806
            ],
            "iteration": 571
           },
           {
            "fold_0_learn": [
             0.2552581807
            ],
            "fold_0_test": [
             0.2745347916
            ],
            "fold_1_learn": [
             0.2540662333
            ],
            "fold_1_test": [
             0.2735152444
            ],
            "fold_2_learn": [
             0.2588448832
            ],
            "fold_2_test": [
             0.2670625925
            ],
            "iteration": 572
           },
           {
            "fold_0_learn": [
             0.2551856408
            ],
            "fold_0_test": [
             0.2745229282
            ],
            "fold_1_learn": [
             0.254021988
            ],
            "fold_1_test": [
             0.2734867298
            ],
            "fold_2_learn": [
             0.2588364371
            ],
            "fold_2_test": [
             0.2670684206
            ],
            "iteration": 573
           },
           {
            "fold_0_learn": [
             0.2551735345
            ],
            "fold_0_test": [
             0.2745185232
            ],
            "fold_1_learn": [
             0.2540125438
            ],
            "fold_1_test": [
             0.2734856776
            ],
            "fold_2_learn": [
             0.2588083799
            ],
            "fold_2_test": [
             0.2670779173
            ],
            "iteration": 574
           },
           {
            "fold_0_learn": [
             0.2551438566
            ],
            "fold_0_test": [
             0.2745127749
            ],
            "fold_1_learn": [
             0.253992793
            ],
            "fold_1_test": [
             0.2734846316
            ],
            "fold_2_learn": [
             0.2587841049
            ],
            "fold_2_test": [
             0.2670668657
            ],
            "iteration": 575,
            "passed_time": 162.4914322,
            "remaining_time": 119.6117487
           },
           {
            "fold_0_learn": [
             0.2551233761
            ],
            "fold_0_test": [
             0.2745010204
            ],
            "fold_1_learn": [
             0.2539853349
            ],
            "fold_1_test": [
             0.2734863382
            ],
            "fold_2_learn": [
             0.2587650004
            ],
            "fold_2_test": [
             0.2670451296
            ],
            "iteration": 576
           },
           {
            "fold_0_learn": [
             0.2550806099
            ],
            "fold_0_test": [
             0.2745097256
            ],
            "fold_1_learn": [
             0.253967881
            ],
            "fold_1_test": [
             0.2734854479
            ],
            "fold_2_learn": [
             0.258733127
            ],
            "fold_2_test": [
             0.2670483084
            ],
            "iteration": 577
           },
           {
            "fold_0_learn": [
             0.255048423
            ],
            "fold_0_test": [
             0.274512432
            ],
            "fold_1_learn": [
             0.253913318
            ],
            "fold_1_test": [
             0.2734588784
            ],
            "fold_2_learn": [
             0.2587117956
            ],
            "fold_2_test": [
             0.2670471291
            ],
            "iteration": 578
           },
           {
            "fold_0_learn": [
             0.2550131473
            ],
            "fold_0_test": [
             0.2745043086
            ],
            "fold_1_learn": [
             0.2538457684
            ],
            "fold_1_test": [
             0.2734563276
            ],
            "fold_2_learn": [
             0.2586853949
            ],
            "fold_2_test": [
             0.2670535913
            ],
            "iteration": 579
           },
           {
            "fold_0_learn": [
             0.2549574808
            ],
            "fold_0_test": [
             0.2744988649
            ],
            "fold_1_learn": [
             0.2538385031
            ],
            "fold_1_test": [
             0.2734535952
            ],
            "fold_2_learn": [
             0.2586515482
            ],
            "fold_2_test": [
             0.2670705686
            ],
            "iteration": 580
           },
           {
            "fold_0_learn": [
             0.2549332066
            ],
            "fold_0_test": [
             0.274506917
            ],
            "fold_1_learn": [
             0.2538187256
            ],
            "fold_1_test": [
             0.2734592656
            ],
            "fold_2_learn": [
             0.2586315326
            ],
            "fold_2_test": [
             0.2670728847
            ],
            "iteration": 581,
            "passed_time": 164.2396389,
            "remaining_time": 117.9590533
           },
           {
            "fold_0_learn": [
             0.2549031047
            ],
            "fold_0_test": [
             0.2745242469
            ],
            "fold_1_learn": [
             0.2537561285
            ],
            "fold_1_test": [
             0.2734510788
            ],
            "fold_2_learn": [
             0.2586045636
            ],
            "fold_2_test": [
             0.2670532327
            ],
            "iteration": 582
           },
           {
            "fold_0_learn": [
             0.2548749658
            ],
            "fold_0_test": [
             0.2745284612
            ],
            "fold_1_learn": [
             0.2536695877
            ],
            "fold_1_test": [
             0.2734610198
            ],
            "fold_2_learn": [
             0.2585829582
            ],
            "fold_2_test": [
             0.267013849
            ],
            "iteration": 583,
            "passed_time": 164.9687333,
            "remaining_time": 117.5119744
           },
           {
            "fold_0_learn": [
             0.254777025
            ],
            "fold_0_test": [
             0.2745119152
            ],
            "fold_1_learn": [
             0.253595878
            ],
            "fold_1_test": [
             0.2734421089
            ],
            "fold_2_learn": [
             0.2585544383
            ],
            "fold_2_test": [
             0.2670072806
            ],
            "iteration": 584
           },
           {
            "fold_0_learn": [
             0.2546954636
            ],
            "fold_0_test": [
             0.2745073149
            ],
            "fold_1_learn": [
             0.253583248
            ],
            "fold_1_test": [
             0.273428376
            ],
            "fold_2_learn": [
             0.2585138561
            ],
            "fold_2_test": [
             0.2670114521
            ],
            "iteration": 585
           },
           {
            "fold_0_learn": [
             0.254651328
            ],
            "fold_0_test": [
             0.2745185268
            ],
            "fold_1_learn": [
             0.2535706033
            ],
            "fold_1_test": [
             0.2734274387
            ],
            "fold_2_learn": [
             0.2584910719
            ],
            "fold_2_test": [
             0.26700985
            ],
            "iteration": 586
           },
           {
            "fold_0_learn": [
             0.2545972687
            ],
            "fold_0_test": [
             0.2744923785
            ],
            "fold_1_learn": [
             0.2535573056
            ],
            "fold_1_test": [
             0.2734246143
            ],
            "fold_2_learn": [
             0.2584717751
            ],
            "fold_2_test": [
             0.2670041114
            ],
            "iteration": 587
           },
           {
            "fold_0_learn": [
             0.2545177909
            ],
            "fold_0_test": [
             0.274474886
            ],
            "fold_1_learn": [
             0.2534884763
            ],
            "fold_1_test": [
             0.2734344368
            ],
            "fold_2_learn": [
             0.2584382487
            ],
            "fold_2_test": [
             0.2670139977
            ],
            "iteration": 588,
            "passed_time": 166.5744704,
            "remaining_time": 116.2344777
           },
           {
            "fold_0_learn": [
             0.2545065074
            ],
            "fold_0_test": [
             0.2744843896
            ],
            "fold_1_learn": [
             0.2534397476
            ],
            "fold_1_test": [
             0.2734280118
            ],
            "fold_2_learn": [
             0.258406499
            ],
            "fold_2_test": [
             0.2670061347
            ],
            "iteration": 589
           },
           {
            "fold_0_learn": [
             0.2544956417
            ],
            "fold_0_test": [
             0.274483439
            ],
            "fold_1_learn": [
             0.2534203222
            ],
            "fold_1_test": [
             0.2734306425
            ],
            "fold_2_learn": [
             0.2583803485
            ],
            "fold_2_test": [
             0.2670009477
            ],
            "iteration": 590
           },
           {
            "fold_0_learn": [
             0.2544720126
            ],
            "fold_0_test": [
             0.2744855354
            ],
            "fold_1_learn": [
             0.2533966152
            ],
            "fold_1_test": [
             0.273430509
            ],
            "fold_2_learn": [
             0.2583567097
            ],
            "fold_2_test": [
             0.2669830319
            ],
            "iteration": 591
           },
           {
            "fold_0_learn": [
             0.254432574
            ],
            "fold_0_test": [
             0.2744830371
            ],
            "fold_1_learn": [
             0.2533224895
            ],
            "fold_1_test": [
             0.2733991068
            ],
            "fold_2_learn": [
             0.2583378217
            ],
            "fold_2_test": [
             0.2669858334
            ],
            "iteration": 592
           },
           {
            "fold_0_learn": [
             0.2543914082
            ],
            "fold_0_test": [
             0.2744761469
            ],
            "fold_1_learn": [
             0.2532975634
            ],
            "fold_1_test": [
             0.2733783254
            ],
            "fold_2_learn": [
             0.2582938535
            ],
            "fold_2_test": [
             0.2669869837
            ],
            "iteration": 593
           },
           {
            "fold_0_learn": [
             0.2543291917
            ],
            "fold_0_test": [
             0.2744632946
            ],
            "fold_1_learn": [
             0.2532853755
            ],
            "fold_1_test": [
             0.2733801033
            ],
            "fold_2_learn": [
             0.2582495131
            ],
            "fold_2_test": [
             0.2669806071
            ],
            "iteration": 594,
            "passed_time": 168.3553981,
            "remaining_time": 114.5948508
           },
           {
            "fold_0_learn": [
             0.2542910792
            ],
            "fold_0_test": [
             0.2744841444
            ],
            "fold_1_learn": [
             0.253253806
            ],
            "fold_1_test": [
             0.2733751964
            ],
            "fold_2_learn": [
             0.2582038238
            ],
            "fold_2_test": [
             0.2669774531
            ],
            "iteration": 595
           },
           {
            "fold_0_learn": [
             0.2542573157
            ],
            "fold_0_test": [
             0.2744713673
            ],
            "fold_1_learn": [
             0.2532365665
            ],
            "fold_1_test": [
             0.2733827826
            ],
            "fold_2_learn": [
             0.2581437648
            ],
            "fold_2_test": [
             0.2669901575
            ],
            "iteration": 596
           },
           {
            "fold_0_learn": [
             0.2542253246
            ],
            "fold_0_test": [
             0.2744608725
            ],
            "fold_1_learn": [
             0.2531775153
            ],
            "fold_1_test": [
             0.2733738987
            ],
            "fold_2_learn": [
             0.258136335
            ],
            "fold_2_test": [
             0.2669936981
            ],
            "iteration": 597
           },
           {
            "fold_0_learn": [
             0.2542152103
            ],
            "fold_0_test": [
             0.2744667402
            ],
            "fold_1_learn": [
             0.2531350486
            ],
            "fold_1_test": [
             0.2733639823
            ],
            "fold_2_learn": [
             0.2581050415
            ],
            "fold_2_test": [
             0.2669891499
            ],
            "iteration": 598
           },
           {
            "fold_0_learn": [
             0.254181092
            ],
            "fold_0_test": [
             0.2744537394
            ],
            "fold_1_learn": [
             0.2531115216
            ],
            "fold_1_test": [
             0.2733531835
            ],
            "fold_2_learn": [
             0.2580506362
            ],
            "fold_2_test": [
             0.2669621558
            ],
            "iteration": 599,
            "passed_time": 169.9080149,
            "remaining_time": 113.2720099
           },
           {
            "fold_0_learn": [
             0.2541536365
            ],
            "fold_0_test": [
             0.2744488795
            ],
            "fold_1_learn": [
             0.2531024168
            ],
            "fold_1_test": [
             0.2733525116
            ],
            "fold_2_learn": [
             0.2580119145
            ],
            "fold_2_test": [
             0.2669778167
            ],
            "iteration": 600
           },
           {
            "fold_0_learn": [
             0.2541225182
            ],
            "fold_0_test": [
             0.2744447976
            ],
            "fold_1_learn": [
             0.2530765055
            ],
            "fold_1_test": [
             0.2733584058
            ],
            "fold_2_learn": [
             0.2580002629
            ],
            "fold_2_test": [
             0.2669828705
            ],
            "iteration": 601
           },
           {
            "fold_0_learn": [
             0.2540984905
            ],
            "fold_0_test": [
             0.2744562205
            ],
            "fold_1_learn": [
             0.2530502707
            ],
            "fold_1_test": [
             0.2733412697
            ],
            "fold_2_learn": [
             0.2579696636
            ],
            "fold_2_test": [
             0.2669833212
            ],
            "iteration": 602
           },
           {
            "fold_0_learn": [
             0.2540427466
            ],
            "fold_0_test": [
             0.2744639377
            ],
            "fold_1_learn": [
             0.2530227791
            ],
            "fold_1_test": [
             0.2733332139
            ],
            "fold_2_learn": [
             0.2579305675
            ],
            "fold_2_test": [
             0.266970134
            ],
            "iteration": 603
           },
           {
            "fold_0_learn": [
             0.2540138856
            ],
            "fold_0_test": [
             0.274465836
            ],
            "fold_1_learn": [
             0.2529887128
            ],
            "fold_1_test": [
             0.2733058823
            ],
            "fold_2_learn": [
             0.2579015489
            ],
            "fold_2_test": [
             0.266960525
            ],
            "iteration": 604,
            "passed_time": 171.4248357,
            "remaining_time": 111.9220001
           },
           {
            "fold_0_learn": [
             0.254005026
            ],
            "fold_0_test": [
             0.2744627364
            ],
            "fold_1_learn": [
             0.2529508636
            ],
            "fold_1_test": [
             0.2733098045
            ],
            "fold_2_learn": [
             0.2578164159
            ],
            "fold_2_test": [
             0.2669469109
            ],
            "iteration": 605
           },
           {
            "fold_0_learn": [
             0.2539628393
            ],
            "fold_0_test": [
             0.274456864
            ],
            "fold_1_learn": [
             0.2529105503
            ],
            "fold_1_test": [
             0.2733214726
            ],
            "fold_2_learn": [
             0.2577738206
            ],
            "fold_2_test": [
             0.2669344127
            ],
            "iteration": 606
           },
           {
            "fold_0_learn": [
             0.2539225706
            ],
            "fold_0_test": [
             0.2744586179
            ],
            "fold_1_learn": [
             0.2528839191
            ],
            "fold_1_test": [
             0.2733104783
            ],
            "fold_2_learn": [
             0.2577308736
            ],
            "fold_2_test": [
             0.2669330327
            ],
            "iteration": 607
           },
           {
            "fold_0_learn": [
             0.2539081851
            ],
            "fold_0_test": [
             0.2744470216
            ],
            "fold_1_learn": [
             0.2528722509
            ],
            "fold_1_test": [
             0.2733094114
            ],
            "fold_2_learn": [
             0.2577147329
            ],
            "fold_2_test": [
             0.2669312614
            ],
            "iteration": 608
           },
           {
            "fold_0_learn": [
             0.2538367026
            ],
            "fold_0_test": [
             0.2744593756
            ],
            "fold_1_learn": [
             0.2528070608
            ],
            "fold_1_test": [
             0.2733152477
            ],
            "fold_2_learn": [
             0.2576935205
            ],
            "fold_2_test": [
             0.2669304616
            ],
            "iteration": 609,
            "passed_time": 172.9306639,
            "remaining_time": 110.5622277
           },
           {
            "fold_0_learn": [
             0.2537954241
            ],
            "fold_0_test": [
             0.2744496142
            ],
            "fold_1_learn": [
             0.2527968097
            ],
            "fold_1_test": [
             0.2733117939
            ],
            "fold_2_learn": [
             0.2576819868
            ],
            "fold_2_test": [
             0.2669312128
            ],
            "iteration": 610
           },
           {
            "fold_0_learn": [
             0.2537573096
            ],
            "fold_0_test": [
             0.2744560427
            ],
            "fold_1_learn": [
             0.252770575
            ],
            "fold_1_test": [
             0.2733107122
            ],
            "fold_2_learn": [
             0.2576397495
            ],
            "fold_2_test": [
             0.2669287365
            ],
            "iteration": 611
           },
           {
            "fold_0_learn": [
             0.2537407351
            ],
            "fold_0_test": [
             0.2744594021
            ],
            "fold_1_learn": [
             0.252746241
            ],
            "fold_1_test": [
             0.2733218165
            ],
            "fold_2_learn": [
             0.257635488
            ],
            "fold_2_test": [
             0.2669318132
            ],
            "iteration": 612
           },
           {
            "fold_0_learn": [
             0.2537033522
            ],
            "fold_0_test": [
             0.2744623969
            ],
            "fold_1_learn": [
             0.2527256411
            ],
            "fold_1_test": [
             0.2733222323
            ],
            "fold_2_learn": [
             0.2575513168
            ],
            "fold_2_test": [
             0.2668882436
            ],
            "iteration": 613
           },
           {
            "fold_0_learn": [
             0.2536755486
            ],
            "fold_0_test": [
             0.2744596189
            ],
            "fold_1_learn": [
             0.252676016
            ],
            "fold_1_test": [
             0.273298854
            ],
            "fold_2_learn": [
             0.2575277913
            ],
            "fold_2_test": [
             0.2668843864
            ],
            "iteration": 614,
            "passed_time": 174.3765825,
            "remaining_time": 109.162576
           },
           {
            "fold_0_learn": [
             0.2536566979
            ],
            "fold_0_test": [
             0.27446174
            ],
            "fold_1_learn": [
             0.2526475405
            ],
            "fold_1_test": [
             0.2732967372
            ],
            "fold_2_learn": [
             0.2574831262
            ],
            "fold_2_test": [
             0.2669000042
            ],
            "iteration": 615
           },
           {
            "fold_0_learn": [
             0.2536209365
            ],
            "fold_0_test": [
             0.2744448116
            ],
            "fold_1_learn": [
             0.2526365051
            ],
            "fold_1_test": [
             0.2732978156
            ],
            "fold_2_learn": [
             0.2574593148
            ],
            "fold_2_test": [
             0.2669014395
            ],
            "iteration": 616
           },
           {
            "fold_0_learn": [
             0.2535952055
            ],
            "fold_0_test": [
             0.2744389746
            ],
            "fold_1_learn": [
             0.2525926827
            ],
            "fold_1_test": [
             0.2733031527
            ],
            "fold_2_learn": [
             0.2574410714
            ],
            "fold_2_test": [
             0.2669013013
            ],
            "iteration": 617
           },
           {
            "fold_0_learn": [
             0.2535654804
            ],
            "fold_0_test": [
             0.2744168185
            ],
            "fold_1_learn": [
             0.2525825507
            ],
            "fold_1_test": [
             0.2733043768
            ],
            "fold_2_learn": [
             0.2574017055
            ],
            "fold_2_test": [
             0.2669082909
            ],
            "iteration": 618
           },
           {
            "fold_0_learn": [
             0.253535719
            ],
            "fold_0_test": [
             0.2744007188
            ],
            "fold_1_learn": [
             0.2525369356
            ],
            "fold_1_test": [
             0.2733308165
            ],
            "fold_2_learn": [
             0.2573768741
            ],
            "fold_2_test": [
             0.266913925
            ],
            "iteration": 619
           },
           {
            "fold_0_learn": [
             0.2535012281
            ],
            "fold_0_test": [
             0.2744098574
            ],
            "fold_1_learn": [
             0.2525122166
            ],
            "fold_1_test": [
             0.2733211652
            ],
            "fold_2_learn": [
             0.257339728
            ],
            "fold_2_test": [
             0.2668977834
            ],
            "iteration": 620,
            "passed_time": 176.1196592,
            "remaining_time": 107.4868774
           },
           {
            "fold_0_learn": [
             0.253480208
            ],
            "fold_0_test": [
             0.2743998502
            ],
            "fold_1_learn": [
             0.2524915798
            ],
            "fold_1_test": [
             0.2733201387
            ],
            "fold_2_learn": [
             0.2573017224
            ],
            "fold_2_test": [
             0.2668963898
            ],
            "iteration": 621
           },
           {
            "fold_0_learn": [
             0.2534320359
            ],
            "fold_0_test": [
             0.2743944607
            ],
            "fold_1_learn": [
             0.2524683479
            ],
            "fold_1_test": [
             0.2733134903
            ],
            "fold_2_learn": [
             0.257270684
            ],
            "fold_2_test": [
             0.2668928551
            ],
            "iteration": 622
           },
           {
            "fold_0_learn": [
             0.253391112
            ],
            "fold_0_test": [
             0.2743898221
            ],
            "fold_1_learn": [
             0.2524407243
            ],
            "fold_1_test": [
             0.2733165366
            ],
            "fold_2_learn": [
             0.2572627562
            ],
            "fold_2_test": [
             0.2668986849
            ],
            "iteration": 623
           },
           {
            "fold_0_learn": [
             0.2533482189
            ],
            "fold_0_test": [
             0.2743946161
            ],
            "fold_1_learn": [
             0.2523544425
            ],
            "fold_1_test": [
             0.2732758026
            ],
            "fold_2_learn": [
             0.2572457415
            ],
            "fold_2_test": [
             0.2669112716
            ],
            "iteration": 624
           },
           {
            "fold_0_learn": [
             0.2533274686
            ],
            "fold_0_test": [
             0.2744021001
            ],
            "fold_1_learn": [
             0.2523338355
            ],
            "fold_1_test": [
             0.2732828702
            ],
            "fold_2_learn": [
             0.2572373385
            ],
            "fold_2_test": [
             0.266905233
            ],
            "iteration": 625
           },
           {
            "fold_0_learn": [
             0.253302599
            ],
            "fold_0_test": [
             0.2744072723
            ],
            "fold_1_learn": [
             0.2523193758
            ],
            "fold_1_test": [
             0.2732753152
            ],
            "fold_2_learn": [
             0.257226444
            ],
            "fold_2_test": [
             0.2669063649
            ],
            "iteration": 626,
            "passed_time": 178.0115301,
            "remaining_time": 105.8984063
           },
           {
            "fold_0_learn": [
             0.2532696768
            ],
            "fold_0_test": [
             0.274400498
            ],
            "fold_1_learn": [
             0.2522564079
            ],
            "fold_1_test": [
             0.2732854728
            ],
            "fold_2_learn": [
             0.2572015502
            ],
            "fold_2_test": [
             0.266895851
            ],
            "iteration": 627
           },
           {
            "fold_0_learn": [
             0.2532448488
            ],
            "fold_0_test": [
             0.2744099232
            ],
            "fold_1_learn": [
             0.2521744398
            ],
            "fold_1_test": [
             0.2732577698
            ],
            "fold_2_learn": [
             0.2571476085
            ],
            "fold_2_test": [
             0.2668815888
            ],
            "iteration": 628
           },
           {
            "fold_0_learn": [
             0.2532078588
            ],
            "fold_0_test": [
             0.2744170873
            ],
            "fold_1_learn": [
             0.2521081749
            ],
            "fold_1_test": [
             0.2732456301
            ],
            "fold_2_learn": [
             0.2571394309
            ],
            "fold_2_test": [
             0.2668764826
            ],
            "iteration": 629
           },
           {
            "fold_0_learn": [
             0.2531687567
            ],
            "fold_0_test": [
             0.2744176419
            ],
            "fold_1_learn": [
             0.252057549
            ],
            "fold_1_test": [
             0.2732260747
            ],
            "fold_2_learn": [
             0.2571320298
            ],
            "fold_2_test": [
             0.2668782366
            ],
            "iteration": 630
           },
           {
            "fold_0_learn": [
             0.2531317906
            ],
            "fold_0_test": [
             0.2744052211
            ],
            "fold_1_learn": [
             0.2520354432
            ],
            "fold_1_test": [
             0.273224758
            ],
            "fold_2_learn": [
             0.2571178821
            ],
            "fold_2_test": [
             0.2668737436
            ],
            "iteration": 631,
            "passed_time": 179.5637166,
            "remaining_time": 104.5560882
           },
           {
            "fold_0_learn": [
             0.2530713064
            ],
            "fold_0_test": [
             0.2743871929
            ],
            "fold_1_learn": [
             0.2519895728
            ],
            "fold_1_test": [
             0.2732259319
            ],
            "fold_2_learn": [
             0.2570935282
            ],
            "fold_2_test": [
             0.2668772048
            ],
            "iteration": 632
           },
           {
            "fold_0_learn": [
             0.2530389042
            ],
            "fold_0_test": [
             0.27439692
            ],
            "fold_1_learn": [
             0.2519722928
            ],
            "fold_1_test": [
             0.2732291713
            ],
            "fold_2_learn": [
             0.2570828999
            ],
            "fold_2_test": [
             0.2668835535
            ],
            "iteration": 633
           },
           {
            "fold_0_learn": [
             0.2530279288
            ],
            "fold_0_test": [
             0.2744039283
            ],
            "fold_1_learn": [
             0.25194051
            ],
            "fold_1_test": [
             0.2732293265
            ],
            "fold_2_learn": [
             0.2570745181
            ],
            "fold_2_test": [
             0.2668814436
            ],
            "iteration": 634
           },
           {
            "fold_0_learn": [
             0.2529999351
            ],
            "fold_0_test": [
             0.2744054107
            ],
            "fold_1_learn": [
             0.2519240368
            ],
            "fold_1_test": [
             0.2732190642
            ],
            "fold_2_learn": [
             0.2570569909
            ],
            "fold_2_test": [
             0.2668826888
            ],
            "iteration": 635
           },
           {
            "fold_0_learn": [
             0.2529635489
            ],
            "fold_0_test": [
             0.2743845405
            ],
            "fold_1_learn": [
             0.2518777576
            ],
            "fold_1_test": [
             0.2732143558
            ],
            "fold_2_learn": [
             0.2570190799
            ],
            "fold_2_test": [
             0.2668789221
            ],
            "iteration": 636,
            "passed_time": 180.9979288,
            "remaining_time": 103.1432467
           },
           {
            "fold_0_learn": [
             0.2529383494
            ],
            "fold_0_test": [
             0.2743767326
            ],
            "fold_1_learn": [
             0.2518567687
            ],
            "fold_1_test": [
             0.2732198243
            ],
            "fold_2_learn": [
             0.2569774839
            ],
            "fold_2_test": [
             0.2669088058
            ],
            "iteration": 637
           },
           {
            "fold_0_learn": [
             0.2529201595
            ],
            "fold_0_test": [
             0.2743738031
            ],
            "fold_1_learn": [
             0.2518059911
            ],
            "fold_1_test": [
             0.2732168026
            ],
            "fold_2_learn": [
             0.2569517836
            ],
            "fold_2_test": [
             0.2669097314
            ],
            "iteration": 638
           },
           {
            "fold_0_learn": [
             0.2528915449
            ],
            "fold_0_test": [
             0.2743825404
            ],
            "fold_1_learn": [
             0.2517313685
            ],
            "fold_1_test": [
             0.2732056027
            ],
            "fold_2_learn": [
             0.2569447255
            ],
            "fold_2_test": [
             0.2669117688
            ],
            "iteration": 639
           },
           {
            "fold_0_learn": [
             0.2528409229
            ],
            "fold_0_test": [
             0.2743720832
            ],
            "fold_1_learn": [
             0.2517281301
            ],
            "fold_1_test": [
             0.2732052619
            ],
            "fold_2_learn": [
             0.2568725382
            ],
            "fold_2_test": [
             0.2668941031
            ],
            "iteration": 640
           },
           {
            "fold_0_learn": [
             0.2527929921
            ],
            "fold_0_test": [
             0.2743588961
            ],
            "fold_1_learn": [
             0.2517092816
            ],
            "fold_1_test": [
             0.2732011044
            ],
            "fold_2_learn": [
             0.2568514358
            ],
            "fold_2_test": [
             0.266893744
            ],
            "iteration": 641
           },
           {
            "fold_0_learn": [
             0.2527693092
            ],
            "fold_0_test": [
             0.2743647231
            ],
            "fold_1_learn": [
             0.251696286
            ],
            "fold_1_test": [
             0.2732072579
            ],
            "fold_2_learn": [
             0.256832105
            ],
            "fold_2_test": [
             0.2668936766
            ],
            "iteration": 642,
            "passed_time": 182.6671239,
            "remaining_time": 101.4186053
           },
           {
            "fold_0_learn": [
             0.2527593033
            ],
            "fold_0_test": [
             0.27435939
            ],
            "fold_1_learn": [
             0.2516339699
            ],
            "fold_1_test": [
             0.2731936941
            ],
            "fold_2_learn": [
             0.2567976927
            ],
            "fold_2_test": [
             0.2669008016
            ],
            "iteration": 643
           },
           {
            "fold_0_learn": [
             0.2527495868
            ],
            "fold_0_test": [
             0.2743708166
            ],
            "fold_1_learn": [
             0.2515710113
            ],
            "fold_1_test": [
             0.2731646541
            ],
            "fold_2_learn": [
             0.2567760993
            ],
            "fold_2_test": [
             0.2668913047
            ],
            "iteration": 644
           },
           {
            "fold_0_learn": [
             0.2527065581
            ],
            "fold_0_test": [
             0.2743689203
            ],
            "fold_1_learn": [
             0.2515229472
            ],
            "fold_1_test": [
             0.2731506068
            ],
            "fold_2_learn": [
             0.256761933
            ],
            "fold_2_test": [
             0.2668806231
            ],
            "iteration": 645
           },
           {
            "fold_0_learn": [
             0.2526749138
            ],
            "fold_0_test": [
             0.2743754577
            ],
            "fold_1_learn": [
             0.2514811994
            ],
            "fold_1_test": [
             0.273153517
            ],
            "fold_2_learn": [
             0.2567288745
            ],
            "fold_2_test": [
             0.2668809689
            ],
            "iteration": 646
           },
           {
            "fold_0_learn": [
             0.2526325663
            ],
            "fold_0_test": [
             0.274372334
            ],
            "fold_1_learn": [
             0.2514540858
            ],
            "fold_1_test": [
             0.2731589356
            ],
            "fold_2_learn": [
             0.2566926776
            ],
            "fold_2_test": [
             0.2668628948
            ],
            "iteration": 647
           },
           {
            "fold_0_learn": [
             0.252628519
            ],
            "fold_0_test": [
             0.2743699742
            ],
            "fold_1_learn": [
             0.251418544
            ],
            "fold_1_test": [
             0.2731551937
            ],
            "fold_2_learn": [
             0.2566614642
            ],
            "fold_2_test": [
             0.2668521322
            ],
            "iteration": 648,
            "passed_time": 184.3835859,
            "remaining_time": 99.72055259
           },
           {
            "fold_0_learn": [
             0.2526225024
            ],
            "fold_0_test": [
             0.2743656849
            ],
            "fold_1_learn": [
             0.2514064324
            ],
            "fold_1_test": [
             0.2731615864
            ],
            "fold_2_learn": [
             0.2566264822
            ],
            "fold_2_test": [
             0.2668498378
            ],
            "iteration": 649
           },
           {
            "fold_0_learn": [
             0.2525931965
            ],
            "fold_0_test": [
             0.2743691942
            ],
            "fold_1_learn": [
             0.2513773695
            ],
            "fold_1_test": [
             0.2731673642
            ],
            "fold_2_learn": [
             0.2566040591
            ],
            "fold_2_test": [
             0.2668618141
            ],
            "iteration": 650
           },
           {
            "fold_0_learn": [
             0.2525493601
            ],
            "fold_0_test": [
             0.2743660341
            ],
            "fold_1_learn": [
             0.2513248036
            ],
            "fold_1_test": [
             0.2731702078
            ],
            "fold_2_learn": [
             0.2565251695
            ],
            "fold_2_test": [
             0.2668374298
            ],
            "iteration": 651
           },
           {
            "fold_0_learn": [
             0.2524900241
            ],
            "fold_0_test": [
             0.2743675935
            ],
            "fold_1_learn": [
             0.2513145538
            ],
            "fold_1_test": [
             0.2731721605
            ],
            "fold_2_learn": [
             0.2565079519
            ],
            "fold_2_test": [
             0.2668438086
            ],
            "iteration": 652
           },
           {
            "fold_0_learn": [
             0.2524665345
            ],
            "fold_0_test": [
             0.2743653885
            ],
            "fold_1_learn": [
             0.2513033648
            ],
            "fold_1_test": [
             0.2731716118
            ],
            "fold_2_learn": [
             0.2564867367
            ],
            "fold_2_test": [
             0.2668494555
            ],
            "iteration": 653,
            "passed_time": 185.8662563,
            "remaining_time": 98.33291234
           },
           {
            "fold_0_learn": [
             0.2524371831
            ],
            "fold_0_test": [
             0.2743776297
            ],
            "fold_1_learn": [
             0.2512615511
            ],
            "fold_1_test": [
             0.2731603182
            ],
            "fold_2_learn": [
             0.2564707282
            ],
            "fold_2_test": [
             0.2668507058
            ],
            "iteration": 654
           },
           {
            "fold_0_learn": [
             0.2524151115
            ],
            "fold_0_test": [
             0.2743802136
            ],
            "fold_1_learn": [
             0.2512318996
            ],
            "fold_1_test": [
             0.2731646651
            ],
            "fold_2_learn": [
             0.2564396721
            ],
            "fold_2_test": [
             0.2668477261
            ],
            "iteration": 655
           },
           {
            "fold_0_learn": [
             0.2523815342
            ],
            "fold_0_test": [
             0.2743738349
            ],
            "fold_1_learn": [
             0.2511862898
            ],
            "fold_1_test": [
             0.2731557615
            ],
            "fold_2_learn": [
             0.2564083569
            ],
            "fold_2_test": [
             0.2668646234
            ],
            "iteration": 656
           },
           {
            "fold_0_learn": [
             0.2523645308
            ],
            "fold_0_test": [
             0.2743699383
            ],
            "fold_1_learn": [
             0.2511832616
            ],
            "fold_1_test": [
             0.2731554155
            ],
            "fold_2_learn": [
             0.2563653437
            ],
            "fold_2_test": [
             0.266867997
            ],
            "iteration": 657
           },
           {
            "fold_0_learn": [
             0.2523519937
            ],
            "fold_0_test": [
             0.2743659034
            ],
            "fold_1_learn": [
             0.2511665149
            ],
            "fold_1_test": [
             0.2731529225
            ],
            "fold_2_learn": [
             0.2563500172
            ],
            "fold_2_test": [
             0.2668753127
            ],
            "iteration": 658,
            "passed_time": 187.3337861,
            "remaining_time": 96.93599555
           },
           {
            "fold_0_learn": [
             0.2523264007
            ],
            "fold_0_test": [
             0.2743590853
            ],
            "fold_1_learn": [
             0.2511404801
            ],
            "fold_1_test": [
             0.2731473677
            ],
            "fold_2_learn": [
             0.2563230179
            ],
            "fold_2_test": [
             0.2668510266
            ],
            "iteration": 659
           },
           {
            "fold_0_learn": [
             0.2522744974
            ],
            "fold_0_test": [
             0.2743564099
            ],
            "fold_1_learn": [
             0.2510938102
            ],
            "fold_1_test": [
             0.2731513344
            ],
            "fold_2_learn": [
             0.2562748993
            ],
            "fold_2_test": [
             0.2668309423
            ],
            "iteration": 660
           },
           {
            "fold_0_learn": [
             0.2522515177
            ],
            "fold_0_test": [
             0.2743435985
            ],
            "fold_1_learn": [
             0.2510824322
            ],
            "fold_1_test": [
             0.273151505
            ],
            "fold_2_learn": [
             0.2562565844
            ],
            "fold_2_test": [
             0.2668406205
            ],
            "iteration": 661
           },
           {
            "fold_0_learn": [
             0.2522078055
            ],
            "fold_0_test": [
             0.2743176083
            ],
            "fold_1_learn": [
             0.2510566074
            ],
            "fold_1_test": [
             0.2731457893
            ],
            "fold_2_learn": [
             0.2562391766
            ],
            "fold_2_test": [
             0.2668376201
            ],
            "iteration": 662
           },
           {
            "fold_0_learn": [
             0.2521843498
            ],
            "fold_0_test": [
             0.2743034502
            ],
            "fold_1_learn": [
             0.2510135518
            ],
            "fold_1_test": [
             0.2731380981
            ],
            "fold_2_learn": [
             0.2562158566
            ],
            "fold_2_test": [
             0.266843805
            ],
            "iteration": 663
           },
           {
            "fold_0_learn": [
             0.2521619691
            ],
            "fold_0_test": [
             0.2743090908
            ],
            "fold_1_learn": [
             0.2509992444
            ],
            "fold_1_test": [
             0.2731394008
            ],
            "fold_2_learn": [
             0.2561841624
            ],
            "fold_2_test": [
             0.266843904
            ],
            "iteration": 664,
            "passed_time": 189.1651427,
            "remaining_time": 95.29371848
           },
           {
            "fold_0_learn": [
             0.2521256816
            ],
            "fold_0_test": [
             0.2742918608
            ],
            "fold_1_learn": [
             0.2509294044
            ],
            "fold_1_test": [
             0.2731429782
            ],
            "fold_2_learn": [
             0.256177117
            ],
            "fold_2_test": [
             0.2668425468
            ],
            "iteration": 665
           },
           {
            "fold_0_learn": [
             0.2520811387
            ],
            "fold_0_test": [
             0.2742892108
            ],
            "fold_1_learn": [
             0.2509017304
            ],
            "fold_1_test": [
             0.2731677323
            ],
            "fold_2_learn": [
             0.2561547822
            ],
            "fold_2_test": [
             0.2668369433
            ],
            "iteration": 666
           },
           {
            "fold_0_learn": [
             0.2520517394
            ],
            "fold_0_test": [
             0.2742919429
            ],
            "fold_1_learn": [
             0.2508941423
            ],
            "fold_1_test": [
             0.2731726717
            ],
            "fold_2_learn": [
             0.2561413556
            ],
            "fold_2_test": [
             0.266833659
            ],
            "iteration": 667
           },
           {
            "fold_0_learn": [
             0.2520198719
            ],
            "fold_0_test": [
             0.2742873226
            ],
            "fold_1_learn": [
             0.250819477
            ],
            "fold_1_test": [
             0.2731578455
            ],
            "fold_2_learn": [
             0.256114297
            ],
            "fold_2_test": [
             0.2668261948
            ],
            "iteration": 668
           },
           {
            "fold_0_learn": [
             0.2519994335
            ],
            "fold_0_test": [
             0.2742873755
            ],
            "fold_1_learn": [
             0.2507900808
            ],
            "fold_1_test": [
             0.2731726273
            ],
            "fold_2_learn": [
             0.2561009205
            ],
            "fold_2_test": [
             0.2668272552
            ],
            "iteration": 669
           },
           {
            "fold_0_learn": [
             0.251973002
            ],
            "fold_0_test": [
             0.2742671676
            ],
            "fold_1_learn": [
             0.2507230696
            ],
            "fold_1_test": [
             0.2731708612
            ],
            "fold_2_learn": [
             0.2560714234
            ],
            "fold_2_test": [
             0.2668535543
            ],
            "iteration": 670
           },
           {
            "fold_0_learn": [
             0.2519499428
            ],
            "fold_0_test": [
             0.2742639601
            ],
            "fold_1_learn": [
             0.2506739547
            ],
            "fold_1_test": [
             0.2731487116
            ],
            "fold_2_learn": [
             0.2560642891
            ],
            "fold_2_test": [
             0.2668454345
            ],
            "iteration": 671,
            "passed_time": 191.1590751,
            "remaining_time": 93.30383429
           },
           {
            "fold_0_learn": [
             0.2519143246
            ],
            "fold_0_test": [
             0.2742593665
            ],
            "fold_1_learn": [
             0.2506435914
            ],
            "fold_1_test": [
             0.2731338899
            ],
            "fold_2_learn": [
             0.2560353247
            ],
            "fold_2_test": [
             0.2668390673
            ],
            "iteration": 672
           },
           {
            "fold_0_learn": [
             0.251890052
            ],
            "fold_0_test": [
             0.2742654214
            ],
            "fold_1_learn": [
             0.2506358256
            ],
            "fold_1_test": [
             0.2731318664
            ],
            "fold_2_learn": [
             0.2560152564
            ],
            "fold_2_test": [
             0.2668165484
            ],
            "iteration": 673
           },
           {
            "fold_0_learn": [
             0.2518451079
            ],
            "fold_0_test": [
             0.2742461324
            ],
            "fold_1_learn": [
             0.250602964
            ],
            "fold_1_test": [
             0.2731329072
            ],
            "fold_2_learn": [
             0.2560003521
            ],
            "fold_2_test": [
             0.2668230223
            ],
            "iteration": 674
           },
           {
            "fold_0_learn": [
             0.2518196174
            ],
            "fold_0_test": [
             0.2742389471
            ],
            "fold_1_learn": [
             0.2505174466
            ],
            "fold_1_test": [
             0.2731783013
            ],
            "fold_2_learn": [
             0.2559817148
            ],
            "fold_2_test": [
             0.2668282542
            ],
            "iteration": 675
           },
           {
            "fold_0_learn": [
             0.2517994095
            ],
            "fold_0_test": [
             0.2742464375
            ],
            "fold_1_learn": [
             0.2504855893
            ],
            "fold_1_test": [
             0.2731779697
            ],
            "fold_2_learn": [
             0.2559382534
            ],
            "fold_2_test": [
             0.2668183691
            ],
            "iteration": 676,
            "passed_time": 192.7091001,
            "remaining_time": 91.94245099
           },
           {
            "fold_0_learn": [
             0.2517751301
            ],
            "fold_0_test": [
             0.274251613
            ],
            "fold_1_learn": [
             0.250453591
            ],
            "fold_1_test": [
             0.273152785
            ],
            "fold_2_learn": [
             0.2559146137
            ],
            "fold_2_test": [
             0.2667749411
            ],
            "iteration": 677
           },
           {
            "fold_0_learn": [
             0.2517563533
            ],
            "fold_0_test": [
             0.2742603564
            ],
            "fold_1_learn": [
             0.2504218779
            ],
            "fold_1_test": [
             0.2731444456
            ],
            "fold_2_learn": [
             0.255861063
            ],
            "fold_2_test": [
             0.2667979848
            ],
            "iteration": 678
           },
           {
            "fold_0_learn": [
             0.2516952039
            ],
            "fold_0_test": [
             0.2742691028
            ],
            "fold_1_learn": [
             0.2503845607
            ],
            "fold_1_test": [
             0.2731586257
            ],
            "fold_2_learn": [
             0.2558036585
            ],
            "fold_2_test": [
             0.2668135149
            ],
            "iteration": 679
           },
           {
            "fold_0_learn": [
             0.2516716019
            ],
            "fold_0_test": [
             0.2742645869
            ],
            "fold_1_learn": [
             0.2503462405
            ],
            "fold_1_test": [
             0.2731703714
            ],
            "fold_2_learn": [
             0.2557694149
            ],
            "fold_2_test": [
             0.2668134823
            ],
            "iteration": 680
           },
           {
            "fold_0_learn": [
             0.2516340972
            ],
            "fold_0_test": [
             0.2742566873
            ],
            "fold_1_learn": [
             0.2503121913
            ],
            "fold_1_test": [
             0.2731562822
            ],
            "fold_2_learn": [
             0.2557565291
            ],
            "fold_2_test": [
             0.266802003
            ],
            "iteration": 681,
            "passed_time": 194.1888876,
            "remaining_time": 90.54555168
           },
           {
            "fold_0_learn": [
             0.2516138971
            ],
            "fold_0_test": [
             0.2742516894
            ],
            "fold_1_learn": [
             0.2502940755
            ],
            "fold_1_test": [
             0.2731381451
            ],
            "fold_2_learn": [
             0.2557256529
            ],
            "fold_2_test": [
             0.2668065275
            ],
            "iteration": 682
           },
           {
            "fold_0_learn": [
             0.2515857513
            ],
            "fold_0_test": [
             0.2742579172
            ],
            "fold_1_learn": [
             0.2502644052
            ],
            "fold_1_test": [
             0.2731296324
            ],
            "fold_2_learn": [
             0.2557031112
            ],
            "fold_2_test": [
             0.2668080358
            ],
            "iteration": 683
           },
           {
            "fold_0_learn": [
             0.2515639783
            ],
            "fold_0_test": [
             0.2742515112
            ],
            "fold_1_learn": [
             0.2502221967
            ],
            "fold_1_test": [
             0.2730942944
            ],
            "fold_2_learn": [
             0.2556961009
            ],
            "fold_2_test": [
             0.2668046996
            ],
            "iteration": 684
           },
           {
            "fold_0_learn": [
             0.25153913
            ],
            "fold_0_test": [
             0.2742727499
            ],
            "fold_1_learn": [
             0.2502193342
            ],
            "fold_1_test": [
             0.2730939106
            ],
            "fold_2_learn": [
             0.2556583854
            ],
            "fold_2_test": [
             0.266826315
            ],
            "iteration": 685
           },
           {
            "fold_0_learn": [
             0.2515167905
            ],
            "fold_0_test": [
             0.274268953
            ],
            "fold_1_learn": [
             0.2502046826
            ],
            "fold_1_test": [
             0.2731005888
            ],
            "fold_2_learn": [
             0.2556403937
            ],
            "fold_2_test": [
             0.2668154694
            ],
            "iteration": 686
           },
           {
            "fold_0_learn": [
             0.2514740183
            ],
            "fold_0_test": [
             0.274245126
            ],
            "fold_1_learn": [
             0.2501908973
            ],
            "fold_1_test": [
             0.2731014287
            ],
            "fold_2_learn": [
             0.2556158431
            ],
            "fold_2_test": [
             0.2668249578
            ],
            "iteration": 687,
            "passed_time": 195.942581,
            "remaining_time": 88.8576821
           },
           {
            "fold_0_learn": [
             0.2514306096
            ],
            "fold_0_test": [
             0.274229957
            ],
            "fold_1_learn": [
             0.2501520153
            ],
            "fold_1_test": [
             0.2730908791
            ],
            "fold_2_learn": [
             0.2555797502
            ],
            "fold_2_test": [
             0.2668377814
            ],
            "iteration": 688
           },
           {
            "fold_0_learn": [
             0.2514247969
            ],
            "fold_0_test": [
             0.2742335739
            ],
            "fold_1_learn": [
             0.2501288116
            ],
            "fold_1_test": [
             0.2730997438
            ],
            "fold_2_learn": [
             0.2555146254
            ],
            "fold_2_test": [
             0.2668294896
            ],
            "iteration": 689
           },
           {
            "fold_0_learn": [
             0.2513796857
            ],
            "fold_0_test": [
             0.2742203274
            ],
            "fold_1_learn": [
             0.2501027039
            ],
            "fold_1_test": [
             0.2731038692
            ],
            "fold_2_learn": [
             0.2554887851
            ],
            "fold_2_test": [
             0.2668314599
            ],
            "iteration": 690
           },
           {
            "fold_0_learn": [
             0.2513569304
            ],
            "fold_0_test": [
             0.274226875
            ],
            "fold_1_learn": [
             0.2500781661
            ],
            "fold_1_test": [
             0.2731046873
            ],
            "fold_2_learn": [
             0.2554608944
            ],
            "fold_2_test": [
             0.2668160361
            ],
            "iteration": 691
           },
           {
            "fold_0_learn": [
             0.2513254529
            ],
            "fold_0_test": [
             0.2742340399
            ],
            "fold_1_learn": [
             0.2500551326
            ],
            "fold_1_test": [
             0.2730965576
            ],
            "fold_2_learn": [
             0.2554179841
            ],
            "fold_2_test": [
             0.2668181433
            ],
            "iteration": 692
           },
           {
            "fold_0_learn": [
             0.2512728807
            ],
            "fold_0_test": [
             0.2742448569
            ],
            "fold_1_learn": [
             0.250035368
            ],
            "fold_1_test": [
             0.2731021521
            ],
            "fold_2_learn": [
             0.2553907465
            ],
            "fold_2_test": [
             0.2668095903
            ],
            "iteration": 693,
            "passed_time": 197.7754349,
            "remaining_time": 87.20357791
           },
           {
            "fold_0_learn": [
             0.2512274829
            ],
            "fold_0_test": [
             0.2742273584
            ],
            "fold_1_learn": [
             0.2499998203
            ],
            "fold_1_test": [
             0.2730816289
            ],
            "fold_2_learn": [
             0.2553531192
            ],
            "fold_2_test": [
             0.2668045592
            ],
            "iteration": 694
           },
           {
            "fold_0_learn": [
             0.2511877539
            ],
            "fold_0_test": [
             0.2742312057
            ],
            "fold_1_learn": [
             0.2499702745
            ],
            "fold_1_test": [
             0.2730868173
            ],
            "fold_2_learn": [
             0.2553079079
            ],
            "fold_2_test": [
             0.2668170765
            ],
            "iteration": 695
           },
           {
            "fold_0_learn": [
             0.2511644475
            ],
            "fold_0_test": [
             0.2742088006
            ],
            "fold_1_learn": [
             0.2499351883
            ],
            "fold_1_test": [
             0.2730745579
            ],
            "fold_2_learn": [
             0.2552460358
            ],
            "fold_2_test": [
             0.2667919243
            ],
            "iteration": 696
           },
           {
            "fold_0_learn": [
             0.2511230667
            ],
            "fold_0_test": [
             0.2742143214
            ],
            "fold_1_learn": [
             0.2498681091
            ],
            "fold_1_test": [
             0.2731063519
            ],
            "fold_2_learn": [
             0.2552159458
            ],
            "fold_2_test": [
             0.2667845076
            ],
            "iteration": 697,
            "passed_time": 199.0136705,
            "remaining_time": 86.10620126
           },
           {
            "fold_0_learn": [
             0.2510825018
            ],
            "fold_0_test": [
             0.2742157681
            ],
            "fold_1_learn": [
             0.2498286991
            ],
            "fold_1_test": [
             0.2731096643
            ],
            "fold_2_learn": [
             0.255177904
            ],
            "fold_2_test": [
             0.2667833377
            ],
            "iteration": 698
           },
           {
            "fold_0_learn": [
             0.2510586245
            ],
            "fold_0_test": [
             0.2742148389
            ],
            "fold_1_learn": [
             0.249769669
            ],
            "fold_1_test": [
             0.2731042366
            ],
            "fold_2_learn": [
             0.2551219418
            ],
            "fold_2_test": [
             0.2667842275
            ],
            "iteration": 699
           },
           {
            "fold_0_learn": [
             0.2510391256
            ],
            "fold_0_test": [
             0.2742016334
            ],
            "fold_1_learn": [
             0.2497300055
            ],
            "fold_1_test": [
             0.2730979822
            ],
            "fold_2_learn": [
             0.2550964659
            ],
            "fold_2_test": [
             0.2668005611
            ],
            "iteration": 700
           },
           {
            "fold_0_learn": [
             0.2510136734
            ],
            "fold_0_test": [
             0.2742164312
            ],
            "fold_1_learn": [
             0.2497061176
            ],
            "fold_1_test": [
             0.2730964862
            ],
            "fold_2_learn": [
             0.255073136
            ],
            "fold_2_test": [
             0.2667846598
            ],
            "iteration": 701
           },
           {
            "fold_0_learn": [
             0.2509651111
            ],
            "fold_0_test": [
             0.2742152268
            ],
            "fold_1_learn": [
             0.24964668
            ],
            "fold_1_test": [
             0.2730762239
            ],
            "fold_2_learn": [
             0.255048391
            ],
            "fold_2_test": [
             0.2667782151
            ],
            "iteration": 702,
            "passed_time": 200.5303543,
            "remaining_time": 84.71908285
           },
           {
            "fold_0_learn": [
             0.2509511103
            ],
            "fold_0_test": [
             0.274218172
            ],
            "fold_1_learn": [
             0.249574055
            ],
            "fold_1_test": [
             0.2730901404
            ],
            "fold_2_learn": [
             0.2550033644
            ],
            "fold_2_test": [
             0.2667535806
            ],
            "iteration": 703
           },
           {
            "fold_0_learn": [
             0.2509464623
            ],
            "fold_0_test": [
             0.2742130242
            ],
            "fold_1_learn": [
             0.2495542932
            ],
            "fold_1_test": [
             0.2730921529
            ],
            "fold_2_learn": [
             0.2549727406
            ],
            "fold_2_test": [
             0.2667473525
            ],
            "iteration": 704
           },
           {
            "fold_0_learn": [
             0.2509116521
            ],
            "fold_0_test": [
             0.2742085792
            ],
            "fold_1_learn": [
             0.2495476252
            ],
            "fold_1_test": [
             0.2730935617
            ],
            "fold_2_learn": [
             0.254955009
            ],
            "fold_2_test": [
             0.266747127
            ],
            "iteration": 705
           },
           {
            "fold_0_learn": [
             0.2508826214
            ],
            "fold_0_test": [
             0.2742211247
            ],
            "fold_1_learn": [
             0.2495222216
            ],
            "fold_1_test": [
             0.2730804726
            ],
            "fold_2_learn": [
             0.2548722509
            ],
            "fold_2_test": [
             0.2667223869
            ],
            "iteration": 706
           },
           {
            "fold_0_learn": [
             0.250840973
            ],
            "fold_0_test": [
             0.2742375865
            ],
            "fold_1_learn": [
             0.2495006286
            ],
            "fold_1_test": [
             0.2730753404
            ],
            "fold_2_learn": [
             0.2548026924
            ],
            "fold_2_test": [
             0.2667000049
            ],
            "iteration": 707
           },
           {
            "fold_0_learn": [
             0.2507891235
            ],
            "fold_0_test": [
             0.2742308197
            ],
            "fold_1_learn": [
             0.2494902138
            ],
            "fold_1_test": [
             0.2730760685
            ],
            "fold_2_learn": [
             0.2547527733
            ],
            "fold_2_test": [
             0.2667131347
            ],
            "iteration": 708,
            "passed_time": 202.3277939,
            "remaining_time": 83.04286042
           },
           {
            "fold_0_learn": [
             0.2507711268
            ],
            "fold_0_test": [
             0.274219722
            ],
            "fold_1_learn": [
             0.2494697178
            ],
            "fold_1_test": [
             0.2730625274
            ],
            "fold_2_learn": [
             0.2547063971
            ],
            "fold_2_test": [
             0.2667246974
            ],
            "iteration": 709
           },
           {
            "fold_0_learn": [
             0.2507502358
            ],
            "fold_0_test": [
             0.2742080139
            ],
            "fold_1_learn": [
             0.2494248128
            ],
            "fold_1_test": [
             0.2730364373
            ],
            "fold_2_learn": [
             0.2546834258
            ],
            "fold_2_test": [
             0.2667370751
            ],
            "iteration": 710
           },
           {
            "fold_0_learn": [
             0.2507200978
            ],
            "fold_0_test": [
             0.2742030798
            ],
            "fold_1_learn": [
             0.2493390669
            ],
            "fold_1_test": [
             0.2730422607
            ],
            "fold_2_learn": [
             0.2546637883
            ],
            "fold_2_test": [
             0.2667268768
            ],
            "iteration": 711
           },
           {
            "fold_0_learn": [
             0.2507153235
            ],
            "fold_0_test": [
             0.274201405
            ],
            "fold_1_learn": [
             0.2493203159
            ],
            "fold_1_test": [
             0.2730337118
            ],
            "fold_2_learn": [
             0.2546189936
            ],
            "fold_2_test": [
             0.2667093554
            ],
            "iteration": 712
           },
           {
            "fold_0_learn": [
             0.2506792474
            ],
            "fold_0_test": [
             0.2741900773
            ],
            "fold_1_learn": [
             0.2493067445
            ],
            "fold_1_test": [
             0.273042912
            ],
            "fold_2_learn": [
             0.2545849189
            ],
            "fold_2_test": [
             0.2667044159
            ],
            "iteration": 713,
            "passed_time": 203.8848698,
            "remaining_time": 81.66816912
           },
           {
            "fold_0_learn": [
             0.2506096272
            ],
            "fold_0_test": [
             0.2741970779
            ],
            "fold_1_learn": [
             0.2492806651
            ],
            "fold_1_test": [
             0.2730367821
            ],
            "fold_2_learn": [
             0.2545328032
            ],
            "fold_2_test": [
             0.2667090324
            ],
            "iteration": 714
           },
           {
            "fold_0_learn": [
             0.2505730997
            ],
            "fold_0_test": [
             0.2741745545
            ],
            "fold_1_learn": [
             0.2492389051
            ],
            "fold_1_test": [
             0.2730431885
            ],
            "fold_2_learn": [
             0.2545142091
            ],
            "fold_2_test": [
             0.2667146692
            ],
            "iteration": 715
           },
           {
            "fold_0_learn": [
             0.2505297061
            ],
            "fold_0_test": [
             0.2741640115
            ],
            "fold_1_learn": [
             0.2492008313
            ],
            "fold_1_test": [
             0.2730211698
            ],
            "fold_2_learn": [
             0.2545025883
            ],
            "fold_2_test": [
             0.2667184202
            ],
            "iteration": 716
           },
           {
            "fold_0_learn": [
             0.2504897858
            ],
            "fold_0_test": [
             0.2741852455
            ],
            "fold_1_learn": [
             0.2491788427
            ],
            "fold_1_test": [
             0.2730114531
            ],
            "fold_2_learn": [
             0.2544544651
            ],
            "fold_2_test": [
             0.2667318264
            ],
            "iteration": 717
           },
           {
            "fold_0_learn": [
             0.2504673099
            ],
            "fold_0_test": [
             0.2741700971
            ],
            "fold_1_learn": [
             0.2491733384
            ],
            "fold_1_test": [
             0.2730110904
            ],
            "fold_2_learn": [
             0.2544017919
            ],
            "fold_2_test": [
             0.2667322965
            ],
            "iteration": 718,
            "passed_time": 205.4036461,
            "remaining_time": 80.27597295
           },
           {
            "fold_0_learn": [
             0.2504618649
            ],
            "fold_0_test": [
             0.2741690227
            ],
            "fold_1_learn": [
             0.2490926604
            ],
            "fold_1_test": [
             0.2730195159
            ],
            "fold_2_learn": [
             0.2543808711
            ],
            "fold_2_test": [
             0.266713463
            ],
            "iteration": 719
           },
           {
            "fold_0_learn": [
             0.2504551925
            ],
            "fold_0_test": [
             0.274171161
            ],
            "fold_1_learn": [
             0.249026134
            ],
            "fold_1_test": [
             0.2729949534
            ],
            "fold_2_learn": [
             0.2543505193
            ],
            "fold_2_test": [
             0.2667177356
            ],
            "iteration": 720
           },
           {
            "fold_0_learn": [
             0.2504147218
            ],
            "fold_0_test": [
             0.2741604368
            ],
            "fold_1_learn": [
             0.2490022132
            ],
            "fold_1_test": [
             0.2729873717
            ],
            "fold_2_learn": [
             0.2543343174
            ],
            "fold_2_test": [
             0.2667169389
            ],
            "iteration": 721
           },
           {
            "fold_0_learn": [
             0.2503931496
            ],
            "fold_0_test": [
             0.274157646
            ],
            "fold_1_learn": [
             0.2489882589
            ],
            "fold_1_test": [
             0.2729959048
            ],
            "fold_2_learn": [
             0.2542772236
            ],
            "fold_2_test": [
             0.2667129888
            ],
            "iteration": 722
           },
           {
            "fold_0_learn": [
             0.2503350127
            ],
            "fold_0_test": [
             0.2741444708
            ],
            "fold_1_learn": [
             0.248954803
            ],
            "fold_1_test": [
             0.2730023996
            ],
            "fold_2_learn": [
             0.2542648317
            ],
            "fold_2_test": [
             0.2667152901
            ],
            "iteration": 723
           },
           {
            "fold_0_learn": [
             0.2503249458
            ],
            "fold_0_test": [
             0.2741415204
            ],
            "fold_1_learn": [
             0.248938068
            ],
            "fold_1_test": [
             0.273001585
            ],
            "fold_2_learn": [
             0.2542224579
            ],
            "fold_2_test": [
             0.2667205621
            ],
            "iteration": 724,
            "passed_time": 207.2899298,
            "remaining_time": 78.62721477
           },
           {
            "fold_0_learn": [
             0.2503171431
            ],
            "fold_0_test": [
             0.2741362921
            ],
            "fold_1_learn": [
             0.2489086757
            ],
            "fold_1_test": [
             0.2730012528
            ],
            "fold_2_learn": [
             0.2541924025
            ],
            "fold_2_test": [
             0.2667131378
            ],
            "iteration": 725
           },
           {
            "fold_0_learn": [
             0.2502879741
            ],
            "fold_0_test": [
             0.274139825
            ],
            "fold_1_learn": [
             0.2488773384
            ],
            "fold_1_test": [
             0.2729923863
            ],
            "fold_2_learn": [
             0.2541668143
            ],
            "fold_2_test": [
             0.2667175931
            ],
            "iteration": 726
           },
           {
            "fold_0_learn": [
             0.250252348
            ],
            "fold_0_test": [
             0.2741340361
            ],
            "fold_1_learn": [
             0.2488290712
            ],
            "fold_1_test": [
             0.2729893035
            ],
            "fold_2_learn": [
             0.2541228312
            ],
            "fold_2_test": [
             0.266716544
            ],
            "iteration": 727
           },
           {
            "fold_0_learn": [
             0.2502245275
            ],
            "fold_0_test": [
             0.2741364373
            ],
            "fold_1_learn": [
             0.2488194371
            ],
            "fold_1_test": [
             0.2729899174
            ],
            "fold_2_learn": [
             0.2540902203
            ],
            "fold_2_test": [
             0.2667119995
            ],
            "iteration": 728
           },
           {
            "fold_0_learn": [
             0.250198396
            ],
            "fold_0_test": [
             0.2741342662
            ],
            "fold_1_learn": [
             0.2488156171
            ],
            "fold_1_test": [
             0.2729897955
            ],
            "fold_2_learn": [
             0.25403771
            ],
            "fold_2_test": [
             0.2667262325
            ],
            "iteration": 729,
            "passed_time": 208.8030531,
            "remaining_time": 77.2285265
           },
           {
            "fold_0_learn": [
             0.2501346164
            ],
            "fold_0_test": [
             0.274165333
            ],
            "fold_1_learn": [
             0.2487926539
            ],
            "fold_1_test": [
             0.2729870273
            ],
            "fold_2_learn": [
             0.2540177364
            ],
            "fold_2_test": [
             0.2667277379
            ],
            "iteration": 730
           },
           {
            "fold_0_learn": [
             0.2501116995
            ],
            "fold_0_test": [
             0.2741734444
            ],
            "fold_1_learn": [
             0.2487712382
            ],
            "fold_1_test": [
             0.2729915888
            ],
            "fold_2_learn": [
             0.2539945006
            ],
            "fold_2_test": [
             0.2667223948
            ],
            "iteration": 731
           },
           {
            "fold_0_learn": [
             0.2500657196
            ],
            "fold_0_test": [
             0.2741918789
            ],
            "fold_1_learn": [
             0.248749892
            ],
            "fold_1_test": [
             0.2729775183
            ],
            "fold_2_learn": [
             0.2539715193
            ],
            "fold_2_test": [
             0.2667179739
            ],
            "iteration": 732
           },
           {
            "fold_0_learn": [
             0.2500404479
            ],
            "fold_0_test": [
             0.2741958017
            ],
            "fold_1_learn": [
             0.248714796
            ],
            "fold_1_test": [
             0.2729876747
            ],
            "fold_2_learn": [
             0.2539312067
            ],
            "fold_2_test": [
             0.2667219554
            ],
            "iteration": 733
           },
           {
            "fold_0_learn": [
             0.2500094334
            ],
            "fold_0_test": [
             0.2741917271
            ],
            "fold_1_learn": [
             0.2486763862
            ],
            "fold_1_test": [
             0.2729825612
            ],
            "fold_2_learn": [
             0.2539138322
            ],
            "fold_2_test": [
             0.2667183939
            ],
            "iteration": 734,
            "passed_time": 210.3393704,
            "remaining_time": 75.83664376
           },
           {
            "fold_0_learn": [
             0.2499754706
            ],
            "fold_0_test": [
             0.2741942564
            ],
            "fold_1_learn": [
             0.248655273
            ],
            "fold_1_test": [
             0.2729757518
            ],
            "fold_2_learn": [
             0.2538829953
            ],
            "fold_2_test": [
             0.266708842
            ],
            "iteration": 735
           },
           {
            "fold_0_learn": [
             0.2499568656
            ],
            "fold_0_test": [
             0.2741944185
            ],
            "fold_1_learn": [
             0.2486333614
            ],
            "fold_1_test": [
             0.2729770396
            ],
            "fold_2_learn": [
             0.2538577992
            ],
            "fold_2_test": [
             0.2667013698
            ],
            "iteration": 736
           },
           {
            "fold_0_learn": [
             0.2499141333
            ],
            "fold_0_test": [
             0.2741869311
            ],
            "fold_1_learn": [
             0.248589736
            ],
            "fold_1_test": [
             0.2729805537
            ],
            "fold_2_learn": [
             0.2538102618
            ],
            "fold_2_test": [
             0.2666915306
            ],
            "iteration": 737
           },
           {
            "fold_0_learn": [
             0.2498922362
            ],
            "fold_0_test": [
             0.2741795825
            ],
            "fold_1_learn": [
             0.248552101
            ],
            "fold_1_test": [
             0.2729597368
            ],
            "fold_2_learn": [
             0.2537918351
            ],
            "fold_2_test": [
             0.2667023911
            ],
            "iteration": 738
           },
           {
            "fold_0_learn": [
             0.2498808001
            ],
            "fold_0_test": [
             0.2741833766
            ],
            "fold_1_learn": [
             0.2485329872
            ],
            "fold_1_test": [
             0.2729540858
            ],
            "fold_2_learn": [
             0.2537848257
            ],
            "fold_2_test": [
             0.2667037252
            ],
            "iteration": 739,
            "passed_time": 211.8579662,
            "remaining_time": 74.43658271
           },
           {
            "fold_0_learn": [
             0.2498474351
            ],
            "fold_0_test": [
             0.2741864591
            ],
            "fold_1_learn": [
             0.2485173822
            ],
            "fold_1_test": [
             0.2729453299
            ],
            "fold_2_learn": [
             0.2537594973
            ],
            "fold_2_test": [
             0.2666983234
            ],
            "iteration": 740
           },
           {
            "fold_0_learn": [
             0.249845441
            ],
            "fold_0_test": [
             0.2741862584
            ],
            "fold_1_learn": [
             0.2484772514
            ],
            "fold_1_test": [
             0.2729352519
            ],
            "fold_2_learn": [
             0.2537420393
            ],
            "fold_2_test": [
             0.2667037322
            ],
            "iteration": 741
           },
           {
            "fold_0_learn": [
             0.2497781419
            ],
            "fold_0_test": [
             0.2741822391
            ],
            "fold_1_learn": [
             0.2484497119
            ],
            "fold_1_test": [
             0.2729397418
            ],
            "fold_2_learn": [
             0.2537214155
            ],
            "fold_2_test": [
             0.2667092156
            ],
            "iteration": 742
           },
           {
            "fold_0_learn": [
             0.2497589932
            ],
            "fold_0_test": [
             0.2742020462
            ],
            "fold_1_learn": [
             0.2484128388
            ],
            "fold_1_test": [
             0.2729611726
            ],
            "fold_2_learn": [
             0.2536822306
            ],
            "fold_2_test": [
             0.2667013194
            ],
            "iteration": 743
           },
           {
            "fold_0_learn": [
             0.2497534297
            ],
            "fold_0_test": [
             0.2742014817
            ],
            "fold_1_learn": [
             0.2484073679
            ],
            "fold_1_test": [
             0.2729562789
            ],
            "fold_2_learn": [
             0.2536510487
            ],
            "fold_2_test": [
             0.2667051932
            ],
            "iteration": 744,
            "passed_time": 213.4398476,
            "remaining_time": 73.05659212
           },
           {
            "fold_0_learn": [
             0.2497311073
            ],
            "fold_0_test": [
             0.2742036415
            ],
            "fold_1_learn": [
             0.2483780887
            ],
            "fold_1_test": [
             0.2729585728
            ],
            "fold_2_learn": [
             0.2536235872
            ],
            "fold_2_test": [
             0.266700647
            ],
            "iteration": 745
           },
           {
            "fold_0_learn": [
             0.249693024
            ],
            "fold_0_test": [
             0.2741983749
            ],
            "fold_1_learn": [
             0.2483588162
            ],
            "fold_1_test": [
             0.272959302
            ],
            "fold_2_learn": [
             0.2535429677
            ],
            "fold_2_test": [
             0.2666954008
            ],
            "iteration": 746
           },
           {
            "fold_0_learn": [
             0.2496221333
            ],
            "fold_0_test": [
             0.2742027315
            ],
            "fold_1_learn": [
             0.2483460148
            ],
            "fold_1_test": [
             0.2729589175
            ],
            "fold_2_learn": [
             0.2535327807
            ],
            "fold_2_test": [
             0.2667119334
            ],
            "iteration": 747
           },
           {
            "fold_0_learn": [
             0.2495707952
            ],
            "fold_0_test": [
             0.2742088671
            ],
            "fold_1_learn": [
             0.2483043292
            ],
            "fold_1_test": [
             0.272934801
            ],
            "fold_2_learn": [
             0.2534985468
            ],
            "fold_2_test": [
             0.266709751
            ],
            "iteration": 748
           },
           {
            "fold_0_learn": [
             0.24954068
            ],
            "fold_0_test": [
             0.2742004474
            ],
            "fold_1_learn": [
             0.2482409591
            ],
            "fold_1_test": [
             0.272941162
            ],
            "fold_2_learn": [
             0.2534546773
            ],
            "fold_2_test": [
             0.2667235884
            ],
            "iteration": 749
           },
           {
            "fold_0_learn": [
             0.2495104445
            ],
            "fold_0_test": [
             0.2742011318
            ],
            "fold_1_learn": [
             0.2482262241
            ],
            "fold_1_test": [
             0.2729523433
            ],
            "fold_2_learn": [
             0.253421761
            ],
            "fold_2_test": [
             0.2667074334
            ],
            "iteration": 750
           },
           {
            "fold_0_learn": [
             0.2494766277
            ],
            "fold_0_test": [
             0.2742049739
            ],
            "fold_1_learn": [
             0.2482096401
            ],
            "fold_1_test": [
             0.2729455893
            ],
            "fold_2_learn": [
             0.2533813554
            ],
            "fold_2_test": [
             0.2666984615
            ],
            "iteration": 751,
            "passed_time": 215.4536157,
            "remaining_time": 71.05385199
           },
           {
            "fold_0_learn": [
             0.2494542199
            ],
            "fold_0_test": [
             0.2742088892
            ],
            "fold_1_learn": [
             0.2481762529
            ],
            "fold_1_test": [
             0.2729305014
            ],
            "fold_2_learn": [
             0.2533562553
            ],
            "fold_2_test": [
             0.2667193602
            ],
            "iteration": 752
           },
           {
            "fold_0_learn": [
             0.2494420694
            ],
            "fold_0_test": [
             0.2742093732
            ],
            "fold_1_learn": [
             0.2481078395
            ],
            "fold_1_test": [
             0.2729132503
            ],
            "fold_2_learn": [
             0.2533446117
            ],
            "fold_2_test": [
             0.2667273355
            ],
            "iteration": 753
           },
           {
            "fold_0_learn": [
             0.2493910081
            ],
            "fold_0_test": [
             0.2742042509
            ],
            "fold_1_learn": [
             0.2480742168
            ],
            "fold_1_test": [
             0.2729238659
            ],
            "fold_2_learn": [
             0.253314883
            ],
            "fold_2_test": [
             0.2667109662
            ],
            "iteration": 754
           },
           {
            "fold_0_learn": [
             0.2493480399
            ],
            "fold_0_test": [
             0.2742086863
            ],
            "fold_1_learn": [
             0.2480556305
            ],
            "fold_1_test": [
             0.2729278993
            ],
            "fold_2_learn": [
             0.2532844096
            ],
            "fold_2_test": [
             0.266703165
            ],
            "iteration": 755,
            "passed_time": 216.804318,
            "remaining_time": 69.9738804
           },
           {
            "fold_0_learn": [
             0.2493334283
            ],
            "fold_0_test": [
             0.2742056699
            ],
            "fold_1_learn": [
             0.248045275
            ],
            "fold_1_test": [
             0.2729310241
            ],
            "fold_2_learn": [
             0.2532507407
            ],
            "fold_2_test": [
             0.2667002389
            ],
            "iteration": 756
           },
           {
            "fold_0_learn": [
             0.2492956569
            ],
            "fold_0_test": [
             0.2742089643
            ],
            "fold_1_learn": [
             0.2479767498
            ],
            "fold_1_test": [
             0.2729554769
            ],
            "fold_2_learn": [
             0.2532095644
            ],
            "fold_2_test": [
             0.2667119291
            ],
            "iteration": 757
           },
           {
            "fold_0_learn": [
             0.2492742052
            ],
            "fold_0_test": [
             0.2742118772
            ],
            "fold_1_learn": [
             0.2479625857
            ],
            "fold_1_test": [
             0.2729643425
            ],
            "fold_2_learn": [
             0.2531837037
            ],
            "fold_2_test": [
             0.2667087579
            ],
            "iteration": 758
           },
           {
            "fold_0_learn": [
             0.2492480433
            ],
            "fold_0_test": [
             0.2742062356
            ],
            "fold_1_learn": [
             0.2479249223
            ],
            "fold_1_test": [
             0.2729882904
            ],
            "fold_2_learn": [
             0.2531378071
            ],
            "fold_2_test": [
             0.2667093826
            ],
            "iteration": 759
           },
           {
            "fold_0_learn": [
             0.2492256045
            ],
            "fold_0_test": [
             0.2742058997
            ],
            "fold_1_learn": [
             0.2478967707
            ],
            "fold_1_test": [
             0.2729711175
            ],
            "fold_2_learn": [
             0.2530830404
            ],
            "fold_2_test": [
             0.2667084501
            ],
            "iteration": 760
           },
           {
            "fold_0_learn": [
             0.2491922846
            ],
            "fold_0_test": [
             0.2742102708
            ],
            "fold_1_learn": [
             0.2478794958
            ],
            "fold_1_test": [
             0.272972839
            ],
            "fold_2_learn": [
             0.2530527991
            ],
            "fold_2_test": [
             0.2666967902
            ],
            "iteration": 761,
            "passed_time": 218.6177499,
            "remaining_time": 68.28218435
           },
           {
            "fold_0_learn": [
             0.2491816926
            ],
            "fold_0_test": [
             0.2742140883
            ],
            "fold_1_learn": [
             0.2478495722
            ],
            "fold_1_test": [
             0.2729627727
            ],
            "fold_2_learn": [
             0.25302327
            ],
            "fold_2_test": [
             0.2666952166
            ],
            "iteration": 762
           },
           {
            "fold_0_learn": [
             0.2490937002
            ],
            "fold_0_test": [
             0.274177947
            ],
            "fold_1_learn": [
             0.2477954452
            ],
            "fold_1_test": [
             0.2729570552
            ],
            "fold_2_learn": [
             0.2529999594
            ],
            "fold_2_test": [
             0.2666964267
            ],
            "iteration": 763
           },
           {
            "fold_0_learn": [
             0.249057618
            ],
            "fold_0_test": [
             0.2741587008
            ],
            "fold_1_learn": [
             0.2477164856
            ],
            "fold_1_test": [
             0.2729518592
            ],
            "fold_2_learn": [
             0.2529903277
            ],
            "fold_2_test": [
             0.2666932733
            ],
            "iteration": 764
           },
           {
            "fold_0_learn": [
             0.2490508038
            ],
            "fold_0_test": [
             0.2741589839
            ],
            "fold_1_learn": [
             0.2476890145
            ],
            "fold_1_test": [
             0.2729476662
            ],
            "fold_2_learn": [
             0.2529826065
            ],
            "fold_2_test": [
             0.2666883
            ],
            "iteration": 765
           },
           {
            "fold_0_learn": [
             0.2490090376
            ],
            "fold_0_test": [
             0.2741624014
            ],
            "fold_1_learn": [
             0.2476370615
            ],
            "fold_1_test": [
             0.2729500331
            ],
            "fold_2_learn": [
             0.2529648379
            ],
            "fold_2_test": [
             0.2666806806
            ],
            "iteration": 766
           },
           {
            "fold_0_learn": [
             0.2489911358
            ],
            "fold_0_test": [
             0.2741713197
            ],
            "fold_1_learn": [
             0.2476208016
            ],
            "fold_1_test": [
             0.2729444218
            ],
            "fold_2_learn": [
             0.2529568268
            ],
            "fold_2_test": [
             0.2666874767
            ],
            "iteration": 767
           },
           {
            "fold_0_learn": [
             0.2489377309
            ],
            "fold_0_test": [
             0.2741564008
            ],
            "fold_1_learn": [
             0.2476069972
            ],
            "fold_1_test": [
             0.2729442785
            ],
            "fold_2_learn": [
             0.2529297124
            ],
            "fold_2_test": [
             0.2666896203
            ],
            "iteration": 768
           },
           {
            "fold_0_learn": [
             0.2488864914
            ],
            "fold_0_test": [
             0.2741570663
            ],
            "fold_1_learn": [
             0.2475545323
            ],
            "fold_1_test": [
             0.2729293842
            ],
            "fold_2_learn": [
             0.2528986796
            ],
            "fold_2_test": [
             0.2666875502
            ],
            "iteration": 769,
            "passed_time": 220.9517673,
            "remaining_time": 65.99857986
           },
           {
            "fold_0_learn": [
             0.2488651857
            ],
            "fold_0_test": [
             0.2741432592
            ],
            "fold_1_learn": [
             0.2475415871
            ],
            "fold_1_test": [
             0.2729349779
            ],
            "fold_2_learn": [
             0.2528672857
            ],
            "fold_2_test": [
             0.266685629
            ],
            "iteration": 770
           },
           {
            "fold_0_learn": [
             0.2488608287
            ],
            "fold_0_test": [
             0.2741474848
            ],
            "fold_1_learn": [
             0.2474838512
            ],
            "fold_1_test": [
             0.2729262023
            ],
            "fold_2_learn": [
             0.2528480529
            ],
            "fold_2_test": [
             0.2666852492
            ],
            "iteration": 771
           },
           {
            "fold_0_learn": [
             0.2488550293
            ],
            "fold_0_test": [
             0.2741477093
            ],
            "fold_1_learn": [
             0.2474416362
            ],
            "fold_1_test": [
             0.2729204771
            ],
            "fold_2_learn": [
             0.2527961633
            ],
            "fold_2_test": [
             0.2666787856
            ],
            "iteration": 772
           },
           {
            "fold_0_learn": [
             0.2488217775
            ],
            "fold_0_test": [
             0.2741615479
            ],
            "fold_1_learn": [
             0.2474161655
            ],
            "fold_1_test": [
             0.2729103592
            ],
            "fold_2_learn": [
             0.2527303318
            ],
            "fold_2_test": [
             0.2666802883
            ],
            "iteration": 773
           },
           {
            "fold_0_learn": [
             0.2488115145
            ],
            "fold_0_test": [
             0.2741593768
            ],
            "fold_1_learn": [
             0.2473866435
            ],
            "fold_1_test": [
             0.2729010038
            ],
            "fold_2_learn": [
             0.252685097
            ],
            "fold_2_test": [
             0.2666467844
            ],
            "iteration": 774,
            "passed_time": 222.4438743,
            "remaining_time": 64.58047962
           },
           {
            "fold_0_learn": [
             0.2487662331
            ],
            "fold_0_test": [
             0.2741886292
            ],
            "fold_1_learn": [
             0.2473632039
            ],
            "fold_1_test": [
             0.2728988781
            ],
            "fold_2_learn": [
             0.2526450861
            ],
            "fold_2_test": [
             0.2666338563
            ],
            "iteration": 775
           },
           {
            "fold_0_learn": [
             0.2487399373
            ],
            "fold_0_test": [
             0.2741730339
            ],
            "fold_1_learn": [
             0.2473070235
            ],
            "fold_1_test": [
             0.2728966995
            ],
            "fold_2_learn": [
             0.2526122682
            ],
            "fold_2_test": [
             0.2666478373
            ],
            "iteration": 776
           },
           {
            "fold_0_learn": [
             0.2487067894
            ],
            "fold_0_test": [
             0.274190692
            ],
            "fold_1_learn": [
             0.2472572363
            ],
            "fold_1_test": [
             0.2728858164
            ],
            "fold_2_learn": [
             0.2525927091
            ],
            "fold_2_test": [
             0.2666601743
            ],
            "iteration": 777
           },
           {
            "fold_0_learn": [
             0.2486760354
            ],
            "fold_0_test": [
             0.2742034908
            ],
            "fold_1_learn": [
             0.2472071049
            ],
            "fold_1_test": [
             0.2728811255
            ],
            "fold_2_learn": [
             0.2525390854
            ],
            "fold_2_test": [
             0.2666531957
            ],
            "iteration": 778,
            "passed_time": 223.7740337,
            "remaining_time": 63.48403266
           },
           {
            "fold_0_learn": [
             0.2486559335
            ],
            "fold_0_test": [
             0.2742042443
            ],
            "fold_1_learn": [
             0.2471758899
            ],
            "fold_1_test": [
             0.2728651117
            ],
            "fold_2_learn": [
             0.2525193768
            ],
            "fold_2_test": [
             0.2666466035
            ],
            "iteration": 779
           },
           {
            "fold_0_learn": [
             0.2486393488
            ],
            "fold_0_test": [
             0.2742025599
            ],
            "fold_1_learn": [
             0.2471395088
            ],
            "fold_1_test": [
             0.2728644964
            ],
            "fold_2_learn": [
             0.2524682907
            ],
            "fold_2_test": [
             0.2666088191
            ],
            "iteration": 780
           },
           {
            "fold_0_learn": [
             0.2485934426
            ],
            "fold_0_test": [
             0.2741837437
            ],
            "fold_1_learn": [
             0.2471361753
            ],
            "fold_1_test": [
             0.2728638432
            ],
            "fold_2_learn": [
             0.2524537866
            ],
            "fold_2_test": [
             0.2666105288
            ],
            "iteration": 781
           },
           {
            "fold_0_learn": [
             0.2485754182
            ],
            "fold_0_test": [
             0.2741863876
            ],
            "fold_1_learn": [
             0.2470425649
            ],
            "fold_1_test": [
             0.2728307403
            ],
            "fold_2_learn": [
             0.2523978924
            ],
            "fold_2_test": [
             0.2666054765
            ],
            "iteration": 782
           },
           {
            "fold_0_learn": [
             0.2485740716
            ],
            "fold_0_test": [
             0.2741887521
            ],
            "fold_1_learn": [
             0.2469992632
            ],
            "fold_1_test": [
             0.2728231445
            ],
            "fold_2_learn": [
             0.2523757385
            ],
            "fold_2_test": [
             0.2666049153
            ],
            "iteration": 783
           },
           {
            "fold_0_learn": [
             0.2485403736
            ],
            "fold_0_test": [
             0.2741980446
            ],
            "fold_1_learn": [
             0.2469840121
            ],
            "fold_1_test": [
             0.2728181284
            ],
            "fold_2_learn": [
             0.2523522467
            ],
            "fold_2_test": [
             0.2666259763
            ],
            "iteration": 784
           },
           {
            "fold_0_learn": [
             0.2484818075
            ],
            "fold_0_test": [
             0.2741858843
            ],
            "fold_1_learn": [
             0.2469608184
            ],
            "fold_1_test": [
             0.2728170863
            ],
            "fold_2_learn": [
             0.2523272152
            ],
            "fold_2_test": [
             0.2666244404
            ],
            "iteration": 785,
            "passed_time": 225.9775177,
            "remaining_time": 61.52568549
           },
           {
            "fold_0_learn": [
             0.248453261
            ],
            "fold_0_test": [
             0.2741806401
            ],
            "fold_1_learn": [
             0.2469082051
            ],
            "fold_1_test": [
             0.2728173073
            ],
            "fold_2_learn": [
             0.2523040566
            ],
            "fold_2_test": [
             0.2666386569
            ],
            "iteration": 786
           },
           {
            "fold_0_learn": [
             0.2484345998
            ],
            "fold_0_test": [
             0.2741866342
            ],
            "fold_1_learn": [
             0.2468986043
            ],
            "fold_1_test": [
             0.2728205352
            ],
            "fold_2_learn": [
             0.252263306
            ],
            "fold_2_test": [
             0.2666446499
            ],
            "iteration": 787
           },
           {
            "fold_0_learn": [
             0.2483805551
            ],
            "fold_0_test": [
             0.2741880267
            ],
            "fold_1_learn": [
             0.2468693268
            ],
            "fold_1_test": [
             0.272819341
            ],
            "fold_2_learn": [
             0.2522424158
            ],
            "fold_2_test": [
             0.2666439559
            ],
            "iteration": 788
           },
           {
            "fold_0_learn": [
             0.2483719039
            ],
            "fold_0_test": [
             0.2741828323
            ],
            "fold_1_learn": [
             0.2468406659
            ],
            "fold_1_test": [
             0.2728152764
            ],
            "fold_2_learn": [
             0.2521950859
            ],
            "fold_2_test": [
             0.2666262683
            ],
            "iteration": 789
           },
           {
            "fold_0_learn": [
             0.2483524832
            ],
            "fold_0_test": [
             0.2741868874
            ],
            "fold_1_learn": [
             0.2467990522
            ],
            "fold_1_test": [
             0.2728161193
            ],
            "fold_2_learn": [
             0.2521734501
            ],
            "fold_2_test": [
             0.2666403992
            ],
            "iteration": 790,
            "passed_time": 227.4738009,
            "remaining_time": 60.10369707
           },
           {
            "fold_0_learn": [
             0.2483141694
            ],
            "fold_0_test": [
             0.2741940273
            ],
            "fold_1_learn": [
             0.2467464477
            ],
            "fold_1_test": [
             0.272808342
            ],
            "fold_2_learn": [
             0.2521460044
            ],
            "fold_2_test": [
             0.2666324427
            ],
            "iteration": 791
           },
           {
            "fold_0_learn": [
             0.2482887591
            ],
            "fold_0_test": [
             0.2741967901
            ],
            "fold_1_learn": [
             0.2467286595
            ],
            "fold_1_test": [
             0.2728118889
            ],
            "fold_2_learn": [
             0.2521130146
            ],
            "fold_2_test": [
             0.2666384952
            ],
            "iteration": 792
           },
           {
            "fold_0_learn": [
             0.2482522604
            ],
            "fold_0_test": [
             0.2742092548
            ],
            "fold_1_learn": [
             0.2467053776
            ],
            "fold_1_test": [
             0.2728145641
            ],
            "fold_2_learn": [
             0.252089239
            ],
            "fold_2_test": [
             0.2666445493
            ],
            "iteration": 793
           },
           {
            "fold_0_learn": [
             0.2482370993
            ],
            "fold_0_test": [
             0.2742136981
            ],
            "fold_1_learn": [
             0.2466572006
            ],
            "fold_1_test": [
             0.272794055
            ],
            "fold_2_learn": [
             0.2520430706
            ],
            "fold_2_test": [
             0.2666347134
            ],
            "iteration": 794,
            "passed_time": 228.700327,
            "remaining_time": 58.9730403
           },
           {
            "fold_0_learn": [
             0.248226109
            ],
            "fold_0_test": [
             0.2742193943
            ],
            "fold_1_learn": [
             0.2466391507
            ],
            "fold_1_test": [
             0.2727921559
            ],
            "fold_2_learn": [
             0.2520093544
            ],
            "fold_2_test": [
             0.2666257573
            ],
            "iteration": 795
           },
           {
            "fold_0_learn": [
             0.2482056607
            ],
            "fold_0_test": [
             0.2742131683
            ],
            "fold_1_learn": [
             0.2466316141
            ],
            "fold_1_test": [
             0.2727905303
            ],
            "fold_2_learn": [
             0.252000674
            ],
            "fold_2_test": [
             0.2666256998
            ],
            "iteration": 796
           },
           {
            "fold_0_learn": [
             0.2482049114
            ],
            "fold_0_test": [
             0.274211793
            ],
            "fold_1_learn": [
             0.2466074906
            ],
            "fold_1_test": [
             0.2727731665
            ],
            "fold_2_learn": [
             0.2519795798
            ],
            "fold_2_test": [
             0.2666144017
            ],
            "iteration": 797
           },
           {
            "fold_0_learn": [
             0.2481761256
            ],
            "fold_0_test": [
             0.2742108258
            ],
            "fold_1_learn": [
             0.2465573309
            ],
            "fold_1_test": [
             0.2727752124
            ],
            "fold_2_learn": [
             0.2519630463
            ],
            "fold_2_test": [
             0.2666068598
            ],
            "iteration": 798
           },
           {
            "fold_0_learn": [
             0.248171695
            ],
            "fold_0_test": [
             0.2742146164
            ],
            "fold_1_learn": [
             0.2465530029
            ],
            "fold_1_test": [
             0.2727735185
            ],
            "fold_2_learn": [
             0.2519240554
            ],
            "fold_2_test": [
             0.2666073743
            ],
            "iteration": 799
           },
           {
            "fold_0_learn": [
             0.2481439557
            ],
            "fold_0_test": [
             0.2742129214
            ],
            "fold_1_learn": [
             0.2465302272
            ],
            "fold_1_test": [
             0.2727706088
            ],
            "fold_2_learn": [
             0.2518833765
            ],
            "fold_2_test": [
             0.2666132437
            ],
            "iteration": 800,
            "passed_time": 230.4327194,
            "remaining_time": 57.24857823
           },
           {
            "fold_0_learn": [
             0.2481220155
            ],
            "fold_0_test": [
             0.2742100984
            ],
            "fold_1_learn": [
             0.2465209494
            ],
            "fold_1_test": [
             0.2727787357
            ],
            "fold_2_learn": [
             0.2518446657
            ],
            "fold_2_test": [
             0.266624824
            ],
            "iteration": 801
           },
           {
            "fold_0_learn": [
             0.2480918434
            ],
            "fold_0_test": [
             0.2742032555
            ],
            "fold_1_learn": [
             0.2465024365
            ],
            "fold_1_test": [
             0.2727765994
            ],
            "fold_2_learn": [
             0.2518182629
            ],
            "fold_2_test": [
             0.2665891851
            ],
            "iteration": 802
           },
           {
            "fold_0_learn": [
             0.2480414054
            ],
            "fold_0_test": [
             0.2742029599
            ],
            "fold_1_learn": [
             0.2464654609
            ],
            "fold_1_test": [
             0.2727621022
            ],
            "fold_2_learn": [
             0.2517701297
            ],
            "fold_2_test": [
             0.2665674852
            ],
            "iteration": 803
           },
           {
            "fold_0_learn": [
             0.248020827
            ],
            "fold_0_test": [
             0.2741958675
            ],
            "fold_1_learn": [
             0.2463987865
            ],
            "fold_1_test": [
             0.2727633689
            ],
            "fold_2_learn": [
             0.2517022974
            ],
            "fold_2_test": [
             0.2665575945
            ],
            "iteration": 804
           },
           {
            "fold_0_learn": [
             0.2479665514
            ],
            "fold_0_test": [
             0.2741898098
            ],
            "fold_1_learn": [
             0.2463680485
            ],
            "fold_1_test": [
             0.2727535706
            ],
            "fold_2_learn": [
             0.2516765979
            ],
            "fold_2_test": [
             0.2665708928
            ],
            "iteration": 805,
            "passed_time": 231.9887971,
            "remaining_time": 55.83849458
           },
           {
            "fold_0_learn": [
             0.247925393
            ],
            "fold_0_test": [
             0.2741844519
            ],
            "fold_1_learn": [
             0.2463288346
            ],
            "fold_1_test": [
             0.2727722046
            ],
            "fold_2_learn": [
             0.2515838258
            ],
            "fold_2_test": [
             0.2665544877
            ],
            "iteration": 806
           },
           {
            "fold_0_learn": [
             0.2478883665
            ],
            "fold_0_test": [
             0.2741761788
            ],
            "fold_1_learn": [
             0.2463111085
            ],
            "fold_1_test": [
             0.2727719055
            ],
            "fold_2_learn": [
             0.2515345188
            ],
            "fold_2_test": [
             0.2665595841
            ],
            "iteration": 807
           },
           {
            "fold_0_learn": [
             0.2478602844
            ],
            "fold_0_test": [
             0.2741892142
            ],
            "fold_1_learn": [
             0.2462966646
            ],
            "fold_1_test": [
             0.2727633004
            ],
            "fold_2_learn": [
             0.2515038368
            ],
            "fold_2_test": [
             0.2665379495
            ],
            "iteration": 808,
            "passed_time": 233.1591613,
            "remaining_time": 55.04746578
           },
           {
            "fold_0_learn": [
             0.2477970162
            ],
            "fold_0_test": [
             0.2741751402
            ],
            "fold_1_learn": [
             0.2462671941
            ],
            "fold_1_test": [
             0.2727551089
            ],
            "fold_2_learn": [
             0.2514642301
            ],
            "fold_2_test": [
             0.2665349126
            ],
            "iteration": 809
           },
           {
            "fold_0_learn": [
             0.2477549957
            ],
            "fold_0_test": [
             0.2741716486
            ],
            "fold_1_learn": [
             0.2462204765
            ],
            "fold_1_test": [
             0.2727409512
            ],
            "fold_2_learn": [
             0.2514547134
            ],
            "fold_2_test": [
             0.266534286
            ],
            "iteration": 810
           },
           {
            "fold_0_learn": [
             0.247744161
            ],
            "fold_0_test": [
             0.2741571481
            ],
            "fold_1_learn": [
             0.2462091247
            ],
            "fold_1_test": [
             0.2727404575
            ],
            "fold_2_learn": [
             0.2514351715
            ],
            "fold_2_test": [
             0.2665245582
            ],
            "iteration": 811
           },
           {
            "fold_0_learn": [
             0.2477212063
            ],
            "fold_0_test": [
             0.2741716528
            ],
            "fold_1_learn": [
             0.2461759381
            ],
            "fold_1_test": [
             0.2727334082
            ],
            "fold_2_learn": [
             0.2514227449
            ],
            "fold_2_test": [
             0.2665191186
            ],
            "iteration": 812
           },
           {
            "fold_0_learn": [
             0.247694365
            ],
            "fold_0_test": [
             0.2741634995
            ],
            "fold_1_learn": [
             0.2461434532
            ],
            "fold_1_test": [
             0.2727489667
            ],
            "fold_2_learn": [
             0.2514009627
            ],
            "fold_2_test": [
             0.2665356987
            ],
            "iteration": 813,
            "passed_time": 234.7158246,
            "remaining_time": 53.63285427
           },
           {
            "fold_0_learn": [
             0.2476725906
            ],
            "fold_0_test": [
             0.2741709092
            ],
            "fold_1_learn": [
             0.2460882265
            ],
            "fold_1_test": [
             0.2727413758
            ],
            "fold_2_learn": [
             0.2513680594
            ],
            "fold_2_test": [
             0.266521211
            ],
            "iteration": 814
           },
           {
            "fold_0_learn": [
             0.2476408388
            ],
            "fold_0_test": [
             0.2741824325
            ],
            "fold_1_learn": [
             0.2460031725
            ],
            "fold_1_test": [
             0.2727698367
            ],
            "fold_2_learn": [
             0.2513466632
            ],
            "fold_2_test": [
             0.2665290429
            ],
            "iteration": 815
           },
           {
            "fold_0_learn": [
             0.2475682144
            ],
            "fold_0_test": [
             0.274174443
            ],
            "fold_1_learn": [
             0.2459757837
            ],
            "fold_1_test": [
             0.2727749156
            ],
            "fold_2_learn": [
             0.2513398979
            ],
            "fold_2_test": [
             0.2665254503
            ],
            "iteration": 816
           },
           {
            "fold_0_learn": [
             0.2475415225
            ],
            "fold_0_test": [
             0.2741973004
            ],
            "fold_1_learn": [
             0.2459243434
            ],
            "fold_1_test": [
             0.2727731797
            ],
            "fold_2_learn": [
             0.2513305358
            ],
            "fold_2_test": [
             0.2665242724
            ],
            "iteration": 817
           },
           {
            "fold_0_learn": [
             0.2474965756
            ],
            "fold_0_test": [
             0.2741725567
            ],
            "fold_1_learn": [
             0.2458754414
            ],
            "fold_1_test": [
             0.2727676106
            ],
            "fold_2_learn": [
             0.251270357
            ],
            "fold_2_test": [
             0.2665277743
            ],
            "iteration": 818,
            "passed_time": 236.3316986,
            "remaining_time": 52.22959395
           },
           {
            "fold_0_learn": [
             0.2474704249
            ],
            "fold_0_test": [
             0.2741699257
            ],
            "fold_1_learn": [
             0.2458077062
            ],
            "fold_1_test": [
             0.2727759383
            ],
            "fold_2_learn": [
             0.251248162
            ],
            "fold_2_test": [
             0.2665241673
            ],
            "iteration": 819
           },
           {
            "fold_0_learn": [
             0.2474455201
            ],
            "fold_0_test": [
             0.2741685547
            ],
            "fold_1_learn": [
             0.2457520393
            ],
            "fold_1_test": [
             0.272757153
            ],
            "fold_2_learn": [
             0.2512034441
            ],
            "fold_2_test": [
             0.2665284193
            ],
            "iteration": 820
           },
           {
            "fold_0_learn": [
             0.2473911983
            ],
            "fold_0_test": [
             0.2741528856
            ],
            "fold_1_learn": [
             0.2457082205
            ],
            "fold_1_test": [
             0.2727665196
            ],
            "fold_2_learn": [
             0.2511550635
            ],
            "fold_2_test": [
             0.2665282183
            ],
            "iteration": 821
           },
           {
            "fold_0_learn": [
             0.2473680195
            ],
            "fold_0_test": [
             0.2741489898
            ],
            "fold_1_learn": [
             0.2456840371
            ],
            "fold_1_test": [
             0.2727613682
            ],
            "fold_2_learn": [
             0.2511476885
            ],
            "fold_2_test": [
             0.2665413663
            ],
            "iteration": 822
           },
           {
            "fold_0_learn": [
             0.2473357683
            ],
            "fold_0_test": [
             0.2741601524
            ],
            "fold_1_learn": [
             0.2456680585
            ],
            "fold_1_test": [
             0.2727575426
            ],
            "fold_2_learn": [
             0.25113199
            ],
            "fold_2_test": [
             0.2665365953
            ],
            "iteration": 823,
            "passed_time": 237.9085881,
            "remaining_time": 50.81542658
           },
           {
            "fold_0_learn": [
             0.2473054435
            ],
            "fold_0_test": [
             0.2741659447
            ],
            "fold_1_learn": [
             0.2456057384
            ],
            "fold_1_test": [
             0.272761353
            ],
            "fold_2_learn": [
             0.2511095326
            ],
            "fold_2_test": [
             0.2665531126
            ],
            "iteration": 824
           },
           {
            "fold_0_learn": [
             0.2472772328
            ],
            "fold_0_test": [
             0.2741646718
            ],
            "fold_1_learn": [
             0.2455412228
            ],
            "fold_1_test": [
             0.2727576464
            ],
            "fold_2_learn": [
             0.2511041647
            ],
            "fold_2_test": [
             0.2665600539
            ],
            "iteration": 825
           },
           {
            "fold_0_learn": [
             0.2472760534
            ],
            "fold_0_test": [
             0.2741668889
            ],
            "fold_1_learn": [
             0.2454962689
            ],
            "fold_1_test": [
             0.272758465
            ],
            "fold_2_learn": [
             0.2510732805
            ],
            "fold_2_test": [
             0.2665663998
            ],
            "iteration": 826
           },
           {
            "fold_0_learn": [
             0.2472705405
            ],
            "fold_0_test": [
             0.2741673953
            ],
            "fold_1_learn": [
             0.2454716782
            ],
            "fold_1_test": [
             0.2727584335
            ],
            "fold_2_learn": [
             0.2510621892
            ],
            "fold_2_test": [
             0.2665546403
            ],
            "iteration": 827,
            "passed_time": 239.1310062,
            "remaining_time": 49.67455684
           },
           {
            "fold_0_learn": [
             0.2472655986
            ],
            "fold_0_test": [
             0.2741671644
            ],
            "fold_1_learn": [
             0.2454483112
            ],
            "fold_1_test": [
             0.272780961
            ],
            "fold_2_learn": [
             0.2510554473
            ],
            "fold_2_test": [
             0.2665607168
            ],
            "iteration": 828
           },
           {
            "fold_0_learn": [
             0.2472085769
            ],
            "fold_0_test": [
             0.274163446
            ],
            "fold_1_learn": [
             0.2454245503
            ],
            "fold_1_test": [
             0.2727770722
            ],
            "fold_2_learn": [
             0.2510441993
            ],
            "fold_2_test": [
             0.2665637481
            ],
            "iteration": 829
           },
           {
            "fold_0_learn": [
             0.2471577328
            ],
            "fold_0_test": [
             0.2741625614
            ],
            "fold_1_learn": [
             0.2453787735
            ],
            "fold_1_test": [
             0.2727815252
            ],
            "fold_2_learn": [
             0.2510379965
            ],
            "fold_2_test": [
             0.2665623811
            ],
            "iteration": 830
           },
           {
            "fold_0_learn": [
             0.2471552205
            ],
            "fold_0_test": [
             0.2741607629
            ],
            "fold_1_learn": [
             0.245304688
            ],
            "fold_1_test": [
             0.2728082645
            ],
            "fold_2_learn": [
             0.2510264561
            ],
            "fold_2_test": [
             0.2665645769
            ],
            "iteration": 831
           },
           {
            "fold_0_learn": [
             0.2471271272
            ],
            "fold_0_test": [
             0.2741627522
            ],
            "fold_1_learn": [
             0.2452280661
            ],
            "fold_1_test": [
             0.2728519601
            ],
            "fold_2_learn": [
             0.2510050627
            ],
            "fold_2_test": [
             0.2665732208
            ],
            "iteration": 832
           },
           {
            "fold_0_learn": [
             0.2470921758
            ],
            "fold_0_test": [
             0.2741665488
            ],
            "fold_1_learn": [
             0.2451569837
            ],
            "fold_1_test": [
             0.2728641552
            ],
            "fold_2_learn": [
             0.2509877777
            ],
            "fold_2_test": [
             0.2665786424
            ],
            "iteration": 833,
            "passed_time": 241.0234165,
            "remaining_time": 47.97348579
           },
           {
            "fold_0_learn": [
             0.2470609674
            ],
            "fold_0_test": [
             0.2741573239
            ],
            "fold_1_learn": [
             0.2451287164
            ],
            "fold_1_test": [
             0.2728639277
            ],
            "fold_2_learn": [
             0.2509377424
            ],
            "fold_2_test": [
             0.2665654598
            ],
            "iteration": 834
           },
           {
            "fold_0_learn": [
             0.2470296626
            ],
            "fold_0_test": [
             0.274173452
            ],
            "fold_1_learn": [
             0.2451154988
            ],
            "fold_1_test": [
             0.2728605116
            ],
            "fold_2_learn": [
             0.2509156419
            ],
            "fold_2_test": [
             0.266564474
            ],
            "iteration": 835,
            "passed_time": 241.7482534,
            "remaining_time": 47.42429852
           },
           {
            "fold_0_learn": [
             0.246997483
            ],
            "fold_0_test": [
             0.2741641168
            ],
            "fold_1_learn": [
             0.2451053377
            ],
            "fold_1_test": [
             0.272854721
            ],
            "fold_2_learn": [
             0.2508592304
            ],
            "fold_2_test": [
             0.2665653499
            ],
            "iteration": 836
           },
           {
            "fold_0_learn": [
             0.2469557727
            ],
            "fold_0_test": [
             0.2741672712
            ],
            "fold_1_learn": [
             0.2450676791
            ],
            "fold_1_test": [
             0.2728459736
            ],
            "fold_2_learn": [
             0.2508223216
            ],
            "fold_2_test": [
             0.2665482951
            ],
            "iteration": 837
           },
           {
            "fold_0_learn": [
             0.2469284173
            ],
            "fold_0_test": [
             0.2741573196
            ],
            "fold_1_learn": [
             0.2450485147
            ],
            "fold_1_test": [
             0.2728570928
            ],
            "fold_2_learn": [
             0.25081323
            ],
            "fold_2_test": [
             0.2665480343
            ],
            "iteration": 838
           },
           {
            "fold_0_learn": [
             0.2469038167
            ],
            "fold_0_test": [
             0.2741616871
            ],
            "fold_1_learn": [
             0.2450269334
            ],
            "fold_1_test": [
             0.2728795408
            ],
            "fold_2_learn": [
             0.2507973409
            ],
            "fold_2_test": [
             0.2665469303
            ],
            "iteration": 839
           },
           {
            "fold_0_learn": [
             0.2468637364
            ],
            "fold_0_test": [
             0.2741613845
            ],
            "fold_1_learn": [
             0.2449915578
            ],
            "fold_1_test": [
             0.2728849993
            ],
            "fold_2_learn": [
             0.2507538686
            ],
            "fold_2_test": [
             0.2665129053
            ],
            "iteration": 840,
            "passed_time": 243.3536065,
            "remaining_time": 46.00858911
           },
           {
            "fold_0_learn": [
             0.2468485579
            ],
            "fold_0_test": [
             0.2741659414
            ],
            "fold_1_learn": [
             0.244981199
            ],
            "fold_1_test": [
             0.2728860109
            ],
            "fold_2_learn": [
             0.2507302431
            ],
            "fold_2_test": [
             0.2665064826
            ],
            "iteration": 841
           },
           {
            "fold_0_learn": [
             0.2468416203
            ],
            "fold_0_test": [
             0.2741667816
            ],
            "fold_1_learn": [
             0.2449649564
            ],
            "fold_1_test": [
             0.272883383
            ],
            "fold_2_learn": [
             0.2506815032
            ],
            "fold_2_test": [
             0.2665095849
            ],
            "iteration": 842
           },
           {
            "fold_0_learn": [
             0.2468217203
            ],
            "fold_0_test": [
             0.2741636565
            ],
            "fold_1_learn": [
             0.2449538518
            ],
            "fold_1_test": [
             0.2728759345
            ],
            "fold_2_learn": [
             0.2506278723
            ],
            "fold_2_test": [
             0.2665070107
            ],
            "iteration": 843
           },
           {
            "fold_0_learn": [
             0.2467996442
            ],
            "fold_0_test": [
             0.2741616895
            ],
            "fold_1_learn": [
             0.2449325341
            ],
            "fold_1_test": [
             0.2728627496
            ],
            "fold_2_learn": [
             0.2505525273
            ],
            "fold_2_test": [
             0.2665199914
            ],
            "iteration": 844
           },
           {
            "fold_0_learn": [
             0.2467232319
            ],
            "fold_0_test": [
             0.27416087
            ],
            "fold_1_learn": [
             0.2449086545
            ],
            "fold_1_test": [
             0.2728483689
            ],
            "fold_2_learn": [
             0.2505309044
            ],
            "fold_2_test": [
             0.266515024
            ],
            "iteration": 845,
            "passed_time": 244.8500635,
            "remaining_time": 44.57081535
           },
           {
            "fold_0_learn": [
             0.2466526419
            ],
            "fold_0_test": [
             0.2741813411
            ],
            "fold_1_learn": [
             0.2448770057
            ],
            "fold_1_test": [
             0.2728622726
            ],
            "fold_2_learn": [
             0.2504448263
            ],
            "fold_2_test": [
             0.2665017579
            ],
            "iteration": 846
           },
           {
            "fold_0_learn": [
             0.2466515292
            ],
            "fold_0_test": [
             0.2741835273
            ],
            "fold_1_learn": [
             0.2448567749
            ],
            "fold_1_test": [
             0.2728655618
            ],
            "fold_2_learn": [
             0.250414506
            ],
            "fold_2_test": [
             0.2665040107
            ],
            "iteration": 847
           },
           {
            "fold_0_learn": [
             0.2466134857
            ],
            "fold_0_test": [
             0.2741852823
            ],
            "fold_1_learn": [
             0.2448217527
            ],
            "fold_1_test": [
             0.272880227
            ],
            "fold_2_learn": [
             0.2504010286
            ],
            "fold_2_test": [
             0.2665087079
            ],
            "iteration": 848
           },
           {
            "fold_0_learn": [
             0.2466003975
            ],
            "fold_0_test": [
             0.2741823453
            ],
            "fold_1_learn": [
             0.24480267
            ],
            "fold_1_test": [
             0.2728709493
            ],
            "fold_2_learn": [
             0.2503807999
            ],
            "fold_2_test": [
             0.2664961306
            ],
            "iteration": 849,
            "passed_time": 246.097234,
            "remaining_time": 43.42892364
           },
           {
            "fold_0_learn": [
             0.2465737188
            ],
            "fold_0_test": [
             0.2741954319
            ],
            "fold_1_learn": [
             0.2447849357
            ],
            "fold_1_test": [
             0.27287256
            ],
            "fold_2_learn": [
             0.250354278
            ],
            "fold_2_test": [
             0.2664899851
            ],
            "iteration": 850
           },
           {
            "fold_0_learn": [
             0.246565932
            ],
            "fold_0_test": [
             0.2742042112
            ],
            "fold_1_learn": [
             0.2447674819
            ],
            "fold_1_test": [
             0.2728816851
            ],
            "fold_2_learn": [
             0.250329054
            ],
            "fold_2_test": [
             0.2664845648
            ],
            "iteration": 851
           },
           {
            "fold_0_learn": [
             0.2465346867
            ],
            "fold_0_test": [
             0.2742075793
            ],
            "fold_1_learn": [
             0.2447096599
            ],
            "fold_1_test": [
             0.2728877234
            ],
            "fold_2_learn": [
             0.2502919188
            ],
            "fold_2_test": [
             0.2664933781
            ],
            "iteration": 852
           },
           {
            "fold_0_learn": [
             0.2465339741
            ],
            "fold_0_test": [
             0.2742061533
            ],
            "fold_1_learn": [
             0.2446917919
            ],
            "fold_1_test": [
             0.2728875158
            ],
            "fold_2_learn": [
             0.2502797839
            ],
            "fold_2_test": [
             0.2664939334
            ],
            "iteration": 853,
            "passed_time": 247.5060815,
            "remaining_time": 42.31368607
           },
           {
            "fold_0_learn": [
             0.2464812609
            ],
            "fold_0_test": [
             0.2742111925
            ],
            "fold_1_learn": [
             0.2446573292
            ],
            "fold_1_test": [
             0.2728662103
            ],
            "fold_2_learn": [
             0.2502581445
            ],
            "fold_2_test": [
             0.2665030822
            ],
            "iteration": 854
           },
           {
            "fold_0_learn": [
             0.2464350537
            ],
            "fold_0_test": [
             0.2742145884
            ],
            "fold_1_learn": [
             0.2446255854
            ],
            "fold_1_test": [
             0.2728674255
            ],
            "fold_2_learn": [
             0.2502175916
            ],
            "fold_2_test": [
             0.2664989064
            ],
            "iteration": 855
           },
           {
            "fold_0_learn": [
             0.2464023094
            ],
            "fold_0_test": [
             0.2742076165
            ],
            "fold_1_learn": [
             0.2446053676
            ],
            "fold_1_test": [
             0.2728692491
            ],
            "fold_2_learn": [
             0.2502040463
            ],
            "fold_2_test": [
             0.2665072319
            ],
            "iteration": 856
           },
           {
            "fold_0_learn": [
             0.2463928442
            ],
            "fold_0_test": [
             0.2742069967
            ],
            "fold_1_learn": [
             0.2445796794
            ],
            "fold_1_test": [
             0.2728649972
            ],
            "fold_2_learn": [
             0.2501854297
            ],
            "fold_2_test": [
             0.2665168136
            ],
            "iteration": 857
           },
           {
            "fold_0_learn": [
             0.246371891
            ],
            "fold_0_test": [
             0.2742010756
            ],
            "fold_1_learn": [
             0.2445621533
            ],
            "fold_1_test": [
             0.2728717469
            ],
            "fold_2_learn": [
             0.2501473763
            ],
            "fold_2_test": [
             0.2665217881
            ],
            "iteration": 858,
            "passed_time": 249.093895,
            "remaining_time": 40.88735646
           },
           {
            "fold_0_learn": [
             0.2463478514
            ],
            "fold_0_test": [
             0.2741870645
            ],
            "fold_1_learn": [
             0.2445583917
            ],
            "fold_1_test": [
             0.272873613
            ],
            "fold_2_learn": [
             0.2501008801
            ],
            "fold_2_test": [
             0.2665208987
            ],
            "iteration": 859
           },
           {
            "fold_0_learn": [
             0.2463389008
            ],
            "fold_0_test": [
             0.2741866949
            ],
            "fold_1_learn": [
             0.2445215132
            ],
            "fold_1_test": [
             0.2728747707
            ],
            "fold_2_learn": [
             0.25008959
            ],
            "fold_2_test": [
             0.2665220405
            ],
            "iteration": 860
           },
           {
            "fold_0_learn": [
             0.2463275709
            ],
            "fold_0_test": [
             0.274190909
            ],
            "fold_1_learn": [
             0.244504082
            ],
            "fold_1_test": [
             0.2728765493
            ],
            "fold_2_learn": [
             0.2500648906
            ],
            "fold_2_test": [
             0.2665056129
            ],
            "iteration": 861
           },
           {
            "fold_0_learn": [
             0.2463103963
            ],
            "fold_0_test": [
             0.2741920883
            ],
            "fold_1_learn": [
             0.2444898652
            ],
            "fold_1_test": [
             0.2728798586
            ],
            "fold_2_learn": [
             0.2500099177
            ],
            "fold_2_test": [
             0.26649537
            ],
            "iteration": 862
           },
           {
            "fold_0_learn": [
             0.2463097327
            ],
            "fold_0_test": [
             0.2741906775
            ],
            "fold_1_learn": [
             0.2444622112
            ],
            "fold_1_test": [
             0.2728904351
            ],
            "fold_2_learn": [
             0.2499625824
            ],
            "fold_2_test": [
             0.2665036712
            ],
            "iteration": 863
           },
           {
            "fold_0_learn": [
             0.2462898296
            ],
            "fold_0_test": [
             0.274186875
            ],
            "fold_1_learn": [
             0.2444458228
            ],
            "fold_1_test": [
             0.2728943738
            ],
            "fold_2_learn": [
             0.2499468335
            ],
            "fold_2_test": [
             0.2665080579
            ],
            "iteration": 864,
            "passed_time": 250.9048602,
            "remaining_time": 39.15856199
           },
           {
            "fold_0_learn": [
             0.2462440653
            ],
            "fold_0_test": [
             0.2741849139
            ],
            "fold_1_learn": [
             0.244426257
            ],
            "fold_1_test": [
             0.2728918436
            ],
            "fold_2_learn": [
             0.2499191395
            ],
            "fold_2_test": [
             0.2665072427
            ],
            "iteration": 865
           },
           {
            "fold_0_learn": [
             0.2462374043
            ],
            "fold_0_test": [
             0.2741836303
            ],
            "fold_1_learn": [
             0.2443695756
            ],
            "fold_1_test": [
             0.2728833122
            ],
            "fold_2_learn": [
             0.2498690397
            ],
            "fold_2_test": [
             0.2664920125
            ],
            "iteration": 866
           },
           {
            "fold_0_learn": [
             0.2461699992
            ],
            "fold_0_test": [
             0.2741811153
            ],
            "fold_1_learn": [
             0.2443138326
            ],
            "fold_1_test": [
             0.2728915026
            ],
            "fold_2_learn": [
             0.2498538816
            ],
            "fold_2_test": [
             0.2664944672
            ],
            "iteration": 867
           },
           {
            "fold_0_learn": [
             0.246149925
            ],
            "fold_0_test": [
             0.2741838025
            ],
            "fold_1_learn": [
             0.2443008339
            ],
            "fold_1_test": [
             0.2729005449
            ],
            "fold_2_learn": [
             0.249834302
            ],
            "fold_2_test": [
             0.2664839543
            ],
            "iteration": 868
           },
           {
            "fold_0_learn": [
             0.2461093259
            ],
            "fold_0_test": [
             0.2741868922
            ],
            "fold_1_learn": [
             0.2442662295
            ],
            "fold_1_test": [
             0.2728800782
            ],
            "fold_2_learn": [
             0.2497766903
            ],
            "fold_2_test": [
             0.2664955612
            ],
            "iteration": 869,
            "passed_time": 252.5095102,
            "remaining_time": 37.73130611
           },
           {
            "fold_0_learn": [
             0.2460813052
            ],
            "fold_0_test": [
             0.2741980413
            ],
            "fold_1_learn": [
             0.2442189594
            ],
            "fold_1_test": [
             0.2728940966
            ],
            "fold_2_learn": [
             0.2496998535
            ],
            "fold_2_test": [
             0.2665090483
            ],
            "iteration": 870
           },
           {
            "fold_0_learn": [
             0.2460761997
            ],
            "fold_0_test": [
             0.274197845
            ],
            "fold_1_learn": [
             0.2441609665
            ],
            "fold_1_test": [
             0.2728981535
            ],
            "fold_2_learn": [
             0.2496634267
            ],
            "fold_2_test": [
             0.2665223745
            ],
            "iteration": 871
           },
           {
            "fold_0_learn": [
             0.246067398
            ],
            "fold_0_test": [
             0.2741965339
            ],
            "fold_1_learn": [
             0.2441352733
            ],
            "fold_1_test": [
             0.2729068919
            ],
            "fold_2_learn": [
             0.2496499422
            ],
            "fold_2_test": [
             0.2665199779
            ],
            "iteration": 872
           },
           {
            "fold_0_learn": [
             0.246034018
            ],
            "fold_0_test": [
             0.2741888492
            ],
            "fold_1_learn": [
             0.2441217643
            ],
            "fold_1_test": [
             0.2728973551
            ],
            "fold_2_learn": [
             0.249646781
            ],
            "fold_2_test": [
             0.2665229593
            ],
            "iteration": 873,
            "passed_time": 253.8838327,
            "remaining_time": 36.60110174
           },
           {
            "fold_0_learn": [
             0.2459881247
            ],
            "fold_0_test": [
             0.2742076174
            ],
            "fold_1_learn": [
             0.2440861819
            ],
            "fold_1_test": [
             0.2729195053
            ],
            "fold_2_learn": [
             0.2496092858
            ],
            "fold_2_test": [
             0.2665089204
            ],
            "iteration": 874
           },
           {
            "fold_0_learn": [
             0.2459350194
            ],
            "fold_0_test": [
             0.2741819921
            ],
            "fold_1_learn": [
             0.2440593497
            ],
            "fold_1_test": [
             0.2729050343
            ],
            "fold_2_learn": [
             0.2495676152
            ],
            "fold_2_test": [
             0.2665133229
            ],
            "iteration": 875
           },
           {
            "fold_0_learn": [
             0.2458994804
            ],
            "fold_0_test": [
             0.2741838875
            ],
            "fold_1_learn": [
             0.2440362398
            ],
            "fold_1_test": [
             0.2729178385
            ],
            "fold_2_learn": [
             0.2495382791
            ],
            "fold_2_test": [
             0.2665208997
            ],
            "iteration": 876
           },
           {
            "fold_0_learn": [
             0.2458340511
            ],
            "fold_0_test": [
             0.2742004552
            ],
            "fold_1_learn": [
             0.244027053
            ],
            "fold_1_test": [
             0.2729192976
            ],
            "fold_2_learn": [
             0.249515763
            ],
            "fold_2_test": [
             0.2665263249
            ],
            "iteration": 877
           },
           {
            "fold_0_learn": [
             0.2458180895
            ],
            "fold_0_test": [
             0.2741979594
            ],
            "fold_1_learn": [
             0.2440073952
            ],
            "fold_1_test": [
             0.2729220972
            ],
            "fold_2_learn": [
             0.2495099391
            ],
            "fold_2_test": [
             0.2665251394
            ],
            "iteration": 878,
            "passed_time": 255.6897651,
            "remaining_time": 35.19733968
           },
           {
            "fold_0_learn": [
             0.2457893974
            ],
            "fold_0_test": [
             0.2741902992
            ],
            "fold_1_learn": [
             0.2439817812
            ],
            "fold_1_test": [
             0.2729154804
            ],
            "fold_2_learn": [
             0.2494969389
            ],
            "fold_2_test": [
             0.266524906
            ],
            "iteration": 879
           },
           {
            "fold_0_learn": [
             0.2457492428
            ],
            "fold_0_test": [
             0.2741765907
            ],
            "fold_1_learn": [
             0.2439557649
            ],
            "fold_1_test": [
             0.2729330709
            ],
            "fold_2_learn": [
             0.2494646046
            ],
            "fold_2_test": [
             0.2665311389
            ],
            "iteration": 880
           },
           {
            "fold_0_learn": [
             0.2457164225
            ],
            "fold_0_test": [
             0.2741903615
            ],
            "fold_1_learn": [
             0.2439393576
            ],
            "fold_1_test": [
             0.2729233786
            ],
            "fold_2_learn": [
             0.2494231683
            ],
            "fold_2_test": [
             0.2665345925
            ],
            "iteration": 881
           },
           {
            "fold_0_learn": [
             0.2456945538
            ],
            "fold_0_test": [
             0.2741863621
            ],
            "fold_1_learn": [
             0.2439157227
            ],
            "fold_1_test": [
             0.2729286868
            ],
            "fold_2_learn": [
             0.2494152896
            ],
            "fold_2_test": [
             0.2665346284
            ],
            "iteration": 882
           },
           {
            "fold_0_learn": [
             0.2456929916
            ],
            "fold_0_test": [
             0.2741843156
            ],
            "fold_1_learn": [
             0.2438930532
            ],
            "fold_1_test": [
             0.2729352277
            ],
            "fold_2_learn": [
             0.2493446839
            ],
            "fold_2_test": [
             0.2665159866
            ],
            "iteration": 883,
            "passed_time": 257.2994788,
            "remaining_time": 33.76328002
           },
           {
            "fold_0_learn": [
             0.2456745053
            ],
            "fold_0_test": [
             0.2741849809
            ],
            "fold_1_learn": [
             0.2438405896
            ],
            "fold_1_test": [
             0.2729470993
            ],
            "fold_2_learn": [
             0.2493087442
            ],
            "fold_2_test": [
             0.2665251026
            ],
            "iteration": 884
           },
           {
            "fold_0_learn": [
             0.2456700974
            ],
            "fold_0_test": [
             0.2741830793
            ],
            "fold_1_learn": [
             0.2438058478
            ],
            "fold_1_test": [
             0.2729303635
            ],
            "fold_2_learn": [
             0.2492854763
            ],
            "fold_2_test": [
             0.2664991099
            ],
            "iteration": 885
           },
           {
            "fold_0_learn": [
             0.2456280042
            ],
            "fold_0_test": [
             0.2741846844
            ],
            "fold_1_learn": [
             0.2437993096
            ],
            "fold_1_test": [
             0.2729354587
            ],
            "fold_2_learn": [
             0.2492298562
            ],
            "fold_2_test": [
             0.26650438
            ],
            "iteration": 886
           },
           {
            "fold_0_learn": [
             0.2456033148
            ],
            "fold_0_test": [
             0.2741924702
            ],
            "fold_1_learn": [
             0.2437768731
            ],
            "fold_1_test": [
             0.2729357662
            ],
            "fold_2_learn": [
             0.2491905657
            ],
            "fold_2_test": [
             0.2664930365
            ],
            "iteration": 887
           },
           {
            "fold_0_learn": [
             0.2455427046
            ],
            "fold_0_test": [
             0.2742086753
            ],
            "fold_1_learn": [
             0.2437640336
            ],
            "fold_1_test": [
             0.2729395036
            ],
            "fold_2_learn": [
             0.2491830937
            ],
            "fold_2_test": [
             0.2664931985
            ],
            "iteration": 888,
            "passed_time": 258.8884444,
            "remaining_time": 32.32465392
           },
           {
            "fold_0_learn": [
             0.2454783459
            ],
            "fold_0_test": [
             0.274210526
            ],
            "fold_1_learn": [
             0.2437374281
            ],
            "fold_1_test": [
             0.2729446099
            ],
            "fold_2_learn": [
             0.2491705746
            ],
            "fold_2_test": [
             0.2664997115
            ],
            "iteration": 889
           },
           {
            "fold_0_learn": [
             0.2454363441
            ],
            "fold_0_test": [
             0.2742021472
            ],
            "fold_1_learn": [
             0.2437195289
            ],
            "fold_1_test": [
             0.2729461165
            ],
            "fold_2_learn": [
             0.2491436972
            ],
            "fold_2_test": [
             0.2665108505
            ],
            "iteration": 890
           },
           {
            "fold_0_learn": [
             0.2454002975
            ],
            "fold_0_test": [
             0.274192412
            ],
            "fold_1_learn": [
             0.2436736125
            ],
            "fold_1_test": [
             0.2729496878
            ],
            "fold_2_learn": [
             0.2491356391
            ],
            "fold_2_test": [
             0.2665080383
            ],
            "iteration": 891
           },
           {
            "fold_0_learn": [
             0.245360831
            ],
            "fold_0_test": [
             0.2742055862
            ],
            "fold_1_learn": [
             0.2436526205
            ],
            "fold_1_test": [
             0.2729681264
            ],
            "fold_2_learn": [
             0.2491151345
            ],
            "fold_2_test": [
             0.2664967112
            ],
            "iteration": 892
           },
           {
            "fold_0_learn": [
             0.2453560544
            ],
            "fold_0_test": [
             0.27420567
            ],
            "fold_1_learn": [
             0.243614399
            ],
            "fold_1_test": [
             0.2729696766
            ],
            "fold_2_learn": [
             0.2491013479
            ],
            "fold_2_test": [
             0.2664938416
            ],
            "iteration": 893,
            "passed_time": 260.4629637,
            "remaining_time": 30.88263328
           },
           {
            "fold_0_learn": [
             0.2453396228
            ],
            "fold_0_test": [
             0.2741937323
            ],
            "fold_1_learn": [
             0.2435629614
            ],
            "fold_1_test": [
             0.2729571614
            ],
            "fold_2_learn": [
             0.2490343188
            ],
            "fold_2_test": [
             0.2664801884
            ],
            "iteration": 894
           },
           {
            "fold_0_learn": [
             0.2452834992
            ],
            "fold_0_test": [
             0.2741725972
            ],
            "fold_1_learn": [
             0.2434904123
            ],
            "fold_1_test": [
             0.2729878536
            ],
            "fold_2_learn": [
             0.2490151768
            ],
            "fold_2_test": [
             0.2664812989
            ],
            "iteration": 895
           },
           {
            "fold_0_learn": [
             0.245228408
            ],
            "fold_0_test": [
             0.2741567445
            ],
            "fold_1_learn": [
             0.2434572174
            ],
            "fold_1_test": [
             0.2730012209
            ],
            "fold_2_learn": [
             0.2489993643
            ],
            "fold_2_test": [
             0.2664754381
            ],
            "iteration": 896
           },
           {
            "fold_0_learn": [
             0.2451917754
            ],
            "fold_0_test": [
             0.2741560066
            ],
            "fold_1_learn": [
             0.2434261344
            ],
            "fold_1_test": [
             0.272994385
            ],
            "fold_2_learn": [
             0.2489848346
            ],
            "fold_2_test": [
             0.2664879787
            ],
            "iteration": 897
           },
           {
            "fold_0_learn": [
             0.2451650562
            ],
            "fold_0_test": [
             0.2741491118
            ],
            "fold_1_learn": [
             0.2434137841
            ],
            "fold_1_test": [
             0.2730002655
            ],
            "fold_2_learn": [
             0.2489714
            ],
            "fold_2_test": [
             0.2664985541
            ],
            "iteration": 898,
            "passed_time": 262.2119651,
            "remaining_time": 29.45874135
           },
           {
            "fold_0_learn": [
             0.2451491648
            ],
            "fold_0_test": [
             0.2741429303
            ],
            "fold_1_learn": [
             0.2433882894
            ],
            "fold_1_test": [
             0.2730021023
            ],
            "fold_2_learn": [
             0.2489538539
            ],
            "fold_2_test": [
             0.2664997412
            ],
            "iteration": 899
           },
           {
            "fold_0_learn": [
             0.2451371348
            ],
            "fold_0_test": [
             0.274146269
            ],
            "fold_1_learn": [
             0.243347614
            ],
            "fold_1_test": [
             0.2730053872
            ],
            "fold_2_learn": [
             0.2489081152
            ],
            "fold_2_test": [
             0.26646566
            ],
            "iteration": 900
           },
           {
            "fold_0_learn": [
             0.2451173951
            ],
            "fold_0_test": [
             0.2741430186
            ],
            "fold_1_learn": [
             0.2433083852
            ],
            "fold_1_test": [
             0.273010874
            ],
            "fold_2_learn": [
             0.2488805431
            ],
            "fold_2_test": [
             0.266475043
            ],
            "iteration": 901
           },
           {
            "fold_0_learn": [
             0.2451029365
            ],
            "fold_0_test": [
             0.2741441996
            ],
            "fold_1_learn": [
             0.2432834549
            ],
            "fold_1_test": [
             0.2730160692
            ],
            "fold_2_learn": [
             0.2488576583
            ],
            "fold_2_test": [
             0.2664737968
            ],
            "iteration": 902
           },
           {
            "fold_0_learn": [
             0.245082156
            ],
            "fold_0_test": [
             0.2741316753
            ],
            "fold_1_learn": [
             0.2432554062
            ],
            "fold_1_test": [
             0.2730098308
            ],
            "fold_2_learn": [
             0.248842477
            ],
            "fold_2_test": [
             0.2664710249
            ],
            "iteration": 903,
            "passed_time": 263.9369692,
            "remaining_time": 28.02870469
           },
           {
            "fold_0_learn": [
             0.2450580349
            ],
            "fold_0_test": [
             0.2741353246
            ],
            "fold_1_learn": [
             0.24323334
            ],
            "fold_1_test": [
             0.2730002274
            ],
            "fold_2_learn": [
             0.2488165037
            ],
            "fold_2_test": [
             0.2664706363
            ],
            "iteration": 904
           },
           {
            "fold_0_learn": [
             0.2450098078
            ],
            "fold_0_test": [
             0.2741437133
            ],
            "fold_1_learn": [
             0.2432168776
            ],
            "fold_1_test": [
             0.2730069731
            ],
            "fold_2_learn": [
             0.2487966998
            ],
            "fold_2_test": [
             0.2664734009
            ],
            "iteration": 905
           },
           {
            "fold_0_learn": [
             0.2450014805
            ],
            "fold_0_test": [
             0.2741427406
            ],
            "fold_1_learn": [
             0.2432048354
            ],
            "fold_1_test": [
             0.2730052483
            ],
            "fold_2_learn": [
             0.248778228
            ],
            "fold_2_test": [
             0.2664720184
            ],
            "iteration": 906
           },
           {
            "fold_0_learn": [
             0.2449898733
            ],
            "fold_0_test": [
             0.2741595937
            ],
            "fold_1_learn": [
             0.2431770476
            ],
            "fold_1_test": [
             0.2729999679
            ],
            "fold_2_learn": [
             0.2487025479
            ],
            "fold_2_test": [
             0.2664612894
            ],
            "iteration": 907
           },
           {
            "fold_0_learn": [
             0.2449759018
            ],
            "fold_0_test": [
             0.2741518268
            ],
            "fold_1_learn": [
             0.2431552807
            ],
            "fold_1_test": [
             0.2729976614
            ],
            "fold_2_learn": [
             0.2486852037
            ],
            "fold_2_test": [
             0.2664589856
            ],
            "iteration": 908,
            "passed_time": 265.7060556,
            "remaining_time": 26.59983615
           },
           {
            "fold_0_learn": [
             0.244938106
            ],
            "fold_0_test": [
             0.2741472804
            ],
            "fold_1_learn": [
             0.2431475456
            ],
            "fold_1_test": [
             0.2730019711
            ],
            "fold_2_learn": [
             0.2486632188
            ],
            "fold_2_test": [
             0.2664609262
            ],
            "iteration": 909
           },
           {
            "fold_0_learn": [
             0.2449265235
            ],
            "fold_0_test": [
             0.2741468203
            ],
            "fold_1_learn": [
             0.2431155466
            ],
            "fold_1_test": [
             0.2730021831
            ],
            "fold_2_learn": [
             0.2486445625
            ],
            "fold_2_test": [
             0.2664497123
            ],
            "iteration": 910
           },
           {
            "fold_0_learn": [
             0.2449091546
            ],
            "fold_0_test": [
             0.2741676416
            ],
            "fold_1_learn": [
             0.2430932704
            ],
            "fold_1_test": [
             0.2730186883
            ],
            "fold_2_learn": [
             0.2486209036
            ],
            "fold_2_test": [
             0.2664444298
            ],
            "iteration": 911
           },
           {
            "fold_0_learn": [
             0.2448868766
            ],
            "fold_0_test": [
             0.2741642429
            ],
            "fold_1_learn": [
             0.2430687666
            ],
            "fold_1_test": [
             0.2730057433
            ],
            "fold_2_learn": [
             0.2486127604
            ],
            "fold_2_test": [
             0.2664467912
            ],
            "iteration": 912
           },
           {
            "fold_0_learn": [
             0.2448698829
            ],
            "fold_0_test": [
             0.2741643891
            ],
            "fold_1_learn": [
             0.243042147
            ],
            "fold_1_test": [
             0.2730042802
            ],
            "fold_2_learn": [
             0.24857904
            ],
            "fold_2_test": [
             0.2664592805
            ],
            "iteration": 913,
            "passed_time": 267.3828813,
            "remaining_time": 25.15856433
           },
           {
            "fold_0_learn": [
             0.2448329163
            ],
            "fold_0_test": [
             0.2741578378
            ],
            "fold_1_learn": [
             0.2430210294
            ],
            "fold_1_test": [
             0.2730065269
            ],
            "fold_2_learn": [
             0.2485536659
            ],
            "fold_2_test": [
             0.2664655842
            ],
            "iteration": 914
           },
           {
            "fold_0_learn": [
             0.244793488
            ],
            "fold_0_test": [
             0.2741700462
            ],
            "fold_1_learn": [
             0.2429666124
            ],
            "fold_1_test": [
             0.2730169524
            ],
            "fold_2_learn": [
             0.2485121092
            ],
            "fold_2_test": [
             0.2664761557
            ],
            "iteration": 915
           },
           {
            "fold_0_learn": [
             0.2447801026
            ],
            "fold_0_test": [
             0.2741719112
            ],
            "fold_1_learn": [
             0.2429127936
            ],
            "fold_1_test": [
             0.2730501516
            ],
            "fold_2_learn": [
             0.2484808054
            ],
            "fold_2_test": [
             0.2664759444
            ],
            "iteration": 916
           },
           {
            "fold_0_learn": [
             0.2447518512
            ],
            "fold_0_test": [
             0.2741651732
            ],
            "fold_1_learn": [
             0.2428702745
            ],
            "fold_1_test": [
             0.2730685086
            ],
            "fold_2_learn": [
             0.248438619
            ],
            "fold_2_test": [
             0.2664771183
            ],
            "iteration": 917,
            "passed_time": 268.8894478,
            "remaining_time": 24.01844741
           },
           {
            "fold_0_learn": [
             0.2447122107
            ],
            "fold_0_test": [
             0.2741662956
            ],
            "fold_1_learn": [
             0.2428533498
            ],
            "fold_1_test": [
             0.2730717914
            ],
            "fold_2_learn": [
             0.2484047198
            ],
            "fold_2_test": [
             0.2664747217
            ],
            "iteration": 918
           },
           {
            "fold_0_learn": [
             0.2447115607
            ],
            "fold_0_test": [
             0.2741649799
            ],
            "fold_1_learn": [
             0.2428313788
            ],
            "fold_1_test": [
             0.273050561
            ],
            "fold_2_learn": [
             0.248378909
            ],
            "fold_2_test": [
             0.2664747436
            ],
            "iteration": 919
           },
           {
            "fold_0_learn": [
             0.2446976898
            ],
            "fold_0_test": [
             0.274179941
            ],
            "fold_1_learn": [
             0.242788642
            ],
            "fold_1_test": [
             0.2730383831
            ],
            "fold_2_learn": [
             0.2483375021
            ],
            "fold_2_test": [
             0.2664823318
            ],
            "iteration": 920
           },
           {
            "fold_0_learn": [
             0.2446891458
            ],
            "fold_0_test": [
             0.2741816394
            ],
            "fold_1_learn": [
             0.242780246
            ],
            "fold_1_test": [
             0.2730397472
            ],
            "fold_2_learn": [
             0.2482750144
            ],
            "fold_2_test": [
             0.2664850757
            ],
            "iteration": 921
           },
           {
            "fold_0_learn": [
             0.2446882193
            ],
            "fold_0_test": [
             0.2741838461
            ],
            "fold_1_learn": [
             0.2427392877
            ],
            "fold_1_test": [
             0.2730486169
            ],
            "fold_2_learn": [
             0.248204063
            ],
            "fold_2_test": [
             0.266499473
            ],
            "iteration": 922,
            "passed_time": 270.5287593,
            "remaining_time": 22.56848804
           },
           {
            "fold_0_learn": [
             0.2446577441
            ],
            "fold_0_test": [
             0.2741857554
            ],
            "fold_1_learn": [
             0.2426829021
            ],
            "fold_1_test": [
             0.2730460648
            ],
            "fold_2_learn": [
             0.2481778177
            ],
            "fold_2_test": [
             0.2665024544
            ],
            "iteration": 923
           },
           {
            "fold_0_learn": [
             0.2446496809
            ],
            "fold_0_test": [
             0.2741875333
            ],
            "fold_1_learn": [
             0.2426680344
            ],
            "fold_1_test": [
             0.2730410812
            ],
            "fold_2_learn": [
             0.2481368751
            ],
            "fold_2_test": [
             0.266481741
            ],
            "iteration": 924
           },
           {
            "fold_0_learn": [
             0.2446280486
            ],
            "fold_0_test": [
             0.27418116
            ],
            "fold_1_learn": [
             0.242650509
            ],
            "fold_1_test": [
             0.2730441712
            ],
            "fold_2_learn": [
             0.2480704903
            ],
            "fold_2_test": [
             0.266507852
            ],
            "iteration": 925
           },
           {
            "fold_0_learn": [
             0.2446098389
            ],
            "fold_0_test": [
             0.2741770136
            ],
            "fold_1_learn": [
             0.2426245689
            ],
            "fold_1_test": [
             0.2730394323
            ],
            "fold_2_learn": [
             0.2480510589
            ],
            "fold_2_test": [
             0.2664694322
            ],
            "iteration": 926
           },
           {
            "fold_0_learn": [
             0.2445739084
            ],
            "fold_0_test": [
             0.2741670437
            ],
            "fold_1_learn": [
             0.2426000751
            ],
            "fold_1_test": [
             0.2730402168
            ],
            "fold_2_learn": [
             0.2480308098
            ],
            "fold_2_test": [
             0.2664683767
            ],
            "iteration": 927,
            "passed_time": 272.1821425,
            "remaining_time": 21.11758002
           },
           {
            "fold_0_learn": [
             0.244539412
            ],
            "fold_0_test": [
             0.2741617149
            ],
            "fold_1_learn": [
             0.2425597375
            ],
            "fold_1_test": [
             0.2730551644
            ],
            "fold_2_learn": [
             0.2480014118
            ],
            "fold_2_test": [
             0.2664643264
            ],
            "iteration": 928
           },
           {
            "fold_0_learn": [
             0.2444958217
            ],
            "fold_0_test": [
             0.2741654357
            ],
            "fold_1_learn": [
             0.2425423435
            ],
            "fold_1_test": [
             0.2730678618
            ],
            "fold_2_learn": [
             0.2479766238
            ],
            "fold_2_test": [
             0.2664660528
            ],
            "iteration": 929
           },
           {
            "fold_0_learn": [
             0.244468839
            ],
            "fold_0_test": [
             0.274179738
            ],
            "fold_1_learn": [
             0.2425337727
            ],
            "fold_1_test": [
             0.2730660452
            ],
            "fold_2_learn": [
             0.2479600209
            ],
            "fold_2_test": [
             0.2664635004
            ],
            "iteration": 930
           },
           {
            "fold_0_learn": [
             0.2444675241
            ],
            "fold_0_test": [
             0.2741779789
            ],
            "fold_1_learn": [
             0.2425142942
            ],
            "fold_1_test": [
             0.2730685235
            ],
            "fold_2_learn": [
             0.2479504249
            ],
            "fold_2_test": [
             0.2664664172
            ],
            "iteration": 931,
            "passed_time": 273.5356413,
            "remaining_time": 19.95753606
           },
           {
            "fold_0_learn": [
             0.2444612414
            ],
            "fold_0_test": [
             0.2741736249
            ],
            "fold_1_learn": [
             0.2424980428
            ],
            "fold_1_test": [
             0.2730730503
            ],
            "fold_2_learn": [
             0.2479389107
            ],
            "fold_2_test": [
             0.2664596679
            ],
            "iteration": 932
           },
           {
            "fold_0_learn": [
             0.2443928763
            ],
            "fold_0_test": [
             0.2741953877
            ],
            "fold_1_learn": [
             0.2424570847
            ],
            "fold_1_test": [
             0.2730642879
            ],
            "fold_2_learn": [
             0.247908785
            ],
            "fold_2_test": [
             0.2664642279
            ],
            "iteration": 933
           },
           {
            "fold_0_learn": [
             0.2443643158
            ],
            "fold_0_test": [
             0.2741946353
            ],
            "fold_1_learn": [
             0.242429376
            ],
            "fold_1_test": [
             0.2730585272
            ],
            "fold_2_learn": [
             0.2478938219
            ],
            "fold_2_test": [
             0.2664689619
            ],
            "iteration": 934
           },
           {
            "fold_0_learn": [
             0.2443183476
            ],
            "fold_0_test": [
             0.2741965978
            ],
            "fold_1_learn": [
             0.2423474734
            ],
            "fold_1_test": [
             0.2730656941
            ],
            "fold_2_learn": [
             0.2478720359
            ],
            "fold_2_test": [
             0.2664591647
            ],
            "iteration": 935
           },
           {
            "fold_0_learn": [
             0.2442893594
            ],
            "fold_0_test": [
             0.2741907451
            ],
            "fold_1_learn": [
             0.242321885
            ],
            "fold_1_test": [
             0.2730607097
            ],
            "fold_2_learn": [
             0.247827792
            ],
            "fold_2_test": [
             0.2664615244
            ],
            "iteration": 936,
            "passed_time": 275.2127854,
            "remaining_time": 18.50416807
           },
           {
            "fold_0_learn": [
             0.2442463462
            ],
            "fold_0_test": [
             0.2741870646
            ],
            "fold_1_learn": [
             0.2423152347
            ],
            "fold_1_test": [
             0.2730665948
            ],
            "fold_2_learn": [
             0.2477659225
            ],
            "fold_2_test": [
             0.2664382368
            ],
            "iteration": 937,
            "passed_time": 275.8600668,
            "remaining_time": 18.23382105
           },
           {
            "fold_0_learn": [
             0.2442223582
            ],
            "fold_0_test": [
             0.2741931955
            ],
            "fold_1_learn": [
             0.2422821095
            ],
            "fold_1_test": [
             0.2730704888
            ],
            "fold_2_learn": [
             0.2477577408
            ],
            "fold_2_test": [
             0.2664381877
            ],
            "iteration": 938
           },
           {
            "fold_0_learn": [
             0.244197195
            ],
            "fold_0_test": [
             0.27419484
            ],
            "fold_1_learn": [
             0.2422565381
            ],
            "fold_1_test": [
             0.2730625532
            ],
            "fold_2_learn": [
             0.2477422192
            ],
            "fold_2_test": [
             0.2664461335
            ],
            "iteration": 939
           },
           {
            "fold_0_learn": [
             0.244177418
            ],
            "fold_0_test": [
             0.274198638
            ],
            "fold_1_learn": [
             0.2422329958
            ],
            "fold_1_test": [
             0.273065132
            ],
            "fold_2_learn": [
             0.2477103121
            ],
            "fold_2_test": [
             0.2664492197
            ],
            "iteration": 940
           },
           {
            "fold_0_learn": [
             0.244154176
            ],
            "fold_0_test": [
             0.274197333
            ],
            "fold_1_learn": [
             0.2421795309
            ],
            "fold_1_test": [
             0.2730578448
            ],
            "fold_2_learn": [
             0.2476657489
            ],
            "fold_2_test": [
             0.266443088
            ],
            "iteration": 941
           },
           {
            "fold_0_learn": [
             0.2441358052
            ],
            "fold_0_test": [
             0.2741798327
            ],
            "fold_1_learn": [
             0.2421376046
            ],
            "fold_1_test": [
             0.2730661375
            ],
            "fold_2_learn": [
             0.2476493204
            ],
            "fold_2_test": [
             0.2664524863
            ],
            "iteration": 942,
            "passed_time": 277.4459308,
            "remaining_time": 16.77032667
           },
           {
            "fold_0_learn": [
             0.2441105092
            ],
            "fold_0_test": [
             0.2741750588
            ],
            "fold_1_learn": [
             0.2421143307
            ],
            "fold_1_test": [
             0.2730664751
            ],
            "fold_2_learn": [
             0.2476098372
            ],
            "fold_2_test": [
             0.2664496376
            ],
            "iteration": 943
           },
           {
            "fold_0_learn": [
             0.2440981965
            ],
            "fold_0_test": [
             0.274174475
            ],
            "fold_1_learn": [
             0.2420928086
            ],
            "fold_1_test": [
             0.273083591
            ],
            "fold_2_learn": [
             0.2475856415
            ],
            "fold_2_test": [
             0.266451416
            ],
            "iteration": 944
           },
           {
            "fold_0_learn": [
             0.2440763566
            ],
            "fold_0_test": [
             0.2741736858
            ],
            "fold_1_learn": [
             0.2420400406
            ],
            "fold_1_test": [
             0.273077678
            ],
            "fold_2_learn": [
             0.2475488459
            ],
            "fold_2_test": [
             0.2664530856
            ],
            "iteration": 945
           },
           {
            "fold_0_learn": [
             0.2440552851
            ],
            "fold_0_test": [
             0.2741638063
            ],
            "fold_1_learn": [
             0.2420126838
            ],
            "fold_1_test": [
             0.273066731
            ],
            "fold_2_learn": [
             0.2475319361
            ],
            "fold_2_test": [
             0.2664656763
            ],
            "iteration": 946,
            "passed_time": 278.970597,
            "remaining_time": 15.61292676
           },
           {
            "fold_0_learn": [
             0.2440374044
            ],
            "fold_0_test": [
             0.2741717099
            ],
            "fold_1_learn": [
             0.241964568
            ],
            "fold_1_test": [
             0.2730659372
            ],
            "fold_2_learn": [
             0.2475162983
            ],
            "fold_2_test": [
             0.2664640679
            ],
            "iteration": 947
           },
           {
            "fold_0_learn": [
             0.243985211
            ],
            "fold_0_test": [
             0.274174669
            ],
            "fold_1_learn": [
             0.2419423337
            ],
            "fold_1_test": [
             0.2730733028
            ],
            "fold_2_learn": [
             0.247500367
            ],
            "fold_2_test": [
             0.2664656688
            ],
            "iteration": 948
           },
           {
            "fold_0_learn": [
             0.2439845928
            ],
            "fold_0_test": [
             0.2741733479
            ],
            "fold_1_learn": [
             0.241905928
            ],
            "fold_1_test": [
             0.2730688414
            ],
            "fold_2_learn": [
             0.2474577466
            ],
            "fold_2_test": [
             0.266440191
            ],
            "iteration": 949
           },
           {
            "fold_0_learn": [
             0.2439502209
            ],
            "fold_0_test": [
             0.2741638343
            ],
            "fold_1_learn": [
             0.2418891779
            ],
            "fold_1_test": [
             0.2730724733
            ],
            "fold_2_learn": [
             0.2473933329
            ],
            "fold_2_test": [
             0.2664531525
            ],
            "iteration": 950
           },
           {
            "fold_0_learn": [
             0.2439157373
            ],
            "fold_0_test": [
             0.2741805168
            ],
            "fold_1_learn": [
             0.2418690394
            ],
            "fold_1_test": [
             0.2730734215
            ],
            "fold_2_learn": [
             0.2473370347
            ],
            "fold_2_test": [
             0.2664423965
            ],
            "iteration": 951,
            "passed_time": 280.6412642,
            "remaining_time": 14.14997971
           },
           {
            "fold_0_learn": [
             0.2438686522
            ],
            "fold_0_test": [
             0.2741637672
            ],
            "fold_1_learn": [
             0.2418079038
            ],
            "fold_1_test": [
             0.273087786
            ],
            "fold_2_learn": [
             0.2472996882
            ],
            "fold_2_test": [
             0.2664401299
            ],
            "iteration": 952
           },
           {
            "fold_0_learn": [
             0.2438385631
            ],
            "fold_0_test": [
             0.2741697811
            ],
            "fold_1_learn": [
             0.2417736367
            ],
            "fold_1_test": [
             0.2730801868
            ],
            "fold_2_learn": [
             0.2472711044
            ],
            "fold_2_test": [
             0.2664596564
            ],
            "iteration": 953
           },
           {
            "fold_0_learn": [
             0.2438238046
            ],
            "fold_0_test": [
             0.2741716772
            ],
            "fold_1_learn": [
             0.2417453886
            ],
            "fold_1_test": [
             0.2730872403
            ],
            "fold_2_learn": [
             0.247252975
            ],
            "fold_2_test": [
             0.2664227728
            ],
            "iteration": 954,
            "passed_time": 282.0130766,
            "remaining_time": 13.28857429
           },
           {
            "fold_0_learn": [
             0.2437513782
            ],
            "fold_0_test": [
             0.2741482166
            ],
            "fold_1_learn": [
             0.2416780859
            ],
            "fold_1_test": [
             0.2731159325
            ],
            "fold_2_learn": [
             0.2472446694
            ],
            "fold_2_test": [
             0.2664259913
            ],
            "iteration": 955
           },
           {
            "fold_0_learn": [
             0.243734467
            ],
            "fold_0_test": [
             0.2741507399
            ],
            "fold_1_learn": [
             0.2416449089
            ],
            "fold_1_test": [
             0.2731202243
            ],
            "fold_2_learn": [
             0.2472112342
            ],
            "fold_2_test": [
             0.2664080687
            ],
            "iteration": 956
           },
           {
            "fold_0_learn": [
             0.243733614
            ],
            "fold_0_test": [
             0.2741527507
            ],
            "fold_1_learn": [
             0.2416231832
            ],
            "fold_1_test": [
             0.2731173783
            ],
            "fold_2_learn": [
             0.2471920684
            ],
            "fold_2_test": [
             0.2664211485
            ],
            "iteration": 957
           },
           {
            "fold_0_learn": [
             0.2436864971
            ],
            "fold_0_test": [
             0.2741543669
            ],
            "fold_1_learn": [
             0.2416045659
            ],
            "fold_1_test": [
             0.2731144897
            ],
            "fold_2_learn": [
             0.2471645326
            ],
            "fold_2_test": [
             0.2664278996
            ],
            "iteration": 958
           },
           {
            "fold_0_learn": [
             0.2436685603
            ],
            "fold_0_test": [
             0.2741639337
            ],
            "fold_1_learn": [
             0.2415521613
            ],
            "fold_1_test": [
             0.2730972143
            ],
            "fold_2_learn": [
             0.2471212053
            ],
            "fold_2_test": [
             0.266416276
            ],
            "iteration": 959,
            "passed_time": 283.755247,
            "remaining_time": 11.82313529
           },
           {
            "fold_0_learn": [
             0.2436363141
            ],
            "fold_0_test": [
             0.2741580006
            ],
            "fold_1_learn": [
             0.2415016213
            ],
            "fold_1_test": [
             0.2731176551
            ],
            "fold_2_learn": [
             0.2470894022
            ],
            "fold_2_test": [
             0.2664328936
            ],
            "iteration": 960
           },
           {
            "fold_0_learn": [
             0.2435848985
            ],
            "fold_0_test": [
             0.2741598685
            ],
            "fold_1_learn": [
             0.2414817404
            ],
            "fold_1_test": [
             0.27311535
            ],
            "fold_2_learn": [
             0.2470493225
            ],
            "fold_2_test": [
             0.2664373512
            ],
            "iteration": 961
           },
           {
            "fold_0_learn": [
             0.2435726079
            ],
            "fold_0_test": [
             0.2741583386
            ],
            "fold_1_learn": [
             0.2414310589
            ],
            "fold_1_test": [
             0.2731309204
            ],
            "fold_2_learn": [
             0.24703134
            ],
            "fold_2_test": [
             0.266427814
            ],
            "iteration": 962
           },
           {
            "fold_0_learn": [
             0.2435085296
            ],
            "fold_0_test": [
             0.2741819485
            ],
            "fold_1_learn": [
             0.241416778
            ],
            "fold_1_test": [
             0.2731267252
            ],
            "fold_2_learn": [
             0.2470089926
            ],
            "fold_2_test": [
             0.2664140042
            ],
            "iteration": 963,
            "passed_time": 285.271103,
            "remaining_time": 10.65327771
           },
           {
            "fold_0_learn": [
             0.243491328
            ],
            "fold_0_test": [
             0.2741773142
            ],
            "fold_1_learn": [
             0.2413750635
            ],
            "fold_1_test": [
             0.2731188213
            ],
            "fold_2_learn": [
             0.2469689505
            ],
            "fold_2_test": [
             0.2664174487
            ],
            "iteration": 964
           },
           {
            "fold_0_learn": [
             0.2434216629
            ],
            "fold_0_test": [
             0.2741778872
            ],
            "fold_1_learn": [
             0.2413223992
            ],
            "fold_1_test": [
             0.2731360956
            ],
            "fold_2_learn": [
             0.2469390941
            ],
            "fold_2_test": [
             0.2664213397
            ],
            "iteration": 965
           },
           {
            "fold_0_learn": [
             0.2434078422
            ],
            "fold_0_test": [
             0.2741801638
            ],
            "fold_1_learn": [
             0.2413129222
            ],
            "fold_1_test": [
             0.273141883
            ],
            "fold_2_learn": [
             0.2469244106
            ],
            "fold_2_test": [
             0.2664197869
            ],
            "iteration": 966
           },
           {
            "fold_0_learn": [
             0.2434044328
            ],
            "fold_0_test": [
             0.2741780575
            ],
            "fold_1_learn": [
             0.2412705337
            ],
            "fold_1_test": [
             0.2731434178
            ],
            "fold_2_learn": [
             0.246902648
            ],
            "fold_2_test": [
             0.2664194396
            ],
            "iteration": 967,
            "passed_time": 286.7474646,
            "remaining_time": 9.479255028
           },
           {
            "fold_0_learn": [
             0.2433950819
            ],
            "fold_0_test": [
             0.274171197
            ],
            "fold_1_learn": [
             0.2412174573
            ],
            "fold_1_test": [
             0.2731331212
            ],
            "fold_2_learn": [
             0.2468772475
            ],
            "fold_2_test": [
             0.266408971
            ],
            "iteration": 968
           },
           {
            "fold_0_learn": [
             0.243350772
            ],
            "fold_0_test": [
             0.2741672286
            ],
            "fold_1_learn": [
             0.241173956
            ],
            "fold_1_test": [
             0.2731390652
            ],
            "fold_2_learn": [
             0.2468693191
            ],
            "fold_2_test": [
             0.2663999658
            ],
            "iteration": 969
           },
           {
            "fold_0_learn": [
             0.2433282598
            ],
            "fold_0_test": [
             0.2741603842
            ],
            "fold_1_learn": [
             0.2411635184
            ],
            "fold_1_test": [
             0.2731427154
            ],
            "fold_2_learn": [
             0.2468366221
            ],
            "fold_2_test": [
             0.2664039385
            ],
            "iteration": 970
           },
           {
            "fold_0_learn": [
             0.2432760182
            ],
            "fold_0_test": [
             0.2741786803
            ],
            "fold_1_learn": [
             0.241093198
            ],
            "fold_1_test": [
             0.2731807792
            ],
            "fold_2_learn": [
             0.2468170356
            ],
            "fold_2_test": [
             0.2664058285
            ],
            "iteration": 971,
            "passed_time": 288.3556983,
            "remaining_time": 8.30654275
           },
           {
            "fold_0_learn": [
             0.2432112489
            ],
            "fold_0_test": [
             0.2741817726
            ],
            "fold_1_learn": [
             0.2410730572
            ],
            "fold_1_test": [
             0.2731897537
            ],
            "fold_2_learn": [
             0.246803198
            ],
            "fold_2_test": [
             0.2664037442
            ],
            "iteration": 972
           },
           {
            "fold_0_learn": [
             0.2431775785
            ],
            "fold_0_test": [
             0.2741826769
            ],
            "fold_1_learn": [
             0.2410487388
            ],
            "fold_1_test": [
             0.2732020051
            ],
            "fold_2_learn": [
             0.2467697968
            ],
            "fold_2_test": [
             0.2663946609
            ],
            "iteration": 973
           },
           {
            "fold_0_learn": [
             0.2431650471
            ],
            "fold_0_test": [
             0.2741757041
            ],
            "fold_1_learn": [
             0.2409837088
            ],
            "fold_1_test": [
             0.2731992239
            ],
            "fold_2_learn": [
             0.2467484063
            ],
            "fold_2_test": [
             0.2664094538
            ],
            "iteration": 974
           },
           {
            "fold_0_learn": [
             0.2431486946
            ],
            "fold_0_test": [
             0.274180081
            ],
            "fold_1_learn": [
             0.2409364966
            ],
            "fold_1_test": [
             0.2732118984
            ],
            "fold_2_learn": [
             0.2467271386
            ],
            "fold_2_test": [
             0.2663954221
            ],
            "iteration": 975,
            "passed_time": 289.8102133,
            "remaining_time": 7.126480655
           },
           {
            "fold_0_learn": [
             0.2431278933
            ],
            "fold_0_test": [
             0.2741684441
            ],
            "fold_1_learn": [
             0.2409045031
            ],
            "fold_1_test": [
             0.2731944464
            ],
            "fold_2_learn": [
             0.2467145195
            ],
            "fold_2_test": [
             0.2663938785
            ],
            "iteration": 976
           },
           {
            "fold_0_learn": [
             0.2430940318
            ],
            "fold_0_test": [
             0.2741788797
            ],
            "fold_1_learn": [
             0.2409015843
            ],
            "fold_1_test": [
             0.2731980161
            ],
            "fold_2_learn": [
             0.2466778386
            ],
            "fold_2_test": [
             0.2663971124
            ],
            "iteration": 977
           },
           {
            "fold_0_learn": [
             0.2430755952
            ],
            "fold_0_test": [
             0.2741959744
            ],
            "fold_1_learn": [
             0.240878442
            ],
            "fold_1_test": [
             0.2731976859
            ],
            "fold_2_learn": [
             0.2466570213
            ],
            "fold_2_test": [
             0.2663847926
            ],
            "iteration": 978
           },
           {
            "fold_0_learn": [
             0.2430245167
            ],
            "fold_0_test": [
             0.2741945493
            ],
            "fold_1_learn": [
             0.2408584437
            ],
            "fold_1_test": [
             0.273202684
            ],
            "fold_2_learn": [
             0.246633078
            ],
            "fold_2_test": [
             0.2663751718
            ],
            "iteration": 979
           },
           {
            "fold_0_learn": [
             0.2430083586
            ],
            "fold_0_test": [
             0.2741977879
            ],
            "fold_1_learn": [
             0.2408379423
            ],
            "fold_1_test": [
             0.2731997174
            ],
            "fold_2_learn": [
             0.2466016144
            ],
            "fold_2_test": [
             0.2663697115
            ],
            "iteration": 980
           },
           {
            "fold_0_learn": [
             0.2429862092
            ],
            "fold_0_test": [
             0.2742133562
            ],
            "fold_1_learn": [
             0.2408141727
            ],
            "fold_1_test": [
             0.2731958205
            ],
            "fold_2_learn": [
             0.2465605872
            ],
            "fold_2_test": [
             0.2663572127
            ],
            "iteration": 981,
            "passed_time": 291.7737474,
            "remaining_time": 5.348194963
           },
           {
            "fold_0_learn": [
             0.242972666
            ],
            "fold_0_test": [
             0.2742104893
            ],
            "fold_1_learn": [
             0.2407940498
            ],
            "fold_1_test": [
             0.2731955525
            ],
            "fold_2_learn": [
             0.2465184869
            ],
            "fold_2_test": [
             0.2663537704
            ],
            "iteration": 982
           },
           {
            "fold_0_learn": [
             0.2429551671
            ],
            "fold_0_test": [
             0.2742293788
            ],
            "fold_1_learn": [
             0.2407755312
            ],
            "fold_1_test": [
             0.2732066874
            ],
            "fold_2_learn": [
             0.2464843094
            ],
            "fold_2_test": [
             0.2663574485
            ],
            "iteration": 983
           },
           {
            "fold_0_learn": [
             0.2429174317
            ],
            "fold_0_test": [
             0.2742255434
            ],
            "fold_1_learn": [
             0.2407465002
            ],
            "fold_1_test": [
             0.2732121784
            ],
            "fold_2_learn": [
             0.2464731848
            ],
            "fold_2_test": [
             0.2663541798
            ],
            "iteration": 984
           },
           {
            "fold_0_learn": [
             0.2429051038
            ],
            "fold_0_test": [
             0.274221271
            ],
            "fold_1_learn": [
             0.240702324
            ],
            "fold_1_test": [
             0.2732237164
            ],
            "fold_2_learn": [
             0.2464622982
            ],
            "fold_2_test": [
             0.2663503987
            ],
            "iteration": 985
           },
           {
            "fold_0_learn": [
             0.2428709896
            ],
            "fold_0_test": [
             0.274225159
            ],
            "fold_1_learn": [
             0.240674895
            ],
            "fold_1_test": [
             0.2732126917
            ],
            "fold_2_learn": [
             0.2464460059
            ],
            "fold_2_test": [
             0.2663580875
            ],
            "iteration": 986
           },
           {
            "fold_0_learn": [
             0.2428544917
            ],
            "fold_0_test": [
             0.2742217522
            ],
            "fold_1_learn": [
             0.2406480949
            ],
            "fold_1_test": [
             0.2732165184
            ],
            "fold_2_learn": [
             0.2464028335
            ],
            "fold_2_test": [
             0.2663547665
            ],
            "iteration": 987,
            "passed_time": 293.6137509,
            "remaining_time": 3.566158918
           },
           {
            "fold_0_learn": [
             0.2428191689
            ],
            "fold_0_test": [
             0.2742211708
            ],
            "fold_1_learn": [
             0.240644807
            ],
            "fold_1_test": [
             0.2732135859
            ],
            "fold_2_learn": [
             0.2463431361
            ],
            "fold_2_test": [
             0.2663564808
            ],
            "iteration": 988
           },
           {
            "fold_0_learn": [
             0.2428006321
            ],
            "fold_0_test": [
             0.2742218173
            ],
            "fold_1_learn": [
             0.2406225911
            ],
            "fold_1_test": [
             0.2732309426
            ],
            "fold_2_learn": [
             0.2462752833
            ],
            "fold_2_test": [
             0.2663720111
            ],
            "iteration": 989
           },
           {
            "fold_0_learn": [
             0.2427945432
            ],
            "fold_0_test": [
             0.2742170795
            ],
            "fold_1_learn": [
             0.240592209
            ],
            "fold_1_test": [
             0.2732376138
            ],
            "fold_2_learn": [
             0.2462323402
            ],
            "fold_2_test": [
             0.2663281051
            ],
            "iteration": 990
           },
           {
            "fold_0_learn": [
             0.2427709885
            ],
            "fold_0_test": [
             0.2742060843
            ],
            "fold_1_learn": [
             0.2405731315
            ],
            "fold_1_test": [
             0.2732238436
            ],
            "fold_2_learn": [
             0.2462000106
            ],
            "fold_2_test": [
             0.266325384
            ],
            "iteration": 991,
            "passed_time": 295.0676827,
            "remaining_time": 2.379578086
           },
           {
            "fold_0_learn": [
             0.2427440213
            ],
            "fold_0_test": [
             0.2742044754
            ],
            "fold_1_learn": [
             0.2405496957
            ],
            "fold_1_test": [
             0.2732139041
            ],
            "fold_2_learn": [
             0.2461687045
            ],
            "fold_2_test": [
             0.266321384
            ],
            "iteration": 992
           },
           {
            "fold_0_learn": [
             0.2426803863
            ],
            "fold_0_test": [
             0.2741812167
            ],
            "fold_1_learn": [
             0.2405275627
            ],
            "fold_1_test": [
             0.2732167369
            ],
            "fold_2_learn": [
             0.2461353626
            ],
            "fold_2_test": [
             0.2663207615
            ],
            "iteration": 993
           },
           {
            "fold_0_learn": [
             0.2426629801
            ],
            "fold_0_test": [
             0.2741867911
            ],
            "fold_1_learn": [
             0.2404912999
            ],
            "fold_1_test": [
             0.2732228248
            ],
            "fold_2_learn": [
             0.2461002977
            ],
            "fold_2_test": [
             0.266318946
            ],
            "iteration": 994
           },
           {
            "fold_0_learn": [
             0.2426623933
            ],
            "fold_0_test": [
             0.274185483
            ],
            "fold_1_learn": [
             0.2404357568
            ],
            "fold_1_test": [
             0.2731918161
            ],
            "fold_2_learn": [
             0.2460694154
            ],
            "fold_2_test": [
             0.2663270969
            ],
            "iteration": 995
           },
           {
            "fold_0_learn": [
             0.2426278547
            ],
            "fold_0_test": [
             0.2742081064
            ],
            "fold_1_learn": [
             0.2403946034
            ],
            "fold_1_test": [
             0.2731793009
            ],
            "fold_2_learn": [
             0.2460283797
            ],
            "fold_2_test": [
             0.2663333482
            ],
            "iteration": 996,
            "passed_time": 296.6360886,
            "remaining_time": 0.8925860238
           },
           {
            "fold_0_learn": [
             0.2426063389
            ],
            "fold_0_test": [
             0.2741956133
            ],
            "fold_1_learn": [
             0.2403801229
            ],
            "fold_1_test": [
             0.2731814249
            ],
            "fold_2_learn": [
             0.2459596128
            ],
            "fold_2_test": [
             0.2663119851
            ],
            "iteration": 997
           },
           {
            "fold_0_learn": [
             0.2425859653
            ],
            "fold_0_test": [
             0.2741961274
            ],
            "fold_1_learn": [
             0.2403713204
            ],
            "fold_1_test": [
             0.2731831873
            ],
            "fold_2_learn": [
             0.2459316131
            ],
            "fold_2_test": [
             0.266324586
            ],
            "iteration": 998
           },
           {
            "fold_0_learn": [
             0.2425730719
            ],
            "fold_0_test": [
             0.2741892817
            ],
            "fold_1_learn": [
             0.2403408412
            ],
            "fold_1_test": [
             0.27319
            ],
            "fold_2_learn": [
             0.245917686
            ],
            "fold_2_test": [
             0.2663290207
            ],
            "iteration": 999,
            "passed_time": 297.5986413,
            "remaining_time": 0
           }
          ],
          "meta": {
           "iteration_count": 1000,
           "launch_mode": "CV",
           "learn_metrics": [
            {
             "best_value": "Min",
             "name": "Logloss"
            }
           ],
           "learn_sets": [
            "fold_0_learn",
            "fold_1_learn",
            "fold_2_learn"
           ],
           "name": "experiment",
           "parameters": "",
           "test_metrics": [
            {
             "best_value": "Min",
             "name": "Logloss"
            }
           ],
           "test_sets": [
            "fold_0_test",
            "fold_1_test",
            "fold_2_test"
           ]
          }
         },
         "passed_iterations": 999,
         "total_iterations": 1000
        },
        "name": "catboost_info",
        "path": "catboost_info"
       }
      },
      "layout": "IPY_MODEL_3c41e0c0b17a4b0a9aa200be38e2a49d"
     }
    },
    "d3b909bb7ed449ef83206aae5689be44": {
     "model_module": "@jupyter-widgets/controls",
     "model_module_version": "1.5.0",
     "model_name": "HBoxModel",
     "state": {
      "_dom_classes": [],
      "_model_module": "@jupyter-widgets/controls",
      "_model_module_version": "1.5.0",
      "_model_name": "HBoxModel",
      "_view_count": null,
      "_view_module": "@jupyter-widgets/controls",
      "_view_module_version": "1.5.0",
      "_view_name": "HBoxView",
      "box_style": "",
      "children": [
       "IPY_MODEL_57adb5033d66497095f89eea77409666",
       "IPY_MODEL_1620fef0d32f463a9679f208224312bc",
       "IPY_MODEL_3588c9e253cb4950aceda16625c39c74"
      ],
      "layout": "IPY_MODEL_27c634f04a2e42e4b2c78619ebfa8c9c"
     }
    },
    "ef62fd419a3a48588bceaefaefe6df29": {
     "model_module": "@jupyter-widgets/base",
     "model_module_version": "1.2.0",
     "model_name": "LayoutModel",
     "state": {
      "_model_module": "@jupyter-widgets/base",
      "_model_module_version": "1.2.0",
      "_model_name": "LayoutModel",
      "_view_count": null,
      "_view_module": "@jupyter-widgets/base",
      "_view_module_version": "1.2.0",
      "_view_name": "LayoutView",
      "align_content": null,
      "align_items": null,
      "align_self": null,
      "border": null,
      "bottom": null,
      "display": null,
      "flex": null,
      "flex_flow": null,
      "grid_area": null,
      "grid_auto_columns": null,
      "grid_auto_flow": null,
      "grid_auto_rows": null,
      "grid_column": null,
      "grid_gap": null,
      "grid_row": null,
      "grid_template_areas": null,
      "grid_template_columns": null,
      "grid_template_rows": null,
      "height": null,
      "justify_content": null,
      "justify_items": null,
      "left": null,
      "margin": null,
      "max_height": null,
      "max_width": null,
      "min_height": null,
      "min_width": null,
      "object_fit": null,
      "object_position": null,
      "order": null,
      "overflow": null,
      "overflow_x": null,
      "overflow_y": null,
      "padding": null,
      "right": null,
      "top": null,
      "visibility": null,
      "width": null
     }
    }
   }
  }
 },
 "nbformat": 4,
 "nbformat_minor": 4
}
