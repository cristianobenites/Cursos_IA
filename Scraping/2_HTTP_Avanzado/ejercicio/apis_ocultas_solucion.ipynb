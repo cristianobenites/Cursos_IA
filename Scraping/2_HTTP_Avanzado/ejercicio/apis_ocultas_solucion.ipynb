{
  "cells": [
    {
      "cell_type": "markdown",
      "metadata": {
        "id": "WzQ-fs485J2g"
      },
      "source": [
        "# Ejercicios APIs Ocultas"
      ]
    },
    {
      "cell_type": "markdown",
      "metadata": {
        "id": "IAPUL4185J2i"
      },
      "source": [
        "## Argenprop\n",
        "A partir del siguiente [link](https://www.argenprop.com/departamento-venta-barrio-palermo) con departamentos en venta en Palermo, se pide obtener los siguientes datos utilizando la API oculta de argenprop:\n",
        "- Id del aviso\n",
        "- Monto\n",
        "- Superficie\n",
        "- Direccion\n",
        "- Cantidad de ambientes\n",
        "\n",
        "Nota: Se pueden agregar más datos de interés"
      ]
    },
    {
      "cell_type": "code",
      "execution_count": 1,
      "metadata": {
        "id": "MIhv4BFq5J2k"
      },
      "outputs": [],
      "source": [
        "import requests\n",
        "import re\n",
        "\n",
        "# Elegi el departamento con este link\n",
        "departamento_link = 'https://www.argenprop.com/departamento-en-venta-en-palermo-hollywood-4-ambientes--12071730'\n",
        "api_url = 'https://api.sosiva451.com/avisos/{id}'\n",
        "\n",
        "departamento_id = re.findall(r'--(\\d+)', departamento_link)[0]\n",
        "\n",
        "response = requests.get(api_url.format(id=departamento_id)).json()"
      ]
    },
    {
      "cell_type": "code",
      "execution_count": 2,
      "metadata": {
        "colab": {
          "base_uri": "https://localhost:8080/"
        },
        "id": "h87J9WZeLJpY",
        "outputId": "8bc43f47-0b33-44cc-8d2e-13473134011f"
      },
      "outputs": [
        {
          "name": "stdout",
          "output_type": "stream",
          "text": [
            "IdAviso                     : 12071730\n",
            "Visible_b                   : True\n",
            "IdEstadoAviso_i             : 1\n",
            "CantidadFotos_i             : 26\n",
            "Multimedia_s                : [{'Id': 794150132, 'IdTipoMultimedia': 1, 'Url': 'https://static1.sosiva451.com/03717021/db864282-85bc-4478-9572-c3e83f96675d.jpg', 'Xsmall': 'https://static1.sosiva451.com/03717021/db864282-85bc-4478-9572-c3e83f96675d_xsmall.jpg', 'Xsmall_U': 'https://static1.sosiva451.com/03717021/db864282-85bc-4478-9572-c3e83f96675d_u_xsmall.jpg', 'Small': 'https://static1.sosiva451.com/03717021/db864282-85bc-4478-9572-c3e83f96675d_small.jpg', 'Small_U': 'https://static1.sosiva451.com/03717021/db864282-85bc-4478-9572-c3e83f96675d_u_small.jpg', 'Medium': 'https://static1.sosiva451.com/03717021/db864282-85bc-4478-9572-c3e83f96675d_medium.jpg', 'Medium_U': 'https://static1.sosiva451.com/03717021/db864282-85bc-4478-9572-c3e83f96675d_u_medium.jpg', 'Large': 'https://static1.sosiva451.com/03717021/db864282-85bc-4478-9572-c3e83f96675d_large.jpg', 'Large_U': 'https://static1.sosiva451.com/03717021/db864282-85bc-4478-9572-c3e83f96675d_u_large.jpg', 'Orden': 0}, {'Id': 794150133, 'IdTipoMultimedia': 1, 'Url': 'https://static1.sosiva451.com/03717021/f03d7a0d-7232-4818-a05b-32a0569aac9c.jpg', 'Xsmall': 'https://static1.sosiva451.com/03717021/f03d7a0d-7232-4818-a05b-32a0569aac9c_xsmall.jpg', 'Xsmall_U': 'https://static1.sosiva451.com/03717021/f03d7a0d-7232-4818-a05b-32a0569aac9c_u_xsmall.jpg', 'Small': 'https://static1.sosiva451.com/03717021/f03d7a0d-7232-4818-a05b-32a0569aac9c_small.jpg', 'Small_U': 'https://static1.sosiva451.com/03717021/f03d7a0d-7232-4818-a05b-32a0569aac9c_u_small.jpg', 'Medium': 'https://static1.sosiva451.com/03717021/f03d7a0d-7232-4818-a05b-32a0569aac9c_medium.jpg', 'Medium_U': 'https://static1.sosiva451.com/03717021/f03d7a0d-7232-4818-a05b-32a0569aac9c_u_medium.jpg', 'Large': 'https://static1.sosiva451.com/03717021/f03d7a0d-7232-4818-a05b-32a0569aac9c_large.jpg', 'Large_U': 'https://static1.sosiva451.com/03717021/f03d7a0d-7232-4818-a05b-32a0569aac9c_u_large.jpg', 'Orden': 1}, {'Id': 794150134, 'IdTipoMultimedia': 1, 'Url': 'https://static1.sosiva451.com/03717021/8f4c21b7-7992-405a-8b6e-78b3be908211.jpg', 'Xsmall': 'https://static1.sosiva451.com/03717021/8f4c21b7-7992-405a-8b6e-78b3be908211_xsmall.jpg', 'Xsmall_U': 'https://static1.sosiva451.com/03717021/8f4c21b7-7992-405a-8b6e-78b3be908211_u_xsmall.jpg', 'Small': 'https://static1.sosiva451.com/03717021/8f4c21b7-7992-405a-8b6e-78b3be908211_small.jpg', 'Small_U': 'https://static1.sosiva451.com/03717021/8f4c21b7-7992-405a-8b6e-78b3be908211_u_small.jpg', 'Medium': 'https://static1.sosiva451.com/03717021/8f4c21b7-7992-405a-8b6e-78b3be908211_medium.jpg', 'Medium_U': 'https://static1.sosiva451.com/03717021/8f4c21b7-7992-405a-8b6e-78b3be908211_u_medium.jpg', 'Large': 'https://static1.sosiva451.com/03717021/8f4c21b7-7992-405a-8b6e-78b3be908211_large.jpg', 'Large_U': 'https://static1.sosiva451.com/03717021/8f4c21b7-7992-405a-8b6e-78b3be908211_u_large.jpg', 'Orden': 2}, {'Id': 794150135, 'IdTipoMultimedia': 1, 'Url': 'https://static1.sosiva451.com/03717021/ee8ff0d5-f6f0-4074-903a-a36fde4a4b65.jpg', 'Xsmall': 'https://static1.sosiva451.com/03717021/ee8ff0d5-f6f0-4074-903a-a36fde4a4b65_xsmall.jpg', 'Xsmall_U': 'https://static1.sosiva451.com/03717021/ee8ff0d5-f6f0-4074-903a-a36fde4a4b65_u_xsmall.jpg', 'Small': 'https://static1.sosiva451.com/03717021/ee8ff0d5-f6f0-4074-903a-a36fde4a4b65_small.jpg', 'Small_U': 'https://static1.sosiva451.com/03717021/ee8ff0d5-f6f0-4074-903a-a36fde4a4b65_u_small.jpg', 'Medium': 'https://static1.sosiva451.com/03717021/ee8ff0d5-f6f0-4074-903a-a36fde4a4b65_medium.jpg', 'Medium_U': 'https://static1.sosiva451.com/03717021/ee8ff0d5-f6f0-4074-903a-a36fde4a4b65_u_medium.jpg', 'Large': 'https://static1.sosiva451.com/03717021/ee8ff0d5-f6f0-4074-903a-a36fde4a4b65_large.jpg', 'Large_U': 'https://static1.sosiva451.com/03717021/ee8ff0d5-f6f0-4074-903a-a36fde4a4b65_u_large.jpg', 'Orden': 3}, {'Id': 794150136, 'IdTipoMultimedia': 1, 'Url': 'https://static1.sosiva451.com/03717021/4f68e801-483f-400c-92c5-3d25276a2952.jpg', 'Xsmall': 'https://static1.sosiva451.com/03717021/4f68e801-483f-400c-92c5-3d25276a2952_xsmall.jpg', 'Xsmall_U': 'https://static1.sosiva451.com/03717021/4f68e801-483f-400c-92c5-3d25276a2952_u_xsmall.jpg', 'Small': 'https://static1.sosiva451.com/03717021/4f68e801-483f-400c-92c5-3d25276a2952_small.jpg', 'Small_U': 'https://static1.sosiva451.com/03717021/4f68e801-483f-400c-92c5-3d25276a2952_u_small.jpg', 'Medium': 'https://static1.sosiva451.com/03717021/4f68e801-483f-400c-92c5-3d25276a2952_medium.jpg', 'Medium_U': 'https://static1.sosiva451.com/03717021/4f68e801-483f-400c-92c5-3d25276a2952_u_medium.jpg', 'Large': 'https://static1.sosiva451.com/03717021/4f68e801-483f-400c-92c5-3d25276a2952_large.jpg', 'Large_U': 'https://static1.sosiva451.com/03717021/4f68e801-483f-400c-92c5-3d25276a2952_u_large.jpg', 'Orden': 4}, {'Id': 794150137, 'IdTipoMultimedia': 1, 'Url': 'https://static1.sosiva451.com/03717021/410647f1-1711-4ce6-a8c3-7c4572b74b98.jpg', 'Xsmall': 'https://static1.sosiva451.com/03717021/410647f1-1711-4ce6-a8c3-7c4572b74b98_xsmall.jpg', 'Xsmall_U': 'https://static1.sosiva451.com/03717021/410647f1-1711-4ce6-a8c3-7c4572b74b98_u_xsmall.jpg', 'Small': 'https://static1.sosiva451.com/03717021/410647f1-1711-4ce6-a8c3-7c4572b74b98_small.jpg', 'Small_U': 'https://static1.sosiva451.com/03717021/410647f1-1711-4ce6-a8c3-7c4572b74b98_u_small.jpg', 'Medium': 'https://static1.sosiva451.com/03717021/410647f1-1711-4ce6-a8c3-7c4572b74b98_medium.jpg', 'Medium_U': 'https://static1.sosiva451.com/03717021/410647f1-1711-4ce6-a8c3-7c4572b74b98_u_medium.jpg', 'Large': 'https://static1.sosiva451.com/03717021/410647f1-1711-4ce6-a8c3-7c4572b74b98_large.jpg', 'Large_U': 'https://static1.sosiva451.com/03717021/410647f1-1711-4ce6-a8c3-7c4572b74b98_u_large.jpg', 'Orden': 5}, {'Id': 794150138, 'IdTipoMultimedia': 1, 'Url': 'https://static1.sosiva451.com/03717021/59767522-7386-4d99-ae35-fbef2e2ee0d3.jpg', 'Xsmall': 'https://static1.sosiva451.com/03717021/59767522-7386-4d99-ae35-fbef2e2ee0d3_xsmall.jpg', 'Xsmall_U': 'https://static1.sosiva451.com/03717021/59767522-7386-4d99-ae35-fbef2e2ee0d3_u_xsmall.jpg', 'Small': 'https://static1.sosiva451.com/03717021/59767522-7386-4d99-ae35-fbef2e2ee0d3_small.jpg', 'Small_U': 'https://static1.sosiva451.com/03717021/59767522-7386-4d99-ae35-fbef2e2ee0d3_u_small.jpg', 'Medium': 'https://static1.sosiva451.com/03717021/59767522-7386-4d99-ae35-fbef2e2ee0d3_medium.jpg', 'Medium_U': 'https://static1.sosiva451.com/03717021/59767522-7386-4d99-ae35-fbef2e2ee0d3_u_medium.jpg', 'Large': 'https://static1.sosiva451.com/03717021/59767522-7386-4d99-ae35-fbef2e2ee0d3_large.jpg', 'Large_U': 'https://static1.sosiva451.com/03717021/59767522-7386-4d99-ae35-fbef2e2ee0d3_u_large.jpg', 'Orden': 6}, {'Id': 794150139, 'IdTipoMultimedia': 1, 'Url': 'https://static1.sosiva451.com/03717021/f83b9e01-4d08-42e9-aa34-f8a91b37f1b7.jpg', 'Xsmall': 'https://static1.sosiva451.com/03717021/f83b9e01-4d08-42e9-aa34-f8a91b37f1b7_xsmall.jpg', 'Xsmall_U': 'https://static1.sosiva451.com/03717021/f83b9e01-4d08-42e9-aa34-f8a91b37f1b7_u_xsmall.jpg', 'Small': 'https://static1.sosiva451.com/03717021/f83b9e01-4d08-42e9-aa34-f8a91b37f1b7_small.jpg', 'Small_U': 'https://static1.sosiva451.com/03717021/f83b9e01-4d08-42e9-aa34-f8a91b37f1b7_u_small.jpg', 'Medium': 'https://static1.sosiva451.com/03717021/f83b9e01-4d08-42e9-aa34-f8a91b37f1b7_medium.jpg', 'Medium_U': 'https://static1.sosiva451.com/03717021/f83b9e01-4d08-42e9-aa34-f8a91b37f1b7_u_medium.jpg', 'Large': 'https://static1.sosiva451.com/03717021/f83b9e01-4d08-42e9-aa34-f8a91b37f1b7_large.jpg', 'Large_U': 'https://static1.sosiva451.com/03717021/f83b9e01-4d08-42e9-aa34-f8a91b37f1b7_u_large.jpg', 'Orden': 7}, {'Id': 794150140, 'IdTipoMultimedia': 1, 'Url': 'https://static1.sosiva451.com/03717021/aebe8f7a-5d28-4f08-9b5d-f8370ef009a3.jpg', 'Xsmall': 'https://static1.sosiva451.com/03717021/aebe8f7a-5d28-4f08-9b5d-f8370ef009a3_xsmall.jpg', 'Xsmall_U': 'https://static1.sosiva451.com/03717021/aebe8f7a-5d28-4f08-9b5d-f8370ef009a3_u_xsmall.jpg', 'Small': 'https://static1.sosiva451.com/03717021/aebe8f7a-5d28-4f08-9b5d-f8370ef009a3_small.jpg', 'Small_U': 'https://static1.sosiva451.com/03717021/aebe8f7a-5d28-4f08-9b5d-f8370ef009a3_u_small.jpg', 'Medium': 'https://static1.sosiva451.com/03717021/aebe8f7a-5d28-4f08-9b5d-f8370ef009a3_medium.jpg', 'Medium_U': 'https://static1.sosiva451.com/03717021/aebe8f7a-5d28-4f08-9b5d-f8370ef009a3_u_medium.jpg', 'Large': 'https://static1.sosiva451.com/03717021/aebe8f7a-5d28-4f08-9b5d-f8370ef009a3_large.jpg', 'Large_U': 'https://static1.sosiva451.com/03717021/aebe8f7a-5d28-4f08-9b5d-f8370ef009a3_u_large.jpg', 'Orden': 8}, {'Id': 794150141, 'IdTipoMultimedia': 1, 'Url': 'https://static1.sosiva451.com/03717021/800fd2c2-0fcb-4758-93ad-1a676559f638.jpg', 'Xsmall': 'https://static1.sosiva451.com/03717021/800fd2c2-0fcb-4758-93ad-1a676559f638_xsmall.jpg', 'Xsmall_U': 'https://static1.sosiva451.com/03717021/800fd2c2-0fcb-4758-93ad-1a676559f638_u_xsmall.jpg', 'Small': 'https://static1.sosiva451.com/03717021/800fd2c2-0fcb-4758-93ad-1a676559f638_small.jpg', 'Small_U': 'https://static1.sosiva451.com/03717021/800fd2c2-0fcb-4758-93ad-1a676559f638_u_small.jpg', 'Medium': 'https://static1.sosiva451.com/03717021/800fd2c2-0fcb-4758-93ad-1a676559f638_medium.jpg', 'Medium_U': 'https://static1.sosiva451.com/03717021/800fd2c2-0fcb-4758-93ad-1a676559f638_u_medium.jpg', 'Large': 'https://static1.sosiva451.com/03717021/800fd2c2-0fcb-4758-93ad-1a676559f638_large.jpg', 'Large_U': 'https://static1.sosiva451.com/03717021/800fd2c2-0fcb-4758-93ad-1a676559f638_u_large.jpg', 'Orden': 9}, {'Id': 794150142, 'IdTipoMultimedia': 1, 'Url': 'https://static1.sosiva451.com/03717021/ffc5bce7-f5ac-4a78-9de7-3518028b1f9c.jpg', 'Xsmall': 'https://static1.sosiva451.com/03717021/ffc5bce7-f5ac-4a78-9de7-3518028b1f9c_xsmall.jpg', 'Xsmall_U': 'https://static1.sosiva451.com/03717021/ffc5bce7-f5ac-4a78-9de7-3518028b1f9c_u_xsmall.jpg', 'Small': 'https://static1.sosiva451.com/03717021/ffc5bce7-f5ac-4a78-9de7-3518028b1f9c_small.jpg', 'Small_U': 'https://static1.sosiva451.com/03717021/ffc5bce7-f5ac-4a78-9de7-3518028b1f9c_u_small.jpg', 'Medium': 'https://static1.sosiva451.com/03717021/ffc5bce7-f5ac-4a78-9de7-3518028b1f9c_medium.jpg', 'Medium_U': 'https://static1.sosiva451.com/03717021/ffc5bce7-f5ac-4a78-9de7-3518028b1f9c_u_medium.jpg', 'Large': 'https://static1.sosiva451.com/03717021/ffc5bce7-f5ac-4a78-9de7-3518028b1f9c_large.jpg', 'Large_U': 'https://static1.sosiva451.com/03717021/ffc5bce7-f5ac-4a78-9de7-3518028b1f9c_u_large.jpg', 'Orden': 10}, {'Id': 794150143, 'IdTipoMultimedia': 1, 'Url': 'https://static1.sosiva451.com/03717021/d42cd71a-b642-46e4-9928-19c9e1e16d03.jpg', 'Xsmall': 'https://static1.sosiva451.com/03717021/d42cd71a-b642-46e4-9928-19c9e1e16d03_xsmall.jpg', 'Xsmall_U': 'https://static1.sosiva451.com/03717021/d42cd71a-b642-46e4-9928-19c9e1e16d03_u_xsmall.jpg', 'Small': 'https://static1.sosiva451.com/03717021/d42cd71a-b642-46e4-9928-19c9e1e16d03_small.jpg', 'Small_U': 'https://static1.sosiva451.com/03717021/d42cd71a-b642-46e4-9928-19c9e1e16d03_u_small.jpg', 'Medium': 'https://static1.sosiva451.com/03717021/d42cd71a-b642-46e4-9928-19c9e1e16d03_medium.jpg', 'Medium_U': 'https://static1.sosiva451.com/03717021/d42cd71a-b642-46e4-9928-19c9e1e16d03_u_medium.jpg', 'Large': 'https://static1.sosiva451.com/03717021/d42cd71a-b642-46e4-9928-19c9e1e16d03_large.jpg', 'Large_U': 'https://static1.sosiva451.com/03717021/d42cd71a-b642-46e4-9928-19c9e1e16d03_u_large.jpg', 'Orden': 11}, {'Id': 794150144, 'IdTipoMultimedia': 1, 'Url': 'https://static1.sosiva451.com/03717021/1626033a-77c7-4bd0-85e7-baebff6ef62d.jpg', 'Xsmall': 'https://static1.sosiva451.com/03717021/1626033a-77c7-4bd0-85e7-baebff6ef62d_xsmall.jpg', 'Xsmall_U': 'https://static1.sosiva451.com/03717021/1626033a-77c7-4bd0-85e7-baebff6ef62d_u_xsmall.jpg', 'Small': 'https://static1.sosiva451.com/03717021/1626033a-77c7-4bd0-85e7-baebff6ef62d_small.jpg', 'Small_U': 'https://static1.sosiva451.com/03717021/1626033a-77c7-4bd0-85e7-baebff6ef62d_u_small.jpg', 'Medium': 'https://static1.sosiva451.com/03717021/1626033a-77c7-4bd0-85e7-baebff6ef62d_medium.jpg', 'Medium_U': 'https://static1.sosiva451.com/03717021/1626033a-77c7-4bd0-85e7-baebff6ef62d_u_medium.jpg', 'Large': 'https://static1.sosiva451.com/03717021/1626033a-77c7-4bd0-85e7-baebff6ef62d_large.jpg', 'Large_U': 'https://static1.sosiva451.com/03717021/1626033a-77c7-4bd0-85e7-baebff6ef62d_u_large.jpg', 'Orden': 12}, {'Id': 794150145, 'IdTipoMultimedia': 1, 'Url': 'https://static1.sosiva451.com/03717021/51853118-6eca-4b1f-a792-a347751156fe.jpg', 'Xsmall': 'https://static1.sosiva451.com/03717021/51853118-6eca-4b1f-a792-a347751156fe_xsmall.jpg', 'Xsmall_U': 'https://static1.sosiva451.com/03717021/51853118-6eca-4b1f-a792-a347751156fe_u_xsmall.jpg', 'Small': 'https://static1.sosiva451.com/03717021/51853118-6eca-4b1f-a792-a347751156fe_small.jpg', 'Small_U': 'https://static1.sosiva451.com/03717021/51853118-6eca-4b1f-a792-a347751156fe_u_small.jpg', 'Medium': 'https://static1.sosiva451.com/03717021/51853118-6eca-4b1f-a792-a347751156fe_medium.jpg', 'Medium_U': 'https://static1.sosiva451.com/03717021/51853118-6eca-4b1f-a792-a347751156fe_u_medium.jpg', 'Large': 'https://static1.sosiva451.com/03717021/51853118-6eca-4b1f-a792-a347751156fe_large.jpg', 'Large_U': 'https://static1.sosiva451.com/03717021/51853118-6eca-4b1f-a792-a347751156fe_u_large.jpg', 'Orden': 13}, {'Id': 794150146, 'IdTipoMultimedia': 1, 'Url': 'https://static1.sosiva451.com/03717021/3ef931f3-8c37-4d75-89d3-0eef0014d5db.jpg', 'Xsmall': 'https://static1.sosiva451.com/03717021/3ef931f3-8c37-4d75-89d3-0eef0014d5db_xsmall.jpg', 'Xsmall_U': 'https://static1.sosiva451.com/03717021/3ef931f3-8c37-4d75-89d3-0eef0014d5db_u_xsmall.jpg', 'Small': 'https://static1.sosiva451.com/03717021/3ef931f3-8c37-4d75-89d3-0eef0014d5db_small.jpg', 'Small_U': 'https://static1.sosiva451.com/03717021/3ef931f3-8c37-4d75-89d3-0eef0014d5db_u_small.jpg', 'Medium': 'https://static1.sosiva451.com/03717021/3ef931f3-8c37-4d75-89d3-0eef0014d5db_medium.jpg', 'Medium_U': 'https://static1.sosiva451.com/03717021/3ef931f3-8c37-4d75-89d3-0eef0014d5db_u_medium.jpg', 'Large': 'https://static1.sosiva451.com/03717021/3ef931f3-8c37-4d75-89d3-0eef0014d5db_large.jpg', 'Large_U': 'https://static1.sosiva451.com/03717021/3ef931f3-8c37-4d75-89d3-0eef0014d5db_u_large.jpg', 'Orden': 14}, {'Id': 794150147, 'IdTipoMultimedia': 1, 'Url': 'https://static1.sosiva451.com/03717021/a6a2a3dc-6a0f-4665-8470-5f0e0fc1e530.jpg', 'Xsmall': 'https://static1.sosiva451.com/03717021/a6a2a3dc-6a0f-4665-8470-5f0e0fc1e530_xsmall.jpg', 'Xsmall_U': 'https://static1.sosiva451.com/03717021/a6a2a3dc-6a0f-4665-8470-5f0e0fc1e530_u_xsmall.jpg', 'Small': 'https://static1.sosiva451.com/03717021/a6a2a3dc-6a0f-4665-8470-5f0e0fc1e530_small.jpg', 'Small_U': 'https://static1.sosiva451.com/03717021/a6a2a3dc-6a0f-4665-8470-5f0e0fc1e530_u_small.jpg', 'Medium': 'https://static1.sosiva451.com/03717021/a6a2a3dc-6a0f-4665-8470-5f0e0fc1e530_medium.jpg', 'Medium_U': 'https://static1.sosiva451.com/03717021/a6a2a3dc-6a0f-4665-8470-5f0e0fc1e530_u_medium.jpg', 'Large': 'https://static1.sosiva451.com/03717021/a6a2a3dc-6a0f-4665-8470-5f0e0fc1e530_large.jpg', 'Large_U': 'https://static1.sosiva451.com/03717021/a6a2a3dc-6a0f-4665-8470-5f0e0fc1e530_u_large.jpg', 'Orden': 15}, {'Id': 794150148, 'IdTipoMultimedia': 1, 'Url': 'https://static1.sosiva451.com/03717021/e5236275-781a-4b6a-aed4-00979879e8b8.jpg', 'Xsmall': 'https://static1.sosiva451.com/03717021/e5236275-781a-4b6a-aed4-00979879e8b8_xsmall.jpg', 'Xsmall_U': 'https://static1.sosiva451.com/03717021/e5236275-781a-4b6a-aed4-00979879e8b8_u_xsmall.jpg', 'Small': 'https://static1.sosiva451.com/03717021/e5236275-781a-4b6a-aed4-00979879e8b8_small.jpg', 'Small_U': 'https://static1.sosiva451.com/03717021/e5236275-781a-4b6a-aed4-00979879e8b8_u_small.jpg', 'Medium': 'https://static1.sosiva451.com/03717021/e5236275-781a-4b6a-aed4-00979879e8b8_medium.jpg', 'Medium_U': 'https://static1.sosiva451.com/03717021/e5236275-781a-4b6a-aed4-00979879e8b8_u_medium.jpg', 'Large': 'https://static1.sosiva451.com/03717021/e5236275-781a-4b6a-aed4-00979879e8b8_large.jpg', 'Large_U': 'https://static1.sosiva451.com/03717021/e5236275-781a-4b6a-aed4-00979879e8b8_u_large.jpg', 'Orden': 16}, {'Id': 794150149, 'IdTipoMultimedia': 1, 'Url': 'https://static1.sosiva451.com/03717021/989f1e78-9992-4ee1-a42b-095ed99457f5.jpg', 'Xsmall': 'https://static1.sosiva451.com/03717021/989f1e78-9992-4ee1-a42b-095ed99457f5_xsmall.jpg', 'Xsmall_U': 'https://static1.sosiva451.com/03717021/989f1e78-9992-4ee1-a42b-095ed99457f5_u_xsmall.jpg', 'Small': 'https://static1.sosiva451.com/03717021/989f1e78-9992-4ee1-a42b-095ed99457f5_small.jpg', 'Small_U': 'https://static1.sosiva451.com/03717021/989f1e78-9992-4ee1-a42b-095ed99457f5_u_small.jpg', 'Medium': 'https://static1.sosiva451.com/03717021/989f1e78-9992-4ee1-a42b-095ed99457f5_medium.jpg', 'Medium_U': 'https://static1.sosiva451.com/03717021/989f1e78-9992-4ee1-a42b-095ed99457f5_u_medium.jpg', 'Large': 'https://static1.sosiva451.com/03717021/989f1e78-9992-4ee1-a42b-095ed99457f5_large.jpg', 'Large_U': 'https://static1.sosiva451.com/03717021/989f1e78-9992-4ee1-a42b-095ed99457f5_u_large.jpg', 'Orden': 17}, {'Id': 794150150, 'IdTipoMultimedia': 1, 'Url': 'https://static1.sosiva451.com/03717021/137c6db8-7e20-4d36-b418-69c58e17373f.jpg', 'Xsmall': 'https://static1.sosiva451.com/03717021/137c6db8-7e20-4d36-b418-69c58e17373f_xsmall.jpg', 'Xsmall_U': 'https://static1.sosiva451.com/03717021/137c6db8-7e20-4d36-b418-69c58e17373f_u_xsmall.jpg', 'Small': 'https://static1.sosiva451.com/03717021/137c6db8-7e20-4d36-b418-69c58e17373f_small.jpg', 'Small_U': 'https://static1.sosiva451.com/03717021/137c6db8-7e20-4d36-b418-69c58e17373f_u_small.jpg', 'Medium': 'https://static1.sosiva451.com/03717021/137c6db8-7e20-4d36-b418-69c58e17373f_medium.jpg', 'Medium_U': 'https://static1.sosiva451.com/03717021/137c6db8-7e20-4d36-b418-69c58e17373f_u_medium.jpg', 'Large': 'https://static1.sosiva451.com/03717021/137c6db8-7e20-4d36-b418-69c58e17373f_large.jpg', 'Large_U': 'https://static1.sosiva451.com/03717021/137c6db8-7e20-4d36-b418-69c58e17373f_u_large.jpg', 'Orden': 18}, {'Id': 794150151, 'IdTipoMultimedia': 1, 'Url': 'https://static1.sosiva451.com/03717021/9df18a8a-ec49-4819-a78c-eb0d9785f733.jpg', 'Xsmall': 'https://static1.sosiva451.com/03717021/9df18a8a-ec49-4819-a78c-eb0d9785f733_xsmall.jpg', 'Xsmall_U': 'https://static1.sosiva451.com/03717021/9df18a8a-ec49-4819-a78c-eb0d9785f733_u_xsmall.jpg', 'Small': 'https://static1.sosiva451.com/03717021/9df18a8a-ec49-4819-a78c-eb0d9785f733_small.jpg', 'Small_U': 'https://static1.sosiva451.com/03717021/9df18a8a-ec49-4819-a78c-eb0d9785f733_u_small.jpg', 'Medium': 'https://static1.sosiva451.com/03717021/9df18a8a-ec49-4819-a78c-eb0d9785f733_medium.jpg', 'Medium_U': 'https://static1.sosiva451.com/03717021/9df18a8a-ec49-4819-a78c-eb0d9785f733_u_medium.jpg', 'Large': 'https://static1.sosiva451.com/03717021/9df18a8a-ec49-4819-a78c-eb0d9785f733_large.jpg', 'Large_U': 'https://static1.sosiva451.com/03717021/9df18a8a-ec49-4819-a78c-eb0d9785f733_u_large.jpg', 'Orden': 19}, {'Id': 794150152, 'IdTipoMultimedia': 1, 'Url': 'https://static1.sosiva451.com/03717021/1f33e6e6-1075-4a28-916b-1f0b8fc3fdd3.jpg', 'Xsmall': 'https://static1.sosiva451.com/03717021/1f33e6e6-1075-4a28-916b-1f0b8fc3fdd3_xsmall.jpg', 'Xsmall_U': 'https://static1.sosiva451.com/03717021/1f33e6e6-1075-4a28-916b-1f0b8fc3fdd3_u_xsmall.jpg', 'Small': 'https://static1.sosiva451.com/03717021/1f33e6e6-1075-4a28-916b-1f0b8fc3fdd3_small.jpg', 'Small_U': 'https://static1.sosiva451.com/03717021/1f33e6e6-1075-4a28-916b-1f0b8fc3fdd3_u_small.jpg', 'Medium': 'https://static1.sosiva451.com/03717021/1f33e6e6-1075-4a28-916b-1f0b8fc3fdd3_medium.jpg', 'Medium_U': 'https://static1.sosiva451.com/03717021/1f33e6e6-1075-4a28-916b-1f0b8fc3fdd3_u_medium.jpg', 'Large': 'https://static1.sosiva451.com/03717021/1f33e6e6-1075-4a28-916b-1f0b8fc3fdd3_large.jpg', 'Large_U': 'https://static1.sosiva451.com/03717021/1f33e6e6-1075-4a28-916b-1f0b8fc3fdd3_u_large.jpg', 'Orden': 20}, {'Id': 794150155, 'IdTipoMultimedia': 1, 'Url': 'https://static1.sosiva451.com/03717021/9746f97a-11a5-443d-8a7e-0855ae70154e.jpg', 'Xsmall': 'https://static1.sosiva451.com/03717021/9746f97a-11a5-443d-8a7e-0855ae70154e_xsmall.jpg', 'Xsmall_U': 'https://static1.sosiva451.com/03717021/9746f97a-11a5-443d-8a7e-0855ae70154e_u_xsmall.jpg', 'Small': 'https://static1.sosiva451.com/03717021/9746f97a-11a5-443d-8a7e-0855ae70154e_small.jpg', 'Small_U': 'https://static1.sosiva451.com/03717021/9746f97a-11a5-443d-8a7e-0855ae70154e_u_small.jpg', 'Medium': 'https://static1.sosiva451.com/03717021/9746f97a-11a5-443d-8a7e-0855ae70154e_medium.jpg', 'Medium_U': 'https://static1.sosiva451.com/03717021/9746f97a-11a5-443d-8a7e-0855ae70154e_u_medium.jpg', 'Large': 'https://static1.sosiva451.com/03717021/9746f97a-11a5-443d-8a7e-0855ae70154e_large.jpg', 'Large_U': 'https://static1.sosiva451.com/03717021/9746f97a-11a5-443d-8a7e-0855ae70154e_u_large.jpg', 'Orden': 21}, {'Id': 794150156, 'IdTipoMultimedia': 1, 'Url': 'https://static1.sosiva451.com/03717021/b919bdb8-e7e1-448a-8ad5-7a423909296b.jpg', 'Xsmall': 'https://static1.sosiva451.com/03717021/b919bdb8-e7e1-448a-8ad5-7a423909296b_xsmall.jpg', 'Xsmall_U': 'https://static1.sosiva451.com/03717021/b919bdb8-e7e1-448a-8ad5-7a423909296b_u_xsmall.jpg', 'Small': 'https://static1.sosiva451.com/03717021/b919bdb8-e7e1-448a-8ad5-7a423909296b_small.jpg', 'Small_U': 'https://static1.sosiva451.com/03717021/b919bdb8-e7e1-448a-8ad5-7a423909296b_u_small.jpg', 'Medium': 'https://static1.sosiva451.com/03717021/b919bdb8-e7e1-448a-8ad5-7a423909296b_medium.jpg', 'Medium_U': 'https://static1.sosiva451.com/03717021/b919bdb8-e7e1-448a-8ad5-7a423909296b_u_medium.jpg', 'Large': 'https://static1.sosiva451.com/03717021/b919bdb8-e7e1-448a-8ad5-7a423909296b_large.jpg', 'Large_U': 'https://static1.sosiva451.com/03717021/b919bdb8-e7e1-448a-8ad5-7a423909296b_u_large.jpg', 'Orden': 22}, {'Id': 794150157, 'IdTipoMultimedia': 1, 'Url': 'https://static1.sosiva451.com/03717021/f1d0ddeb-d631-496e-a9cb-1b784da33fc6.jpg', 'Xsmall': 'https://static1.sosiva451.com/03717021/f1d0ddeb-d631-496e-a9cb-1b784da33fc6_xsmall.jpg', 'Xsmall_U': 'https://static1.sosiva451.com/03717021/f1d0ddeb-d631-496e-a9cb-1b784da33fc6_u_xsmall.jpg', 'Small': 'https://static1.sosiva451.com/03717021/f1d0ddeb-d631-496e-a9cb-1b784da33fc6_small.jpg', 'Small_U': 'https://static1.sosiva451.com/03717021/f1d0ddeb-d631-496e-a9cb-1b784da33fc6_u_small.jpg', 'Medium': 'https://static1.sosiva451.com/03717021/f1d0ddeb-d631-496e-a9cb-1b784da33fc6_medium.jpg', 'Medium_U': 'https://static1.sosiva451.com/03717021/f1d0ddeb-d631-496e-a9cb-1b784da33fc6_u_medium.jpg', 'Large': 'https://static1.sosiva451.com/03717021/f1d0ddeb-d631-496e-a9cb-1b784da33fc6_large.jpg', 'Large_U': 'https://static1.sosiva451.com/03717021/f1d0ddeb-d631-496e-a9cb-1b784da33fc6_u_large.jpg', 'Orden': 23}, {'Id': 794150158, 'IdTipoMultimedia': 1, 'Url': 'https://static1.sosiva451.com/03717021/ef00dbdc-c76b-4175-8833-78a3e65681e5.jpg', 'Xsmall': 'https://static1.sosiva451.com/03717021/ef00dbdc-c76b-4175-8833-78a3e65681e5_xsmall.jpg', 'Xsmall_U': 'https://static1.sosiva451.com/03717021/ef00dbdc-c76b-4175-8833-78a3e65681e5_u_xsmall.jpg', 'Small': 'https://static1.sosiva451.com/03717021/ef00dbdc-c76b-4175-8833-78a3e65681e5_small.jpg', 'Small_U': 'https://static1.sosiva451.com/03717021/ef00dbdc-c76b-4175-8833-78a3e65681e5_u_small.jpg', 'Medium': 'https://static1.sosiva451.com/03717021/ef00dbdc-c76b-4175-8833-78a3e65681e5_medium.jpg', 'Medium_U': 'https://static1.sosiva451.com/03717021/ef00dbdc-c76b-4175-8833-78a3e65681e5_u_medium.jpg', 'Large': 'https://static1.sosiva451.com/03717021/ef00dbdc-c76b-4175-8833-78a3e65681e5_large.jpg', 'Large_U': 'https://static1.sosiva451.com/03717021/ef00dbdc-c76b-4175-8833-78a3e65681e5_u_large.jpg', 'Orden': 24}, {'Id': 794150159, 'IdTipoMultimedia': 1, 'Url': 'https://static1.sosiva451.com/03717021/20208b11-11ce-455b-9eb0-ffc41dfaf394.jpg', 'Xsmall': 'https://static1.sosiva451.com/03717021/20208b11-11ce-455b-9eb0-ffc41dfaf394_xsmall.jpg', 'Xsmall_U': 'https://static1.sosiva451.com/03717021/20208b11-11ce-455b-9eb0-ffc41dfaf394_u_xsmall.jpg', 'Small': 'https://static1.sosiva451.com/03717021/20208b11-11ce-455b-9eb0-ffc41dfaf394_small.jpg', 'Small_U': 'https://static1.sosiva451.com/03717021/20208b11-11ce-455b-9eb0-ffc41dfaf394_u_small.jpg', 'Medium': 'https://static1.sosiva451.com/03717021/20208b11-11ce-455b-9eb0-ffc41dfaf394_medium.jpg', 'Medium_U': 'https://static1.sosiva451.com/03717021/20208b11-11ce-455b-9eb0-ffc41dfaf394_u_medium.jpg', 'Large': 'https://static1.sosiva451.com/03717021/20208b11-11ce-455b-9eb0-ffc41dfaf394_large.jpg', 'Large_U': 'https://static1.sosiva451.com/03717021/20208b11-11ce-455b-9eb0-ffc41dfaf394_u_large.jpg', 'Orden': 25}, {'Id': 851174486, 'IdTipoMultimedia': 5, 'Url': 'https://kuula.co/share/collection/79bHG?logo=1&amp;info=1&amp;fs=1&amp;vr=0&amp;sd=1&amp;thumbs=1', 'Orden': 26}, {'Id': 851174487, 'IdTipoMultimedia': 2, 'Url': 'https://www.youtube.com/watch?v=0qoHHukb7OI', 'UrlEmbed': 'https://www.youtube.com/embed/0qoHHukb7OI', 'Orden': 27}]\n",
            "IdTipoPropiedad_i           : 1\n",
            "IdTipoOperacion_i           : 1\n",
            "TipoPropiedad_t             : Departamento\n",
            "TipoOperacion_t             : Venta\n",
            "MontoOperacion_i            : 200000\n",
            "MontoNormalizado_d          : 200000.0\n",
            "SuperficieCubierta_d        : 150.0\n",
            "SuperficieDesCubierta_d     : 150.0\n",
            "SuperficieTotal_d           : 150.0\n",
            "Titulo_t                    : Espec Depto! M/lum! Excel Distrib! T/exter! Patio! Toil! S/expen! P/blindada! Lav indep! Apto! OPORT\n",
            "InformacionAdicional_t      : Espectacular Departamento!\n",
            "Muy Luminoso!\n",
            "Todo externo!\n",
            "Entrada independiente!\n",
            "Excelente distribución!\n",
            "Amplias habitaciones!\n",
            "Toilette!\n",
            "Baño completo!\n",
            "Cocina completa!\n",
            "Patio!\n",
            "Amplio Sótano!\n",
            "Puerta blindada!\n",
            "Apto profesional!\n",
            "SIN EXPENSAS!\n",
            "Inmejorable ubicación!\n",
            "Todos los medios de transporte!\n",
            "Único!\n",
            "\n",
            "* Esta propiedad NO posee rampa de acceso para personas con movilidad reducida.\n",
            "\n",
            "*Las descripciones, medidas, superficies y proporciones consignadas en esta ficha son aproximadas, sólo se muestran a modo orientativo. Los montos de expensas, tasas e impuestos deben ser confirmados ya que dependen de la fecha en la que se obtuvo la información.\n",
            "\n",
            "*Matrícula CUCICBA 2204\n",
            "PublicaPrecio_b             : True\n",
            "Barrio_t                    : Palermo\n",
            "SubBarrio_t                 : Palermo Hollywood\n",
            "Localidad_t                 : Capital Federal\n",
            "Partido_t                   : Capital Federal\n",
            "Provincia_t                 : Capital Federal\n",
            "RegionBusqueda_t            : Capital Federal\n",
            "Pais_t                      : Argentina\n",
            "Direccion_Piso_t            : \n",
            "Direccion_Departamento_t    : \n",
            "Direccion_NombreCalle_t     : Bonpland\n",
            "Direccion_NumeroRedondeado_i: 2400\n",
            "Direccion_Numero_i          : 2400\n",
            "MonedaSimbolo_t             : USD\n",
            "Direccion_Latitud_d         : -34.577451\n",
            "Direccion_Longitud_d        : -58.430507\n",
            "IdOrigen_t                  : CU131034\n",
            "IdVisibilidad_i             : 15564302\n",
            "DatosComunes_s              : [{'Leyenda': 'Sup. cubierta', 'Valor': '150 m²', 'Abreviatura': 'Cubierta', 'IdSistemas': [3], 'TipoDatoComun': 'SUPERFICIE_CUBIERTA'}, {'Leyenda': 'Dormitorios', 'Valor': '3', 'Abreviatura': 'dormitorios', 'IdSistemas': [3], 'TipoDatoComun': 'CANTIDAD_DORMITORIOS'}, {'Leyenda': 'Antiguedad', 'Valor': '30 años', 'IdSistemas': [3], 'TipoDatoComun': 'ANTIGUEDAD'}, {'Leyenda': 'Baños', 'Valor': '2', 'Abreviatura': 'baños', 'IdSistemas': [3], 'TipoDatoComun': 'CANTIDAD_BANOS'}, {'Leyenda': 'Ambientes', 'Valor': '4', 'Abreviatura': 'ambientes', 'IdSistemas': [3], 'TipoDatoComun': 'CANTIDAD_AMBIENTES'}, {'Leyenda': 'Cocheras', 'Valor': '', 'Abreviatura': 'cocheras', 'IdSistemas': [3], 'TipoDatoComun': 'AMBIENTE_COCHERA'}, {'Leyenda': 'Toilettes', 'Valor': '1', 'Abreviatura': 'toilettes', 'IdSistemas': [3], 'TipoDatoComun': 'CANTIDAD_TOILETTES'}, {'Leyenda': 'Estado', 'Valor': 'Excelente', 'IdSistemas': [3], 'TipoDatoComun': 'ESTADO_PROPIEDAD'}, {'Leyenda': 'Disposición', 'Valor': 'Frente', 'IdSistemas': [3], 'TipoDatoComun': 'DISPOSICION'}, {'Leyenda': 'Orientación', 'Valor': 'Este', 'IdSistemas': [3], 'TipoDatoComun': 'ORIENTACION'}, {'Leyenda': 'Apto profesional', 'Valor': '', 'IdSistemas': [3], 'TipoDatoComun': 'APTO_PROFESIONAL'}, {'Leyenda': 'Permite mascota', 'Valor': '', 'IdSistemas': [3], 'TipoDatoComun': 'PERMITE_MASCOTA'}, {'Leyenda': 'Dormitorios', 'Valor': '3', 'Abreviatura': 'dormitorios', 'IdSistemas': [120], 'TipoDatoComun': 'CANTIDAD_DORMITORIOS'}, {'Leyenda': 'sup. cubierta', 'Valor': '150 m²', 'IdSistemas': [120], 'TipoDatoComun': 'SUPERFICIE_CUBIERTA'}, {'Leyenda': 'disposición', 'Valor': 'Frente', 'IdSistemas': [120], 'TipoDatoComun': 'DISPOSICION'}, {'Leyenda': 'antigüedad', 'Valor': '30 años', 'IdSistemas': [120], 'TipoDatoComun': 'ANTIGUEDAD'}, {'Leyenda': 'baños', 'Valor': '2', 'IdSistemas': [120], 'TipoDatoComun': 'CANTIDAD_BANOS'}, {'Leyenda': 'Sup. cubierta', 'Valor': '150 m²', 'Abreviatura': 'cubie.', 'IdSistemas': [134], 'TipoDatoComun': 'SUPERFICIE_CUBIERTA'}, {'Leyenda': 'Dormitorios', 'Valor': '3', 'Abreviatura': 'dorm.', 'IdSistemas': [134], 'TipoDatoComun': 'CANTIDAD_DORMITORIOS'}, {'Leyenda': 'Antiguedad', 'Valor': '30 años', 'IdSistemas': [134], 'TipoDatoComun': 'ANTIGUEDAD'}, {'Leyenda': 'Baños', 'Valor': '2', 'Abreviatura': 'baños', 'IdSistemas': [134], 'TipoDatoComun': 'CANTIDAD_BANOS'}, {'Leyenda': 'Ambientes', 'Valor': '4', 'Abreviatura': 'ambientes', 'IdSistemas': [134], 'TipoDatoComun': 'CANTIDAD_AMBIENTES'}, {'Leyenda': 'Cocheras', 'Valor': '', 'Abreviatura': 'cocheras', 'IdSistemas': [134], 'TipoDatoComun': 'AMBIENTE_COCHERA'}, {'Leyenda': 'Toilettes', 'Valor': '1', 'Abreviatura': 'toilettes', 'IdSistemas': [134], 'TipoDatoComun': 'CANTIDAD_TOILETTES'}, {'Leyenda': 'Estado', 'Valor': 'Excelente', 'IdSistemas': [134], 'TipoDatoComun': 'ESTADO_PROPIEDAD'}, {'Leyenda': 'Disposición', 'Valor': 'Frente', 'IdSistemas': [134], 'TipoDatoComun': 'DISPOSICION'}, {'Leyenda': 'Orientación', 'Valor': 'Este', 'IdSistemas': [134], 'TipoDatoComun': 'ORIENTACION'}, {'Leyenda': 'Apto profesional', 'Valor': '', 'IdSistemas': [134], 'TipoDatoComun': 'APTO_PROFESIONAL'}, {'Leyenda': 'Permite mascota', 'Valor': '', 'IdSistemas': [134], 'TipoDatoComun': 'PERMITE_MASCOTA'}]\n",
            "IdMoneda_i                  : 2\n",
            "IdTipoDestaque_i            : 5\n",
            "IdAnunciante_i              : 142254\n",
            "Amenities_s                 : []\n",
            "Servicios_s                 : []\n",
            "Terminaciones_s             : []\n",
            "Unidades_s                  : []\n",
            "Puntos_i                    : 21342\n",
            "IdTipoComision_i            : 1\n",
            "OfreceFinanciacion_b        : False\n",
            "PrecioDesde_i               : 0\n",
            "PrecioHasta_i               : 0\n",
            "FechaPublicacionAviso_dt    : 2022-10-27T19:27:49Z\n",
            "FechaModificacionAviso_dt   : 2023-06-22T11:15:15.403Z\n",
            "IdPais_i                    : 1\n",
            "IdRegionBusqueda_i          : 1\n",
            "IdProvincia_i               : 2\n",
            "IdPartido_i                 : 135\n",
            "IdLocalidad_i               : 2102\n",
            "IdBarrio_i                  : 20\n",
            "IdSubBarrio_i               : 36\n",
            "Oficinas_b                  : False\n",
            "Locales_b                   : False\n",
            "Cocheras_b                  : False\n",
            "UnDormitorio_b              : False\n",
            "DosDormitorios_b            : False\n",
            "TresDormitorios_b           : False\n",
            "CuatroDormitorios_b         : False\n",
            "CincoOMasDormitorios_b      : False\n",
            "FechaModificacionPuntos_dt  : 2023-06-22T11:15:15.403Z\n",
            "DescripcionSeo_t            : 15564302--departamento-en-venta-en-palermo-hollywood-4-ambientes\n",
            "Ranking_i                   : 0\n",
            "CantidadDormitorios_i       : 3\n",
            "IdTipoVisibilidadAviso_i    : 6\n",
            "TelefonoContacto_t          : 48034477\n",
            "CantidadAmbientes_i         : 4\n",
            "CodigoPais_t                : argentina\n",
            "CodigoRegionBusqueda_t      : capital-federal\n",
            "CodigoProvincia_t           : capital-federal\n",
            "CodigoPartido_t             : capital-federal\n",
            "CodigoLocalidad_t           : capital-federal\n",
            "CodigoBarrio_t              : palermo\n",
            "CodigoSubBarrio_t           : palermo-hollywood\n",
            "Logo_s                      : https://static1.sosiva451.com/452241_a/5b0a0314-42e8-4499-8207-dc57ddca0b02_small.jpg\n",
            "DetalleAmbiente_s           : [{'Id': 33552985, 'Nombre': 'Dormitorio', 'Medidas': '', 'Descripcion': 'Dormitorio'}, {'Id': 33552986, 'Nombre': 'Palier', 'Medidas': '', 'Descripcion': 'Palier'}, {'Id': 33552987, 'Nombre': 'Hall', 'Medidas': '', 'Descripcion': 'Hall'}, {'Id': 33552988, 'Nombre': 'Living', 'Medidas': '', 'Descripcion': 'Living'}, {'Id': 33552989, 'Nombre': 'Comedor', 'Medidas': '', 'Descripcion': 'Comedor'}, {'Id': 33552990, 'Nombre': 'Escritorio', 'Medidas': '', 'Descripcion': 'Escritorio'}, {'Id': 33552991, 'Nombre': 'Cocina', 'Medidas': '', 'Descripcion': 'Cocina'}, {'Id': 33552992, 'Nombre': 'ComedorDiario', 'Medidas': '', 'Descripcion': 'ComedorDiario'}, {'Id': 33552993, 'Nombre': 'Balcon', 'Medidas': '', 'Descripcion': 'Balcon'}, {'Id': 33552994, 'Nombre': 'Patio', 'Medidas': '', 'Descripcion': 'Patio'}, {'Id': 33552995, 'Nombre': 'Jardin', 'Medidas': '', 'Descripcion': 'Jardin'}, {'Id': 33552996, 'Nombre': 'Terraza', 'Medidas': '', 'Descripcion': 'Terraza'}]\n",
            "TelefonoWhatsApp_i          : 5491139136402\n",
            "Secciones_s                 : {'Secciones': [{'Nombre': 'Características', 'Jerarquia': 1, 'Items': [{'Nombre': 'Cant. Ambientes', 'Valor': '4'}, {'Nombre': 'Cant. Dormitorios', 'Valor': '3'}, {'Nombre': 'Cant. Toilettes', 'Valor': '1'}, {'Nombre': 'Cant. Baños', 'Valor': '2'}, {'Nombre': 'Cant. Cocheras', 'Valor': ''}, {'Nombre': 'Estado', 'Valor': 'Excelente'}, {'Nombre': 'Antiguedad', 'Valor': '30'}, {'Nombre': 'Disposición', 'Valor': 'Frente'}, {'Nombre': 'Orientación', 'Valor': 'E'}, {'Nombre': 'Tipo de Balcón', 'Valor': ''}, {'Nombre': 'Tipo de Costa', 'Valor': ''}, {'Nombre': 'Tipo de Vista', 'Valor': 'Vista ciudad'}, {'Nombre': 'Tipo de Piso', 'Valor': ''}, {'Nombre': 'Expensas', 'Valor': ''}, {'Nombre': 'Tipo Expensas'}, {'Nombre': 'Dependencia', 'Valor': False}, {'Nombre': 'Cochera optativa', 'Valor': False}, {'Nombre': 'Apto Profesional', 'Valor': False}, {'Nombre': 'Propiedad ocupada', 'Valor': False}, {'Nombre': 'Apto Crédito', 'Valor': False}, {'Nombre': 'Acepta Permuta', 'Valor': False}]}, {'Nombre': 'Datos básicos', 'Jerarquia': 2, 'Items': [{'Nombre': 'Tipo de Unidad', 'Valor': 'Departamento'}, {'Nombre': 'Tipo de operación', 'Valor': 'Venta'}, {'Nombre': 'Precio', 'Valor': 'USD 200000'}]}, {'Nombre': 'Superficie', 'Jerarquia': 3, 'Items': [{'Nombre': 'Sup. Cubierta', 'Valor': '150,00 m2'}, {'Nombre': 'Sup. Descubierta', 'Valor': '150,00 m2'}]}, {'Nombre': 'Ambientes del departamento', 'Jerarquia': 3, 'Items': [{'Nombre': 'Altillo', 'Valor': False}, {'Nombre': 'Antesala', 'Valor': False}, {'Nombre': 'Balcón', 'Valor': False}, {'Nombre': 'Baño', 'Valor': False}, {'Nombre': 'Bar', 'Valor': False}, {'Nombre': 'Baulera', 'Valor': False}, {'Nombre': 'Biblioteca', 'Valor': False}, {'Nombre': 'Circulación', 'Valor': False}, {'Nombre': 'Cochera', 'Valor': False}, {'Nombre': 'Cocina', 'Valor': False}, {'Nombre': 'Cocina comedor', 'Valor': False}, {'Nombre': 'Cocina kitchinette', 'Valor': False}, {'Nombre': 'Comedor', 'Valor': False}, {'Nombre': 'Comedor diario', 'Valor': False}, {'Nombre': 'Cuarto de plancha', 'Valor': False}, {'Nombre': 'Dependencia de servicio', 'Valor': False}, {'Nombre': 'Dormitorio', 'Valor': False}, {'Nombre': 'Entrepiso', 'Valor': False}, {'Nombre': 'Escritorio', 'Valor': False}, {'Nombre': 'Estudio', 'Valor': False}, {'Nombre': 'Family room', 'Valor': False}, {'Nombre': 'Hall', 'Valor': False}, {'Nombre': 'Jardín', 'Valor': False}, {'Nombre': 'Lavadero', 'Valor': False}, {'Nombre': 'Living', 'Valor': False}, {'Nombre': 'Living comedor', 'Valor': False}, {'Nombre': 'Palier', 'Valor': False}, {'Nombre': 'Patio', 'Valor': False}, {'Nombre': 'Playroom', 'Valor': False}, {'Nombre': 'Recepción', 'Valor': False}, {'Nombre': 'Sótano', 'Valor': False}, {'Nombre': 'Suite', 'Valor': False}, {'Nombre': 'Terraza', 'Valor': False}, {'Nombre': 'Toilette', 'Valor': False}, {'Nombre': 'Vestidor', 'Valor': False}]}, {'Nombre': 'Instalaciones del departamento', 'Jerarquia': 3, 'Items': [{'Nombre': 'Agua caliente', 'Valor': True}, {'Nombre': 'Agua caliente central', 'Valor': False}, {'Nombre': 'Agua corriente', 'Valor': True}, {'Nombre': 'Aire acondicionado individual', 'Valor': False}, {'Nombre': 'Amoblado', 'Valor': False}, {'Nombre': 'Ascensor', 'Valor': False}, {'Nombre': 'Ascensores de servicio', 'Valor': False}, {'Nombre': 'Ascensores principales', 'Valor': False}, {'Nombre': 'Cable', 'Valor': False}, {'Nombre': 'Caldera individual', 'Valor': False}, {'Nombre': 'Calefacción', 'Valor': False}, {'Nombre': 'Calefon', 'Valor': False}, {'Nombre': 'Desayunador', 'Valor': False}, {'Nombre': 'Electricidad', 'Valor': True}, {'Nombre': 'Gas envasado', 'Valor': False}, {'Nombre': 'Gas natural', 'Valor': True}, {'Nombre': 'Hogar a leña', 'Valor': False}, {'Nombre': 'Instalación parrilla', 'Valor': False}, {'Nombre': 'Losa radiante', 'Valor': False}, {'Nombre': 'Muebles de cocina', 'Valor': False}, {'Nombre': 'Teléfono', 'Valor': False}, {'Nombre': 'Termotanque', 'Valor': True}, {'Nombre': 'Solarium', 'Valor': False}, {'Nombre': 'Cancha de futbol', 'Valor': False}, {'Nombre': 'Cancha de tenis', 'Valor': False}, {'Nombre': 'Hidromasaje', 'Valor': False}, {'Nombre': 'Caja Fuerte', 'Valor': False}, {'Nombre': 'Acceso para personas con movilidad reducida', 'Valor': False}, {'Nombre': 'Pavimento', 'Valor': False}, {'Nombre': 'Piso Radiante Individual', 'Valor': False}, {'Nombre': 'Piso Radiante Central', 'Valor': False}]}, {'Nombre': 'Servicios del departamento', 'Jerarquia': 3, 'Items': [{'Nombre': 'ABL', 'Valor': True}, {'Nombre': 'Agua corriente', 'Valor': True}, {'Nombre': 'Calefacción', 'Valor': True}, {'Nombre': 'Electricidad', 'Valor': True}, {'Nombre': 'Gas envasado', 'Valor': False}, {'Nombre': 'Gas natural', 'Valor': False}, {'Nombre': 'Internet', 'Valor': False}, {'Nombre': 'Refrigeración', 'Valor': False}, {'Nombre': 'Rentas', 'Valor': False}, {'Nombre': 'Seguridad', 'Valor': False}, {'Nombre': 'Teléfono', 'Valor': False}, {'Nombre': 'Video cable', 'Valor': False}, {'Nombre': 'Vigilancia', 'Valor': False}, {'Nombre': 'Toallas', 'Valor': False}, {'Nombre': 'Ropa de cama', 'Valor': False}, {'Nombre': 'Limpieza', 'Valor': False}]}, {'Nombre': 'Generales del departamento', 'Jerarquia': 3, 'Items': [{'Nombre': 'Permite Mascotas', 'Valor': False}, {'Nombre': 'Acepta Garantías de Alquiler de Argenprop', 'Valor': False}]}, {'Nombre': 'Caracteristicas del edificio', 'Jerarquia': 3, 'Items': [{'Nombre': 'Cant. Pisos', 'Valor': ''}, {'Nombre': 'Deptos. por Piso', 'Valor': ''}, {'Nombre': 'Cant. Cocheras', 'Valor': ''}, {'Nombre': 'Antiguedad', 'Valor': '30'}, {'Nombre': 'Tipo Edificio', 'Valor': 'Entre Medianeras'}, {'Nombre': 'Tipo Frente', 'Valor': ''}, {'Nombre': 'Estado Edificio', 'Valor': 'Excelente'}, {'Nombre': 'Long. Frente', 'Valor': ''}, {'Nombre': 'Long. Fondo', 'Valor': ''}, {'Nombre': 'Tipo de Vista', 'Valor': 'Vista ciudad'}, {'Nombre': 'Tipo de Costa', 'Valor': ''}, {'Nombre': 'Sup. Playa', 'Valor': ''}, {'Nombre': 'Sup. Depósito', 'Valor': ''}]}, {'Nombre': 'Servicios del edificio', 'Jerarquia': 3, 'Items': [{'Nombre': 'ABL', 'Valor': True}, {'Nombre': 'Agua corriente', 'Valor': True}, {'Nombre': 'Bar', 'Valor': False}, {'Nombre': 'Calefacción', 'Valor': True}, {'Nombre': 'Cocina', 'Valor': True}, {'Nombre': 'Conmutador', 'Valor': False}, {'Nombre': 'Electricidad', 'Valor': True}, {'Nombre': 'Gas envasado', 'Valor': False}, {'Nombre': 'Gas natural', 'Valor': True}, {'Nombre': 'Internet', 'Valor': False}, {'Nombre': 'Refrigeración', 'Valor': False}, {'Nombre': 'Rentas', 'Valor': False}, {'Nombre': 'Lavanderia', 'Valor': False}, {'Nombre': 'Seguridad', 'Valor': False}, {'Nombre': 'Teléfono', 'Valor': False}, {'Nombre': 'Video cable', 'Valor': False}, {'Nombre': 'Vigilancia', 'Valor': False}]}, {'Nombre': 'Instalaciones del edificio', 'Jerarquia': 3, 'Items': [{'Nombre': 'Aire acondicionado central', 'Valor': False}, {'Nombre': 'Ascensor', 'Valor': False}, {'Nombre': 'Caldera', 'Valor': False}, {'Nombre': 'Espacio para vehículo', 'Valor': False}, {'Nombre': 'Gimnasio', 'Valor': False}, {'Nombre': 'Grupo electrógeno', 'Valor': False}, {'Nombre': 'Juegos para chicos', 'Valor': False}, {'Nombre': 'Laundry', 'Valor': False}, {'Nombre': 'Pileta', 'Valor': False}, {'Nombre': 'Salón de fiestas', 'Valor': False}, {'Nombre': 'Sauna', 'Valor': False}, {'Nombre': 'Termotanque', 'Valor': False}, {'Nombre': 'Parrilla', 'Valor': False}, {'Nombre': 'Cochera de cortesía', 'Valor': False}, {'Nombre': 'Solarium', 'Valor': False}, {'Nombre': 'Cancha de futbol', 'Valor': False}, {'Nombre': 'Cancha de tenis', 'Valor': False}, {'Nombre': 'Acceso para personas con movilidad reducida', 'Valor': False}]}]}\n"
          ]
        }
      ],
      "source": [
        "# Revisar los valores\n",
        "for row, valor in response.items():\n",
        "  print(f'{row:<28}: {valor}')"
      ]
    },
    {
      "cell_type": "code",
      "execution_count": 4,
      "metadata": {
        "colab": {
          "base_uri": "https://localhost:8080/"
        },
        "id": "8jRRYeqKLTAi",
        "outputId": "cc7f51ba-0bf7-40b9-e27b-b5d6ca4cce20"
      },
      "outputs": [
        {
          "data": {
            "text/plain": [
              "{'IdAviso': 12071730,\n",
              " 'TipoPropiedad_t': 'Departamento',\n",
              " 'TipoOperacion_t': 'Venta',\n",
              " 'MontoNormalizado_d': 200000.0,\n",
              " 'SuperficieCubierta_d': 150.0,\n",
              " 'SuperficieTotal_d': 150.0,\n",
              " 'Titulo_t': 'Espec Depto! M/lum! Excel Distrib! T/exter! Patio! Toil! S/expen! P/blindada! Lav indep! Apto! OPORT',\n",
              " 'Barrio_t': 'Palermo',\n",
              " 'Localidad_t': 'Capital Federal',\n",
              " 'Provincia_t': 'Capital Federal',\n",
              " 'Pais_t': 'Argentina',\n",
              " 'Direccion_NombreCalle_t': 'Bonpland',\n",
              " 'Direccion_Numero_i': 2400,\n",
              " 'Direccion_Latitud_d': -34.577451,\n",
              " 'Direccion_Longitud_d': -58.430507,\n",
              " 'FechaPublicacionAviso_dt': '2022-10-27T19:27:49Z',\n",
              " 'CantidadDormitorios_i': 3,\n",
              " 'CantidadAmbientes_i': 4,\n",
              " 'TelefonoWhatsApp_i': '5491139136402'}"
            ]
          },
          "execution_count": 4,
          "metadata": {},
          "output_type": "execute_result"
        }
      ],
      "source": [
        "def get_depto_info(contenido):\n",
        "  \"\"\"\n",
        "  Extrae los datos de las columnas de interes del contenido de un departamento\n",
        "  Devuelve un diccionario con los resultados\n",
        "  \"\"\"\n",
        "  columnas_interes = [\n",
        "      'IdAviso', 'TipoPropiedad_t', 'TipoOperacion_t', 'FechaPublicacionAviso_dt',\n",
        "      'MontoNormalizado_d', 'SuperficieCubierta_d', 'SuperficieTotal_d',\n",
        "      'Titulo_t', 'Direccion_NombreCalle_t', 'Direccion_Numero_i',\n",
        "      'CantidadDormitorios_i', 'CantidadAmbientes_i',\n",
        "      'Barrio_t', 'Localidad_t', 'Provincia_t', 'Pais_t',\n",
        "      'TelefonoWhatsApp_i', 'Direccion_Latitud_d', 'Direccion_Longitud_d'\n",
        "    ]\n",
        "  data = dict()\n",
        "  for row, valor in contenido.items():\n",
        "    if row in columnas_interes:\n",
        "      data[row] = valor\n",
        "\n",
        "  return data\n",
        "\n",
        "get_depto_info(response)"
      ]
    },
    {
      "cell_type": "code",
      "execution_count": 5,
      "metadata": {
        "colab": {
          "base_uri": "https://localhost:8080/"
        },
        "id": "ImiGOzAFNitV",
        "outputId": "a35b60ae-df14-474f-f173-3e7711283526"
      },
      "outputs": [
        {
          "data": {
            "text/plain": [
              "[{'IdAviso': 6663543,\n",
              "  'TipoOperacion_t': 'Venta',\n",
              "  'TipoPropiedad_t': 'Departamento',\n",
              "  'Localidad_t': 'Capital Federal',\n",
              "  'Barrio_t': 'Palermo',\n",
              "  'MontoNormalizado_d': 170000.0,\n",
              "  'Titulo_t': 'dos ambientes en duplex',\n",
              "  'Direccion_NombreCalle_t': 'Niceto Vega  5700'},\n",
              " {'IdAviso': 6470556,\n",
              "  'TipoOperacion_t': 'Venta',\n",
              "  'TipoPropiedad_t': 'Departamento',\n",
              "  'Localidad_t': 'Capital Federal',\n",
              "  'Barrio_t': 'Palermo',\n",
              "  'MontoNormalizado_d': 160000.0,\n",
              "  'Titulo_t': 'RETASADO!!!!! AMPLIO 2MB CON COCHERA FIJA',\n",
              "  'Direccion_NombreCalle_t': 'Charcas'},\n",
              " {'IdAviso': 6562362,\n",
              "  'TipoOperacion_t': 'Venta',\n",
              "  'TipoPropiedad_t': 'Departamento',\n",
              "  'Localidad_t': 'Capital Federal',\n",
              "  'Barrio_t': 'Palermo',\n",
              "  'MontoNormalizado_d': 159799.0,\n",
              "  'Titulo_t': 'CORDOBA 5515 - DEPTO MONOAMB DIVISIBLE A ESTRENAR CON PATIO',\n",
              "  'Direccion_NombreCalle_t': 'Cordoba  5500 1°'},\n",
              " {'IdAviso': 6565535,\n",
              "  'TipoOperacion_t': 'Venta',\n",
              "  'TipoPropiedad_t': 'Departamento',\n",
              "  'Localidad_t': 'Capital Federal',\n",
              "  'Barrio_t': 'Palermo',\n",
              "  'MontoNormalizado_d': 184105.0,\n",
              "  'Titulo_t': 'Departamento - Palermo Hollywood',\n",
              "  'Direccion_NombreCalle_t': 'Bonpland 2187 2do B'},\n",
              " {'IdAviso': 6565544,\n",
              "  'TipoOperacion_t': 'Venta',\n",
              "  'TipoPropiedad_t': 'Departamento',\n",
              "  'Localidad_t': 'Capital Federal',\n",
              "  'Barrio_t': 'Palermo',\n",
              "  'MontoNormalizado_d': 189508.0,\n",
              "  'Titulo_t': 'Departamento - Palermo Hollywood',\n",
              "  'Direccion_NombreCalle_t': 'Bonpland 2187 3ro B'}]"
            ]
          },
          "execution_count": 5,
          "metadata": {},
          "output_type": "execute_result"
        }
      ],
      "source": [
        "# Trabajar con las publicaciones similares\n",
        "# Se arma una lista con la misma informacion\n",
        "api_similares_url = 'https://api.sosiva451.com/avisos/similares/{id}'\n",
        "response_similares = requests.get(api_similares_url.format(id=departamento_id)).json()\n",
        "\n",
        "data_similares = [get_depto_info(depto_info) for depto_info in response_similares['Results']]\n",
        "data_similares"
      ]
    }
  ],
  "metadata": {
    "colab": {
      "provenance": []
    },
    "kernelspec": {
      "display_name": "Python 3",
      "language": "python",
      "name": "python3"
    },
    "language_info": {
      "codemirror_mode": {
        "name": "ipython",
        "version": 3
      },
      "file_extension": ".py",
      "mimetype": "text/x-python",
      "name": "python",
      "nbconvert_exporter": "python",
      "pygments_lexer": "ipython3",
      "version": "3.11.3"
    }
  },
  "nbformat": 4,
  "nbformat_minor": 0
}
