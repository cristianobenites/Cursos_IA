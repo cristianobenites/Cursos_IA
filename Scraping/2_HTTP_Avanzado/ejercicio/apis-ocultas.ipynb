{
 "cells": [
  {
   "cell_type": "markdown",
   "metadata": {},
   "source": [
    "<a href=\"https://colab.research.google.com/github/institutohumai/cursos-python/blob/master/Scraping/2_HTTP_Avanzado/ejecicio/apis-ocultas.ipynb\" target=\"_parent\"><img src=\"https://colab.research.google.com/assets/colab-badge.svg\" alt=\"Open In Colab\" data-canonical-src=\"https://colab.research.google.com/assets/colab-badge.svg\"></a>"
   ]
  },
  {
   "cell_type": "markdown",
   "metadata": {},
   "source": [
    "# Ejercicios APIs Ocultas"
   ]
  },
  {
   "attachments": {},
   "cell_type": "markdown",
   "metadata": {},
   "source": [
    "## Argenprop\n",
    "A partir del siguiente [link](https://www.argenprop.com/departamento-venta-barrio-palermo) con departamentos en venta en Palermo, se pide obtener los siguientes datos utilizando la API oculta de argenprop:\n",
    "- Id del aviso\n",
    "- Monto\n",
    "- Superficie\n",
    "- Direccion\n",
    "- Cantidad de ambientes\n",
    "\n",
    "Nota: Se pueden agregar más datos de interés"
   ]
  },
  {
   "cell_type": "code",
   "execution_count": 6,
   "metadata": {},
   "outputs": [],
   "source": []
  },
  {
   "attachments": {},
   "cell_type": "markdown",
   "metadata": {},
   "source": [
    "## Opcional\n",
    "Dentro de la API oculta de argenprop se encuentra un endpoint que trae los datos de 4 resultados similares a una publicación.\n",
    "\n",
    "Encontrar la url correspondiente y obtener los datos de las 4 publicaciones similares.\n"
   ]
  },
  {
   "cell_type": "markdown",
   "metadata": {},
   "source": []
  }
 ],
 "metadata": {
  "kernelspec": {
   "display_name": "Python 3",
   "language": "python",
   "name": "python3"
  },
  "language_info": {
   "codemirror_mode": {
    "name": "ipython",
    "version": 3
   },
   "file_extension": ".py",
   "mimetype": "text/x-python",
   "name": "python",
   "nbconvert_exporter": "python",
   "pygments_lexer": "ipython3",
   "version": "3.8.5"
  }
 },
 "nbformat": 4,
 "nbformat_minor": 4
}
