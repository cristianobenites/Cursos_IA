{
  "cells": [
    {
      "cell_type": "markdown",
      "metadata": {
        "id": "Zb9iUcUvkH8_"
      },
      "source": [
        "<a href=\"https://colab.research.google.com/github/institutohumai/cursos-python/blob/master/MatematicasParaIA/2_Matrices/ejercicios/Ejercicios_Matrices.ipynb\"> <img src='https://colab.research.google.com/assets/colab-badge.svg' /> </a>"
      ]
    },
    {
      "cell_type": "markdown",
      "metadata": {
        "id": "AOe1_suhwZNN"
      },
      "source": [
        "### Ejercicio 1: Suma Matrices\n",
        "Complete la implementación de la función suma_matrices para que devuelva como resultado la suma entre las dos matrices (arreglos numpy) pasados como parámetro (recordá verificar que los tamaños sean compatibles). "
      ]
    },
    {
      "cell_type": "code",
      "execution_count": 2,
      "metadata": {
        "id": "CkVRd7MMwZNP"
      },
      "outputs": [],
      "source": [
        "import numpy as np\n",
        "def suma_matrices(A, B):\n",
        "  suma = np.array([])\n",
        "  #complete con su código aquí\n",
        "  return suma"
      ]
    },
    {
      "cell_type": "code",
      "execution_count": null,
      "metadata": {
        "cellView": "form",
        "id": "YYxIsuAswZNR"
      },
      "outputs": [],
      "source": [
        "#@title Ejecuta esta celda para evaluar tu función\n",
        "import numpy as np\n",
        "A = np.array([\n",
        "    [10,20,30],\n",
        "    [40,50,60]\n",
        "])\n",
        "\n",
        "B = np.array([\n",
        "    [10,50,30],\n",
        "    [40,20,60]\n",
        "])\n",
        "\n",
        "C = np.array([\n",
        "        [ 2,  3,  5,  -8],\n",
        "        [4, 13, 17, -19],\n",
        "        [23, 15, 31, 0]\n",
        "])\n",
        "\n",
        "D = np.array([\n",
        "        [ 2,  3,  5,  7],\n",
        "        [11, 13, 17, 19],\n",
        "        [23, 29, 31, 37]\n",
        "    ])\n",
        "\n",
        "def test_suma(A,B,C,D):\n",
        "  if( not (suma_matrices(A, B) == A + B).all()): raise ValueError(\"La suma entre A y B falla\")\n",
        "  try:\n",
        "    suma_matrices(C, A)\n",
        "    print(\"Tu función no contempla tamaños incompatibles a la hora de sumar\" )\n",
        "  except ValueError:\n",
        "    print(\"Tu función suma_matrices está excelente\")\n",
        "\n",
        "test_suma(A,B,C,D)"
      ]
    },
    {
      "cell_type": "markdown",
      "metadata": {
        "id": "deUSjqihk0Fk"
      },
      "source": [
        "### Ejercicio 2\n",
        "Complete la implementación de las funciones es_triangular_superior(), es_triangular_inferior() y es_diagonal() para que devuelvan verdadero o falso según corresponda. "
      ]
    },
    {
      "cell_type": "code",
      "execution_count": null,
      "metadata": {
        "id": "EEYgk4_7p71E"
      },
      "outputs": [],
      "source": [
        "def es_triangular_superior(A):\n",
        "  #complete con su código aquí\n",
        "\n",
        "def es_triangular_inferior(A):\n",
        "  #complete con su código aquí  \n",
        "\n",
        "def es_diagonal(A):\n",
        "  #complete con su código aquí"
      ]
    },
    {
      "cell_type": "code",
      "execution_count": null,
      "metadata": {
        "cellView": "form",
        "id": "h_OQM9pfsCMR"
      },
      "outputs": [],
      "source": [
        "#@title Ejecuta esta celda para evaluar tu función\n",
        "import numpy as np\n",
        "A = np.array([[4, 1, 0],\n",
        "       [0, 5, 0],\n",
        "       [0, 0, 6]])\n",
        "\n",
        "B = np.array([[4, 0, 0],\n",
        "       [1, 5, 0],\n",
        "       [3, 0, 6]])\n",
        "\n",
        "C = np.array([[4, 0, 0],\n",
        "       [0, 5, 0],\n",
        "       [0, 0, 6]])\n",
        "\n",
        "D = np.array([\n",
        "        [ 2,  3,  5,  7],\n",
        "        [11, 13, 17, 19],\n",
        "        [23, 29, 31, 37]\n",
        "    ])\n",
        "\n",
        "def test(A,B,C,D):\n",
        "  if not es_triangular_superior(A): raise ValueError(\"tu función falla al detectar matrices triangulares superiores\")\n",
        "  if not es_triangular_inferior(B): raise ValueError(\"tu función falla al detectar matrices triangulares inferiores\")\n",
        "  if not es_diagonal(C): raise ValueError(\"tu función falla al detectar matrices diagonales\")\n",
        "  if es_triangular_superior(B) or es_triangular_superior(D): raise ValueError(\"tu función indica como matrices triangulares superiores algunas matrices que no lo son\")\n",
        "  if es_triangular_inferior(A) or es_triangular_inferior(D): raise ValueError(\"tu función indica como matrices triangulares inferiores algunas matrices que no lo son\")\n",
        "  if es_diagonal(A) or es_diagonal(D) or es_diagonal(B): raise ValueError(\"tu función indica como matrices diagonales algunas matrices que no lo son\")\n",
        "  print(\"Las tres funciones están excelentes!\")\n",
        "test(A,B,C,D)"
      ]
    },
    {
      "cell_type": "markdown",
      "metadata": {
        "id": "HhxxLQZlsmAI"
      },
      "source": [
        "### Ejercicio 3\n",
        "Complete la implementación de la función producto_matrices para que devuelva como resultado la multiplicación entre las dos matrices (arreglos numpy) pasados como parámetro (recordá verificar que los tamaños sean compatibles). "
      ]
    },
    {
      "cell_type": "code",
      "execution_count": null,
      "metadata": {
        "id": "C-4XY7pniJbl"
      },
      "outputs": [],
      "source": [
        "def producto_matrices(a, b):\n",
        "  producto = np.array([])\n",
        "  #complete con su código aquí\n",
        "  return producto"
      ]
    },
    {
      "cell_type": "code",
      "execution_count": null,
      "metadata": {
        "cellView": "form",
        "id": "__42ho37iYNr"
      },
      "outputs": [],
      "source": [
        "#@title Ejecuta esta celda para evaluar tu función\n",
        "import numpy as np\n",
        "A = np.array([\n",
        "    [10,20,30],\n",
        "    [40,50,60]\n",
        "])\n",
        "\n",
        "B = np.array([\n",
        "    [10,50,30],\n",
        "    [40,20,60]\n",
        "])\n",
        "\n",
        "C = np.array([\n",
        "        [ 2,  3,  5,  -8],\n",
        "        [4, 13, 17, -19],\n",
        "        [23, 15, 31, 0]\n",
        "])\n",
        "\n",
        "D = np.array([\n",
        "        [ 2,  3,  5,  7],\n",
        "        [11, 13, 17, 19],\n",
        "        [23, 29, 31, 37]\n",
        "    ])\n",
        "def test_producto(A,B,C,D):\n",
        "  if( not (producto_matrices(A, C) == A.dot(C)).all()): raise ValueError(\"La multiplicación entre A y C falla\")\n",
        "  try:\n",
        "    producto_matrices(C, A)\n",
        "    print(\"Tu función no contempla tamaños incompatibles a la hora de multiplicar\" )\n",
        "  except ValueError:\n",
        "    print(\"Tu función producto_matrices está excelente\")\n",
        "\n",
        "test_producto(A,B,C,D)\n",
        "\n",
        "def test_suma(A,B,C,D):\n",
        "  if( not (suma_matrices(A, B) == A + B).all()): raise ValueError(\"La suma entre A y B falla\")\n",
        "  try:\n",
        "    producto_matrices(C, A)\n",
        "    print(\"Tu función no contempla tamaños incompatibles a la hora de sumar\" )\n",
        "  except ValueError:\n",
        "    print(\"Tu función suma_matrices está excelente\")"
      ]
    },
    {
      "cell_type": "markdown",
      "metadata": {
        "id": "PHwBzbzRsxA1"
      },
      "source": [
        "### Ejercicio 4\n",
        "¿Se puede encontrar un modelo lineal que prediga la puntuación general de un jugador en el videojuego FIFA 19 en función de las estadísticas que mantiene el juego sobre sus habilidades?\n",
        "\n"
      ]
    },
    {
      "cell_type": "markdown",
      "metadata": {
        "id": "vLzV947LmAQi"
      },
      "source": [
        "El dataset de entrenamiento está compuesto por los datos de 7999 jugadores de FIFA y por cada jugador existen 89 características o features que se describen a continuación:\n",
        "\n",
        "    Datos del jugador:\n",
        "    1-Datapoint: número de fila\n",
        "    2-ID: id único dentro del juego\n",
        "    3-Name\n",
        "    4-Age\n",
        "    5-Photo: url a la foto del jugador\n",
        "    6-Nationality\n",
        "    7-Flag: url a la bandera de su país\n",
        "    8-Overall: puntaje total del 1 al 100\n",
        "    9-Potential: puntaje que sirve para el modo Carrera\n",
        "    10-Club :\n",
        "    11-Club Logo: url al logo del club\n",
        "    12-Value: valor de mercado actual\n",
        "    13-Wage: sueldo actual\n",
        "    14-Special: se aplica si un jugador tiene el rasgo Flair(instinto)\n",
        "    15-Preferred Foot: left/right\n",
        "    16-International Reputation: en una escala del 1 al 5\n",
        "    17-Weak Foot: en una escala del 1 al 5\n",
        "    18-Skill Moves: en una escala del 1 al 5\n",
        "    19-Work Rate: proporción ataque/defensa\n",
        "    20-Body Type:\n",
        "    21-Real Face: true or false\n",
        "    22-Jersey Number:\n",
        "    23-Joined: fecha en la que se unió al club\n",
        "    24-Loaned From: nombre del club del que está a préstamo\n",
        "    25-Contract Valid Until: fecha de fin de contrato\n",
        "    26-Height : en pies y pulgadas\n",
        "    27-Weight : en pies y pulgadas\n",
        "\n",
        "-----Features basadas en habilidades-----\n",
        "\n",
        "    28-Crossing\n",
        "    29-Finishing\n",
        "    30-HeadingAccuracy\n",
        "    31-ShortPassing\n",
        "    32-Volleys\n",
        "    33-Dribbling\n",
        "    34-Curve\n",
        "    35-FKAccuracy\n",
        "    36-LongPassing\n",
        "    37-BallControl\n",
        "    38-Acceleration\n",
        "    39-SprintSpeed\n",
        "    40-Agility\n",
        "    41-Reactions\n",
        "    42-Balance\n",
        "    43-ShotPower\n",
        "    44-Jumping\n",
        "    45-Stamina\n",
        "    46-Strength\n",
        "    47-LongShots\n",
        "    48-Aggression\n",
        "    49-Interceptions\n",
        "    50-Positioning\n",
        "    51-Vision\n",
        "    52-Penalties\n",
        "    53-Composure\n",
        "    54-Marking\n",
        "    55-StandingTackle\n",
        "    56-SlidingTackle\n",
        "    57-GKDiving\n",
        "    58-GKHandling\n",
        "    59-GKKicking\n",
        "    60-GKPositioning\n",
        "    61-GKReflexes\n",
        "\n",
        "-----Últimas features-----\n",
        "\n",
        "    62-Release.Clause : Es básicamente una cláusula insertada en el contrato de un jugador que permite que otros clubes intenten fichar a ese jugador.\n",
        "    63- Position: Indica si juega como arquero (GK), defensor (DEF), mediocampista (MID) o delantero (FWD)."
      ]
    },
    {
      "cell_type": "code",
      "execution_count": null,
      "metadata": {},
      "outputs": [],
      "source": [
        "!wget https://unket.s3.sa-east-1.amazonaws.com/data/fifa.csv"
      ]
    },
    {
      "cell_type": "code",
      "execution_count": null,
      "metadata": {
        "colab": {
          "base_uri": "https://localhost:8080/",
          "height": 491
        },
        "id": "3OhWNZlvsvsR",
        "outputId": "765ec557-288b-4e59-db19-1ec0adc31a59"
      },
      "outputs": [
        {
          "data": {
            "text/html": [
              "\n",
              "  <div id=\"df-dd778baa-8e6c-4834-95d5-a3ef21dc99fe\">\n",
              "    <div class=\"colab-df-container\">\n",
              "      <div>\n",
              "<style scoped>\n",
              "    .dataframe tbody tr th:only-of-type {\n",
              "        vertical-align: middle;\n",
              "    }\n",
              "\n",
              "    .dataframe tbody tr th {\n",
              "        vertical-align: top;\n",
              "    }\n",
              "\n",
              "    .dataframe thead th {\n",
              "        text-align: right;\n",
              "    }\n",
              "</style>\n",
              "<table border=\"1\" class=\"dataframe\">\n",
              "  <thead>\n",
              "    <tr style=\"text-align: right;\">\n",
              "      <th></th>\n",
              "      <th>ID</th>\n",
              "      <th>Name</th>\n",
              "      <th>Age</th>\n",
              "      <th>Photo</th>\n",
              "      <th>Nationality</th>\n",
              "      <th>Flag</th>\n",
              "      <th>Overall</th>\n",
              "      <th>Potential</th>\n",
              "      <th>Club</th>\n",
              "      <th>Club Logo</th>\n",
              "      <th>...</th>\n",
              "      <th>Marking</th>\n",
              "      <th>StandingTackle</th>\n",
              "      <th>SlidingTackle</th>\n",
              "      <th>GKDiving</th>\n",
              "      <th>GKHandling</th>\n",
              "      <th>GKKicking</th>\n",
              "      <th>GKPositioning</th>\n",
              "      <th>GKReflexes</th>\n",
              "      <th>Release Clause</th>\n",
              "      <th>Position</th>\n",
              "    </tr>\n",
              "  </thead>\n",
              "  <tbody>\n",
              "    <tr>\n",
              "      <th>0</th>\n",
              "      <td>158023</td>\n",
              "      <td>L. Messi</td>\n",
              "      <td>31</td>\n",
              "      <td>https://cdn.sofifa.org/players/4/19/158023.png</td>\n",
              "      <td>Argentina</td>\n",
              "      <td>https://cdn.sofifa.org/flags/52.png</td>\n",
              "      <td>94</td>\n",
              "      <td>94</td>\n",
              "      <td>FC Barcelona</td>\n",
              "      <td>https://cdn.sofifa.org/teams/2/light/241.png</td>\n",
              "      <td>...</td>\n",
              "      <td>33</td>\n",
              "      <td>28</td>\n",
              "      <td>26</td>\n",
              "      <td>6</td>\n",
              "      <td>11</td>\n",
              "      <td>15</td>\n",
              "      <td>14</td>\n",
              "      <td>8</td>\n",
              "      <td>226.5M</td>\n",
              "      <td>FWD</td>\n",
              "    </tr>\n",
              "    <tr>\n",
              "      <th>1</th>\n",
              "      <td>20801</td>\n",
              "      <td>Cristiano Ronaldo</td>\n",
              "      <td>33</td>\n",
              "      <td>https://cdn.sofifa.org/players/4/19/20801.png</td>\n",
              "      <td>Portugal</td>\n",
              "      <td>https://cdn.sofifa.org/flags/38.png</td>\n",
              "      <td>94</td>\n",
              "      <td>94</td>\n",
              "      <td>Juventus</td>\n",
              "      <td>https://cdn.sofifa.org/teams/2/light/45.png</td>\n",
              "      <td>...</td>\n",
              "      <td>28</td>\n",
              "      <td>31</td>\n",
              "      <td>23</td>\n",
              "      <td>7</td>\n",
              "      <td>11</td>\n",
              "      <td>15</td>\n",
              "      <td>14</td>\n",
              "      <td>11</td>\n",
              "      <td>127.1M</td>\n",
              "      <td>FWD</td>\n",
              "    </tr>\n",
              "    <tr>\n",
              "      <th>2</th>\n",
              "      <td>190871</td>\n",
              "      <td>Neymar Jr</td>\n",
              "      <td>26</td>\n",
              "      <td>https://cdn.sofifa.org/players/4/19/190871.png</td>\n",
              "      <td>Brazil</td>\n",
              "      <td>https://cdn.sofifa.org/flags/54.png</td>\n",
              "      <td>92</td>\n",
              "      <td>93</td>\n",
              "      <td>Paris Saint-Germain</td>\n",
              "      <td>https://cdn.sofifa.org/teams/2/light/73.png</td>\n",
              "      <td>...</td>\n",
              "      <td>27</td>\n",
              "      <td>24</td>\n",
              "      <td>33</td>\n",
              "      <td>9</td>\n",
              "      <td>9</td>\n",
              "      <td>15</td>\n",
              "      <td>15</td>\n",
              "      <td>11</td>\n",
              "      <td>228.1M</td>\n",
              "      <td>FWD</td>\n",
              "    </tr>\n",
              "    <tr>\n",
              "      <th>3</th>\n",
              "      <td>192985</td>\n",
              "      <td>K. De Bruyne</td>\n",
              "      <td>27</td>\n",
              "      <td>https://cdn.sofifa.org/players/4/19/192985.png</td>\n",
              "      <td>Belgium</td>\n",
              "      <td>https://cdn.sofifa.org/flags/7.png</td>\n",
              "      <td>91</td>\n",
              "      <td>92</td>\n",
              "      <td>Manchester City</td>\n",
              "      <td>https://cdn.sofifa.org/teams/2/light/10.png</td>\n",
              "      <td>...</td>\n",
              "      <td>68</td>\n",
              "      <td>58</td>\n",
              "      <td>51</td>\n",
              "      <td>15</td>\n",
              "      <td>13</td>\n",
              "      <td>5</td>\n",
              "      <td>10</td>\n",
              "      <td>13</td>\n",
              "      <td>196.4M</td>\n",
              "      <td>MID</td>\n",
              "    </tr>\n",
              "    <tr>\n",
              "      <th>4</th>\n",
              "      <td>193080</td>\n",
              "      <td>De Gea</td>\n",
              "      <td>27</td>\n",
              "      <td>https://cdn.sofifa.org/players/4/19/193080.png</td>\n",
              "      <td>Spain</td>\n",
              "      <td>https://cdn.sofifa.org/flags/45.png</td>\n",
              "      <td>91</td>\n",
              "      <td>93</td>\n",
              "      <td>Manchester United</td>\n",
              "      <td>https://cdn.sofifa.org/teams/2/light/11.png</td>\n",
              "      <td>...</td>\n",
              "      <td>15</td>\n",
              "      <td>21</td>\n",
              "      <td>13</td>\n",
              "      <td>90</td>\n",
              "      <td>85</td>\n",
              "      <td>87</td>\n",
              "      <td>88</td>\n",
              "      <td>94</td>\n",
              "      <td>138.6M</td>\n",
              "      <td>GK</td>\n",
              "    </tr>\n",
              "  </tbody>\n",
              "</table>\n",
              "<p>5 rows × 62 columns</p>\n",
              "</div>\n",
              "      <button class=\"colab-df-convert\" onclick=\"convertToInteractive('df-dd778baa-8e6c-4834-95d5-a3ef21dc99fe')\"\n",
              "              title=\"Convert this dataframe to an interactive table.\"\n",
              "              style=\"display:none;\">\n",
              "        \n",
              "  <svg xmlns=\"http://www.w3.org/2000/svg\" height=\"24px\"viewBox=\"0 0 24 24\"\n",
              "       width=\"24px\">\n",
              "    <path d=\"M0 0h24v24H0V0z\" fill=\"none\"/>\n",
              "    <path d=\"M18.56 5.44l.94 2.06.94-2.06 2.06-.94-2.06-.94-.94-2.06-.94 2.06-2.06.94zm-11 1L8.5 8.5l.94-2.06 2.06-.94-2.06-.94L8.5 2.5l-.94 2.06-2.06.94zm10 10l.94 2.06.94-2.06 2.06-.94-2.06-.94-.94-2.06-.94 2.06-2.06.94z\"/><path d=\"M17.41 7.96l-1.37-1.37c-.4-.4-.92-.59-1.43-.59-.52 0-1.04.2-1.43.59L10.3 9.45l-7.72 7.72c-.78.78-.78 2.05 0 2.83L4 21.41c.39.39.9.59 1.41.59.51 0 1.02-.2 1.41-.59l7.78-7.78 2.81-2.81c.8-.78.8-2.07 0-2.86zM5.41 20L4 18.59l7.72-7.72 1.47 1.35L5.41 20z\"/>\n",
              "  </svg>\n",
              "      </button>\n",
              "      \n",
              "  <style>\n",
              "    .colab-df-container {\n",
              "      display:flex;\n",
              "      flex-wrap:wrap;\n",
              "      gap: 12px;\n",
              "    }\n",
              "\n",
              "    .colab-df-convert {\n",
              "      background-color: #E8F0FE;\n",
              "      border: none;\n",
              "      border-radius: 50%;\n",
              "      cursor: pointer;\n",
              "      display: none;\n",
              "      fill: #1967D2;\n",
              "      height: 32px;\n",
              "      padding: 0 0 0 0;\n",
              "      width: 32px;\n",
              "    }\n",
              "\n",
              "    .colab-df-convert:hover {\n",
              "      background-color: #E2EBFA;\n",
              "      box-shadow: 0px 1px 2px rgba(60, 64, 67, 0.3), 0px 1px 3px 1px rgba(60, 64, 67, 0.15);\n",
              "      fill: #174EA6;\n",
              "    }\n",
              "\n",
              "    [theme=dark] .colab-df-convert {\n",
              "      background-color: #3B4455;\n",
              "      fill: #D2E3FC;\n",
              "    }\n",
              "\n",
              "    [theme=dark] .colab-df-convert:hover {\n",
              "      background-color: #434B5C;\n",
              "      box-shadow: 0px 1px 3px 1px rgba(0, 0, 0, 0.15);\n",
              "      filter: drop-shadow(0px 1px 2px rgba(0, 0, 0, 0.3));\n",
              "      fill: #FFFFFF;\n",
              "    }\n",
              "  </style>\n",
              "\n",
              "      <script>\n",
              "        const buttonEl =\n",
              "          document.querySelector('#df-dd778baa-8e6c-4834-95d5-a3ef21dc99fe button.colab-df-convert');\n",
              "        buttonEl.style.display =\n",
              "          google.colab.kernel.accessAllowed ? 'block' : 'none';\n",
              "\n",
              "        async function convertToInteractive(key) {\n",
              "          const element = document.querySelector('#df-dd778baa-8e6c-4834-95d5-a3ef21dc99fe');\n",
              "          const dataTable =\n",
              "            await google.colab.kernel.invokeFunction('convertToInteractive',\n",
              "                                                     [key], {});\n",
              "          if (!dataTable) return;\n",
              "\n",
              "          const docLinkHtml = 'Like what you see? Visit the ' +\n",
              "            '<a target=\"_blank\" href=https://colab.research.google.com/notebooks/data_table.ipynb>data table notebook</a>'\n",
              "            + ' to learn more about interactive tables.';\n",
              "          element.innerHTML = '';\n",
              "          dataTable['output_type'] = 'display_data';\n",
              "          await google.colab.output.renderOutput(dataTable, element);\n",
              "          const docLink = document.createElement('div');\n",
              "          docLink.innerHTML = docLinkHtml;\n",
              "          element.appendChild(docLink);\n",
              "        }\n",
              "      </script>\n",
              "    </div>\n",
              "  </div>\n",
              "  "
            ],
            "text/plain": [
              "       ID               Name  Age  \\\n",
              "0  158023           L. Messi   31   \n",
              "1   20801  Cristiano Ronaldo   33   \n",
              "2  190871          Neymar Jr   26   \n",
              "3  192985       K. De Bruyne   27   \n",
              "4  193080             De Gea   27   \n",
              "\n",
              "                                            Photo Nationality  \\\n",
              "0  https://cdn.sofifa.org/players/4/19/158023.png   Argentina   \n",
              "1   https://cdn.sofifa.org/players/4/19/20801.png    Portugal   \n",
              "2  https://cdn.sofifa.org/players/4/19/190871.png      Brazil   \n",
              "3  https://cdn.sofifa.org/players/4/19/192985.png     Belgium   \n",
              "4  https://cdn.sofifa.org/players/4/19/193080.png       Spain   \n",
              "\n",
              "                                  Flag  Overall  Potential  \\\n",
              "0  https://cdn.sofifa.org/flags/52.png       94         94   \n",
              "1  https://cdn.sofifa.org/flags/38.png       94         94   \n",
              "2  https://cdn.sofifa.org/flags/54.png       92         93   \n",
              "3   https://cdn.sofifa.org/flags/7.png       91         92   \n",
              "4  https://cdn.sofifa.org/flags/45.png       91         93   \n",
              "\n",
              "                  Club                                     Club Logo  ...  \\\n",
              "0         FC Barcelona  https://cdn.sofifa.org/teams/2/light/241.png  ...   \n",
              "1             Juventus   https://cdn.sofifa.org/teams/2/light/45.png  ...   \n",
              "2  Paris Saint-Germain   https://cdn.sofifa.org/teams/2/light/73.png  ...   \n",
              "3      Manchester City   https://cdn.sofifa.org/teams/2/light/10.png  ...   \n",
              "4    Manchester United   https://cdn.sofifa.org/teams/2/light/11.png  ...   \n",
              "\n",
              "  Marking StandingTackle  SlidingTackle GKDiving  GKHandling  GKKicking  \\\n",
              "0      33             28             26        6          11         15   \n",
              "1      28             31             23        7          11         15   \n",
              "2      27             24             33        9           9         15   \n",
              "3      68             58             51       15          13          5   \n",
              "4      15             21             13       90          85         87   \n",
              "\n",
              "   GKPositioning GKReflexes Release Clause Position  \n",
              "0             14          8         226.5M      FWD  \n",
              "1             14         11         127.1M      FWD  \n",
              "2             15         11         228.1M      FWD  \n",
              "3             10         13         196.4M      MID  \n",
              "4             88         94         138.6M       GK  \n",
              "\n",
              "[5 rows x 62 columns]"
            ]
          },
          "execution_count": 4,
          "metadata": {},
          "output_type": "execute_result"
        }
      ],
      "source": [
        "import pandas as pd\n",
        "data = pd.read_csv(\"fifa.csv\")\n",
        "data.head()"
      ]
    },
    {
      "cell_type": "markdown",
      "metadata": {
        "id": "TBdPC9rIm0NQ"
      },
      "source": [
        "Nuestro objetivo será encontrar un modelo lineal mediante regresión lineal múltiple que nos permita encontrar predecir el puntaje \"Overall\" del jugador (feature número 8) a partir de las habilidades del jugador (features 28 a 61). \n",
        "Para eso, siga las siguientes instrucciones:"
      ]
    },
    {
      "cell_type": "markdown",
      "metadata": {
        "id": "6I0rhofRnw81"
      },
      "source": [
        "#### Paso 1\n",
        "Genere la matriz X y el vector y de la regresión lineal a partir de las features de habilidad y el puntaje overall respectivamente. \n",
        "\n",
        "Nota: recuerde agregar una columna de 1 al principio de la matriz X para contemplar un coeficiente independiete $\\beta_0$"
      ]
    },
    {
      "cell_type": "code",
      "execution_count": null,
      "metadata": {
        "id": "ZzsJa-CC5X52"
      },
      "outputs": [],
      "source": [
        "#complete con su código aquí"
      ]
    },
    {
      "cell_type": "markdown",
      "metadata": {
        "id": "RlqRkSbzov5a"
      },
      "source": [
        "#### Paso 2\n",
        "Calcule el vector de coeficientes $\\boldsymbol{\\beta}$ utilizando la fórmula $\\boldsymbol{\\beta}= (X^TX)^{-1}X^TY$"
      ]
    },
    {
      "cell_type": "code",
      "execution_count": null,
      "metadata": {
        "id": "7u5SD_sU5uIl"
      },
      "outputs": [],
      "source": [
        "import numpy.linalg as LA\n",
        "#complete con su código aquí"
      ]
    },
    {
      "cell_type": "markdown",
      "metadata": {
        "id": "Y8Wu6I1MpUWs"
      },
      "source": [
        "#### Paso 3\n",
        "Calcule las predicciones del puntaje \"Overall\" utilizando la fórmula $\\boldsymbol{\\hat{y}} =\\boldsymbol{\\beta}X^T$. Luego grafique los vectores $\\boldsymbol{\\hat{y}}$ e $\\boldsymbol{y}$ en un mismo plot para compararlos."
      ]
    },
    {
      "cell_type": "code",
      "execution_count": null,
      "metadata": {
        "id": "CcQLVv_R5vmH"
      },
      "outputs": [],
      "source": [
        "import matplotlib.pyplot as plt\n",
        "#complete con su código aquí"
      ]
    }
  ],
  "metadata": {
    "colab": {
      "collapsed_sections": [
        "deUSjqihk0Fk",
        "HhxxLQZlsmAI"
      ],
      "name": "Ejercicios_Matrices",
      "provenance": []
    },
    "kernelspec": {
      "display_name": "Python 3",
      "name": "python3"
    },
    "language_info": {
      "name": "python"
    }
  },
  "nbformat": 4,
  "nbformat_minor": 0
}
