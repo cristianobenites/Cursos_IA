{
  "cells": [
    {
      "cell_type": "markdown",
      "metadata": {},
      "source": [
        "<a href=\"https://colab.research.google.com/github/institutohumai/cursos-python/blob/master/MatematicasParaIA/7_Estadistica/ejercicios/ejercicios.ipynb\"><img src='https://colab.research.google.com/assets/colab-badge.svg'/></a>"
      ]
    },
    {
      "cell_type": "markdown",
      "metadata": {
        "id": "tIPBq-XweaYC"
      },
      "source": [
        "## MyPersonality"
      ]
    },
    {
      "cell_type": "markdown",
      "metadata": {
        "id": "1Wrsnq91dug0"
      },
      "source": [
        "La prueba Big5 (Costa y Mac Crae 1985, Goldberg et al. 2006) es una taxonomía o clasificación de rasgos de personalidad que analiza la composición de cinco dimensiones de personalidad en su sentido más amplio. Esta disertación se publicó en el Psychological Review, 41, 1-32. Los cinco factores son:\n",
        "\n",
        "- Apertura a la experiencia (inventivo / curioso vs. consistente / cauteloso) O  \n",
        "- Escrupulosidad (eficiente / organizado vs. extravagante / descuidado) C  \n",
        "- Extraversión (sociable / enérgico vs. solitario / reservado) E  \n",
        "- Amabilidad (amigable / compasivo vs. desafiante / insensible) A  \n",
        "- Neuroticismo (susceptible / nervioso vs. resistente / seguro) N\n",
        "\n",
        "<table class=\"inline\">\n",
        "\t<thead>\n",
        "\t<tr class=\"row0\">\n",
        "\t\t<th class=\"col0\">Variable name</th><th class=\"col1\">Description</th><th class=\"col2\">Details</th>\n",
        "\t</tr>\n",
        "\t</thead>\n",
        "\t<tbody><tr class=\"row1\">\n",
        "\t\t<td class=\"col0\">userid</td><td class=\"col1\">Unique user identifier </td><td class=\"col2\"> </td>\n",
        "\t</tr>\n",
        "\t<tr class=\"row2\">\n",
        "\t\t<td class=\"col0\">ope</td><td class=\"col1\">IPIP-NEO Openness </td><td class=\"col2\"> </td>\n",
        "\t</tr>\n",
        "\t<tr class=\"row3\">\n",
        "\t\t<td class=\"col0\">con</td><td class=\"col1\">IPIP-NEO Conscientiousness</td><td class=\"col2\"> </td>\n",
        "\t</tr>\n",
        "\t<tr class=\"row4\">\n",
        "\t\t<td class=\"col0\">ext</td><td class=\"col1\">IPIP-NEO Extroversion</td><td class=\"col2\"> </td>\n",
        "\t</tr>\n",
        "\t<tr class=\"row5\">\n",
        "\t\t<td class=\"col0\">agr</td><td class=\"col1\">IPIP-NEO Agreeableness</td><td class=\"col2\"> </td>\n",
        "\t</tr>\n",
        "\t<tr class=\"row6\">\n",
        "\t\t<td class=\"col0\">neu</td><td class=\"col1\">IPIP-NEO Neuroticism</td><td class=\"col2\"> </td>\n",
        "\t</tr>\n",
        "\t<tr class=\"row7\">\n",
        "\t\t<td class=\"col0\">item_level</td><td class=\"col1\">0/1 whether we have item-level data for the IPIP-NEO domains personality</td><td class=\"col2\"> </td>\n",
        "\t</tr>\n",
        "\t<tr class=\"row8\">\n",
        "\t\t<td class=\"col0\">blocks</td><td class=\"col1\">Length of the IPIP-NEO domains questionnaire (20-336)</td><td class=\"col2\"> </td>\n",
        "\t</tr>\n",
        "\t<tr class=\"row9\">\n",
        "\t\t<td class=\"col0\">date</td><td class=\"col1\">Date taken</td><td class=\"col2\"> </td>\n",
        "\t</tr>\n",
        "</tbody></table>"
      ]
    },
    {
      "cell_type": "code",
      "execution_count": 1,
      "metadata": {
        "id": "2LAYxcZGeYdN"
      },
      "outputs": [],
      "source": [
        "import pandas as pd\n",
        "import plotly.express as px\n",
        "from scipy.stats import pearsonr\n",
        "import numpy as np"
      ]
    },
    {
      "cell_type": "code",
      "execution_count": 2,
      "metadata": {
        "colab": {
          "base_uri": "https://localhost:8080/"
        },
        "id": "jlo9DZIydK0G",
        "outputId": "588bbc3b-efa6-4b53-9f82-8bd7ef43043b"
      },
      "outputs": [
        {
          "data": {
            "text/plain": [
              "(9917, 20)"
            ]
          },
          "execution_count": 2,
          "metadata": {},
          "output_type": "execute_result"
        }
      ],
      "source": [
        "df = pd.read_csv('https://unket.s3-sa-east-1.amazonaws.com/data/mypersonality.csv')\n",
        "#df = df.drop_duplicates(subset='#AUTHID')\n",
        "df.shape"
      ]
    },
    {
      "cell_type": "code",
      "execution_count": 3,
      "metadata": {
        "colab": {
          "base_uri": "https://localhost:8080/",
          "height": 687
        },
        "id": "6C8XgjLqRGh_",
        "outputId": "af5df89f-32d1-47f4-e5d8-5cd755c26ddb"
      },
      "outputs": [
        {
          "data": {
            "text/html": [
              "\n",
              "  <div id=\"df-32245f68-066a-4c08-89e7-e3f27a414cd7\">\n",
              "    <div class=\"colab-df-container\">\n",
              "      <div>\n",
              "<style scoped>\n",
              "    .dataframe tbody tr th:only-of-type {\n",
              "        vertical-align: middle;\n",
              "    }\n",
              "\n",
              "    .dataframe tbody tr th {\n",
              "        vertical-align: top;\n",
              "    }\n",
              "\n",
              "    .dataframe thead th {\n",
              "        text-align: right;\n",
              "    }\n",
              "</style>\n",
              "<table border=\"1\" class=\"dataframe\">\n",
              "  <thead>\n",
              "    <tr style=\"text-align: right;\">\n",
              "      <th></th>\n",
              "      <th>#AUTHID</th>\n",
              "      <th>STATUS</th>\n",
              "      <th>sEXT</th>\n",
              "      <th>sNEU</th>\n",
              "      <th>sAGR</th>\n",
              "      <th>sCON</th>\n",
              "      <th>sOPN</th>\n",
              "      <th>cEXT</th>\n",
              "      <th>cNEU</th>\n",
              "      <th>cAGR</th>\n",
              "      <th>cCON</th>\n",
              "      <th>cOPN</th>\n",
              "      <th>DATE</th>\n",
              "      <th>NETWORKSIZE</th>\n",
              "      <th>BETWEENNESS</th>\n",
              "      <th>NBETWEENNESS</th>\n",
              "      <th>DENSITY</th>\n",
              "      <th>BROKERAGE</th>\n",
              "      <th>NBROKERAGE</th>\n",
              "      <th>TRANSITIVITY</th>\n",
              "    </tr>\n",
              "  </thead>\n",
              "  <tbody>\n",
              "    <tr>\n",
              "      <th>0</th>\n",
              "      <td>b7b7764cfa1c523e4e93ab2a79a946c4</td>\n",
              "      <td>likes the sound of thunder.</td>\n",
              "      <td>2.65</td>\n",
              "      <td>3.0</td>\n",
              "      <td>3.15</td>\n",
              "      <td>3.25</td>\n",
              "      <td>4.4</td>\n",
              "      <td>n</td>\n",
              "      <td>y</td>\n",
              "      <td>n</td>\n",
              "      <td>n</td>\n",
              "      <td>y</td>\n",
              "      <td>06/19/09 03:21 PM</td>\n",
              "      <td>180.0</td>\n",
              "      <td>14861.6</td>\n",
              "      <td>93.29</td>\n",
              "      <td>0.03</td>\n",
              "      <td>15661.0</td>\n",
              "      <td>0.49</td>\n",
              "      <td>0.1</td>\n",
              "    </tr>\n",
              "    <tr>\n",
              "      <th>1</th>\n",
              "      <td>b7b7764cfa1c523e4e93ab2a79a946c4</td>\n",
              "      <td>is so sleepy it's not even funny that's she ca...</td>\n",
              "      <td>2.65</td>\n",
              "      <td>3.0</td>\n",
              "      <td>3.15</td>\n",
              "      <td>3.25</td>\n",
              "      <td>4.4</td>\n",
              "      <td>n</td>\n",
              "      <td>y</td>\n",
              "      <td>n</td>\n",
              "      <td>n</td>\n",
              "      <td>y</td>\n",
              "      <td>07/02/09 08:41 AM</td>\n",
              "      <td>180.0</td>\n",
              "      <td>14861.6</td>\n",
              "      <td>93.29</td>\n",
              "      <td>0.03</td>\n",
              "      <td>15661.0</td>\n",
              "      <td>0.49</td>\n",
              "      <td>0.1</td>\n",
              "    </tr>\n",
              "    <tr>\n",
              "      <th>2</th>\n",
              "      <td>b7b7764cfa1c523e4e93ab2a79a946c4</td>\n",
              "      <td>is sore and wants the knot of muscles at the b...</td>\n",
              "      <td>2.65</td>\n",
              "      <td>3.0</td>\n",
              "      <td>3.15</td>\n",
              "      <td>3.25</td>\n",
              "      <td>4.4</td>\n",
              "      <td>n</td>\n",
              "      <td>y</td>\n",
              "      <td>n</td>\n",
              "      <td>n</td>\n",
              "      <td>y</td>\n",
              "      <td>06/15/09 01:15 PM</td>\n",
              "      <td>180.0</td>\n",
              "      <td>14861.6</td>\n",
              "      <td>93.29</td>\n",
              "      <td>0.03</td>\n",
              "      <td>15661.0</td>\n",
              "      <td>0.49</td>\n",
              "      <td>0.1</td>\n",
              "    </tr>\n",
              "    <tr>\n",
              "      <th>3</th>\n",
              "      <td>b7b7764cfa1c523e4e93ab2a79a946c4</td>\n",
              "      <td>likes how the day sounds in this new song.</td>\n",
              "      <td>2.65</td>\n",
              "      <td>3.0</td>\n",
              "      <td>3.15</td>\n",
              "      <td>3.25</td>\n",
              "      <td>4.4</td>\n",
              "      <td>n</td>\n",
              "      <td>y</td>\n",
              "      <td>n</td>\n",
              "      <td>n</td>\n",
              "      <td>y</td>\n",
              "      <td>06/22/09 04:48 AM</td>\n",
              "      <td>180.0</td>\n",
              "      <td>14861.6</td>\n",
              "      <td>93.29</td>\n",
              "      <td>0.03</td>\n",
              "      <td>15661.0</td>\n",
              "      <td>0.49</td>\n",
              "      <td>0.1</td>\n",
              "    </tr>\n",
              "    <tr>\n",
              "      <th>4</th>\n",
              "      <td>b7b7764cfa1c523e4e93ab2a79a946c4</td>\n",
              "      <td>is home. &lt;3</td>\n",
              "      <td>2.65</td>\n",
              "      <td>3.0</td>\n",
              "      <td>3.15</td>\n",
              "      <td>3.25</td>\n",
              "      <td>4.4</td>\n",
              "      <td>n</td>\n",
              "      <td>y</td>\n",
              "      <td>n</td>\n",
              "      <td>n</td>\n",
              "      <td>y</td>\n",
              "      <td>07/20/09 02:31 AM</td>\n",
              "      <td>180.0</td>\n",
              "      <td>14861.6</td>\n",
              "      <td>93.29</td>\n",
              "      <td>0.03</td>\n",
              "      <td>15661.0</td>\n",
              "      <td>0.49</td>\n",
              "      <td>0.1</td>\n",
              "    </tr>\n",
              "  </tbody>\n",
              "</table>\n",
              "</div>\n",
              "      <button class=\"colab-df-convert\" onclick=\"convertToInteractive('df-32245f68-066a-4c08-89e7-e3f27a414cd7')\"\n",
              "              title=\"Convert this dataframe to an interactive table.\"\n",
              "              style=\"display:none;\">\n",
              "        \n",
              "  <svg xmlns=\"http://www.w3.org/2000/svg\" height=\"24px\"viewBox=\"0 0 24 24\"\n",
              "       width=\"24px\">\n",
              "    <path d=\"M0 0h24v24H0V0z\" fill=\"none\"/>\n",
              "    <path d=\"M18.56 5.44l.94 2.06.94-2.06 2.06-.94-2.06-.94-.94-2.06-.94 2.06-2.06.94zm-11 1L8.5 8.5l.94-2.06 2.06-.94-2.06-.94L8.5 2.5l-.94 2.06-2.06.94zm10 10l.94 2.06.94-2.06 2.06-.94-2.06-.94-.94-2.06-.94 2.06-2.06.94z\"/><path d=\"M17.41 7.96l-1.37-1.37c-.4-.4-.92-.59-1.43-.59-.52 0-1.04.2-1.43.59L10.3 9.45l-7.72 7.72c-.78.78-.78 2.05 0 2.83L4 21.41c.39.39.9.59 1.41.59.51 0 1.02-.2 1.41-.59l7.78-7.78 2.81-2.81c.8-.78.8-2.07 0-2.86zM5.41 20L4 18.59l7.72-7.72 1.47 1.35L5.41 20z\"/>\n",
              "  </svg>\n",
              "      </button>\n",
              "      \n",
              "  <style>\n",
              "    .colab-df-container {\n",
              "      display:flex;\n",
              "      flex-wrap:wrap;\n",
              "      gap: 12px;\n",
              "    }\n",
              "\n",
              "    .colab-df-convert {\n",
              "      background-color: #E8F0FE;\n",
              "      border: none;\n",
              "      border-radius: 50%;\n",
              "      cursor: pointer;\n",
              "      display: none;\n",
              "      fill: #1967D2;\n",
              "      height: 32px;\n",
              "      padding: 0 0 0 0;\n",
              "      width: 32px;\n",
              "    }\n",
              "\n",
              "    .colab-df-convert:hover {\n",
              "      background-color: #E2EBFA;\n",
              "      box-shadow: 0px 1px 2px rgba(60, 64, 67, 0.3), 0px 1px 3px 1px rgba(60, 64, 67, 0.15);\n",
              "      fill: #174EA6;\n",
              "    }\n",
              "\n",
              "    [theme=dark] .colab-df-convert {\n",
              "      background-color: #3B4455;\n",
              "      fill: #D2E3FC;\n",
              "    }\n",
              "\n",
              "    [theme=dark] .colab-df-convert:hover {\n",
              "      background-color: #434B5C;\n",
              "      box-shadow: 0px 1px 3px 1px rgba(0, 0, 0, 0.15);\n",
              "      filter: drop-shadow(0px 1px 2px rgba(0, 0, 0, 0.3));\n",
              "      fill: #FFFFFF;\n",
              "    }\n",
              "  </style>\n",
              "\n",
              "      <script>\n",
              "        const buttonEl =\n",
              "          document.querySelector('#df-32245f68-066a-4c08-89e7-e3f27a414cd7 button.colab-df-convert');\n",
              "        buttonEl.style.display =\n",
              "          google.colab.kernel.accessAllowed ? 'block' : 'none';\n",
              "\n",
              "        async function convertToInteractive(key) {\n",
              "          const element = document.querySelector('#df-32245f68-066a-4c08-89e7-e3f27a414cd7');\n",
              "          const dataTable =\n",
              "            await google.colab.kernel.invokeFunction('convertToInteractive',\n",
              "                                                     [key], {});\n",
              "          if (!dataTable) return;\n",
              "\n",
              "          const docLinkHtml = 'Like what you see? Visit the ' +\n",
              "            '<a target=\"_blank\" href=https://colab.research.google.com/notebooks/data_table.ipynb>data table notebook</a>'\n",
              "            + ' to learn more about interactive tables.';\n",
              "          element.innerHTML = '';\n",
              "          dataTable['output_type'] = 'display_data';\n",
              "          await google.colab.output.renderOutput(dataTable, element);\n",
              "          const docLink = document.createElement('div');\n",
              "          docLink.innerHTML = docLinkHtml;\n",
              "          element.appendChild(docLink);\n",
              "        }\n",
              "      </script>\n",
              "    </div>\n",
              "  </div>\n",
              "  "
            ],
            "text/plain": [
              "                            #AUTHID  \\\n",
              "0  b7b7764cfa1c523e4e93ab2a79a946c4   \n",
              "1  b7b7764cfa1c523e4e93ab2a79a946c4   \n",
              "2  b7b7764cfa1c523e4e93ab2a79a946c4   \n",
              "3  b7b7764cfa1c523e4e93ab2a79a946c4   \n",
              "4  b7b7764cfa1c523e4e93ab2a79a946c4   \n",
              "\n",
              "                                              STATUS  sEXT  sNEU  sAGR  sCON  \\\n",
              "0                        likes the sound of thunder.  2.65   3.0  3.15  3.25   \n",
              "1  is so sleepy it's not even funny that's she ca...  2.65   3.0  3.15  3.25   \n",
              "2  is sore and wants the knot of muscles at the b...  2.65   3.0  3.15  3.25   \n",
              "3         likes how the day sounds in this new song.  2.65   3.0  3.15  3.25   \n",
              "4                                        is home. <3  2.65   3.0  3.15  3.25   \n",
              "\n",
              "   sOPN cEXT cNEU cAGR cCON cOPN               DATE  NETWORKSIZE  BETWEENNESS  \\\n",
              "0   4.4    n    y    n    n    y  06/19/09 03:21 PM        180.0      14861.6   \n",
              "1   4.4    n    y    n    n    y  07/02/09 08:41 AM        180.0      14861.6   \n",
              "2   4.4    n    y    n    n    y  06/15/09 01:15 PM        180.0      14861.6   \n",
              "3   4.4    n    y    n    n    y  06/22/09 04:48 AM        180.0      14861.6   \n",
              "4   4.4    n    y    n    n    y  07/20/09 02:31 AM        180.0      14861.6   \n",
              "\n",
              "   NBETWEENNESS  DENSITY  BROKERAGE  NBROKERAGE  TRANSITIVITY  \n",
              "0         93.29     0.03    15661.0        0.49           0.1  \n",
              "1         93.29     0.03    15661.0        0.49           0.1  \n",
              "2         93.29     0.03    15661.0        0.49           0.1  \n",
              "3         93.29     0.03    15661.0        0.49           0.1  \n",
              "4         93.29     0.03    15661.0        0.49           0.1  "
            ]
          },
          "execution_count": 3,
          "metadata": {},
          "output_type": "execute_result"
        }
      ],
      "source": [
        "df.head()"
      ]
    },
    {
      "cell_type": "code",
      "execution_count": 5,
      "metadata": {
        "id": "TOEg6T4tJaM4"
      },
      "outputs": [],
      "source": [
        "data = df.to_dict(orient='list')"
      ]
    },
    {
      "cell_type": "markdown",
      "metadata": {
        "id": "W9iJA4zDw1gc"
      },
      "source": [
        "\n",
        "- Graficar usando kdeplot de seaborn la distribución de la cantidad de contactos (`NETWORKSIZE`)\n",
        "\n",
        "- Graficar un BoxPlot para la misma variable\n",
        "\n",
        "- Ahora comparar las distribuciones, con ambos gráficos, para dos grupos dividiendo según los rasgos binarizados (ejemplo \"cEXT\" indica si la persona era positiva o no para el rasgo de Extroversión)\n",
        "\n"
      ]
    },
    {
      "cell_type": "code",
      "execution_count": null,
      "metadata": {
        "id": "M3zsRM9QvzX1"
      },
      "outputs": [],
      "source": [
        "import seaborn as sns"
      ]
    },
    {
      "cell_type": "code",
      "execution_count": null,
      "metadata": {
        "id": "JcoBI31h93dY"
      },
      "outputs": [],
      "source": []
    },
    {
      "cell_type": "markdown",
      "metadata": {
        "id": "SkuOtur1B-RY"
      },
      "source": [
        "Usando el siguiente código de ejemplo:"
      ]
    },
    {
      "cell_type": "code",
      "execution_count": null,
      "metadata": {
        "id": "Di0XGO6Kdme8"
      },
      "outputs": [],
      "source": [
        "x = df[\"sEXT\"]\n",
        "y = df[\"NETWORKSIZE\"]\n",
        "\n",
        "fig = px.scatter(x=x, y=y, trendline=\"ols\", trendline_color_override='red')\n",
        "fig.show();"
      ]
    },
    {
      "cell_type": "markdown",
      "metadata": {
        "id": "f0GczEL-CuLc"
      },
      "source": [
        "- Definir una función `graficar` que reciba dos listas y genere un ScatterPlot como arriba. Aplicarla en el búcle junto con la correlación."
      ]
    },
    {
      "cell_type": "code",
      "execution_count": null,
      "metadata": {
        "id": "Hmg7LMtO_xuQ"
      },
      "outputs": [],
      "source": []
    },
    {
      "cell_type": "markdown",
      "metadata": {
        "id": "HgTqSAqJXVRm"
      },
      "source": [
        "- Definir una función que reciba 2 listas y calcule la correlación de pearson (con `pearsonr`), mostrando el resultado con un formato cómodo. \n"
      ]
    },
    {
      "cell_type": "code",
      "execution_count": null,
      "metadata": {
        "id": "SjNssa_f_yM4"
      },
      "outputs": [],
      "source": []
    },
    {
      "cell_type": "markdown",
      "metadata": {
        "id": "Vp1EK1_a_1Ei"
      },
      "source": [
        "\n",
        "- Usar esa función en un búcle para calcular la correlación entre NETWORKSIZE y cada uno de los rasgos.\n"
      ]
    },
    {
      "cell_type": "code",
      "execution_count": null,
      "metadata": {
        "id": "fLVJ1yPH87hq"
      },
      "outputs": [],
      "source": []
    },
    {
      "cell_type": "markdown",
      "metadata": {
        "id": "lllAv6ubgLes"
      },
      "source": [
        "- Usando el siguiente ejemplo, para clasificación de textos contar cantidad de textos \"positivos\" por grupo"
      ]
    },
    {
      "cell_type": "code",
      "execution_count": null,
      "metadata": {
        "id": "BS0_UR5lD0vu"
      },
      "outputs": [],
      "source": [
        "!pip install transformers\n",
        "from transformers import pipeline\n",
        "import numpy as np"
      ]
    },
    {
      "cell_type": "code",
      "execution_count": null,
      "metadata": {
        "id": "uKX0PybjD1qY"
      },
      "outputs": [],
      "source": [
        "pipe = pipeline(\"text-classification\")\n",
        "results = pipe(['Wow what a nice example'])"
      ]
    },
    {
      "cell_type": "markdown",
      "metadata": {
        "id": "1yWeoLsf88Fv"
      },
      "source": [
        "- Separar a la muestra en 2 grupos, dividiendo \n",
        "por la media de Amabilidad"
      ]
    },
    {
      "cell_type": "code",
      "execution_count": null,
      "metadata": {
        "id": "6S2jVvwl_9HL"
      },
      "outputs": [],
      "source": []
    },
    {
      "cell_type": "markdown",
      "metadata": {
        "id": "WbjUXfrw_9oE"
      },
      "source": [
        "\n",
        "- Crear una tabla de contingencia de 2x2 (Grupo 1 y 2, Positivo y Negativo)\n",
        "\n",
        "Se puede usar Python base o `pd.crosstab`"
      ]
    },
    {
      "cell_type": "code",
      "execution_count": null,
      "metadata": {
        "id": "NLJUiEb-_94k"
      },
      "outputs": [],
      "source": []
    },
    {
      "cell_type": "markdown",
      "metadata": {
        "id": "MsbI0Qg1__gj"
      },
      "source": [
        "- Calcular usando el test de Fisher si hay diferencias. Usar `scipy.stats.fisher_exact`, buscando la función en Internet y mirar el principio de la documentación."
      ]
    },
    {
      "cell_type": "code",
      "execution_count": null,
      "metadata": {
        "id": "5-vA06ZwzGf7"
      },
      "outputs": [],
      "source": []
    },
    {
      "cell_type": "markdown",
      "metadata": {
        "id": "EyrpMMjYMdp9"
      },
      "source": [
        "- ¿Cuáles rasgos influyen más en el largo de los estados?\n",
        "\n",
        "Hacer una regresión usando StatsModels e interpretar los resultados"
      ]
    },
    {
      "cell_type": "code",
      "execution_count": null,
      "metadata": {
        "id": "CLObvHW_MiHs"
      },
      "outputs": [],
      "source": []
    }
  ],
  "metadata": {
    "colab": {
      "collapsed_sections": [],
      "name": "estadistica_ejercicios.ipynb",
      "provenance": []
    },
    "kernelspec": {
      "display_name": "Python 3",
      "name": "python3"
    },
    "language_info": {
      "name": "python"
    }
  },
  "nbformat": 4,
  "nbformat_minor": 0
}
