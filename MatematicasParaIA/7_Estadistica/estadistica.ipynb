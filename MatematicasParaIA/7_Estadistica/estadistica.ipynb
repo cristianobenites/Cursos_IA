{
  "cells": [
    {
      "cell_type": "markdown",
      "metadata": {},
      "source": [
        "<a href=\"https://colab.research.google.com/github/institutohumai/cursos-python/blob/master/MatematicasParaIA/7_Estadistica/estadistica.ipynb\"><img src='https://colab.research.google.com/assets/colab-badge.svg'/></a>"
      ]
    },
    {
      "cell_type": "markdown",
      "metadata": {
        "id": "8xewQM9O_QWa"
      },
      "source": [
        "# Introducción a la Estadística"
      ]
    },
    {
      "cell_type": "markdown",
      "metadata": {
        "id": "CHbzOnL9qeI9"
      },
      "source": [
        "# Tabla de Contenidos\n",
        "\n",
        "  - Introducción y Motivación \n",
        "    - Conceptos principales\n",
        "    - Estadística y ML\n",
        "  - Estadística Descriptiva\n",
        "    - Tendencia central\n",
        "    - Analisis exploratorio \n",
        "      - Histograma\n",
        "      - BoxPlot\n",
        "      - Matriz de Correlación\n",
        "  - Estadística Inferencial\n",
        "    - Metodologia paramétrica y no-paramétrica\n",
        "    - Estimadores y Parametros \n",
        "    - Prueba de hipótesis\n",
        "    - Intervalos de Confianza\n",
        "    - P-valor\n",
        "    - Significancia estadistica\n",
        "    - Regresión Lineal \n"
      ]
    },
    {
      "cell_type": "markdown",
      "metadata": {
        "id": "gCdXlOaEtCDP"
      },
      "source": [
        "## PyEPH"
      ]
    },
    {
      "cell_type": "markdown",
      "metadata": {
        "id": "vzv6GwdvrzLu"
      },
      "source": [
        "Usaremos la nueva y flamante librería de [github.com/institutohumai/PyEPH](https://github.com/institutohumai/pyeph) para analizar la Encuesta Permanente de Hogares"
      ]
    },
    {
      "cell_type": "code",
      "execution_count": null,
      "metadata": {
        "id": "RLcl7smOtCDQ"
      },
      "outputs": [],
      "source": [
        "!pip install pyeph"
      ]
    },
    {
      "cell_type": "code",
      "execution_count": null,
      "metadata": {
        "id": "hKZR28mOtCDS"
      },
      "outputs": [],
      "source": [
        "import pyeph\n",
        "import numpy as np\n",
        "import seaborn as sns\n",
        "import matplotlib.pyplot as plt\n",
        "import pandas as pd\n",
        "from matplotlib.ticker import FuncFormatter\n",
        "import scipy.stats as stats"
      ]
    },
    {
      "cell_type": "markdown",
      "metadata": {
        "id": "4Vb8VcrEtCDT"
      },
      "source": [
        "### Traemos las bases de datos"
      ]
    },
    {
      "cell_type": "code",
      "execution_count": null,
      "metadata": {
        "colab": {
          "base_uri": "https://localhost:8080/"
        },
        "id": "oHG6q1nstCDT",
        "outputId": "55d6fc01-e5b6-4da9-eb4c-3420c0552d6a"
      },
      "outputs": [
        {
          "name": "stdout",
          "output_type": "stream",
          "text": [
            "\n",
            "Obtenido con exito: base_individual_2021T2.zip \n",
            "\n",
            "\n",
            "CBT y CBA mas actualizada que se obtuvo: 2021-12 \n",
            "\n",
            "Obtenido con exito: adulto_equivalente.zip \n"
          ]
        }
      ],
      "source": [
        "# más info https://www.indec.gob.ar/ftp/cuadros/menusuperior/eph/EPH_diseno_reg_t414.pdf\n",
        "eph = pyeph.get(data=\"eph\", year=2021, period=2, base_type='individual') \n",
        "canastas = pyeph.get(data=\"canastas\") # canasta basica total y alimentaria\n",
        "adequi = pyeph.get(data=\"adulto-equivalente\") # adulto equivalente"
      ]
    },
    {
      "cell_type": "code",
      "execution_count": null,
      "metadata": {
        "colab": {
          "base_uri": "https://localhost:8080/",
          "height": 455
        },
        "id": "L9-w6t-XtCDU",
        "outputId": "47e1eba7-649a-443b-c85a-10c1cc7bfb67"
      },
      "outputs": [
        {
          "data": {
            "text/html": [
              "\n",
              "  <div id=\"df-34ab5e9d-76d9-4602-b15d-546c61f18b96\">\n",
              "    <div class=\"colab-df-container\">\n",
              "      <div>\n",
              "<style scoped>\n",
              "    .dataframe tbody tr th:only-of-type {\n",
              "        vertical-align: middle;\n",
              "    }\n",
              "\n",
              "    .dataframe tbody tr th {\n",
              "        vertical-align: top;\n",
              "    }\n",
              "\n",
              "    .dataframe thead th {\n",
              "        text-align: right;\n",
              "    }\n",
              "</style>\n",
              "<table border=\"1\" class=\"dataframe\">\n",
              "  <thead>\n",
              "    <tr style=\"text-align: right;\">\n",
              "      <th></th>\n",
              "      <th>CODUSU</th>\n",
              "      <th>ANO4</th>\n",
              "      <th>TRIMESTRE</th>\n",
              "      <th>NRO_HOGAR</th>\n",
              "      <th>COMPONENTE</th>\n",
              "      <th>H15</th>\n",
              "      <th>REGION</th>\n",
              "      <th>MAS_500</th>\n",
              "      <th>AGLOMERADO</th>\n",
              "      <th>PONDERA</th>\n",
              "      <th>...</th>\n",
              "      <th>PDECIFR</th>\n",
              "      <th>ADECIFR</th>\n",
              "      <th>IPCF</th>\n",
              "      <th>DECCFR</th>\n",
              "      <th>IDECCFR</th>\n",
              "      <th>RDECCFR</th>\n",
              "      <th>GDECCFR</th>\n",
              "      <th>PDECCFR</th>\n",
              "      <th>ADECCFR</th>\n",
              "      <th>PONDIH</th>\n",
              "    </tr>\n",
              "  </thead>\n",
              "  <tbody>\n",
              "    <tr>\n",
              "      <th>0</th>\n",
              "      <td>TQRMNOPYQHMLKNCDEHJGH00699689</td>\n",
              "      <td>2021</td>\n",
              "      <td>2</td>\n",
              "      <td>1</td>\n",
              "      <td>1</td>\n",
              "      <td>1</td>\n",
              "      <td>40</td>\n",
              "      <td>S</td>\n",
              "      <td>23</td>\n",
              "      <td>214</td>\n",
              "      <td>...</td>\n",
              "      <td>NaN</td>\n",
              "      <td>5</td>\n",
              "      <td>27000</td>\n",
              "      <td>6</td>\n",
              "      <td>7.0</td>\n",
              "      <td>8</td>\n",
              "      <td>6.0</td>\n",
              "      <td>NaN</td>\n",
              "      <td>8</td>\n",
              "      <td>218</td>\n",
              "    </tr>\n",
              "    <tr>\n",
              "      <th>1</th>\n",
              "      <td>TQRMNOPYQHMLKNCDEHJGH00699689</td>\n",
              "      <td>2021</td>\n",
              "      <td>2</td>\n",
              "      <td>1</td>\n",
              "      <td>2</td>\n",
              "      <td>1</td>\n",
              "      <td>40</td>\n",
              "      <td>S</td>\n",
              "      <td>23</td>\n",
              "      <td>214</td>\n",
              "      <td>...</td>\n",
              "      <td>NaN</td>\n",
              "      <td>5</td>\n",
              "      <td>27000</td>\n",
              "      <td>6</td>\n",
              "      <td>7.0</td>\n",
              "      <td>8</td>\n",
              "      <td>6.0</td>\n",
              "      <td>NaN</td>\n",
              "      <td>8</td>\n",
              "      <td>218</td>\n",
              "    </tr>\n",
              "    <tr>\n",
              "      <th>2</th>\n",
              "      <td>TQRMNOPYSHMLKNCDEHJGH00699098</td>\n",
              "      <td>2021</td>\n",
              "      <td>2</td>\n",
              "      <td>1</td>\n",
              "      <td>1</td>\n",
              "      <td>1</td>\n",
              "      <td>40</td>\n",
              "      <td>S</td>\n",
              "      <td>23</td>\n",
              "      <td>192</td>\n",
              "      <td>...</td>\n",
              "      <td>NaN</td>\n",
              "      <td>10</td>\n",
              "      <td>46000</td>\n",
              "      <td>9</td>\n",
              "      <td>9.0</td>\n",
              "      <td>10</td>\n",
              "      <td>8.0</td>\n",
              "      <td>NaN</td>\n",
              "      <td>9</td>\n",
              "      <td>196</td>\n",
              "    </tr>\n",
              "    <tr>\n",
              "      <th>3</th>\n",
              "      <td>TQRMNOPYSHMLKNCDEHJGH00699098</td>\n",
              "      <td>2021</td>\n",
              "      <td>2</td>\n",
              "      <td>1</td>\n",
              "      <td>2</td>\n",
              "      <td>1</td>\n",
              "      <td>40</td>\n",
              "      <td>S</td>\n",
              "      <td>23</td>\n",
              "      <td>192</td>\n",
              "      <td>...</td>\n",
              "      <td>NaN</td>\n",
              "      <td>10</td>\n",
              "      <td>46000</td>\n",
              "      <td>9</td>\n",
              "      <td>9.0</td>\n",
              "      <td>10</td>\n",
              "      <td>8.0</td>\n",
              "      <td>NaN</td>\n",
              "      <td>9</td>\n",
              "      <td>196</td>\n",
              "    </tr>\n",
              "    <tr>\n",
              "      <th>4</th>\n",
              "      <td>TQRMNOPYSHMLKNCDEHJGH00699098</td>\n",
              "      <td>2021</td>\n",
              "      <td>2</td>\n",
              "      <td>1</td>\n",
              "      <td>3</td>\n",
              "      <td>1</td>\n",
              "      <td>40</td>\n",
              "      <td>S</td>\n",
              "      <td>23</td>\n",
              "      <td>192</td>\n",
              "      <td>...</td>\n",
              "      <td>NaN</td>\n",
              "      <td>10</td>\n",
              "      <td>46000</td>\n",
              "      <td>9</td>\n",
              "      <td>9.0</td>\n",
              "      <td>10</td>\n",
              "      <td>8.0</td>\n",
              "      <td>NaN</td>\n",
              "      <td>9</td>\n",
              "      <td>196</td>\n",
              "    </tr>\n",
              "    <tr>\n",
              "      <th>5</th>\n",
              "      <td>TQRMNOPYSHMLKNCDEHJGH00699098</td>\n",
              "      <td>2021</td>\n",
              "      <td>2</td>\n",
              "      <td>1</td>\n",
              "      <td>4</td>\n",
              "      <td>1</td>\n",
              "      <td>40</td>\n",
              "      <td>S</td>\n",
              "      <td>23</td>\n",
              "      <td>192</td>\n",
              "      <td>...</td>\n",
              "      <td>NaN</td>\n",
              "      <td>10</td>\n",
              "      <td>46000</td>\n",
              "      <td>9</td>\n",
              "      <td>9.0</td>\n",
              "      <td>10</td>\n",
              "      <td>8.0</td>\n",
              "      <td>NaN</td>\n",
              "      <td>9</td>\n",
              "      <td>196</td>\n",
              "    </tr>\n",
              "    <tr>\n",
              "      <th>6</th>\n",
              "      <td>TQRMNOSVQHMLKNCDEHJGH00698780</td>\n",
              "      <td>2021</td>\n",
              "      <td>2</td>\n",
              "      <td>1</td>\n",
              "      <td>1</td>\n",
              "      <td>1</td>\n",
              "      <td>40</td>\n",
              "      <td>S</td>\n",
              "      <td>23</td>\n",
              "      <td>250</td>\n",
              "      <td>...</td>\n",
              "      <td>NaN</td>\n",
              "      <td>3</td>\n",
              "      <td>10333,33</td>\n",
              "      <td>2</td>\n",
              "      <td>2.0</td>\n",
              "      <td>3</td>\n",
              "      <td>2.0</td>\n",
              "      <td>NaN</td>\n",
              "      <td>3</td>\n",
              "      <td>255</td>\n",
              "    </tr>\n",
              "    <tr>\n",
              "      <th>7</th>\n",
              "      <td>TQRMNOSVQHMLKNCDEHJGH00698780</td>\n",
              "      <td>2021</td>\n",
              "      <td>2</td>\n",
              "      <td>1</td>\n",
              "      <td>2</td>\n",
              "      <td>1</td>\n",
              "      <td>40</td>\n",
              "      <td>S</td>\n",
              "      <td>23</td>\n",
              "      <td>250</td>\n",
              "      <td>...</td>\n",
              "      <td>NaN</td>\n",
              "      <td>3</td>\n",
              "      <td>10333,33</td>\n",
              "      <td>2</td>\n",
              "      <td>2.0</td>\n",
              "      <td>3</td>\n",
              "      <td>2.0</td>\n",
              "      <td>NaN</td>\n",
              "      <td>3</td>\n",
              "      <td>255</td>\n",
              "    </tr>\n",
              "    <tr>\n",
              "      <th>8</th>\n",
              "      <td>TQRMNOSVQHMLKNCDEHJGH00698780</td>\n",
              "      <td>2021</td>\n",
              "      <td>2</td>\n",
              "      <td>1</td>\n",
              "      <td>3</td>\n",
              "      <td>0</td>\n",
              "      <td>40</td>\n",
              "      <td>S</td>\n",
              "      <td>23</td>\n",
              "      <td>250</td>\n",
              "      <td>...</td>\n",
              "      <td>NaN</td>\n",
              "      <td>3</td>\n",
              "      <td>10333,33</td>\n",
              "      <td>2</td>\n",
              "      <td>2.0</td>\n",
              "      <td>3</td>\n",
              "      <td>2.0</td>\n",
              "      <td>NaN</td>\n",
              "      <td>3</td>\n",
              "      <td>255</td>\n",
              "    </tr>\n",
              "    <tr>\n",
              "      <th>9</th>\n",
              "      <td>TQRMNOSVTHMLKNCDEHJGH00702242</td>\n",
              "      <td>2021</td>\n",
              "      <td>2</td>\n",
              "      <td>1</td>\n",
              "      <td>1</td>\n",
              "      <td>1</td>\n",
              "      <td>40</td>\n",
              "      <td>S</td>\n",
              "      <td>23</td>\n",
              "      <td>187</td>\n",
              "      <td>...</td>\n",
              "      <td>NaN</td>\n",
              "      <td>2</td>\n",
              "      <td>20000</td>\n",
              "      <td>5</td>\n",
              "      <td>5.0</td>\n",
              "      <td>6</td>\n",
              "      <td>4.0</td>\n",
              "      <td>NaN</td>\n",
              "      <td>6</td>\n",
              "      <td>188</td>\n",
              "    </tr>\n",
              "  </tbody>\n",
              "</table>\n",
              "<p>10 rows × 177 columns</p>\n",
              "</div>\n",
              "      <button class=\"colab-df-convert\" onclick=\"convertToInteractive('df-34ab5e9d-76d9-4602-b15d-546c61f18b96')\"\n",
              "              title=\"Convert this dataframe to an interactive table.\"\n",
              "              style=\"display:none;\">\n",
              "        \n",
              "  <svg xmlns=\"http://www.w3.org/2000/svg\" height=\"24px\"viewBox=\"0 0 24 24\"\n",
              "       width=\"24px\">\n",
              "    <path d=\"M0 0h24v24H0V0z\" fill=\"none\"/>\n",
              "    <path d=\"M18.56 5.44l.94 2.06.94-2.06 2.06-.94-2.06-.94-.94-2.06-.94 2.06-2.06.94zm-11 1L8.5 8.5l.94-2.06 2.06-.94-2.06-.94L8.5 2.5l-.94 2.06-2.06.94zm10 10l.94 2.06.94-2.06 2.06-.94-2.06-.94-.94-2.06-.94 2.06-2.06.94z\"/><path d=\"M17.41 7.96l-1.37-1.37c-.4-.4-.92-.59-1.43-.59-.52 0-1.04.2-1.43.59L10.3 9.45l-7.72 7.72c-.78.78-.78 2.05 0 2.83L4 21.41c.39.39.9.59 1.41.59.51 0 1.02-.2 1.41-.59l7.78-7.78 2.81-2.81c.8-.78.8-2.07 0-2.86zM5.41 20L4 18.59l7.72-7.72 1.47 1.35L5.41 20z\"/>\n",
              "  </svg>\n",
              "      </button>\n",
              "      \n",
              "  <style>\n",
              "    .colab-df-container {\n",
              "      display:flex;\n",
              "      flex-wrap:wrap;\n",
              "      gap: 12px;\n",
              "    }\n",
              "\n",
              "    .colab-df-convert {\n",
              "      background-color: #E8F0FE;\n",
              "      border: none;\n",
              "      border-radius: 50%;\n",
              "      cursor: pointer;\n",
              "      display: none;\n",
              "      fill: #1967D2;\n",
              "      height: 32px;\n",
              "      padding: 0 0 0 0;\n",
              "      width: 32px;\n",
              "    }\n",
              "\n",
              "    .colab-df-convert:hover {\n",
              "      background-color: #E2EBFA;\n",
              "      box-shadow: 0px 1px 2px rgba(60, 64, 67, 0.3), 0px 1px 3px 1px rgba(60, 64, 67, 0.15);\n",
              "      fill: #174EA6;\n",
              "    }\n",
              "\n",
              "    [theme=dark] .colab-df-convert {\n",
              "      background-color: #3B4455;\n",
              "      fill: #D2E3FC;\n",
              "    }\n",
              "\n",
              "    [theme=dark] .colab-df-convert:hover {\n",
              "      background-color: #434B5C;\n",
              "      box-shadow: 0px 1px 3px 1px rgba(0, 0, 0, 0.15);\n",
              "      filter: drop-shadow(0px 1px 2px rgba(0, 0, 0, 0.3));\n",
              "      fill: #FFFFFF;\n",
              "    }\n",
              "  </style>\n",
              "\n",
              "      <script>\n",
              "        const buttonEl =\n",
              "          document.querySelector('#df-34ab5e9d-76d9-4602-b15d-546c61f18b96 button.colab-df-convert');\n",
              "        buttonEl.style.display =\n",
              "          google.colab.kernel.accessAllowed ? 'block' : 'none';\n",
              "\n",
              "        async function convertToInteractive(key) {\n",
              "          const element = document.querySelector('#df-34ab5e9d-76d9-4602-b15d-546c61f18b96');\n",
              "          const dataTable =\n",
              "            await google.colab.kernel.invokeFunction('convertToInteractive',\n",
              "                                                     [key], {});\n",
              "          if (!dataTable) return;\n",
              "\n",
              "          const docLinkHtml = 'Like what you see? Visit the ' +\n",
              "            '<a target=\"_blank\" href=https://colab.research.google.com/notebooks/data_table.ipynb>data table notebook</a>'\n",
              "            + ' to learn more about interactive tables.';\n",
              "          element.innerHTML = '';\n",
              "          dataTable['output_type'] = 'display_data';\n",
              "          await google.colab.output.renderOutput(dataTable, element);\n",
              "          const docLink = document.createElement('div');\n",
              "          docLink.innerHTML = docLinkHtml;\n",
              "          element.appendChild(docLink);\n",
              "        }\n",
              "      </script>\n",
              "    </div>\n",
              "  </div>\n",
              "  "
            ],
            "text/plain": [
              "                          CODUSU  ANO4  TRIMESTRE  NRO_HOGAR  COMPONENTE  H15  \\\n",
              "0  TQRMNOPYQHMLKNCDEHJGH00699689  2021          2          1           1    1   \n",
              "1  TQRMNOPYQHMLKNCDEHJGH00699689  2021          2          1           2    1   \n",
              "2  TQRMNOPYSHMLKNCDEHJGH00699098  2021          2          1           1    1   \n",
              "3  TQRMNOPYSHMLKNCDEHJGH00699098  2021          2          1           2    1   \n",
              "4  TQRMNOPYSHMLKNCDEHJGH00699098  2021          2          1           3    1   \n",
              "5  TQRMNOPYSHMLKNCDEHJGH00699098  2021          2          1           4    1   \n",
              "6  TQRMNOSVQHMLKNCDEHJGH00698780  2021          2          1           1    1   \n",
              "7  TQRMNOSVQHMLKNCDEHJGH00698780  2021          2          1           2    1   \n",
              "8  TQRMNOSVQHMLKNCDEHJGH00698780  2021          2          1           3    0   \n",
              "9  TQRMNOSVTHMLKNCDEHJGH00702242  2021          2          1           1    1   \n",
              "\n",
              "   REGION MAS_500  AGLOMERADO  PONDERA  ...  PDECIFR  ADECIFR      IPCF  \\\n",
              "0      40       S          23      214  ...      NaN        5     27000   \n",
              "1      40       S          23      214  ...      NaN        5     27000   \n",
              "2      40       S          23      192  ...      NaN       10     46000   \n",
              "3      40       S          23      192  ...      NaN       10     46000   \n",
              "4      40       S          23      192  ...      NaN       10     46000   \n",
              "5      40       S          23      192  ...      NaN       10     46000   \n",
              "6      40       S          23      250  ...      NaN        3  10333,33   \n",
              "7      40       S          23      250  ...      NaN        3  10333,33   \n",
              "8      40       S          23      250  ...      NaN        3  10333,33   \n",
              "9      40       S          23      187  ...      NaN        2     20000   \n",
              "\n",
              "   DECCFR  IDECCFR  RDECCFR  GDECCFR  PDECCFR  ADECCFR  PONDIH  \n",
              "0       6      7.0        8      6.0      NaN        8     218  \n",
              "1       6      7.0        8      6.0      NaN        8     218  \n",
              "2       9      9.0       10      8.0      NaN        9     196  \n",
              "3       9      9.0       10      8.0      NaN        9     196  \n",
              "4       9      9.0       10      8.0      NaN        9     196  \n",
              "5       9      9.0       10      8.0      NaN        9     196  \n",
              "6       2      2.0        3      2.0      NaN        3     255  \n",
              "7       2      2.0        3      2.0      NaN        3     255  \n",
              "8       2      2.0        3      2.0      NaN        3     255  \n",
              "9       5      5.0        6      4.0      NaN        6     188  \n",
              "\n",
              "[10 rows x 177 columns]"
            ]
          },
          "execution_count": 4,
          "metadata": {},
          "output_type": "execute_result"
        }
      ],
      "source": [
        "eph.head(10)"
      ]
    },
    {
      "cell_type": "code",
      "execution_count": null,
      "metadata": {
        "colab": {
          "base_uri": "https://localhost:8080/"
        },
        "id": "pTPjOtRBspgA",
        "outputId": "fcc4d2d0-3bf7-41d5-dca1-fb1af1dd04fd"
      },
      "outputs": [
        {
          "data": {
            "text/plain": [
              "0         54000\n",
              "1         54000\n",
              "2        184000\n",
              "3        184000\n",
              "4        184000\n",
              "          ...  \n",
              "47080         0\n",
              "47081         0\n",
              "47082     42000\n",
              "47083     42000\n",
              "47084     42000\n",
              "Name: ITF, Length: 47085, dtype: int64"
            ]
          },
          "execution_count": 6,
          "metadata": {},
          "output_type": "execute_result"
        }
      ],
      "source": [
        "eph['ITF']"
      ]
    },
    {
      "cell_type": "markdown",
      "metadata": {
        "id": "9GTRL5uS1Ygl"
      },
      "source": [
        "# Introducción: Motivación y Conceptos Principales"
      ]
    },
    {
      "cell_type": "markdown",
      "metadata": {
        "id": "G4fC1hpfcc_N"
      },
      "source": [
        "## Motivación"
      ]
    },
    {
      "cell_type": "markdown",
      "metadata": {
        "id": "Bk-GmiC1uNnN"
      },
      "source": [
        "La estadística es la ciencia de extraer conclusiones a partir de datos. A diferencia de la probabilidad que se pregunta a priori sobre posibles eventos futuros, la estadística va a partir de preguntas y buscará encontrar evidencia para poder responderlas.\n",
        "\n",
        "\n",
        "Algunas preguntas pueden ser:\n",
        "\n",
        "- ¿Responden mis valores observados a cierta distribución?\n",
        "- ¿Podemos **estimar** algún valor de la población que estoy estudiando?\n",
        "- ¿Qué tan confiable es una estimación?\n",
        "\n",
        "Para responderlas, usualmente se cuenta con un repertorio de técnicas que incluyen:\n",
        "\n",
        "- Optimización, minimizando el error del modelo con respecto a los datos observados (ej. cuadrados mínimos)\n",
        "- Máxima verosimilitud\n",
        "- Algoritmo de esperanza-maximización\n",
        "- Simulación (simulaciones de montecarlo, bootstrap, permutaciones) \n",
        "\n",
        "Ocasionalmente, para problemas sencillos, podemos encontrar soluciones analíticas."
      ]
    },
    {
      "cell_type": "markdown",
      "metadata": {
        "id": "AbA4Vn4diUqe"
      },
      "source": [
        "## Bayes vs Frecuentismo\n",
        "\n",
        "Recordemos: hay dos grandes interpretaciones de la probabilidad, la frecuentista y la Bayesiana. \n",
        "\n",
        "Desde una perspectiva mas \"_filosofica_\", la intepretación frecuentista considera a las frecuencias relativas de los eventos de interes sobre los eventos totales, y define el resultado de la prueba de hipótesis categóricamente considerando si la probabilidad resultante fue o no mayor a un umbral definido. \n",
        "\n",
        "La probabilidad Bayesiana en cambio, especifica el grado de incertidumbre que la persona tiene de un evento, el grado de creencia o la \n",
        "\"probabilidad subjetiva\". \n",
        "\n",
        "En el sentido mas formal, la probabilidad frecuentista considera a los parametros como un valor fijo mientras que la probabilidad en la vision bayesiana contempla al parametro como la realizacion de un proceso aleatorio (una variable aleatoria) por lo que esta dado por una distribucion de probabilidad (la distribucion a priori) y no es un valor fijo. Esto implica que la probabilidad desde la perspectiva bayesiana tiene una fuente mas de incertidumbre. \n",
        "\n",
        "Más información en este [artículo](https://www.netquest.com/blog/es/blog/es/bayesianos-contra-frecuentistas). "
      ]
    },
    {
      "cell_type": "markdown",
      "metadata": {
        "id": "PLWdDH_KAEkG"
      },
      "source": [
        "## Machine Learning vs Estadística\n"
      ]
    },
    {
      "cell_type": "markdown",
      "metadata": {
        "id": "LXN1FNtPAGyh"
      },
      "source": [
        "Existe la idea como _meme_ de que el Aprendizaje Automático (Machine Learning) es simplemente Estadística con un nuevo nombre marketinero. Y esto es... mayormente cierto! \n",
        "\n",
        "Podemos identificar 3 tipos de estadística:\n",
        "- Descriptiva: enfocada en conocer características de la muestra. Pongamos un caso fácil de Marketing: ¿Cuáles son las características de mi comprador típico? ¿Cuál es la tendencia de ventas? \n",
        "- Inferencial: se ocupa de sacar conclusiones, por ejemplo: ¿Hay diferencias en el comportamiento de los clientes de la zona A y de la zona B?\n",
        "- Prescriptiva: intenta modelar los efectos de intervenciones, midiendo efectos causales. En un escenario ideal, esto se haría con un **experimento controlado**: ¿cómo puedo hacer para aumentar las ventas? ¿Sí hago X modificación, aumentarán los clientes?\n",
        "\n",
        "El Apredizaje Automático a diferencia de la Estadística tiende a:\n",
        "\n",
        "1. Partir de los datos disponibles en lugar de la pregunta a responder\n",
        "2. Ocuparse principalmente de la **predicción** en datos nuevos, en lugar de la **calidad de ajuste** con los datos observados. \n",
        "\n",
        "Para esto, en aprendizaje automático se hace una separación entre **datos de entrenamiento y de prueba**, para evaluar las estimaciones en valores no observados previamente. Esto se verá en detalle en las próximas clases. "
      ]
    },
    {
      "cell_type": "markdown",
      "metadata": {
        "id": "1EjDm8BXcArs"
      },
      "source": [
        "# Definiciones\n",
        "\n"
      ]
    },
    {
      "cell_type": "markdown",
      "metadata": {
        "id": "c8Y5UX1peNHw"
      },
      "source": [
        "## Conceptos principales\n",
        "\n",
        "---\n",
        "| Definición | Descripción |\n",
        "| --- | --- |\n",
        "| **Población** |  Todos los valores posibles dado por el modelo generador de los datos, el conjunto completo del que se extrae una muestra estadística.  | \n",
        "| **Muestra** |Una porción de la población, una selección aleatoria de miembros de una población. Es un grupo más pequeño extraído de la población que tiene las características de toda la población. Las observaciones y conclusiones extraídas de los datos de la muestra se atribuyen a la población.\n",
        "| **Inferencia estadística** | Generalización de una muestra a una población con un grado de certeza calculado | 1. Prueba de hipótesis (hoy) <br> 2. Estimación (tutorial anterior) |\n",
        "| **Parámetro** | Una característica de la población, cualquier cantidad numérica que caracteriza a una población determinada o algún aspecto de ella. Esto significa que el parámetro nos dice algo sobre toda la población.\n",
        "| **Estadístico** | Variable calculada a partir de los datos de la muestra, una única medida de algún atributo de una muestra. Se calcula aplicando una función (algoritmo estadístico) a los valores de los elementos de la muestra, que se conocen en conjunto como un conjunto de datos. \n",
        "| **Estimador** | Es un estadístico cuyos valores se consideran próximos a un parámetro que, por ser generalmente desconocido, se desea estimar. Existen características deseables que pueden o no tener ciertos estimadores, como la **robustez**, o la **insesgadez**. \n"
      ]
    },
    {
      "cell_type": "markdown",
      "metadata": {
        "id": "PCObtWDgu6as"
      },
      "source": [
        "### Sesgos Estadísticos\n"
      ]
    },
    {
      "cell_type": "markdown",
      "metadata": {
        "id": "lFMlhVyJEGfW"
      },
      "source": [
        "Acabamos de tocar en un recital de jazz, y al finalizar invitamos a la audiencia a comprar nuestro disco. Con el mismo, viene una pequeña encuesta para que nos cuenten si les gustó el show. \n",
        "\n",
        "La encuesta otorga da un rotundo 10/10 de resultado. ¿Podemos confiar en el mismo para decir que nuestro recital fue excelente?\n",
        "\n",
        "Tengamos en cuenta que cuando uno toma una muestra para sacar conclusiones de la población, **se asume que la muestra es aleatoria**. \n",
        "\n",
        "Agreguemos un dato. De los 1000 asistentes al recital, fueron 50 los que compraron el disco y respondieron. ¿Te aporta más información?  \n",
        "\n",
        "Es probable que los que hayan respondido hayan sido justamente los mayores fans de la banda, por lo que **esa muestra no sería representativa de la población por un sesgo de selección.**\n",
        "\n"
      ]
    },
    {
      "cell_type": "markdown",
      "metadata": {
        "id": "2bcYsCO6FfXl"
      },
      "source": [
        "Existen muchos sesgos estadísticos a tener en cuenta. Pueden encontrar algunas listas aquí:\n",
        "\n",
        "- https://data36.com/statistical-bias-types-explained/\n",
        "- Sesgos cognitivos: https://en.wikipedia.org/wiki/List_of_cognitive_biases"
      ]
    },
    {
      "cell_type": "markdown",
      "metadata": {
        "id": "mvsum6ZVcw6u"
      },
      "source": [
        "# Estadística Descriptiva\n"
      ]
    },
    {
      "cell_type": "markdown",
      "metadata": {
        "id": "7YV6v4ujQsvr"
      },
      "source": [
        "En linea generales como su nombre lo indica con la estadistica descriptiva simplemente tratamos de describir los datos que tenemos, caracterizarlos utilizando medidas cuantitativas que sean utiles y adecuadas.\n",
        "\n",
        "Podemos pensar cada uno de los elementos de la estadistica descriptiva como aquel que intentar responder una pregunta distinta. "
      ]
    },
    {
      "cell_type": "markdown",
      "metadata": {
        "id": "Q5MiBuVDQecb"
      },
      "source": [
        "## Tendencia central"
      ]
    },
    {
      "cell_type": "markdown",
      "metadata": {
        "id": "2_3lkGgLQl5R"
      },
      "source": [
        "¿Si tomara uno de los valores de mis datos de manera aleatoria, que esperaria ver? "
      ]
    },
    {
      "cell_type": "markdown",
      "metadata": {
        "id": "6D3LMJpxj08d"
      },
      "source": [
        "## Análisis exploratorio\n",
        "\n"
      ]
    },
    {
      "cell_type": "markdown",
      "metadata": {
        "id": "ixM_JdKkVejD"
      },
      "source": [
        "La importancia de las gráficas en un análisis descriptivo.\n",
        "- Exploración de datos: entender la distribución de los datos que vamos a trabajar es escencial\n",
        "- Presentación y claridad: Eligiendo las gráficas correctas podemos comprender tendencias y distribuciones de manera visual y práctica.\n",
        "\n",
        "Flujo de trabajo:\n",
        "1. Conseguir los datos.\n",
        "2. Generar preguntas de análisis sobre los datos\n",
        "2. Encontrar en las visualizaciones respuestas a esas preguntas. Graficar todo lo que sea necesario\n",
        "4. Sacar conclusiones y comprobarlas estadísticamente. \n"
      ]
    },
    {
      "cell_type": "markdown",
      "metadata": {
        "id": "IWrgOOnAVejF"
      },
      "source": [
        "### ¿Qué tipo de información graficar?\n",
        "\n",
        "- Cualquier tipo de iformación sobre los datos y sus variables nos va a permitir tener un comprensión mucho mayor. \n",
        "En un análisis preliminar es importante entender como se destribuyen nuestras variables entre la población. \n",
        "También es util graficar relaciones entre variables para evaluar su dependencia. \n",
        "\n"
      ]
    },
    {
      "cell_type": "markdown",
      "metadata": {
        "id": "sDiPde_uVejG"
      },
      "source": [
        "### Cuando los estadísticos no son suficientes\n",
        "\n",
        "El conocido cuarteto de Anscombe esta compuesto por cuatro datasets de dos variables que tienen medias y desvíos del mismo valor. \n"
      ]
    },
    {
      "cell_type": "code",
      "execution_count": null,
      "metadata": {
        "colab": {
          "base_uri": "https://localhost:8080/",
          "height": 238
        },
        "id": "LHmYV-h3VejH",
        "outputId": "52d73ae8-e567-4245-efe5-5bb3d9b3a92c"
      },
      "outputs": [
        {
          "data": {
            "text/html": [
              "\n",
              "  <div id=\"df-31e53401-e6e9-4caf-9500-14addbf531f8\">\n",
              "    <div class=\"colab-df-container\">\n",
              "      <div>\n",
              "<style scoped>\n",
              "    .dataframe tbody tr th:only-of-type {\n",
              "        vertical-align: middle;\n",
              "    }\n",
              "\n",
              "    .dataframe tbody tr th {\n",
              "        vertical-align: top;\n",
              "    }\n",
              "\n",
              "    .dataframe thead tr th {\n",
              "        text-align: left;\n",
              "    }\n",
              "\n",
              "    .dataframe thead tr:last-of-type th {\n",
              "        text-align: right;\n",
              "    }\n",
              "</style>\n",
              "<table border=\"1\" class=\"dataframe\">\n",
              "  <thead>\n",
              "    <tr>\n",
              "      <th></th>\n",
              "      <th colspan=\"2\" halign=\"left\">mean</th>\n",
              "      <th colspan=\"2\" halign=\"left\">std</th>\n",
              "    </tr>\n",
              "    <tr>\n",
              "      <th></th>\n",
              "      <th>x</th>\n",
              "      <th>y</th>\n",
              "      <th>x</th>\n",
              "      <th>y</th>\n",
              "    </tr>\n",
              "    <tr>\n",
              "      <th>dataset</th>\n",
              "      <th></th>\n",
              "      <th></th>\n",
              "      <th></th>\n",
              "      <th></th>\n",
              "    </tr>\n",
              "  </thead>\n",
              "  <tbody>\n",
              "    <tr>\n",
              "      <th>I</th>\n",
              "      <td>9.0</td>\n",
              "      <td>7.500909</td>\n",
              "      <td>3.316625</td>\n",
              "      <td>2.031568</td>\n",
              "    </tr>\n",
              "    <tr>\n",
              "      <th>II</th>\n",
              "      <td>9.0</td>\n",
              "      <td>7.500909</td>\n",
              "      <td>3.316625</td>\n",
              "      <td>2.031657</td>\n",
              "    </tr>\n",
              "    <tr>\n",
              "      <th>III</th>\n",
              "      <td>9.0</td>\n",
              "      <td>7.500000</td>\n",
              "      <td>3.316625</td>\n",
              "      <td>2.030424</td>\n",
              "    </tr>\n",
              "    <tr>\n",
              "      <th>IV</th>\n",
              "      <td>9.0</td>\n",
              "      <td>7.500909</td>\n",
              "      <td>3.316625</td>\n",
              "      <td>2.030579</td>\n",
              "    </tr>\n",
              "  </tbody>\n",
              "</table>\n",
              "</div>\n",
              "      <button class=\"colab-df-convert\" onclick=\"convertToInteractive('df-31e53401-e6e9-4caf-9500-14addbf531f8')\"\n",
              "              title=\"Convert this dataframe to an interactive table.\"\n",
              "              style=\"display:none;\">\n",
              "        \n",
              "  <svg xmlns=\"http://www.w3.org/2000/svg\" height=\"24px\"viewBox=\"0 0 24 24\"\n",
              "       width=\"24px\">\n",
              "    <path d=\"M0 0h24v24H0V0z\" fill=\"none\"/>\n",
              "    <path d=\"M18.56 5.44l.94 2.06.94-2.06 2.06-.94-2.06-.94-.94-2.06-.94 2.06-2.06.94zm-11 1L8.5 8.5l.94-2.06 2.06-.94-2.06-.94L8.5 2.5l-.94 2.06-2.06.94zm10 10l.94 2.06.94-2.06 2.06-.94-2.06-.94-.94-2.06-.94 2.06-2.06.94z\"/><path d=\"M17.41 7.96l-1.37-1.37c-.4-.4-.92-.59-1.43-.59-.52 0-1.04.2-1.43.59L10.3 9.45l-7.72 7.72c-.78.78-.78 2.05 0 2.83L4 21.41c.39.39.9.59 1.41.59.51 0 1.02-.2 1.41-.59l7.78-7.78 2.81-2.81c.8-.78.8-2.07 0-2.86zM5.41 20L4 18.59l7.72-7.72 1.47 1.35L5.41 20z\"/>\n",
              "  </svg>\n",
              "      </button>\n",
              "      \n",
              "  <style>\n",
              "    .colab-df-container {\n",
              "      display:flex;\n",
              "      flex-wrap:wrap;\n",
              "      gap: 12px;\n",
              "    }\n",
              "\n",
              "    .colab-df-convert {\n",
              "      background-color: #E8F0FE;\n",
              "      border: none;\n",
              "      border-radius: 50%;\n",
              "      cursor: pointer;\n",
              "      display: none;\n",
              "      fill: #1967D2;\n",
              "      height: 32px;\n",
              "      padding: 0 0 0 0;\n",
              "      width: 32px;\n",
              "    }\n",
              "\n",
              "    .colab-df-convert:hover {\n",
              "      background-color: #E2EBFA;\n",
              "      box-shadow: 0px 1px 2px rgba(60, 64, 67, 0.3), 0px 1px 3px 1px rgba(60, 64, 67, 0.15);\n",
              "      fill: #174EA6;\n",
              "    }\n",
              "\n",
              "    [theme=dark] .colab-df-convert {\n",
              "      background-color: #3B4455;\n",
              "      fill: #D2E3FC;\n",
              "    }\n",
              "\n",
              "    [theme=dark] .colab-df-convert:hover {\n",
              "      background-color: #434B5C;\n",
              "      box-shadow: 0px 1px 3px 1px rgba(0, 0, 0, 0.15);\n",
              "      filter: drop-shadow(0px 1px 2px rgba(0, 0, 0, 0.3));\n",
              "      fill: #FFFFFF;\n",
              "    }\n",
              "  </style>\n",
              "\n",
              "      <script>\n",
              "        const buttonEl =\n",
              "          document.querySelector('#df-31e53401-e6e9-4caf-9500-14addbf531f8 button.colab-df-convert');\n",
              "        buttonEl.style.display =\n",
              "          google.colab.kernel.accessAllowed ? 'block' : 'none';\n",
              "\n",
              "        async function convertToInteractive(key) {\n",
              "          const element = document.querySelector('#df-31e53401-e6e9-4caf-9500-14addbf531f8');\n",
              "          const dataTable =\n",
              "            await google.colab.kernel.invokeFunction('convertToInteractive',\n",
              "                                                     [key], {});\n",
              "          if (!dataTable) return;\n",
              "\n",
              "          const docLinkHtml = 'Like what you see? Visit the ' +\n",
              "            '<a target=\"_blank\" href=https://colab.research.google.com/notebooks/data_table.ipynb>data table notebook</a>'\n",
              "            + ' to learn more about interactive tables.';\n",
              "          element.innerHTML = '';\n",
              "          dataTable['output_type'] = 'display_data';\n",
              "          await google.colab.output.renderOutput(dataTable, element);\n",
              "          const docLink = document.createElement('div');\n",
              "          docLink.innerHTML = docLinkHtml;\n",
              "          element.appendChild(docLink);\n",
              "        }\n",
              "      </script>\n",
              "    </div>\n",
              "  </div>\n",
              "  "
            ],
            "text/plain": [
              "        mean                 std          \n",
              "           x         y         x         y\n",
              "dataset                                   \n",
              "I        9.0  7.500909  3.316625  2.031568\n",
              "II       9.0  7.500909  3.316625  2.031657\n",
              "III      9.0  7.500000  3.316625  2.030424\n",
              "IV       9.0  7.500909  3.316625  2.030579"
            ]
          },
          "execution_count": 2,
          "metadata": {},
          "output_type": "execute_result"
        }
      ],
      "source": [
        "import pandas as pd\n",
        "import seaborn as sns\n",
        "import matplotlib.pyplot as plt  # sometimes we want to tweak plots\n",
        "import numpy as np \n",
        "\n",
        "df = sns.load_dataset(\"anscombe\")\n",
        "df.groupby('dataset').describe() # works, but a lil ugly...\n",
        "df.groupby('dataset').describe().swaplevel(axis=1)[['mean','std']] # just report means and std"
      ]
    },
    {
      "cell_type": "markdown",
      "metadata": {
        "id": "CatzLA4rVejK"
      },
      "source": [
        "Si quisiéramos implementar una regreción lineal sin ver los datos podriamos utilizar los estadísticos obtenidos y genera nuestra recta de regresión: $y = 3 + 0.5*x$\n",
        "\n",
        "Pero que pasa si graficamos los datos "
      ]
    },
    {
      "cell_type": "code",
      "execution_count": null,
      "metadata": {
        "colab": {
          "base_uri": "https://localhost:8080/",
          "height": 729
        },
        "id": "sZNuyet7VejL",
        "outputId": "ad9f0f4a-7c68-4c86-944f-51b09a2293ae",
        "tags": [
          "remove_input"
        ]
      },
      "outputs": [
        {
          "data": {
            "image/png": "[encoded data removed]",
            "text/plain": [
              "<Figure size 720x720 with 4 Axes>"
            ]
          },
          "metadata": {
            "needs_background": "light"
          },
          "output_type": "display_data"
        }
      ],
      "source": [
        "sns.lmplot(x=\"x\", y=\"y\", data=df, ci=None,\n",
        "           col=\"dataset\", # do the plot once for each dataset\n",
        "           col_wrap=2,    # only two plots per row\n",
        "           hue=\"dataset\", # diff color for each dataset\n",
        "          )\n",
        "plt.show()"
      ]
    },
    {
      "cell_type": "markdown",
      "metadata": {
        "id": "r1u3teJKc1B4"
      },
      "source": [
        "### Histograma \n",
        "\n",
        "Para entender como se distribuye la muestra que tenemos sobre variables de interes vamos a utilizar un histograma. \n",
        "\n",
        "El histograma nos va a permitir entender la frecuencia con que aparecen los valores de una variable. \n",
        "Para las variables continuas es necesario discretizarlas. Se utilizan \"bines\" de datos que agrupan los posibles valores en intervalos iguales. De esta manera vemos con cuanta frecuencia aparecen muestras pertenecientes a esos bines en los datos. "
      ]
    },
    {
      "cell_type": "code",
      "execution_count": null,
      "metadata": {
        "colab": {
          "base_uri": "https://localhost:8080/",
          "height": 297
        },
        "id": "WUJiqOW3fPRf",
        "outputId": "89f39b14-67eb-4656-e4f3-4785ea202d8a"
      },
      "outputs": [
        {
          "data": {
            "text/plain": [
              "<matplotlib.axes._subplots.AxesSubplot at 0x7f46f0e89410>"
            ]
          },
          "execution_count": 8,
          "metadata": {},
          "output_type": "execute_result"
        },
        {
          "data": {
            "image/png": "[encoded data removed]",
            "text/plain": [
              "<Figure size 432x288 with 1 Axes>"
            ]
          },
          "metadata": {
            "needs_background": "light"
          },
          "output_type": "display_data"
        }
      ],
      "source": [
        "sns.histplot(data=eph, x=\"ITF\")"
      ]
    },
    {
      "cell_type": "markdown",
      "metadata": {
        "id": "3gFI9yUxgF-7"
      },
      "source": [
        "El primer problema que encontramos es una gran cantidad de muestras con ITF \"0\" podemos entender mejor como se distribuye evaluando sus estadísticos. De esta manera sacar errores o posible outliers que afecten la claridad del gráfico y la comprensión de datos "
      ]
    },
    {
      "cell_type": "code",
      "execution_count": null,
      "metadata": {
        "colab": {
          "base_uri": "https://localhost:8080/",
          "height": 300
        },
        "id": "upiuPSI0gDBb",
        "outputId": "efdfc151-de0f-4a5b-cebd-98c9bec5a147"
      },
      "outputs": [
        {
          "data": {
            "text/html": [
              "\n",
              "  <div id=\"df-851a9cf0-4945-4a85-b10e-86410fafb78f\">\n",
              "    <div class=\"colab-df-container\">\n",
              "      <div>\n",
              "<style scoped>\n",
              "    .dataframe tbody tr th:only-of-type {\n",
              "        vertical-align: middle;\n",
              "    }\n",
              "\n",
              "    .dataframe tbody tr th {\n",
              "        vertical-align: top;\n",
              "    }\n",
              "\n",
              "    .dataframe thead th {\n",
              "        text-align: right;\n",
              "    }\n",
              "</style>\n",
              "<table border=\"1\" class=\"dataframe\">\n",
              "  <thead>\n",
              "    <tr style=\"text-align: right;\">\n",
              "      <th></th>\n",
              "      <th>ITF</th>\n",
              "    </tr>\n",
              "  </thead>\n",
              "  <tbody>\n",
              "    <tr>\n",
              "      <th>count</th>\n",
              "      <td>4.708500e+04</td>\n",
              "    </tr>\n",
              "    <tr>\n",
              "      <th>mean</th>\n",
              "      <td>6.206041e+04</td>\n",
              "    </tr>\n",
              "    <tr>\n",
              "      <th>std</th>\n",
              "      <td>6.274883e+04</td>\n",
              "    </tr>\n",
              "    <tr>\n",
              "      <th>min</th>\n",
              "      <td>0.000000e+00</td>\n",
              "    </tr>\n",
              "    <tr>\n",
              "      <th>25%</th>\n",
              "      <td>2.200000e+04</td>\n",
              "    </tr>\n",
              "    <tr>\n",
              "      <th>50%</th>\n",
              "      <td>5.000000e+04</td>\n",
              "    </tr>\n",
              "    <tr>\n",
              "      <th>75%</th>\n",
              "      <td>8.507100e+04</td>\n",
              "    </tr>\n",
              "    <tr>\n",
              "      <th>max</th>\n",
              "      <td>1.197000e+06</td>\n",
              "    </tr>\n",
              "  </tbody>\n",
              "</table>\n",
              "</div>\n",
              "      <button class=\"colab-df-convert\" onclick=\"convertToInteractive('df-851a9cf0-4945-4a85-b10e-86410fafb78f')\"\n",
              "              title=\"Convert this dataframe to an interactive table.\"\n",
              "              style=\"display:none;\">\n",
              "        \n",
              "  <svg xmlns=\"http://www.w3.org/2000/svg\" height=\"24px\"viewBox=\"0 0 24 24\"\n",
              "       width=\"24px\">\n",
              "    <path d=\"M0 0h24v24H0V0z\" fill=\"none\"/>\n",
              "    <path d=\"M18.56 5.44l.94 2.06.94-2.06 2.06-.94-2.06-.94-.94-2.06-.94 2.06-2.06.94zm-11 1L8.5 8.5l.94-2.06 2.06-.94-2.06-.94L8.5 2.5l-.94 2.06-2.06.94zm10 10l.94 2.06.94-2.06 2.06-.94-2.06-.94-.94-2.06-.94 2.06-2.06.94z\"/><path d=\"M17.41 7.96l-1.37-1.37c-.4-.4-.92-.59-1.43-.59-.52 0-1.04.2-1.43.59L10.3 9.45l-7.72 7.72c-.78.78-.78 2.05 0 2.83L4 21.41c.39.39.9.59 1.41.59.51 0 1.02-.2 1.41-.59l7.78-7.78 2.81-2.81c.8-.78.8-2.07 0-2.86zM5.41 20L4 18.59l7.72-7.72 1.47 1.35L5.41 20z\"/>\n",
              "  </svg>\n",
              "      </button>\n",
              "      \n",
              "  <style>\n",
              "    .colab-df-container {\n",
              "      display:flex;\n",
              "      flex-wrap:wrap;\n",
              "      gap: 12px;\n",
              "    }\n",
              "\n",
              "    .colab-df-convert {\n",
              "      background-color: #E8F0FE;\n",
              "      border: none;\n",
              "      border-radius: 50%;\n",
              "      cursor: pointer;\n",
              "      display: none;\n",
              "      fill: #1967D2;\n",
              "      height: 32px;\n",
              "      padding: 0 0 0 0;\n",
              "      width: 32px;\n",
              "    }\n",
              "\n",
              "    .colab-df-convert:hover {\n",
              "      background-color: #E2EBFA;\n",
              "      box-shadow: 0px 1px 2px rgba(60, 64, 67, 0.3), 0px 1px 3px 1px rgba(60, 64, 67, 0.15);\n",
              "      fill: #174EA6;\n",
              "    }\n",
              "\n",
              "    [theme=dark] .colab-df-convert {\n",
              "      background-color: #3B4455;\n",
              "      fill: #D2E3FC;\n",
              "    }\n",
              "\n",
              "    [theme=dark] .colab-df-convert:hover {\n",
              "      background-color: #434B5C;\n",
              "      box-shadow: 0px 1px 3px 1px rgba(0, 0, 0, 0.15);\n",
              "      filter: drop-shadow(0px 1px 2px rgba(0, 0, 0, 0.3));\n",
              "      fill: #FFFFFF;\n",
              "    }\n",
              "  </style>\n",
              "\n",
              "      <script>\n",
              "        const buttonEl =\n",
              "          document.querySelector('#df-851a9cf0-4945-4a85-b10e-86410fafb78f button.colab-df-convert');\n",
              "        buttonEl.style.display =\n",
              "          google.colab.kernel.accessAllowed ? 'block' : 'none';\n",
              "\n",
              "        async function convertToInteractive(key) {\n",
              "          const element = document.querySelector('#df-851a9cf0-4945-4a85-b10e-86410fafb78f');\n",
              "          const dataTable =\n",
              "            await google.colab.kernel.invokeFunction('convertToInteractive',\n",
              "                                                     [key], {});\n",
              "          if (!dataTable) return;\n",
              "\n",
              "          const docLinkHtml = 'Like what you see? Visit the ' +\n",
              "            '<a target=\"_blank\" href=https://colab.research.google.com/notebooks/data_table.ipynb>data table notebook</a>'\n",
              "            + ' to learn more about interactive tables.';\n",
              "          element.innerHTML = '';\n",
              "          dataTable['output_type'] = 'display_data';\n",
              "          await google.colab.output.renderOutput(dataTable, element);\n",
              "          const docLink = document.createElement('div');\n",
              "          docLink.innerHTML = docLinkHtml;\n",
              "          element.appendChild(docLink);\n",
              "        }\n",
              "      </script>\n",
              "    </div>\n",
              "  </div>\n",
              "  "
            ],
            "text/plain": [
              "                ITF\n",
              "count  4.708500e+04\n",
              "mean   6.206041e+04\n",
              "std    6.274883e+04\n",
              "min    0.000000e+00\n",
              "25%    2.200000e+04\n",
              "50%    5.000000e+04\n",
              "75%    8.507100e+04\n",
              "max    1.197000e+06"
            ]
          },
          "execution_count": 11,
          "metadata": {},
          "output_type": "execute_result"
        }
      ],
      "source": [
        "eph[['ITF']].describe()"
      ]
    },
    {
      "cell_type": "code",
      "execution_count": null,
      "metadata": {
        "colab": {
          "base_uri": "https://localhost:8080/"
        },
        "id": "eCULnEfkhxQL",
        "outputId": "107155bd-bb03-4098-8442-2a5731db9512"
      },
      "outputs": [
        {
          "data": {
            "text/plain": [
              "14"
            ]
          },
          "execution_count": 46,
          "metadata": {},
          "output_type": "execute_result"
        }
      ],
      "source": [
        "len(eph[eph['ITF'] > 1000000])"
      ]
    },
    {
      "cell_type": "code",
      "execution_count": null,
      "metadata": {
        "colab": {
          "base_uri": "https://localhost:8080/"
        },
        "id": "rdrlCYaUiArg",
        "outputId": "983e14cf-7ca4-45ae-8319-f57d289e43ac"
      },
      "outputs": [
        {
          "data": {
            "text/plain": [
              "47068"
            ]
          },
          "execution_count": 47,
          "metadata": {},
          "output_type": "execute_result"
        }
      ],
      "source": [
        "len(eph[eph['ITF'] < 1000000]) "
      ]
    },
    {
      "cell_type": "markdown",
      "metadata": {
        "id": "IIuyeJuCiPSL"
      },
      "source": [
        "Podemos descartar esos 31 valores para ver mejor la distribución mayoritaria "
      ]
    },
    {
      "cell_type": "code",
      "execution_count": null,
      "metadata": {
        "id": "deuN6uixiN28"
      },
      "outputs": [],
      "source": [
        "clean_eph  = eph[(eph['ITF']>0) & (eph['ITF']<100000)] "
      ]
    },
    {
      "cell_type": "code",
      "execution_count": null,
      "metadata": {
        "colab": {
          "base_uri": "https://localhost:8080/",
          "height": 297
        },
        "id": "H4qfg7C-j1WA",
        "outputId": "39aad4f0-ce42-4f6a-ca98-2f3d34590b92"
      },
      "outputs": [
        {
          "data": {
            "text/plain": [
              "<matplotlib.axes._subplots.AxesSubplot at 0x7f46ede13310>"
            ]
          },
          "execution_count": 49,
          "metadata": {},
          "output_type": "execute_result"
        },
        {
          "data": {
            "image/png": "[encoded data removed]",
            "text/plain": [
              "<Figure size 432x288 with 1 Axes>"
            ]
          },
          "metadata": {
            "needs_background": "light"
          },
          "output_type": "display_data"
        }
      ],
      "source": [
        "sns.histplot(data=clean_eph, x=\"ITF\")"
      ]
    },
    {
      "cell_type": "markdown",
      "metadata": {
        "id": "Gu-Sjb8kk9fU"
      },
      "source": [
        "Un primer análisis podría indicar una distribución gauseana para la variable 'ITF'. Vemos una mayor cantidad de frecuencia de valores cercanos a la media. Mientras que nos alejamos de la media las frecuencias son cada vez menores. "
      ]
    },
    {
      "cell_type": "code",
      "execution_count": null,
      "metadata": {
        "colab": {
          "base_uri": "https://localhost:8080/",
          "height": 297
        },
        "id": "9SxC4GXjldaa",
        "outputId": "a6c97e80-6074-4285-ae62-2104e8105ad4"
      },
      "outputs": [
        {
          "data": {
            "text/plain": [
              "<matplotlib.axes._subplots.AxesSubplot at 0x7f46ed8d8fd0>"
            ]
          },
          "execution_count": 51,
          "metadata": {},
          "output_type": "execute_result"
        },
        {
          "data": {
            "image/png": "[encoded data removed]",
            "text/plain": [
              "<Figure size 432x288 with 1 Axes>"
            ]
          },
          "metadata": {
            "needs_background": "light"
          },
          "output_type": "display_data"
        }
      ],
      "source": [
        "sns.histplot(data=clean_eph, x=\"ITF\",  bins=10, kde = True)"
      ]
    },
    {
      "cell_type": "markdown",
      "metadata": {
        "id": "q3xekTrKmy6D"
      },
      "source": [
        "Al elegir menor cantidad de bins de datos la curva se asemeja cada vez más a una distribución gauseana. Por qué creen que ocurre esto? Qué piensan que es lo más conveniente? usar mas o menos bins? "
      ]
    },
    {
      "cell_type": "markdown",
      "metadata": {
        "id": "4RG76n-FnFmP"
      },
      "source": [
        "### Boxplot"
      ]
    },
    {
      "cell_type": "markdown",
      "metadata": {
        "id": "EObHX4KBqCDF"
      },
      "source": [
        "Ahora bien, supongamos que nos interesa entender como funcionan estas distribuciones sobre variables pero dividiendo los datos en grupos o relacionando variables.\n",
        "En este caso podriamos querer entender la distribución de \"ITF\" por regiones. \n",
        "Es entonces cuando entra en juego la gráfica boxplot. "
      ]
    },
    {
      "cell_type": "markdown",
      "metadata": {
        "id": "RPICo7h3qDcc"
      },
      "source": [
        "![picture](https://miro.medium.com/max/1400/1*2c21SkzJMf3frPXPAR_gZA.png)"
      ]
    },
    {
      "cell_type": "code",
      "execution_count": null,
      "metadata": {
        "colab": {
          "base_uri": "https://localhost:8080/",
          "height": 279
        },
        "id": "X8Ycgy6dnDzn",
        "outputId": "18dc8abf-e73f-4461-8085-067e1f5f96fd"
      },
      "outputs": [
        {
          "data": {
            "image/png": "[encoded data removed]",
            "text/plain": [
              "<Figure size 432x288 with 1 Axes>"
            ]
          },
          "metadata": {
            "needs_background": "light"
          },
          "output_type": "display_data"
        }
      ],
      "source": [
        "ax = sns.boxplot(x='ITF', y='REGION', data=eph[eph['ITF'] > 0], orient=\"h\" )"
      ]
    },
    {
      "cell_type": "markdown",
      "metadata": {
        "id": "v5zWMdEhw4wK"
      },
      "source": [
        "Lo que podemos ver en la data sin filtrar es la cantidad de outliers que existen en los datos. Cómo se traduce esto en el análisis? "
      ]
    },
    {
      "cell_type": "code",
      "execution_count": null,
      "metadata": {
        "colab": {
          "base_uri": "https://localhost:8080/",
          "height": 279
        },
        "id": "99B8hReLv7rU",
        "outputId": "858d1709-24c1-41d3-cb45-70eecd5ecb88"
      },
      "outputs": [
        {
          "data": {
            "image/png": "[encoded data removed]",
            "text/plain": [
              "<Figure size 432x288 with 1 Axes>"
            ]
          },
          "metadata": {
            "needs_background": "light"
          },
          "output_type": "display_data"
        }
      ],
      "source": [
        "ax = sns.boxplot(x='ITF', y='REGION', data=clean_eph, orient=\"h\" )"
      ]
    },
    {
      "cell_type": "markdown",
      "metadata": {
        "id": "sj6ZAvmMwzmj"
      },
      "source": [
        "Qué otras variables estaría bueno cruzar? \n",
        "Puedo utilizar este tipo de gráfico en variables cuantitativas? "
      ]
    },
    {
      "cell_type": "markdown",
      "metadata": {
        "id": "npJcgNVaxVHN"
      },
      "source": [
        " ### Matríz de correlación "
      ]
    },
    {
      "cell_type": "markdown",
      "metadata": {
        "id": "fvKXFNNm0WLO"
      },
      "source": [
        "Otro herramienta de análisis que nos va a ser de gran ayuda es la matríz de correlación de variables. Esta matriz nos va a permitir entender la relación que existe entre estas variables a travéz de un valor númerico definido por la correlación de Pearson. Aunque se pueden utilizar otro tipo de medidas de correlación a travez de la librería pandas y el método \n",
        "\n",
        "```\n",
        "pd.corr()\n",
        "```\n",
        "\n",
        "\n",
        "Vamos a poder vizualizar si la relación entre variables es positiva (cuando aumenta el valor de una variable aumenta la otra) o es negativa (viceverza).\n",
        "\n",
        "Ahora bien nuestro data set posee gran cantidad de variables. Muchas cualitativas. Las variables categóricas no siempre aportan en este análisis. Por eso es correcto seleccionar las variables de interes para evaluar su correlación. "
      ]
    },
    {
      "cell_type": "code",
      "execution_count": null,
      "metadata": {
        "colab": {
          "base_uri": "https://localhost:8080/"
        },
        "id": "eXbAIaW33BS-",
        "outputId": "8fa43254-43d8-45e1-cbbc-e8bd3b7f4644"
      },
      "outputs": [
        {
          "data": {
            "text/plain": [
              "Index(['CODUSU', 'ANO4', 'TRIMESTRE', 'NRO_HOGAR', 'COMPONENTE', 'H15',\n",
              "       'REGION', 'MAS_500', 'AGLOMERADO', 'PONDERA', 'CH03', 'CH04', 'CH05',\n",
              "       'CH06', 'CH07', 'CH08', 'CH09', 'CH10', 'CH11', 'CH12', 'CH13', 'CH14',\n",
              "       'CH15', 'CH15_COD', 'CH16', 'CH16_COD', 'NIVEL_ED', 'ESTADO',\n",
              "       'CAT_OCUP', 'CAT_INAC', 'IMPUTA', 'PP02C1', 'PP02C2', 'PP02C3',\n",
              "       'PP02C4', 'PP02C5', 'PP02C6', 'PP02C7', 'PP02C8', 'PP02E', 'PP02H',\n",
              "       'PP02I', 'PP03C', 'PP03D', 'PP3E_TOT', 'PP3F_TOT', 'PP03G', 'PP03H',\n",
              "       'PP03I', 'PP03J'],\n",
              "      dtype='object')"
            ]
          },
          "execution_count": 66,
          "metadata": {},
          "output_type": "execute_result"
        }
      ],
      "source": [
        "eph.columns[0:50]"
      ]
    },
    {
      "cell_type": "code",
      "execution_count": null,
      "metadata": {
        "id": "IXz0-h-83way"
      },
      "outputs": [],
      "source": [
        "sample = eph[['ITF', 'NIVEL_ED', 'CH12', 'PP05H', 'PP08D1', 'PP10E', 'P21']]"
      ]
    },
    {
      "cell_type": "code",
      "execution_count": null,
      "metadata": {
        "colab": {
          "base_uri": "https://localhost:8080/",
          "height": 522
        },
        "id": "vID23cFu0UHg",
        "outputId": "bdfefca0-5406-46ae-c8ea-28590e6b2d70"
      },
      "outputs": [
        {
          "data": {
            "text/html": [
              "\n",
              "  <div id=\"df-62429fd6-f5ec-42ea-8d92-1b7eb04720af\">\n",
              "    <div class=\"colab-df-container\">\n",
              "      <div>\n",
              "<style scoped>\n",
              "    .dataframe tbody tr th:only-of-type {\n",
              "        vertical-align: middle;\n",
              "    }\n",
              "\n",
              "    .dataframe tbody tr th {\n",
              "        vertical-align: top;\n",
              "    }\n",
              "\n",
              "    .dataframe thead th {\n",
              "        text-align: right;\n",
              "    }\n",
              "</style>\n",
              "<table border=\"1\" class=\"dataframe\">\n",
              "  <thead>\n",
              "    <tr style=\"text-align: right;\">\n",
              "      <th></th>\n",
              "      <th>ITF</th>\n",
              "      <th>NIVEL_ED</th>\n",
              "      <th>CH12</th>\n",
              "      <th>PP05H</th>\n",
              "      <th>PP08D1</th>\n",
              "      <th>PP10E</th>\n",
              "      <th>P21</th>\n",
              "    </tr>\n",
              "  </thead>\n",
              "  <tbody>\n",
              "    <tr>\n",
              "      <th>ITF</th>\n",
              "      <td>1.000000</td>\n",
              "      <td>0.108313</td>\n",
              "      <td>0.084397</td>\n",
              "      <td>-0.069841</td>\n",
              "      <td>0.479061</td>\n",
              "      <td>-0.033484</td>\n",
              "      <td>0.416066</td>\n",
              "    </tr>\n",
              "    <tr>\n",
              "      <th>NIVEL_ED</th>\n",
              "      <td>0.108313</td>\n",
              "      <td>1.000000</td>\n",
              "      <td>0.296068</td>\n",
              "      <td>-0.087342</td>\n",
              "      <td>0.216493</td>\n",
              "      <td>0.010507</td>\n",
              "      <td>0.199665</td>\n",
              "    </tr>\n",
              "    <tr>\n",
              "      <th>CH12</th>\n",
              "      <td>0.084397</td>\n",
              "      <td>0.296068</td>\n",
              "      <td>1.000000</td>\n",
              "      <td>-0.073144</td>\n",
              "      <td>0.185546</td>\n",
              "      <td>0.000443</td>\n",
              "      <td>0.217073</td>\n",
              "    </tr>\n",
              "    <tr>\n",
              "      <th>PP05H</th>\n",
              "      <td>-0.069841</td>\n",
              "      <td>-0.087342</td>\n",
              "      <td>-0.073144</td>\n",
              "      <td>1.000000</td>\n",
              "      <td>-0.461840</td>\n",
              "      <td>NaN</td>\n",
              "      <td>-0.115107</td>\n",
              "    </tr>\n",
              "    <tr>\n",
              "      <th>PP08D1</th>\n",
              "      <td>0.479061</td>\n",
              "      <td>0.216493</td>\n",
              "      <td>0.185546</td>\n",
              "      <td>-0.461840</td>\n",
              "      <td>1.000000</td>\n",
              "      <td>NaN</td>\n",
              "      <td>0.778970</td>\n",
              "    </tr>\n",
              "    <tr>\n",
              "      <th>PP10E</th>\n",
              "      <td>-0.033484</td>\n",
              "      <td>0.010507</td>\n",
              "      <td>0.000443</td>\n",
              "      <td>NaN</td>\n",
              "      <td>NaN</td>\n",
              "      <td>1.000000</td>\n",
              "      <td>NaN</td>\n",
              "    </tr>\n",
              "    <tr>\n",
              "      <th>P21</th>\n",
              "      <td>0.416066</td>\n",
              "      <td>0.199665</td>\n",
              "      <td>0.217073</td>\n",
              "      <td>-0.115107</td>\n",
              "      <td>0.778970</td>\n",
              "      <td>NaN</td>\n",
              "      <td>1.000000</td>\n",
              "    </tr>\n",
              "  </tbody>\n",
              "</table>\n",
              "</div>\n",
              "      <button class=\"colab-df-convert\" onclick=\"convertToInteractive('df-62429fd6-f5ec-42ea-8d92-1b7eb04720af')\"\n",
              "              title=\"Convert this dataframe to an interactive table.\"\n",
              "              style=\"display:none;\">\n",
              "        \n",
              "  <svg xmlns=\"http://www.w3.org/2000/svg\" height=\"24px\"viewBox=\"0 0 24 24\"\n",
              "       width=\"24px\">\n",
              "    <path d=\"M0 0h24v24H0V0z\" fill=\"none\"/>\n",
              "    <path d=\"M18.56 5.44l.94 2.06.94-2.06 2.06-.94-2.06-.94-.94-2.06-.94 2.06-2.06.94zm-11 1L8.5 8.5l.94-2.06 2.06-.94-2.06-.94L8.5 2.5l-.94 2.06-2.06.94zm10 10l.94 2.06.94-2.06 2.06-.94-2.06-.94-.94-2.06-.94 2.06-2.06.94z\"/><path d=\"M17.41 7.96l-1.37-1.37c-.4-.4-.92-.59-1.43-.59-.52 0-1.04.2-1.43.59L10.3 9.45l-7.72 7.72c-.78.78-.78 2.05 0 2.83L4 21.41c.39.39.9.59 1.41.59.51 0 1.02-.2 1.41-.59l7.78-7.78 2.81-2.81c.8-.78.8-2.07 0-2.86zM5.41 20L4 18.59l7.72-7.72 1.47 1.35L5.41 20z\"/>\n",
              "  </svg>\n",
              "      </button>\n",
              "      \n",
              "  <style>\n",
              "    .colab-df-container {\n",
              "      display:flex;\n",
              "      flex-wrap:wrap;\n",
              "      gap: 12px;\n",
              "    }\n",
              "\n",
              "    .colab-df-convert {\n",
              "      background-color: #E8F0FE;\n",
              "      border: none;\n",
              "      border-radius: 50%;\n",
              "      cursor: pointer;\n",
              "      display: none;\n",
              "      fill: #1967D2;\n",
              "      height: 32px;\n",
              "      padding: 0 0 0 0;\n",
              "      width: 32px;\n",
              "    }\n",
              "\n",
              "    .colab-df-convert:hover {\n",
              "      background-color: #E2EBFA;\n",
              "      box-shadow: 0px 1px 2px rgba(60, 64, 67, 0.3), 0px 1px 3px 1px rgba(60, 64, 67, 0.15);\n",
              "      fill: #174EA6;\n",
              "    }\n",
              "\n",
              "    [theme=dark] .colab-df-convert {\n",
              "      background-color: #3B4455;\n",
              "      fill: #D2E3FC;\n",
              "    }\n",
              "\n",
              "    [theme=dark] .colab-df-convert:hover {\n",
              "      background-color: #434B5C;\n",
              "      box-shadow: 0px 1px 3px 1px rgba(0, 0, 0, 0.15);\n",
              "      filter: drop-shadow(0px 1px 2px rgba(0, 0, 0, 0.3));\n",
              "      fill: #FFFFFF;\n",
              "    }\n",
              "  </style>\n",
              "\n",
              "      <script>\n",
              "        const buttonEl =\n",
              "          document.querySelector('#df-62429fd6-f5ec-42ea-8d92-1b7eb04720af button.colab-df-convert');\n",
              "        buttonEl.style.display =\n",
              "          google.colab.kernel.accessAllowed ? 'block' : 'none';\n",
              "\n",
              "        async function convertToInteractive(key) {\n",
              "          const element = document.querySelector('#df-62429fd6-f5ec-42ea-8d92-1b7eb04720af');\n",
              "          const dataTable =\n",
              "            await google.colab.kernel.invokeFunction('convertToInteractive',\n",
              "                                                     [key], {});\n",
              "          if (!dataTable) return;\n",
              "\n",
              "          const docLinkHtml = 'Like what you see? Visit the ' +\n",
              "            '<a target=\"_blank\" href=https://colab.research.google.com/notebooks/data_table.ipynb>data table notebook</a>'\n",
              "            + ' to learn more about interactive tables.';\n",
              "          element.innerHTML = '';\n",
              "          dataTable['output_type'] = 'display_data';\n",
              "          await google.colab.output.renderOutput(dataTable, element);\n",
              "          const docLink = document.createElement('div');\n",
              "          docLink.innerHTML = docLinkHtml;\n",
              "          element.appendChild(docLink);\n",
              "        }\n",
              "      </script>\n",
              "    </div>\n",
              "  </div>\n",
              "  "
            ],
            "text/plain": [
              "               ITF  NIVEL_ED      CH12     PP05H    PP08D1     PP10E       P21\n",
              "ITF       1.000000  0.108313  0.084397 -0.069841  0.479061 -0.033484  0.416066\n",
              "NIVEL_ED  0.108313  1.000000  0.296068 -0.087342  0.216493  0.010507  0.199665\n",
              "CH12      0.084397  0.296068  1.000000 -0.073144  0.185546  0.000443  0.217073\n",
              "PP05H    -0.069841 -0.087342 -0.073144  1.000000 -0.461840       NaN -0.115107\n",
              "PP08D1    0.479061  0.216493  0.185546 -0.461840  1.000000       NaN  0.778970\n",
              "PP10E    -0.033484  0.010507  0.000443       NaN       NaN  1.000000       NaN\n",
              "P21       0.416066  0.199665  0.217073 -0.115107  0.778970       NaN  1.000000"
            ]
          },
          "execution_count": 75,
          "metadata": {},
          "output_type": "execute_result"
        },
        {
          "data": {
            "image/png": "[encoded data removed]",
            "text/plain": [
              "<Figure size 432x288 with 2 Axes>"
            ]
          },
          "metadata": {
            "needs_background": "light"
          },
          "output_type": "display_data"
        }
      ],
      "source": [
        "corr = sample.corr()\n",
        "corr = (corr)\n",
        "sns.heatmap(corr, \n",
        "            xticklabels=corr.columns.values,\n",
        "            yticklabels=corr.columns.values)\n",
        "corr"
      ]
    },
    {
      "cell_type": "markdown",
      "metadata": {
        "id": "E_Nx2dxw5_QL"
      },
      "source": [
        "Varías conclusiones se pueden sacar de este gráfico: \n",
        "\n",
        "\n",
        "*   Hay variables que parecen tener más relación con \"ITF\" que otras. Por qué piensan que se da esto? Tiene sentido este resultado? Busquen las variables elegidas y busquen una explicación para los resultados\n",
        "*   Hay variables que no presentan valores de correlación. Por qué? Investigar en el dataset que valores toman ambas variables. \n",
        "\n",
        "Ver la correlación es muy importante. En muchos casos hay variables que representan lo mismo o que tienen un alto grado de correlación. Si queremos hacer un modelo para predecir alguna variable, utilizar otros descriptores que están altamente correlacionado puede ser perjudicial para nuestro modelo. \n",
        "\n"
      ]
    },
    {
      "cell_type": "markdown",
      "metadata": {
        "id": "JYHYdmXhstoy"
      },
      "source": [
        "# Estadistica Inferencial"
      ]
    },
    {
      "cell_type": "markdown",
      "metadata": {
        "id": "VuODkOE8swXS"
      },
      "source": [
        "## Metodologia parametrica y no-parametrica"
      ]
    },
    {
      "cell_type": "markdown",
      "metadata": {
        "id": "1hYw-PLozSp9"
      },
      "source": [
        "En la estadistica parametrica asumismos que 𝑋 es una variable aleatoria con distribucion conocida. Por ejemplo: \n",
        "\n",
        "$$ X \\sim \\mathcal{N}(0,1)$$\n",
        "\n",
        "La estadistica no parametrica se basa mas en los datos sin hacer tantos supuestos sobre la forma de 𝑋. "
      ]
    },
    {
      "cell_type": "markdown",
      "metadata": {
        "id": "FzDQm-GW97AD"
      },
      "source": [
        "## Estimadores y Parametros\n",
        "\n",
        "Los estimadores pueden tener distintas propiedades: \n",
        "* Insesgadez: la diferencia entre la esperanza matemática del estimador y el valor numérico del parámetro que estima\n",
        "* Eficiencia: otra manera de denotar la varianza de los estimadores. Un estimador más eficiente es un estimador de menor varianza.\n",
        "* Consistencia: que la esperanza matemática del estimador cuando la muestra crece (tiende a infinito) sea igual al parámetro que se desea estimar. \n",
        "* Robustez (consistencia): la capacidad de mantenerse inalterado de manera significativa si hay una violación de los supuestos de partida en los que se basa la estimación (normalmente, atribuir a la población un determinado tipo de función de distribución que, en realidad, no es la correcta)."
      ]
    },
    {
      "cell_type": "markdown",
      "metadata": {
        "id": "bmtf6oPgxnK6"
      },
      "source": [
        "## Prueba de Hipótesis\n",
        "\n",
        "---\n",
        "\n",
        "* Bajo la **hipótesis nula** no hay diferencia entre la media $ \\mu_1 $ y $ \\mu_2 $, $$H_0: \\mu_1 = \\mu_2$$\n",
        "* Bajo la **hipótesis alternativa**, la media aumentó: $$H_a: \\mu_1 > \\mu_2$$\n",
        "    * Esta formulación de la hipótesis alternativa es **de un solo lado**. No probamos que las medias sean distintas, si no que sea mayor que la definida en la hipótesis nula.\n",
        "    * En caso contrario, podríamos preguntarnos si la media es distinta, es decir de ambos lados (*two-sided*): $H_a: \\mu_1 \\neq \\mu_2$. Muchas veces esta alternativa es más común y sencilla para trabajar. "
      ]
    },
    {
      "cell_type": "markdown",
      "metadata": {
        "id": "oK1_60TUweCu"
      },
      "source": [
        "### Tipos de errores"
      ]
    },
    {
      "cell_type": "markdown",
      "metadata": {
        "id": "FENfB4FptO5k"
      },
      "source": [
        "**Error de tipo I (falso positivo)** - la refutación incorrecta de la hipótesis nula. Usualmente un error de tipo I lleva a concluir que un supuesto efecto o relación existe cuando en realidad no sucede.\n",
        "\n",
        "* Por ejemplo, una test que muestra que un paciente tiene una enfermedad cuando en realidad el paciente no la tiene; una alarma de incendio que indica un incendio cuando en realidad no lo hay; o un experimento que indica que un tratamiento médico debería curar una enfermedad cuando en realidad no lo hace.\n",
        "\n",
        "* La chance de rechazar la hipótesis nula $H_0$, cuando es verdadera, se denota con $\\alpha$\n",
        "* $\\rightarrow$ La chance de rechazar la hipótesis nula $H_0$,  cuando es verdadera es $1 - \\alpha$\n",
        "\n",
        "\n",
        "\n"
      ]
    },
    {
      "cell_type": "markdown",
      "metadata": {
        "id": "BMJpvuUTvBS-"
      },
      "source": [
        "**Error de tipo II (falso negativo)**: el hecho de no rechazar una hipótesis nula que es falsa.\n",
        "\n",
        "* Por ejemplo, un análisis de sangre que no detecta la enfermedad en un paciente que realmente la tiene; Un incendio y una alarma contra incendios que no suena; o un ensayo clínico de un tratamiento médico que no demuestra que el tratamiento funciona cuando realmente lo hace.\n",
        "* La probabilidad de **no rechazar la hipótesis nula $H_0$, cuando es FALSA**, denotada por $\\beta$\n",
        "\n",
        "* $\\rightarrow$ la posibilidad de **rechazar la hipótesis nula $H_0$, cuando es FALSA** es $1 - \\beta$ (también llamada **potencia**)"
      ]
    },
    {
      "cell_type": "markdown",
      "metadata": {
        "id": "ErDdtSirxsct"
      },
      "source": [
        "#### Estadístico de Prueba\n",
        "---\n",
        "* Es una medida para ver cuánto se aleja, en probabilidad, lo observado de lo esperado según la hipótesis nula $H_0$\n",
        "    * Para eso calculamos el estadístico de nuestra muestra. Este va a depender de nuestra pregunta. Por ejemplo para estimar la media poblacional, nuestro estimador va a ser la media de nuestra muestra.\n",
        "* El resultado del estadístico será o no rechazado en función de su valor y el umbral de probabilidad que hayamos definido de antemano.\n",
        "\n",
        "* Existe una miríada de estadísticos de prueba, para distintos modelos de probabilidad que se asuman en la hipótesis nula."
      ]
    },
    {
      "cell_type": "markdown",
      "metadata": {
        "id": "IguxGrJK17pS"
      },
      "source": [
        "Parámetros o Estadísticos\n",
        "\n",
        "\n",
        "|  | Parámetros | Estadísticos |\n",
        "| -| ---------- | ---------- |\n",
        "| **Fuente** | <center> Población </center>| <center> Muestra </center>|\n",
        "| **Aleatorio** |<center> No </center>|<center> Sí</center>|\n",
        "| **Calculado** |<center> No</center>| <center> Sí </center>|"
      ]
    },
    {
      "cell_type": "markdown",
      "metadata": {
        "id": "pmnWwCsFwEjB"
      },
      "source": [
        "## Intervalos de confianza\n",
        "\n",
        "Los intervalos de confianza son el reflejo del desvio estandard de la distribucion de muestreo para cualquier estimador. El desvio estandard de esta distribucion lo caracterizamos como el error estandard (ES) por lo cual podemos definirlo como\n",
        "\n",
        "$$ \\sqrt{Var(\\hat{\\theta})} = ES$$\n",
        "\n",
        "El ES calcula que tanta variabilidad tiene el estimador $\\hat{\\theta}$ que estemos usando sea cual sea. Para algunos de estos estimadores el calculo es sencillo (por la via analitica) y para otros es mas complejo requiriendo metodos computacionales de aproximacion."
      ]
    },
    {
      "cell_type": "code",
      "execution_count": null,
      "metadata": {
        "id": "cQHUL-6iws_g"
      },
      "outputs": [],
      "source": [
        "multiples_medias = []\n",
        "for i in range(1000):\n",
        "  media_individual = np.mean(np.random.choice(eph.ITF, 250))\n",
        "  multiples_medias.append(media_individual)"
      ]
    },
    {
      "cell_type": "code",
      "execution_count": null,
      "metadata": {
        "colab": {
          "base_uri": "https://localhost:8080/",
          "height": 352
        },
        "id": "FWl_o7kuxG5c",
        "outputId": "8f4e643f-6a9e-44f5-d136-1a81fa7c2776"
      },
      "outputs": [
        {
          "data": {
            "text/plain": [
              "(array([ 19.,  78., 222., 283., 254.,  92.,  43.,   5.,   3.,   1.]),\n",
              " array([51365.58  , 54287.4552, 57209.3304, 60131.2056, 63053.0808,\n",
              "        65974.956 , 68896.8312, 71818.7064, 74740.5816, 77662.4568,\n",
              "        80584.332 ]),\n",
              " <a list of 10 Patch objects>)"
            ]
          },
          "execution_count": 106,
          "metadata": {},
          "output_type": "execute_result"
        },
        {
          "data": {
            "image/png": "[encoded data removed]",
            "text/plain": [
              "<Figure size 432x288 with 1 Axes>"
            ]
          },
          "metadata": {
            "needs_background": "light"
          },
          "output_type": "display_data"
        }
      ],
      "source": [
        "plt.hist(multiples_medias)"
      ]
    },
    {
      "cell_type": "code",
      "execution_count": null,
      "metadata": {
        "colab": {
          "base_uri": "https://localhost:8080/"
        },
        "id": "kWBAd4dkxg8u",
        "outputId": "3f4d7b48-263f-4dd5-ce4c-ed857076fe84"
      },
      "outputs": [
        {
          "name": "stdout",
          "output_type": "stream",
          "text": [
            "Error Standard aproximado: 3942.482305013511\n"
          ]
        }
      ],
      "source": [
        "print(\n",
        "    'Error Standard aproximado: ' + str(np.std(multiples_medias)),\n",
        ")"
      ]
    },
    {
      "cell_type": "markdown",
      "metadata": {
        "id": "LGNWXdR7xzbH"
      },
      "source": [
        "Segun el teorema central del limite la distribucion de muestreo de la media esta definida como una distribucion normal, por tanto el ES de la media esta definido como\n",
        "\n",
        "$$\\frac{\\sigma}{\\sqrt{n}} = ES$$\n",
        "\n",
        "Podemos comparar el resultado con nuestro calculo artesanal"
      ]
    },
    {
      "cell_type": "code",
      "execution_count": null,
      "metadata": {
        "colab": {
          "base_uri": "https://localhost:8080/"
        },
        "id": "k7tnlxzIyMKk",
        "outputId": "2dfa2079-3c48-471b-93b7-99f485efc178"
      },
      "outputs": [
        {
          "name": "stdout",
          "output_type": "stream",
          "text": [
            "Error standard exacto: 3968.5426364608397\n"
          ]
        }
      ],
      "source": [
        "import math\n",
        "\n",
        "se = np.std(eph.ITF)/math.sqrt(250)\n",
        "print(\n",
        "    'Error standard exacto: ' + str(se)\n",
        ")"
      ]
    },
    {
      "attachments": {},
      "cell_type": "markdown",
      "metadata": {
        "id": "O6mLB-k2051G"
      },
      "source": [
        "El parecido entre los dos valores es extremadamente bueno ¿Como construimos intervalos de confianza a partir de esto?\n",
        "\n",
        "$$ IC = \\hat{\\theta} \\pm \\phi \\hat{\\sigma}_\\theta$$\n",
        "\n",
        "Donde $\\phi$ es el margen de error del intervalo y $\\hat{\\sigma}_\\theta$ es el ES que calculamos (o mejor dicho estimamos). Mientras mas grande el valor de $\\phi$ mas confianza nos da el intervalo y mas grande se vuelve el rango que abarca. \n",
        "\n",
        "Por ejemplo, un intervalo de confianza del 95% implica que $\\phi$ toma el valor necesario para considerar los percentiles 2.5 y 97.5 de la distribucion de $\\hat{\\theta}$. \n",
        "\n",
        "La manera correcta de interpretar un intervalo de confianza es la siguiente:\n",
        "\n",
        "> Un intervalo de confianza de $x\\%$ implica que $x$ de cada 100 intervalos construidos de esa manera contienen el verdadero valor del parametro $\\theta$\n",
        "\n",
        "Para el caso de la media entonces podemos asumir que $\\phi$ toma los valores de los percentiles correspondientes a una distribucion _t_ dado que no conocemos el verdadero valor de $\\sigma$. "
      ]
    },
    {
      "cell_type": "code",
      "execution_count": null,
      "metadata": {
        "colab": {
          "base_uri": "https://localhost:8080/"
        },
        "id": "NhR1VBq75P5z",
        "outputId": "dcbc415a-3357-4d01-f31f-dfe9da8ce4b0"
      },
      "outputs": [
        {
          "name": "stdout",
          "output_type": "stream",
          "text": [
            "Intervalo de confianza del 95%:  62060.40792184348 +- 7816.191033309212\n"
          ]
        }
      ],
      "source": [
        "print(\n",
        "    'Intervalo de confianza del 95%: ',\n",
        "    np.mean(eph.ITF), '+-', se * stats.t.ppf(0.975, 249)\n",
        ")"
      ]
    },
    {
      "cell_type": "markdown",
      "metadata": {
        "id": "OUPdKZ0zwsX3"
      },
      "source": [
        "Pero que pasa cuando no tenemos una formula analitica para el calculo del ES en un determinado estimador como sucede con la mediana. Igualmente podemos utilizar el metodo anterior para llegar a una aproximacion razonable."
      ]
    },
    {
      "cell_type": "code",
      "execution_count": null,
      "metadata": {
        "id": "-XnJwAqu0EKQ"
      },
      "outputs": [],
      "source": [
        "multiples_medianas = []\n",
        "\n",
        "for i in range(1000):\n",
        "  mediana_individual = np.median(np.random.choice(eph.ITF, 250))\n",
        "  multiples_medianas.append(mediana_individual)"
      ]
    },
    {
      "cell_type": "code",
      "execution_count": null,
      "metadata": {
        "colab": {
          "base_uri": "https://localhost:8080/",
          "height": 334
        },
        "id": "eo6Ayzrn0WB9",
        "outputId": "621cfdc3-7520-4050-c48e-bbd23558ba1a"
      },
      "outputs": [
        {
          "data": {
            "text/plain": [
              "(array([  5.,  39.,  88., 168., 393., 160., 106.,  25.,  14.,   2.]),\n",
              " array([40200., 42610., 45020., 47430., 49840., 52250., 54660., 57070.,\n",
              "        59480., 61890., 64300.]),\n",
              " <a list of 10 Patch objects>)"
            ]
          },
          "execution_count": 122,
          "metadata": {},
          "output_type": "execute_result"
        },
        {
          "data": {
            "image/png": "[encoded data removed]",
            "text/plain": [
              "<Figure size 432x288 with 1 Axes>"
            ]
          },
          "metadata": {
            "needs_background": "light"
          },
          "output_type": "display_data"
        }
      ],
      "source": [
        "plt.hist(multiples_medianas)"
      ]
    },
    {
      "cell_type": "code",
      "execution_count": null,
      "metadata": {
        "colab": {
          "base_uri": "https://localhost:8080/"
        },
        "id": "HHXQUKq00c68",
        "outputId": "b752036d-4697-4d35-b770-7c848e2d11af"
      },
      "outputs": [
        {
          "name": "stdout",
          "output_type": "stream",
          "text": [
            "Error estandard aproximado: 3348.6278181665693\n"
          ]
        }
      ],
      "source": [
        "print(\n",
        "    'Error estandard aproximado: ' + str(np.std(multiples_medianas))\n",
        ")"
      ]
    },
    {
      "cell_type": "markdown",
      "metadata": {
        "id": "PFHMMBfv6kvq"
      },
      "source": [
        "En lugar de utilizar una formula para calcular los percentiles de $\\phi$ utilizamos la misma distribucion para extraer los percentiles. "
      ]
    },
    {
      "cell_type": "code",
      "execution_count": null,
      "metadata": {
        "colab": {
          "base_uri": "https://localhost:8080/"
        },
        "id": "5V7hF7Pw6rpc",
        "outputId": "518ec642-9cfa-43c4-a253-5feb139d18d4"
      },
      "outputs": [
        {
          "name": "stdout",
          "output_type": "stream",
          "text": [
            "Intervalo de confianza del 95% aproximado: 45000.0 - 58107.49999999999\n"
          ]
        }
      ],
      "source": [
        "print(\n",
        "    'Intervalo de confianza del 95% aproximado:',\n",
        "    np.quantile(multiples_medianas, 0.025),\n",
        "    '-',\n",
        "    np.quantile(multiples_medianas, 0.975)\n",
        ")"
      ]
    },
    {
      "cell_type": "markdown",
      "metadata": {
        "id": "dtzQP_wJ72rs"
      },
      "source": [
        "## P-valor \n",
        "---\n",
        "* Todas las pruebas de hipótesis al final proveen un p-valor que nos reflejan la cantidad de evidencia que tenemos para nuestras conclusiones, lo que nuestros datos nos dicen de la población. Este valor, una probabilidad, se encuentra entre 0 y 1 y es **la probabilidad de haber encontrado el estadístico de prueba observado (o uno más extremo) asumiendo la $H_0$**\n",
        "* Corresponde al **área bajo la curva** en la cola de la distribución normal bajo el estadístico $z_{stat}$.\n",
        "* Para convertir del estadístico Z a un valor: \n",
        "* P-valor :  $$\\textit{Para } H_a: \\mu > \\mu_0 \\rightarrow P = Pr(Z > z_{stat}) = \\textit{hacia la derecha desde } z_{stat} $$"
      ]
    },
    {
      "cell_type": "code",
      "execution_count": null,
      "metadata": {
        "cellView": "form",
        "colab": {
          "base_uri": "https://localhost:8080/",
          "height": 827
        },
        "id": "WBztZjI-8KVm",
        "outputId": "d4f22c2d-cf16-43f0-afd3-2b4d4f840ced"
      },
      "outputs": [
        {
          "data": {
            "image/png": "[encoded data removed]",
            "text/plain": [
              "<Figure size 720x432 with 1 Axes>"
            ]
          },
          "metadata": {
            "needs_background": "light"
          },
          "output_type": "display_data"
        },
        {
          "name": "stdout",
          "output_type": "stream",
          "text": [
            "p-val (AUC) = 0.298\n"
          ]
        },
        {
          "data": {
            "image/png": "[encoded data removed]",
            "text/plain": [
              "<Figure size 720x432 with 1 Axes>"
            ]
          },
          "metadata": {
            "needs_background": "light"
          },
          "output_type": "display_data"
        },
        {
          "name": "stdout",
          "output_type": "stream",
          "text": [
            "p-val (AUC) = 0.001\n"
          ]
        }
      ],
      "source": [
        "#@markdown P-Valor\n",
        "import numpy as np\n",
        "import matplotlib.pyplot as plt\n",
        "\n",
        "def plot_normal_p_val(x, f_x, observed, title='', xlim=None, ylim=None):\n",
        "    fig = plt.figure(figsize=(10,6))\n",
        "    ax = fig.add_subplot(1,1,1)\n",
        "    ax.plot(x, f_x, label='Standard Normal Distribution')\n",
        "    ax.fill_between(x[np.where(x.astype(int)==observed)[0][0]:], y1=f_x[np.where(x.astype(int)==observed)[0][0]:],\n",
        "                    color='red', label=\"P-value\")\n",
        "    ax.grid()\n",
        "    ax.legend()\n",
        "    ax.set_xlabel('x')\n",
        "    ax.set_title(title)\n",
        "    if xlim is not None:\n",
        "        ax.set_xlim(xlim)\n",
        "    if ylim is not None:\n",
        "        ax.set_ylim(ylim)\n",
        "    plt.show()\n",
        "\n",
        "# let's see for the body weight problem\n",
        "x = np.linspace(140, 200, 64)\n",
        "mu = 170  # H_0 is true!\n",
        "sigma = 5  # calcualted for 64 samples\n",
        "f_x = (1 / np.sqrt(2 * np.pi * sigma ** 2)) * np.exp(- (x - mu) ** 2 / (2 * sigma ** 2))\n",
        "x_normed = (x - mu) / sigma\n",
        "\n",
        "plot_normal_p_val(x, f_x, 173, 'P-Value and AUC for z-stat = 0.6')\n",
        "p_val = np.sum(f_x[np.where(x.astype(int)==173)[0][0]:])\n",
        "print('p-val (AUC) = {:.3f}'.format(p_val))\n",
        "\n",
        "plot_normal_p_val(x, f_x, 185, 'P-Value and AUC for z-stat = 3.0', [170, 195], [0, 0.05])\n",
        "p_val = np.sum(f_x[np.where(x.astype(int)==185)[0][0]:])\n",
        "print('p-val (AUC) = {:.3f}'.format(p_val))"
      ]
    },
    {
      "cell_type": "markdown",
      "metadata": {
        "id": "UioPRUp1VnP3"
      },
      "source": [
        "### Interpretación\n",
        "\n",
        "---\n",
        "* Un valor muy chico, (usualmente $\\leq$ 0.05) indica una **fuerte evidencia en contra de la $H_0$**, por lo que se rechaza la hipótesis nula.\n",
        "\n",
        "* Un valor alto ($>$ 0.05) indica evidencia débil, por lo que no se puede descartar la $H_0$."
      ]
    },
    {
      "cell_type": "markdown",
      "metadata": {
        "id": "np2WJaRT8TXA"
      },
      "source": [
        "## Significancia estadística ($\\alpha$)\n",
        "\n",
        "* Es el grado, definido **a priori** que se requiere para rechazar la hipótesis nula, $H_0$.\n",
        "* Un estadístico de prueba con **valor p menor** al predeterminado se dice que es **estadísticamente significativo**. \n"
      ]
    },
    {
      "cell_type": "markdown",
      "metadata": {
        "id": "CWtibqTT8Utd"
      },
      "source": [
        "* Algunos p-valores usuales:\n",
        "\n",
        "|Valor-P &nbsp;&nbsp;&nbsp;&nbsp;&nbsp; |Interpretación|\n",
        "| -----------------------------------------| --------------- |\n",
        "|$p > 0.05$ | No significativo |\n",
        "|$0.01 \\leq p \\leq 0.05$ | Significativo |\n",
        "|$0.001 \\leq p < 0.01$ | Muy Significativo |\n",
        "|$p < 0.001$ |  Extremadamente significativo |"
      ]
    },
    {
      "cell_type": "markdown",
      "metadata": {
        "id": "pj9dE9F3c_Vg"
      },
      "source": [
        "## Regresion Lineal\n",
        "\n",
        "El modelo basico de la regresion lineal es \n",
        "\n",
        "$$ Y=\\beta_0 + \\beta_1 X + ɛ$$\n",
        "\n",
        "El parametro $\\beta_0$ nos dice que pasa con $Y$ cuando $X$ vale 0 y $\\beta_1$ nos dice la diferencia promedio en $Y$ por el cambio en una unidad de $X$. \n",
        "\n",
        "La significancia de cada parametro esta dado por $$t = \\frac{\\beta_1 - 0}{SE(\\beta_1)}$$\n",
        "\n",
        "El nivel explicativo de la regresion esta dado por el $R^2$ segun $$ R^2 = \\frac{SST-SSR}{SST}$$\n",
        "\n",
        "Para poder crear un modelo de regresión lineal es necesario que se cumpla con los siguientes supuestos:\n",
        "* No colinealidad: Que las variables independientes no estén correlacionadas entre ellas.\n",
        "* Linealidad: Que la relación entre las variables sea lineal.\n",
        "* Independencia: Que los errores en la medición de cada una de las variables explicativas sean independientes entre sí.\n",
        "* Homocedasticidad: Que los errores tengan una varianza constante.\n",
        "* Normalidad: Que las variables sigan la Ley Normal.\n",
        "\n",
        "\n",
        "Vamos a usarlo para respondernos dos preguntas."
      ]
    },
    {
      "cell_type": "code",
      "execution_count": null,
      "metadata": {
        "id": "qx48mYZwgMe1"
      },
      "outputs": [],
      "source": [
        "# Vamos a usar el paquete statsmodels para este caso\n",
        "\n",
        "import statsmodels.api as sm"
      ]
    },
    {
      "cell_type": "code",
      "execution_count": null,
      "metadata": {
        "id": "2VChbP0-dDLV"
      },
      "outputs": [],
      "source": [
        "#Filtramos del dataset aquellos hogares que corresponden a las dos regiones de interes (GBA es 1 y NOA es 40 siendo los valores minimos).\n",
        "comparacion_ingresos_hogares = eph[eph['REGION'] < 41]\n",
        "#Modificamos los codigos\n",
        "X = comparacion_ingresos_hogares['REGION'].replace(40,0)\n",
        "\n",
        "#Creamos una constante para usar como ordenada en nuestra variable de interes.\n",
        "X = X.to_numpy()\n",
        "X = sm.add_constant(X)\n",
        "\n",
        "#Creamos nuestra variable de respuesta\n",
        "y = comparacion_ingresos_hogares['ITF'].values"
      ]
    },
    {
      "cell_type": "code",
      "execution_count": null,
      "metadata": {
        "colab": {
          "base_uri": "https://localhost:8080/",
          "height": 618
        },
        "id": "gEUGhp0elix8",
        "outputId": "10d83548-6f44-4b9f-f30f-72c9b5f16cbd"
      },
      "outputs": [
        {
          "name": "stderr",
          "output_type": "stream",
          "text": [
            "/usr/local/lib/python3.7/dist-packages/matplotlib/cbook/__init__.py:1376: VisibleDeprecationWarning: Creating an ndarray from ragged nested sequences (which is a list-or-tuple of lists-or-tuples-or ndarrays with different lengths or shapes) is deprecated. If you meant to do this, you must specify 'dtype=object' when creating the ndarray.\n",
            "  X = np.atleast_1d(X.T if isinstance(X, np.ndarray) else np.asarray(X))\n"
          ]
        },
        {
          "data": {
            "image/png": "[encoded data removed]",
            "text/plain": [
              "<Figure size 720x504 with 1 Axes>"
            ]
          },
          "metadata": {
            "needs_background": "light"
          },
          "output_type": "display_data"
        }
      ],
      "source": [
        "fig = plt.figure(figsize =(10, 7))\n",
        "ax = fig.add_axes([0, 0, 1, 1])\n",
        " \n",
        "# Creating plot\n",
        "bp = ax.boxplot(\n",
        "    [\n",
        "     comparacion_ingresos_hogares.loc[comparacion_ingresos_hogares['REGION'] == 40, 'ITF'],\n",
        "     comparacion_ingresos_hogares.loc[comparacion_ingresos_hogares['REGION'] == 1, 'ITF']\n",
        "     ]\n",
        ")\n",
        " \n",
        "# show plot\n",
        "plt.show()"
      ]
    },
    {
      "cell_type": "code",
      "execution_count": null,
      "metadata": {
        "id": "UpHgvOSTf1YC"
      },
      "outputs": [],
      "source": [
        "modelo_ingresos = sm.OLS(y, X)\n",
        "resultados = modelo_ingresos.fit()"
      ]
    },
    {
      "cell_type": "code",
      "execution_count": null,
      "metadata": {
        "colab": {
          "base_uri": "https://localhost:8080/",
          "height": 452
        },
        "id": "cEYwGjCkhpmr",
        "outputId": "ac000a19-4e5b-430e-fb2e-3ca518029196"
      },
      "outputs": [
        {
          "data": {
            "text/html": [
              "<table class=\"simpletable\">\n",
              "<caption>OLS Regression Results</caption>\n",
              "<tr>\n",
              "  <th>Dep. Variable:</th>            <td>y</td>        <th>  R-squared:         </th>  <td>   0.007</td>  \n",
              "</tr>\n",
              "<tr>\n",
              "  <th>Model:</th>                   <td>OLS</td>       <th>  Adj. R-squared:    </th>  <td>   0.007</td>  \n",
              "</tr>\n",
              "<tr>\n",
              "  <th>Method:</th>             <td>Least Squares</td>  <th>  F-statistic:       </th>  <td>   108.5</td>  \n",
              "</tr>\n",
              "<tr>\n",
              "  <th>Date:</th>             <td>Mon, 06 Jun 2022</td> <th>  Prob (F-statistic):</th>  <td>2.52e-25</td>  \n",
              "</tr>\n",
              "<tr>\n",
              "  <th>Time:</th>                 <td>20:01:14</td>     <th>  Log-Likelihood:    </th> <td>-1.9090e+05</td>\n",
              "</tr>\n",
              "<tr>\n",
              "  <th>No. Observations:</th>      <td> 15325</td>      <th>  AIC:               </th>  <td>3.818e+05</td> \n",
              "</tr>\n",
              "<tr>\n",
              "  <th>Df Residuals:</th>          <td> 15323</td>      <th>  BIC:               </th>  <td>3.818e+05</td> \n",
              "</tr>\n",
              "<tr>\n",
              "  <th>Df Model:</th>              <td>     1</td>      <th>                     </th>      <td> </td>     \n",
              "</tr>\n",
              "<tr>\n",
              "  <th>Covariance Type:</th>      <td>nonrobust</td>    <th>                     </th>      <td> </td>     \n",
              "</tr>\n",
              "</table>\n",
              "<table class=\"simpletable\">\n",
              "<tr>\n",
              "      <td></td>        <th>coef</th>     <th>std err</th>      <th>t</th>      <th>P>|t|</th>  <th>[0.025</th>    <th>0.975]</th>  \n",
              "</tr>\n",
              "<tr>\n",
              "  <th>ordenada</th> <td> 6.892e+04</td> <td>  582.171</td> <td>  118.378</td> <td> 0.000</td> <td> 6.78e+04</td> <td> 7.01e+04</td>\n",
              "</tr>\n",
              "<tr>\n",
              "  <th>region</th>   <td>  -1.2e+04</td> <td> 1151.968</td> <td>  -10.417</td> <td> 0.000</td> <td>-1.43e+04</td> <td>-9742.048</td>\n",
              "</tr>\n",
              "</table>\n",
              "<table class=\"simpletable\">\n",
              "<tr>\n",
              "  <th>Omnibus:</th>       <td>15486.197</td> <th>  Durbin-Watson:     </th>  <td>   0.533</td>  \n",
              "</tr>\n",
              "<tr>\n",
              "  <th>Prob(Omnibus):</th>  <td> 0.000</td>   <th>  Jarque-Bera (JB):  </th> <td>2041270.658</td>\n",
              "</tr>\n",
              "<tr>\n",
              "  <th>Skew:</th>           <td> 4.701</td>   <th>  Prob(JB):          </th>  <td>    0.00</td>  \n",
              "</tr>\n",
              "<tr>\n",
              "  <th>Kurtosis:</th>       <td>58.753</td>   <th>  Cond. No.          </th>  <td>    2.47</td>  \n",
              "</tr>\n",
              "</table><br/><br/>Warnings:<br/>[1] Standard Errors assume that the covariance matrix of the errors is correctly specified."
            ],
            "text/plain": [
              "<class 'statsmodels.iolib.summary.Summary'>\n",
              "\"\"\"\n",
              "                            OLS Regression Results                            \n",
              "==============================================================================\n",
              "Dep. Variable:                      y   R-squared:                       0.007\n",
              "Model:                            OLS   Adj. R-squared:                  0.007\n",
              "Method:                 Least Squares   F-statistic:                     108.5\n",
              "Date:                Mon, 06 Jun 2022   Prob (F-statistic):           2.52e-25\n",
              "Time:                        20:01:14   Log-Likelihood:            -1.9090e+05\n",
              "No. Observations:               15325   AIC:                         3.818e+05\n",
              "Df Residuals:                   15323   BIC:                         3.818e+05\n",
              "Df Model:                           1                                         \n",
              "Covariance Type:            nonrobust                                         \n",
              "==============================================================================\n",
              "                 coef    std err          t      P>|t|      [0.025      0.975]\n",
              "------------------------------------------------------------------------------\n",
              "ordenada    6.892e+04    582.171    118.378      0.000    6.78e+04    7.01e+04\n",
              "region       -1.2e+04   1151.968    -10.417      0.000   -1.43e+04   -9742.048\n",
              "==============================================================================\n",
              "Omnibus:                    15486.197   Durbin-Watson:                   0.533\n",
              "Prob(Omnibus):                  0.000   Jarque-Bera (JB):          2041270.658\n",
              "Skew:                           4.701   Prob(JB):                         0.00\n",
              "Kurtosis:                      58.753   Cond. No.                         2.47\n",
              "==============================================================================\n",
              "\n",
              "Warnings:\n",
              "[1] Standard Errors assume that the covariance matrix of the errors is correctly specified.\n",
              "\"\"\""
            ]
          },
          "execution_count": 81,
          "metadata": {},
          "output_type": "execute_result"
        }
      ],
      "source": [
        "resultados.summary(xname = ['ordenada','region'])"
      ]
    },
    {
      "cell_type": "code",
      "execution_count": null,
      "metadata": {
        "colab": {
          "base_uri": "https://localhost:8080/",
          "height": 299
        },
        "id": "arj_tn7lmh5x",
        "outputId": "c19f77c0-a59a-40d3-af45-36082023b6e5"
      },
      "outputs": [
        {
          "data": {
            "image/png": "[encoded data removed]",
            "text/plain": [
              "<Figure size 432x288 with 1 Axes>"
            ]
          },
          "metadata": {
            "needs_background": "light"
          },
          "output_type": "display_data"
        }
      ],
      "source": [
        "ajuste = sm.graphics.plot_fit(resultados, 'x1')\n",
        "ajuste.tight_layout(pad=1.0)"
      ]
    },
    {
      "cell_type": "code",
      "execution_count": null,
      "metadata": {
        "colab": {
          "base_uri": "https://localhost:8080/",
          "height": 650
        },
        "id": "r98w3RUOmhuQ",
        "outputId": "c019d04a-ae1a-4fd5-fcd5-840f625fd1e4"
      },
      "outputs": [
        {
          "name": "stderr",
          "output_type": "stream",
          "text": [
            "/usr/local/lib/python3.7/dist-packages/pandas/core/generic.py:6619: SettingWithCopyWarning: \n",
            "A value is trying to be set on a copy of a slice from a DataFrame\n",
            "\n",
            "See the caveats in the documentation: https://pandas.pydata.org/pandas-docs/stable/user_guide/indexing.html#returning-a-view-versus-a-copy\n",
            "  return self._update_inplace(result)\n"
          ]
        },
        {
          "data": {
            "image/png": "[encoded data removed]",
            "text/plain": [
              "<Figure size 432x288 with 1 Axes>"
            ]
          },
          "execution_count": 93,
          "metadata": {},
          "output_type": "execute_result"
        },
        {
          "data": {
            "image/png": "[encoded data removed]",
            "text/plain": [
              "<Figure size 432x288 with 1 Axes>"
            ]
          },
          "metadata": {
            "needs_background": "light"
          },
          "output_type": "display_data"
        }
      ],
      "source": [
        "from statsmodels.graphics.regressionplots import abline_plot\n",
        "\n",
        "# scatter-plot data\n",
        "comparacion_ingresos_hogares.REGION.replace(40,0, inplace = True)\n",
        "ax = comparacion_ingresos_hogares.plot(x='REGION', y='ITF', kind='scatter')\n",
        "\n",
        "# plot regression line\n",
        "abline_plot(model_results=resultados, ax=ax)\n"
      ]
    },
    {
      "cell_type": "markdown",
      "metadata": {
        "id": "0AWSFQy_rX-K"
      },
      "source": [
        "### T-test\n",
        "\n",
        "¿Como se comparan los resultados del t-test con los del modelo de regresion sobre los mismos datos?"
      ]
    },
    {
      "cell_type": "code",
      "execution_count": null,
      "metadata": {
        "colab": {
          "base_uri": "https://localhost:8080/"
        },
        "id": "JxkGoYSxpxr2",
        "outputId": "18d81e18-05ae-4fc6-e32c-509d2d15dfbe"
      },
      "outputs": [
        {
          "data": {
            "text/plain": [
              "Ttest_indResult(statistic=-8.452116116248854, pvalue=3.700181004659641e-17)"
            ]
          },
          "execution_count": 96,
          "metadata": {},
          "output_type": "execute_result"
        }
      ],
      "source": [
        "from scipy import stats\n",
        "\n",
        "stats.ttest_ind(\n",
        "    eph.loc[eph['REGION'] == 1, 'ITF'],\n",
        "    eph.loc[eph['REGION'] == 40, 'ITF'],\n",
        "    equal_var = False\n",
        ")"
      ]
    },
    {
      "cell_type": "markdown",
      "metadata": {
        "id": "FwsMG5Q37Tlr"
      },
      "source": [
        "Otro ejemplo regresión: \n",
        "\n",
        "Modelamos el nivel de ingresos en función del nivel educativo."
      ]
    },
    {
      "cell_type": "code",
      "execution_count": null,
      "metadata": {
        "id": "ZmiO4PG3SjbW"
      },
      "outputs": [],
      "source": [
        "import statsmodels.api as sm"
      ]
    },
    {
      "cell_type": "markdown",
      "metadata": {
        "id": "jxrXztNK1cmi"
      },
      "source": [
        "    1 = Primaria Incompleta (incluye educación especial)\n",
        "    2 = Primaria Completa\n",
        "    3 = Secundaria Incompleta\n",
        "    4 = Secundaria Completa\n",
        "    5 = Superior Universitaria Incompleta\n",
        "    6 = Superior Universitaria Completa\n",
        "    7 = Sin instrucción\n",
        "    9 = Ns/Nr"
      ]
    },
    {
      "cell_type": "code",
      "execution_count": null,
      "metadata": {
        "id": "ummaEU0K1ZDh"
      },
      "outputs": [],
      "source": [
        "# para mantener la lógica ordinal, reemplazamos el 7 por 0\n",
        "eph['NIVEL_ED'] = eph['NIVEL_ED'].replace({7:0})\n",
        "# descartamos los que no respondieron\n",
        "eph = eph[(eph['NIVEL_ED'] != 9) & (eph['ITF'] > 0)]\n",
        "x = eph['NIVEL_ED']\n",
        "y = eph['ITF']"
      ]
    },
    {
      "cell_type": "code",
      "execution_count": null,
      "metadata": {
        "colab": {
          "base_uri": "https://localhost:8080/"
        },
        "id": "YDqh5Pov1CNx",
        "outputId": "999760f8-54ac-4977-9761-383525336e94"
      },
      "outputs": [],
      "source": [
        "# Agregamos una columna de 1 constante para ajustar el intercepto\n",
        "X = sm.add_constant(x)"
      ]
    },
    {
      "cell_type": "code",
      "execution_count": null,
      "metadata": {
        "id": "b7bAP7C42dXv"
      },
      "outputs": [],
      "source": [
        "# Ajustamos el modelo de Ordinary Least Squares\n",
        "model = sm.OLS(y,X)\n",
        "# el .fit() ajusta los parámetros y devuelve un objeto con los resultados\n",
        "results = model.fit()"
      ]
    },
    {
      "cell_type": "code",
      "execution_count": null,
      "metadata": {
        "colab": {
          "base_uri": "https://localhost:8080/",
          "height": 432
        },
        "id": "3J2vGzR02efd",
        "outputId": "f05e3ae5-e059-49a8-bb46-4f39356e428c"
      },
      "outputs": [
        {
          "data": {
            "text/html": [
              "<table class=\"simpletable\">\n",
              "<caption>OLS Regression Results</caption>\n",
              "<tr>\n",
              "  <th>Dep. Variable:</th>           <td>ITF</td>       <th>  R-squared:         </th>  <td>   0.037</td>  \n",
              "</tr>\n",
              "<tr>\n",
              "  <th>Model:</th>                   <td>OLS</td>       <th>  Adj. R-squared:    </th>  <td>   0.037</td>  \n",
              "</tr>\n",
              "<tr>\n",
              "  <th>Method:</th>             <td>Least Squares</td>  <th>  F-statistic:       </th>  <td>   1473.</td>  \n",
              "</tr>\n",
              "<tr>\n",
              "  <th>Date:</th>             <td>Mon, 06 Jun 2022</td> <th>  Prob (F-statistic):</th>  <td>3.19e-316</td> \n",
              "</tr>\n",
              "<tr>\n",
              "  <th>Time:</th>                 <td>21:19:41</td>     <th>  Log-Likelihood:    </th> <td>-4.7400e+05</td>\n",
              "</tr>\n",
              "<tr>\n",
              "  <th>No. Observations:</th>      <td> 38158</td>      <th>  AIC:               </th>  <td>9.480e+05</td> \n",
              "</tr>\n",
              "<tr>\n",
              "  <th>Df Residuals:</th>          <td> 38156</td>      <th>  BIC:               </th>  <td>9.480e+05</td> \n",
              "</tr>\n",
              "<tr>\n",
              "  <th>Df Model:</th>              <td>     1</td>      <th>                     </th>      <td> </td>     \n",
              "</tr>\n",
              "<tr>\n",
              "  <th>Covariance Type:</th>      <td>nonrobust</td>    <th>                     </th>      <td> </td>     \n",
              "</tr>\n",
              "</table>\n",
              "<table class=\"simpletable\">\n",
              "<tr>\n",
              "      <td></td>        <th>coef</th>     <th>std err</th>      <th>t</th>      <th>P>|t|</th>  <th>[0.025</th>    <th>0.975]</th>  \n",
              "</tr>\n",
              "<tr>\n",
              "  <th>const</th>    <td>  5.57e+04</td> <td>  624.959</td> <td>   89.123</td> <td> 0.000</td> <td> 5.45e+04</td> <td> 5.69e+04</td>\n",
              "</tr>\n",
              "<tr>\n",
              "  <th>NIVEL_ED</th> <td> 6622.3128</td> <td>  172.552</td> <td>   38.379</td> <td> 0.000</td> <td> 6284.106</td> <td> 6960.519</td>\n",
              "</tr>\n",
              "</table>\n",
              "<table class=\"simpletable\">\n",
              "<tr>\n",
              "  <th>Omnibus:</th>       <td>37864.010</td> <th>  Durbin-Watson:     </th>  <td>   0.677</td>  \n",
              "</tr>\n",
              "<tr>\n",
              "  <th>Prob(Omnibus):</th>  <td> 0.000</td>   <th>  Jarque-Bera (JB):  </th> <td>4452882.200</td>\n",
              "</tr>\n",
              "<tr>\n",
              "  <th>Skew:</th>           <td> 4.610</td>   <th>  Prob(JB):          </th>  <td>    0.00</td>  \n",
              "</tr>\n",
              "<tr>\n",
              "  <th>Kurtosis:</th>       <td>55.112</td>   <th>  Cond. No.          </th>  <td>    7.79</td>  \n",
              "</tr>\n",
              "</table><br/><br/>Warnings:<br/>[1] Standard Errors assume that the covariance matrix of the errors is correctly specified."
            ],
            "text/plain": [
              "<class 'statsmodels.iolib.summary.Summary'>\n",
              "\"\"\"\n",
              "                            OLS Regression Results                            \n",
              "==============================================================================\n",
              "Dep. Variable:                    ITF   R-squared:                       0.037\n",
              "Model:                            OLS   Adj. R-squared:                  0.037\n",
              "Method:                 Least Squares   F-statistic:                     1473.\n",
              "Date:                Mon, 06 Jun 2022   Prob (F-statistic):          3.19e-316\n",
              "Time:                        21:19:41   Log-Likelihood:            -4.7400e+05\n",
              "No. Observations:               38158   AIC:                         9.480e+05\n",
              "Df Residuals:                   38156   BIC:                         9.480e+05\n",
              "Df Model:                           1                                         \n",
              "Covariance Type:            nonrobust                                         \n",
              "==============================================================================\n",
              "                 coef    std err          t      P>|t|      [0.025      0.975]\n",
              "------------------------------------------------------------------------------\n",
              "const        5.57e+04    624.959     89.123      0.000    5.45e+04    5.69e+04\n",
              "NIVEL_ED    6622.3128    172.552     38.379      0.000    6284.106    6960.519\n",
              "==============================================================================\n",
              "Omnibus:                    37864.010   Durbin-Watson:                   0.677\n",
              "Prob(Omnibus):                  0.000   Jarque-Bera (JB):          4452882.200\n",
              "Skew:                           4.610   Prob(JB):                         0.00\n",
              "Kurtosis:                      55.112   Cond. No.                         7.79\n",
              "==============================================================================\n",
              "\n",
              "Warnings:\n",
              "[1] Standard Errors assume that the covariance matrix of the errors is correctly specified.\n",
              "\"\"\""
            ]
          },
          "execution_count": 51,
          "metadata": {},
          "output_type": "execute_result"
        }
      ],
      "source": [
        "results.summary(xname=X.columns.tolist())"
      ]
    },
    {
      "cell_type": "code",
      "execution_count": null,
      "metadata": {
        "colab": {
          "base_uri": "https://localhost:8080/",
          "height": 372
        },
        "id": "gXbsZnjq5rhO",
        "outputId": "c445e5f1-3e1c-49a2-c6ec-f019a48b846a"
      },
      "outputs": [
        {
          "data": {
            "image/png": "[encoded data removed]",
            "text/plain": [
              "<Figure size 576x396 with 1 Axes>"
            ]
          },
          "metadata": {},
          "output_type": "display_data"
        }
      ],
      "source": [
        "import seaborn as sns\n",
        "ax = sns.boxplot(x='NIVEL_ED', y='ITF', data=eph, orient=\"v\" )"
      ]
    }
  ],
  "metadata": {
    "colab": {
      "collapsed_sections": [],
      "name": "estadística_colaborativa.pynb",
      "provenance": [],
      "toc_visible": true
    },
    "kernelspec": {
      "display_name": "Python 3",
      "name": "python3"
    },
    "language_info": {
      "name": "python"
    }
  },
  "nbformat": 4,
  "nbformat_minor": 0
}
