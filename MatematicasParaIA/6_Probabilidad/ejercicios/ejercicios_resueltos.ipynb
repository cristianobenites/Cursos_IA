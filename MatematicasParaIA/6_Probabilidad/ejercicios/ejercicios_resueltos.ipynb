{
 "cells": [
  {
   "cell_type": "markdown",
   "metadata": {},
   "source": [
    "# Ejercicios\n",
    "\n",
    "## Definiciones básicas"
   ]
  },
  {
   "cell_type": "markdown",
   "metadata": {},
   "source": [
    "### Ejercicios de cuentas\n",
    "1. Sea $\\Omega$ el conjunto de cartas de un mazo de cartas españolas (ver primer párrafo [acá](https://es.wikipedia.org/wiki/Baraja_espa%C3%B1ola) en caso de duda). De ser útil, podemos ponerle un número a cada carta, de forma tal que Tomado como espacio muestral, esto indica que nuestro experimento consiste en tomar una carta del mazo. Sea $p$ la medida de probabilidad que le asigna probabilidad $1/48$ a cada carta (consistente con mezclar bien el mazo cada vez que se va a tomar una carta). Calcular la probabilidad de los siguientes eventos:\n",
    "   1. El \"palo\" de la carta revelada es \"copa\".\n",
    "   2. La carta revelada es una \"figura\" (un $10$, un $11$ o un $12$).\n",
    "   3. El \"palo\" de la carta revelada es \"copa\" o la carta revelada es una figura.\n",
    "2. Ahora tengo dos mazos de cartas españolas. ¿Cuál es la probabilidad de que, al sacar una carta de cada uno, al menos una de las dos sea el $1$ de espadas?\n",
    "   * Ayuda: puede servir escribir el espacio muestral como $\\Omega = \\{(a, b) : 1 \\leq a, b \\leq 48\\}$. Luego el evento por el que nos preguntamos es $A = \\{(a, b) : a \\text{ es el 1e ó } b \\text{ es el 1e}\\}$.\n",
    "3. Ahora tengo un solo mazo de cartas españolas. ¿Cuál es la probabilidad de que, al sacar dos cartas, alguna de las dos sea el $1$ de espadas?\n",
    "   * Ayuda: puede servir escribir el espacio muestral como $\\Omega = \\{(a, b) : 1 \\leq a, b \\leq 48\\ \\text{ y además } a \\neq b\\}$. El evento por el que nos preguntamos es el mismo $A$ de antes.\n",
    "### Ejercicios de axiomas de probabilidad\n",
    "4. Partiendo de los axiomas de una medida de probabilidad discreta, en particular que $p(E \\cup V) = p(E) + p(V)$ para eventos disjuntos, demostrar que para cualquier par de subconjuntos $E, V \\subseteq \\Omega$ del espacio muestral, $p(E \\cup V) = p(E) + p(V) - p(E \\cap V)$.\n",
    "   * Ayuda: descomponer $E$ en los dos subconjuntos disjuntos $E \\cap V$ y $E - V = \\{\\omega \\in E \\text{tales que} \\omega \\not \\in V\\}$ Hacer lo mismo con $V$, y en ambos casos aplicar la regla para la unión de eventos disjuntos.\n",
    "5. Demostrar que el conjunto vacío siempre tiene probabilidad cero (ayuda: usar que $\\emptyset \\cup \\emptyset = \\emptyset$)\n",
    "### Ejercicios de simulaciones\n",
    "6. (Opcional, sin respuesta) Realizar una simulación de Monte Carlo con $N = 10000$ repeticiones del experimento. En cada experimento, tirar aleatoriamente dos dados y calcular el par no ordenado asociado. Luego contar cuántas veces salió cada par no ordenado y graficar dichas frecuencias (deberán elegir el modo de visualización que les parezca más conveniente)."
   ]
  },
  {
   "cell_type": "markdown",
   "metadata": {
    "id": "gP2fREKDIJmi"
   },
   "source": [
    "## Distribuciones de probabilidad\n",
    "\n",
    "7. Recordar la función de Python `generar_bitmap_aleatorio` de la clase. ¿Cuál es la probabilidad de que un bitmap aleatorio de $N \\times N$ tenga $x$ píxeles blancos? ($x$ puede tomar valores $0, 1, 2, 3, \\dots, N \\times N$). Responder primero para $N = 10$ mediante una simulación de Monte Carlo (usando la función `generar_bitmap_aleatorio`), y luego dar una respuesta general para cualquier valor posible de $N$ usando la distribución binomial.\n",
    "\n",
    "8. (Sin respuesta) Repetir los gráficos realizados en la sección \"Más distribuciones de probabilidad\", comparando un histograma de muestras con el gráfico de la distribución teórica, pero reemplazando la distribución binomial por la [distribución de Poisson](https://es.wikipedia.org/wiki/Distribuci%C3%B3n_de_Poisson), que depende de un único parámetro $\\mu > 0$ (\"mu\") y está implementada en Python como `scipy.stats.poisson`.\n",
    "\n",
    "9. (Sin respuesta) No todas las distribuciones de probabilidad tienen nombre. Por ejemplo, cuando sumamos los números de dos tiradas de dados, obtuvimos una variable aleatoria cuya distribución de probabilidad no tiene un nombre particular. La podemos llamar \"suma de dos uniformes entre $1$ y $6$\". Una forma de inventar nuevas distribuciones que quizá nadie haya nombrado aún es justamente empezar con una distribución conocida y aplicarle operaciones. Averigüen, haciendo Monte Carlo, qué pinta tienen las distribuciones que se obtienen de agarrar $X_1, X_2 \\sim U(1,\\dots,6)$ y multiplicarlas. ¿Y si hacen $X_1^{X_2}$? La imaginación es el límite."
   ]
  },
  {
   "cell_type": "markdown",
   "metadata": {},
   "source": [
    "\n",
    "## Probabilidad condicional\n",
    "\n",
    "10. Si $A$, $B$ son dos eventos con probabilidad no nula, demostrar que es lo mismo pedir cualquiera de las siguientes condiciones:\n",
    "* $p(A|B) = p(A)$\n",
    "* $p(B|A) = p(B)$\n",
    "* $p(A \\cap B) = p(A) p(B)$\n",
    "\n",
    "11.  En el ejemplo de los dados, sea $E$ el evento \"la suma dio $7$\" y sea $V$ el evento \"el dado A es un $2$\". ¿Son eventos dependientes o independientes?\n"
   ]
  },
  {
   "cell_type": "markdown",
   "metadata": {},
   "source": [
    "# Distribuciones continuas"
   ]
  },
  {
   "cell_type": "markdown",
   "metadata": {
    "vscode": {
     "languageId": "plaintext"
    }
   },
   "source": [
    "13. (Sin respuesta) **Teorema del Límite Central en acción**: Calcular la probabilidad de que un bitmap aleatorio de $N \\times N$ tenga $x$ píxeles blancos, pero ahora utilizando una distribución normal con $\\mu = 0,5 N^2$ y $\\sigma = \\sqrt{N^2p(1-p)}$. Para $N = 10$, ¿Difieren los resultados? ¿Y para $N=2$?"
   ]
  },
  {
   "cell_type": "markdown",
   "metadata": {},
   "source": [
    "# Respuestas\n",
    "\n",
    "1. "
   ]
  },
  {
   "cell_type": "code",
   "execution_count": 3,
   "metadata": {},
   "outputs": [
    {
     "name": "stdout",
     "output_type": "stream",
     "text": [
      "Respuesta 1:  0.25\n",
      "Respuesta 2:  0.25\n",
      "Respuesta 3:  0.4375\n"
     ]
    }
   ],
   "source": [
    "n_omega = 48\n",
    "n_cartas_copa = 12\n",
    "prob_copa = n_cartas_copa / n_omega\n",
    "print(\"Respuesta 1: \", prob_copa)\n",
    "\n",
    "n_figuras = 3*4\n",
    "prob_figura = n_figuras / n_omega\n",
    "print(\"Respuesta 2: \", prob_figura)\n",
    "\n",
    "n_figuras_copas = 3\n",
    "prob_figura_y_copa = n_figuras_copas / n_omega\n",
    "prob_figura_o_copa = prob_figura + prob_copa - prob_figura_y_copa\n",
    "print(\"Respuesta 3: \", prob_figura_o_copa)"
   ]
  },
  {
   "cell_type": "markdown",
   "metadata": {},
   "source": [
    "2. Contamos el número de elementos del evento A, distinguiendo tres casos:\n",
    "   * $a$ es el 1e y $b$ no lo es (hay una forma de que $a$ sea el 1e, y 47 formas de que $b$ no sea el 1e).\n",
    "   * ambas son el 1e de sus respectivos mazos (una única posibilidad)\n",
    "   * $b$ es el 1e y $a$ no lo es (al revés que antes)."
   ]
  },
  {
   "cell_type": "code",
   "execution_count": 4,
   "metadata": {},
   "outputs": [
    {
     "name": "stdout",
     "output_type": "stream",
     "text": [
      "Respuesta:  0.04123263888888889\n"
     ]
    }
   ],
   "source": [
    "n_omega = 48*48\n",
    "# Contamos el número de elementos del evento A\n",
    "n_A = 1 * 47 + 1 * 1 + 47 * 1\n",
    "prob_A = n_A / n_omega\n",
    "print(\"Respuesta: \", prob_A)\n"
   ]
  },
  {
   "cell_type": "markdown",
   "metadata": {},
   "source": [
    "3. Ahora el tamaño del espacio muestral es $48 \\times 47$. Por otro lado hay un caso menos que antes para $A$ (porque en un mazo hay solo un 1e)."
   ]
  },
  {
   "cell_type": "code",
   "execution_count": 5,
   "metadata": {},
   "outputs": [
    {
     "name": "stdout",
     "output_type": "stream",
     "text": [
      "Respuesta:  0.041666666666666664\n"
     ]
    }
   ],
   "source": [
    "n_omega = 48*47\n",
    "# Contamos el número de elementos del evento A\n",
    "n_A = 1 * 47 + 47 * 1\n",
    "prob_A = n_A / n_omega\n",
    "print(\"Respuesta: \", prob_A)"
   ]
  },
  {
   "cell_type": "markdown",
   "metadata": {},
   "source": [
    "Notar que es *ligeramente* más probable que alguna de las dos cartas sea 1 de espadas si las sacamos del mismo mazo."
   ]
  },
  {
   "cell_type": "markdown",
   "metadata": {},
   "source": [
    "\n",
    "4. Queremos ver que $p(E) + p(V) = p(E \\cup V) + p(E \\cap V)$. Siguiendo la ayuda, tenemos que $p(E) = p(E \\cap V) + p(E - V)$, y que $p(V) = p(V \\cap E) + p(V - E)$. Luego $p(E) + p(V) = p(E \\cap V) + p(E \\cap V) + p(E - V) + p(V - E)$. Lo único que nos queda para terminar es ver que $p(E \\cap V) + p(E - V) + p(V - E)$ es igual a $p(E \\cup V)$. Pero esto es así porque dado $\\omega \\in E \\cap V$, debe estar o bien en ambos, o bien en uno y no en el otro, o bien en el otro y no en el uno.\n",
    "5. $p(\\emptyset) = p(\\emptyset \\cup \\emptyset) = p(\\emptyset) + p(\\emptyset)$, luego restando $p(\\emptyset)$ a ambos lados, obtengo $0 = p(\\emptyset)$"
   ]
  },
  {
   "cell_type": "markdown",
   "metadata": {},
   "source": [
    "7. Respuesta general: en este caso cada píxel corresponde a un experimento de Bernoulli con $p = 0.5$, luego la probabilidad de que $k$ píxeles sean blancos es la probabilidad dada por una binomial con coeficientes $p = 0.5$ y $n = N^2$."
   ]
  },
  {
   "cell_type": "code",
   "execution_count": 16,
   "metadata": {},
   "outputs": [
    {
     "name": "stdout",
     "output_type": "stream",
     "text": [
      "La probabilidad de que en un bitmap aleatorios de NxN haya k píxeles blancos es  5.609228993004059e-15\n",
      "La probabilidad de que en un bitmap aleatorios de NxN haya k píxeles blancos es  0.03986930196379292\n",
      "La probabilidad de que en un bitmap aleatorios de NxN haya k píxeles blancos es  0.00044040401117185964\n"
     ]
    }
   ],
   "source": [
    "from scipy.stats import binom\n",
    "def respuesta_general(k, N):\n",
    "    prob = binom(N**2, 0.5).pmf(k)\n",
    "    print(\"La probabilidad de que en un bitmap aleatorios de NxN haya k píxeles blancos es \", prob)\n",
    "\n",
    "respuesta_general(13, 10)\n",
    "respuesta_general(200, 20)\n",
    "respuesta_general(230, 20)"
   ]
  },
  {
   "cell_type": "markdown",
   "metadata": {},
   "source": [
    "10. No es más que escribir cada expresión por definición.\n",
    "11. \n",
    "\n",
    "En el ejemplo de los dados, sea $E$ el evento \"la suma dio $7$\" y sea $V$ el evento \"el dado A es un $2$\". ¿Son eventos dependientes o independientes?"
   ]
  },
  {
   "cell_type": "code",
   "execution_count": 17,
   "metadata": {},
   "outputs": [
    {
     "name": "stdout",
     "output_type": "stream",
     "text": [
      "0.16666666666666666\n"
     ]
    }
   ],
   "source": [
    "p_suma7 = 6/36 # = 1/6\n",
    "p_Aes2 = 1/6\n",
    "p_suma7_y_Aes2 = 1/36 # solo un caso posible, el (2, 5)\n",
    "\n",
    "p_suma7_dado_Aes2 = p_suma7_y_Aes2 / p_Aes2\n",
    "print(p_suma7_dado_Aes2)\n"
   ]
  },
  {
   "cell_type": "markdown",
   "metadata": {},
   "source": [
    "La probabilidad condicional $p(E|V)$ nos da $1/6$, que es lo mismo que $p(E)$. Por lo tanto estos dos eventos son independientes."
   ]
  }
 ],
 "metadata": {
  "interpreter": {
   "hash": "b12bd75ef3c5e92f16e5bbc782cfb62df30db66b3baac38db6d2bdb0f7ef49fe"
  },
  "kernelspec": {
   "display_name": "Python 3.10.4 ('clase-proba-ihumai')",
   "language": "python",
   "name": "python3"
  },
  "language_info": {
   "codemirror_mode": {
    "name": "ipython",
    "version": 3
   },
   "file_extension": ".py",
   "mimetype": "text/x-python",
   "name": "python",
   "nbconvert_exporter": "python",
   "pygments_lexer": "ipython3",
   "version": "3.10.4"
  },
  "orig_nbformat": 4
 },
 "nbformat": 4,
 "nbformat_minor": 2
}
