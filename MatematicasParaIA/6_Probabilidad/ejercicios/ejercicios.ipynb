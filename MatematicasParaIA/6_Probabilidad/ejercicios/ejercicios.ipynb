{
 "cells": [
  {
   "cell_type": "markdown",
   "metadata": {},
   "source": [
    "<a href=\"https://colab.research.google.com/github/institutohumai/cursos-python/blob/master/MatematicasParaIA/6_Probabilidad/ejercicios/ejercicios.ipynb\"> <img src='https://colab.research.google.com/assets/colab-badge.svg' /> </a>"
   ]
  },
  {
   "cell_type": "markdown",
   "metadata": {},
   "source": [
    "# Ejercicios\n",
    "\n",
    "## Definiciones básicas"
   ]
  },
  {
   "cell_type": "markdown",
   "metadata": {},
   "source": [
    "### Ejercicios de cuentas\n",
    "1. Sea $\\Omega$ el conjunto de cartas de un mazo de cartas españolas (ver primer párrafo [acá](https://es.wikipedia.org/wiki/Baraja_espa%C3%B1ola) en caso de duda). De ser útil, podemos ponerle un número a cada carta, de forma tal que Tomado como espacio muestral, esto indica que nuestro experimento consiste en tomar una carta del mazo. Sea $p$ la medida de probabilidad que le asigna probabilidad $1/48$ a cada carta (consistente con mezclar bien el mazo cada vez que se va a tomar una carta). Calcular la probabilidad de los siguientes eventos:\n",
    "   1. El \"palo\" de la carta revelada es \"copa\".\n",
    "   2. La carta revelada es una \"figura\" (un $10$, un $11$ o un $12$).\n",
    "   3. El \"palo\" de la carta revelada es \"copa\" o la carta revelada es una figura.\n",
    "2. Ahora tengo dos mazos de cartas españolas. ¿Cuál es la probabilidad de que, al sacar una carta de cada uno, al menos una de las dos sea el $1$ de espadas?\n",
    "   * Ayuda: puede servir escribir el espacio muestral como $\\Omega = \\{(a, b) : 1 \\leq a, b \\leq 48\\}$. Luego el evento por el que nos preguntamos es $A = \\{(a, b) : a \\text{ es el 1e ó } b \\text{ es el 1e}\\}$.\n",
    "3. Ahora tengo un solo mazo de cartas españolas. ¿Cuál es la probabilidad de que, al sacar dos cartas, alguna de las dos sea el $1$ de espadas?\n",
    "   * Ayuda: puede servir escribir el espacio muestral como $\\Omega = \\{(a, b) : 1 \\leq a, b \\leq 48\\ \\text{ y además } a \\neq b\\}$. El evento por el que nos preguntamos es el mismo $A$ de antes.\n",
    "### Ejercicios de axiomas de probabilidad\n",
    "4. Partiendo de los axiomas de una medida de probabilidad discreta, en particular que $p(E \\cup V) = p(E) + p(V)$ para eventos disjuntos, demostrar que para cualquier par de subconjuntos $E, V \\subseteq \\Omega$ del espacio muestral, $p(E \\cup V) = p(E) + p(V) - p(E \\cap V)$.\n",
    "   * Ayuda: descomponer $E$ en los dos subconjuntos disjuntos $E \\cap V$ y $E - V = \\{\\omega \\in E \\text{tales que} \\omega \\not \\in V\\}$ Hacer lo mismo con $V$, y en ambos casos aplicar la regla para la unión de eventos disjuntos.\n",
    "5. Demostrar que el conjunto vacío siempre tiene probabilidad cero (ayuda: usar que $\\emptyset \\cup \\emptyset = \\emptyset$)\n",
    "### Ejercicios de simulaciones\n",
    "6. (Opcional, sin respuesta) Realizar una simulación de Monte Carlo con $N = 10000$ repeticiones del experimento. En cada experimento, tirar aleatoriamente dos dados y calcular el par no ordenado asociado. Luego contar cuántas veces salió cada par no ordenado y graficar dichas frecuencias (deberán elegir el modo de visualización que les parezca más conveniente)."
   ]
  },
  {
   "cell_type": "markdown",
   "metadata": {
    "id": "gP2fREKDIJmi"
   },
   "source": [
    "## Distribuciones de probabilidad\n",
    "\n",
    "7. Recordar la función de Python `generar_bitmap_aleatorio` de la clase. ¿Cuál es la probabilidad de que un bitmap aleatorio de $N \\times N$ tenga $x$ píxeles blancos? ($x$ puede tomar valores $0, 1, 2, 3, \\dots, N \\times N$). Responder primero para $N = 10$ mediante una simulación de Monte Carlo (usando la función `generar_bitmap_aleatorio`), y luego dar una respuesta general para cualquier valor posible de $N$ usando la distribución binomial.\n",
    "\n",
    "8. (Sin respuesta) Repetir los gráficos realizados en la sección \"Más distribuciones de probabilidad\", comparando un histograma de muestras con el gráfico de la distribución teórica, pero reemplazando la distribución binomial por la [distribución de Poisson](https://es.wikipedia.org/wiki/Distribuci%C3%B3n_de_Poisson), que depende de un único parámetro $\\mu > 0$ (\"mu\") y está implementada en Python como `scipy.stats.poisson`.\n",
    "\n",
    "9. (Sin respuesta) No todas las distribuciones de probabilidad tienen nombre. Por ejemplo, cuando sumamos los números de dos tiradas de dados, obtuvimos una variable aleatoria cuya distribución de probabilidad no tiene un nombre particular. La podemos llamar \"suma de dos uniformes entre $1$ y $6$\". Una forma de inventar nuevas distribuciones que quizá nadie haya nombrado aún es justamente empezar con una distribución conocida y aplicarle operaciones. Averigüen, haciendo Monte Carlo, qué pinta tienen las distribuciones que se obtienen de agarrar $X_1, X_2 \\sim U(1,\\dots,6)$ y multiplicarlas. ¿Y si hacen $X_1^{X_2}$? La imaginación es el límite."
   ]
  },
  {
   "cell_type": "markdown",
   "metadata": {},
   "source": [
    "\n",
    "## Probabilidad condicional\n",
    "\n",
    "10. Si $A$, $B$ son dos eventos con probabilidad no nula, demostrar que es lo mismo pedir cualquiera de las siguientes condiciones:\n",
    "* $p(A|B) = p(A)$\n",
    "* $p(B|A) = p(B)$\n",
    "* $p(A \\cap B) = p(A) p(B)$\n",
    "\n",
    "11.  En el ejemplo de los dados, sea $E$ el evento \"la suma dio $7$\" y sea $V$ el evento \"el dado A es un $2$\". ¿Son eventos dependientes o independientes?\n"
   ]
  },
  {
   "cell_type": "markdown",
   "metadata": {},
   "source": [
    "# Distribuciones continuas"
   ]
  },
  {
   "cell_type": "markdown",
   "metadata": {
    "vscode": {
     "languageId": "plaintext"
    }
   },
   "source": [
    "13. (Sin respuesta) **Teorema del Límite Central en acción**: Calcular la probabilidad de que un bitmap aleatorio de $N \\times N$ tenga $x$ píxeles blancos, pero ahora utilizando una distribución normal con $\\mu = 0,5 N^2$ y $\\sigma = \\sqrt{N^2p(1-p)}$. Para $N = 10$, ¿Difieren los resultados? ¿Y para $N=2$?"
   ]
  }
 ],
 "metadata": {
  "interpreter": {
   "hash": "b12bd75ef3c5e92f16e5bbc782cfb62df30db66b3baac38db6d2bdb0f7ef49fe"
  },
  "kernelspec": {
   "display_name": "Python 3.10.4 ('clase-proba-ihumai')",
   "language": "python",
   "name": "python3"
  },
  "language_info": {
   "codemirror_mode": {
    "name": "ipython",
    "version": 3
   },
   "file_extension": ".py",
   "mimetype": "text/x-python",
   "name": "python",
   "nbconvert_exporter": "python",
   "pygments_lexer": "ipython3",
   "version": "3.10.4"
  },
  "orig_nbformat": 4
 },
 "nbformat": 4,
 "nbformat_minor": 2
}
