{
  "cells": [
    {
      "cell_type": "markdown",
      "metadata": {},
      "source": [
        "<a href=\"https://colab.research.google.com/github/institutohumai/cursos-python/blob/master/MatematicasParaIA/6_Probabilidad/probabilidad.ipynb\"><img src='https://colab.research.google.com/assets/colab-badge.svg'/></a>"
      ]
    },
    {
      "cell_type": "code",
      "execution_count": 1,
      "metadata": {
        "id": "NjAFrRf9zt3M"
      },
      "outputs": [],
      "source": [
        "import numpy as np\n",
        "import matplotlib.pyplot as plt\n",
        "import scipy.stats as st\n",
        "from scipy.optimize import minimize"
      ]
    },
    {
      "cell_type": "markdown",
      "metadata": {
        "id": "dDXGwKgWzt3Q"
      },
      "source": [
        "# Tabla de Contenidos\n",
        "\n",
        "* Introducción\n",
        "  * Qué es la probabilidad y por qué estudiarla\n",
        "  * \"Probabilidades\" versus \"Estadística\"\n",
        "  * Hagamos un experimento\n",
        "* Definiciones básicas\n",
        "  * Espacio Muestral\n",
        "  * Medida de Probabilidad\n",
        "  * Ejemplos e Introducción a Monte Carlo\n",
        "  * Variables Aleatorias\n",
        "  * Distribuciones de probabilidad\n",
        "* Probabilidad condicional\n",
        "  * Independencia\n",
        "  * Teorema de Bayes\n",
        "* El caso continuo y la distribución normal\n",
        "* Medidas de tendencia central y de variabilidad\n",
        "  * Esperanza\n",
        "  * Moda y mediana\n",
        "  * Varianza y desviación estándar\n",
        "* Distribuciones multivariadas\n",
        "  * Marginalización\n",
        "  * Probabilidad condicional en el continuo\n",
        "  * Medidas de asociación\n",
        "* Dos grandes Teoremas\n",
        "  * Ley de los Grandes Números\n",
        "  * Teorema del Límite Central\n",
        "* Material adicional"
      ]
    },
    {
      "cell_type": "markdown",
      "metadata": {
        "id": "mZMQhq3yrVQH"
      },
      "source": [
        "# Introducción a la probabilidad\n",
        "\n",
        "## ¿Qué es la probabilidad y por qué estudiarla?\n",
        "\n",
        "La probabilidad es un concepto matemático increíblemente útil para modelar el mundo. La principal razón de esto es que, de una u otra forma, nos permite tener en cuenta de modo formalizado (y más aún, cuantitativo) el hecho de que nuestro conocimiento sobre el estado de cosas del mundo siempre es imperfecto.\n",
        "\n",
        "Es por esto que incluso si asumimos un mundo físico completamente determinístico (tal como parecía ser el caso en la época de esplendor de la física clásica), las probabilidades siempre tendrán un rol fundamental en nuestra descripción de ese mundo.\n",
        "\n",
        "Quizá sepamos, intuitivamente, que la probabilidad es algo que se predica sobre un *evento*, en general un evento futuro. Es decir, nos anticipamos a que en cierto momento realizaremos una *observación* de alguna situación o variable en el mundo (por ejemplo, que esté lloviendo, o que la temperatura sea $25^{\\circ} \\text{C}$) y nos preguntamos cuál es la probabilidad de que nuestra observación sea \"sí se produjo el evento\", \"no se produjo el evento\" o \"el valor de la variable $T$ es $23,4^{\\circ} \\text{C}$\".\n",
        "\n",
        "Nuestro objetivo inicial será entender qué quiere decir esto.\n",
        "\n",
        "## \"Probabilidades\" versus \"Estadística\"\n",
        "\n",
        "La Teoría de Probabilidades y la Estadística no son lo mismo como disciplinas matemáticas, y hay investigadores que se dedican enteramente a una u otra. Sin embargo desde el punto de vista de la ciencia de datos, la principal aplicación de la Teoría de Probabilidades siempre va a ser la Estadística. En esta clase vamos a concentrarnos en la Teoría de Probabilidades, mientras que la Estadística será el tópico de la clase próxima.\n",
        "\n",
        "Es muy posible que de todas formas se estén preguntando ¿Cuál es la diferencia? Intentemos una pequeña respuesta. Algo muy interesante es que las dos disciplinas recorren caminos \"inversos\".\n",
        "\n",
        "Para la Teoría de Probabilidades, las probabilidades de que ocurran un evento u otro son cantidades *conocidas*. Es decir, se asume que tenemos un conocimiento exacto sobre esas probabilidades; un conocimiento exacto sobre *cuánto* y *de qué manera* desconocemos los resultados de una observación futura. A partir de este conocimiento exacto (y en general hipotético) de las probabilidades involucradas, el objetivo es predecir la probabilidad de otros eventos, o sintetizar esta información de maneras útiles, o deducir otro tipo de consecuencias a partir de este conocimiento inicial.\n",
        "\n",
        "Una forma de decir todo esto es que en Teoría de Probabilidades, tenemos un *modelo probabilístico* del mundo (o sea, del recorte del mundo que nos interesa) que está totalmente especificado desde el principio. Y una vez que tenemos ese modelo especificado, lo estudiamos para ver qué podemos decir sobre él.\n",
        "\n",
        "En cambio, cuando hacemos Estadística, no asumimos un conocimiento previo exacto sobre las probabilidades de que se verifique una u otra observación en el mundo. En Estadística nuestro punto de partida son los *datos* (¿Se dieron cuenta de que esta es la primera vez que aparece esa palabra en esta clase?), y a partir de los (pocos) datos que tenemos nuestro objetivo es reconstruir el mejor modelo probabilístico que podamos. ¿Qué quiere decir *mejor*? No es una pregunta fácil, pero en algún sentido deberá tratarse del modelo probabilístico *que mejor se ajuste a los datos*. Encontrar estos modelos (o *estimarlos*, usando la jerga) es el objetivo de la Estadística."
      ]
    },
    {
      "cell_type": "markdown",
      "metadata": {
        "id": "DoXjJztI2oAp"
      },
      "source": [
        "# Hagamos un experimento\n",
        "\n",
        "Hay distintas formas de entender cómo es que la probabilidad cuantifica nuestro desconocimiento. En vez de meternos de entrada con una cuestión filosófica potencialmente complicada, comencemos por algo que quizá nos sea relativamente familiar: una función de Python que genere \"números aleatorios\", por ejemplo la función `randint` de la librería `numpy.random`.\n",
        "\n",
        "Con esta función, podemos realizar el experimento de tirar muchas veces un dado (de seis caras) y anotar los resultados. Si les parece aburrido, piensen que cuando me enseñaron estas cosas, a mí me hicieron medir cien veces el período de oscilación de un péndulo. ¡Esto por lo menos es más rápido!"
      ]
    },
    {
      "cell_type": "code",
      "execution_count": 2,
      "metadata": {
        "colab": {
          "base_uri": "https://localhost:8080/",
          "height": 282
        },
        "id": "csUg1wR6uAih",
        "outputId": "2f1fc0bc-6975-4913-e5ba-83c12d78550d"
      },
      "outputs": [
        {
          "data": {
            "text/plain": [
              "<BarContainer object of 6 artists>"
            ]
          },
          "execution_count": 2,
          "metadata": {},
          "output_type": "execute_result"
        },
        {
          "data": {
            "image/png": "[encoded data removed]",
            "text/plain": [
              "<Figure size 432x288 with 1 Axes>"
            ]
          },
          "metadata": {
            "needs_background": "light"
          },
          "output_type": "display_data"
        }
      ],
      "source": [
        "# Hagamos un experimento! Tiremos un dado 1000 veces.\n",
        "\n",
        "n_experimentos = 1000\n",
        "resultados = np.random.randint(1, 7, size=n_experimentos)\n",
        "# Veamos cuántas veces se obtuvo cada cosa con un histograma\n",
        "valores = np.arange(1, 7)\n",
        "conteos = np.bincount(resultados)[1:] # el primer valor es el # de ceros, lo tiramos\n",
        "plt.bar(valores, conteos)"
      ]
    },
    {
      "cell_type": "markdown",
      "metadata": {
        "id": "j8N-NkO9wFQX"
      },
      "source": [
        "Vemos que salen más o menos en iguales proporciones, pero no exactamente.\n",
        "\n",
        "Observemos algunas cosas:\n",
        "* Cada vez que repetimos las 1000 tiradas, obtenemos algo ligeramente distinto (¡probarlo!). ¿Quiere eso decir que las probabilidades de sacar un cierto número están fluctuando en el tiempo? ¿O siempre es la misma probabilidad, por más que veamos resultados distintos? \n",
        "* Si repetimos con muchas más tiradas, vamos a ver que el resultado se hace mucho más consistente:"
      ]
    },
    {
      "cell_type": "code",
      "execution_count": 3,
      "metadata": {
        "colab": {
          "base_uri": "https://localhost:8080/",
          "height": 282
        },
        "id": "zzH9oSLnvWyc",
        "outputId": "5ee06cc2-7f8c-404f-9245-796296b41260"
      },
      "outputs": [
        {
          "data": {
            "text/plain": [
              "<BarContainer object of 6 artists>"
            ]
          },
          "execution_count": 3,
          "metadata": {},
          "output_type": "execute_result"
        },
        {
          "data": {
            "image/png": "[encoded data removed]",
            "text/plain": [
              "<Figure size 432x288 with 1 Axes>"
            ]
          },
          "metadata": {
            "needs_background": "light"
          },
          "output_type": "display_data"
        }
      ],
      "source": [
        "n_experimentos = 1000000\n",
        "resultados2 = np.random.randint(1, 7, size=n_experimentos)\n",
        "# Veamos cuántas veces se obtuvo cada cosa con un histograma\n",
        "valores = np.arange(1, 7)\n",
        "conteos = np.bincount(resultados2)[1:] # el primer valor es el # de ceros, lo tiramos\n",
        "plt.bar(valores, conteos)"
      ]
    },
    {
      "cell_type": "markdown",
      "metadata": {
        "id": "OutSC_TjzGvB"
      },
      "source": [
        "Pero para poder leer mejor esto, nos conviene *normalizar* el histograma, es decir dividir las alturas de las barras por el número total de experimentos, para obtener la fracción de veces que se obtuvo un cierto resultado."
      ]
    },
    {
      "cell_type": "code",
      "execution_count": 4,
      "metadata": {
        "colab": {
          "base_uri": "https://localhost:8080/",
          "height": 282
        },
        "id": "Pj8eb9vpzSLw",
        "outputId": "326b57e1-1aea-4296-f35c-d2f530a51b82"
      },
      "outputs": [
        {
          "data": {
            "text/plain": [
              "<BarContainer object of 6 artists>"
            ]
          },
          "execution_count": 4,
          "metadata": {},
          "output_type": "execute_result"
        },
        {
          "data": {
            "image/png": "[encoded data removed]",
            "text/plain": [
              "<Figure size 432x288 with 1 Axes>"
            ]
          },
          "metadata": {
            "needs_background": "light"
          },
          "output_type": "display_data"
        }
      ],
      "source": [
        "fracciones = conteos / n_experimentos\n",
        "plt.bar(valores, fracciones)"
      ]
    },
    {
      "cell_type": "markdown",
      "metadata": {
        "id": "gHfhbSydwSEh"
      },
      "source": [
        "Vemos que las fracciones son todas aproximadamente iguales a $0,16$, que es aproximadamente lo mismo que $1/6 = 0,166666...$.\n",
        "\n",
        "La fracción de ocurrencias está acercándose a un cierto valor que no fluctúa con cada repetición del experimento (o con cada *realización*, que es la palabra que se usa en la jerga probabilística). Vendría bien ponerle nombre a esos números a los que tienden las alturas del histograma normalizado, ¿verdad? Bueno, podemos ponerle... Sí. Probabilidad.\n",
        "\n",
        "La teoría de probabilidades nos sirve para definir de forma abstracta qué es una probabilidad. Puede que al principio no sea claro que la noción abstracta es la misma que estamos viendo acá, pero quédense tranquilos: la teoría termina demostrando matemáticamente que esta noción de probabilidad como \"eso a lo que tiende el histograma\" coincide con la definición abstracta. La teoría demuestra, por ejemplo, que a medida que tomo más y más muestras, el histograma normalizado se va pareciendo cada vez más a la distribución de probabilidad de nuestra variable aleatoria. Esto se relaciona con un teorema importante que mencionaremos más adelante: la Ley de los Grandes Números.\n",
        "\n",
        "Pero me estoy adelantando. Ya usé varias palabras que todavía no vimos: \"distribución de probabilidad\", \"variable aleatoria\"... Vayamos a ver bien qué son esas cosas. Pero no dejen los dados muy lejos que ya les vamos a echar mano de nuevo.\n"
      ]
    },
    {
      "cell_type": "markdown",
      "metadata": {
        "id": "LYFjsEwHgQ63"
      },
      "source": [
        "# Definiciones básicas\n",
        "\n",
        "Matemáticamente, formalizamos el espacio de situaciones posibles como un conjunto, $\\Omega$, que llamamos el *espacio muestral*. Un *evento* no es más que un subconjunto, $E \\subseteq \\Omega$.\n",
        "\n",
        "Veamos esto con el ejemplo de la tirada de un dado. En este caso los posibles estados del \"mundo\", que para nosotros queda recortado al símbolo en la cara superior del dado, es $\\Omega = \\{1, 2, 3, 4, 5, 6\\}$.\n",
        "\n",
        "Un ejemplo de evento muy simple es \"salió un seis\". Matemáticamente, este es el evento $E = \\{6\\}$. Pero también podemos considerar el evento \"el número que salió es impar\". Esto corresponde al subconjunto $V = \\{1, 3, 5\\}$.\n",
        "\n",
        "## Axiomas de una medida de probabilidad\n",
        "\n",
        "Es importante saber que las medidas de probabilidad tienen ciertos axiomas que definen de una forma muy, muy precisa qué es la probabilidad. A veces esos axiomas van a sernos útiles y otras veces van a quedar como un detalle de bajo nivel. En el caso de un espacio muestral *discreto* como el del dado, estos axiomas son los siguientes (el caso continuo es importante pero matemáticamente un poco más involucrado, y lo mencionaremos más adelante).\n",
        "\n",
        "**Definición.** Una *medida de probabilidad* (discreta) es una función $p$ que le asigna a cada evento posible $E$ un número positivo $p(E) > 0$, de forma tal que\n",
        "1. si $E$ y $V$ son eventos disjuntos (como en el ejemplo de recién), $p(E \\cup V) = p(E) + p(V)$.\n",
        "2. $p(\\Omega) = 1$\n",
        "\n",
        "El primer ítem dice que si dos eventos son *incompatibles* (nunca pueden ocurrir a la vez), la probabilidad del evento combinado \"pasó $E$ o pasó $V$\") es la suma de las probabilidades individuales. En el caso en que $\\Omega$ es infinito (pero discreto, en general es el caso $\\Omega = \\mathbb{N}$, los números naturales), la propiedad se extiende a colecciones infinitas de subconjuntos: si $(E_i)_{i = 1,\\dots}$ son infinitos subconjuntos de $\\Omega$, todos disjuntos uno a otro (o sea, son eventos incompatibles), $p(\\bigcup_{i=1}^{\\infty} E_i) = \\sum_{i=1}^{\\infty} p(E_i)$.\n",
        "\n",
        "El segundo ítem dice que las probabilidades suman a uno: siempre alguna de todas las posibilidades tiene que haber ocurrido, y ningún evento puede tener probabilidad mayor a $1$.\n",
        "\n",
        "Puede demostrarse a partir del primer axioma que si $E$ y $V$ no son disjuntos, en general vale la regla\n",
        "\n",
        "$$ p(E \\cup V) = p(E) + p(V) - p(E \\cap V),$$\n",
        "\n",
        "que resulta bastante útil para hacer cuentas.\n",
        "\n",
        "### Volviendo al ejemplo\n",
        "\n",
        "En este caso, partimos de la base de que todos los números ocurren con igual frecuencia. Es importante notar que esta es una hipótesis fáctica sobre el estado material del dado (que es simétrico y no está cargado) y sobre el proceso físico de tirado del dado (por ejemplo, asumimos que quien tira el dado no tiene un control sobrehumano sobre sus músculos que le permite asegurarse de que cierta cara del dado quedará boca arriba).\n",
        "\n",
        "Una vez hecha esta hipótesis, nuestro modelo dice que el número $i$ sale $f_i = 1/6$ de las veces. Los números $f_i$, que son las frecuencias relativas de cada resultado, determinan la medida de probabilidad $p$, pero $p$ le asigna una probabilidad no solo a los eventos $\\{1\\}, \\{2\\}, \\dots \\{6\\}$, sino que le asigna una probabilidad a cada subconjunto de $\\Omega = \\{1, 2, 3, 4, 5, 6\\}$. Lo que ocurre es que todas las demás probabilidades pueden calcularse utilizando el axioma de la suma de probabilidades.\n",
        "\n",
        "Por ejemplo: *¿Cuál es la probabilidad de sacar un número par **o** un número que sea múltiplo de 3?*\n",
        "\n",
        "* $\\Omega = \\{1, 2, 3, 4, 5, 6\\}$, $A = \\text{par}$, $B = \\text{multiplo de 3}$\n",
        "* $ P(A) = \\frac{3}{6} = 0.5$\n",
        "* $ P(B) = \\frac{2}{6} = \\frac{1}{3}$\n",
        "* $ P(A \\cap B) = \\frac{1}{6}$, ya que $ A \\cap B = \\{6\\}$\n",
        "* $\\implies P(A \\cup B) = \\frac{3}{6} + \\frac{2}{6} - \\frac{1}{6} = \\frac{4}{6} = \\frac{2}{3} $\n",
        "\n",
        "Les recomiendo ahora hacer el siguiente ejercicio guiado para cimentar estas ideas.\n",
        "\n",
        "**Ejercicio de lectura activa (1)**:\n",
        "\n",
        "(a) Programando, generar una lista con todos los eventos posibles (subconjuntos de $\\Omega$) y calcular la probabilidad de cada uno de ellos.\n",
        "\n",
        "(b) Elegir tres eventos $E, V, W$ que sean incompatibles (subconjuntos disjuntos) y tales que su unión sea $\\Omega$ (es decir, necesariamente alguno de los tres ocurre, pero si ocurre uno, no puede haber ocurrido ninguno de los otros dos). Verificar que entonces $p(E \\cup V \\cup W) = p(E) + p(V) + p(W) = 1$.\n",
        "\n",
        "(c) En un cierto juego de mesa, se tira un dado y según el resultado, ciertos jugadores ganan y ciertos jugadores pierden. Necesito que salga un $5$ o un $6$ para ganar, mientras que a mi amigo, el [Caballero de Méré](http://materias.df.uba.ar/estadisticaa2019v/files/2019/02/El_caballero_de_Mere.pdf)\\* le alcanza para ganar que salga cualquier cosa menos un $1$. Llamemos $G$ al evento \"yo gané\", y $M$ al evento \"el Caballero ganó\". Calcular $p(G \\cup M)$ y $p(G) + p(M)$. ¿Cuál de los dos números corresponde a la probabilidad de que alguno de los dos amigos gane, y por qué?\n",
        "\n",
        "***\n",
        "\\* Nota al pie: en el link encontrarán un interesante artículo en español sobre los orígenes de la teoría de probabilidades, que pueden chusmear en su tiempo libre luego de estudiar esta clase. Como verán, no es casualidad que usemos juegos de azar para ejemplificar las estas ideas... Estos juegos fueron la motivación misma detrás del desarrollo de la teoría en el Siglo XVII."
      ]
    },
    {
      "cell_type": "code",
      "execution_count": 5,
      "metadata": {
        "id": "bGTpBjTDK8-P"
      },
      "outputs": [],
      "source": [
        "# Ejercicio 1.a\n",
        "\n",
        "def calcular_eventos(omega):\n",
        "  lista_de_eventos = []\n",
        "  # resolver acá el ejercicio...\n",
        "  return lista_de_eventos\n",
        "\n",
        "def calcular_probabilidades(lista_de_eventos, f_i = 1/6):\n",
        "  lista_de_probabilidades = []\n",
        "  # resolver acá el ejercicio...\n",
        "  return lista_de_probabilidades"
      ]
    },
    {
      "cell_type": "code",
      "execution_count": 6,
      "metadata": {
        "id": "UPETY_nPTA60"
      },
      "outputs": [],
      "source": [
        "# Ejercicio 1.b\n",
        "\n",
        "## Contestar la pregunta aquí"
      ]
    },
    {
      "cell_type": "code",
      "execution_count": 7,
      "metadata": {
        "id": "w90FXDvwTMbE"
      },
      "outputs": [],
      "source": [
        "# Ejercicio 1.c\n",
        "\n",
        "## Contestar la pregunta aquí"
      ]
    },
    {
      "cell_type": "markdown",
      "metadata": {
        "id": "4F6VoUYQK7rK"
      },
      "source": [
        "# Ejemplos e Introducción a Monte Carlo\n",
        "\n",
        "Consideremos otros ejemplos de espacio muestral. En el camino, aprenderemos un método fundamental para estudiar distribuciones de probabilidad, para generarlas pero también para entenderlas y pensarlas: la simulación de Monte Carlo.\n",
        "\n",
        "## Bitmaps\n",
        "\n",
        "Consideremos un bitmap de $N \\times N$: una matriz que contiene un $0$ o un $1$ representando píxels blancos y negros. Definamos nuestro espacio muestral como el conjunto de todos los bitmaps: $\\Omega = \\{\\text{bitmaps}\\} = \\{M \\in \\{0, 1\\}^{N \\times N}\\}$. Para ser más concretos digamos que $N=10$, y consideramos el evento $E$ definido como \"la imagen contiene una cara\" (o, para ser más precisos, \"la imagen es tal que una mayoría abrumadora de seres humanos afirmaría ver una cara allí\")."
      ]
    },
    {
      "cell_type": "code",
      "execution_count": 8,
      "metadata": {
        "colab": {
          "base_uri": "https://localhost:8080/",
          "height": 117
        },
        "id": "Erbnk-6NVro_",
        "outputId": "27ef18f2-5c23-4cb5-edfc-6dc8893d2f30"
      },
      "outputs": [
        {
          "data": {
            "image/png": "[encoded data removed]",
            "text/plain": [
              "<PIL.Image.Image image mode=RGB size=100x100 at 0x7F31ECD2A380>"
            ]
          },
          "metadata": {},
          "output_type": "display_data"
        }
      ],
      "source": [
        "# Un bitmap de ejemplo.\n",
        "\n",
        "from PIL import Image\n",
        "\n",
        "n = (0,0,0) # negro\n",
        "b = (255,255,255) # blanco\n",
        "\n",
        "bitmap = [[n,n,n,n,b,b,n,n,n,n],\n",
        " [n,n,b,b,b,b,b,b,n,n],\n",
        " [n,b,b,b,b,b,b,b,b,n],\n",
        " [n,b,b,n,b,b,n,b,b,n],\n",
        " [b,b,b,b,b,b,b,b,b,b],\n",
        " [b,b,n,b,b,b,b,n,b,b],\n",
        " [n,b,b,n,n,n,n,b,b,n],\n",
        " [n,b,b,b,b,b,b,b,b,n],\n",
        " [n,n,b,b,b,b,b,b,n,n],\n",
        " [n,n,n,n,b,b,n,n,n,n]]\n",
        "\n",
        "cara = Image.new(\"RGB\", (10,10))\n",
        "width, height = cara.size\n",
        "\n",
        "for row in range(height):\n",
        "  for col in range(width):\n",
        "    cara.putpixel((col, row), bitmap[row][col])\n",
        "\n",
        "cara = cara.resize((100,100))\n",
        "display(cara)"
      ]
    },
    {
      "cell_type": "markdown",
      "metadata": {
        "id": "nsmn2PufXY9R"
      },
      "source": [
        "Si suponemos que cada píxel tiene una probabilidad $p = 0.5$ de ser blanco y una probabilidad $0.5$ de ser negro, ¿Cuál es la probabilidad $p(E)$ de que la imagen contenga una cara?"
      ]
    },
    {
      "cell_type": "code",
      "execution_count": 9,
      "metadata": {
        "colab": {
          "base_uri": "https://localhost:8080/",
          "height": 317
        },
        "id": "qkXcopLyXnrj",
        "outputId": "b9054ac1-9f06-47c7-c5a1-371085c54295"
      },
      "outputs": [
        {
          "data": {
            "image/png": "[encoded data removed]",
            "text/plain": [
              "<PIL.Image.Image image mode=RGB size=100x100 at 0x7F31EDE7CD30>"
            ]
          },
          "metadata": {},
          "output_type": "display_data"
        },
        {
          "data": {
            "image/png": "[encoded data removed]",
            "text/plain": [
              "<PIL.Image.Image image mode=RGB size=100x100 at 0x7F3200825A20>"
            ]
          },
          "metadata": {},
          "output_type": "display_data"
        },
        {
          "data": {
            "image/png": "[encoded data removed]",
            "text/plain": [
              "<PIL.Image.Image image mode=RGB size=100x100 at 0x7F31ECD2B580>"
            ]
          },
          "metadata": {},
          "output_type": "display_data"
        }
      ],
      "source": [
        "def generar_bitmap_aleatorio():\n",
        "  N = 10\n",
        "  otro_bitmap = [[n]*10]*10 # genero bitmap lleno de píxels negros\n",
        "\n",
        "  imagen = Image.new(\"RGB\", (10,10))\n",
        "  width, height = imagen.size\n",
        "\n",
        "  for row in range(height):\n",
        "    for col in range(width):\n",
        "      # pongo unos de forma aleatoria\n",
        "      otro_bitmap[row][col] = b if np.random.rand() > 0.5 else n\n",
        "      imagen.putpixel((col, row), otro_bitmap[row][col])\n",
        "\n",
        "  imagen = imagen.resize((100,100))\n",
        "  display(imagen)\n",
        "  return bitmap, imagen\n",
        "\n",
        "_ = generar_bitmap_aleatorio()\n",
        "_ = generar_bitmap_aleatorio()\n",
        "_ = generar_bitmap_aleatorio()\n",
        "# ¿Contienen estas imágenes una cara?"
      ]
    },
    {
      "cell_type": "markdown",
      "metadata": {
        "id": "4lCDM82RXpE-"
      },
      "source": [
        "Como se imaginarán, esta pregunta no se puede responder así sin más (además la respuesta va a ser que la probabilidad es *muy baja*). Una estrategia posible es generar bitmaps aleatorios y preguntarle a muchas personas si ven o no ven caras en las imágenes. Otra sería entrenar un modelo de Machine Learning para reconocer caras en bitmaps, y luego usarlo sobre un montón de imágenes generadas aleatoriamente. Lo importante ahora es reconocer que **los posibles inputs a un problema de clasificación también constituyen un ejemplo de espacio muestral**."
      ]
    },
    {
      "cell_type": "markdown",
      "metadata": {
        "id": "putqp4wBhz8R"
      },
      "source": [
        "## Juguemos al Colonos\n",
        "\n",
        "Quienes hayan jugado alguna vez a [cierto juego de mesa famoso](https://www.youtube.com/watch?v=eEq-0inAWzk) (y altamente recomendable), sabrán por experiencia que cuando tiramos dos dados y sumamos los dos números observados, algunos resultados son mucho más frecuentes (es decir, probables) que otros. También sabrán quizá que el número más probable es el $7$. Este hecho de la naturaleza, por más trágico que sea cada vez que tenemos demasiadas cartas en la mano, tiene bastante sentido intuitivamente: el $7$ es el número que se obtiene de más formas distintas como combinación de dos números entre $1$ y $6$ (es $1+6$, pero también es $2+5$, pero también es $3+4$...)\n",
        "\n",
        "¿Cuál es la probabilidad exacta de que salga un $7$? Y ¿Cuál es la probabilidad de que salga $x$ para cada valor posible de $x$ entre $2$ y $12$ (que son todos los valores posibles para la suma de dos dados)?\n",
        "\n",
        "Vamos a responder esta pregunta de dos maneras, una difícil y otra fácil. La difícil, o a mano, nos sirve para ejercitar el concepto de espacio muestral, y la fácil nos introduce al importante mundo de las simulaciones Montecarlo. (En verdad no estoy seguro de si una es realmente más fácil que la otra, cada uno tendrá su propia apreciación al respecto)."
      ]
    },
    {
      "cell_type": "markdown",
      "metadata": {
        "id": "B0jHuUHrKAxW"
      },
      "source": [
        "### Respuesta a mano\n",
        "\n",
        "Ahora nuestro espacio muestral consiste en los pares $(i, j)$ con $i, j \\in \\{1, 2, 3, 4, 5, 6\\}$. Matemáticamente podemos escribir $\\Omega = \\{(i, j) : i, j \\in \\{1, 2, 3, 4, 5, 6\\}\\}$ o lo que es lo mismo, $\\Omega = \\{1, 2, 3, 4, 5, 6\\} \\times \\{1, 2, 3, 4, 5, 6\\}$. Lo que tenemos que hacer es identificar cómo se traduce matemáticamente el evento que nos interesa, y luego calcular su probabilidad. En nuestro caso, todos los elementos de $\\Omega$ tienen la misma probabilidad $1/N$, donde $N$ es la cantidad de elementos del espacio muestral (recordar que \"elemento del espacio muestral\" no es lo mismo que \"evento\"; los eventos pueden ser cosas más generales que tan solo un elemento de $\\Omega$).\n",
        "\n",
        "Lo que sigue es hacer un poco de cuentas muy sencillas, pero son ustedes quienes tienen que hacerlas. Después de intentarlo por su cuenta, pueden mirar las respuestas más abajo. ¡Confío en ustedes!\n",
        "\n",
        "**Ejercicio de lectura activa (2)**:\n",
        "\n",
        "(a) ¿Cuál es el número $N$ de elementos que tiene nuestro nuevo espacio muestral? A partir de esto, concluir cuál es la probabilidad de que salga algún par $(i, j)$ particular (va a ser $1 / N$, porque asumimos que los dados no están cargados).\n",
        "\n",
        "(b) ¿Cómo se escribe el conjunto $E \\subseteq \\Omega$ correspondiente al evento \"salió un $7$\"?\n",
        "\n",
        "(c) ¿Cuál es la probabilidad de dicho evento?\n"
      ]
    },
    {
      "cell_type": "code",
      "execution_count": 10,
      "metadata": {
        "id": "8TKq20BPdkP7"
      },
      "outputs": [],
      "source": [
        "# Responder aquí\n",
        "\n",
        "\n",
        "\n"
      ]
    },
    {
      "cell_type": "markdown",
      "metadata": {
        "id": "raggoxBedoYb"
      },
      "source": [
        "\n",
        "<details>\n",
        "<summary>(Cuando estén listos, pueden ver las respuestas haciendo click acá.)</summary>\n",
        "Respuestas:\n",
        "\n",
        "(a) son $6 \\times 6 = 36$ elementos. Luego la probabilidad de cada elemento es $1/36$.\n",
        "\n",
        "(b) Las formas en que puede salir un $7$ son los elementos\n",
        "\n",
        "$$E = \\{(1, 6), (2, 5), (3, 4), (4, 3), (5, 2), (6, 1)\\},$$\n",
        "\n",
        "(c) $E$ tiene $6$ elementos, y todos tienen probabilidad $1/36$. Por lo tanto la probabilidad de obtener un $7$ es $6/36 = 1/6$.\n",
        "</details>"
      ]
    },
    {
      "cell_type": "markdown",
      "metadata": {
        "id": "ZFj50pslexzK"
      },
      "source": [
        "### Respuesta mediante simulación Monte Carlo\n",
        "\n",
        "Una persona más amiga del generador de números aleatorios podría preguntarse: \"¿Para qué hacer todas estas cuentas a mano? Si puedo generar un número aleatorio entre $1$ y $6$ con `np.random.randint`, como hicimos hace un rato, también puedo generar dos números y sumarlos. Haciendo muchas veces lo mismo y armándome un histograma (normalizado), puedo conocer no solo la probabilidad de obtener un $7$, sino las probabilidades de obtener todas las sumas posibles.\"\n",
        "\n",
        "Esta dichosa persona habrá descubierto la esencia del *método de Monte Carlo*. Sigamos, pues, sus sabias instrucciones."
      ]
    },
    {
      "cell_type": "code",
      "execution_count": 11,
      "metadata": {
        "colab": {
          "base_uri": "https://localhost:8080/",
          "height": 456
        },
        "id": "GBM6sxAJqjKH",
        "outputId": "82879a25-b0ff-481d-e4d6-9b780e101f22"
      },
      "outputs": [
        {
          "name": "stdout",
          "output_type": "stream",
          "text": [
            "p(2) = 0.027987\n",
            "p(3) = 0.055636\n",
            "p(4) = 0.083122\n",
            "p(5) = 0.111088\n",
            "p(6) = 0.138981\n",
            "p(7) = 0.166625\n",
            "p(8) = 0.139043\n",
            "p(9) = 0.110545\n",
            "p(10) = 0.083745\n",
            "p(11) = 0.055562\n",
            "p(12) = 0.027666\n"
          ]
        },
        {
          "data": {
            "image/png": "[encoded data removed]",
            "text/plain": [
              "<Figure size 432x288 with 1 Axes>"
            ]
          },
          "metadata": {
            "needs_background": "light"
          },
          "output_type": "display_data"
        }
      ],
      "source": [
        "\n",
        "# Hagamos una \"simulación de Monte Carlo\" para obtener la probabilidad de que\n",
        "# dos dados sumen un cierto valor.\n",
        "n_experimentos = 1000000\n",
        "# Ahora cada experimento nos da dos números, uno por cada dado\n",
        "resultados = np.random.randint(1, 7, size=(n_experimentos, 2))\n",
        "sumas = np.sum(resultados, axis=1)\n",
        "# Veamos cuántas veces se obtuvo cada cosa con un histograma\n",
        "valores_posibles = np.arange(2, 13)\n",
        "conteos = np.bincount(sumas)[2:] # tiramos los primeros dos, que siempre son 0\n",
        "fracciones = conteos / n_experimentos\n",
        "plt.bar(valores_posibles, fracciones)\n",
        "for i in range(11):\n",
        "  print(\"p({}) = {}\".format(valores_posibles[i], fracciones[i]))"
      ]
    },
    {
      "cell_type": "markdown",
      "metadata": {
        "id": "W7goPueEqjto"
      },
      "source": [
        "No solo obtenemos (aproximadamente) el mismo resultado $p(7) = 0.166...$ para el $7$ sino que \"por el mismo precio\" obtenemos las probabilidades para todas los resultados posibles. Está bueno, ¿Verdad?\n",
        "\n",
        "***"
      ]
    },
    {
      "cell_type": "markdown",
      "metadata": {
        "id": "9zgh0Jpszt3m"
      },
      "source": [
        "\n",
        "# Variables Aleatorias\n",
        "\n",
        "¿Qué es esta *cosa* que adopta valores entre $2$ y $12$, valores que fluctúan entre una y otra realización del experimento y que aparecen con frecuencias relativas $0.028$, $0.056$, etcétera?\n",
        "\n",
        "El conformista dirá:\n",
        "\n",
        "> \"Pues no es más que una colección de distintos eventos, es decir subconjuntos de $\\Omega$,\n",
        "\n",
        "$$E_2 = \\{(1, 1)\\}, \\\\ E_3 = \\{(1, 2), (2, 1)\\}, \\\\ E_4 = \\{(1, 3), (2, 2), (3, 1)\\}, \\\\ \\dots \\\\ E_{12} = \\{(6, 6)\\}.$$\n",
        "\n",
        "> Por ejemplo, cuando nos preguntamos si la suma de los dados dio $2$, nos estamos preguntando por el evento $E_2$. No hay nada nuevo bajo el sol.\"\n",
        "\n",
        "Pero una persona más soñadora se atreverá a pensar que algo mejor que esto es posible. Quizá diga:\n",
        "\n",
        "> \"La función $X: \\Omega \\to \\{2, 3, \\dots , 12\\}$, definida por\n",
        "\n",
        "$$ X(i, j) = i + j $$\n",
        "\n",
        "> le asigna a cada situación del mundo $\\omega \\in \\Omega$ un cierto número $X(\\omega)$, y lo único que me importa es ese número, y no la situación $\\omega$ en sí misma\" [que en nuestro caso es una tupla de dos números $(i, j)$].\n",
        "\n",
        "> \"$X$ vendría a ser una variable, de hecho es algo que yo puedo ir y medir una vez que se obtiene una realización del experimento. Pero es una variable que fluctúa: no siempre adopta el mismo valor, porque no siempre se realiza el mismo $\\omega$.\"\n",
        "\n",
        "Nuestra soñadora habrá descubierto las variables aleatorias.\n",
        "\n",
        "**Definición**. Una *variable aleatoria* (o \"v.a.\") $X$ es una función $X: \\Omega \\to S$ del espacio muestral a otro conjunto $S$, en general numérico, como los naturales $\\mathbb{N}$, los enteros $\\mathbb{Z}$ o los reales $\\mathbb{R}$.\n",
        "\n",
        "Puede parecer raro a simple vista que una *variable* sea una *función*, pero es bastante natural si pensamos que \"lo que genera el mundo\" (o lo que genera nuestro modelo del mundo) es un $\\omega \\in \\Omega$, y una vez generado y fijado ese $\\omega$, todas las variables quedan fijadas de forma determinística. En cierto sentido, $\\omega$ \"encapsula\" toda la aleatoriedad de nuestro modelo. Por ejemplo, cuando codeamos un modelo, muchas veces generamos números aleatorios en una única línea, y después tan solo realizamos operaciones determinísticas con esos números aleatorios de partida. La definición matemática de una variable aleatoria captura esta idea: esos números aleatorios que generamos en la primera línea vienen a ser nuestro $\\omega$, y la función $X(\\omega)$ corresponde a lo que hacemos después con ellos.\n",
        "\n",
        "Más arriba, nuestro personaje poco imaginativo nos señaló algo importante (rescatémosle algo positivo): para calcular la probabilidad que nuestra variable aleatoria $X(\\omega) = X(i, j) = i + j$ adopte un cierto valor $X = r$, tenemos que mirar todos los $\\omega = (i,j) \\in \\Omega$ tales que $X(\\omega) = r$. Es decir, **$X = r$ también es una forma de describir un evento**. En nuestro caso, $X = 2$ es el evento $E_2$, $X = 3$ es el evento $E_3$, y así sucesivamente. ¿Y $X = 37$? Bueno, no hay ninguna tirada que sume $37$, así que esto corresponde al evento vacío, $\\emptyset$, que siempre tiene probabilidad $0$.\n",
        "\n",
        "En todos estos casos, se tiene que $E_r$ es el conjunto de todos los $\\omega$ tales que $X(\\omega) = r$. Matemáticamente esto se denomina el *conjunto preimagen* de $r$, y se escribe $X^{-1}(r)$. Más aún, la probabilidad de obtener $X = r$ es igual a la probabilidad que asigna nuestra medida $p$ a ese conjunto $E_r$.\n",
        "\n",
        "Esto nos sugiere cuál es la definición general para cualquier variable aleatoria.\n",
        "\n",
        "**Definición**. Dado un espacio muestral $\\Omega$, una medida de probabilidad $p$ y una variable aleatoria $X: \\Omega \\to S$, la \"probabilidad de que $X = r$\" se define como\n",
        "\n",
        "$$\\text{Pr}(X = r) = p(X^{-1}(r))$$"
      ]
    },
    {
      "cell_type": "markdown",
      "metadata": {
        "id": "CnhJ6kqvKLqX"
      },
      "source": [
        "## ¿Jugamos al Backgammon?\n",
        "\n",
        "En el Backgammon, en vez de sumarse los dos números obtenidos, el jugador puede utilizar cada dado por separado para mover una de sus fichas. Puede elegir usar los dados en el orden que quiera, y para usar un dado, elige una ficha y la mueve tantos casilleros como indica el dado.\n",
        "\n",
        "Partamos del mismo espacio muestral que recién:\n",
        "\n",
        "$$\\Omega = \\{(i, j) : i, j \\in \\{1, 2, 3, 4, 5, 6\\}\\}$$\n",
        "\n",
        "Les propongo intentar responder una pregunta por su cuenta. Piénsenlo un ratito, y después vean la respuesta que propongo.\n",
        "\n",
        "**Ejercicio de lectura activa (3)**: ¿Cuál es la probabilidad de sacar un $3$ y un $4$, y cuál es la probabilidad de sacar dos $4$? ¿Son la misma o son distintas?"
      ]
    },
    {
      "cell_type": "code",
      "execution_count": 12,
      "metadata": {
        "id": "yku882cN3v-E"
      },
      "outputs": [],
      "source": [
        "# Responder aquí\n",
        "\n",
        "\n",
        "\n",
        "\n",
        "# Listo? Ahora pueden hacer click más abajo."
      ]
    },
    {
      "cell_type": "markdown",
      "metadata": {
        "id": "ej_p25xbqjqd"
      },
      "source": [
        "\n",
        "<details>\n",
        "<summary>(Cuando estén listos, pueden ver la respuesta haciendo click acá.)</summary>\n",
        "La pregunta puede parecer extraña o tramposa. En verdad, la respuesta depende de qué quiere decir \"sacar un $i$ y un $j$\", y para saber qué quiere decir en este caso, debemos remitirnos a las reglas del Backgammon. En el Backgammon, las situaciones $\\omega = (i, j)$ y $\\omega = (j, i)$ son totalmente indistinguibles para el jugador. Los dados no están ordenados, y pueden usarse en el orden que el jugador desee. Entonces el evento \"sacar un $3$ y un $4$ se formaliza como $E = \\{(3, 4), (4, 3)\\}$, luego tiene probabilidad $2/36 = 0.5555\\dots$, mientras que el evento \"sacar dos $4$\" se formaliza como $V = \\{4, 4\\}$, luego tiene probabilidad $1/36 = 0.1666\\dots$. La diferencia está en que hay solo una manera de sacar dos cuatros, mientras que hay dos formas distintas de sacar un cuatro y un tres.\n",
        "</details>\n",
        "\n",
        "***\n",
        "\n",
        "¿Ya pensaron y leyeron la respuesta? En ese caso, seguimos.\n",
        "\n",
        "***\n",
        "\n",
        "Si quieren podemos formalizar esto como una variable aleatoria. Podemos decir que en nuestro caso $X$ toma un par ordenado $(i, j)$ y devuelve no un número, sino otro par, pero en este caso *no ordenado*. Podemos por ejemplo usar la estructura de datos `set()` de Python. Si nuestro $\\omega$ es una variable de Python `omega = np.random.randint(1, 7, size=2)`, entonces el valor de nuestra variable aleatoria $X(\\omega)$ será implementado por la línea de código `X = set(omega)`.\n",
        "\n",
        "También pueden chequear haciendo una simulación como la que hicimos para la suma que en efecto `set([3, 4])` ocurre con mayor frecuencia que `set([4, 4])`, por más que el valor `[3, 4]` y el valor `[4, 4]` sean asignados a `omega` con la misma frecuencia.\n",
        "***"
      ]
    },
    {
      "cell_type": "markdown",
      "metadata": {
        "id": "xADCVJMsF5bo"
      },
      "source": [
        "# Distribuciones de probabilidad\n",
        "\n",
        "Cada variable aleatoria tiene asociada una *distribución de probabilidad*: una función, llamémosla $f_X$, que a cada valor posible de $X$ le asigna una probabilidad:\n",
        "\n",
        "$$ f_X(r) = p(X^{-1}(r)) = \\text{Pr}(X = r)$$\n",
        "\n",
        "Esto puede parecer innecesario, dado que solo estamos introduciendo una nueva notación para lo mismo, pero en realidad resulta muy útil poder hablar de distribuciones de probabilidad. Además en el caso continuo (que todavía no vimos) se vuelven casi indispensables, y se definen de una manera un poco diferente. \n",
        "\n",
        "De hecho, no hace falta *primero* introducir una variable aleatoria explícita y luego *obtener* su distribución de probabilidad. En la práctica hablamos de las distribuciones de probabilidad como objetos en sí mismos, a los cuales les podemos asociar una variable aleatoria que las represente. Así, una distribución de probabilidad $f$ sobre el conjunto $S$ (por ejemplo $S = \\mathbb{N}$) no es más que una función $f: S \\to \\mathbb{R}$ tal que $f(x) \\geq 0$ y además\n",
        "\n",
        "$$ \\sum_{x \\in S} f(x) = 1,$$\n",
        "\n",
        "es decir que *está normalizada*.\n",
        "\n",
        "Cuando una variable aleatoria $X$ tiene distribución $f$, escribimos \"$X \\sim f$\" y decimos que $X$ está *distribuida* de acuerdo a $f$.\n",
        "\n",
        "Veamos esto con unos ejemplos.\n",
        "\n",
        "* La distribución de probabilidad *de Bernoulli* con parámetro $p$, $\\text{Bernoulli}_p$, corresponde al experimento de tirar una moneda cargada, con probabilidad $p$ de salir cara (1) y probabilidad $1-p$ de salir ceca (0). Es decir que si $X \\sim \\text{Bernoulli}_p$, se tiene $\\text{Pr}(X = 1) = p$ y $\\text{Pr}(X = 0) = 1-p$.\n",
        "* La *distribución uniforme discreta* $U(1, \\dots 6)$ sobre el conjunto $\\{1, 2, 3, 4, 5, 6\\}$ nos sirve para representar el experimento de tirar un dado (no cargado) de seis caras. En este caso, se le asigna probabilidad $1/6$ a cada posibilidad (es lo que llamamos `randint` en Python). También la podemos pensar como una distribución sobre todos los números naturales, $f: \\mathbb{N} \\to \\mathbb{R}$, pero que le asigna probabilidad cero a todos los números que no están entre $1$ y $6$.\n",
        "\n",
        "Acá podemos ver una de las utilidades de las distribuciones de probabilidad. En nuestro ejemplo de los dos dados, podríamos decir que cada dado *es* una variable aleatoria, pero los dos dados tienen la misma distribución. Se dice que están *idénticamente distribuidos*, y más aún, *independientes e idénticamente distribuidos* (o \"i.i.d.\") porque la tirada de un dado no afecta los resultados del otro dado (esta noción de independencia la vamos a formalizar dentro de un par de secciones). Como ven, nunca es mal momento para introducir más jerga.\n",
        "\n",
        "Con nuestro nuevo lenguaje, podríamos haber comenzado la formalización del experimento \"tirar dos dados\" así:\n",
        "\n",
        "> Sean $X_1, X_2 \\sim U(1,\\dots 6)$ variables aleatorias independientes e idénticamente distribuidas...\n",
        "\n",
        "Y cuando queríamos hablar de la suma de los dos dados, podríamos haber seguido así:\n",
        "\n",
        "> Sea $Y = X_1 + X_2$, entonces...\n",
        "\n",
        "**Ejercicio de lectura activa (4)**: ¿Cuál es la distribución de probabilidad de la variable aleatoria $Y$ que acabamos de definir? ¿Qué pinta tiene cuando la graficamos?\n"
      ]
    },
    {
      "cell_type": "code",
      "execution_count": 13,
      "metadata": {
        "id": "vdAiK7SzDsAe"
      },
      "outputs": [],
      "source": [
        "# Responder aquí\n",
        "\n",
        "\n"
      ]
    },
    {
      "cell_type": "markdown",
      "metadata": {
        "id": "VjrpFAgMEFGY"
      },
      "source": [
        "## Más distribuciones de probabilidad\n",
        "\n",
        "Hay docenas de distribuciones de probabilidad que se suelen usar en aplicaciones de probabilidades y estadística. Una muy importante por ejemplo es la [distribución binomial](https://es.wikipedia.org/wiki/Distribuci%C3%B3n_binomial), $\\text{Binom}(n, p)$, que tiene dos parámetros $n$ y $p$. Intuitivamente, si $X \\sim \\text{Binom}(n, p)$, $X$ es el número de veces que una moneda con distribución $\\text{Bernoulli}_p$ sale cara, cuando la tiramos $n$ veces. Como se imaginarán esto es muy útil dado que no aplica solo a tiradas de monedas, sino que aplica a cualquier experimento binario, en el cual solo hay dos resultados posibles, que se repita múltiples veces.\n",
        "\n",
        "Para poder testear esta y otras distribuciones, es muy útil familiarizarse con la librería `scipy.stats`. En ella encontrarán implementaciones de muchísimas distribuciones, que nos permiten entre otras cosas consultar las probabilidades que asignan a distintos resultados, pero también generar números aleatorios a partir de esas distribuciones, lo que se denomina *samplear* o *muestrear* esa distribución. Veamos el caso de la binomial.\n",
        "\n",
        "Nota 1: a las distribuciones de probabilidad discretas, que son las que estamos viendo por ahora, también se las denomina *probability mass functions* o \"PMF\", en contraposición con las distribuciones continuas, a las que se les dice *densidades* de probabilidad, *probability density functions* o \"PDF\".\n",
        "\n",
        "Nota 2: Las distribuciones de probabilidad más importantes suelen tener una fórmula explícita que nos permite calcular a mano o con una calculadora su valor para cada posible input. Si quieren pueden mirar las fórmulas en los links de Wikipedia, aunque para nosotros eso no es relevante ya que Python puede realizar las cuentas por nosotros.\n",
        "\n",
        "Nota 3: En los ejercicios de la clase pueden explorar la [distribución de Poisson](https://es.wikipedia.org/wiki/Distribuci%C3%B3n_de_Poisson) y jugar a inventar sus propias distribuciones de probabilidad visualizándolas mediante simulaciones Monte Carlo."
      ]
    },
    {
      "cell_type": "code",
      "execution_count": 14,
      "metadata": {
        "colab": {
          "base_uri": "https://localhost:8080/",
          "height": 266
        },
        "id": "Da2cu6joIIYt",
        "outputId": "b3b8bce1-50c2-43b3-f8e2-627c3bf6137d"
      },
      "outputs": [
        {
          "data": {
            "image/png": "[encoded data removed]",
            "text/plain": [
              "<Figure size 432x288 with 1 Axes>"
            ]
          },
          "metadata": {
            "needs_background": "light"
          },
          "output_type": "display_data"
        }
      ],
      "source": [
        "# Grafiquemos binomiales con distintos valores de los parámetros\n",
        "# Para esto usamos el método pmf del objeto que representa la distribución\n",
        "def graficar_binom(n, p, **kwargs):\n",
        "  xs = np.arange(0, n+1)\n",
        "  binomial = st.binom(n, p)\n",
        "  ys = binomial.pmf(xs)\n",
        "  plt.bar(xs, ys, **kwargs)\n",
        "\n",
        "graficar_binom(10, 0.4)\n",
        "graficar_binom(10, 0.9)\n",
        "graficar_binom(20, 0.9)"
      ]
    },
    {
      "cell_type": "code",
      "execution_count": 15,
      "metadata": {
        "colab": {
          "base_uri": "https://localhost:8080/",
          "height": 1000
        },
        "id": "KC9fpVnfN3xs",
        "outputId": "504b9493-9da0-4fce-b93f-4fbb3f3962b6"
      },
      "outputs": [
        {
          "data": {
            "image/png": "[encoded data removed]",
            "text/plain": [
              "<Figure size 432x288 with 1 Axes>"
            ]
          },
          "metadata": {
            "needs_background": "light"
          },
          "output_type": "display_data"
        },
        {
          "data": {
            "image/png": "[encoded data removed]",
            "text/plain": [
              "<Figure size 432x288 with 1 Axes>"
            ]
          },
          "metadata": {
            "needs_background": "light"
          },
          "output_type": "display_data"
        },
        {
          "data": {
            "image/png": "[encoded data removed]",
            "text/plain": [
              "<Figure size 432x288 with 1 Axes>"
            ]
          },
          "metadata": {
            "needs_background": "light"
          },
          "output_type": "display_data"
        },
        {
          "data": {
            "image/png": "[encoded data removed]",
            "text/plain": [
              "<Figure size 432x288 with 1 Axes>"
            ]
          },
          "metadata": {
            "needs_background": "light"
          },
          "output_type": "display_data"
        }
      ],
      "source": [
        "# Ahora sampleemos la distribución con una elección de los parámetros\n",
        "# y armemos el histograma (normalizado). Nos debería dar parecido\n",
        "# al gráfico teórico\n",
        "\n",
        "def samplear_binom(n, p, n_samples):\n",
        "  binomial = st.binom(n, p)\n",
        "  samples = binomial.rvs(size=n_samples)\n",
        "  return samples\n",
        "\n",
        "def realizar_histograma(muestras, normalizado=True, **kwargs):\n",
        "  valores_posibles = np.arange(0, max(muestras) + 1)\n",
        "  conteos = np.bincount(muestras, minlength = len(valores_posibles))\n",
        "  if normalizado:\n",
        "    conteos = conteos / len(muestras)\n",
        "  plt.bar(valores_posibles, conteos, **kwargs)\n",
        "\n",
        "# Veamos cómo el histograma se va pareciendo más a la distribución teórica\n",
        "# a medida que aumenta el número de muestras\n",
        "\n",
        "for n_samples in [10, 100, 500, 10000]:\n",
        "  muestras = samplear_binom(10, 0.4, n_samples)\n",
        "  plt.figure()\n",
        "  realizar_histograma(muestras)\n",
        "  graficar_binom(10, 0.4, color='orange', alpha=0.5)"
      ]
    },
    {
      "cell_type": "markdown",
      "metadata": {
        "id": "0R0hvlNMFksr"
      },
      "source": [
        "# Probabilidad condicional\n",
        "\n",
        "Hasta ahora pudimos formalizar situaciones del mundo real en las cuales distintos eventos de interés no *dependen* unos de otros. Por ejemplo, al tirar dos dados, *conocer* el valor que adopta uno de los dos no cambia nuestras predicciones sobre el valor del otro. Son fenómenos descorrelacionados, o más precisamente hablando, son variables aleatorias independientes.\n",
        "\n",
        "Pero es muy fácil comenzar a hacernos preguntas que exceden las herramientas que desarrollamos hasta ahora. Por ejemplo, supongamos que tiro dos dados A y B ($X_A, X_B \\sim U(1,\\dots,6)$) y escondo el resultado, pero les digo que la suma ($Y = X_A + X_B$) de los dos números es $8$. ¿Cuál debería ser su predicción sobre la probabilidad de que para el dado A haya salido un $2$? ¿Y si les digo que la suma dio $9$? Algo es seguro: la predicción tiene que cambiar de alguna manera según la información que les doy, ya que si la suma es $9$, es absolutamente imposible que el dado A sea un $2$ (habría que sumarle $7$), mientras que si es $8$ sí hay alguna posibilidad, pero quizá menor que si la suma fuera $7$.\n",
        "\n",
        "Para responder estas preguntas debemos introducir la noción de **probabilidad condicional**, tanto para eventos como para variables aleatorias.\n",
        "\n",
        "**Definición.** Sea $\\Omega$ un espacio muestral, $p$ una medida de probabilidad sobre $\\Omega$, y sea $E \\subseteq \\Omega$ un evento con probabilidad no nula ($p(E) \\neq 0$). La *probabilidad condicional dado $E$* es una nueva medida de probabilidad $p(-|E)$ definida según\n",
        "\n",
        "$$ p(V|E) = \\frac{p(E \\cap V)}{p(E)}. $$\n",
        "\n",
        "Noten que hay que pedir que $p(E) \\neq 0$ para que esta fórmula tenga sentido.\n",
        "\n",
        "Veamos por qué tiene sentido esta fórmula con el ejemplo de los dados. La idea es esta: dado que pasó $E$ (la suma de los dados es $8$), quiero saber la probabilidad de $V$ (el dado A es un $2$). Para eso, tengo que mirar todas las situaciones posibles (todos los $\\omega \\in \\Omega$) en las que haya pasado $E$. En nuestro caso, esas situaciones son $(2, 6), (3, 5), (4, 4), (5, 3)$ y $(6, 2)$. Ahora, *de esas* situaciones, miro aquellas en las que *además* pasó $V$. Esto corresponde a tomar la intersección $E \\cap V$. En nuestro caso, hay una única situación y es $\\omega = (2, 6)$. Ahora tenemos que preguntarnos por la probabilidad de $E \\cap V = \\{(2, 6)\\}$, pero no sobre todas las situaciones posibles del mundo, sino solo sobre las situaciones en las que ocurrió $E$. Esto es una regla de tres simple: si ahora la probabilidad de $E$ la tomamos, temporariamente, como igual a $1$, cuál es la probabilidad correspondiente para $E \\cap V$?\n",
        "\n",
        "\\begin{align}\n",
        "p(E)& \\quad \\underline{\\hspace{3cm}}&1 \\\\\n",
        "p(E \\cap V)& \\quad \\underline{\\hspace{3cm}}&?\n",
        "\\end{align}\n",
        "\n",
        "Pues claro, la respuesta es $\\frac{p(E \\cap V)}{p(E)}$ que es la fórmula de arriba.\n",
        "\n",
        "En nuestro caso, como la probabilidad de cada $\\omega$ es la misma, la probabilidad de cada evento $W$ es igual al número de elementos de $W$, que llamamos $\\# W$, dividido por el tamaño del espacio muestral, $N$. Entonces podemos calcular el resultado así:\n",
        "\n",
        "$$p(V|E) = \\frac{p(E \\cap V)}{p(E)} = \\frac{\\#(E \\cap V) / N}{\\# E / N} = \\frac{\\#(E \\cap V)}{\\# E}$$\n",
        "\n",
        "Es decir, simplemente contamos qué fracción de las veces que pasó $E$, también ocurrió $V$. O sea que la probabilidad condicional de que haya salido un $2$ en el dado A dado que la suma de los dos dados es $8$, es igual a $1/5$.\n",
        "\n",
        "## Independencia\n",
        "\n",
        "En este ejemplo de los dados, $p(V) \\neq p(V | E)$. Esto nos dice que los eventos no son independientes, pues saber que uno ocurrió cambia la probabilidad de que el otro haya ocurrido. Decimos que dos eventos $A$ y $B$ son *independientes* si $P(A|B) = P(A)$. En ese caso ocurre también que $p(B|A) = p(B)$ y que\n",
        "\n",
        "$$p(A \\cap B) = p(A) p(B).$$\n",
        "\n",
        "Decimos que la probabilidad se *factoriza* como el producto de las probabilidades. Si $A$ y $B$ no fueran independientes, en general tenemos la factorización\n",
        "\n",
        "$$p(A \\cap B) = p(A|B) p(B)$$\n",
        "\n",
        "que no es más que reordenar la definición. Esta fórmula es muy útil: a veces lo que queremos saber es $p(A \\cap B)$, la probabilidad de que hayan ocurrido $A$ y $B$ al mismo tiempo, y lo que sabemos es la probabilidad de que ocurra $B$, y la probabilidad de que ocurra $A$ dado que ocurrió $B$."
      ]
    },
    {
      "cell_type": "markdown",
      "metadata": {
        "id": "RteXFe84zt3r"
      },
      "source": [
        "\n",
        "## El Teorema de Bayes\n",
        "\n",
        "Les voy a decir algo sorprendente: a esta altura, si entendieron todo lo que vimos hasta ahora de probabilidad condicional, ya saben el Teorema de Bayes. Enunciar el teorema no es más que reordenar algunas ecuaciones que ya conocemos.\n",
        "\n",
        "Por definición, $p(A|B) = p(A \\cap B) / p(B)$. Reordenando como antes, tenemos $p(A \\cap B) = p(A|B) p(B)$. Pero de la misma forma, porque $A \\cap B = B \\cap A$, podemos obtener\n",
        "\n",
        "$$p(A \\cap B) = p(B|A) p(B)$$\n",
        "\n",
        "Igualando los términos del lado derecho y reordenando, obtenemos la fórmula conocida como **Teorema de Bayes**:\n",
        "\n",
        "$$p(B|A) = \\frac{p(A|B) p(B)}{p(A)}$$\n",
        "\n",
        "Fíjense que la fórmula nos permite invertir los roles de $A$ y $B$. $p(A|B)$ y $p(B|A)$ no son lo mismo numéricamente, y conceptualmente representan cosas totalmente diferentes. Veámoslo con un ejemplo.\n",
        "\n",
        "### Ejemplo de Bayes\n",
        "\n",
        "El teorema de Bayes nos permite empezar a calcular cosas que pueden chocar con nuestra intuición.\n",
        "\n",
        "En este ejemplo, consideremos una enfermedad rara, con una prevalencia del $0,5\\%$ sobre la población. Muchas veces esta enfermedad pasa desapercibida hasta que se realiza un chequeo. Existe un test para esta enfermedad que es muy bueno pero, como cualquier test, no es perfecto. El test tiene una probabilidad $v_+ = 0,97$ de dar un *verdadero positivo*, es decir, da positivo cuando la persona realmente tiene la enfermedad un $97\\%$ de las veces (y por lo tanto, da un *falso negativo* el $3\\%$ de las veces, que son el resto de las veces que el paciente realmente está enfermo). Análogamente, tiene probabilidad $f_+ = 0,004$ de dar un *falso positivo*, que es cuando el paciente no está enfermo pero el test dice que sí (y por lo tanto, da un *verdadero negativo* el $99,6\\%$ de las veces).\n",
        "\n",
        "Estos números parecen bastante buenos, ¿no? Bueno, supongamos que voy a un chequeo de rutina, me hacen el test y me da positivo. ¿Cuál es la probabilidad de que esté realmente enfermo?\n",
        "\n",
        "Posiblemente, su intuición les diga que esta probabilidad debería ser muy alta. Pero esa intuición es errada. Para entenderlo formalicemos el problema con nuestra nueva herramienta. Llamemos $E$ a \"tener la enfermedad\" y $A$ a \"el test dio positivo\". La *negación* de $E$ es \"no tener la enfermedad\" y la escribimos $\\lnot E$ (es la notación que se usa en lógica). La negación de $A$ es \"el test dio negativo\" (porque si no da positivo, da negativo) y la escribimos $\\lnot A$.\n",
        "\n",
        "Nuestros datos entonces son\n",
        "\\begin{align}\n",
        "p(A|E) &= v_+ = 0,97 \\\\\n",
        "p(A| \\lnot E) &= f_+ = 0,004\n",
        "\\end{align}\n",
        "\n",
        "y lo que queremos averiguar es $p(E|A)$. Repasen las definiciones de $A$, $E$, $v_+$ y $f_+$ hasta convencerse de que esta es la situación que planteamos.\n",
        "\n",
        "Nuestra intuición nos dice que $p(A|E)$ tiene que ser alta, porque $p(E|A)$ lo es. Pero en realidad son dos cosas distintas. Esta confusión es tan común que [hasta tiene página de Wikipedia](https://en.wikipedia.org/wiki/Confusion_of_the_inverse) (en inglés).\n",
        "\n",
        "Veamos cuál es la verdadera respuesta con el Teorema de Bayes:\n",
        "\n",
        "$$p(A|E) = \\frac{p(E|A) p(E)}{p(A)}$$\n",
        "\n",
        "Para eso necesitamos dos probabilidades más: $p(E)$ y $p(A)$. La primera ya la tenemos: es la prevalencia de la enfermedad en la población, $p(E) = 0,005$. En cambio la segunda, el *denominador de Bayes*, no nos la dieron explícitamente, sino que nos da $p(A|E)$ y $p(A| \\lnot E)$. Con esto nos va a alcanzar para calcular $p(A)$ gracias al Teorema de la Descomposición.\n",
        "\n",
        "El **Teorema de la Descomposición** nos dice que si tenemos una *partición* del espacio muestral, es decir eventos $E_1, E_2, \\dots E_k$ que son disjuntos y tales que su unión es igual a $\\Omega$, entonces podemos usarlos para descomponer la probabilidad de nuestro evento $A$:\n",
        "\n",
        "$$ p(A) = p(A \\cap E_1) + p(A \\cap E_2) + \\dots p(A \\cap E_k)$$\n",
        "\n",
        "![teo-descomposición](https://jeremykun.files.wordpress.com/2013/03/total-probability.png)\n",
        "\n",
        "Pero recordemos que más arriba vimos que podemos escribir $p(A \\cap E_i) = p(A|E_i) p(E_i)$, con lo cual la descomposición nos queda \n",
        "\n",
        "$$ p(A) = p(A | E_1) p(E_1) + p(A | E_2) p(E_2) + \\dots p(A | E_k) p(E_k) $$\n",
        "\n",
        "En nuestro caso, solo necesitamos aplicarlo al caso en que la partición tiene dos partes, $E$ y $\\lnot E$ (¿Ven por qué eso es una partición de $\\Omega$?). Esto nos permite reescribir el denominador de Bayes, y las fórmula nos queda así:\n",
        "\n",
        "$$p(A|E) = \\frac{p(E|A) p(E)}{p(A|E) p(E) + p(A| \\lnot E) p(\\lnot E)}$$\n",
        "\n",
        "Reemplazando los valores obtenemos nuestro resultado deseado:"
      ]
    },
    {
      "cell_type": "code",
      "execution_count": 16,
      "metadata": {
        "colab": {
          "base_uri": "https://localhost:8080/"
        },
        "id": "0t1A8lq8zt3s",
        "outputId": "50fc252d-8fae-406f-dfc6-e6d229f9f249"
      },
      "outputs": [
        {
          "name": "stdout",
          "output_type": "stream",
          "text": [
            "La probabilidad de estar enfermo dado que el test dio positivo es 0.5492638731596828\n"
          ]
        }
      ],
      "source": [
        "p_A_dado_E = 0.97\n",
        "p_A_dado_notE = 0.004\n",
        "p_E = 0.005\n",
        "\n",
        "p_A = p_A_dado_E * p_E + p_A_dado_notE * (1 - p_E)\n",
        "\n",
        "p_E_dado_A = p_A_dado_E * p_E / p_A\n",
        "\n",
        "print(\"La probabilidad de estar enfermo dado que el test dio positivo es {}\".format(p_E_dado_A))"
      ]
    },
    {
      "cell_type": "markdown",
      "metadata": {
        "id": "-k_zhnO9zt3s"
      },
      "source": [
        "Como ven, la probabilidad resultó relativamente baja. Esto se debe a que la enfermedad es muy rara ($p(E)$ es muy chico)."
      ]
    },
    {
      "cell_type": "markdown",
      "metadata": {
        "id": "D5OvRi8jW4tC"
      },
      "source": [
        "# El caso continuo y la distribución normal\n",
        "\n",
        "Llamamos \"caso continuo\" al caso en que nuestro espacio muestral contiene números reales. Por ejemplo puede ser $\\Omega = [0, +\\infty)$, todos los reales positivos. Este sería el caso si por ejemplo queremos modelizar los posibles tiempos de espera entre dos sucesos.\n",
        "\n",
        "Para simplificar las cosas vamos a pensar siempre en el caso $\\Omega = \\mathbb{R}$, todos los números reales, que es el más importante.\n",
        "\n",
        "En el caso continuo, hay una serie de dificultades técnicas que lamentablemente no son fáciles de explicar. Por ejemplo, ya no es cierto que cualquier subconjunto $E \\subseteq \\Omega$ constituye un evento válido. Esto se debe a que hay subconjuntos de $\\mathbb{R}$ que son muy raros y contraintuitivos, que no tienen un \"tamaño\" bien definido. Pero mientras que nuestros subconjuntos de $\\mathbb{R}$ sean cosas construidas como uniones e intersecciones de intervalos $(a, b)$ no vamos a tener problemas.\n",
        "\n",
        "Si bien hay detalles técnicos (como el que acabamos de mencionar) que no nos afectan en la práctica cotidiana del análisis de datos y la estadística, sí hay diferencias importantes a tener en cuenta, y esas diferencias está en cómo se definen las distribuciones de probabilidad y cómo se manipulan.\n",
        "\n",
        "En el caso discreto, habíamos dicho que una distribución de probabilidad era lo que a veces se llama una *point mass function* o PMF: a cada valor posible le asigna su probabilidad. Esto tenía todo el sentido del mundo porque a partir de esta información podíamos luego recuperar la probabilidad de cualquier evento posible, sumando las probabilidades de los valores que correspondieran. Ahora, en vez de eso, vamos a definir las distribuciones de probabilidad como PDF o *densidades de probabilidad*.\n",
        "\n",
        "La matemática de las probabilidades continuas es un poco más complicada y va a requerir que reemplacemos las sumas por integrales. Por ejemplo, en vez de pedir la condición de normalización $ \\sum_{x \\in S} f(x) = 1$ para una PMF $f$, si ahora $f$ es una densidad, tendremos que pedir\n",
        "\n",
        "$$ \\int_{-\\infty}^{\\infty} f(x) dx = 1 $$\n",
        "\n",
        "que es la condición análoga, pero donde ahora tenemos que sumar sobre una cantidad infinita no numerable de valores posibles para $x$, que es lo mismo que decir \"integrar\".\n",
        "\n",
        "Vayamos introduciendo a la estrella de la noche, la distribución continua más importante de todas: la **distribución normal** (o gaussiana), que depende de dos parámetros $\\mu$ y $\\sigma$ y llamamos $\\mathcal{N}(\\mu, \\sigma)$."
      ]
    },
    {
      "cell_type": "code",
      "execution_count": 17,
      "metadata": {
        "colab": {
          "base_uri": "https://localhost:8080/",
          "height": 265
        },
        "id": "np5apvKFzt3t",
        "outputId": "f72f329e-ab1d-4761-add8-0bf4916d293e"
      },
      "outputs": [
        {
          "data": {
            "image/png": "[encoded data removed]",
            "text/plain": [
              "<Figure size 432x288 with 1 Axes>"
            ]
          },
          "metadata": {},
          "output_type": "display_data"
        }
      ],
      "source": [
        "mu = 0\n",
        "sigma = 1\n",
        "normal = st.norm(loc=mu, scale=sigma)\n",
        "# Grafiquemos esta distribución cerca del 0\n",
        "xs = np.linspace(-5, 5, 1000)\n",
        "ys = normal.pdf(xs)\n",
        "fig, ax = plt.subplots(facecolor=(1, 1, 1))\n",
        "ax.plot(xs, ys)\n",
        "ax.grid(True)"
      ]
    },
    {
      "cell_type": "markdown",
      "metadata": {
        "id": "YIeWaoPkzt3t"
      },
      "source": [
        "Sea $X \\sim \\mathcal{N}(\\mu, \\sigma)$ nuestra v.a. normal. La función $f$ es una \"densidad\" porque **ya no es cierto que $f(x)$ sea la probabilidad del evento $X = x$**. De hecho, va a pasar que $\\text{Pr}(X = x) = 0$, porque como son tantos valores posibles para $X$, la probabilidad de cada uno de ellos es infinitesimalmente pequeña (esta es una forma de pensarlo, si no les convence simplemente sigan de largo). En cambio lo que sí es cierto (y podemos tomar casi como la definición de una densidad de probabilidad) es que \n",
        "\n",
        "$$ \\text{Pr}(a \\leq X \\leq b) = \\int_a^b f(x) dx. $$\n",
        "\n",
        "En palabras: si quiero saber la probabilidad de que $X$ caiga en el intervalo $(a, b)$, me fijo cuánto vale la integral de $f$ entre $a$ y $b$, o lo que es lo mismo, el área bajo la curva entre $a$ y $b$:"
      ]
    },
    {
      "cell_type": "code",
      "execution_count": 18,
      "metadata": {
        "colab": {
          "base_uri": "https://localhost:8080/",
          "height": 265
        },
        "id": "04e6ZPAyFmkW",
        "outputId": "8453373b-faf0-4c5d-a00a-2a208c32f870"
      },
      "outputs": [
        {
          "data": {
            "image/png": "[encoded data removed]",
            "text/plain": [
              "<Figure size 432x288 with 1 Axes>"
            ]
          },
          "execution_count": 18,
          "metadata": {},
          "output_type": "execute_result"
        }
      ],
      "source": [
        "a = 0.5\n",
        "b = 2\n",
        "ax.fill_between(xs, ys, where=(a <= xs)&(xs <= b), color='orange', alpha=0.5)\n",
        "fig"
      ]
    },
    {
      "cell_type": "markdown",
      "metadata": {
        "id": "97zSuPGczt3u"
      },
      "source": [
        "Si queremos pedirle a Python que nos haga la cuenta, usamos el método `cdf` (\"Cumulative Distribution Function\") del objeto que representa a la distribución. `normal.cdf(t)` nos da la probabilidad acumulada hasta el valor `t`, o sea, el área bajo la curva que queda a la izquierda de `xt`, o matemáticamente, $\\int_{- \\infty}^t f(x) dx$. Se sigue entonces que podemos calcular $\\int_a^b f(x) dx$ como $\\int_{- \\infty}^b f(x) dx - \\int_{- \\infty}^a f(x) dx$, o lo que es lo mismo, `normal.cdf(b) - normal.cdf(a)`."
      ]
    },
    {
      "cell_type": "code",
      "execution_count": 19,
      "metadata": {
        "colab": {
          "base_uri": "https://localhost:8080/",
          "height": 300
        },
        "id": "XAtVCqzHzt3v",
        "outputId": "35640e2b-0b6f-48d9-9706-71d1e9dabcd4"
      },
      "outputs": [
        {
          "name": "stdout",
          "output_type": "stream",
          "text": [
            "Supongamos que X está distribuida según una normal con mu=0 y sigma=1.      \n",
            " Entonces la probabilidad de que X esté entre a=0.5 y b=2 es 0.29\n"
          ]
        },
        {
          "data": {
            "image/png": "[encoded data removed]",
            "text/plain": [
              "<Figure size 432x288 with 1 Axes>"
            ]
          },
          "execution_count": 19,
          "metadata": {},
          "output_type": "execute_result"
        }
      ],
      "source": [
        "prob = normal.cdf(b) - normal.cdf(a)\n",
        "# Agreguemos esta info a nuestro gráfico de antes\n",
        "ax.annotate('area = {0:.2g}'.format(prob), xy =(1, 0.1),\n",
        "                xytext =(2, 0.3),\n",
        "                arrowprops = dict(facecolor ='skyblue',\n",
        "                                  shrink = 0.005))\n",
        "print(\"Supongamos que X está distribuida según una normal con mu={} y sigma={}.\\\n",
        "      \\n Entonces la probabilidad de que X esté entre a={} y b={} es {:.2g}\".format(mu, sigma, a, b, prob))\n",
        "fig"
      ]
    },
    {
      "cell_type": "markdown",
      "metadata": {
        "id": "gB84F_iMzt3v"
      },
      "source": [
        "El parámetro $\\mu$ controla donde está centrada la distribución, mientras que $\\sigma$ controla qué tan ancha es la campana (pueden modificar estos valores en el código de arriba y graficar cómo se ve el resultado).\n",
        "\n",
        "**Ejercicio de lectura activa (5)**: Si $f$ es la distribución normal con $\\mu = 0$ y $\\sigma = 0.01$, ¿Cuál es el valor de $f(0)$? ¿Hay algo raro en esto? ¿Por qué no es un problema?\n",
        "\n",
        "<details>\n",
        "<summary>Pueden ver la respuesta haciendo click acá.</summary>\n",
        "\n",
        "Ejecutando `st.norm(loc=0, scale=0.01).pdf(0)` obtenemos `39.89422804014327`. Podría hacerles ruido porque es un número mayor a $1$. Pero eso no es un problema, porque $f(x)$ no es la probabilidad de que $X=x$. Lo que está pasando es que, como $\\sigma$ es bastante chico, toda la campana se hace angosta y entonces para que el área siga siendo $1$, tiene que hacerse más alta. Si $\\sigma$ es más chico, la probabilidad se concentra más alrededor de $\\mu$.\n",
        "\n",
        "</details>\n",
        "\n",
        "Podemos interpretar $f(x)$ como indicando qué tanto más probable es que $X$ esté cerca de $x$ que de algún otro valor. Es decir, si $f(x_1)$ es más grande que $f(x_2)$, eso nos está diciendo que es *más* probable que $X$ esté cerca de $x_1$ que de $x_2$."
      ]
    },
    {
      "cell_type": "markdown",
      "metadata": {
        "id": "KaK2j-RrHWSj"
      },
      "source": [
        "***\n",
        "\n",
        "# Medidas de tendencia central y de variabilidad\n",
        "\n",
        "La distribución normal nos viene como anillo al dedo para nuestro próximo tema: ¿Cómo *resumimos* la información sobre una variable aleatoria?\n",
        "\n",
        "Con bastante frecuencia, tener la información completa sobre la distribución de probabilidad de una variable aleatoria es más que lo que necesitamos, y también mucho más de lo que podemos conseguir.\n",
        "\n",
        "Puede ser más que lo que necesitamos porque muchas veces lo que queremos saber es *más o menos qué valor tiene*, y *qué tan lejos de ese valor puede llegar a fluctuar*. Desde el punto de vista de qué información podemos conseguir realmente sobre el mundo (punto de vista que nos mete en la Estadística propiamente dicha), es mucho más fácil (o sea, requiere menos datos) realizar una buena estimación un par de números que caractericen a grandes rasgos a nuestra variable, mientras que estimar su distribución de probabilidad en su totalidad puede ser una tarea extremadamente complicada.\n",
        "\n",
        "Intuitivamente, en el caso de la distribución normal parece ser que la respuesta a esas dos preguntas (qué valor tiende a tener en general la variable, y qué tanto puede desviarse de él) nos las dan los parámetros $\\mu$ y $\\sigma$ respectivamente, y eso es efectivamente así, pero la pregunta nos la podemos hacer sobre cualquier distribución. Necesitamos entonces una definición rigurosa de una medida de tendencia central, que en el caso de la distribución normal va a ser $\\mu$, y una medida de la variabilidad de la v.a., que en el caso de la normal va a ser $\\sigma$.\n",
        "\n",
        "### Nunca pierdas la Esperanza\n",
        "\n",
        "**Definición**. Definamos la *esperanza* de una variable aleatoria $X$.\n",
        "* En el caso $X$ discreta, con valores en un conjunto $S$ (que puede ser finito, o infinito numerable como $\\mathbb{N}$), si $p_X$ es su PMF, la esperanza de $X$ es\n",
        "$$ \\mathbb{E}(X) = \\sum_{x \\in S} x \\, p_X(x) $$\n",
        "Por ejemplo si $X \\sim \\text{Binom}(n, p)$ (la dist. binomial), haciendo la cuenta se ve que\n",
        "$$\\mathbb{E}(X) = \\sum_{k = 0}^n k \\, p_X(k) = np.$$\n",
        "Esta cuenta no es más que el \"promedio\" de todos los valores posibles de $X$, donde cada valor va pesado por qué tan probable es. La razón por la que el nombre es \"esperanza\" en vez de \"promedio\" es que reservamos \"promedio\" para hablar de la cuenta análoga realizada con *datos* (en un rato veremos un teorema importante que dice que que el promedio muestral aproxima la esperanza de la distribución).\n",
        "\n",
        "* En el caso $X$ continua, con PDF $f_X$, la esperanza de $X$ es\n",
        "$$ \\mathbb{E}(X) = \\int_{- \\infty}^{+ \\infty} x \\, f_X(x) dx$$\n",
        "\n",
        "Por ejemplo, para $X \\sim \\mathcal{N}(\\mu, \\sigma)$, haciendo la cuenta nos da (sorpresa sorpresa) $\\mathbb{E}(X) = \\mu$.\n",
        "\n",
        "A la esperanza también la llamamos \"media\" (*mean*, en inglés), y también a veces \"valor esperado\" o \"valor de expectación\" (aunque eso último es un anglicismo). También usamos la notación $\\mu_X$ como sinónimo de $\\mathbb{E}(X)$, incluso si $X$ no es gaussiana.\n",
        "\n",
        "### Otras medidas de tendencia central: moda y mediana\n",
        "\n",
        "Cuando queremos resumir la tendencia central de una distribución, no siempre nos va a servir la esperanza. Consideren esta distribución de ejemplo, que me armo sampleando de dos gaussianas distintas, según la tirada de una moneda. (Esto es un ejemplo de un modelo probabilístico un poco más sofisticado. Vendría a ser una versión de juguete de modelos gaussianos que se usan para *topic modelling*). La grafico sampleando una gran cantidad de muestras y generando un histograma (de hecho esto muestra la versatilidad del método de Monte Carlo).\n"
      ]
    },
    {
      "cell_type": "code",
      "execution_count": 20,
      "metadata": {
        "colab": {
          "base_uri": "https://localhost:8080/",
          "height": 265
        },
        "id": "vcyjJ4Zdzt3w",
        "outputId": "8bd8cc3f-5f3f-477d-aca4-e42b76e2e88f"
      },
      "outputs": [
        {
          "data": {
            "image/png": "[encoded data removed]",
            "text/plain": [
              "<Figure size 432x288 with 1 Axes>"
            ]
          },
          "metadata": {
            "needs_background": "light"
          },
          "output_type": "display_data"
        }
      ],
      "source": [
        "def samplear_modelo_bimodal(n_samples):\n",
        "    tiradas_moneda = st.bernoulli(0.5).rvs(size=n_samples)\n",
        "    samples_1 = st.norm(loc=-3, scale=1).rvs(size=n_samples)\n",
        "    samples_2 = st.norm(loc=+3, scale=1).rvs(size=n_samples)\n",
        "    # Si la moneda sale 1, ponemos sample_1. Si sale 0, ponemos sample_2\n",
        "    samples = samples_1 * tiradas_moneda + samples_2 * (1 - tiradas_moneda)\n",
        "    return samples\n",
        "\n",
        "samples = samplear_modelo_bimodal(1000000)\n",
        "_ = plt.hist(samples, bins=400)\n",
        "plt.grid(True)"
      ]
    },
    {
      "cell_type": "markdown",
      "metadata": {
        "id": "2wqxbZiKzt3x"
      },
      "source": [
        "Esta distribución, que es una combinación de dos gaussianas con distinto $\\mu$, es simétrica alrededor del $0$, y por lo tanto, la esperanza va a ser $0$. Sin embargo, está claro que $0$ está muy lejos de ser un valor representativo de $X$. En este tipo de situaciones podemos usar otra medida, la *moda* de la distribución, que se define como su valor más probable (el \"pico\" del gráfico). Al modelo de arriba lo llamé \"modelo bimodal\" precisamente porque no solo la moda no coincide con la esperanza, sino que *ni siquiera hay una sola moda*, sino que hay dos.\n",
        "\n",
        "Incluso en distribuciones unimodales, la moda puede no coincidir con la esperanza. Esto pasa por ejemplo con la siguiente distribución (el nombre no importa, pero se llama \"distribución chi cuadrado con 4 grados de libertad\"):"
      ]
    },
    {
      "cell_type": "code",
      "execution_count": 21,
      "metadata": {
        "colab": {
          "base_uri": "https://localhost:8080/",
          "height": 265
        },
        "id": "4-GV_i7bzt3x",
        "outputId": "9628524b-3873-4494-ec47-0fe93fdaecf9"
      },
      "outputs": [
        {
          "data": {
            "image/png": "[encoded data removed]",
            "text/plain": [
              "<Figure size 432x288 with 1 Axes>"
            ]
          },
          "metadata": {
            "needs_background": "light"
          },
          "output_type": "display_data"
        }
      ],
      "source": [
        "def grafico_chi2():\n",
        "    distribucion = st.chi2(4)\n",
        "    xs = np.linspace(0, 20, 1000)\n",
        "    ys = distribucion.pdf(xs)\n",
        "    mean = distribucion.mean() # ya nos lo da scipy.stats\n",
        "    # calculamos la moda con scipy.optimize.minimize\n",
        "    mode = minimize(lambda x: -distribucion.pdf(x), 0).x\n",
        "    median = distribucion.median()\n",
        "    plt.plot(xs, ys, color='black')\n",
        "    plt.axvline(mean, color='red', label='Esperanza')\n",
        "    plt.axvline(mode, color='blue', label='Moda')\n",
        "    plt.axvline(median, color='green', label='Mediana')\n",
        "    plt.grid(True)\n",
        "    plt.legend()\n",
        "grafico_chi2()"
      ]
    },
    {
      "cell_type": "markdown",
      "metadata": {
        "id": "8y2-z-LOzt3y"
      },
      "source": [
        "En el gráfico indicamos la esperanza y la moda, y me tomé la libertad de ya ir incluyendo la tercera medida de tendencia central más conocida: la *mediana* de la distribución, que se define como el punto que deja a la izquierda el $50\\%$ de la probabilidad (y por lo tanto, otro $50\\%$ de probabilidad a la derecha): es decir que si $m$ es la mediana de $X$,\n",
        "\n",
        "$$ \\int_{- \\infty}^m f_X(x) dx =  \\int^{+ \\infty}_m f_X(x) dx = 0,5. $$\n",
        "\n",
        "Como puede verse en el gráfico, los tres números en este caso son diferentes. En comparación, para la gaussiana los tres números son iguales. La diferencia está en que esta distribución no es simétrica. Cuando hagamos estadística o análisis de datos, saber cuál de todas las medidas usar dependerá de nuestro conocimiento del proceso que genera los datos."
      ]
    },
    {
      "cell_type": "markdown",
      "metadata": {
        "id": "hu4uBJ50zt3y"
      },
      "source": [
        "## Varianza y desviación estándar"
      ]
    },
    {
      "cell_type": "markdown",
      "metadata": {
        "id": "8h4OwGJlzt3z"
      },
      "source": [
        "A continuación, veamos la principal medida de variabilidad o *dispersión* de una distribución.\n",
        "\n",
        "**Definición.** La *varianza* de una variable aleatoria $X$ se define así:\n",
        "\n",
        "* Caso discreto:\n",
        "\n",
        "$$ \\text{Var}(X) = \\sum_{x=0}^n (x - \\mu_X)^2 p_X(x) $$\n",
        "\n",
        "Por ejemplo si $X \\sim \\text{Binom}(n, p)$, $\\text{Var}(X) = n p (1-p)$.\n",
        "\n",
        "* Caso continuo:\n",
        "\n",
        "$$ \\text{Var}(X) = \\int_{- \\infty}^{+ \\infty} (x - \\mu_X)^2 f_X(x) dx$$\n",
        "\n",
        "Por ejemplo si $X \\sim \\mathcal{N}(\\mu, \\sigma)$, $\\text{Var}(X) = \\sigma^2$. Se ve de la definición que la varianza es una especie de \"desviación cuadrática media\" respecto de la esperanza.\n",
        "\n",
        "En general, para cualquier variable aleatoria (aunque no sea gaussiana), definimos su *desviación estándar* como $\\sigma_X = \\sqrt{\\text{Var}(X)}$. En el caso de una gaussiana con parámetro $\\sigma$, recuperamos $\\sigma_X = \\sigma$. Al tomar raíz cuadrada, $\\sigma_X$ tiene las mismas \"unidades\" que $X$. Por ejemplo si $X$ es la estatura *en centímetros* de un individuo en una población de personas (de forma que la distribución de alturas es la distribución de probabilidad de $X$), $\\sigma_X$ es una medida *en centímetros* de cuánto suele variar la estatura de un individuo típico respecto de la esperanza $\\mu_X$. Si usáramos la varianza, esa medida de dispersión estaría en *centímetros cuadrados*, lo cual no es tan fácilmente interpretable.\n",
        "\n",
        "***\n",
        "\n",
        "La varianza mide qué tan lejos puede \"irse\" $X$ respecto de su esperanza, y esto puede cuantificarse con precisión preguntándonos cuál es la probabilidad de que $X$ caiga dentro del intervalo $(\\mu_X - \\sigma_X, \\mu + \\sigma_X)$, o lo que es lo mismo, la probabilidad de que $|X-\\mu_X | \\leq \\sigma_X$. Un caso muy importante es el de la distribución normal. En este caso, vale que siempre, para cualquier valor de los parámetros $\\mu$ y $\\sigma$ de la distribución,\n",
        "\n",
        "$$ \\text{Pr}(|X - \\mu| \\leq \\sigma) \\simeq 0.68$$\n",
        "\n",
        "Es decir que, por ejemplo, si la distribución de estaturas de individuos en una población fuera gaussiana, aproximadamente el $68\\%$ de la población tendría una altura mayor a $\\mu - \\sigma$ y menor a $\\mu + \\sigma$. Verifiquémoslo en Python:"
      ]
    },
    {
      "cell_type": "code",
      "execution_count": 22,
      "metadata": {
        "colab": {
          "base_uri": "https://localhost:8080/"
        },
        "id": "47JEcM-uzt3z",
        "outputId": "847f11fc-f04b-4f8e-d3f6-97e07d52a658"
      },
      "outputs": [
        {
          "name": "stdout",
          "output_type": "stream",
          "text": [
            "La probabilidad contenida entre mu-sigma y mu+sigma es 0.68.\n"
          ]
        }
      ],
      "source": [
        "mu = 5\n",
        "sigma = 2.5\n",
        "dist = st.norm(loc=mu, scale=sigma)\n",
        "# probabilidad contenida entre mu-sigma y mu+sigma\n",
        "z = dist.cdf(mu + sigma) - dist.cdf(mu - sigma)\n",
        "print(\"La probabilidad contenida entre mu-sigma y mu+sigma es {:.2g}.\".format(z))"
      ]
    },
    {
      "cell_type": "markdown",
      "metadata": {
        "id": "eO180mslzt30"
      },
      "source": [
        "### Distribución normal estándar\n",
        "\n",
        "Antes de pasar al siguiente tema, un último comentario: si $X \\sim \\mathcal{N}(\\mu, \\sigma)$, entonces puede verse matemáticamente que definiendo $\\tilde{X} = (X - \\mu)/\\sigma$, $\\tilde{X} \\sim \\mathcal{N}(0, 1)$. Es decir, restando la media y dividiendo por la dispersión, podemos *estandarizar* cualquier variable aleatoria normal para llevarla a una variable aleatoria con esperanza $0$ y desviación estándar $1$. Esto se usa muchas veces dado que si es necesario consultar alguna propiedad de la distribución normal, estas suelen estar expresadas para la distribución normal estándar $\\mathcal{N}(0, 1)$."
      ]
    },
    {
      "cell_type": "markdown",
      "metadata": {
        "id": "movQJtyPJQ6T"
      },
      "source": [
        "***\n",
        "\n",
        "# Distribuciones multivariadas\n",
        "\n",
        "Volvamos al ejemplo de dos dados. Como vimos, podíamos formalizarlo con dos variables aleatorias $X$, $Y$ distribuidas según $U(1,\\dots 6)$. Sin embargo, el espacio muestral no era $\\{1, 2, 3, 4, 5, 6\\}$, sino $\\{1, \\dots, 6\\} \\times \\{1, \\dots, 6\\} = \\{(1, 1), (1, 2), \\dots, (6, 6)\\}$. Es decir, si bien $X$ e $Y$ tienen la misma distribución sobre $\\{1, 2, 3, 4, 5, 6\\}$, entre las dos determinan una distribución sobre el producto $\\{1, \\dots, 6\\} \\times \\{1, \\dots, 6\\}$, que vendría a ser el producto de los espacios muestrales individuales.\n",
        "\n",
        "Si esto no fuera así, y el espacio muestral fuera $\\{1, 2, 3, 4, 5, 6\\}$, entonces $X$ y $Y$ tendrían siempre el mismo valor (si una es $3$, la otra también es $3$, etcétera). Sería como definir $Y$ según $Y = X$.\n",
        "\n",
        "Podemos pensar que $(X, Y)$ es una *variable aleatoria bidimensional*, con una *distribución de probabilidad conjunta* $p_{XY}$, que a cada par $(i, j)$ le asigna la probabilidad $p_{XY}(x, y) = \\text{Pr}(X = x, Y = y)$. Esto es una PMF porque las variables son discretas. Para el caso de $X, Y$ variables continuas, vamos a tener una *densidad de probabilidad conjunta* $f_{XY}$.\n",
        "\n",
        "Una distribución de probabilidad conjunta muy importante es la generalización a varias variables de la distribución normal, que se llama *distribución multinormal* (o *normal multivariada*). Se puede definir para cualquier dimensión, pero nosotros nos vamos a quedar con el caso de dos dimensiones, con variables $X, Y$.\n",
        "\n",
        "Para especificar una distribución multinormal sobre la variable bidimensional $(X, Y)$, necesitaremos especificar una media tanto para $X$ como para $Y$, $\\mu_X$ y $\\mu_Y$, así como dispersiones $\\sigma_X$ y $\\sigma_Y$. Sin embargo, esto no especifica por completo la distribución multinormal. La razón es que *en una distribución de probabilidad conjunta, las distintas variables pueden estar correlacionadas*, y nuestra distribución nos tiene que decir si lo están o no, y si lo están, de qué manera. Para eso necesitamos un parámetro más, $\\rho $, que va entre $-1$ y $1$ y controla qué tanto una variable depende de la otra.\n",
        "\n",
        "En verdad, tanto $\\sigma_X, \\sigma_Y$ como $\\rho$ se organizan en la *matriz de covarianza*, que es por ejemplo lo que debemos pasar como parámetro a `scipy` para construir el objeto que representa a la distribución, y que nos permitiría generalizar a más dimensiones. La *covarianza* entre dos variables aleatorias puede definirse como $\\text{Cov}(X, Y) = \\mathbb{E}(X Y) - \\mathbb{E}(X) \\mathbb{E}(Y)$. Se tiene de hecho que $\\text{Cov}(X, X) = \\text{Var}(X)$, luego la matriz de $2 \\times 2$ que tiene en la entrada $(i, j)$ la covarianza entre las variables $i$-ésima y $j$-ésima es\n",
        "\n",
        "$$ V = \\begin{pmatrix}\n",
        "    \\text{Var}(X) & \\text{Cov}(X, Y) \\\\\n",
        "    \\text{Cov}(Y, X) & \\text{Var}(Y)\n",
        "\\end{pmatrix}$$\n",
        "\n",
        "Esta matriz siempre es simétrica, es decir que $\\text{Cov}(X, Y) = \\text{Cov}(Y, X)$.\n",
        "\n",
        "En el caso binormal que estamos analizando, con parámetros $\\mu_X, \\mu_Y, \\sigma_X, \\sigma_Y, \\rho$, puede calcularse que la matriz de covarianza resulta ser\n",
        "\n",
        "$$ V = \\begin{pmatrix}\n",
        "    \\sigma_X^2 &  \\rho \\sigma_X \\sigma_Y \\\\\n",
        "    \\rho \\sigma_X \\sigma_Y & \\sigma_Y^2\n",
        "\\end{pmatrix}$$\n",
        "\n",
        "Grafiquemos la distribución binormal para distintos valores de $\\rho$."
      ]
    },
    {
      "cell_type": "code",
      "execution_count": 23,
      "metadata": {
        "colab": {
          "base_uri": "https://localhost:8080/",
          "height": 297
        },
        "id": "kESer69Uzt31",
        "outputId": "f3834a22-f65f-48f9-8ba7-0d641e450516"
      },
      "outputs": [
        {
          "name": "stderr",
          "output_type": "stream",
          "text": [
            "findfont: Font family ['STIXGeneral'] not found. Falling back to DejaVu Sans.\n",
            "findfont: Font family ['STIXGeneral'] not found. Falling back to DejaVu Sans.\n",
            "findfont: Font family ['STIXGeneral'] not found. Falling back to DejaVu Sans.\n",
            "findfont: Font family ['STIXNonUnicode'] not found. Falling back to DejaVu Sans.\n",
            "findfont: Font family ['STIXNonUnicode'] not found. Falling back to DejaVu Sans.\n",
            "findfont: Font family ['STIXNonUnicode'] not found. Falling back to DejaVu Sans.\n",
            "findfont: Font family ['STIXSizeOneSym'] not found. Falling back to DejaVu Sans.\n",
            "findfont: Font family ['STIXSizeTwoSym'] not found. Falling back to DejaVu Sans.\n",
            "findfont: Font family ['STIXSizeThreeSym'] not found. Falling back to DejaVu Sans.\n",
            "findfont: Font family ['STIXSizeFourSym'] not found. Falling back to DejaVu Sans.\n",
            "findfont: Font family ['STIXSizeFiveSym'] not found. Falling back to DejaVu Sans.\n",
            "findfont: Font family ['cmtt10'] not found. Falling back to DejaVu Sans.\n",
            "findfont: Font family ['cmb10'] not found. Falling back to DejaVu Sans.\n",
            "findfont: Font family ['cmss10'] not found. Falling back to DejaVu Sans.\n",
            "findfont: Font family ['DejaVu Sans Display'] not found. Falling back to DejaVu Sans.\n"
          ]
        },
        {
          "data": {
            "image/png": "[encoded data removed]",
            "text/plain": [
              "<Figure size 432x288 with 6 Axes>"
            ]
          },
          "metadata": {
            "needs_background": "light"
          },
          "output_type": "display_data"
        }
      ],
      "source": [
        "def graficar_binormal(mu_X, mu_Y, sigma_X, sigma_Y, rho, ax=None):\n",
        "    cov_matrix = [[sigma_X**2, sigma_X * sigma_Y * rho],\n",
        "                  [sigma_X * sigma_Y * rho, sigma_Y**2]]\n",
        "    dist = st.multivariate_normal(mean = [mu_X, mu_Y], cov = cov_matrix)\n",
        "    \n",
        "    xs, ys = np.meshgrid(np.linspace(mu_X - sigma_X * 2,\n",
        "                                     mu_X + sigma_X * 2, 1000),\n",
        "                         np.linspace(mu_Y - sigma_Y * 2,\n",
        "                                     mu_Y + sigma_Y * 2, 1000))\n",
        "    pos = np.dstack((xs, ys))\n",
        "    zs = dist.pdf(pos)\n",
        "    if ax is None:\n",
        "        fig, ax = plt.subplots()\n",
        "    ax.contourf(xs, ys, zs)\n",
        "\n",
        "fig, axes = plt.subplots(2, 3)\n",
        "axes = axes.flatten()\n",
        "rhos = [-0.9, -0.5, 0, 0.5, 0.9, 0.99]\n",
        "for i in range(6):\n",
        "    graficar_binormal(2, 3, 1, 2, rhos[i], ax=axes[i])\n",
        "    axes[i].set_title(r\"$\\rho =$\"+\"{}\".format(rhos[i]))\n",
        "fig.tight_layout()"
      ]
    },
    {
      "cell_type": "markdown",
      "metadata": {
        "id": "EBjyGqMIzt31"
      },
      "source": [
        "## Marginalizción\n",
        "\n",
        "Nuestro par $(X, Y)$ podría corresponder a temperatura y presión atmosférica. Está claro que está bien considerar una distribución conjunta para ambas variables dado que es esperable que estén correlacionadas; sin embargo, también es válido preguntarse por la distribución de temperaturas, *sin importar* cuál es el valor de presión. Fíjense que esto es distinto de preguntarse por la distribución de temperaturas para un valor fijo de la presión (eso sería una distribución condicional, que mencionaremos enseguida). En cambio, queremos \"olvidarnos\" de toda la información relativa a la presión. Este proceso de obtener una distribución para $X$ a partir de la distribución para $(X, Y)$ se denomina *marginalización*, y no es más que realizar un promedio sobre todos los valores posibles de la variable que queremos \"olvidar\", en este caso $X$. Veámoslo en el caso continuo: si $f_{XY}$ es nuestra densidad de probabilidad, entonces la densidad para $X$ sola se obtiene como\n",
        "\n",
        "$$ f_X(x) = \\int_{- \\infty}^{+ \\infty} f_{XY}(x, y) dy. $$\n",
        "\n",
        "Visto sobre el gráfico de la distribución conjunta $f_{XY}$, marginalizar sobre la variable $Y$ puede pensarse como mirar la \"sombra\" que genera el gráfico sobre el plano $yz$.\n",
        "\n",
        "<img src=\"https://upload.wikimedia.org/wikipedia/commons/8/8e/MultivariateNormal.png\" alt=\"Marginales\" width=\"500\"/>\n",
        "\n",
        "## Probabilidad condicional en el continuo\n",
        "\n",
        "Dadas variables $(X, Y)$, la función densidad condicional de $X$ dado $Y$ se define como\n",
        "\n",
        "$$ f_X(x | y) = f_X(x | Y=y) = \\frac{f_{XY}(x, y)}{f_Y(y)} $$\n",
        "\n",
        "donde el denominador, $f_Y(y)$, es la distribución marginal de $Y$. Cuando $X$ e $Y$ son independientes, se tiene \n",
        "\n",
        "$$ f_X(x | y) = f_X(x), $$\n",
        "\n",
        "y combinando estas dos ecuaciones y reordenado, se sigue que \n",
        "\n",
        "$$ f_{XY}(x, y) = f_X(x) f_Y(y). $$\n",
        "\n",
        "Esta última fórmula es extremadamente útil: nos dice que dos v.a. son independientes si y solo si su distribución de probabilidad conjunta es una *distribución producto*, es decir que se obtiene como producto de las marginales. En este caso (y solo en este caso), tener las marginales de $X$ e $Y$ es lo mismo que tener la distribución completa $f_{XY}$.\n",
        "\n",
        "Tenemos también una versión continua del Teorema de Bayes:\n",
        "\n",
        "$$f_Y(y | x) = \\frac{f_X(x | y) f_Y(y)}{f_X(x)} = \\frac{f_X(x | y) f_Y(y)}{\\int f_X(x | y) f_Y(y) dy}$$\n",
        "\n",
        "donde en la última igualdad usámos el análogo continuo del Teorema de la descomposición.\n",
        "\n",
        "**Comentario sobre el denominador de Bayes**: Bajo esta forma del Teorema de Bayes, podemos ver que el denominador no es más que una constante de normalización: es lo mismo que el numerador, pero sumado sobre todos los valores posibles. Sin embargo, este denominador es lo que en aplicaciones prácticas de Machine Learning suele ser muy, muy costoso de computar. Por lo tanto, si quiero calcular $f_Y(y | x)$ para distintos valores de $y$, pero dejando $x$ fijo, puedo olvidarme por completo del denominador y solo calcular los numeradores.\n",
        "\n",
        "## Medidas de asociación\n",
        "\n",
        "El parámetro $\\rho$ de la binormal está definido de forma tal que coincida con el *coeficiente de correlación de Pearson*\n",
        "\n",
        "$$r_{X, Y} = \\frac{\\text{Cov}(X, Y)}{\\sqrt{\\text{Var}(X)} \\sqrt{\\text{Var}(Y)}} $$\n",
        "\n",
        "para el caso en que $(X, Y)$ están distribuidos binormalmente. Este coeficiente no es más que una versión normalizada de la covarianza, de forma que está siempre entre $-1$ y $1$. Se trata de una forma clásica de medir la asociación entre dos variables y de hecho, si $X$ e $Y$ son independientes entonces $r_{X,Y} = 0$. Sin embargo, es importante saber que incluso si $X, Y$ presentan una asociación muy fuerte, $r_{X, Y}$ puede ser cero. Esto se debe a que el coeficiente de Pearson mide la asociación *lineal* entre dos variables; pero si la dependencia entre una y otra es completamente no lineal, resulta invisible al coeficiente."
      ]
    },
    {
      "cell_type": "code",
      "execution_count": 24,
      "metadata": {
        "cellView": "form",
        "colab": {
          "base_uri": "https://localhost:8080/",
          "height": 247
        },
        "id": "y4GixcYqzt32",
        "outputId": "173cc7ff-5fed-4ddc-b3da-9644904c5736"
      },
      "outputs": [
        {
          "data": {
            "image/png": "[encoded data removed]",
            "text/plain": [
              "<Figure size 1152x216 with 3 Axes>"
            ]
          },
          "metadata": {
            "needs_background": "light"
          },
          "output_type": "display_data"
        }
      ],
      "source": [
        "#@title Caso No lineal\n",
        "\n",
        "x_nonlinear = np.linspace(-10,10,100)\n",
        "x_nonlinear = np.vstack((x_nonlinear,x_nonlinear*x_nonlinear))\n",
        "x_nonlinear = np.vstack((x_nonlinear,np.log(x_nonlinear[0,]**2+1)))\n",
        "x_nonlinear = np.vstack((x_nonlinear,np.exp(x_nonlinear[0,])))\n",
        "\n",
        "def correlate(matrix, corr=st.pearsonr):\n",
        "    rows, cols = matrix.shape[0], matrix.shape[1]\n",
        "    r = np.ones(shape=(rows, rows))\n",
        "    p = np.ones(shape=(rows, rows))\n",
        "    for i in range(rows):\n",
        "        for j in range(i+1, rows):\n",
        "            r_, p_ = corr(matrix[i], matrix[j])\n",
        "            r[i, j] = r[j, i] = r_\n",
        "            p[i, j] = p[j, i] = p_\n",
        "            \n",
        "    return r, p\n",
        "\n",
        "r,p = correlate(x_nonlinear)\n",
        "\n",
        "fig, ax = plt.subplots(nrows=1, ncols=3, figsize=(16, 3))\n",
        "title = ['$y=x^2$', '$y=\\log(x^2+1)$','$y=\\exp(x)$']\n",
        "for i in [0,1,2]:\n",
        "    ax[i].scatter(x_nonlinear[0,],x_nonlinear[1+i,])\n",
        "    ax[i].title.set_text('Correlación = ' + \"{:.2f}\".format(r[0,2]))\n",
        "                        # + '\\n p = ' + \"{:.4f}\".format(p[0,2]))\n",
        "    \n",
        "    ax[i].set(xlabel=title[i])\n",
        "\n",
        "fig.subplots_adjust(wspace=.4)\n",
        "plt.show()"
      ]
    },
    {
      "cell_type": "markdown",
      "metadata": {
        "id": "5qF_UV5Nzt32"
      },
      "source": [
        "Así como existe el coeficiente $r$ de Pearson, existen muchas otras medidas de asociación. Una medida que sí es capaz de detectar cualquier tipo de correlación entre dos variables es la [información mutua](https://es.wikipedia.org/wiki/Informaci%C3%B3n_mutua), la cual de paso nos introduce al interesante mundo de la Teoría de la Información."
      ]
    },
    {
      "cell_type": "markdown",
      "metadata": {
        "id": "LBuQhNjVgYyr"
      },
      "source": [
        "# Dos grandes teoremas\n",
        "\n",
        "Para terminar la clase, veamos rápidamente dos teoremas fundamentales de la Teoría de Probabilidades."
      ]
    },
    {
      "cell_type": "markdown",
      "metadata": {
        "id": "yZp0F-dzzt32"
      },
      "source": [
        "## Ley de los Grandes Números\n",
        "\n",
        "La Ley de los Grandes Números dice, básicamente, que a medida que tomamos más y más muestras de una distribución de probabilidad, el promedio de estas muestras se parece más y más a la esperanza de la distribución. Pero pensemos un momento cómo formalizar esto, y así arribar al enunciado formal del teorema. Si bien dicho así suena fácil, este resultado habla de la convergencia de una variable aleatoria. De hecho hay varias versiones del teorema, cada uno correspondiente a una manera distinta de formalizar la idea que acabamos de esbozar.\n",
        "\n",
        "Lo primero que tenemos que notar es que \"tomar la muestra número $1$\" es en sí mismo un experimento aleatorio. Al fin y al cabo, si el resultado de tomar la primera muestra fuera determinístico, no habría ninguna probabilidad involucrada. Es decir que si llamamos $f$ a la distribución que estamos sampleando, la primera muestra va a corresponder a una v.a. $X_1 \\sim f$. Pero lo mismo va a pasar con la segunda: $X_2 \\sim f$, y así siguiendo. Es decir que en primera instancia, tenemos una cantidad $n$ de variables aleatorias\n",
        "\n",
        "$$X_1, X_2, \\dots X_n \\sim f$$\n",
        "\n",
        "independientes e idénticamente distribuidas. Este número de muestras $n$ es el que va a tender a infinito.\n",
        "\n",
        "Por otro lado, tenemos que promediar las $n$ muestras. Esto corresponde a hacer la cuenta\n",
        "\n",
        "$$ \\overline{X}_n = \\frac{X_1 + \\dots + X_n}{n}.$$\n",
        "\n",
        "Noten que esta es una nueva variable aleatoria $\\overline{X}_n$, cuya distribución en principio *no es* $f$, y que representa el resultado de hacer el promedio de todas las muestras. De nuevo, es una variable aleatoria porque cada vez que tomemos $n$ muestras y les calculemos el promedio, vamos a obtener un número distinto (adelanto de Estadística: $\\overline{X}_n$ es lo que se denomina un *estadístico*: una cantidad que podemos calcular exclusivamente a partir de nuestros datos).\n",
        "\n",
        "Veamos qué tenemos hasta ahora: para cada $n$, tenemos una variable aleatoria $\\overline{X}_n$. Es decir, se trata de una sucesión infinita de variables aleatorias. Lo que queríamos decir es que a medida que $n$ crece, $\\overline{X}_n$ se parece cada vez más a la esperanza de la distribución $f$, que podemos llamar $\\mu$ (noten que $\\mu$ es la esperanza de cada una de las $X_i$ por separado).\n",
        "\n",
        "Ahora sí estamos en condiciones de formular una de las variantes de la Ley de los Grandes Números (que se suele llamar la versión *débil*):\n",
        "\n",
        "$$ \\forall \\varepsilon > 0 \\quad {\\displaystyle \\lim _{n\\rightarrow \\infty }\\text{Pr} \\left(\\left|{\\overline {X}}_{n}-\\mu \\right|<\\varepsilon \\right)=1}$$\n",
        "\n",
        "Es decir: para cualquier número $\\varepsilon > 0$, por más chiquito que sea, siempre hay un número de muestras $n$ a partir del cual la probabilidad de que $\\overline{X}_n$ y $\\mu$ difieran en menos de $\\varepsilon$ es prácticamente $1$.\n",
        "\n",
        "Veamos a la Ley de los Grandes Números en acción con nuestro ejemplo de siempre: la tirada de un dado de seis caras."
      ]
    },
    {
      "cell_type": "code",
      "execution_count": 25,
      "metadata": {
        "colab": {
          "base_uri": "https://localhost:8080/",
          "height": 299
        },
        "id": "irmcmX4azt33",
        "outputId": "26519beb-3f17-43a3-c9de-28009f90d933"
      },
      "outputs": [
        {
          "data": {
            "image/png": "[encoded data removed]",
            "text/plain": [
              "<Figure size 432x288 with 1 Axes>"
            ]
          },
          "metadata": {
            "needs_background": "light"
          },
          "output_type": "display_data"
        }
      ],
      "source": [
        "resultados = []\n",
        "for lanzamientos in range(1,10000):\n",
        "    lanzamientos = np.random.randint(1, 7, size=lanzamientos)\n",
        "    promedio_hasta_ahora = lanzamientos.mean()\n",
        "    resultados.append(promedio_hasta_ahora)\n",
        "\n",
        "plt.plot(resultados)\n",
        "plt.title('Ley de grandes números')\n",
        "plt.axhline(3.5)\n",
        "plt.xlabel(r\"$n$ (Número de lanzamientos)\")\n",
        "plt.ylabel(r\"$\\overline{X}_n$ (Promedio muestral)\")\n",
        "plt.show()"
      ]
    },
    {
      "cell_type": "markdown",
      "metadata": {
        "id": "PzYbNZnmzt33"
      },
      "source": [
        "\n",
        "***\n",
        "\n",
        "Volviendo a nuestro entendimiento inicial de qué era la probabilidad a partir de realizar un experimento muchas veces (en particular con un generador de números aleatorios), el hecho de que la teoría matemática permita demostrar esta Ley es una buena justificación para la propia teoría. La Ley de los Grandes Números muestra que las abstracciones matemáticas desarrolladas capturaron correctamente el fenómeno que nos disponíamos a describir. De hecho, [puede demostrarse](https://www.win.tue.nl/~rmcastro/2WS17/files/ecdf_hist.pdf) que el histograma realizado con $n$ muestras converge probabilísticamente a la densidad de probabilidad de la distribución cuando $n$ tiende a infinito."
      ]
    },
    {
      "cell_type": "markdown",
      "metadata": {
        "id": "lP-k0u1_NhKr"
      },
      "source": [
        "# Teorema del Límite Central"
      ]
    },
    {
      "cell_type": "markdown",
      "metadata": {
        "id": "xMeeZ5Oozt34"
      },
      "source": [
        "El Teorema del Límite Central (o Teorema Central del Límite) también nos habla de qué pasa en un cierto límite, pero la diferencia ahora es que ese límite no es necesariamente el de muchos *datos*, sino que también aplica cuando el proceso que genera nuestros datos es el resultado de una suma de muchísimos procesos pequeños. El Teorema nos dice que, bajo condiciones muy generales, si $S_n$ es la suma de $n$ variables aleatorias independientes, con esperanza y varianza finita, entonces la distribución de $S_n$ converge a una distribución normal.\n",
        "\n",
        "Para variar, veamos este teorema en acción partiendo de una distribución continua uniforme en el intervalo $[0, 1]$, $U(0, 1)$, implementada en `scipy.stats` como `scipy.stats.uniform`. Si tomamos $n$ muestras de esta distribución, el resultado estará en el intervalo $[0, n]$. Para cada $n$, realizamos una simulación de Monte Carlo que nos muestra una aproximación de la distribución de probabilidad de $S_n = X_1 + X_2 + \\dots + X_n$ donde $X_1, \\dots X_n \\sim U(0,1)$."
      ]
    },
    {
      "cell_type": "code",
      "execution_count": 26,
      "metadata": {
        "colab": {
          "base_uri": "https://localhost:8080/",
          "height": 369
        },
        "id": "kWg107JaO9OQ",
        "outputId": "c2f81a18-3b5e-4033-be70-f63b2790c95a"
      },
      "outputs": [
        {
          "data": {
            "image/png": "[encoded data removed]",
            "text/plain": [
              "<Figure size 720x360 with 10 Axes>"
            ]
          },
          "metadata": {
            "needs_background": "light"
          },
          "output_type": "display_data"
        }
      ],
      "source": [
        "n = 10\n",
        "samples = st.uniform.rvs(size=(100000, n))\n",
        "fig, axes = plt.subplots(2, 5, figsize=(10, 5)) # solo funciona con n=10\n",
        "axes = axes.flatten()\n",
        "for i in range(n):\n",
        "    s_n = np.sum(samples[:,:i+1], axis=1)\n",
        "    axes[i].hist(s_n, bins=50)\n",
        "fig.tight_layout()\n"
      ]
    },
    {
      "cell_type": "markdown",
      "metadata": {
        "id": "7nAQRJ7Fzt35"
      },
      "source": [
        "Experimentalmente, muchas veces vamos a ver que con $n$ bastante chico, \"a ojo\" la distribución ya se parece mucho a una gaussiana.\n",
        "\n",
        "En este caso, lo que vemos queda comprendido por la siguiente versión del Teorema (hay versiones más fuertes): sean $X_1, \\dots X_n$ variables aleatorias independientes con esperanzas $\\mathbb{X_i} = \\mu_i$, no necesariamente iguales, pero todas con igual varianza $\\sigma^2$. Sea $S_n = X_1 + \\dots + X_n$.Entonces en el límite de $n \\to \\infty$, la variable\n",
        "$$Z_n = \\frac{S_n - \\sum_i \\mu_i}{\\sqrt{n} \\sigma}$$\n",
        "converge (como función) a la distribución $\\mathcal{N}(0, 1)$.\n",
        "\n",
        "Esto quiere decir que $S_n$ se parece cada vez más a $\\mathcal{N}(\\sum_i \\mu_i, \\sigma)$.\n",
        "\n",
        "En particular, podemos revisitar la situación de la Ley de los Grandes Números: como $\\overline{X}_n = S_n / n$, y en aquel caso teníamos $\\mu_i = \\mu$ constante, a medida que $n$ crece, la distribución de $\\overline{X}_n$ va haciéndose cada vez más parecida a $\\mathcal{N}(\\mu, \\sigma/\\sqrt{n})$. Es decir que la probabilidad de la distribución se va concentrando más y más alrededor de $\\mu$ (dado que la dispersión estándar de la distribución va achicándose como $1/\\sqrt{n}$.\n",
        "***\n",
        "\n",
        "El Teorema del Límite Central es la explicación de por qué tantos procesos en el mundo real siguen distribuciones gaussianas. No importa si las variables que estamos sumando originalmente son gaussianas o no: si muchos efectos distintos pero pequeños se van sumando para dar una variable final, la distribución de dicha variable será gaussiana (aunque no hay que confiarse demasiado: algunos procesos realmente *no* son gaussianos)."
      ]
    },
    {
      "cell_type": "markdown",
      "metadata": {
        "id": "8jcdABwGJ1nW"
      },
      "source": [
        "# Material Complementario\n",
        "\n",
        "* **Enfoques frecuentista y bayesiano**\n",
        "  * El Teorema de Bayes admite una interpretación increíblemente importante que no mencionamos en la clase, y en la cual se basan todos los métodos bayesianos. La idea es pensar al teorema de Bayes como una fórmula que permite *actualizar* nuestro conocimiento, representado por una distribución, en base a nuevos datos observados. Hacer esto introduce el problema del *prior* bayesiano, que tampoco llegamos a mencionar en absoluto. Para una breve introducción a estos temas pueden leer la primera sección de [estas notas](https://tereom.github.io/fundamentos/introducci%C3%B3n-a-inferencia-bayesiana-1.html) del curso de Estadística dictado por Teresa Ortiz, Alfredo Garbuno, y Felipe González en el Instituto Tecnológico Autónomo de México.\n",
        "  * Todos los conceptos fundamentales que vimos pueden reinterpretarse desde un punto de vista bayesiano. [Aquí](http://www.workinginuncertainty.co.uk/probtheory_axioms.shtml) encontrarán una tabla comparativa muy buena (en inglés) que ilustra cómo podríamos haber dado toda esta clase pero con un vocabulario bayesiano en vez de frecuentista.\n",
        "  * En [este breve post](https://www.netquest.com/blog/es/blog/es/bayesianos-contra-frecuentistas) de Carlos Ochoa pueden leer un poco más sobre el \"conflicto\" entre los enfoques frecuentista y bayesiano.\n",
        "  * Así como en esta clase introdujimos la axiomatización clásica de la teoría de probabilidades, también son posibles algunas axiomatizaciones bayesianas. En [este hilo](https://stats.stackexchange.com/questions/126056/do-bayesians-accept-kolmogorovs-axioms) (en inglés) pueden encontrar una discusión muy interesante al respecto (allí, se refieren a la axiomatización clásica como \"axiomas de Kolmogorov\"). El resultado más clásico en este área se conoce como [Teorema de Cox](https://en.wikipedia.org/wiki/Cox%27s_theorem).\n",
        "* **Teoría de la Información**:\n",
        "  * Les comparto un [post](\n",
        "https://jeremykun.com/2015/02/16/a-proofless-introduction-to-information-theory/)(en inglés) del blog de Jeremy Kun donde se introducen las ideas básicas de la Teoría de la Información.\n",
        "  * Si bien Jeremy no introduce la información mutua en su post, pueden leer sobre ella en [su entrada de Wikipedia](https://es.wikipedia.org/wiki/Informaci%C3%B3n_mutua).\n",
        "* **Números aleatorios y pseudoaleatorios**\n",
        "  * Quizás alguna vez escucharon decir que los números aleatorios que genera Python no son realmente aleatorios, sino que son *pseudoaleatorios*. Esto es totalmente cierto. Pueden leer una introducción a este tema en [estas notas](https://tereom.github.io/est-computacional-2018/numeros-pseudoaleatorios.html) de otro curso de María Teresa Ortiz en el Instituto Tecnológico Autónomo de México. En particular, esto les va a servir para entender (por ejemplo) que es lo que pasa cuando utilizan la función `numpy.random.seed`, que permite \"congelar\" los números aleatorios de nuestro Jupyter Notebook para que siempre salgan iguales (lo cual es útil cuando se busca controlar al máximo la reproducibilidad de los resultados obtenidos).\n",
        "* Para repasar probabilidades condicionales pueden leer [este otro post de Jeremy Kun](https://jeremykun.com/2013/03/28/conditional-partitioned-probability-a-primer/) (en inglés). Todo su blog es altamente recomendable.\n",
        "* Sobre la convergencia del histograma empírico a la distribución de probabilidad subyacente: [The Empirical Distribution Function and the\n",
        "Histogram](https://www.win.tue.nl/~rmcastro/2WS17/files/ecdf_hist.pdf), notas de Rui Castro sobre notas de Eduard Belitser (avanzado, solo para ser hojeado por valientes). "
      ]
    }
  ],
  "metadata": {
    "colab": {
      "collapsed_sections": [],
      "name": "introduccion_probabilidad.ipynb",
      "provenance": []
    },
    "interpreter": {
      "hash": "b12bd75ef3c5e92f16e5bbc782cfb62df30db66b3baac38db6d2bdb0f7ef49fe"
    },
    "kernelspec": {
      "display_name": "Python 3.10.4 ('clase-proba-ihumai')",
      "language": "python",
      "name": "python3"
    },
    "language_info": {
      "codemirror_mode": {
        "name": "ipython",
        "version": 3
      },
      "file_extension": ".py",
      "mimetype": "text/x-python",
      "name": "python",
      "nbconvert_exporter": "python",
      "pygments_lexer": "ipython3",
      "version": "3.10.4"
    }
  },
  "nbformat": 4,
  "nbformat_minor": 0
}
