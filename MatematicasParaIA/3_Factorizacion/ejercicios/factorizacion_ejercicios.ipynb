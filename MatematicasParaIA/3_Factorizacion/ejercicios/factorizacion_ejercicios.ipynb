{
  "cells": [
    {
      "cell_type": "markdown",
      "metadata": {},
      "source": [
        "<a href=\"https://colab.research.google.com/github/institutohumai/cursos-python/blob/master/MatematicasParaIA/3_Factorizacion/ejercicios/factorizacion_ejercicios.ipynb\"> <img src='https://colab.research.google.com/assets/colab-badge.svg' /> </a>"
      ]
    },
    {
      "cell_type": "markdown",
      "metadata": {
        "id": "UjTMxptpbw1c"
      },
      "source": [
        "# Factorización de matrices"
      ]
    },
    {
      "cell_type": "markdown",
      "metadata": {},
      "source": [
        "\n",
        "### Ejercicios\n",
        "\n",
        "Basándonos en los contenidos vistos en la clase teórica, usaremos las representaciones matriciales de las transfomaciones lineales pero aplicadas a $R^3$.\n",
        "\n",
        "E.1. Generar una transformación lineal sobre el espacio vectorial de $R^3$ representada por una matriz que implique i) una expansión con un escalar de 2 en el eje 'y' y un escalar de 3 en el eje 'z' seguida de ii) una proyección en el eje 'x' e 'y'. Calcular los autovalores y autovectores (utilizando las funciones vistas).\n",
        "\n",
        "E.2. Generar una transformación lineal sobre el espacio vectorial de $R^3$ representada por una matriz que implique i) una proyección sobre los ejes x e y seguida de ii) una rotación de 60 grados en el plano xz. Calcular los autovalores y autovectores (utilizando las funciones vistas).\n",
        "\n",
        "Utilizar las siguientes matrices de rotación en $R^3$ en caso de neceistarlas\n",
        "\n",
        "$$M_{yz} = \\begin{bmatrix}1 &  0 &  0\\\\0 & cos(\\phi) & -sen(\\phi)\\\\ 0 &  sen(\\phi) & cos(\\phi) \\end{bmatrix}$$\n",
        "\n",
        "$$M_{xz} = \\begin{bmatrix}cos(\\phi) &  0 &  sen(\\phi)\\\\0 & 1 & 0\\\\ -sen(\\phi) & 0 & cos(\\phi) \\end{bmatrix}$$\n",
        "\n",
        "$$M_{xy} = \\begin{bmatrix}cos(\\phi) &  -sen(\\phi) &  0\\\\sen(\\phi) & cos(\\phi) & 0\\\\ 0 &  0 & 1 \\end{bmatrix}$$\n",
        "\n",
        "3. Graficar la acción de las trasnformaciones lineales de los puntos anteriores sobre cada vector unitrio con componente en 'x', 'y' y 'z'\n",
        "\n",
        "4. Dada la siguiente matriz:\n",
        "$$M = \\begin{bmatrix}-0.27 &  1.36 &  0.90\\\\0.72 & -2.63 & -1.09\\\\ 0.72 &  0.36 & -0.75 \\end{bmatrix}$$\n",
        "\n",
        "Hallar los autovectores y autovalores utilizando las funciones vistas en la clase teórica y construir su representación diagonal (usando la matriz de autovalores y las matrices de autovectores $X$ y $X^{-1}$"
      ]
    },
    {
      "cell_type": "markdown",
      "metadata": {},
      "source": []
    }
  ],
  "metadata": {
    "colab": {
      "name": "Práctica Factorización de matrices(Enunciados).ipynb",
      "provenance": []
    },
    "kernelspec": {
      "display_name": "Python 3",
      "name": "python3"
    },
    "language_info": {
      "name": "python"
    }
  },
  "nbformat": 4,
  "nbformat_minor": 0
}
