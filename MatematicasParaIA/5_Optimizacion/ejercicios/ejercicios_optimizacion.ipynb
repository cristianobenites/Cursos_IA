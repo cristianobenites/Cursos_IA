{
 "cells": [
  {
   "cell_type": "markdown",
   "metadata": {},
   "source": [
    "<a href=\"https://colab.research.google.com/github/institutohumai/cursos-python/blob/master/MatematicasParaIA/5_Optimizacion/ejercicios/ejercicios_optimizacion.ipynb\"> <img src='https://colab.research.google.com/assets/colab-badge.svg' /> </a>"
   ]
  },
  {
   "cell_type": "markdown",
   "metadata": {},
   "source": [
    "# Ejercicio 1: Método de la bisección\n",
    "\n",
    "Implementar el método de la bisección. Debe tomar como argumentos, la función a evaluar, el intervalo inicial, y los criterios de corte. Debe devolver el valor  hallado.\n",
    "\n",
    "Recordar que la formulación del método tiene como objetivo encontrar $\\color{orange}{x}$ que iguale a cero una ecuación.\n",
    "\n",
    "Hint: usar como base el pseudocódigo provisto en la teórica\n",
    "\n",
    "<center>\n",
    "<img src=\"http://www.frsn.utn.edu.ar/gie/an/enl/Metodobiseccion.gif\">\n",
    "</center>"
   ]
  },
  {
   "cell_type": "code",
   "execution_count": null,
   "metadata": {},
   "outputs": [],
   "source": [
    "# completa tu codigo aca\n",
    "\n",
    "def bisection(f, interval0, MAXITER, TOL):\n",
    "    pass"
   ]
  },
  {
   "cell_type": "markdown",
   "metadata": {},
   "source": [
    "# Ejercicio 2:\n",
    "\n",
    "Usar el método de la bisección para resolver el siguiente problema \n",
    "\n",
    "$$\n",
    "\\color{orange}{x^6-4x^5+\\sin (x)-e^x+\\pi =0}\n",
    "$$\n",
    "\n",
    "Graficar la función en el intervalo $\\color{orange}{[-1,1]}$ y usar este intervalo como el inicial \n",
    "\n",
    "Usar `numpy`  y `matplotlib`.\n"
   ]
  },
  {
   "cell_type": "code",
   "execution_count": null,
   "metadata": {},
   "outputs": [],
   "source": [
    "# completa tu código acá\n"
   ]
  },
  {
   "cell_type": "markdown",
   "metadata": {},
   "source": [
    "# Ejercicio 3\n",
    "\n",
    "Modificar el método `fit` de la clase `LinearRegression` para poder guardar el historial del valores de la función error. Graficar el error en función del tiempo.\n"
   ]
  },
  {
   "cell_type": "code",
   "execution_count": 216,
   "metadata": {},
   "outputs": [],
   "source": [
    "# completa tu código acá\n",
    "\n",
    "class LinearRegression:\n",
    "    def __init__(self, add_bias=True): \n",
    "        self.add_bias = add_bias #el bias es la constante de nuestro modelo lineal\n",
    "        pass\n",
    "            \n",
    "    def fit(self, x, y, optimizer):\n",
    "        \n",
    "        if self.add_bias:\n",
    "            N = x.shape[0]\n",
    "            x = np.column_stack([x,np.ones(N)]) \n",
    "        \n",
    "        N,D = x.shape\n",
    "        \n",
    "        def gradient(x, y, betas):                          \n",
    "            yh =  x @ betas # la operación calcula el producto matricial\n",
    "            N, D = x.shape \n",
    "            grad = -2*np.dot(y-yh, x)/N\n",
    "            return grad\n",
    "        \n",
    "        betas0 = np.zeros(D) #betas iniciales                                \n",
    "        self.betas = optimizer.run(gradient, x, y, betas0) #corremos el optimizador  \n",
    "        \n",
    "        #####\n",
    "        \n",
    "        def MSE(y,yh):\n",
    "            e = (y-yh)**2\n",
    "            return np.mean(e)\n",
    "        \n",
    "        def get_error_history(x,y,history_betas):\n",
    "            error_history = []\n",
    "            for betas in history_betas:\n",
    "                yh = x@betas\n",
    "                error_history.append(MSE(y,yh))\n",
    "            return error_history\n",
    "        \n",
    "        self.error_history = get_error_history(x,y,optimizer.w_history)        \n",
    "        \n",
    "        return self\n",
    "    \n",
    "    def predict(self, x):\n",
    "        if self.add_bias: \n",
    "            N = x.shape[0]\n",
    "            x = np.column_stack([x,np.ones(N)])\n",
    "        yh = x@self.betas\n",
    "        return yh"
   ]
  },
  {
   "cell_type": "code",
   "execution_count": 215,
   "metadata": {},
   "outputs": [],
   "source": [
    "# esta celda permanece igual \n",
    "\n",
    "\n",
    "class GradientDescent:\n",
    "        \n",
    "    def __init__(self, learning_rate=.001, max_iters=1e4, epsilon=1e-8, record_history=False):\n",
    "        \n",
    "        \"\"\"\n",
    "        Inicializador\n",
    "        \n",
    "        Parámetros\n",
    "        ----------\n",
    "        learning_rate (float, opcional): Ritmo de aprendizaje. Default a .001\n",
    "        max_iters (int, opcional): Máximas iteraciones. Default a 1E4.\n",
    "        epsilon (float, opcional): Cóta mínimma para el valor del gradiente permitido. Default a 1E-8\n",
    "        record_history (bool, opcional): Si es True guarda el historial de los pesos para cada paso de iteración. Default a False\n",
    "        \"\"\"\n",
    "        \n",
    "        self.learning_rate = learning_rate\n",
    "        self.max_iters = max_iters\n",
    "        self.record_history = record_history\n",
    "        self.epsilon = epsilon\n",
    "        if record_history:\n",
    "            self.w_history = []                 \n",
    "            \n",
    "    def run(self, gradient_fn, x, y, w):\n",
    "        \"\"\"\n",
    "        Método iterativo de gradiente descendiente. \n",
    "        \n",
    "        Parámetros\n",
    "        ----------\n",
    "        gradient_fn (function): gradiente de la función costo a minimizar. Debe tomar como parámetros x,y y los pesos correspondientes.\n",
    "        x (numpy.ndarray): variables independientes del conjunto de datos.\n",
    "        y (numpy.ndarray): variables dependientes observadas\n",
    "        w (numpy.ndarray): variables a entrenar del modelo \n",
    "\n",
    "        Devuelve\n",
    "        --------\n",
    "            w (numpy.ndarray): variables resultaantes luego del proceso de entrenamiento.\n",
    "        \"\"\"\n",
    "        \n",
    "        grad = np.inf # definimos el gradiente como infinito para que se cumpla la condicion y se ingresse al while\n",
    "        t = 1 # contador\n",
    "        while np.linalg.norm(grad) > self.epsilon and t < self.max_iters: #linalg.norm calcula la norma  L2 del vector gradiente\n",
    "            grad = gradient_fn(x, y, w) #calculamos el gradiente               \n",
    "            w = w - self.learning_rate * grad #acá esta la papa        \n",
    "            if self.record_history: \n",
    "                self.w_history.append(w)\n",
    "            t += 1\n",
    "        return w\n"
   ]
  },
  {
   "cell_type": "code",
   "execution_count": 219,
   "metadata": {},
   "outputs": [
    {
     "data": {
      "image/png": "[encoded data removed]",
      "text/plain": [
       "<Figure size 504x504 with 1 Axes>"
      ]
     },
     "metadata": {},
     "output_type": "display_data"
    }
   ],
   "source": [
    "b0_true = 5\n",
    "b1_true = 0.7\n",
    "x_rl = np.linspace(-1,1,100)\n",
    "y_rl = x_rl*b1_true + b0_true + np.random.random(x_rl.shape)\n",
    "\n",
    "optimizer = GradientDescent(learning_rate=.05, max_iters=100, record_history=True) \n",
    "model = LinearRegression() #inicializamos nuestro objeto regresion \n",
    "model.fit(x_rl,y_rl, optimizer) #entrenamos el modelo\n",
    "\n",
    "_ = plt.figure(figsize=(7,7))\n",
    "\n",
    "#completar el plot\n",
    "# _ = plt.plot(..., '.')\n",
    "\n",
    "_ = plt.ylabel('MSE', fontsize=14)\n",
    "_ = plt.xlabel(\"Número de Iteración\")"
   ]
  },
  {
   "cell_type": "markdown",
   "metadata": {},
   "source": [
    "# Ejercicio 4\n",
    "\n",
    "Modificar el método  `run` de la clase `GradientDescent` para guardar el valor del gradiente en cada paso del entrenamiento. Graficar la evolución del mismo."
   ]
  },
  {
   "cell_type": "code",
   "execution_count": null,
   "metadata": {},
   "outputs": [],
   "source": [
    "# completa tu código acá\n",
    "\n",
    "class GradientDescent:\n",
    "        \n",
    "    def __init__(self, learning_rate=.001, max_iters=1e4, epsilon=1e-8, record_history=False):\n",
    "        \n",
    "        \"\"\"\n",
    "        Inicializador\n",
    "        \n",
    "        Parámetros\n",
    "        ----------\n",
    "        learning_rate (float, opcional): Ritmo de aprendizaje. Default a .001\n",
    "        max_iters (int, opcional): Máximas iteraciones. Default a 1E4.\n",
    "        epsilon (float, opcional): Cóta mínimma para el valor del gradiente permitido. Default a 1E-8\n",
    "        record_history (bool, opcional): Si es True guarda el historial de los pesos para cada paso de iteración. Default a False\n",
    "        \"\"\"\n",
    "        \n",
    "        self.learning_rate = learning_rate\n",
    "        self.max_iters = max_iters\n",
    "        self.record_history = record_history\n",
    "        self.epsilon = epsilon\n",
    "        if record_history:\n",
    "            self.w_history = []\n",
    "            \n",
    "    def run(self, gradient_fn, x, y, w):\n",
    "        \"\"\"\n",
    "        Método iterativo de gradiente descendiente. \n",
    "        \n",
    "        Parámetros\n",
    "        ----------\n",
    "        gradient_fn (function): gradiente de la función costo a minimizar. Debe tomar como parámetros x,y y los pesos correspondientes.\n",
    "        x (numpy.ndarray): variables independientes del conjunto de datos.\n",
    "        y (numpy.ndarray): variables dependientes observadas\n",
    "        w (numpy.ndarray): variables a entrenar del modelo \n",
    "\n",
    "        Devuelve\n",
    "        --------\n",
    "            w (numpy.ndarray): variables resultaantes luego del proceso de entrenamiento.\n",
    "        \"\"\"\n",
    "        \n",
    "        grad = np.inf # definimos el gradiente como infinito para que se cumpla la condicion y se ingresse al while\n",
    "        t = 1 # contador\n",
    "        while np.linalg.norm(grad) > self.epsilon and t < self.max_iters: #linalg.norm calcula la norma  L2 del vector gradiente\n",
    "            grad = gradient_fn(x, y, w) #calculamos el gradiente               \n",
    "            w = w - self.learning_rate * grad #acá esta la papa        \n",
    "            if self.record_history: \n",
    "                self.w_history.append(w)\n",
    "            t += 1\n",
    "        return w\n"
   ]
  },
  {
   "cell_type": "code",
   "execution_count": null,
   "metadata": {},
   "outputs": [],
   "source": [
    "b0_true = 5\n",
    "b1_true = 0.7\n",
    "x_rl = np.linspace(-1,1,100)\n",
    "y_rl = x_rl*b1_true + b0_true + np.random.random(x_rl.shape)\n",
    "\n",
    "optimizer = GradientDescent(learning_rate=.05, max_iters=100, record_history=True) \n",
    "model = LinearRegression() #inicializamos nuestro objeto regresion \n",
    "model.fit(x_rl,y_rl, optimizer) #entrenamos el modelo\n",
    "\n",
    "_ = plt.figure(figsize=(7,7))\n",
    "\n",
    "#completa tu código aca para graficar\n",
    "# _ = plt.plot(...  , '.')\n",
    "\n",
    "_ = plt.ylabel('Norma del gradiente', fontsize=14)\n",
    "_ = plt.xlabel(\"Número de Iteración\")"
   ]
  },
  {
   "cell_type": "markdown",
   "metadata": {},
   "source": [
    "# Ejercicio 5\n",
    "\n",
    "Implementar  un método que determine si la figura geométrica de un disco de radio 1 es convexa.\n"
   ]
  },
  {
   "cell_type": "markdown",
   "metadata": {},
   "source": [
    "### Paso 1\n",
    "\n",
    "Implementar una función que permita determinar si un punto pertenece al conjunto definido como Disco.\n",
    "\n",
    "$$\n",
    "\\color{orange}{D = \\{(x,y) \\ : \\ \\|(x,y)\\|_2 \\leq 1 \\}}\n",
    "$$\n"
   ]
  },
  {
   "cell_type": "code",
   "execution_count": null,
   "metadata": {},
   "outputs": [],
   "source": [
    "def in_disk(x, y, radius=1):\n",
    "    pass"
   ]
  },
  {
   "cell_type": "markdown",
   "metadata": {},
   "source": [
    "### Paso 2\n",
    "\n",
    "Implementar una función que dos puntos, y construya una recta (la recta va a ser una serie de puntos pertenecientes a la recta). \n"
   ]
  },
  {
   "cell_type": "code",
   "execution_count": 64,
   "metadata": {},
   "outputs": [],
   "source": [
    "# completa tu código acá\n",
    "\n",
    "def build_line(x1, y1, x2, y2, NUM_POINTS=100):\n",
    "    pass"
   ]
  },
  {
   "cell_type": "markdown",
   "metadata": {},
   "source": [
    "### Paso 3\n",
    "\n",
    "Implementar el método que chequee si los puntos pertenecientes a la recta pertenecen al conjunto disco. Usar puntos aleatorios asegurandose que caigan dentro de un círculo de radio 1. Esto es fácil usando coordenadas polares. Más info <a href=\"https://es.wikipedia.org/wiki/Coordenadas_polares\"> acá</a>"
   ]
  },
  {
   "cell_type": "code",
   "execution_count": 78,
   "metadata": {},
   "outputs": [],
   "source": [
    "# completa tu código acá\n",
    "def is_disk_convex(NUM_POINTS = 100):\n",
    "    pass"
   ]
  }
 ],
 "metadata": {
  "kernelspec": {
   "display_name": "Python 3 (ipykernel)",
   "language": "python",
   "name": "python3"
  },
  "language_info": {
   "codemirror_mode": {
    "name": "ipython",
    "version": 3
   },
   "file_extension": ".py",
   "mimetype": "text/x-python",
   "name": "python",
   "nbconvert_exporter": "python",
   "pygments_lexer": "ipython3",
   "version": "3.8.10"
  }
 },
 "nbformat": 4,
 "nbformat_minor": 4
}
