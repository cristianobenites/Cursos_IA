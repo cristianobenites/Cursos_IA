{
  "cells": [
    {
      "cell_type": "markdown",
      "metadata": {
        "id": "dUksQ39d6Ps0"
      },
      "source": [
        "<a href=\"https://colab.research.google.com/github/institutohumai/cursos-python/blob/master/MatematicasParaIA/8_Aprendizaje_Estadistico/Desigualdad_Hoeffding.ipynb\"><img src='https://colab.research.google.com/assets/colab-badge.svg'/></a>"
      ]
    },
    {
      "cell_type": "markdown",
      "metadata": {
        "id": "15L9Ic6hCfd_"
      },
      "source": [
        "# Desigualdades importantes (y útiles) en probabilidad"
      ]
    },
    {
      "cell_type": "markdown",
      "metadata": {
        "id": "PI9NE5e-hjjQ"
      },
      "source": [
        "- Markov\n",
        "- Chebyshev\n",
        "- Hoeffding"
      ]
    },
    {
      "cell_type": "markdown",
      "metadata": {
        "id": "tRuke5CSkHZh"
      },
      "source": [
        "# Markov\n",
        "Si $X$ v.a. no-negativa y $t>0$:\n",
        "\n",
        "$$ \\mathbb{P}(X \\geqslant t) \\leqslant \\dfrac{\\mathbb{E}[X]}{t} $$"
      ]
    },
    {
      "cell_type": "markdown",
      "metadata": {
        "id": "pMecExFrjnFQ"
      },
      "source": [
        "# Chebyshev\n",
        "\n",
        "Si $X$ con valor esperado finito y $\\sigma^{2} > 0$, para $t>0$:\n",
        "\n",
        "$$ \\mathbb{P}(|X-\\mathbb{E}[X]| \\geqslant t) \\leqslant \\dfrac{\\mathbb{E}[(X-\\mathbb{E}[X])^{2}]}{t^{2}} $$"
      ]
    },
    {
      "cell_type": "markdown",
      "metadata": {
        "id": "HWGpHwyzoUOU"
      },
      "source": [
        "# Hoeffding\n",
        "\n",
        "Si $X_1, X_2, ..., X_n$ variables aleatorias independientes t.q. $a_i \\leqslant X_i \\leqslant b_i$ casi seguramente, entonces:\n",
        "\n",
        "$$ \\mathbb{P}(|S_n - \\mathbb{E}[S_n] | \\geqslant t) \\leqslant 2 exp\\left(-\\dfrac{2t^2}{\\sum_{i=1}^{n}(b_i - a_i)^2}\\right) $$\n",
        "\n",
        "Versión para promedios:\n",
        "\n",
        "$$ \\mathbb{P}(|\\bar{X} - \\mathbb{E}[\\bar{X}] | \\geqslant t) \\leqslant 2 exp\\left(-\\dfrac{2t^2n^2}{\\sum_{i=1}^{n}(b_i - a_i)^2}\\right) $$\n",
        "donde $\\bar{X} = \\dfrac{1}{n}\\sum_{i=1}^{n} X_i$"
      ]
    },
    {
      "cell_type": "markdown",
      "metadata": {
        "id": "ZBFOjMH32XjC"
      },
      "source": [
        "Comparemos la 3 desigualdades con un pequeño ejemplo:\n",
        "\n",
        "# Sea $X$ v.a. Binomial, n=100 y $p=0.8$ \n",
        "\n",
        "Para el primer ejemplo veremos los valores que toman las desigualdades al tomar una sola variable."
      ]
    },
    {
      "cell_type": "code",
      "execution_count": null,
      "metadata": {
        "id": "jfabRKhkCbdD"
      },
      "outputs": [],
      "source": [
        "import numpy as np\n",
        "import random \n",
        "import matplotlib.pyplot as plt"
      ]
    },
    {
      "cell_type": "code",
      "execution_count": null,
      "metadata": {
        "id": "rZ6Z1jV1DaGR"
      },
      "outputs": [],
      "source": [
        "# Parámetros de la Binomial(n,p)\n",
        "n = 100\n",
        "p = 0.6"
      ]
    },
    {
      "cell_type": "code",
      "execution_count": null,
      "metadata": {
        "id": "tgizg15chdBL"
      },
      "outputs": [],
      "source": [
        "# Desigualdad de Markov\n",
        "t = 80\n",
        "\n",
        "markov = n*p/t\n",
        "markov"
      ]
    },
    {
      "cell_type": "code",
      "execution_count": null,
      "metadata": {
        "id": "R5bpssrrCag6"
      },
      "outputs": [],
      "source": [
        "las_t = list(range(1,101))\n",
        "las_markov = [n*p/a for a in las_t]\n",
        "\n",
        "plt.plot(las_t, las_markov)\n",
        "plt.title('Markov variando \"t\"')"
      ]
    },
    {
      "cell_type": "code",
      "execution_count": null,
      "metadata": {
        "id": "PlkSHuajhc_J"
      },
      "outputs": [],
      "source": [
        "# Chebyshev\n",
        "las_t = list(range(1,101))\n",
        "las_chebyshev = [n*p*(1-p)/(t*t) for t in las_t]\n",
        "\n",
        "plt.plot(las_t, las_chebyshev)\n",
        "plt.title('Chebyshev variando \"t\"')"
      ]
    },
    {
      "cell_type": "markdown",
      "metadata": {
        "id": "zkzLCpw6D4Bg"
      },
      "source": [
        "¿Son comparables los valores obtenidos con las desigualdades anteriores? ¿Porqué?"
      ]
    },
    {
      "cell_type": "code",
      "execution_count": null,
      "metadata": {
        "id": "YQme_3Auhc9B"
      },
      "outputs": [],
      "source": [
        "# Desigualdad de Hoeffding\n",
        "las_t = list(range(1,101))\n",
        "las_hoeffding = [2*np.exp(-2*t*t/(100)) for t in las_t]\n",
        "\n",
        "plt.plot(las_t, las_hoeffding)\n",
        "plt.title('Hoeffding variando \"t\"')"
      ]
    },
    {
      "cell_type": "markdown",
      "metadata": {
        "id": "GObv4YdHciVL"
      },
      "source": [
        "Comparativo para varios valores de $t$"
      ]
    },
    {
      "cell_type": "code",
      "execution_count": null,
      "metadata": {
        "id": "LvWbP8nBhc6G"
      },
      "outputs": [],
      "source": [
        "las_t = list(range(2,11))\n",
        "\n",
        "las_chebyshev = [n*p*(1-p)/(t*t) for t in las_t]\n",
        "las_hoeffding = [2*np.exp(-2*t*t/(100)) for t in las_t]\n",
        "\n",
        "plt.plot(las_t, las_hoeffding, label='hoeffding')\n",
        "plt.plot(las_t, las_chebyshev, label='chebyshev')\n",
        "plt.title('Hoeffding vs Chebyshev')\n",
        "plt.legend()"
      ]
    },
    {
      "cell_type": "markdown",
      "metadata": {
        "id": "kvk7WAWiclbT"
      },
      "source": [
        "# ¿Que poder tiene todo esto?"
      ]
    },
    {
      "cell_type": "markdown",
      "metadata": {
        "id": "zAl2XB7mcpyP"
      },
      "source": [
        "Problema: "
      ]
    },
    {
      "cell_type": "markdown",
      "metadata": {
        "id": "XZs1ZM1NfB5m"
      },
      "source": [
        "Uilizaremos el complemento de la desigualdad mencionada, si se cumple la Desigualdad de Hoeffding:\n",
        "\n",
        "$$ \\mathbb{P}(|\\bar{X} - \\mathbb{E}[\\bar{X}] | \\geqslant t) \\leqslant 2 e^{-2t^2n} $$\n",
        "\n",
        " Entonces también se cumple:\n",
        "\n",
        "$$ \\mathbb{P}(|\\bar{X} - \\mathbb{E}[\\bar{X}] | \\leqslant t) \\geqslant 1- 2 e^{-2t^2n} $$"
      ]
    },
    {
      "cell_type": "markdown",
      "metadata": {
        "id": "lVVu0GZVxwk4"
      },
      "source": [
        "Entonces, dado un valor de $t$ muy pequeño, queremos ver la cantidad de muestras necesarias para que el promedio de nuestra muestra se parezca al valor esperado de la muestra.\n",
        "\n",
        "Recordemos que por Ley de Grandes Números, el promedio de muestras se parece al valor esperado real de la variable aleatoria."
      ]
    },
    {
      "cell_type": "markdown",
      "metadata": {
        "id": "NTA0ona7yzhn"
      },
      "source": [
        "Usemos que:\n",
        "\n",
        "$$ 1 - 2 e^{-2t^2n} \\geqslant 1 - \\epsilon  ⇔ ϵ \\geqslant 2 e^{-2t^2n} $$\n",
        "\n",
        "lo que lleva a:\n",
        "\n",
        "$$ n \\geqslant \\dfrac{ln(2 / \\epsilon)}{2t^2} $$"
      ]
    },
    {
      "cell_type": "markdown",
      "metadata": {
        "id": "pHC2q01722md"
      },
      "source": [
        "Por lo que si queremos una precisión del 1% ($ \\epsilon = 0.01$) en la probabilidad y de 2% en la diferencia de promedio y valor esperado de promedio ($t = 0.02$), necesitamos $6623$ muestras aproximadamente."
      ]
    },
    {
      "cell_type": "code",
      "execution_count": null,
      "metadata": {
        "id": "Llh32_HXhc3y"
      },
      "outputs": [],
      "source": [
        "# Semilla para reproductibilidad si no la ponen , funcionará bien pero con otras simulaciones)\n",
        "np.random.seed(0)\n",
        "random.seed(0)\n",
        "# Creación de muestra con 10 millones de entradas, 3 millones de unos (pelotas blancas) y 7 millones de ceros (pelotas negras)\n",
        "\n",
        "total = 7000000 * [0] + 3000000 * [1]\n",
        "random.shuffle(total)"
      ]
    },
    {
      "cell_type": "code",
      "execution_count": null,
      "metadata": {
        "id": "Fo_pQpejhc1v"
      },
      "outputs": [],
      "source": [
        "# Parámetros a utilizar.\n",
        "t = 0.02\n",
        "eps = 0.01\n",
        "hoeffding_amount = int(np.ceil(np.log(2 / eps) / (2 * t ** 2)))\n",
        "print(f'Cantidad de muestras a tomar: {hoeffding_amount}')"
      ]
    },
    {
      "cell_type": "code",
      "execution_count": null,
      "metadata": {
        "id": "DQplL1oZhczT"
      },
      "outputs": [],
      "source": [
        "subsample = np.random.choice(total, size=hoeffding_amount, replace=True)\n",
        "print(subsample.mean())\n",
        "# Result: 0.30590366903216065"
      ]
    }
  ],
  "metadata": {
    "colab": {
      "collapsed_sections": [],
      "name": "semana1.2_Teoria_Estadistica_Desigualdad_Hoeffding.ipynb",
      "provenance": []
    },
    "kernelspec": {
      "display_name": "Python 3",
      "name": "python3"
    },
    "language_info": {
      "name": "python"
    }
  },
  "nbformat": 4,
  "nbformat_minor": 0
}
