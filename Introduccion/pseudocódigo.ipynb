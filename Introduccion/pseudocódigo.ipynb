{
 "cells": [
  {
   "cell_type": "markdown",
   "id": "73cdffdd-4b35-4f42-9d7c-e1f78c9b43af",
   "metadata": {},
   "source": [
    "<a href=\"https://colab.research.google.com/github/institutohumai/cursos-python/blob/neuro/NeuroIA/pseudocódigo.ipynb\"> <img src='https://colab.research.google.com/assets/colab-badge.svg' /> </a>\n",
    "    <div align=\"center\"> Recordá abrir en una nueva pestaña </div>"
   ]
  },
  {
   "cell_type": "markdown",
   "id": "544b4391-3f51-4b3c-b26e-b1e270613de8",
   "metadata": {},
   "source": [
    "# Pseudocódigo\n",
    "\n",
    "```\n",
    "dada una lista de DNIs de pacientes\n",
    "dada una lista vacia para edades\n",
    "dado un diccionario de DNIs y edades\n",
    "\n",
    "para cada paciente:\n",
    "    buscar en el diccionario la edad con su dni\n",
    "    y agregarlo a la lista de edades\n",
    "```"
   ]
  },
  {
   "cell_type": "code",
   "execution_count": 13,
   "id": "e32a417d-7eb9-47e7-888c-57e12c8f162e",
   "metadata": {},
   "outputs": [],
   "source": [
    "pacientes = ['38192831', '28381923']\n",
    "edades = []\n",
    "dnis_edades = {'31192833':20, \n",
    "               '38293104':22,\n",
    "               '38192831':23, \n",
    "               '28381923':34}\n",
    "\n",
    "# recorrer pacientes\n",
    "# agregar edades\n",
    "for dni in pacientes:\n",
    "    edad = dnis_edades[dni]\n",
    "    edades.append(edad)"
   ]
  },
  {
   "cell_type": "code",
   "execution_count": 14,
   "id": "e68204e5-e423-491f-94df-8c8a3564d5f5",
   "metadata": {},
   "outputs": [
    {
     "data": {
      "text/plain": [
       "[23, 34]"
      ]
     },
     "execution_count": 14,
     "metadata": {},
     "output_type": "execute_result"
    }
   ],
   "source": [
    "edades"
   ]
  }
 ],
 "metadata": {
  "kernelspec": {
   "display_name": "Python 3",
   "language": "python",
   "name": "python3"
  },
  "language_info": {
   "codemirror_mode": {
    "name": "ipython",
    "version": 3
   },
   "file_extension": ".py",
   "mimetype": "text/x-python",
   "name": "python",
   "nbconvert_exporter": "python",
   "pygments_lexer": "ipython3",
   "version": "3.8.8"
  }
 },
 "nbformat": 4,
 "nbformat_minor": 5
}
