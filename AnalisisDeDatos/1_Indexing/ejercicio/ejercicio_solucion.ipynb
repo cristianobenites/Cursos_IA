{
  "cells": [
    {
      "cell_type": "markdown",
      "metadata": {
        "id": "2-AVula0MvK8"
      },
      "source": [
        "<a href=\"https://colab.research.google.com/github/institutohumai/cursos-python/blob/master/AnalisisDeDatos/1_Indexing/ejercicio/ejercicio_solucion.ipynb\"> <img src='https://colab.research.google.com/assets/colab-badge.svg' /> </a>\n",
        "<div align=\"center\"> Recordá abrir en una nueva pestaña </div>\n",
        "\n",
        "\n",
        "Para este ejercicio vamos a importar un conjunto de datos con el listado de colegios públicos de Bogotá del año 2016"
      ]
    },
    {
      "cell_type": "markdown",
      "source": [
        "# Ejercicio I: base de Colegios de Bogotá."
      ],
      "metadata": {
        "id": "LPYG850vM4LR"
      }
    },
    {
      "cell_type": "code",
      "execution_count": null,
      "metadata": {
        "id": "rAD3x2WMMvK9"
      },
      "outputs": [],
      "source": [
        "import pandas as pd\n",
        "import numpy as np"
      ]
    },
    {
      "cell_type": "code",
      "execution_count": null,
      "metadata": {
        "id": "e-GeDWXsMvK9"
      },
      "outputs": [],
      "source": [
        "df_colegios = pd.read_csv('https://www.datos.gov.co/api/views/qijw-htwa/rows.csv?accessType=DOWNLOAD')"
      ]
    },
    {
      "cell_type": "markdown",
      "metadata": {
        "id": "zMKPtDY-MvK9"
      },
      "source": [
        "¿Cuáles son las columnas? ¿Cuántas filas tiene?"
      ]
    },
    {
      "cell_type": "code",
      "execution_count": null,
      "metadata": {
        "id": "faYJWCXgMvK-",
        "outputId": "bf647f3f-4b04-4a7a-efed-1de43a6361d4"
      },
      "outputs": [
        {
          "data": {
            "text/plain": [
              "Index(['año', 'secretaria', 'nombreestablecimiento', 'zona', 'direccion',\n",
              "       'telefono', 'nombre_Rector', 'tipo_Establecimiento', 'etnias', 'sector',\n",
              "       'genero', 'niveles', 'jornadas', 'caracter', 'especialidad', 'grados',\n",
              "       'modelos_Educativos', 'capacidades_Excepcionales', 'discapacidades',\n",
              "       'idiomas', 'numero_de_Sedes', 'estado', 'prestador_de_Servicio',\n",
              "       'propiedad_Planta_Fisica', 'resguardo', 'matricula_Contratada',\n",
              "       'calendario', 'internado', 'estrato_Socio_Economico',\n",
              "       'correo_Electronico'],\n",
              "      dtype='object')"
            ]
          },
          "execution_count": 3,
          "metadata": {},
          "output_type": "execute_result"
        }
      ],
      "source": [
        "df_colegios.columns"
      ]
    },
    {
      "cell_type": "code",
      "execution_count": null,
      "metadata": {
        "id": "zv_ovulcMvK-",
        "outputId": "431e168d-87b5-41e6-8df8-8ea10b5d0988"
      },
      "outputs": [
        {
          "data": {
            "text/plain": [
              "(2404, 30)"
            ]
          },
          "execution_count": 8,
          "metadata": {},
          "output_type": "execute_result"
        }
      ],
      "source": [
        "df_colegios.shape"
      ]
    },
    {
      "cell_type": "markdown",
      "metadata": {
        "id": "W13iqV9JMvK-"
      },
      "source": [
        "Seleccionen los colegios donde la propiedad de la planta física sea de una persona natural o comunidad religiosa."
      ]
    },
    {
      "cell_type": "code",
      "execution_count": null,
      "metadata": {
        "id": "bGh-vaXiMvK-"
      },
      "outputs": [],
      "source": [
        "df_selec=df_colegios[(df_colegios[\"propiedad_Planta_Fisica\"]==\"PERSONA NATURAL\")|(df_colegios[\"propiedad_Planta_Fisica\"]==\"COMUNIDAD RELIGIOSA\")]"
      ]
    },
    {
      "cell_type": "markdown",
      "metadata": {
        "id": "ZguyMl06MvK-"
      },
      "source": [
        "¿Hay alguno de estos colegios que sea para capacidades excepcionales?"
      ]
    },
    {
      "cell_type": "code",
      "execution_count": null,
      "metadata": {
        "id": "mXJ72yJeMvK-",
        "outputId": "5f5a5200-a6ab-4cc3-eba5-fc157a016e05"
      },
      "outputs": [
        {
          "data": {
            "text/html": [
              "<div>\n",
              "<style scoped>\n",
              "    .dataframe tbody tr th:only-of-type {\n",
              "        vertical-align: middle;\n",
              "    }\n",
              "\n",
              "    .dataframe tbody tr th {\n",
              "        vertical-align: top;\n",
              "    }\n",
              "\n",
              "    .dataframe thead th {\n",
              "        text-align: right;\n",
              "    }\n",
              "</style>\n",
              "<table border=\"1\" class=\"dataframe\">\n",
              "  <thead>\n",
              "    <tr style=\"text-align: right;\">\n",
              "      <th></th>\n",
              "      <th>año</th>\n",
              "      <th>secretaria</th>\n",
              "      <th>nombreestablecimiento</th>\n",
              "      <th>zona</th>\n",
              "      <th>direccion</th>\n",
              "      <th>telefono</th>\n",
              "      <th>nombre_Rector</th>\n",
              "      <th>tipo_Establecimiento</th>\n",
              "      <th>etnias</th>\n",
              "      <th>sector</th>\n",
              "      <th>...</th>\n",
              "      <th>numero_de_Sedes</th>\n",
              "      <th>estado</th>\n",
              "      <th>prestador_de_Servicio</th>\n",
              "      <th>propiedad_Planta_Fisica</th>\n",
              "      <th>resguardo</th>\n",
              "      <th>matricula_Contratada</th>\n",
              "      <th>calendario</th>\n",
              "      <th>internado</th>\n",
              "      <th>estrato_Socio_Economico</th>\n",
              "      <th>correo_Electronico</th>\n",
              "    </tr>\n",
              "  </thead>\n",
              "  <tbody>\n",
              "    <tr>\n",
              "      <th>263</th>\n",
              "      <td>2016</td>\n",
              "      <td>BOGOTA</td>\n",
              "      <td>COL CAMPESTRE MAXIMINO POITIERS               ...</td>\n",
              "      <td>URBANA</td>\n",
              "      <td>KR 92 148 51</td>\n",
              "      <td>6835013 / 6841539                             ...</td>\n",
              "      <td>KILIAN ALEXANDER ARENAS SANABRIA</td>\n",
              "      <td>INSTITUCION EDUCATIVA</td>\n",
              "      <td>AMORÚA</td>\n",
              "      <td>NaN</td>\n",
              "      <td>...</td>\n",
              "      <td>1</td>\n",
              "      <td>NaN</td>\n",
              "      <td>PERSONA NATURAL</td>\n",
              "      <td>PERSONA NATURAL</td>\n",
              "      <td>NO APLICA</td>\n",
              "      <td>NO</td>\n",
              "      <td>A</td>\n",
              "      <td>NaN</td>\n",
              "      <td>NaN</td>\n",
              "      <td>kilanarenas@hotmail.com                       ...</td>\n",
              "    </tr>\n",
              "    <tr>\n",
              "      <th>507</th>\n",
              "      <td>2016</td>\n",
              "      <td>BOGOTA</td>\n",
              "      <td>LIC VAL (VIDA-AMOR-LUZ)                       ...</td>\n",
              "      <td>URBANA</td>\n",
              "      <td>CL 71 C 51 31</td>\n",
              "      <td>2251109 -- 2401331 -- 2502167</td>\n",
              "      <td>LUZ ESPERANZA MORALES SARMIENTO</td>\n",
              "      <td>INSTITUCION EDUCATIVA</td>\n",
              "      <td>NaN</td>\n",
              "      <td>NaN</td>\n",
              "      <td>...</td>\n",
              "      <td>1</td>\n",
              "      <td>NaN</td>\n",
              "      <td>PERSONA NATURAL</td>\n",
              "      <td>PERSONA NATURAL</td>\n",
              "      <td>NO APLICA</td>\n",
              "      <td>NO</td>\n",
              "      <td>A</td>\n",
              "      <td>NaN</td>\n",
              "      <td>NaN</td>\n",
              "      <td>liceo.vida.amor.luz.2@gmail.com</td>\n",
              "    </tr>\n",
              "    <tr>\n",
              "      <th>1012</th>\n",
              "      <td>2016</td>\n",
              "      <td>BOGOTA</td>\n",
              "      <td>LIC ECOLOGICO DEL NORTE                       ...</td>\n",
              "      <td>URBANA</td>\n",
              "      <td>CR. 98A NO.156D-26</td>\n",
              "      <td>6822591 / 6839957                             ...</td>\n",
              "      <td>JULIA ALICIA PELAEZ CASTILLO</td>\n",
              "      <td>INSTITUCION EDUCATIVA</td>\n",
              "      <td>NaN</td>\n",
              "      <td>NaN</td>\n",
              "      <td>...</td>\n",
              "      <td>1</td>\n",
              "      <td>NaN</td>\n",
              "      <td>PERSONA NATURAL</td>\n",
              "      <td>PERSONA NATURAL</td>\n",
              "      <td>NO APLICA</td>\n",
              "      <td>NO</td>\n",
              "      <td>A</td>\n",
              "      <td>NaN</td>\n",
              "      <td>NaN</td>\n",
              "      <td>semillasverdes@hotmail.com                    ...</td>\n",
              "    </tr>\n",
              "    <tr>\n",
              "      <th>1367</th>\n",
              "      <td>2016</td>\n",
              "      <td>BOGOTA</td>\n",
              "      <td>GIMNASIO CAMPESTRE STEPHEN HAWKING</td>\n",
              "      <td>URBANA</td>\n",
              "      <td>KR 68 173 A 50</td>\n",
              "      <td>6718575 -- 3005581260</td>\n",
              "      <td>DORA ASTRID PARDO AVILA</td>\n",
              "      <td>INSTITUCION EDUCATIVA</td>\n",
              "      <td>NaN</td>\n",
              "      <td>NaN</td>\n",
              "      <td>...</td>\n",
              "      <td>1</td>\n",
              "      <td>NaN</td>\n",
              "      <td>PERSONA NATURAL</td>\n",
              "      <td>PERSONA NATURAL</td>\n",
              "      <td>NO APLICA</td>\n",
              "      <td>SI</td>\n",
              "      <td>A</td>\n",
              "      <td>NaN</td>\n",
              "      <td>NaN</td>\n",
              "      <td>gcstephenhawking@gmail.com</td>\n",
              "    </tr>\n",
              "    <tr>\n",
              "      <th>1964</th>\n",
              "      <td>2016</td>\n",
              "      <td>BOGOTA</td>\n",
              "      <td>COL JONATHAN SWIFT                            ...</td>\n",
              "      <td>URBANA</td>\n",
              "      <td>KR 90 163 30</td>\n",
              "      <td>6818191</td>\n",
              "      <td>DIANA J.  MARQUEZ S.</td>\n",
              "      <td>INSTITUCION EDUCATIVA</td>\n",
              "      <td>NaN</td>\n",
              "      <td>NaN</td>\n",
              "      <td>...</td>\n",
              "      <td>1</td>\n",
              "      <td>NaN</td>\n",
              "      <td>PERSONA NATURAL</td>\n",
              "      <td>PERSONA NATURAL</td>\n",
              "      <td>NO APLICA</td>\n",
              "      <td>NO</td>\n",
              "      <td>A</td>\n",
              "      <td>NaN</td>\n",
              "      <td>NaN</td>\n",
              "      <td>COLEGIOJONTHANSWIFT@YAHOO.COM.CO              ...</td>\n",
              "    </tr>\n",
              "    <tr>\n",
              "      <th>2282</th>\n",
              "      <td>2016</td>\n",
              "      <td>BOGOTA</td>\n",
              "      <td>COL CALATRAVA</td>\n",
              "      <td>URBANA</td>\n",
              "      <td>KR 80 156 95</td>\n",
              "      <td>6847860</td>\n",
              "      <td>CONSUELO VALDERRAMA MORALES</td>\n",
              "      <td>INSTITUCION EDUCATIVA</td>\n",
              "      <td>NaN</td>\n",
              "      <td>NaN</td>\n",
              "      <td>...</td>\n",
              "      <td>1</td>\n",
              "      <td>NaN</td>\n",
              "      <td>PERSONA NATURAL</td>\n",
              "      <td>PERSONA NATURAL</td>\n",
              "      <td>NO APLICA</td>\n",
              "      <td>NO</td>\n",
              "      <td>B</td>\n",
              "      <td>NaN</td>\n",
              "      <td>NaN</td>\n",
              "      <td>info@colegiocalatrava.edu.co - rectoria@colegi...</td>\n",
              "    </tr>\n",
              "    <tr>\n",
              "      <th>2341</th>\n",
              "      <td>2016</td>\n",
              "      <td>BOGOTA</td>\n",
              "      <td>INST DE PEDAG AUTOACTIVA DE GRUPOS (IPAG)     ...</td>\n",
              "      <td>URBANA</td>\n",
              "      <td>KR 8 C 183 32</td>\n",
              "      <td>6711029 -- 6701198</td>\n",
              "      <td>CARMEN TULIA CORDOBA ACOSTA</td>\n",
              "      <td>INSTITUCION EDUCATIVA</td>\n",
              "      <td>NaN</td>\n",
              "      <td>NaN</td>\n",
              "      <td>...</td>\n",
              "      <td>1</td>\n",
              "      <td>NaN</td>\n",
              "      <td>PERSONA NATURAL</td>\n",
              "      <td>PERSONA NATURAL</td>\n",
              "      <td>NO APLICA</td>\n",
              "      <td>NO</td>\n",
              "      <td>A</td>\n",
              "      <td>NaN</td>\n",
              "      <td>NaN</td>\n",
              "      <td>colegioipag@gmail.com</td>\n",
              "    </tr>\n",
              "  </tbody>\n",
              "</table>\n",
              "<p>7 rows × 30 columns</p>\n",
              "</div>"
            ],
            "text/plain": [
              "       año secretaria                              nombreestablecimiento  \\\n",
              "263   2016     BOGOTA  COL CAMPESTRE MAXIMINO POITIERS               ...   \n",
              "507   2016     BOGOTA  LIC VAL (VIDA-AMOR-LUZ)                       ...   \n",
              "1012  2016     BOGOTA  LIC ECOLOGICO DEL NORTE                       ...   \n",
              "1367  2016     BOGOTA                 GIMNASIO CAMPESTRE STEPHEN HAWKING   \n",
              "1964  2016     BOGOTA  COL JONATHAN SWIFT                            ...   \n",
              "2282  2016     BOGOTA                                      COL CALATRAVA   \n",
              "2341  2016     BOGOTA  INST DE PEDAG AUTOACTIVA DE GRUPOS (IPAG)     ...   \n",
              "\n",
              "        zona           direccion  \\\n",
              "263   URBANA        KR 92 148 51   \n",
              "507   URBANA       CL 71 C 51 31   \n",
              "1012  URBANA  CR. 98A NO.156D-26   \n",
              "1367  URBANA      KR 68 173 A 50   \n",
              "1964  URBANA        KR 90 163 30   \n",
              "2282  URBANA        KR 80 156 95   \n",
              "2341  URBANA       KR 8 C 183 32   \n",
              "\n",
              "                                               telefono  \\\n",
              "263   6835013 / 6841539                             ...   \n",
              "507                       2251109 -- 2401331 -- 2502167   \n",
              "1012  6822591 / 6839957                             ...   \n",
              "1367                              6718575 -- 3005581260   \n",
              "1964                                            6818191   \n",
              "2282                                            6847860   \n",
              "2341                                 6711029 -- 6701198   \n",
              "\n",
              "                         nombre_Rector   tipo_Establecimiento  etnias  sector  \\\n",
              "263   KILIAN ALEXANDER ARENAS SANABRIA  INSTITUCION EDUCATIVA  AMORÚA     NaN   \n",
              "507    LUZ ESPERANZA MORALES SARMIENTO  INSTITUCION EDUCATIVA     NaN     NaN   \n",
              "1012      JULIA ALICIA PELAEZ CASTILLO  INSTITUCION EDUCATIVA     NaN     NaN   \n",
              "1367           DORA ASTRID PARDO AVILA  INSTITUCION EDUCATIVA     NaN     NaN   \n",
              "1964              DIANA J.  MARQUEZ S.  INSTITUCION EDUCATIVA     NaN     NaN   \n",
              "2282       CONSUELO VALDERRAMA MORALES  INSTITUCION EDUCATIVA     NaN     NaN   \n",
              "2341       CARMEN TULIA CORDOBA ACOSTA  INSTITUCION EDUCATIVA     NaN     NaN   \n",
              "\n",
              "      ...  numero_de_Sedes estado prestador_de_Servicio  \\\n",
              "263   ...                1    NaN       PERSONA NATURAL   \n",
              "507   ...                1    NaN       PERSONA NATURAL   \n",
              "1012  ...                1    NaN       PERSONA NATURAL   \n",
              "1367  ...                1    NaN       PERSONA NATURAL   \n",
              "1964  ...                1    NaN       PERSONA NATURAL   \n",
              "2282  ...                1    NaN       PERSONA NATURAL   \n",
              "2341  ...                1    NaN       PERSONA NATURAL   \n",
              "\n",
              "      propiedad_Planta_Fisica  resguardo matricula_Contratada calendario  \\\n",
              "263           PERSONA NATURAL  NO APLICA                   NO          A   \n",
              "507           PERSONA NATURAL  NO APLICA                   NO          A   \n",
              "1012          PERSONA NATURAL  NO APLICA                   NO          A   \n",
              "1367          PERSONA NATURAL  NO APLICA                   SI          A   \n",
              "1964          PERSONA NATURAL  NO APLICA                   NO          A   \n",
              "2282          PERSONA NATURAL  NO APLICA                   NO          B   \n",
              "2341          PERSONA NATURAL  NO APLICA                   NO          A   \n",
              "\n",
              "     internado estrato_Socio_Economico  \\\n",
              "263        NaN                     NaN   \n",
              "507        NaN                     NaN   \n",
              "1012       NaN                     NaN   \n",
              "1367       NaN                     NaN   \n",
              "1964       NaN                     NaN   \n",
              "2282       NaN                     NaN   \n",
              "2341       NaN                     NaN   \n",
              "\n",
              "                                     correo_Electronico  \n",
              "263   kilanarenas@hotmail.com                       ...  \n",
              "507                     liceo.vida.amor.luz.2@gmail.com  \n",
              "1012  semillasverdes@hotmail.com                    ...  \n",
              "1367                         gcstephenhawking@gmail.com  \n",
              "1964  COLEGIOJONTHANSWIFT@YAHOO.COM.CO              ...  \n",
              "2282  info@colegiocalatrava.edu.co - rectoria@colegi...  \n",
              "2341                              colegioipag@gmail.com  \n",
              "\n",
              "[7 rows x 30 columns]"
            ]
          },
          "execution_count": 24,
          "metadata": {},
          "output_type": "execute_result"
        }
      ],
      "source": [
        "df_selec[df_selec[\"capacidades_Excepcionales\"].notna()]"
      ]
    },
    {
      "cell_type": "markdown",
      "metadata": {
        "id": "hv6j47_pMvK_"
      },
      "source": [
        "¿Cuáles son los colegios que ofrecen todos los niveles educativos? ¿Qué idiomas ofrecen?"
      ]
    },
    {
      "cell_type": "markdown",
      "metadata": {
        "id": "nEPohKg0MvK_"
      },
      "source": [
        "# Ejercicio II: PyEPH"
      ]
    },
    {
      "cell_type": "markdown",
      "metadata": {
        "id": "2agC2cqgMvK_"
      },
      "source": [
        "### PyEPH"
      ]
    },
    {
      "cell_type": "markdown",
      "metadata": {
        "id": "9gSIo2ClMvK_"
      },
      "source": [
        "La librería Pyeph tiene como objetivo facilitar el procesamiento en Python de las Encuesta Permanente de Hogares (eph) publicadas por INDEC de forma periódica. Está pensada como un espacio donde se nuclean y centralizan los cálculos vinculados a las mismas para posteriormente ser utilizadas en investigaciones, artículos, publicaciones, etc. Es una librería que hace principal hincapié en la transparencia metodológica utilizando licencias de código abierto y que promueve la colaboración de las comunidades de cientístas de datos, sociales, investigadorxs, desarrolladorxs, periodistas y demás curiosxs.\n",
        "\n",
        "https://github.com/institutohumai/pyeph"
      ]
    },
    {
      "cell_type": "markdown",
      "metadata": {
        "id": "k_BSKhk9MvK_"
      },
      "source": [
        "Para entender qué representan las columnas ver documentación:\n",
        "\n",
        "\n",
        "https://www.indec.gob.ar/ftp/cuadros/menusuperior/eph/EPH_diseno_reg_t414.pdf"
      ]
    },
    {
      "cell_type": "code",
      "execution_count": null,
      "metadata": {
        "id": "iCFePuybMvK_",
        "outputId": "087704ad-f58d-4eba-ca7a-643cd9e2d2dc"
      },
      "outputs": [
        {
          "name": "stdout",
          "output_type": "stream",
          "text": [
            "Requirement already satisfied: pyeph in /Users/allerand/opt/anaconda3/lib/python3.9/site-packages (1.1.6)\n",
            "Requirement already satisfied: pandas<2.0.0,>=1.1.5 in /Users/allerand/opt/anaconda3/lib/python3.9/site-packages (from pyeph) (1.4.2)\n",
            "Requirement already satisfied: xlrd<3.0.0,>=2.0.1 in /Users/allerand/opt/anaconda3/lib/python3.9/site-packages (from pyeph) (2.0.1)\n",
            "Requirement already satisfied: ipykernel<7.0.0,>=6.13.0 in /Users/allerand/opt/anaconda3/lib/python3.9/site-packages (from pyeph) (6.15.1)\n",
            "Requirement already satisfied: wget<4.0,>=3.2 in /Users/allerand/opt/anaconda3/lib/python3.9/site-packages (from pyeph) (3.2)\n",
            "Requirement already satisfied: openpyxl<4.0.0,>=3.0.10 in /Users/allerand/opt/anaconda3/lib/python3.9/site-packages (from pyeph) (3.0.10)\n",
            "Requirement already satisfied: debugpy>=1.0 in /Users/allerand/opt/anaconda3/lib/python3.9/site-packages (from ipykernel<7.0.0,>=6.13.0->pyeph) (1.5.1)\n",
            "Requirement already satisfied: tornado>=6.1 in /Users/allerand/opt/anaconda3/lib/python3.9/site-packages (from ipykernel<7.0.0,>=6.13.0->pyeph) (6.1)\n",
            "Requirement already satisfied: ipython>=7.23.1 in /Users/allerand/opt/anaconda3/lib/python3.9/site-packages (from ipykernel<7.0.0,>=6.13.0->pyeph) (8.2.0)\n",
            "Requirement already satisfied: packaging in /Users/allerand/opt/anaconda3/lib/python3.9/site-packages (from ipykernel<7.0.0,>=6.13.0->pyeph) (21.3)\n",
            "Requirement already satisfied: traitlets>=5.1.0 in /Users/allerand/opt/anaconda3/lib/python3.9/site-packages (from ipykernel<7.0.0,>=6.13.0->pyeph) (5.1.1)\n",
            "Requirement already satisfied: psutil in /Users/allerand/opt/anaconda3/lib/python3.9/site-packages (from ipykernel<7.0.0,>=6.13.0->pyeph) (5.8.0)\n",
            "Requirement already satisfied: matplotlib-inline>=0.1 in /Users/allerand/opt/anaconda3/lib/python3.9/site-packages (from ipykernel<7.0.0,>=6.13.0->pyeph) (0.1.2)\n",
            "Requirement already satisfied: jupyter-client>=6.1.12 in /Users/allerand/opt/anaconda3/lib/python3.9/site-packages (from ipykernel<7.0.0,>=6.13.0->pyeph) (6.1.12)\n",
            "Requirement already satisfied: pyzmq>=17 in /Users/allerand/opt/anaconda3/lib/python3.9/site-packages (from ipykernel<7.0.0,>=6.13.0->pyeph) (22.3.0)\n",
            "Requirement already satisfied: nest-asyncio in /Users/allerand/opt/anaconda3/lib/python3.9/site-packages (from ipykernel<7.0.0,>=6.13.0->pyeph) (1.5.5)\n",
            "Requirement already satisfied: appnope in /Users/allerand/opt/anaconda3/lib/python3.9/site-packages (from ipykernel<7.0.0,>=6.13.0->pyeph) (0.1.2)\n",
            "Requirement already satisfied: decorator in /Users/allerand/opt/anaconda3/lib/python3.9/site-packages (from ipython>=7.23.1->ipykernel<7.0.0,>=6.13.0->pyeph) (5.1.1)\n",
            "Requirement already satisfied: stack-data in /Users/allerand/opt/anaconda3/lib/python3.9/site-packages (from ipython>=7.23.1->ipykernel<7.0.0,>=6.13.0->pyeph) (0.2.0)\n",
            "Requirement already satisfied: jedi>=0.16 in /Users/allerand/opt/anaconda3/lib/python3.9/site-packages (from ipython>=7.23.1->ipykernel<7.0.0,>=6.13.0->pyeph) (0.18.1)\n",
            "Requirement already satisfied: pexpect>4.3 in /Users/allerand/opt/anaconda3/lib/python3.9/site-packages (from ipython>=7.23.1->ipykernel<7.0.0,>=6.13.0->pyeph) (4.8.0)\n",
            "Requirement already satisfied: pygments>=2.4.0 in /Users/allerand/opt/anaconda3/lib/python3.9/site-packages (from ipython>=7.23.1->ipykernel<7.0.0,>=6.13.0->pyeph) (2.11.2)\n",
            "Requirement already satisfied: prompt-toolkit!=3.0.0,!=3.0.1,<3.1.0,>=2.0.0 in /Users/allerand/opt/anaconda3/lib/python3.9/site-packages (from ipython>=7.23.1->ipykernel<7.0.0,>=6.13.0->pyeph) (3.0.20)\n",
            "Requirement already satisfied: backcall in /Users/allerand/opt/anaconda3/lib/python3.9/site-packages (from ipython>=7.23.1->ipykernel<7.0.0,>=6.13.0->pyeph) (0.2.0)\n",
            "Requirement already satisfied: setuptools>=18.5 in /Users/allerand/opt/anaconda3/lib/python3.9/site-packages (from ipython>=7.23.1->ipykernel<7.0.0,>=6.13.0->pyeph) (61.2.0)\n",
            "Requirement already satisfied: pickleshare in /Users/allerand/opt/anaconda3/lib/python3.9/site-packages (from ipython>=7.23.1->ipykernel<7.0.0,>=6.13.0->pyeph) (0.7.5)\n",
            "Requirement already satisfied: parso<0.9.0,>=0.8.0 in /Users/allerand/opt/anaconda3/lib/python3.9/site-packages (from jedi>=0.16->ipython>=7.23.1->ipykernel<7.0.0,>=6.13.0->pyeph) (0.8.3)\n",
            "Requirement already satisfied: jupyter-core>=4.6.0 in /Users/allerand/opt/anaconda3/lib/python3.9/site-packages (from jupyter-client>=6.1.12->ipykernel<7.0.0,>=6.13.0->pyeph) (4.9.2)\n",
            "Requirement already satisfied: python-dateutil>=2.1 in /Users/allerand/opt/anaconda3/lib/python3.9/site-packages (from jupyter-client>=6.1.12->ipykernel<7.0.0,>=6.13.0->pyeph) (2.8.2)\n",
            "Requirement already satisfied: et-xmlfile in /Users/allerand/opt/anaconda3/lib/python3.9/site-packages (from openpyxl<4.0.0,>=3.0.10->pyeph) (1.1.0)\n",
            "Requirement already satisfied: pytz>=2020.1 in /Users/allerand/opt/anaconda3/lib/python3.9/site-packages (from pandas<2.0.0,>=1.1.5->pyeph) (2021.3)\n",
            "Requirement already satisfied: numpy>=1.18.5 in /Users/allerand/opt/anaconda3/lib/python3.9/site-packages (from pandas<2.0.0,>=1.1.5->pyeph) (1.21.5)\n",
            "Requirement already satisfied: ptyprocess>=0.5 in /Users/allerand/opt/anaconda3/lib/python3.9/site-packages (from pexpect>4.3->ipython>=7.23.1->ipykernel<7.0.0,>=6.13.0->pyeph) (0.7.0)\n",
            "Requirement already satisfied: wcwidth in /Users/allerand/opt/anaconda3/lib/python3.9/site-packages (from prompt-toolkit!=3.0.0,!=3.0.1,<3.1.0,>=2.0.0->ipython>=7.23.1->ipykernel<7.0.0,>=6.13.0->pyeph) (0.2.5)\n",
            "Requirement already satisfied: six>=1.5 in /Users/allerand/opt/anaconda3/lib/python3.9/site-packages (from python-dateutil>=2.1->jupyter-client>=6.1.12->ipykernel<7.0.0,>=6.13.0->pyeph) (1.16.0)\n",
            "Requirement already satisfied: pyparsing!=3.0.5,>=2.0.2 in /Users/allerand/opt/anaconda3/lib/python3.9/site-packages (from packaging->ipykernel<7.0.0,>=6.13.0->pyeph) (3.0.4)\n",
            "Requirement already satisfied: asttokens in /Users/allerand/opt/anaconda3/lib/python3.9/site-packages (from stack-data->ipython>=7.23.1->ipykernel<7.0.0,>=6.13.0->pyeph) (2.0.5)\n",
            "Requirement already satisfied: executing in /Users/allerand/opt/anaconda3/lib/python3.9/site-packages (from stack-data->ipython>=7.23.1->ipykernel<7.0.0,>=6.13.0->pyeph) (0.8.3)\n",
            "Requirement already satisfied: pure-eval in /Users/allerand/opt/anaconda3/lib/python3.9/site-packages (from stack-data->ipython>=7.23.1->ipykernel<7.0.0,>=6.13.0->pyeph) (0.2.2)\n"
          ]
        }
      ],
      "source": [
        "# Instalamos la librería.\n",
        "\n",
        "%pip install pyeph"
      ]
    },
    {
      "cell_type": "code",
      "execution_count": null,
      "metadata": {
        "id": "LI37cJnaMvK_"
      },
      "outputs": [],
      "source": [
        "import pyeph"
      ]
    },
    {
      "cell_type": "code",
      "execution_count": null,
      "metadata": {
        "id": "sZ2bdBMrMvK_",
        "outputId": "7446440b-ffc7-4b95-80c3-f35f94ebc090"
      },
      "outputs": [
        {
          "name": "stdout",
          "output_type": "stream",
          "text": [
            "Obtenido con exito: base_individual_2021T2.zip \n"
          ]
        }
      ],
      "source": [
        "# Ejemplo: traemos el 2do trimestre del 2021\n",
        "eph = pyeph.get(data=\"eph\", year=2021, period=2, base_type='individual') # EPH individual"
      ]
    },
    {
      "cell_type": "code",
      "execution_count": null,
      "metadata": {
        "id": "gd6AJ6DvMvK_",
        "outputId": "c7e1778d-5d3c-47f7-8261-236af9f21fdd"
      },
      "outputs": [
        {
          "data": {
            "text/plain": [
              "Index(['CODUSU', 'ANO4', 'TRIMESTRE', 'NRO_HOGAR', 'COMPONENTE', 'H15',\n",
              "       'REGION', 'MAS_500', 'AGLOMERADO', 'PONDERA',\n",
              "       ...\n",
              "       'PDECIFR', 'ADECIFR', 'IPCF', 'DECCFR', 'IDECCFR', 'RDECCFR', 'GDECCFR',\n",
              "       'PDECCFR', 'ADECCFR', 'PONDIH'],\n",
              "      dtype='object', length=177)"
            ]
          },
          "execution_count": 4,
          "metadata": {},
          "output_type": "execute_result"
        }
      ],
      "source": [
        "eph.columns"
      ]
    },
    {
      "cell_type": "markdown",
      "metadata": {
        "id": "bcD-tpowMvK_"
      },
      "source": [
        "Levantar la última base individual de EPH \n",
        "\n",
        "Crear una variable llamada Variables que contenga los nombres de las siguientes variables de interés para realizar algunos ejercicios:\n",
        "\n",
        "Edad (CH_06), Sexo (CH_04), Ingreso de la ocupación principal (P21), Categoría ocupacional (CAT_OCUP), Condición de actividad (ESTADO), Ponderación (PONDERA)\n",
        "\n",
        "Calcular las tasas de actividad, empleo y desempleo según sexo, para jóvenes entre 18 y 35 años\n",
        "Calcular el salario promedio por sexo, para dos grupos de edad: 18 a 35 años y 36 a 70 años. (Recordatorio: La base debe filtrarse para contener únicamente OCUPADOS ASALARIADOS)\n",
        "Grabar los resultados en un excel\n",
        "\n",
        "Sexo\n",
        "    01 = Varón\n",
        "    02 = Mujer\n",
        "    \n",
        "Categoría ocupacional (para ocupados y desocupados con\n",
        "ocupación anterior)\n",
        "    1 = Patrón\n",
        "    2 = Cuenta propia\n",
        "    3 = Obrero o empleado\n",
        "    4 = Trabajador familiar sin remuneración\n",
        "    9 = Ns/Nr\n",
        "\n",
        "\n",
        "Estado Condición de actividad\n",
        "    0 = Entrevista individual no realizada (no respuesta al\n",
        "Cuestionario Individual)\n",
        "    1 = Ocupado\n",
        "    2 = Desocupado\n",
        "    3 = Inactivo\n",
        "    4 = Menor de 10 años"
      ]
    },
    {
      "cell_type": "code",
      "execution_count": null,
      "metadata": {
        "id": "QZqi2Km0MvLA"
      },
      "outputs": [],
      "source": [
        "#Filtramos por columnas\n",
        "eph_2=eph[[\"CH06\", \"CH04\", \"P21\", \"CAT_OCUP\", \"ESTADO\", \"PONDERA\"]]"
      ]
    },
    {
      "cell_type": "code",
      "execution_count": null,
      "metadata": {
        "id": "A7fkT2SCMvLA"
      },
      "outputs": [],
      "source": [
        "#Renombramos columnas\n",
        "eph_2.columns=[\"edad\", \"sexo\", \"ingreso\", \"cat_ocup\", \"estado\", \"pondera\"]"
      ]
    },
    {
      "cell_type": "markdown",
      "metadata": {
        "id": "JVlWfpBfMvLA"
      },
      "source": [
        "La columna \"pondera\" representa un estimado poblacional de las personas que representa cada fila. Por lo tanto, para cada cálculo es necesario operar con esa columna. Por ejemplo, la fila 0 representa a 214 personas de sexo masculino, que tienen $50.000 de ingreso de la ocupación principal, su categoría es cuentapropista y pertenecen al segmento de ocupados.   "
      ]
    },
    {
      "cell_type": "code",
      "execution_count": null,
      "metadata": {
        "id": "9ioQSsZjMvLA",
        "outputId": "040cdaba-5638-4bcf-ae05-1c41aa235c74"
      },
      "outputs": [
        {
          "data": {
            "text/html": [
              "<div>\n",
              "<style scoped>\n",
              "    .dataframe tbody tr th:only-of-type {\n",
              "        vertical-align: middle;\n",
              "    }\n",
              "\n",
              "    .dataframe tbody tr th {\n",
              "        vertical-align: top;\n",
              "    }\n",
              "\n",
              "    .dataframe thead th {\n",
              "        text-align: right;\n",
              "    }\n",
              "</style>\n",
              "<table border=\"1\" class=\"dataframe\">\n",
              "  <thead>\n",
              "    <tr style=\"text-align: right;\">\n",
              "      <th></th>\n",
              "      <th>edad</th>\n",
              "      <th>sexo</th>\n",
              "      <th>ingreso</th>\n",
              "      <th>cat_ocup</th>\n",
              "      <th>estado</th>\n",
              "      <th>pondera</th>\n",
              "    </tr>\n",
              "  </thead>\n",
              "  <tbody>\n",
              "    <tr>\n",
              "      <th>0</th>\n",
              "      <td>58</td>\n",
              "      <td>1</td>\n",
              "      <td>50000</td>\n",
              "      <td>2</td>\n",
              "      <td>1</td>\n",
              "      <td>214</td>\n",
              "    </tr>\n",
              "    <tr>\n",
              "      <th>1</th>\n",
              "      <td>24</td>\n",
              "      <td>1</td>\n",
              "      <td>0</td>\n",
              "      <td>3</td>\n",
              "      <td>2</td>\n",
              "      <td>214</td>\n",
              "    </tr>\n",
              "    <tr>\n",
              "      <th>2</th>\n",
              "      <td>51</td>\n",
              "      <td>2</td>\n",
              "      <td>0</td>\n",
              "      <td>4</td>\n",
              "      <td>1</td>\n",
              "      <td>192</td>\n",
              "    </tr>\n",
              "    <tr>\n",
              "      <th>3</th>\n",
              "      <td>27</td>\n",
              "      <td>1</td>\n",
              "      <td>4000</td>\n",
              "      <td>2</td>\n",
              "      <td>1</td>\n",
              "      <td>192</td>\n",
              "    </tr>\n",
              "    <tr>\n",
              "      <th>4</th>\n",
              "      <td>18</td>\n",
              "      <td>1</td>\n",
              "      <td>0</td>\n",
              "      <td>0</td>\n",
              "      <td>3</td>\n",
              "      <td>192</td>\n",
              "    </tr>\n",
              "    <tr>\n",
              "      <th>...</th>\n",
              "      <td>...</td>\n",
              "      <td>...</td>\n",
              "      <td>...</td>\n",
              "      <td>...</td>\n",
              "      <td>...</td>\n",
              "      <td>...</td>\n",
              "    </tr>\n",
              "    <tr>\n",
              "      <th>47080</th>\n",
              "      <td>77</td>\n",
              "      <td>2</td>\n",
              "      <td>0</td>\n",
              "      <td>0</td>\n",
              "      <td>3</td>\n",
              "      <td>86</td>\n",
              "    </tr>\n",
              "    <tr>\n",
              "      <th>47081</th>\n",
              "      <td>57</td>\n",
              "      <td>1</td>\n",
              "      <td>-9</td>\n",
              "      <td>2</td>\n",
              "      <td>1</td>\n",
              "      <td>86</td>\n",
              "    </tr>\n",
              "    <tr>\n",
              "      <th>47082</th>\n",
              "      <td>73</td>\n",
              "      <td>2</td>\n",
              "      <td>0</td>\n",
              "      <td>0</td>\n",
              "      <td>3</td>\n",
              "      <td>230</td>\n",
              "    </tr>\n",
              "    <tr>\n",
              "      <th>47083</th>\n",
              "      <td>44</td>\n",
              "      <td>2</td>\n",
              "      <td>18000</td>\n",
              "      <td>3</td>\n",
              "      <td>1</td>\n",
              "      <td>230</td>\n",
              "    </tr>\n",
              "    <tr>\n",
              "      <th>47084</th>\n",
              "      <td>20</td>\n",
              "      <td>1</td>\n",
              "      <td>4000</td>\n",
              "      <td>2</td>\n",
              "      <td>1</td>\n",
              "      <td>230</td>\n",
              "    </tr>\n",
              "  </tbody>\n",
              "</table>\n",
              "<p>47085 rows × 6 columns</p>\n",
              "</div>"
            ],
            "text/plain": [
              "       edad  sexo  ingreso  cat_ocup  estado  pondera\n",
              "0        58     1    50000         2       1      214\n",
              "1        24     1        0         3       2      214\n",
              "2        51     2        0         4       1      192\n",
              "3        27     1     4000         2       1      192\n",
              "4        18     1        0         0       3      192\n",
              "...     ...   ...      ...       ...     ...      ...\n",
              "47080    77     2        0         0       3       86\n",
              "47081    57     1       -9         2       1       86\n",
              "47082    73     2        0         0       3      230\n",
              "47083    44     2    18000         3       1      230\n",
              "47084    20     1     4000         2       1      230\n",
              "\n",
              "[47085 rows x 6 columns]"
            ]
          },
          "execution_count": 15,
          "metadata": {},
          "output_type": "execute_result"
        }
      ],
      "source": [
        "eph_2"
      ]
    },
    {
      "cell_type": "code",
      "execution_count": null,
      "metadata": {
        "id": "hEGuAz0CMvLA",
        "outputId": "d96dbfff-9710-401c-bc2e-dc049fd05b3a"
      },
      "outputs": [
        {
          "name": "stdout",
          "output_type": "stream",
          "text": [
            "14038615\n",
            "14833824\n"
          ]
        }
      ],
      "source": [
        "print(eph_2.query(\"sexo==1\")[\"pondera\"].sum())\n",
        "print(eph_2.query(\"sexo==2\")[\"pondera\"].sum())\n",
        "\n"
      ]
    },
    {
      "cell_type": "code",
      "execution_count": null,
      "metadata": {
        "id": "rkLXlcbdMvLA",
        "outputId": "b43ba330-7eae-4f00-97f0-ba2e5214aca3"
      },
      "outputs": [
        {
          "name": "stdout",
          "output_type": "stream",
          "text": [
            "28872439\n"
          ]
        }
      ],
      "source": [
        "print(eph_2[\"pondera\"].sum())"
      ]
    },
    {
      "cell_type": "markdown",
      "metadata": {
        "id": "GeXu1j1bMvLA"
      },
      "source": [
        "a) Traer un dataframe que filtre solo a las personas que tengan 21 años o menos. "
      ]
    },
    {
      "cell_type": "code",
      "execution_count": null,
      "metadata": {
        "id": "TrB0uDuUMvLA",
        "outputId": "4dd44ada-22e7-4bba-f4e6-3f9f1c221ea9"
      },
      "outputs": [
        {
          "data": {
            "text/html": [
              "<div>\n",
              "<style scoped>\n",
              "    .dataframe tbody tr th:only-of-type {\n",
              "        vertical-align: middle;\n",
              "    }\n",
              "\n",
              "    .dataframe tbody tr th {\n",
              "        vertical-align: top;\n",
              "    }\n",
              "\n",
              "    .dataframe thead th {\n",
              "        text-align: right;\n",
              "    }\n",
              "</style>\n",
              "<table border=\"1\" class=\"dataframe\">\n",
              "  <thead>\n",
              "    <tr style=\"text-align: right;\">\n",
              "      <th></th>\n",
              "      <th>edad</th>\n",
              "      <th>sexo</th>\n",
              "      <th>ingreso</th>\n",
              "      <th>cat_ocup</th>\n",
              "      <th>estado</th>\n",
              "      <th>pondera</th>\n",
              "    </tr>\n",
              "  </thead>\n",
              "  <tbody>\n",
              "    <tr>\n",
              "      <th>4</th>\n",
              "      <td>18</td>\n",
              "      <td>1</td>\n",
              "      <td>0</td>\n",
              "      <td>0</td>\n",
              "      <td>3</td>\n",
              "      <td>192</td>\n",
              "    </tr>\n",
              "    <tr>\n",
              "      <th>8</th>\n",
              "      <td>5</td>\n",
              "      <td>1</td>\n",
              "      <td>0</td>\n",
              "      <td>0</td>\n",
              "      <td>4</td>\n",
              "      <td>250</td>\n",
              "    </tr>\n",
              "    <tr>\n",
              "      <th>11</th>\n",
              "      <td>19</td>\n",
              "      <td>2</td>\n",
              "      <td>0</td>\n",
              "      <td>0</td>\n",
              "      <td>3</td>\n",
              "      <td>250</td>\n",
              "    </tr>\n",
              "    <tr>\n",
              "      <th>12</th>\n",
              "      <td>17</td>\n",
              "      <td>1</td>\n",
              "      <td>0</td>\n",
              "      <td>0</td>\n",
              "      <td>3</td>\n",
              "      <td>250</td>\n",
              "    </tr>\n",
              "    <tr>\n",
              "      <th>13</th>\n",
              "      <td>14</td>\n",
              "      <td>1</td>\n",
              "      <td>0</td>\n",
              "      <td>0</td>\n",
              "      <td>3</td>\n",
              "      <td>250</td>\n",
              "    </tr>\n",
              "    <tr>\n",
              "      <th>...</th>\n",
              "      <td>...</td>\n",
              "      <td>...</td>\n",
              "      <td>...</td>\n",
              "      <td>...</td>\n",
              "      <td>...</td>\n",
              "      <td>...</td>\n",
              "    </tr>\n",
              "    <tr>\n",
              "      <th>47070</th>\n",
              "      <td>15</td>\n",
              "      <td>2</td>\n",
              "      <td>0</td>\n",
              "      <td>0</td>\n",
              "      <td>3</td>\n",
              "      <td>46</td>\n",
              "    </tr>\n",
              "    <tr>\n",
              "      <th>47071</th>\n",
              "      <td>13</td>\n",
              "      <td>1</td>\n",
              "      <td>0</td>\n",
              "      <td>0</td>\n",
              "      <td>3</td>\n",
              "      <td>46</td>\n",
              "    </tr>\n",
              "    <tr>\n",
              "      <th>47074</th>\n",
              "      <td>8</td>\n",
              "      <td>1</td>\n",
              "      <td>0</td>\n",
              "      <td>0</td>\n",
              "      <td>4</td>\n",
              "      <td>49</td>\n",
              "    </tr>\n",
              "    <tr>\n",
              "      <th>47077</th>\n",
              "      <td>10</td>\n",
              "      <td>1</td>\n",
              "      <td>0</td>\n",
              "      <td>0</td>\n",
              "      <td>3</td>\n",
              "      <td>111</td>\n",
              "    </tr>\n",
              "    <tr>\n",
              "      <th>47084</th>\n",
              "      <td>20</td>\n",
              "      <td>1</td>\n",
              "      <td>4000</td>\n",
              "      <td>2</td>\n",
              "      <td>1</td>\n",
              "      <td>230</td>\n",
              "    </tr>\n",
              "  </tbody>\n",
              "</table>\n",
              "<p>15192 rows × 6 columns</p>\n",
              "</div>"
            ],
            "text/plain": [
              "       edad  sexo  ingreso  cat_ocup  estado  pondera\n",
              "4        18     1        0         0       3      192\n",
              "8         5     1        0         0       4      250\n",
              "11       19     2        0         0       3      250\n",
              "12       17     1        0         0       3      250\n",
              "13       14     1        0         0       3      250\n",
              "...     ...   ...      ...       ...     ...      ...\n",
              "47070    15     2        0         0       3       46\n",
              "47071    13     1        0         0       3       46\n",
              "47074     8     1        0         0       4       49\n",
              "47077    10     1        0         0       3      111\n",
              "47084    20     1     4000         2       1      230\n",
              "\n",
              "[15192 rows x 6 columns]"
            ]
          },
          "execution_count": 22,
          "metadata": {},
          "output_type": "execute_result"
        }
      ],
      "source": [
        "eph_2.query(\"edad<=21\")"
      ]
    },
    {
      "cell_type": "markdown",
      "metadata": {
        "id": "Ql5W8xHRMvLA"
      },
      "source": [
        "b) Traer un dataframe que filtre a las personas desocupadas de más de 40 años. "
      ]
    },
    {
      "cell_type": "code",
      "execution_count": null,
      "metadata": {
        "id": "HHQ9_-H8MvLA",
        "outputId": "d578e304-ca61-4429-d3e0-4ba79f045e52"
      },
      "outputs": [
        {
          "data": {
            "text/html": [
              "<div>\n",
              "<style scoped>\n",
              "    .dataframe tbody tr th:only-of-type {\n",
              "        vertical-align: middle;\n",
              "    }\n",
              "\n",
              "    .dataframe tbody tr th {\n",
              "        vertical-align: top;\n",
              "    }\n",
              "\n",
              "    .dataframe thead th {\n",
              "        text-align: right;\n",
              "    }\n",
              "</style>\n",
              "<table border=\"1\" class=\"dataframe\">\n",
              "  <thead>\n",
              "    <tr style=\"text-align: right;\">\n",
              "      <th></th>\n",
              "      <th>edad</th>\n",
              "      <th>sexo</th>\n",
              "      <th>ingreso</th>\n",
              "      <th>cat_ocup</th>\n",
              "      <th>estado</th>\n",
              "      <th>pondera</th>\n",
              "    </tr>\n",
              "  </thead>\n",
              "  <tbody>\n",
              "    <tr>\n",
              "      <th>0</th>\n",
              "      <td>58</td>\n",
              "      <td>1</td>\n",
              "      <td>50000</td>\n",
              "      <td>2</td>\n",
              "      <td>1</td>\n",
              "      <td>214</td>\n",
              "    </tr>\n",
              "    <tr>\n",
              "      <th>1</th>\n",
              "      <td>24</td>\n",
              "      <td>1</td>\n",
              "      <td>0</td>\n",
              "      <td>3</td>\n",
              "      <td>2</td>\n",
              "      <td>214</td>\n",
              "    </tr>\n",
              "    <tr>\n",
              "      <th>2</th>\n",
              "      <td>51</td>\n",
              "      <td>2</td>\n",
              "      <td>0</td>\n",
              "      <td>4</td>\n",
              "      <td>1</td>\n",
              "      <td>192</td>\n",
              "    </tr>\n",
              "    <tr>\n",
              "      <th>5</th>\n",
              "      <td>45</td>\n",
              "      <td>1</td>\n",
              "      <td>120000</td>\n",
              "      <td>3</td>\n",
              "      <td>1</td>\n",
              "      <td>192</td>\n",
              "    </tr>\n",
              "    <tr>\n",
              "      <th>9</th>\n",
              "      <td>65</td>\n",
              "      <td>2</td>\n",
              "      <td>0</td>\n",
              "      <td>0</td>\n",
              "      <td>3</td>\n",
              "      <td>187</td>\n",
              "    </tr>\n",
              "    <tr>\n",
              "      <th>...</th>\n",
              "      <td>...</td>\n",
              "      <td>...</td>\n",
              "      <td>...</td>\n",
              "      <td>...</td>\n",
              "      <td>...</td>\n",
              "      <td>...</td>\n",
              "    </tr>\n",
              "    <tr>\n",
              "      <th>47073</th>\n",
              "      <td>41</td>\n",
              "      <td>2</td>\n",
              "      <td>57000</td>\n",
              "      <td>3</td>\n",
              "      <td>1</td>\n",
              "      <td>49</td>\n",
              "    </tr>\n",
              "    <tr>\n",
              "      <th>47080</th>\n",
              "      <td>77</td>\n",
              "      <td>2</td>\n",
              "      <td>0</td>\n",
              "      <td>0</td>\n",
              "      <td>3</td>\n",
              "      <td>86</td>\n",
              "    </tr>\n",
              "    <tr>\n",
              "      <th>47081</th>\n",
              "      <td>57</td>\n",
              "      <td>1</td>\n",
              "      <td>-9</td>\n",
              "      <td>2</td>\n",
              "      <td>1</td>\n",
              "      <td>86</td>\n",
              "    </tr>\n",
              "    <tr>\n",
              "      <th>47082</th>\n",
              "      <td>73</td>\n",
              "      <td>2</td>\n",
              "      <td>0</td>\n",
              "      <td>0</td>\n",
              "      <td>3</td>\n",
              "      <td>230</td>\n",
              "    </tr>\n",
              "    <tr>\n",
              "      <th>47083</th>\n",
              "      <td>44</td>\n",
              "      <td>2</td>\n",
              "      <td>18000</td>\n",
              "      <td>3</td>\n",
              "      <td>1</td>\n",
              "      <td>230</td>\n",
              "    </tr>\n",
              "  </tbody>\n",
              "</table>\n",
              "<p>20282 rows × 6 columns</p>\n",
              "</div>"
            ],
            "text/plain": [
              "       edad  sexo  ingreso  cat_ocup  estado  pondera\n",
              "0        58     1    50000         2       1      214\n",
              "1        24     1        0         3       2      214\n",
              "2        51     2        0         4       1      192\n",
              "5        45     1   120000         3       1      192\n",
              "9        65     2        0         0       3      187\n",
              "...     ...   ...      ...       ...     ...      ...\n",
              "47073    41     2    57000         3       1       49\n",
              "47080    77     2        0         0       3       86\n",
              "47081    57     1       -9         2       1       86\n",
              "47082    73     2        0         0       3      230\n",
              "47083    44     2    18000         3       1      230\n",
              "\n",
              "[20282 rows x 6 columns]"
            ]
          },
          "execution_count": 98,
          "metadata": {},
          "output_type": "execute_result"
        }
      ],
      "source": [
        "eph_2.query(\"estado==2 | edad>40\")"
      ]
    },
    {
      "cell_type": "markdown",
      "metadata": {
        "id": "H2TFzkYXMvLB"
      },
      "source": [
        "c) ¿Cuántas mujeres hay en la base de datos? ¿Y hombres?"
      ]
    },
    {
      "cell_type": "code",
      "execution_count": null,
      "metadata": {
        "id": "5KBADqwEMvLB",
        "outputId": "7016412e-9321-4825-ad3b-2813afc8e19c"
      },
      "outputs": [
        {
          "name": "stdout",
          "output_type": "stream",
          "text": [
            "Hay 14038615 hombres y 14833824 mujeres en la base de datos\n"
          ]
        }
      ],
      "source": [
        "hombres=eph_2.query(\"sexo==1\")[\"pondera\"].sum()\n",
        "mujeres=eph_2.query(\"sexo==2\")[\"pondera\"].sum()\n",
        "\n",
        "print (f\"Hay {hombres} hombres y {mujeres} mujeres en la base de datos\")\n",
        "\n"
      ]
    },
    {
      "cell_type": "markdown",
      "metadata": {
        "id": "1NVlqGyaMvLB"
      },
      "source": [
        "d) ¿Cuál era la tasa de desocupación en el período seleccionado para las mujeres? ¿Era más alta o más baja que la de los hombres? (Extra: pensar el resultado usando una función)\n",
        "\n",
        "Nota: la tasa se calcula como Desocupados / (Ocupados + Desocupados)"
      ]
    },
    {
      "cell_type": "code",
      "execution_count": null,
      "metadata": {
        "id": "nsDZz3urMvLB"
      },
      "outputs": [],
      "source": [
        "# Mujeres ocupadas\n",
        "ocup_m=eph_2.query(\"sexo==2 & estado==2\")[\"pondera\"].sum()"
      ]
    },
    {
      "cell_type": "code",
      "execution_count": null,
      "metadata": {
        "id": "uBgpC_TNMvLB"
      },
      "outputs": [],
      "source": [
        "# Población económicamente activa de mujeres (Ocupadas + Descoupadas)\n",
        "PEA_m=eph_2.query(\"sexo==2 & (estado==1 | estado==2)\")[\"pondera\"].sum()"
      ]
    },
    {
      "cell_type": "code",
      "execution_count": null,
      "metadata": {
        "id": "hS4IdXrgMvLB"
      },
      "outputs": [],
      "source": [
        "# Tasa de desocupación de las mujeres\n",
        "tasa_desocup_m = ocup_m / PEA_m"
      ]
    },
    {
      "cell_type": "code",
      "execution_count": null,
      "metadata": {
        "id": "23rWFtjcMvLB",
        "outputId": "199d3422-7b30-43ec-9bf7-276f891ab017"
      },
      "outputs": [
        {
          "name": "stdout",
          "output_type": "stream",
          "text": [
            "La tasa de desocupacion de las mujeres en el segundo trimestre del 2021 era de un 10%\n"
          ]
        }
      ],
      "source": [
        "print(f\"La tasa de desocupacion de las mujeres en el segundo trimestre del 2021 era de un {int(tasa_desocup_m*100)}%\")"
      ]
    },
    {
      "cell_type": "code",
      "execution_count": null,
      "metadata": {
        "id": "NOjDhqV9MvLB"
      },
      "outputs": [],
      "source": [
        "# Hombres ocupados\n",
        "ocup_h=eph_2.query(\"sexo==1 & estado==2\")[\"pondera\"].sum()"
      ]
    },
    {
      "cell_type": "code",
      "execution_count": null,
      "metadata": {
        "id": "ILI5aM-GMvLB"
      },
      "outputs": [],
      "source": [
        "# Población económicamente activa de hombres (Ocupados + Desocupados)\n",
        "PEA_h=eph_2.query(\"sexo==1 & (estado==1 | estado==2)\")[\"pondera\"].sum()"
      ]
    },
    {
      "cell_type": "code",
      "execution_count": null,
      "metadata": {
        "id": "Lj28oCeSMvLB"
      },
      "outputs": [],
      "source": [
        "# Tasa de desocupación de los hombres\n",
        "tasa_desocup_h = ocup_h / PEA_h"
      ]
    },
    {
      "cell_type": "code",
      "execution_count": null,
      "metadata": {
        "id": "3BqROR8zMvLB",
        "outputId": "83779211-9f06-415d-dc45-8010ad9af59a"
      },
      "outputs": [
        {
          "name": "stdout",
          "output_type": "stream",
          "text": [
            "La tasa de desocupacion de los hombres en el segundo trimestre del 2021 era de un 9%\n"
          ]
        }
      ],
      "source": [
        "print(f\"La tasa de desocupacion de los hombres en el segundo trimestre del 2021 era de un {int(tasa_desocup_h*100)}%\")"
      ]
    },
    {
      "cell_type": "code",
      "execution_count": null,
      "metadata": {
        "id": "nh8HpMb5MvLB",
        "outputId": "23c1d47b-8302-4c21-be76-481eb73e22e6"
      },
      "outputs": [
        {
          "name": "stdout",
          "output_type": "stream",
          "text": [
            "La tasa de desocupación de los hombres en el 2T del 2021 era de un 9%, más baja que el 10% de las mujeres.\n"
          ]
        }
      ],
      "source": [
        "if tasa_desocup_h>tasa_desocup_m:\n",
        "    print (f\"La tasa de desocupación de los hombres en el 2T del 2021 era de un {int(tasa_desocup_h*100)}%, más alta que el {int(tasa_desocup_m*100)}% de las mujeres.\")\n",
        "else:\n",
        "    print (f\"La tasa de desocupación de los hombres en el 2T del 2021 era de un {int(tasa_desocup_h*100)}%, más baja que el {int(tasa_desocup_m*100)}% de las mujeres.\")"
      ]
    }
  ],
  "metadata": {
    "kernelspec": {
      "display_name": "Python 3.9.12 ('base': conda)",
      "language": "python",
      "name": "python3"
    },
    "language_info": {
      "codemirror_mode": {
        "name": "ipython",
        "version": 3
      },
      "file_extension": ".py",
      "mimetype": "text/x-python",
      "name": "python",
      "nbconvert_exporter": "python",
      "pygments_lexer": "ipython3",
      "version": "3.9.12"
    },
    "vscode": {
      "interpreter": {
        "hash": "f40b5ec51608688695ff6eacfbfd97600e453560f55d9818c49e934cb28338b9"
      }
    },
    "colab": {
      "name": "ejercicio_solucion.ipynb",
      "provenance": []
    }
  },
  "nbformat": 4,
  "nbformat_minor": 0
}