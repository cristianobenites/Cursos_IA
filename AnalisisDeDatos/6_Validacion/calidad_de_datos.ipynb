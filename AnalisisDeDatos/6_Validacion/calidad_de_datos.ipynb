{
 "cells": [
  {
   "cell_type": "markdown",
   "metadata": {
    "id": "zC6ww9-sBKHg"
   },
   "source": [
    "# Calidad de Datos\n",
    "\n",
    "### Temas:\n",
    "\n",
    "- ¿Por qué preparar y validar los datos?\n",
    "- Wrangling e imputación\n",
    "- Interpolación\n",
    "- Caso: Humedales\n",
    "  - Scraping\n",
    "  - Validación con Pydantic\n",
    "- Normalización de strings:\n",
    "  - Distancia de edición\n",
    "  - Fuzzy string matching "
   ]
  },
  {
   "cell_type": "markdown",
   "metadata": {
    "id": "x4jsKCjNaHvu"
   },
   "source": [
    "## Introducción"
   ]
  },
  {
   "cell_type": "markdown",
   "metadata": {
    "id": "YQI-OsPje0dX"
   },
   "source": [
    "Es conocido el hecho de que, a la hora de trabajar con datos, la mayor parte no está en tunear algorítmos ni dejar bonitas las visualizaciones, si no en la preparación de los datos.\n",
    "\n",
    "A la hora de avanzar con cualquier tipo de análisis basado en datos, es esencial previamente asegurarnos de que estamos trabajando con datos de calidad. Si no se dedica el tiempo necesario, y si consideramos que las empresas apoyan en los datos sus decisiones de negocio, los datos faltantes o incorrectos pueden impactar directamente en la performance de las mismas. Esto se potencia aún más si la toma de decisiones se vincula a modelos de aprendizaje automático, ya que datos de entrenamiento de mala calidad resultan en aprendizajes erróneos.\n",
    "\n",
    "No solo pueden traer complicaciones en el sistema, sino que pueden traer un impacto importante al negocio y para los usuarios (por ejemplo, [Hawaiian Airlines se disculpa después de que una falla técnica causó miles de cargos fraudulentos](https://www.hawaiinewsnow.com/2019/05/24/hawaiian-air-apologizes-after-some-customers-were-overcharged-hundreds-thousands-dollars/))\n",
    "\n",
    "Tener datos de calidad va a proveer muchas ventajas, tales como:\n",
    "- Transparencia en los procesos\n",
    "- Mayor confianza en las propias decisiones de negocio\n",
    "- Escalabilidad\n",
    "- Ahorro de costos y tiempo"
   ]
  },
  {
   "cell_type": "markdown",
   "metadata": {
    "id": "NYKFezU3aBkd"
   },
   "source": [
    "<img src='https://crunchingthedata.com/wp-content/uploads/2021/04/Case-study-one_-Data-quality-copy-2.jpg' width=\"700px\">"
   ]
  },
  {
   "cell_type": "markdown",
   "metadata": {
    "id": "GM8YX32UhsFa"
   },
   "source": [
    "La calidad puede referir a la **extensión** o a la **intención** de la data:\n",
    "- En terminos de extensión:\n",
    "  - Una base completa (sin nulos)\n",
    "  - **Consistencia** de las categorías. Por ejemplo, si una columna tiene categorías de talles S, M o L, sería inconsistente que aparezcan talles de calzado que siguen otro criterio, del tipo numérico en este caso (talle 40, 41, etc.)\n",
    "  - **Precisión** de los datos: Que no tengan errores sintácticos (por ejemplo \"Ss\" en vez de \"S\") ni semánticos (por ejemplo \"M\" en vez de \"S\"). \n",
    "\n",
    "\n",
    "El valor de nuestra base de datos va a depender de su **exactitud, completitud, fiabilidad y relevancia**."
   ]
  },
  {
   "cell_type": "code",
   "execution_count": 195,
   "metadata": {
    "id": "AO8A_941Q4pu"
   },
   "outputs": [],
   "source": [
    "import pandas as pd\n",
    "import numpy as np"
   ]
  },
  {
   "cell_type": "markdown",
   "metadata": {
    "id": "4XRKKNUrvPmy"
   },
   "source": [
    "## Ejemplos de datos ruidosos"
   ]
  },
  {
   "cell_type": "markdown",
   "metadata": {
    "id": "XM0oA2RShjzt"
   },
   "source": [
    "Cargamos nuestro csv: `movies.csv`"
   ]
  },
  {
   "cell_type": "markdown",
   "metadata": {
    "id": "q9UsbJUfaQjM"
   },
   "source": [
    "Chequeando la calidad de nuestros datos:"
   ]
  },
  {
   "cell_type": "code",
   "execution_count": 277,
   "metadata": {
    "id": "9WgZVtWmb19d"
   },
   "outputs": [],
   "source": [
    "df = pd.read_csv(\"https://storage.googleapis.com/humai-datasets/datasets/movies.csv\")"
   ]
  },
  {
   "cell_type": "code",
   "execution_count": 278,
   "metadata": {
    "colab": {
     "base_uri": "https://localhost:8080/",
     "height": 337
    },
    "id": "JbwIYTnKQ7KJ",
    "outputId": "ceddbfd6-b2a1-474e-ffb5-ed09c5e33000"
   },
   "outputs": [
    {
     "data": {
      "text/html": [
       "<div>\n",
       "<style scoped>\n",
       "    .dataframe tbody tr th:only-of-type {\n",
       "        vertical-align: middle;\n",
       "    }\n",
       "\n",
       "    .dataframe tbody tr th {\n",
       "        vertical-align: top;\n",
       "    }\n",
       "\n",
       "    .dataframe thead th {\n",
       "        text-align: right;\n",
       "    }\n",
       "</style>\n",
       "<table border=\"1\" class=\"dataframe\">\n",
       "  <thead>\n",
       "    <tr style=\"text-align: right;\">\n",
       "      <th></th>\n",
       "      <th>MOVIES</th>\n",
       "      <th>YEAR</th>\n",
       "      <th>GENRE</th>\n",
       "      <th>RATING</th>\n",
       "      <th>ONE-LINE</th>\n",
       "      <th>STARS</th>\n",
       "      <th>VOTES</th>\n",
       "      <th>RunTime</th>\n",
       "      <th>Gross</th>\n",
       "    </tr>\n",
       "  </thead>\n",
       "  <tbody>\n",
       "    <tr>\n",
       "      <th>0</th>\n",
       "      <td>Blood Red Sky</td>\n",
       "      <td>(2021)</td>\n",
       "      <td>\\nAction, Horror, Thriller</td>\n",
       "      <td>6</td>\n",
       "      <td>\\nA woman with a mysterious illness is forced ...</td>\n",
       "      <td>\\n    Director:\\nPeter Thorwarth\\n| \\n    Star...</td>\n",
       "      <td>21,062</td>\n",
       "      <td>121</td>\n",
       "      <td>NaN</td>\n",
       "    </tr>\n",
       "    <tr>\n",
       "      <th>1</th>\n",
       "      <td>Masters of the Universe: Revelation</td>\n",
       "      <td>(2021– )</td>\n",
       "      <td>\\nAnimation, Action, Adventure</td>\n",
       "      <td>5</td>\n",
       "      <td>\\nThe war for Eternia begins again in what may...</td>\n",
       "      <td>\\n            \\n    Stars:\\nChris Wood, \\nSara...</td>\n",
       "      <td>17,870</td>\n",
       "      <td>25</td>\n",
       "      <td>NaN</td>\n",
       "    </tr>\n",
       "    <tr>\n",
       "      <th>2</th>\n",
       "      <td>The Walking Dead</td>\n",
       "      <td>(2010–2022)</td>\n",
       "      <td>\\nDrama, Horror, Thriller</td>\n",
       "      <td>8</td>\n",
       "      <td>\\nSheriff Deputy Rick Grimes wakes up from a c...</td>\n",
       "      <td>\\n            \\n    Stars:\\nAndrew Lincoln, \\n...</td>\n",
       "      <td>885,805</td>\n",
       "      <td>44</td>\n",
       "      <td>NaN</td>\n",
       "    </tr>\n",
       "    <tr>\n",
       "      <th>3</th>\n",
       "      <td>Rick and Morty</td>\n",
       "      <td>(2013– )</td>\n",
       "      <td>\\nAnimation, Adventure, Comedy</td>\n",
       "      <td>9</td>\n",
       "      <td>\\nAn animated series that follows the exploits...</td>\n",
       "      <td>\\n            \\n    Stars:\\nJustin Roiland, \\n...</td>\n",
       "      <td>414,849</td>\n",
       "      <td>23</td>\n",
       "      <td>NaN</td>\n",
       "    </tr>\n",
       "    <tr>\n",
       "      <th>4</th>\n",
       "      <td>Army of Thieves</td>\n",
       "      <td>(2021)</td>\n",
       "      <td>\\nAction, Crime, Horror</td>\n",
       "      <td>NaN</td>\n",
       "      <td>\\nA prequel, set before the events of Army of ...</td>\n",
       "      <td>\\n    Director:\\nMatthias Schweighöfer\\n| \\n  ...</td>\n",
       "      <td>NaN</td>\n",
       "      <td>NaN</td>\n",
       "      <td>NaN</td>\n",
       "    </tr>\n",
       "  </tbody>\n",
       "</table>\n",
       "</div>"
      ],
      "text/plain": [
       "                                MOVIES         YEAR  \\\n",
       "0                        Blood Red Sky       (2021)   \n",
       "1  Masters of the Universe: Revelation     (2021– )   \n",
       "2                     The Walking Dead  (2010–2022)   \n",
       "3                       Rick and Morty     (2013– )   \n",
       "4                      Army of Thieves       (2021)   \n",
       "\n",
       "                                        GENRE  RATING  \\\n",
       "0      \\nAction, Horror, Thriller                   6   \n",
       "1  \\nAnimation, Action, Adventure                   5   \n",
       "2       \\nDrama, Horror, Thriller                   8   \n",
       "3  \\nAnimation, Adventure, Comedy                   9   \n",
       "4         \\nAction, Crime, Horror                 NaN   \n",
       "\n",
       "                                            ONE-LINE  \\\n",
       "0  \\nA woman with a mysterious illness is forced ...   \n",
       "1  \\nThe war for Eternia begins again in what may...   \n",
       "2  \\nSheriff Deputy Rick Grimes wakes up from a c...   \n",
       "3  \\nAn animated series that follows the exploits...   \n",
       "4  \\nA prequel, set before the events of Army of ...   \n",
       "\n",
       "                                               STARS    VOTES  RunTime Gross  \n",
       "0  \\n    Director:\\nPeter Thorwarth\\n| \\n    Star...   21,062      121   NaN  \n",
       "1  \\n            \\n    Stars:\\nChris Wood, \\nSara...   17,870       25   NaN  \n",
       "2  \\n            \\n    Stars:\\nAndrew Lincoln, \\n...  885,805       44   NaN  \n",
       "3  \\n            \\n    Stars:\\nJustin Roiland, \\n...  414,849       23   NaN  \n",
       "4  \\n    Director:\\nMatthias Schweighöfer\\n| \\n  ...      NaN      NaN   NaN  "
      ]
     },
     "execution_count": 278,
     "metadata": {},
     "output_type": "execute_result"
    }
   ],
   "source": [
    "df.head()"
   ]
  },
  {
   "cell_type": "markdown",
   "metadata": {
    "id": "G6FmiTRTb6AE"
   },
   "source": [
    "## 1- Chequeamos que los tipos de datos asociados a cada columna sean los que corresponden con los que queremos."
   ]
  },
  {
   "cell_type": "code",
   "execution_count": 280,
   "metadata": {
    "colab": {
     "base_uri": "https://localhost:8080/"
    },
    "id": "weS3dqv6cEPv",
    "outputId": "d3bcf74c-b2cb-4ef7-d470-1c68a7895de3"
   },
   "outputs": [
    {
     "data": {
      "text/plain": [
       "MOVIES       object\n",
       "YEAR         object\n",
       "GENRE        object\n",
       "RATING      float64\n",
       "ONE-LINE     object\n",
       "STARS        object\n",
       "VOTES        object\n",
       "RunTime     float64\n",
       "Gross        object\n",
       "dtype: object"
      ]
     },
     "execution_count": 280,
     "metadata": {},
     "output_type": "execute_result"
    }
   ],
   "source": [
    "df.dtypes"
   ]
  },
  {
   "cell_type": "markdown",
   "metadata": {
    "id": "yXXYRX-aY4Jj"
   },
   "source": [
    "Querríamos que la columna **year** sea numérica y asociada a un año. Vemos que es un objeto, para convertirlo en entero tendríamos que eliminar todos los strings o seleccionar solo la parte numérica de todas las filas.\n",
    "\n",
    "En estos casos tan singulares vamos a usar **REGEX** (Regular Expressions). Esto refiere a secuencias de caracteres que conforman un patrón de búsquedas. \n",
    "\n",
    "Una página útil para interpretar Regex: https://regexr.com/"
   ]
  },
  {
   "cell_type": "code",
   "execution_count": 282,
   "metadata": {
    "id": "CmnKjR5QZD4L"
   },
   "outputs": [],
   "source": [
    "# Por defecto nos trae la primera captura que tenga 1 o más cifras. Como tenemos algunas series de televisión (año de comienzo y año de fin), en esos casos vamos a tomar el año de inicio.\n",
    "\n",
    "df['YEAR']=df['YEAR'].str.extract('(\\d+)')"
   ]
  },
  {
   "cell_type": "markdown",
   "metadata": {
    "id": "b15ptL8p3njM"
   },
   "source": [
    "Como la extracción solo trae el año tipo string, tenemos que transformarla en variable numérica."
   ]
  },
  {
   "cell_type": "code",
   "execution_count": 285,
   "metadata": {
    "id": "q1Gv3YcUSfs3"
   },
   "outputs": [],
   "source": [
    "df[\"YEAR\"] = pd.to_numeric(df[\"YEAR\"])"
   ]
  },
  {
   "cell_type": "code",
   "execution_count": 286,
   "metadata": {},
   "outputs": [
    {
     "data": {
      "text/plain": [
       "0      2021\n",
       "1      2021\n",
       "2      2010\n",
       "3      2013\n",
       "4      2021\n",
       "       ... \n",
       "9994   2021\n",
       "9995   2021\n",
       "9996   2022\n",
       "9997   2021\n",
       "9998   2021\n",
       "Name: YEAR, Length: 9999, dtype: float64"
      ]
     },
     "execution_count": 286,
     "metadata": {},
     "output_type": "execute_result"
    }
   ],
   "source": [
    "df[\"YEAR\"]"
   ]
  },
  {
   "cell_type": "markdown",
   "metadata": {
    "id": "6JAEVDgpg_ig"
   },
   "source": [
    "A las columna **VOTES** y **Gross** también la querríamos en tipo numérico para poder realizar operaciones.\n",
    "\n",
    "¿Cómo haríamos para transformar esto?"
   ]
  },
  {
   "cell_type": "code",
   "execution_count": 297,
   "metadata": {
    "id": "55X0uLe7PrC1"
   },
   "outputs": [],
   "source": [
    "df[\"VOTES\"]=df[\"VOTES\"].str.replace(\",\",\"\")"
   ]
  },
  {
   "cell_type": "code",
   "execution_count": 298,
   "metadata": {
    "id": "HLOCN1KQg5wM"
   },
   "outputs": [],
   "source": [
    "df[\"VOTES\"] = pd.to_numeric(df[\"VOTES\"])"
   ]
  },
  {
   "cell_type": "code",
   "execution_count": 302,
   "metadata": {
    "colab": {
     "base_uri": "https://localhost:8080/"
    },
    "id": "zdomEu7WTtda",
    "outputId": "fdbbac17-4f2c-4422-b188-7411337deb69"
   },
   "outputs": [
    {
     "data": {
      "text/plain": [
       "77       $75.47M\n",
       "85      $402.45M\n",
       "95       $89.22M\n",
       "111     $315.54M\n",
       "125      $57.01M\n",
       "          ...   \n",
       "5750      $0.09M\n",
       "5770      $0.00M\n",
       "5835      $0.01M\n",
       "6056      $0.01M\n",
       "6292      $0.14M\n",
       "Name: Gross, Length: 460, dtype: object"
      ]
     },
     "execution_count": 302,
     "metadata": {},
     "output_type": "execute_result"
    }
   ],
   "source": [
    "# Observamos los valores de la columna Gross\n",
    "\n",
    "df[\"Gross\"][df[\"Gross\"].notna()]"
   ]
  },
  {
   "cell_type": "code",
   "execution_count": 303,
   "metadata": {
    "colab": {
     "base_uri": "https://localhost:8080/"
    },
    "id": "JmOusoO331Qe",
    "outputId": "cf38cdaf-d8de-4496-d07d-d64194006324"
   },
   "outputs": [],
   "source": [
    "df[\"Gross\"]=df[\"Gross\"].str.replace(\"$\",\"\",  regex=False)\n",
    "df[\"Gross\"]=df[\"Gross\"].str.replace(\"M\",\"\", regex=False)"
   ]
  },
  {
   "cell_type": "code",
   "execution_count": 307,
   "metadata": {
    "id": "tl8TAOFsTR-h"
   },
   "outputs": [],
   "source": [
    "df[\"Gross\"] = pd.to_numeric(df[\"Gross\"])"
   ]
  },
  {
   "cell_type": "code",
   "execution_count": 310,
   "metadata": {
    "colab": {
     "base_uri": "https://localhost:8080/"
    },
    "id": "SEoqUBFrUcao",
    "outputId": "feee0143-99a2-4cae-bcaf-8cef31ad00b4"
   },
   "outputs": [
    {
     "data": {
      "text/plain": [
       "MOVIES       object\n",
       "YEAR        float64\n",
       "GENRE        object\n",
       "RATING      float64\n",
       "ONE-LINE     object\n",
       "STARS        object\n",
       "VOTES       float64\n",
       "RunTime     float64\n",
       "Gross       float64\n",
       "dtype: object"
      ]
     },
     "execution_count": 310,
     "metadata": {},
     "output_type": "execute_result"
    }
   ],
   "source": [
    "df.dtypes"
   ]
  },
  {
   "cell_type": "markdown",
   "metadata": {
    "id": "lvc25V1scJL4"
   },
   "source": [
    "## 2 - Tratamiento de los nulos"
   ]
  },
  {
   "cell_type": "markdown",
   "metadata": {
    "id": "EwzOfzau3DF1"
   },
   "source": [
    "Los tipos de faltantes se pueden describir de la siguiente manera:\n",
    "\n",
    "- Cuando no existe una relación sistemática entre los valores faltantes de una columna y otros valores o valores propios. Si la probabilidad de que falten es la misma para todos los casos, se dice que **los datos faltan completamente al azar (MCAR)**. Esto implica efectivamente que las causas de los datos que faltan no están relacionadas con los datos.\n",
    "\n",
    "- Si la probabilidad de que falten es la misma solo dentro de los grupos definidos por los datos observados, entonces **los datos faltan al azar (MAR)**. MAR es una clase mucho más amplia que MCAR. Por ejemplo, cuando se coloca sobre una superficie blanda, una balanza puede producir más valores faltantes que cuando se coloca sobre una superficie dura. Por lo tanto, tales datos no son MCAR. Sin embargo, si conocemos el tipo de superficie y podemos suponer MCAR dentro del tipo de superficie, entonces los datos son MAR.\n",
    "\n",
    "- Si ni MCAR ni MAR se cumplen, entonces hablamos de **datos perdidos no al azar (MNAR)**. MNAR significa que la probabilidad de que falte varía por razones que desconocemos. Por ejemplo, una encuesta de opinión pública en la que aquellos con opiniones más débiles responden con menos frecuencia. Son casos problemáticos porque los valores faltantes dependen de valores no observados."
   ]
  },
  {
   "cell_type": "markdown",
   "metadata": {
    "id": "PbtcskLIpN4R"
   },
   "source": [
    "### Imputaciones posibles"
   ]
  },
  {
   "cell_type": "markdown",
   "metadata": {
    "id": "QxYd8_0BpNHX"
   },
   "source": [
    "Al trabajar con un conjunto de datos que tienen valores nulos, podemos tomar varias decisiones. Una es eliminar esos datos y quedarnos con las filas que tengan datos para realizar un análisis en particular. Otra de las opciones, cuando no tenemos forma de acceder al dato que nos falta, es realizar imputaciones para poder usarlos en un posterior análisis.\n",
    "\n",
    "Scikit-learn nos ofrece varias clases con las que se pueden realizar imputaciones de valores nulos en Python. Estas usan estadísticos tales como la media, la mediana o la moda. También existen otras opciones sustentadas en algoritmos más avanzados como los k-vecinos (ver KNN-Imputer)\n"
   ]
  },
  {
   "cell_type": "code",
   "execution_count": 312,
   "metadata": {
    "id": "Q7_52u0fqoLM"
   },
   "outputs": [],
   "source": [
    "# Creamos el siguiente data que contiene valores nulos. \n",
    "\n",
    "data = pd.DataFrame({'id': [1, 2, 3, 4, 5, 6, 7, 8, 9],\n",
    "                     'area': [1, 2, 3, 1, 2, 3, 1, 2, 3],\n",
    "                     'age': [32, 30, np.nan, 23, 27, 44, 67, 23, np.nan],\n",
    "                     'amount': [102, 121, 343, np.nan, 121, np.nan, 155, 149, 221]})"
   ]
  },
  {
   "cell_type": "code",
   "execution_count": 313,
   "metadata": {
    "colab": {
     "base_uri": "https://localhost:8080/",
     "height": 332
    },
    "id": "oL2bp4XltDu5",
    "outputId": "67e36e54-cfc7-4eda-8637-7c6879cc18f4"
   },
   "outputs": [
    {
     "data": {
      "text/html": [
       "<div>\n",
       "<style scoped>\n",
       "    .dataframe tbody tr th:only-of-type {\n",
       "        vertical-align: middle;\n",
       "    }\n",
       "\n",
       "    .dataframe tbody tr th {\n",
       "        vertical-align: top;\n",
       "    }\n",
       "\n",
       "    .dataframe thead th {\n",
       "        text-align: right;\n",
       "    }\n",
       "</style>\n",
       "<table border=\"1\" class=\"dataframe\">\n",
       "  <thead>\n",
       "    <tr style=\"text-align: right;\">\n",
       "      <th></th>\n",
       "      <th>id</th>\n",
       "      <th>area</th>\n",
       "      <th>age</th>\n",
       "      <th>amount</th>\n",
       "    </tr>\n",
       "  </thead>\n",
       "  <tbody>\n",
       "    <tr>\n",
       "      <th>0</th>\n",
       "      <td>1</td>\n",
       "      <td>1</td>\n",
       "      <td>32</td>\n",
       "      <td>102</td>\n",
       "    </tr>\n",
       "    <tr>\n",
       "      <th>1</th>\n",
       "      <td>2</td>\n",
       "      <td>2</td>\n",
       "      <td>30</td>\n",
       "      <td>121</td>\n",
       "    </tr>\n",
       "    <tr>\n",
       "      <th>2</th>\n",
       "      <td>3</td>\n",
       "      <td>3</td>\n",
       "      <td>NaN</td>\n",
       "      <td>343</td>\n",
       "    </tr>\n",
       "    <tr>\n",
       "      <th>3</th>\n",
       "      <td>4</td>\n",
       "      <td>1</td>\n",
       "      <td>23</td>\n",
       "      <td>NaN</td>\n",
       "    </tr>\n",
       "    <tr>\n",
       "      <th>4</th>\n",
       "      <td>5</td>\n",
       "      <td>2</td>\n",
       "      <td>27</td>\n",
       "      <td>121</td>\n",
       "    </tr>\n",
       "    <tr>\n",
       "      <th>5</th>\n",
       "      <td>6</td>\n",
       "      <td>3</td>\n",
       "      <td>44</td>\n",
       "      <td>NaN</td>\n",
       "    </tr>\n",
       "    <tr>\n",
       "      <th>6</th>\n",
       "      <td>7</td>\n",
       "      <td>1</td>\n",
       "      <td>67</td>\n",
       "      <td>155</td>\n",
       "    </tr>\n",
       "    <tr>\n",
       "      <th>7</th>\n",
       "      <td>8</td>\n",
       "      <td>2</td>\n",
       "      <td>23</td>\n",
       "      <td>149</td>\n",
       "    </tr>\n",
       "    <tr>\n",
       "      <th>8</th>\n",
       "      <td>9</td>\n",
       "      <td>3</td>\n",
       "      <td>NaN</td>\n",
       "      <td>221</td>\n",
       "    </tr>\n",
       "  </tbody>\n",
       "</table>\n",
       "</div>"
      ],
      "text/plain": [
       "   id  area  age  amount\n",
       "0   1     1   32     102\n",
       "1   2     2   30     121\n",
       "2   3     3  NaN     343\n",
       "3   4     1   23     NaN\n",
       "4   5     2   27     121\n",
       "5   6     3   44     NaN\n",
       "6   7     1   67     155\n",
       "7   8     2   23     149\n",
       "8   9     3  NaN     221"
      ]
     },
     "execution_count": 313,
     "metadata": {},
     "output_type": "execute_result"
    }
   ],
   "source": [
    "data"
   ]
  },
  {
   "cell_type": "markdown",
   "metadata": {
    "id": "xjZGtvtTvLbV"
   },
   "source": [
    "#### SimpleImputer"
   ]
  },
  {
   "cell_type": "markdown",
   "metadata": {
    "id": "TOAVV0hvqxN2"
   },
   "source": [
    "[SimpleImputer](https://scikit-learn.org/stable/modules/generated/sklearn.impute.SimpleImputer.html) nos permite imputar un mismo valor a todos los registros nulos de una columna. Podemos usar la media, la mediana o la moda, o un valor constante que se indique. \n",
    "\n",
    "El método de cálculo se indica con la propiedad *strategy* que puede recibir como valor: mean, median, most_frequent o constant. En el caso de que el valor sea constant es necesario indicar mediante la propiedad fill_value."
   ]
  },
  {
   "cell_type": "code",
   "execution_count": 314,
   "metadata": {
    "id": "SyZb3e1Pq2DP"
   },
   "outputs": [],
   "source": [
    "from sklearn.impute import SimpleImputer\n",
    "simple = SimpleImputer().fit(data)\n",
    "mean = simple.transform(data)"
   ]
  },
  {
   "cell_type": "code",
   "execution_count": 315,
   "metadata": {
    "id": "6QLkOlhYtGIl"
   },
   "outputs": [],
   "source": [
    "# Como mean es un array, lo tenemos que asociar a un DataFrame. Además, con round(1) redondeamos el valor a un decimal.\n",
    "\n",
    "data_media = pd.DataFrame(mean,columns=data.columns).round(1)"
   ]
  },
  {
   "cell_type": "code",
   "execution_count": 316,
   "metadata": {
    "colab": {
     "base_uri": "https://localhost:8080/",
     "height": 332
    },
    "id": "U9Q4DvUWEdkL",
    "outputId": "ff2a74ca-1601-4235-d0d4-d16bc317e44d"
   },
   "outputs": [
    {
     "data": {
      "text/html": [
       "<div>\n",
       "<style scoped>\n",
       "    .dataframe tbody tr th:only-of-type {\n",
       "        vertical-align: middle;\n",
       "    }\n",
       "\n",
       "    .dataframe tbody tr th {\n",
       "        vertical-align: top;\n",
       "    }\n",
       "\n",
       "    .dataframe thead th {\n",
       "        text-align: right;\n",
       "    }\n",
       "</style>\n",
       "<table border=\"1\" class=\"dataframe\">\n",
       "  <thead>\n",
       "    <tr style=\"text-align: right;\">\n",
       "      <th></th>\n",
       "      <th>id</th>\n",
       "      <th>area</th>\n",
       "      <th>age</th>\n",
       "      <th>amount</th>\n",
       "    </tr>\n",
       "  </thead>\n",
       "  <tbody>\n",
       "    <tr>\n",
       "      <th>0</th>\n",
       "      <td>1</td>\n",
       "      <td>1</td>\n",
       "      <td>32</td>\n",
       "      <td>102</td>\n",
       "    </tr>\n",
       "    <tr>\n",
       "      <th>1</th>\n",
       "      <td>2</td>\n",
       "      <td>2</td>\n",
       "      <td>30</td>\n",
       "      <td>121</td>\n",
       "    </tr>\n",
       "    <tr>\n",
       "      <th>2</th>\n",
       "      <td>3</td>\n",
       "      <td>3</td>\n",
       "      <td>35</td>\n",
       "      <td>343</td>\n",
       "    </tr>\n",
       "    <tr>\n",
       "      <th>3</th>\n",
       "      <td>4</td>\n",
       "      <td>1</td>\n",
       "      <td>23</td>\n",
       "      <td>173</td>\n",
       "    </tr>\n",
       "    <tr>\n",
       "      <th>4</th>\n",
       "      <td>5</td>\n",
       "      <td>2</td>\n",
       "      <td>27</td>\n",
       "      <td>121</td>\n",
       "    </tr>\n",
       "    <tr>\n",
       "      <th>5</th>\n",
       "      <td>6</td>\n",
       "      <td>3</td>\n",
       "      <td>44</td>\n",
       "      <td>173</td>\n",
       "    </tr>\n",
       "    <tr>\n",
       "      <th>6</th>\n",
       "      <td>7</td>\n",
       "      <td>1</td>\n",
       "      <td>67</td>\n",
       "      <td>155</td>\n",
       "    </tr>\n",
       "    <tr>\n",
       "      <th>7</th>\n",
       "      <td>8</td>\n",
       "      <td>2</td>\n",
       "      <td>23</td>\n",
       "      <td>149</td>\n",
       "    </tr>\n",
       "    <tr>\n",
       "      <th>8</th>\n",
       "      <td>9</td>\n",
       "      <td>3</td>\n",
       "      <td>35</td>\n",
       "      <td>221</td>\n",
       "    </tr>\n",
       "  </tbody>\n",
       "</table>\n",
       "</div>"
      ],
      "text/plain": [
       "   id  area  age  amount\n",
       "0   1     1   32     102\n",
       "1   2     2   30     121\n",
       "2   3     3   35     343\n",
       "3   4     1   23     173\n",
       "4   5     2   27     121\n",
       "5   6     3   44     173\n",
       "6   7     1   67     155\n",
       "7   8     2   23     149\n",
       "8   9     3   35     221"
      ]
     },
     "execution_count": 316,
     "metadata": {},
     "output_type": "execute_result"
    }
   ],
   "source": [
    "data_media"
   ]
  },
  {
   "cell_type": "markdown",
   "metadata": {
    "id": "WSATnKmKtvxu"
   },
   "source": [
    "Nos imputa el valor de la edad promedio (35,1) y el monto promedio (173,1)."
   ]
  },
  {
   "cell_type": "markdown",
   "metadata": {
    "id": "-ASc42CMrPFE"
   },
   "source": [
    "En este caso, podríamos querer obtener números enteros, sin decimales, como en el resto de los registros, y podríamos usar la moda."
   ]
  },
  {
   "cell_type": "code",
   "execution_count": 317,
   "metadata": {
    "id": "zhirZeVCrSQd"
   },
   "outputs": [],
   "source": [
    "simple = SimpleImputer(strategy='most_frequent')\n",
    "mode = simple.fit_transform(data)"
   ]
  },
  {
   "cell_type": "code",
   "execution_count": 318,
   "metadata": {
    "id": "G1uLPI5JvW-8"
   },
   "outputs": [],
   "source": [
    "data_moda = pd.DataFrame(mode,columns=data.columns)"
   ]
  },
  {
   "cell_type": "code",
   "execution_count": 319,
   "metadata": {
    "colab": {
     "base_uri": "https://localhost:8080/",
     "height": 332
    },
    "id": "L9y2oaBhEcFp",
    "outputId": "2dfce310-bae9-4e9c-b925-f0b80a97808c"
   },
   "outputs": [
    {
     "data": {
      "text/html": [
       "<div>\n",
       "<style scoped>\n",
       "    .dataframe tbody tr th:only-of-type {\n",
       "        vertical-align: middle;\n",
       "    }\n",
       "\n",
       "    .dataframe tbody tr th {\n",
       "        vertical-align: top;\n",
       "    }\n",
       "\n",
       "    .dataframe thead th {\n",
       "        text-align: right;\n",
       "    }\n",
       "</style>\n",
       "<table border=\"1\" class=\"dataframe\">\n",
       "  <thead>\n",
       "    <tr style=\"text-align: right;\">\n",
       "      <th></th>\n",
       "      <th>id</th>\n",
       "      <th>area</th>\n",
       "      <th>age</th>\n",
       "      <th>amount</th>\n",
       "    </tr>\n",
       "  </thead>\n",
       "  <tbody>\n",
       "    <tr>\n",
       "      <th>0</th>\n",
       "      <td>1</td>\n",
       "      <td>1</td>\n",
       "      <td>32</td>\n",
       "      <td>102</td>\n",
       "    </tr>\n",
       "    <tr>\n",
       "      <th>1</th>\n",
       "      <td>2</td>\n",
       "      <td>2</td>\n",
       "      <td>30</td>\n",
       "      <td>121</td>\n",
       "    </tr>\n",
       "    <tr>\n",
       "      <th>2</th>\n",
       "      <td>3</td>\n",
       "      <td>3</td>\n",
       "      <td>23</td>\n",
       "      <td>343</td>\n",
       "    </tr>\n",
       "    <tr>\n",
       "      <th>3</th>\n",
       "      <td>4</td>\n",
       "      <td>1</td>\n",
       "      <td>23</td>\n",
       "      <td>121</td>\n",
       "    </tr>\n",
       "    <tr>\n",
       "      <th>4</th>\n",
       "      <td>5</td>\n",
       "      <td>2</td>\n",
       "      <td>27</td>\n",
       "      <td>121</td>\n",
       "    </tr>\n",
       "    <tr>\n",
       "      <th>5</th>\n",
       "      <td>6</td>\n",
       "      <td>3</td>\n",
       "      <td>44</td>\n",
       "      <td>121</td>\n",
       "    </tr>\n",
       "    <tr>\n",
       "      <th>6</th>\n",
       "      <td>7</td>\n",
       "      <td>1</td>\n",
       "      <td>67</td>\n",
       "      <td>155</td>\n",
       "    </tr>\n",
       "    <tr>\n",
       "      <th>7</th>\n",
       "      <td>8</td>\n",
       "      <td>2</td>\n",
       "      <td>23</td>\n",
       "      <td>149</td>\n",
       "    </tr>\n",
       "    <tr>\n",
       "      <th>8</th>\n",
       "      <td>9</td>\n",
       "      <td>3</td>\n",
       "      <td>23</td>\n",
       "      <td>221</td>\n",
       "    </tr>\n",
       "  </tbody>\n",
       "</table>\n",
       "</div>"
      ],
      "text/plain": [
       "   id  area  age  amount\n",
       "0   1     1   32     102\n",
       "1   2     2   30     121\n",
       "2   3     3   23     343\n",
       "3   4     1   23     121\n",
       "4   5     2   27     121\n",
       "5   6     3   44     121\n",
       "6   7     1   67     155\n",
       "7   8     2   23     149\n",
       "8   9     3   23     221"
      ]
     },
     "execution_count": 319,
     "metadata": {},
     "output_type": "execute_result"
    }
   ],
   "source": [
    "data_moda"
   ]
  },
  {
   "cell_type": "markdown",
   "metadata": {
    "id": "6Vxr1VXyrVio"
   },
   "source": [
    "Ahora el valor usado en la columna age es 23, mientras que para amount es 121."
   ]
  },
  {
   "cell_type": "markdown",
   "metadata": {
    "id": "-Cf4214BcneZ"
   },
   "source": [
    "## 3 - Volviendo a nuestra base: acercamos nuestro DataFrame de películas al criterio de Tidy Data."
   ]
  },
  {
   "cell_type": "code",
   "execution_count": 320,
   "metadata": {
    "colab": {
     "base_uri": "https://localhost:8080/",
     "height": 624
    },
    "id": "_k6RWdgJ2J1O",
    "outputId": "a1c983c7-43ba-47a1-fffc-f035599a7191"
   },
   "outputs": [
    {
     "data": {
      "text/html": [
       "<div>\n",
       "<style scoped>\n",
       "    .dataframe tbody tr th:only-of-type {\n",
       "        vertical-align: middle;\n",
       "    }\n",
       "\n",
       "    .dataframe tbody tr th {\n",
       "        vertical-align: top;\n",
       "    }\n",
       "\n",
       "    .dataframe thead th {\n",
       "        text-align: right;\n",
       "    }\n",
       "</style>\n",
       "<table border=\"1\" class=\"dataframe\">\n",
       "  <thead>\n",
       "    <tr style=\"text-align: right;\">\n",
       "      <th></th>\n",
       "      <th>MOVIES</th>\n",
       "      <th>YEAR</th>\n",
       "      <th>GENRE</th>\n",
       "      <th>RATING</th>\n",
       "      <th>ONE-LINE</th>\n",
       "      <th>STARS</th>\n",
       "      <th>VOTES</th>\n",
       "      <th>RunTime</th>\n",
       "      <th>Gross</th>\n",
       "    </tr>\n",
       "  </thead>\n",
       "  <tbody>\n",
       "    <tr>\n",
       "      <th>0</th>\n",
       "      <td>Blood Red Sky</td>\n",
       "      <td>2021</td>\n",
       "      <td>\\nAction, Horror, Thriller</td>\n",
       "      <td>6</td>\n",
       "      <td>\\nA woman with a mysterious illness is forced ...</td>\n",
       "      <td>\\n    Director:\\nPeter Thorwarth\\n| \\n    Star...</td>\n",
       "      <td>21062</td>\n",
       "      <td>121</td>\n",
       "      <td>NaN</td>\n",
       "    </tr>\n",
       "    <tr>\n",
       "      <th>1</th>\n",
       "      <td>Masters of the Universe: Revelation</td>\n",
       "      <td>2021</td>\n",
       "      <td>\\nAnimation, Action, Adventure</td>\n",
       "      <td>5</td>\n",
       "      <td>\\nThe war for Eternia begins again in what may...</td>\n",
       "      <td>\\n            \\n    Stars:\\nChris Wood, \\nSara...</td>\n",
       "      <td>17870</td>\n",
       "      <td>25</td>\n",
       "      <td>NaN</td>\n",
       "    </tr>\n",
       "    <tr>\n",
       "      <th>2</th>\n",
       "      <td>The Walking Dead</td>\n",
       "      <td>2010</td>\n",
       "      <td>\\nDrama, Horror, Thriller</td>\n",
       "      <td>8</td>\n",
       "      <td>\\nSheriff Deputy Rick Grimes wakes up from a c...</td>\n",
       "      <td>\\n            \\n    Stars:\\nAndrew Lincoln, \\n...</td>\n",
       "      <td>885805</td>\n",
       "      <td>44</td>\n",
       "      <td>NaN</td>\n",
       "    </tr>\n",
       "    <tr>\n",
       "      <th>3</th>\n",
       "      <td>Rick and Morty</td>\n",
       "      <td>2013</td>\n",
       "      <td>\\nAnimation, Adventure, Comedy</td>\n",
       "      <td>9</td>\n",
       "      <td>\\nAn animated series that follows the exploits...</td>\n",
       "      <td>\\n            \\n    Stars:\\nJustin Roiland, \\n...</td>\n",
       "      <td>414849</td>\n",
       "      <td>23</td>\n",
       "      <td>NaN</td>\n",
       "    </tr>\n",
       "    <tr>\n",
       "      <th>4</th>\n",
       "      <td>Army of Thieves</td>\n",
       "      <td>2021</td>\n",
       "      <td>\\nAction, Crime, Horror</td>\n",
       "      <td>NaN</td>\n",
       "      <td>\\nA prequel, set before the events of Army of ...</td>\n",
       "      <td>\\n    Director:\\nMatthias Schweighöfer\\n| \\n  ...</td>\n",
       "      <td>NaN</td>\n",
       "      <td>NaN</td>\n",
       "      <td>NaN</td>\n",
       "    </tr>\n",
       "    <tr>\n",
       "      <th>...</th>\n",
       "      <td>...</td>\n",
       "      <td>...</td>\n",
       "      <td>...</td>\n",
       "      <td>...</td>\n",
       "      <td>...</td>\n",
       "      <td>...</td>\n",
       "      <td>...</td>\n",
       "      <td>...</td>\n",
       "      <td>...</td>\n",
       "    </tr>\n",
       "    <tr>\n",
       "      <th>9994</th>\n",
       "      <td>The Imperfects</td>\n",
       "      <td>2021</td>\n",
       "      <td>\\nAdventure, Drama, Fantasy</td>\n",
       "      <td>NaN</td>\n",
       "      <td>\\nAdd a Plot\\n</td>\n",
       "      <td>\\n            \\n    Stars:\\nMorgan Taylor Camp...</td>\n",
       "      <td>NaN</td>\n",
       "      <td>NaN</td>\n",
       "      <td>NaN</td>\n",
       "    </tr>\n",
       "    <tr>\n",
       "      <th>9995</th>\n",
       "      <td>Arcane</td>\n",
       "      <td>2021</td>\n",
       "      <td>\\nAnimation, Action, Adventure</td>\n",
       "      <td>NaN</td>\n",
       "      <td>\\nAdd a Plot\\n</td>\n",
       "      <td>\\n</td>\n",
       "      <td>NaN</td>\n",
       "      <td>NaN</td>\n",
       "      <td>NaN</td>\n",
       "    </tr>\n",
       "    <tr>\n",
       "      <th>9996</th>\n",
       "      <td>Heart of Invictus</td>\n",
       "      <td>2022</td>\n",
       "      <td>\\nDocumentary, Sport</td>\n",
       "      <td>NaN</td>\n",
       "      <td>\\nAdd a Plot\\n</td>\n",
       "      <td>\\n    Director:\\nOrlando von Einsiedel\\n| \\n  ...</td>\n",
       "      <td>NaN</td>\n",
       "      <td>NaN</td>\n",
       "      <td>NaN</td>\n",
       "    </tr>\n",
       "    <tr>\n",
       "      <th>9997</th>\n",
       "      <td>The Imperfects</td>\n",
       "      <td>2021</td>\n",
       "      <td>\\nAdventure, Drama, Fantasy</td>\n",
       "      <td>NaN</td>\n",
       "      <td>\\nAdd a Plot\\n</td>\n",
       "      <td>\\n    Director:\\nJovanka Vuckovic\\n| \\n    Sta...</td>\n",
       "      <td>NaN</td>\n",
       "      <td>NaN</td>\n",
       "      <td>NaN</td>\n",
       "    </tr>\n",
       "    <tr>\n",
       "      <th>9998</th>\n",
       "      <td>The Imperfects</td>\n",
       "      <td>2021</td>\n",
       "      <td>\\nAdventure, Drama, Fantasy</td>\n",
       "      <td>NaN</td>\n",
       "      <td>\\nAdd a Plot\\n</td>\n",
       "      <td>\\n    Director:\\nJovanka Vuckovic\\n| \\n    Sta...</td>\n",
       "      <td>NaN</td>\n",
       "      <td>NaN</td>\n",
       "      <td>NaN</td>\n",
       "    </tr>\n",
       "  </tbody>\n",
       "</table>\n",
       "<p>9999 rows × 9 columns</p>\n",
       "</div>"
      ],
      "text/plain": [
       "                                   MOVIES  YEAR  \\\n",
       "0                           Blood Red Sky  2021   \n",
       "1     Masters of the Universe: Revelation  2021   \n",
       "2                        The Walking Dead  2010   \n",
       "3                          Rick and Morty  2013   \n",
       "4                         Army of Thieves  2021   \n",
       "...                                   ...   ...   \n",
       "9994                       The Imperfects  2021   \n",
       "9995                               Arcane  2021   \n",
       "9996                    Heart of Invictus  2022   \n",
       "9997                       The Imperfects  2021   \n",
       "9998                       The Imperfects  2021   \n",
       "\n",
       "                                           GENRE  RATING  \\\n",
       "0         \\nAction, Horror, Thriller                   6   \n",
       "1     \\nAnimation, Action, Adventure                   5   \n",
       "2          \\nDrama, Horror, Thriller                   8   \n",
       "3     \\nAnimation, Adventure, Comedy                   9   \n",
       "4            \\nAction, Crime, Horror                 NaN   \n",
       "...                                          ...     ...   \n",
       "9994     \\nAdventure, Drama, Fantasy                 NaN   \n",
       "9995  \\nAnimation, Action, Adventure                 NaN   \n",
       "9996            \\nDocumentary, Sport                 NaN   \n",
       "9997     \\nAdventure, Drama, Fantasy                 NaN   \n",
       "9998     \\nAdventure, Drama, Fantasy                 NaN   \n",
       "\n",
       "                                               ONE-LINE  \\\n",
       "0     \\nA woman with a mysterious illness is forced ...   \n",
       "1     \\nThe war for Eternia begins again in what may...   \n",
       "2     \\nSheriff Deputy Rick Grimes wakes up from a c...   \n",
       "3     \\nAn animated series that follows the exploits...   \n",
       "4     \\nA prequel, set before the events of Army of ...   \n",
       "...                                                 ...   \n",
       "9994                                     \\nAdd a Plot\\n   \n",
       "9995                                     \\nAdd a Plot\\n   \n",
       "9996                                     \\nAdd a Plot\\n   \n",
       "9997                                     \\nAdd a Plot\\n   \n",
       "9998                                     \\nAdd a Plot\\n   \n",
       "\n",
       "                                                  STARS  VOTES  RunTime  Gross  \n",
       "0     \\n    Director:\\nPeter Thorwarth\\n| \\n    Star...  21062      121    NaN  \n",
       "1     \\n            \\n    Stars:\\nChris Wood, \\nSara...  17870       25    NaN  \n",
       "2     \\n            \\n    Stars:\\nAndrew Lincoln, \\n... 885805       44    NaN  \n",
       "3     \\n            \\n    Stars:\\nJustin Roiland, \\n... 414849       23    NaN  \n",
       "4     \\n    Director:\\nMatthias Schweighöfer\\n| \\n  ...    NaN      NaN    NaN  \n",
       "...                                                 ...    ...      ...    ...  \n",
       "9994  \\n            \\n    Stars:\\nMorgan Taylor Camp...    NaN      NaN    NaN  \n",
       "9995                                                 \\n    NaN      NaN    NaN  \n",
       "9996  \\n    Director:\\nOrlando von Einsiedel\\n| \\n  ...    NaN      NaN    NaN  \n",
       "9997  \\n    Director:\\nJovanka Vuckovic\\n| \\n    Sta...    NaN      NaN    NaN  \n",
       "9998  \\n    Director:\\nJovanka Vuckovic\\n| \\n    Sta...    NaN      NaN    NaN  \n",
       "\n",
       "[9999 rows x 9 columns]"
      ]
     },
     "execution_count": 320,
     "metadata": {},
     "output_type": "execute_result"
    }
   ],
   "source": [
    "df#[\"STARS\"]"
   ]
  },
  {
   "cell_type": "code",
   "execution_count": 321,
   "metadata": {
    "id": "6BIL_H0JTauB"
   },
   "outputs": [],
   "source": [
    "df[\"Director\"] = df[df[\"STARS\"].str.contains(\"Director\")][\"STARS\"].str.split(\"\\n\",expand=True)[2]"
   ]
  },
  {
   "cell_type": "code",
   "execution_count": 322,
   "metadata": {
    "id": "M28bcE3iVU21"
   },
   "outputs": [],
   "source": [
    "stars = df[df[\"STARS\"].str.contains(\"Director\")][\"STARS\"].str.split(\"|\",expand=True)[1].str.replace(\"\\n\",\" \")"
   ]
  },
  {
   "cell_type": "code",
   "execution_count": 324,
   "metadata": {
    "colab": {
     "base_uri": "https://localhost:8080/"
    },
    "id": "7hsB9qtx4VRV",
    "outputId": "d1ee7920-b11e-4cb5-c451-38a7074d9f7b"
   },
   "outputs": [
    {
     "data": {
      "text/plain": [
       "0             Peter Thorwarth\n",
       "1                         NaN\n",
       "2                         NaN\n",
       "3                         NaN\n",
       "4       Matthias Schweighöfer\n",
       "                ...          \n",
       "9994                      NaN\n",
       "9995                      NaN\n",
       "9996    Orlando von Einsiedel\n",
       "9997         Jovanka Vuckovic\n",
       "9998         Jovanka Vuckovic\n",
       "Name: Director, Length: 9999, dtype: object"
      ]
     },
     "execution_count": 324,
     "metadata": {},
     "output_type": "execute_result"
    }
   ],
   "source": [
    "df[\"Director\"]"
   ]
  },
  {
   "cell_type": "code",
   "execution_count": 328,
   "metadata": {
    "id": "I4hZ8LKaXj3U"
   },
   "outputs": [],
   "source": [
    "df[\"Stars\"] = stars.str.replace(\"Stars:\",\"\").str.strip()"
   ]
  },
  {
   "cell_type": "code",
   "execution_count": 329,
   "metadata": {
    "colab": {
     "base_uri": "https://localhost:8080/"
    },
    "id": "LhqNkTiZ5MOi",
    "outputId": "80c0bfe8-917e-4980-e9c8-37a26a463eaf"
   },
   "outputs": [
    {
     "data": {
      "text/plain": [
       "Rorrie D. Travis,  Jasmeet Baduwalia,  Jacqueline Scislowski,  Abraham Rodriguez    40\n",
       "Zach Tyler,  Mae Whitman,  Jack De Sena,  Michaela Jill Murphy                      34\n",
       "Aimee Carrero,  Karen Fukuhara,  AJ Michalka,  Marcus Scribner                      32\n",
       "Regina King,  John Witherspoon,  Cedric Yarbrough,  Gary Anthony Williams           30\n",
       "Russell Curry,  Hunter Deno,  Kainalu Moya,  Tessa Rao                              25\n",
       "                                                                                    ..\n",
       "Dhruv Ganesh,  Siddharth Menon,  Shiv Panditt,  Dixit                                1\n",
       "Eddie Izzard,  Matt LeBlanc,  Udo Kier,  James Cosmo                                 1\n",
       "Michaela Coel,  Mya Lewis,  Arinzé Kene,  George MacKay                              1\n",
       "Bishop Agapit,  Catherine Ashton,  Serhii Averchenko,  Kristina Berdinskikh          1\n",
       "Morgan Taylor Campbell,  Jennifer Cheon Garcia,  Iñaki Godoy,  Rhianna Jagpal        1\n",
       "Name: Stars, Length: 4277, dtype: int64"
      ]
     },
     "execution_count": 329,
     "metadata": {},
     "output_type": "execute_result"
    }
   ],
   "source": [
    "df[\"Stars\"].value_counts()"
   ]
  },
  {
   "cell_type": "code",
   "execution_count": 330,
   "metadata": {
    "id": "WE6rB7KFYMfy"
   },
   "outputs": [],
   "source": [
    "df.drop(\"STARS\", axis=1, inplace=True)"
   ]
  },
  {
   "cell_type": "code",
   "execution_count": 331,
   "metadata": {
    "id": "nnNlyjsBGEuU"
   },
   "outputs": [],
   "source": [
    "# Limpiamos las columnas con errores sistemáticos\n",
    "\n",
    "df[\"GENRE\"]=df[\"GENRE\"].str.replace(\"\\n\", \"\")\n",
    "df[\"ONE-LINE\"]=df[\"ONE-LINE\"].str.replace(\"\\n\", \"\")"
   ]
  },
  {
   "cell_type": "code",
   "execution_count": 333,
   "metadata": {
    "colab": {
     "base_uri": "https://localhost:8080/",
     "height": 337
    },
    "id": "yX1ybtC3VmDe",
    "outputId": "4e588d44-7e75-49f5-de1b-1dd2ebb620c8"
   },
   "outputs": [
    {
     "data": {
      "text/html": [
       "<div>\n",
       "<style scoped>\n",
       "    .dataframe tbody tr th:only-of-type {\n",
       "        vertical-align: middle;\n",
       "    }\n",
       "\n",
       "    .dataframe tbody tr th {\n",
       "        vertical-align: top;\n",
       "    }\n",
       "\n",
       "    .dataframe thead th {\n",
       "        text-align: right;\n",
       "    }\n",
       "</style>\n",
       "<table border=\"1\" class=\"dataframe\">\n",
       "  <thead>\n",
       "    <tr style=\"text-align: right;\">\n",
       "      <th></th>\n",
       "      <th>MOVIES</th>\n",
       "      <th>YEAR</th>\n",
       "      <th>GENRE</th>\n",
       "      <th>RATING</th>\n",
       "      <th>ONE-LINE</th>\n",
       "      <th>VOTES</th>\n",
       "      <th>RunTime</th>\n",
       "      <th>Gross</th>\n",
       "      <th>Director</th>\n",
       "      <th>Stars</th>\n",
       "    </tr>\n",
       "  </thead>\n",
       "  <tbody>\n",
       "    <tr>\n",
       "      <th>0</th>\n",
       "      <td>Blood Red Sky</td>\n",
       "      <td>2021</td>\n",
       "      <td>Action, Horror, Thriller</td>\n",
       "      <td>6</td>\n",
       "      <td>A woman with a mysterious illness is forced in...</td>\n",
       "      <td>21062</td>\n",
       "      <td>121</td>\n",
       "      <td>NaN</td>\n",
       "      <td>Peter Thorwarth</td>\n",
       "      <td>Peri Baumeister,  Carl Anton Koch,  Alexander ...</td>\n",
       "    </tr>\n",
       "    <tr>\n",
       "      <th>1</th>\n",
       "      <td>Masters of the Universe: Revelation</td>\n",
       "      <td>2021</td>\n",
       "      <td>Animation, Action, Adventure</td>\n",
       "      <td>5</td>\n",
       "      <td>The war for Eternia begins again in what may b...</td>\n",
       "      <td>17870</td>\n",
       "      <td>25</td>\n",
       "      <td>NaN</td>\n",
       "      <td>NaN</td>\n",
       "      <td>NaN</td>\n",
       "    </tr>\n",
       "    <tr>\n",
       "      <th>2</th>\n",
       "      <td>The Walking Dead</td>\n",
       "      <td>2010</td>\n",
       "      <td>Drama, Horror, Thriller</td>\n",
       "      <td>8</td>\n",
       "      <td>Sheriff Deputy Rick Grimes wakes up from a com...</td>\n",
       "      <td>885805</td>\n",
       "      <td>44</td>\n",
       "      <td>NaN</td>\n",
       "      <td>NaN</td>\n",
       "      <td>NaN</td>\n",
       "    </tr>\n",
       "    <tr>\n",
       "      <th>3</th>\n",
       "      <td>Rick and Morty</td>\n",
       "      <td>2013</td>\n",
       "      <td>Animation, Adventure, Comedy</td>\n",
       "      <td>9</td>\n",
       "      <td>An animated series that follows the exploits o...</td>\n",
       "      <td>414849</td>\n",
       "      <td>23</td>\n",
       "      <td>NaN</td>\n",
       "      <td>NaN</td>\n",
       "      <td>NaN</td>\n",
       "    </tr>\n",
       "    <tr>\n",
       "      <th>4</th>\n",
       "      <td>Army of Thieves</td>\n",
       "      <td>2021</td>\n",
       "      <td>Action, Crime, Horror</td>\n",
       "      <td>NaN</td>\n",
       "      <td>A prequel, set before the events of Army of th...</td>\n",
       "      <td>NaN</td>\n",
       "      <td>NaN</td>\n",
       "      <td>NaN</td>\n",
       "      <td>Matthias Schweighöfer</td>\n",
       "      <td>Matthias Schweighöfer,  Nathalie Emmanuel,  Ru...</td>\n",
       "    </tr>\n",
       "  </tbody>\n",
       "</table>\n",
       "</div>"
      ],
      "text/plain": [
       "                                MOVIES  YEAR  \\\n",
       "0                        Blood Red Sky  2021   \n",
       "1  Masters of the Universe: Revelation  2021   \n",
       "2                     The Walking Dead  2010   \n",
       "3                       Rick and Morty  2013   \n",
       "4                      Army of Thieves  2021   \n",
       "\n",
       "                                      GENRE  RATING  \\\n",
       "0      Action, Horror, Thriller                   6   \n",
       "1  Animation, Action, Adventure                   5   \n",
       "2       Drama, Horror, Thriller                   8   \n",
       "3  Animation, Adventure, Comedy                   9   \n",
       "4         Action, Crime, Horror                 NaN   \n",
       "\n",
       "                                            ONE-LINE  VOTES  RunTime  Gross  \\\n",
       "0  A woman with a mysterious illness is forced in...  21062      121    NaN   \n",
       "1  The war for Eternia begins again in what may b...  17870       25    NaN   \n",
       "2  Sheriff Deputy Rick Grimes wakes up from a com... 885805       44    NaN   \n",
       "3  An animated series that follows the exploits o... 414849       23    NaN   \n",
       "4  A prequel, set before the events of Army of th...    NaN      NaN    NaN   \n",
       "\n",
       "                Director                                              Stars  \n",
       "0        Peter Thorwarth  Peri Baumeister,  Carl Anton Koch,  Alexander ...  \n",
       "1                    NaN                                                NaN  \n",
       "2                    NaN                                                NaN  \n",
       "3                    NaN                                                NaN  \n",
       "4  Matthias Schweighöfer  Matthias Schweighöfer,  Nathalie Emmanuel,  Ru...  "
      ]
     },
     "execution_count": 333,
     "metadata": {},
     "output_type": "execute_result"
    }
   ],
   "source": [
    "df.head()"
   ]
  },
  {
   "cell_type": "markdown",
   "metadata": {
    "id": "Cwd9XOmndAWQ"
   },
   "source": [
    "## 4 - Analizamos si los valores numéricos de las columnas son verosímiles."
   ]
  },
  {
   "cell_type": "code",
   "execution_count": 334,
   "metadata": {
    "colab": {
     "base_uri": "https://localhost:8080/",
     "height": 300
    },
    "id": "9f2RlVDuMInh",
    "outputId": "017966be-cf1c-48cd-c18a-e33431c2e961"
   },
   "outputs": [
    {
     "data": {
      "text/html": [
       "<div>\n",
       "<style scoped>\n",
       "    .dataframe tbody tr th:only-of-type {\n",
       "        vertical-align: middle;\n",
       "    }\n",
       "\n",
       "    .dataframe tbody tr th {\n",
       "        vertical-align: top;\n",
       "    }\n",
       "\n",
       "    .dataframe thead th {\n",
       "        text-align: right;\n",
       "    }\n",
       "</style>\n",
       "<table border=\"1\" class=\"dataframe\">\n",
       "  <thead>\n",
       "    <tr style=\"text-align: right;\">\n",
       "      <th></th>\n",
       "      <th>YEAR</th>\n",
       "      <th>RATING</th>\n",
       "      <th>VOTES</th>\n",
       "      <th>RunTime</th>\n",
       "      <th>Gross</th>\n",
       "    </tr>\n",
       "  </thead>\n",
       "  <tbody>\n",
       "    <tr>\n",
       "      <th>count</th>\n",
       "      <td>9251</td>\n",
       "      <td>8179</td>\n",
       "      <td>8179</td>\n",
       "      <td>7041</td>\n",
       "      <td>460</td>\n",
       "    </tr>\n",
       "    <tr>\n",
       "      <th>mean</th>\n",
       "      <td>2016</td>\n",
       "      <td>7</td>\n",
       "      <td>15124</td>\n",
       "      <td>69</td>\n",
       "      <td>44</td>\n",
       "    </tr>\n",
       "    <tr>\n",
       "      <th>std</th>\n",
       "      <td>7</td>\n",
       "      <td>1</td>\n",
       "      <td>70055</td>\n",
       "      <td>47</td>\n",
       "      <td>82</td>\n",
       "    </tr>\n",
       "    <tr>\n",
       "      <th>min</th>\n",
       "      <td>1932</td>\n",
       "      <td>1</td>\n",
       "      <td>5</td>\n",
       "      <td>1</td>\n",
       "      <td>0</td>\n",
       "    </tr>\n",
       "    <tr>\n",
       "      <th>25%</th>\n",
       "      <td>2015</td>\n",
       "      <td>6</td>\n",
       "      <td>166</td>\n",
       "      <td>36</td>\n",
       "      <td>0</td>\n",
       "    </tr>\n",
       "    <tr>\n",
       "      <th>50%</th>\n",
       "      <td>2018</td>\n",
       "      <td>7</td>\n",
       "      <td>789</td>\n",
       "      <td>60</td>\n",
       "      <td>6</td>\n",
       "    </tr>\n",
       "    <tr>\n",
       "      <th>75%</th>\n",
       "      <td>2020</td>\n",
       "      <td>8</td>\n",
       "      <td>3772</td>\n",
       "      <td>95</td>\n",
       "      <td>47</td>\n",
       "    </tr>\n",
       "    <tr>\n",
       "      <th>max</th>\n",
       "      <td>2023</td>\n",
       "      <td>10</td>\n",
       "      <td>1713028</td>\n",
       "      <td>853</td>\n",
       "      <td>504</td>\n",
       "    </tr>\n",
       "  </tbody>\n",
       "</table>\n",
       "</div>"
      ],
      "text/plain": [
       "       YEAR  RATING   VOTES  RunTime  Gross\n",
       "count  9251    8179    8179     7041    460\n",
       "mean   2016       7   15124       69     44\n",
       "std       7       1   70055       47     82\n",
       "min    1932       1       5        1      0\n",
       "25%    2015       6     166       36      0\n",
       "50%    2018       7     789       60      6\n",
       "75%    2020       8    3772       95     47\n",
       "max    2023      10 1713028      853    504"
      ]
     },
     "execution_count": 334,
     "metadata": {},
     "output_type": "execute_result"
    }
   ],
   "source": [
    "pd.set_option('display.float_format', lambda x: '%.0f' % x)\n",
    "df.describe()"
   ]
  },
  {
   "cell_type": "code",
   "execution_count": 335,
   "metadata": {
    "colab": {
     "base_uri": "https://localhost:8080/",
     "height": 446
    },
    "id": "QAsgnokldYOY",
    "outputId": "b9ec1846-6f66-4712-825e-4a578774abc4"
   },
   "outputs": [
    {
     "data": {
      "image/png": "[encoded data removed]",
      "text/plain": [
       "<Figure size 1500x1500 with 12 Axes>"
      ]
     },
     "metadata": {},
     "output_type": "display_data"
    }
   ],
   "source": [
    "df.hist(\n",
    "    figsize=(15,15),\n",
    "    layout=(4,3),\n",
    "    bins=20\n",
    "    );"
   ]
  },
  {
   "cell_type": "markdown",
   "metadata": {
    "id": "juvb4Emzde8S"
   },
   "source": [
    "## 5 - ¿Hay datos duplicados?"
   ]
  },
  {
   "cell_type": "markdown",
   "metadata": {
    "id": "XzrqbfZCWoxg"
   },
   "source": [
    "*   **duplicated()** devuelve un booleano identificando los casos \n",
    "*   **drop_duplicates()** devuelve el DataFrame sin los casos duplicados\n"
   ]
  },
  {
   "cell_type": "code",
   "execution_count": 339,
   "metadata": {
    "colab": {
     "base_uri": "https://localhost:8080/",
     "height": 424
    },
    "id": "Kh6rnCf9U_KH",
    "outputId": "88848fb0-3bf9-4184-a8e2-810963a1a672"
   },
   "outputs": [
    {
     "data": {
      "text/html": [
       "<div>\n",
       "<style scoped>\n",
       "    .dataframe tbody tr th:only-of-type {\n",
       "        vertical-align: middle;\n",
       "    }\n",
       "\n",
       "    .dataframe tbody tr th {\n",
       "        vertical-align: top;\n",
       "    }\n",
       "\n",
       "    .dataframe thead th {\n",
       "        text-align: right;\n",
       "    }\n",
       "</style>\n",
       "<table border=\"1\" class=\"dataframe\">\n",
       "  <thead>\n",
       "    <tr style=\"text-align: right;\">\n",
       "      <th></th>\n",
       "      <th>MOVIES</th>\n",
       "      <th>YEAR</th>\n",
       "      <th>GENRE</th>\n",
       "      <th>RATING</th>\n",
       "      <th>ONE-LINE</th>\n",
       "      <th>VOTES</th>\n",
       "      <th>RunTime</th>\n",
       "      <th>Gross</th>\n",
       "      <th>Director</th>\n",
       "      <th>Stars</th>\n",
       "    </tr>\n",
       "  </thead>\n",
       "  <tbody>\n",
       "    <tr>\n",
       "      <th>6833</th>\n",
       "      <td>Mighty Little Bheem</td>\n",
       "      <td>2019</td>\n",
       "      <td>Animation, Short, Adventure</td>\n",
       "      <td>NaN</td>\n",
       "      <td>Add a Plot</td>\n",
       "      <td>NaN</td>\n",
       "      <td>NaN</td>\n",
       "      <td>NaN</td>\n",
       "      <td>Rajiv Chilaka,</td>\n",
       "      <td>None</td>\n",
       "    </tr>\n",
       "    <tr>\n",
       "      <th>6835</th>\n",
       "      <td>Mighty Little Bheem</td>\n",
       "      <td>2019</td>\n",
       "      <td>Animation, Short, Adventure</td>\n",
       "      <td>9</td>\n",
       "      <td>Add a Plot</td>\n",
       "      <td>6</td>\n",
       "      <td>NaN</td>\n",
       "      <td>NaN</td>\n",
       "      <td>Rajiv Chilaka,</td>\n",
       "      <td>None</td>\n",
       "    </tr>\n",
       "    <tr>\n",
       "      <th>6836</th>\n",
       "      <td>Mighty Little Bheem</td>\n",
       "      <td>2019</td>\n",
       "      <td>Animation, Short, Adventure</td>\n",
       "      <td>9</td>\n",
       "      <td>Add a Plot</td>\n",
       "      <td>6</td>\n",
       "      <td>NaN</td>\n",
       "      <td>NaN</td>\n",
       "      <td>Rajiv Chilaka,</td>\n",
       "      <td>None</td>\n",
       "    </tr>\n",
       "    <tr>\n",
       "      <th>6837</th>\n",
       "      <td>Mighty Little Bheem</td>\n",
       "      <td>2019</td>\n",
       "      <td>Animation, Short, Adventure</td>\n",
       "      <td>NaN</td>\n",
       "      <td>Add a Plot</td>\n",
       "      <td>NaN</td>\n",
       "      <td>NaN</td>\n",
       "      <td>NaN</td>\n",
       "      <td>Rajiv Chilaka,</td>\n",
       "      <td>None</td>\n",
       "    </tr>\n",
       "    <tr>\n",
       "      <th>6838</th>\n",
       "      <td>Mighty Little Bheem</td>\n",
       "      <td>2019</td>\n",
       "      <td>Animation, Short, Adventure</td>\n",
       "      <td>NaN</td>\n",
       "      <td>Add a Plot</td>\n",
       "      <td>NaN</td>\n",
       "      <td>NaN</td>\n",
       "      <td>NaN</td>\n",
       "      <td>Rajiv Chilaka,</td>\n",
       "      <td>None</td>\n",
       "    </tr>\n",
       "    <tr>\n",
       "      <th>...</th>\n",
       "      <td>...</td>\n",
       "      <td>...</td>\n",
       "      <td>...</td>\n",
       "      <td>...</td>\n",
       "      <td>...</td>\n",
       "      <td>...</td>\n",
       "      <td>...</td>\n",
       "      <td>...</td>\n",
       "      <td>...</td>\n",
       "      <td>...</td>\n",
       "    </tr>\n",
       "    <tr>\n",
       "      <th>9989</th>\n",
       "      <td>1899</td>\n",
       "      <td>2022</td>\n",
       "      <td>Drama, History, Horror</td>\n",
       "      <td>NaN</td>\n",
       "      <td>Add a Plot</td>\n",
       "      <td>NaN</td>\n",
       "      <td>NaN</td>\n",
       "      <td>NaN</td>\n",
       "      <td>Baran bo Odar</td>\n",
       "      <td>None</td>\n",
       "    </tr>\n",
       "    <tr>\n",
       "      <th>9990</th>\n",
       "      <td>1899</td>\n",
       "      <td>2022</td>\n",
       "      <td>Drama, History, Horror</td>\n",
       "      <td>NaN</td>\n",
       "      <td>Add a Plot</td>\n",
       "      <td>NaN</td>\n",
       "      <td>NaN</td>\n",
       "      <td>NaN</td>\n",
       "      <td>Baran bo Odar</td>\n",
       "      <td>None</td>\n",
       "    </tr>\n",
       "    <tr>\n",
       "      <th>9991</th>\n",
       "      <td>1899</td>\n",
       "      <td>2022</td>\n",
       "      <td>Drama, History, Horror</td>\n",
       "      <td>NaN</td>\n",
       "      <td>Add a Plot</td>\n",
       "      <td>NaN</td>\n",
       "      <td>NaN</td>\n",
       "      <td>NaN</td>\n",
       "      <td>Baran bo Odar</td>\n",
       "      <td>None</td>\n",
       "    </tr>\n",
       "    <tr>\n",
       "      <th>9992</th>\n",
       "      <td>1899</td>\n",
       "      <td>2022</td>\n",
       "      <td>Drama, History, Horror</td>\n",
       "      <td>NaN</td>\n",
       "      <td>Add a Plot</td>\n",
       "      <td>NaN</td>\n",
       "      <td>NaN</td>\n",
       "      <td>NaN</td>\n",
       "      <td>Baran bo Odar</td>\n",
       "      <td>None</td>\n",
       "    </tr>\n",
       "    <tr>\n",
       "      <th>9994</th>\n",
       "      <td>The Imperfects</td>\n",
       "      <td>2021</td>\n",
       "      <td>Adventure, Drama, Fantasy</td>\n",
       "      <td>NaN</td>\n",
       "      <td>Add a Plot</td>\n",
       "      <td>NaN</td>\n",
       "      <td>NaN</td>\n",
       "      <td>NaN</td>\n",
       "      <td>NaN</td>\n",
       "      <td>NaN</td>\n",
       "    </tr>\n",
       "  </tbody>\n",
       "</table>\n",
       "<p>516 rows × 10 columns</p>\n",
       "</div>"
      ],
      "text/plain": [
       "                    MOVIES  YEAR                                    GENRE  \\\n",
       "6833   Mighty Little Bheem  2019  Animation, Short, Adventure               \n",
       "6835   Mighty Little Bheem  2019  Animation, Short, Adventure               \n",
       "6836   Mighty Little Bheem  2019  Animation, Short, Adventure               \n",
       "6837   Mighty Little Bheem  2019  Animation, Short, Adventure               \n",
       "6838   Mighty Little Bheem  2019  Animation, Short, Adventure               \n",
       "...                    ...   ...                                      ...   \n",
       "9989                  1899  2022       Drama, History, Horror               \n",
       "9990                  1899  2022       Drama, History, Horror               \n",
       "9991                  1899  2022       Drama, History, Horror               \n",
       "9992                  1899  2022       Drama, History, Horror               \n",
       "9994        The Imperfects  2021    Adventure, Drama, Fantasy               \n",
       "\n",
       "      RATING    ONE-LINE  VOTES  RunTime  Gross         Director Stars  \n",
       "6833     NaN  Add a Plot    NaN      NaN    NaN  Rajiv Chilaka,   None  \n",
       "6835       9  Add a Plot      6      NaN    NaN  Rajiv Chilaka,   None  \n",
       "6836       9  Add a Plot      6      NaN    NaN  Rajiv Chilaka,   None  \n",
       "6837     NaN  Add a Plot    NaN      NaN    NaN  Rajiv Chilaka,   None  \n",
       "6838     NaN  Add a Plot    NaN      NaN    NaN  Rajiv Chilaka,   None  \n",
       "...      ...         ...    ...      ...    ...              ...   ...  \n",
       "9989     NaN  Add a Plot    NaN      NaN    NaN    Baran bo Odar  None  \n",
       "9990     NaN  Add a Plot    NaN      NaN    NaN    Baran bo Odar  None  \n",
       "9991     NaN  Add a Plot    NaN      NaN    NaN    Baran bo Odar  None  \n",
       "9992     NaN  Add a Plot    NaN      NaN    NaN    Baran bo Odar  None  \n",
       "9994     NaN  Add a Plot    NaN      NaN    NaN              NaN   NaN  \n",
       "\n",
       "[516 rows x 10 columns]"
      ]
     },
     "execution_count": 339,
     "metadata": {},
     "output_type": "execute_result"
    }
   ],
   "source": [
    "df[df.duplicated()]"
   ]
  },
  {
   "cell_type": "markdown",
   "metadata": {
    "id": "QHUK9N_SVE4_"
   },
   "source": [
    "Vemos que hay muchos duplicados, pero que algunas filas tienen información que otras no. Queremos eliminar los duplicados y además quedarnos con las que tengan valores en rating en vez de las de nulos."
   ]
  },
  {
   "cell_type": "code",
   "execution_count": 341,
   "metadata": {
    "id": "fafxkg5TTyo-"
   },
   "outputs": [],
   "source": [
    "# pd.set_option('display.max_rows', None)"
   ]
  },
  {
   "cell_type": "code",
   "execution_count": 342,
   "metadata": {
    "id": "Tu9qBC3FQ1Le"
   },
   "outputs": [],
   "source": [
    "# Creamos una columna que mire si RATING tiene valores o no\n",
    "df[\"tiene_rating\"] = df[\"RATING\"].to_frame().count(axis=1)\n",
    "\n",
    "# Ordenamos alfabéticamente (por defecto, ascendentemente) según nombres de películas y la columna nueva\n",
    "df = df.sort_values(['MOVIES', 'tiene_rating'])\n",
    "\n",
    "# Borramos las películas que estén más de una vez y nos quedamos con el último valor (que es donde nos aseguramos que tiene_rating=1 en el caso de que suceda)\n",
    "df = df.drop_duplicates('MOVIES', keep='last')"
   ]
  },
  {
   "cell_type": "code",
   "execution_count": 343,
   "metadata": {
    "colab": {
     "base_uri": "https://localhost:8080/",
     "height": 49
    },
    "id": "2oLe00mMY2Tn",
    "outputId": "ad2a89ef-87c4-4568-f164-22ef7e36b853"
   },
   "outputs": [
    {
     "data": {
      "text/html": [
       "<div>\n",
       "<style scoped>\n",
       "    .dataframe tbody tr th:only-of-type {\n",
       "        vertical-align: middle;\n",
       "    }\n",
       "\n",
       "    .dataframe tbody tr th {\n",
       "        vertical-align: top;\n",
       "    }\n",
       "\n",
       "    .dataframe thead th {\n",
       "        text-align: right;\n",
       "    }\n",
       "</style>\n",
       "<table border=\"1\" class=\"dataframe\">\n",
       "  <thead>\n",
       "    <tr style=\"text-align: right;\">\n",
       "      <th></th>\n",
       "      <th>MOVIES</th>\n",
       "      <th>YEAR</th>\n",
       "      <th>GENRE</th>\n",
       "      <th>RATING</th>\n",
       "      <th>ONE-LINE</th>\n",
       "      <th>VOTES</th>\n",
       "      <th>RunTime</th>\n",
       "      <th>Gross</th>\n",
       "      <th>Director</th>\n",
       "      <th>Stars</th>\n",
       "      <th>tiene_rating</th>\n",
       "    </tr>\n",
       "  </thead>\n",
       "  <tbody>\n",
       "  </tbody>\n",
       "</table>\n",
       "</div>"
      ],
      "text/plain": [
       "Empty DataFrame\n",
       "Columns: [MOVIES, YEAR, GENRE, RATING, ONE-LINE, VOTES, RunTime, Gross, Director, Stars, tiene_rating]\n",
       "Index: []"
      ]
     },
     "execution_count": 343,
     "metadata": {},
     "output_type": "execute_result"
    }
   ],
   "source": [
    "# Corroboramos y no hay más duplicados\n",
    "\n",
    "df[df.duplicated()]"
   ]
  },
  {
   "cell_type": "markdown",
   "metadata": {
    "id": "uX5QnBFUKhLU"
   },
   "source": [
    "A la hora de tomar una decisión con respecto a los nulos de este DataFrame, deberíamos pensarlo en función de nuestro objetivo.\n",
    "\n",
    "Ejercicios:\n",
    "\n",
    "a) ¿Cuáles son los 5 directores mejor puntuados?"
   ]
  },
  {
   "cell_type": "code",
   "execution_count": null,
   "metadata": {
    "id": "wub04T64idt7"
   },
   "outputs": [],
   "source": []
  },
  {
   "cell_type": "markdown",
   "metadata": {
    "id": "tqL2IH7_yadq"
   },
   "source": [
    "b) ¿Cuáles son los 5 actores que más aparecen en la base? ¿Cuáles tienen mejores películas rankeadas?"
   ]
  },
  {
   "cell_type": "code",
   "execution_count": null,
   "metadata": {
    "id": "50NzWXbziiZj"
   },
   "outputs": [],
   "source": []
  },
  {
   "cell_type": "markdown",
   "metadata": {
    "id": "iHFdtE_XybxP"
   },
   "source": [
    "c) ¿Cuáles son las películas de drama mejor puntuadas?"
   ]
  },
  {
   "cell_type": "code",
   "execution_count": null,
   "metadata": {
    "id": "QFyhhl-oikNP"
   },
   "outputs": [],
   "source": []
  },
  {
   "cell_type": "markdown",
   "metadata": {
    "id": "FERwfaVPPhtl"
   },
   "source": [
    "## Interpolación de series de tiempo."
   ]
  },
  {
   "cell_type": "markdown",
   "metadata": {
    "id": "aRaHMU-LzLs_"
   },
   "source": [
    "Veamos un ejemplo en el que queremos realizar interpolaciones para las series temporales, para así obtener nuevos puntos partiendo del conocimiento de un conjunto de puntos."
   ]
  },
  {
   "cell_type": "markdown",
   "metadata": {
    "id": "SapWIge5zoXh"
   },
   "source": [
    "Comparemos cuatro activos: acciones, bonos, oro y petróleo."
   ]
  },
  {
   "cell_type": "code",
   "execution_count": 344,
   "metadata": {
    "colab": {
     "base_uri": "https://localhost:8080/"
    },
    "id": "T4kFF4FZzuOC",
    "outputId": "bf8aeb79-a817-48c5-f8c0-cf4fc41709ee"
   },
   "outputs": [],
   "source": [
    "import pandas as pd\n",
    "import numpy as np\n",
    "import matplotlib.pyplot as plt\n",
    "\n",
    "fn = 'https://storage.googleapis.com/humai-datasets/datasets/series_ejemplo.csv'"
   ]
  },
  {
   "cell_type": "code",
   "execution_count": 346,
   "metadata": {
    "id": "GUUir6jowB5w"
   },
   "outputs": [],
   "source": [
    "prices = pd.read_csv(fn, parse_dates=['DATE'], index_col='DATE')"
   ]
  },
  {
   "cell_type": "code",
   "execution_count": 347,
   "metadata": {
    "id": "qG7pvSL2y3sP"
   },
   "outputs": [],
   "source": [
    "prices = prices.astype(int)"
   ]
  },
  {
   "cell_type": "code",
   "execution_count": 348,
   "metadata": {
    "id": "Q86HRIpGy3MN"
   },
   "outputs": [],
   "source": [
    "prices = prices.apply(lambda x: x.sample(frac=0.25))"
   ]
  },
  {
   "cell_type": "code",
   "execution_count": 350,
   "metadata": {
    "colab": {
     "base_uri": "https://localhost:8080/",
     "height": 455
    },
    "id": "ZFUQWwtTZkO6",
    "outputId": "3e6f58fc-0ba7-44fb-c02e-8d1347fae722"
   },
   "outputs": [
    {
     "data": {
      "text/html": [
       "<div>\n",
       "<style scoped>\n",
       "    .dataframe tbody tr th:only-of-type {\n",
       "        vertical-align: middle;\n",
       "    }\n",
       "\n",
       "    .dataframe tbody tr th {\n",
       "        vertical-align: top;\n",
       "    }\n",
       "\n",
       "    .dataframe thead th {\n",
       "        text-align: right;\n",
       "    }\n",
       "</style>\n",
       "<table border=\"1\" class=\"dataframe\">\n",
       "  <thead>\n",
       "    <tr style=\"text-align: right;\">\n",
       "      <th></th>\n",
       "      <th>SP500</th>\n",
       "      <th>Bonds</th>\n",
       "      <th>Gold</th>\n",
       "      <th>Oil</th>\n",
       "    </tr>\n",
       "    <tr>\n",
       "      <th>DATE</th>\n",
       "      <th></th>\n",
       "      <th></th>\n",
       "      <th></th>\n",
       "      <th></th>\n",
       "    </tr>\n",
       "  </thead>\n",
       "  <tbody>\n",
       "    <tr>\n",
       "      <th>2007-06-29</th>\n",
       "      <td>NaN</td>\n",
       "      <td>402</td>\n",
       "      <td>NaN</td>\n",
       "      <td>NaN</td>\n",
       "    </tr>\n",
       "    <tr>\n",
       "      <th>2007-07-02</th>\n",
       "      <td>1519</td>\n",
       "      <td>NaN</td>\n",
       "      <td>650</td>\n",
       "      <td>NaN</td>\n",
       "    </tr>\n",
       "    <tr>\n",
       "      <th>2007-07-10</th>\n",
       "      <td>NaN</td>\n",
       "      <td>402</td>\n",
       "      <td>NaN</td>\n",
       "      <td>NaN</td>\n",
       "    </tr>\n",
       "    <tr>\n",
       "      <th>2007-07-17</th>\n",
       "      <td>NaN</td>\n",
       "      <td>NaN</td>\n",
       "      <td>NaN</td>\n",
       "      <td>74</td>\n",
       "    </tr>\n",
       "    <tr>\n",
       "      <th>2007-07-18</th>\n",
       "      <td>NaN</td>\n",
       "      <td>NaN</td>\n",
       "      <td>667</td>\n",
       "      <td>NaN</td>\n",
       "    </tr>\n",
       "    <tr>\n",
       "      <th>...</th>\n",
       "      <td>...</td>\n",
       "      <td>...</td>\n",
       "      <td>...</td>\n",
       "      <td>...</td>\n",
       "    </tr>\n",
       "    <tr>\n",
       "      <th>2017-06-13</th>\n",
       "      <td>NaN</td>\n",
       "      <td>NaN</td>\n",
       "      <td>NaN</td>\n",
       "      <td>46</td>\n",
       "    </tr>\n",
       "    <tr>\n",
       "      <th>2017-06-15</th>\n",
       "      <td>2432</td>\n",
       "      <td>NaN</td>\n",
       "      <td>NaN</td>\n",
       "      <td>NaN</td>\n",
       "    </tr>\n",
       "    <tr>\n",
       "      <th>2017-06-19</th>\n",
       "      <td>2453</td>\n",
       "      <td>NaN</td>\n",
       "      <td>1251</td>\n",
       "      <td>NaN</td>\n",
       "    </tr>\n",
       "    <tr>\n",
       "      <th>2017-06-23</th>\n",
       "      <td>NaN</td>\n",
       "      <td>NaN</td>\n",
       "      <td>1256</td>\n",
       "      <td>NaN</td>\n",
       "    </tr>\n",
       "    <tr>\n",
       "      <th>2017-06-26</th>\n",
       "      <td>NaN</td>\n",
       "      <td>NaN</td>\n",
       "      <td>1240</td>\n",
       "      <td>43</td>\n",
       "    </tr>\n",
       "  </tbody>\n",
       "</table>\n",
       "<p>1665 rows × 4 columns</p>\n",
       "</div>"
      ],
      "text/plain": [
       "            SP500  Bonds  Gold  Oil\n",
       "DATE                               \n",
       "2007-06-29    NaN    402   NaN  NaN\n",
       "2007-07-02   1519    NaN   650  NaN\n",
       "2007-07-10    NaN    402   NaN  NaN\n",
       "2007-07-17    NaN    NaN   NaN   74\n",
       "2007-07-18    NaN    NaN   667  NaN\n",
       "...           ...    ...   ...  ...\n",
       "2017-06-13    NaN    NaN   NaN   46\n",
       "2017-06-15   2432    NaN   NaN  NaN\n",
       "2017-06-19   2453    NaN  1251  NaN\n",
       "2017-06-23    NaN    NaN  1256  NaN\n",
       "2017-06-26    NaN    NaN  1240   43\n",
       "\n",
       "[1665 rows x 4 columns]"
      ]
     },
     "execution_count": 350,
     "metadata": {},
     "output_type": "execute_result"
    }
   ],
   "source": [
    "prices[prices.isna().any(axis=1)]"
   ]
  },
  {
   "cell_type": "code",
   "execution_count": 351,
   "metadata": {
    "id": "PxgotGNtLAIR"
   },
   "outputs": [],
   "source": [
    "prices_16 = prices[prices.index.year==2016]"
   ]
  },
  {
   "cell_type": "code",
   "execution_count": 352,
   "metadata": {
    "colab": {
     "base_uri": "https://localhost:8080/",
     "height": 571
    },
    "id": "vGTdL2vOXH_3",
    "outputId": "71dd854e-67ea-404d-b9c7-de722e722b5a"
   },
   "outputs": [
    {
     "data": {
      "image/png": "[encoded data removed]",
      "text/plain": [
       "<Figure size 1000x1000 with 4 Axes>"
      ]
     },
     "metadata": {},
     "output_type": "display_data"
    }
   ],
   "source": [
    "ejes = prices_16.plot(marker='.', linestyle='None',figsize=(10,10),subplots=True)\n",
    "for eje in ejes:\n",
    "    eje.set_ylabel('Precio de los activos')"
   ]
  },
  {
   "cell_type": "markdown",
   "metadata": {
    "id": "J-RqPMhA9d3e"
   },
   "source": [
    "Podríamos imputar los datos con un fillna()"
   ]
  },
  {
   "cell_type": "code",
   "execution_count": 355,
   "metadata": {
    "id": "IRcr4_t19h0z"
   },
   "outputs": [],
   "source": [
    "prices_b = prices.fillna(method='bfill')"
   ]
  },
  {
   "cell_type": "code",
   "execution_count": 356,
   "metadata": {
    "colab": {
     "base_uri": "https://localhost:8080/",
     "height": 287
    },
    "id": "KOJZSbXzrtbj",
    "outputId": "d9eac1eb-acae-4c76-e613-d1d41d593984"
   },
   "outputs": [
    {
     "data": {
      "text/plain": [
       "<Axes: xlabel='DATE'>"
      ]
     },
     "execution_count": 356,
     "metadata": {},
     "output_type": "execute_result"
    },
    {
     "data": {
      "image/png": "[encoded data removed]",
      "text/plain": [
       "<Figure size 800x550 with 1 Axes>"
      ]
     },
     "metadata": {},
     "output_type": "display_data"
    }
   ],
   "source": [
    "prices_b.Gold.plot()"
   ]
  },
  {
   "cell_type": "code",
   "execution_count": 357,
   "metadata": {
    "id": "p7fGTu94-91h"
   },
   "outputs": [],
   "source": [
    "import pandas as pd\n",
    "import matplotlib.pyplot as  plt\n",
    "from urllib.request import urlretrieve\n",
    "plt.style.use('seaborn-v0_8')\n",
    "\n",
    "linear = prices_16.interpolate(method='linear')\n",
    "quadratic = prices_16.interpolate(method='quadratic')\n",
    "nearest = prices_16.interpolate(method='nearest')"
   ]
  },
  {
   "cell_type": "code",
   "execution_count": 358,
   "metadata": {
    "id": "IZg2g9m8Aaji"
   },
   "outputs": [],
   "source": [
    "prices_16 = prices[prices.index.year==2016]"
   ]
  },
  {
   "cell_type": "code",
   "execution_count": 359,
   "metadata": {
    "colab": {
     "base_uri": "https://localhost:8080/",
     "height": 642
    },
    "id": "mBJijX9u-xqF",
    "outputId": "c79f4a78-10ac-456f-832f-7e018a0a0ea5"
   },
   "outputs": [
    {
     "data": {
      "image/png": "[encoded data removed]",
      "text/plain": [
       "<Figure size 3000x2000 with 3 Axes>"
      ]
     },
     "metadata": {},
     "output_type": "display_data"
    }
   ],
   "source": [
    "# Set nrows to 3 and ncols to 1\n",
    "fig, axes = plt.subplots(3, 1, figsize=(30, 20))\n",
    "\n",
    "# Create a dictionary of interpolations\n",
    "interpolations = {'Interpolación Lineal': linear, 'Interpolación Cuadrática': quadratic, \n",
    "                  'Interpolación Cercano': nearest}\n",
    "\n",
    "# Loop over axes and interpolations\n",
    "for ax, df_key in zip(axes, interpolations):\n",
    "    # Select and also set the title for a DataFrame\n",
    "    interpolations[df_key].Gold.plot(color='red', marker='o', \n",
    "                                 linestyle='dotted', ax=ax)\n",
    "    prices_16.Gold.plot(title=df_key + ' - Oro', marker='o', ax=ax)\n",
    "    \n",
    "plt.show()"
   ]
  },
  {
   "cell_type": "markdown",
   "metadata": {
    "id": "a4gDHCQS-3N-"
   },
   "source": [
    "## Ley de Humedales"
   ]
  },
  {
   "cell_type": "markdown",
   "metadata": {
    "id": "JHfPn45-bbhE"
   },
   "source": [
    "## Extracción de los datos Web\n",
    "Datos sobre legisladores y sus posturas frente a la Ley de Humedales. \n",
    "\n",
    "Gracias a https://activaelcongreso.ar por la data. \n",
    "\n",
    "Pasos para el scraping:\n",
    "- Identificar el tema a investigar\n",
    "- Identificar una fuente de datos (activaelcongreso.ar)\n",
    "- Dentro del sitio, ver dónde se renderizan los datos:\n",
    "https://activaelcongreso.ar/p/Ley_de_Humedales_Ya/politicos \n",
    "- Aplicar lo que se ve en la clase de APIs Ocultas (agregar link):\n",
    "  - Abrimos ChromeDevTools\n",
    "  - Vamos a la pestaña Network\n",
    "  - Identificamos (podemos usar el buscador) los requests que contienen la info\n",
    "  - Copiamos el request como cURL, y usamos algo como https://curlconverter.com/ para convertirlo a Python\n",
    "  - Identificamos la parte central del request, quitando los cookies y headers no esenciales\n",
    "\n",
    "Con eso podemos bajar los distintos jsons que necesitamos, y unirlos para armar la tabla con datos útiles."
   ]
  },
  {
   "cell_type": "code",
   "execution_count": 361,
   "metadata": {
    "colab": {
     "base_uri": "https://localhost:8080/"
    },
    "id": "wO9S2kkC-9f_",
    "outputId": "e3eb6f7f-5976-4ab4-c3ab-70ba877e106d"
   },
   "outputs": [
    {
     "data": {
      "text/plain": [
       "[{'id': '2', 'nombre': 'Senadorxs'}, {'id': '3', 'nombre': 'Diputadxs'}]"
      ]
     },
     "execution_count": 361,
     "metadata": {},
     "output_type": "execute_result"
    }
   ],
   "source": [
    "# Bajamos datos encontrados en distintos requests\n",
    "\n",
    "import requests\n",
    "\n",
    "json_data = {\n",
    "    'type': 'TipoPolitico',\n",
    "    'action': 'get',\n",
    "    'params': {},\n",
    "}\n",
    "\n",
    "response = requests.post('https://activaelcongreso.ar/PHP/api.php', json=json_data)\n",
    "response.json()"
   ]
  },
  {
   "cell_type": "markdown",
   "metadata": {
    "id": "dhzhdrRK_Cuv"
   },
   "source": [
    "## Pydantic\n"
   ]
  },
  {
   "cell_type": "markdown",
   "metadata": {
    "id": "ejfz2A9qbj5s"
   },
   "source": [
    "Cuando armamos aplicaciones con distintos componentes, es útil ir más allá del **tipado dinámico** y definir los típos de datos y **esquemas** que esperamos. Definamos un primer ejemplo de juguete:"
   ]
  },
  {
   "cell_type": "code",
   "execution_count": 362,
   "metadata": {
    "id": "OVi8xQQI_EVb"
   },
   "outputs": [],
   "source": [
    "from typing import Optional\n",
    "from pydantic import BaseModel, Field\n",
    "\n",
    "\n",
    "class SuperDict(BaseModel):\n",
    "    '''\n",
    "    Field nos permite especificar caracteristicas del campo, como descripcion o restricciones.\n",
    "    Podemos dejar campos como opcionales con Optional.\n",
    "    '''\n",
    "    id: int = Field(ge=1)\n",
    "    nombre: str = Field(min_length=1, max_length=30)\n",
    "    altura: Optional[float] = Field(ge=0, le=300, description=\"Altura en cm.\")"
   ]
  },
  {
   "cell_type": "code",
   "execution_count": 364,
   "metadata": {
    "colab": {
     "base_uri": "https://localhost:8080/"
    },
    "id": "WT81BSug_EXd",
    "outputId": "d0c48f3d-11ff-40a4-eee5-4ff2771ebd7b"
   },
   "outputs": [
    {
     "data": {
      "text/plain": [
       "SuperDict(id=1, nombre='Ernesto', altura=170.0)"
      ]
     },
     "execution_count": 364,
     "metadata": {},
     "output_type": "execute_result"
    }
   ],
   "source": [
    "SuperDict(id=1, nombre='Ernesto', altura=170.0)"
   ]
  },
  {
   "cell_type": "code",
   "execution_count": 366,
   "metadata": {
    "id": "dUxKKS8O__6u"
   },
   "outputs": [],
   "source": [
    "caso = {\"id\": 2, \"nombre\": \"\"}"
   ]
  },
  {
   "cell_type": "code",
   "execution_count": 368,
   "metadata": {
    "colab": {
     "base_uri": "https://localhost:8080/"
    },
    "id": "jrcgkDtY_3OY",
    "outputId": "e480b4dd-6610-4a6f-b800-99e539cd6232"
   },
   "outputs": [
    {
     "name": "stdout",
     "output_type": "stream",
     "text": [
      "1 validation error for SuperDict\n",
      "nombre\n",
      "  ensure this value has at least 1 characters (type=value_error.any_str.min_length; limit_value=1)\n"
     ]
    }
   ],
   "source": [
    "from pydantic import ValidationError\n",
    "\n",
    "try:\n",
    "    SuperDict(**caso)\n",
    "except ValidationError as e:\n",
    "    print(e)"
   ]
  },
  {
   "cell_type": "code",
   "execution_count": 369,
   "metadata": {
    "id": "BhkHPFEc_AO0"
   },
   "outputs": [],
   "source": [
    "# Info sobre los bloques\n",
    "json_data = {\n",
    "    'type': 'Bloque',\n",
    "    'action': 'get',\n",
    "    'params': {},\n",
    "}\n",
    "\n",
    "bloques = requests.post('https://activaelcongreso.ar/PHP/api.php', json=json_data).json()"
   ]
  },
  {
   "cell_type": "code",
   "execution_count": 370,
   "metadata": {
    "colab": {
     "base_uri": "https://localhost:8080/"
    },
    "collapsed": true,
    "id": "l1rkAqDt_hjs",
    "jupyter": {
     "outputs_hidden": true
    },
    "outputId": "f5a7d4d0-b09a-449d-d677-5d2f99de1db0",
    "tags": []
   },
   "outputs": [
    {
     "data": {
      "text/plain": [
       "[{'id': '4',\n",
       "  'foto': 'bloque-4.jpg',\n",
       "  'nombre': 'Frente de Todos',\n",
       "  'color': '4fc3f7'},\n",
       " {'id': '6', 'foto': 'bloque-6.jpg', 'nombre': 'PRO', 'color': 'fdd835'},\n",
       " {'id': '7',\n",
       "  'foto': 'bloque_default.jpg',\n",
       "  'nombre': 'Producción y Trabajo',\n",
       "  'color': '000000'},\n",
       " {'id': '9',\n",
       "  'foto': 'bloque_default.jpg',\n",
       "  'nombre': 'Unidad y Equidad por San Luis',\n",
       "  'color': '000000'},\n",
       " {'id': '11',\n",
       "  'foto': 'bloque-11.jpg',\n",
       "  'nombre': 'Unión Cívica Radical',\n",
       "  'color': 'b71c1c'},\n",
       " {'id': '12',\n",
       "  'foto': 'bloque-12.jpg',\n",
       "  'nombre': 'Partido por la Justicia Social',\n",
       "  'color': '01579b'},\n",
       " {'id': '13',\n",
       "  'foto': 'bloque-13.jpg',\n",
       "  'nombre': 'Justicialista',\n",
       "  'color': '0288d1'},\n",
       " {'id': '14',\n",
       "  'foto': 'bloque-14.jpg',\n",
       "  'nombre': 'Consenso Federal',\n",
       "  'color': '1a237e'},\n",
       " {'id': '18',\n",
       "  'foto': 'bloque-18.jpg',\n",
       "  'nombre': 'Córdoba Federal',\n",
       "  'color': '29b6f6'},\n",
       " {'id': '19',\n",
       "  'foto': 'bloque-19.jpg',\n",
       "  'nombre': 'Coalición Cívica',\n",
       "  'color': '01579b'},\n",
       " {'id': '21',\n",
       "  'foto': 'bloque-21.jpg',\n",
       "  'nombre': 'Frente Progresista Cívico y Social',\n",
       "  'color': 'ef6c00'},\n",
       " {'id': '23',\n",
       "  'foto': 'bloque-23.jpg',\n",
       "  'nombre': 'PTS - Frente de Izquierda',\n",
       "  'color': 'f44336'},\n",
       " {'id': '24',\n",
       "  'foto': 'bloque-24.jpg',\n",
       "  'nombre': 'Socialista',\n",
       "  'color': 'd32f2f'},\n",
       " {'id': '25',\n",
       "  'foto': 'bloque-25.jpg',\n",
       "  'nombre': 'Juntos Somos Rio Negro',\n",
       "  'color': '4caf50'},\n",
       " {'id': '26',\n",
       "  'foto': 'bloque-26.jpg',\n",
       "  'nombre': 'Frente de Izquierda y de los Trabajadores - Unidad',\n",
       "  'color': 'f44336'},\n",
       " {'id': '30',\n",
       "  'foto': 'bloque-30.jpg',\n",
       "  'nombre': 'Frente de la Concordia Misionero',\n",
       "  'color': '0d47a1'},\n",
       " {'id': '34',\n",
       "  'foto': 'bloque-34.jpg',\n",
       "  'nombre': 'Movimiento Popular Neuquino',\n",
       "  'color': '4fc3f7'},\n",
       " {'id': '36',\n",
       "  'foto': 'bloque_default.jpg',\n",
       "  'nombre': 'Acción Federal',\n",
       "  'color': '000000'},\n",
       " {'id': '37',\n",
       "  'foto': 'bloque_default.jpg',\n",
       "  'nombre': 'Frente Cívico y Social de Catamarca',\n",
       "  'color': 'ffb300'},\n",
       " {'id': '38',\n",
       "  'foto': 'bloque-38.jpg',\n",
       "  'nombre': 'Fuerza Cívica Riojana',\n",
       "  'color': 'aed581'},\n",
       " {'id': '39',\n",
       "  'foto': 'bloque-39.jpg',\n",
       "  'nombre': 'Avanzar San Luis',\n",
       "  'color': '00acc1'},\n",
       " {'id': '40',\n",
       "  'foto': 'bloque_default.jpg',\n",
       "  'nombre': 'Santa Fe Federal',\n",
       "  'color': '01579b'},\n",
       " {'id': '41',\n",
       "  'foto': 'bloque_default.jpg',\n",
       "  'nombre': 'Justicialista 8 de Octubre',\n",
       "  'color': '000000'},\n",
       " {'id': '43',\n",
       "  'foto': 'bloque_default.jpg',\n",
       "  'nombre': 'Misiones ',\n",
       "  'color': '90a4ae'},\n",
       " {'id': '44',\n",
       "  'foto': 'bloque_default.jpg',\n",
       "  'nombre': 'Unidad Federal para el Desarrollo',\n",
       "  'color': '000000'},\n",
       " {'id': '46',\n",
       "  'foto': 'bloque_default.jpg',\n",
       "  'nombre': 'Avanza Libertad',\n",
       "  'color': '000000'},\n",
       " {'id': '50',\n",
       "  'foto': 'bloque_default.jpg',\n",
       "  'nombre': 'Ahora Patria',\n",
       "  'color': '000000'},\n",
       " {'id': '51',\n",
       "  'foto': 'bloque_default.jpg',\n",
       "  'nombre': 'Identidad Bonaerense ',\n",
       "  'color': '000000'},\n",
       " {'id': '52',\n",
       "  'foto': 'bloque_default.jpg',\n",
       "  'nombre': 'Evolución Radical',\n",
       "  'color': '000000'},\n",
       " {'id': '53',\n",
       "  'foto': 'bloque_default.jpg',\n",
       "  'nombre': 'Encuentro Federal',\n",
       "  'color': '000000'},\n",
       " {'id': '54',\n",
       "  'foto': 'bloque_default.jpg',\n",
       "  'nombre': 'Creo',\n",
       "  'color': '000000'},\n",
       " {'id': '56',\n",
       "  'foto': 'bloque_default.jpg',\n",
       "  'nombre': 'Izquierda Socialista - Frente de Izquierda',\n",
       "  'color': '000000'},\n",
       " {'id': '57',\n",
       "  'foto': 'bloque_default.jpg',\n",
       "  'nombre': 'La Libertad Avanza',\n",
       "  'color': '000000'},\n",
       " {'id': '58',\n",
       "  'foto': 'bloque_default.jpg',\n",
       "  'nombre': 'Unidos por San Luis',\n",
       "  'color': '000000'},\n",
       " {'id': '60',\n",
       "  'foto': 'bloque_default.jpg',\n",
       "  'nombre': 'Partido Obrero - Frente de Izquierda y de los Trabajadores - Unidad',\n",
       "  'color': '000000'},\n",
       " {'id': '61',\n",
       "  'foto': 'bloque_default.jpg',\n",
       "  'nombre': 'PTS - Frente de Izquierda de Trabajadores - Unidad',\n",
       "  'color': '000000'},\n",
       " {'id': '63',\n",
       "  'foto': 'bloque_default.jpg',\n",
       "  'nombre': 'Republicanos Unidos ',\n",
       "  'color': '000000'},\n",
       " {'id': '64',\n",
       "  'foto': 'bloque_default.jpg',\n",
       "  'nombre': 'Sin Bloque',\n",
       "  'color': '757575'},\n",
       " {'id': '65',\n",
       "  'foto': 'bloque_default.jpg',\n",
       "  'nombre': 'Partido Obrero - Frente de Izquierda y de los Trabajadores - Unidad',\n",
       "  'color': '000000'},\n",
       " {'id': '68',\n",
       "  'foto': 'bloque_default.jpg',\n",
       "  'nombre': 'SER - Somos Energía para Renovar',\n",
       "  'color': '000000'},\n",
       " {'id': '70',\n",
       "  'foto': 'bloque_default.jpg',\n",
       "  'nombre': 'Unidad y Equidad Federal',\n",
       "  'color': '000000'}]"
      ]
     },
     "execution_count": 370,
     "metadata": {},
     "output_type": "execute_result"
    }
   ],
   "source": [
    "bloques"
   ]
  },
  {
   "cell_type": "markdown",
   "metadata": {
    "id": "yIt1TwFXGykE"
   },
   "source": [
    "Podemos validar el dato que esperamos con un esquema de pydantic."
   ]
  },
  {
   "cell_type": "markdown",
   "metadata": {
    "id": "RuRvA4vGbmfI"
   },
   "source": [
    "### Ejemplo Bloques"
   ]
  },
  {
   "cell_type": "code",
   "execution_count": 372,
   "metadata": {
    "id": "EkdVghJNGvEw"
   },
   "outputs": [],
   "source": [
    "class BloqueID(BaseModel):\n",
    "    id: int\n",
    "    foto: str\n",
    "    nombre: str\n",
    "    color: str"
   ]
  },
  {
   "cell_type": "code",
   "execution_count": 374,
   "metadata": {
    "colab": {
     "base_uri": "https://localhost:8080/"
    },
    "id": "816GAiodG2wt",
    "outputId": "2a8031d3-c0df-4e62-d499-b7bb290acad9"
   },
   "outputs": [],
   "source": [
    "# Podemos validar todos los bloques que nos trajo la API\n",
    "bloques_validados = [BloqueID(**b) for b in bloques][:5]"
   ]
  },
  {
   "cell_type": "code",
   "execution_count": 379,
   "metadata": {},
   "outputs": [
    {
     "data": {
      "text/plain": [
       "'bloque-4.jpg'"
      ]
     },
     "execution_count": 379,
     "metadata": {},
     "output_type": "execute_result"
    }
   ],
   "source": [
    "bloques_validados[0].foto"
   ]
  },
  {
   "cell_type": "markdown",
   "metadata": {
    "id": "9kSeHoHNG808"
   },
   "source": [
    "Podemos hacer validaciones personalizadas, como validar que el campo de  `foto` termine con `jpg` usando el **decorador `validator`**"
   ]
  },
  {
   "cell_type": "code",
   "execution_count": 380,
   "metadata": {
    "id": "idTOc8xCHCcS"
   },
   "outputs": [],
   "source": [
    "from pydantic import validator\n",
    "\n",
    "\n",
    "class BloqueID(BaseModel):\n",
    "    id: int\n",
    "    foto: str\n",
    "    nombre: str\n",
    "    color: str\n",
    "\n",
    "    @validator('foto')\n",
    "    def validate_photo(cls, v):\n",
    "        assert v.endswith('jpg'), 'No termina con JPG'\n",
    "        return v"
   ]
  },
  {
   "cell_type": "markdown",
   "metadata": {
    "id": "9uOiXpvCHGs9"
   },
   "source": [
    "O validar que el campo \"nombre\" pertenezca a una lista de nombres predefinidos"
   ]
  },
  {
   "cell_type": "code",
   "execution_count": 381,
   "metadata": {
    "id": "JOYlo4neFSPs"
   },
   "outputs": [],
   "source": [
    "from typing import List\n",
    "from enum import Enum\n",
    "\n",
    "class Bloque(Enum):\n",
    "    FRENTE_DE_TODOS = 'Frente de Todos'\n",
    "    PRO = 'PRO'\n",
    "    PRODUCCIÓN_Y_TRABAJO = 'Producción y Trabajo'\n",
    "    UNIDAD_Y_EQUIDAD_POR_SAN_LUIS = 'Unidad y Equidad por San Luis'\n",
    "    UNIÓN_CÍVICA_RADICAL = 'Unión Cívica Radical'\n",
    "    PARTIDO_POR_LA_JUSTICIA_SOCIAL = 'Partido por la Justicia Social'\n",
    "    JUSTICIALISTA = 'Justicialista'\n",
    "    CONSENSO_FEDERAL = 'Consenso Federal'\n",
    "    CÓRDOBA_FEDERAL = 'Córdoba Federal'\n",
    "    COALICIÓN_CÍVICA = 'Coalición Cívica'\n",
    "    FRENTE_PROGRESISTA_CÍVICO_Y_SOCIAL = 'Frente Progresista Cívico y Social'\n",
    "    PTS_FRENTE_DE_IZQUIERDA = 'PTS - Frente de Izquierda'\n",
    "    SOCIALISTA = 'Socialista'\n",
    "    JUNTOS_SOMOS_RIO_NEGRO = 'Juntos Somos Rio Negro'\n",
    "    FRENTE_DE_IZQUIERDA_Y_DE_LOS_TRABAJADORES = 'Frente de Izquierda y de los Trabajadores - Unidad'\n",
    "    FRENTE_DE_LA_CONCORDIA_MISIONERO = 'Frente de la Concordia Misionero'\n",
    "    MOVIMIENTO_POPULAR_NEUQUINO = 'Movimiento Popular Neuquino'\n",
    "    ACCION_FEDERAL = 'Acción Federal'\n",
    "    FRENTE_CÍVICO_Y_SOCIAL_DE_CATAMARCA = 'Frente Cívico y Social de Catamarca'\n",
    "    FUERZA_CÍVICA_RIOJANA = 'Fuerza Cívica Riojana'\n",
    "    AVANZAR_SAN_LUIS = 'Avanzar San Luis'\n",
    "    SANTA_FE_FEDERAL = 'Santa Fe Federal'\n",
    "    JUSTICIALISTA_8_DE_OCTUBRE = 'Justicialista 8 de Octubre'\n",
    "    MISIONES = 'Misiones '\n",
    "    UNIDAD_FEDERAL_PARA_EL_DESARROLLO = 'Unidad Federal para el Desarrollo'\n",
    "    AVANZA_LIBERTAD = 'Avanza Libertad'\n",
    "    AHORA_PATRIA = 'Ahora Patria'\n",
    "    IDENTIDAD_BONAERENSE_ = 'Identidad Bonaerense '\n",
    "    EVOLUCIÓN_RADICAL = 'Evolución Radical'\n",
    "    ENCUENTRO_FEDERAL = 'Encuentro Federal'\n",
    "    CREO = 'Creo'\n",
    "    IZQUIERDA_SOCIALISTA_FRENTE_DE_IZQUIERDA = 'Izquierda Socialista - Frente de Izquierda'\n",
    "    LA_LIBERTAD_AVANZA = 'La Libertad Avanza'\n",
    "    UNIDOS_POR_SAN_LUIS = 'Unidos por San Luis'\n",
    "    PARTIDO_OBRERO_FRENTE_DE_IZQUIERDA_Y_DE_LOS_TRABAJADORES_UNIDAD = 'Partido Obrero - Frente de Izquierda y de los Trabajadores - Unidad'\n",
    "    PTS_FRENTE_DE_IZQUIERDA_DE_TRABAJADORES_UNIDAD = 'PTS - Frente de Izquierda de Trabajadores - Unidad'\n",
    "    REPUBLICANOS_UNIDOS_ = 'Republicanos Unidos '\n",
    "    SIN_BLOQUE = 'Sin Bloque'\n",
    "    SER_SOMOS_ENERGÍA_PARA_RENOVAR = 'SER - Somos Energía para Renovar'\n",
    "    UNIDAD_Y_EQUIDAD_FEDERAL = 'Unidad y Equidad Federal'"
   ]
  },
  {
   "cell_type": "markdown",
   "metadata": {
    "id": "kxqYZOTBbpmN"
   },
   "source": [
    "### Ejemplo con Enum"
   ]
  },
  {
   "cell_type": "code",
   "execution_count": 382,
   "metadata": {
    "id": "JtURgW4R_B4q"
   },
   "outputs": [],
   "source": [
    "from pydantic import validator\n",
    "\n",
    "\n",
    "class BloqueID(BaseModel):\n",
    "    id: int\n",
    "    foto: str\n",
    "    # Bloque ahora solo puede ser alguno de los valores de arriba\n",
    "    nombre: Bloque\n",
    "    color: str\n",
    "\n",
    "    @validator('foto')\n",
    "    def validate_photo(cls, v):\n",
    "        assert v.endswith('jpg'), 'No termina con JPG'\n",
    "        return v"
   ]
  },
  {
   "cell_type": "code",
   "execution_count": 386,
   "metadata": {
    "colab": {
     "base_uri": "https://localhost:8080/"
    },
    "id": "-qLqcrZXEYol",
    "outputId": "72f43d58-6e33-41c3-fc71-7a96070003c4"
   },
   "outputs": [
    {
     "data": {
      "text/plain": [
       "<Bloque.FRENTE_DE_TODOS: 'Frente de Todos'>"
      ]
     },
     "execution_count": 386,
     "metadata": {},
     "output_type": "execute_result"
    }
   ],
   "source": [
    "BloqueID(**bloques[0]).nombre"
   ]
  },
  {
   "cell_type": "code",
   "execution_count": 387,
   "metadata": {
    "id": "GFVGXr1JGqps"
   },
   "outputs": [],
   "source": [
    "bloque = {'id': '4',\n",
    "          'foto': 'bloque-4.jpg',\n",
    "          'nombre':'Frente de Algunos',\n",
    "          'color': '4fc3f7'}"
   ]
  },
  {
   "cell_type": "code",
   "execution_count": 388,
   "metadata": {
    "colab": {
     "base_uri": "https://localhost:8080/",
     "height": 472
    },
    "id": "MTDHZQzQHWi1",
    "outputId": "9b617f22-ef7c-44ab-f98a-4745ee56184f"
   },
   "outputs": [
    {
     "ename": "ValidationError",
     "evalue": "1 validation error for BloqueID\nnombre\n  value is not a valid enumeration member; permitted: 'Frente de Todos', 'PRO', 'Producción y Trabajo', 'Unidad y Equidad por San Luis', 'Unión Cívica Radical', 'Partido por la Justicia Social', 'Justicialista', 'Consenso Federal', 'Córdoba Federal', 'Coalición Cívica', 'Frente Progresista Cívico y Social', 'PTS - Frente de Izquierda', 'Socialista', 'Juntos Somos Rio Negro', 'Frente de Izquierda y de los Trabajadores - Unidad', 'Frente de la Concordia Misionero', 'Movimiento Popular Neuquino', 'Acción Federal', 'Frente Cívico y Social de Catamarca', 'Fuerza Cívica Riojana', 'Avanzar San Luis', 'Santa Fe Federal', 'Justicialista 8 de Octubre', 'Misiones ', 'Unidad Federal para el Desarrollo', 'Avanza Libertad', 'Ahora Patria', 'Identidad Bonaerense ', 'Evolución Radical', 'Encuentro Federal', 'Creo', 'Izquierda Socialista - Frente de Izquierda', 'La Libertad Avanza', 'Unidos por San Luis', 'Partido Obrero - Frente de Izquierda y de los Trabajadores - Unidad', 'PTS - Frente de Izquierda de Trabajadores - Unidad', 'Republicanos Unidos ', 'Sin Bloque', 'SER - Somos Energía para Renovar', 'Unidad y Equidad Federal' (type=type_error.enum; enum_values=[<Bloque.FRENTE_DE_TODOS: 'Frente de Todos'>, <Bloque.PRO: 'PRO'>, <Bloque.PRODUCCIÓN_Y_TRABAJO: 'Producción y Trabajo'>, <Bloque.UNIDAD_Y_EQUIDAD_POR_SAN_LUIS: 'Unidad y Equidad por San Luis'>, <Bloque.UNIÓN_CÍVICA_RADICAL: 'Unión Cívica Radical'>, <Bloque.PARTIDO_POR_LA_JUSTICIA_SOCIAL: 'Partido por la Justicia Social'>, <Bloque.JUSTICIALISTA: 'Justicialista'>, <Bloque.CONSENSO_FEDERAL: 'Consenso Federal'>, <Bloque.CÓRDOBA_FEDERAL: 'Córdoba Federal'>, <Bloque.COALICIÓN_CÍVICA: 'Coalición Cívica'>, <Bloque.FRENTE_PROGRESISTA_CÍVICO_Y_SOCIAL: 'Frente Progresista Cívico y Social'>, <Bloque.PTS_FRENTE_DE_IZQUIERDA: 'PTS - Frente de Izquierda'>, <Bloque.SOCIALISTA: 'Socialista'>, <Bloque.JUNTOS_SOMOS_RIO_NEGRO: 'Juntos Somos Rio Negro'>, <Bloque.FRENTE_DE_IZQUIERDA_Y_DE_LOS_TRABAJADORES: 'Frente de Izquierda y de los Trabajadores - Unidad'>, <Bloque.FRENTE_DE_LA_CONCORDIA_MISIONERO: 'Frente de la Concordia Misionero'>, <Bloque.MOVIMIENTO_POPULAR_NEUQUINO: 'Movimiento Popular Neuquino'>, <Bloque.ACCION_FEDERAL: 'Acción Federal'>, <Bloque.FRENTE_CÍVICO_Y_SOCIAL_DE_CATAMARCA: 'Frente Cívico y Social de Catamarca'>, <Bloque.FUERZA_CÍVICA_RIOJANA: 'Fuerza Cívica Riojana'>, <Bloque.AVANZAR_SAN_LUIS: 'Avanzar San Luis'>, <Bloque.SANTA_FE_FEDERAL: 'Santa Fe Federal'>, <Bloque.JUSTICIALISTA_8_DE_OCTUBRE: 'Justicialista 8 de Octubre'>, <Bloque.MISIONES: 'Misiones '>, <Bloque.UNIDAD_FEDERAL_PARA_EL_DESARROLLO: 'Unidad Federal para el Desarrollo'>, <Bloque.AVANZA_LIBERTAD: 'Avanza Libertad'>, <Bloque.AHORA_PATRIA: 'Ahora Patria'>, <Bloque.IDENTIDAD_BONAERENSE_: 'Identidad Bonaerense '>, <Bloque.EVOLUCIÓN_RADICAL: 'Evolución Radical'>, <Bloque.ENCUENTRO_FEDERAL: 'Encuentro Federal'>, <Bloque.CREO: 'Creo'>, <Bloque.IZQUIERDA_SOCIALISTA_FRENTE_DE_IZQUIERDA: 'Izquierda Socialista - Frente de Izquierda'>, <Bloque.LA_LIBERTAD_AVANZA: 'La Libertad Avanza'>, <Bloque.UNIDOS_POR_SAN_LUIS: 'Unidos por San Luis'>, <Bloque.PARTIDO_OBRERO_FRENTE_DE_IZQUIERDA_Y_DE_LOS_TRABAJADORES_UNIDAD: 'Partido Obrero - Frente de Izquierda y de los Trabajadores - Unidad'>, <Bloque.PTS_FRENTE_DE_IZQUIERDA_DE_TRABAJADORES_UNIDAD: 'PTS - Frente de Izquierda de Trabajadores - Unidad'>, <Bloque.REPUBLICANOS_UNIDOS_: 'Republicanos Unidos '>, <Bloque.SIN_BLOQUE: 'Sin Bloque'>, <Bloque.SER_SOMOS_ENERGÍA_PARA_RENOVAR: 'SER - Somos Energía para Renovar'>, <Bloque.UNIDAD_Y_EQUIDAD_FEDERAL: 'Unidad y Equidad Federal'>])",
     "output_type": "error",
     "traceback": [
      "\u001b[0;31m---------------------------------------------------------------------------\u001b[0m",
      "\u001b[0;31mValidationError\u001b[0m                           Traceback (most recent call last)",
      "Cell \u001b[0;32mIn[388], line 1\u001b[0m\n\u001b[0;32m----> 1\u001b[0m \u001b[43mBloqueID\u001b[49m\u001b[43m(\u001b[49m\u001b[38;5;241;43m*\u001b[39;49m\u001b[38;5;241;43m*\u001b[39;49m\u001b[43mbloque\u001b[49m\u001b[43m)\u001b[49m\n",
      "File \u001b[0;32m~/anaconda3/lib/python3.10/site-packages/pydantic/main.py:341\u001b[0m, in \u001b[0;36mpydantic.main.BaseModel.__init__\u001b[0;34m()\u001b[0m\n",
      "\u001b[0;31mValidationError\u001b[0m: 1 validation error for BloqueID\nnombre\n  value is not a valid enumeration member; permitted: 'Frente de Todos', 'PRO', 'Producción y Trabajo', 'Unidad y Equidad por San Luis', 'Unión Cívica Radical', 'Partido por la Justicia Social', 'Justicialista', 'Consenso Federal', 'Córdoba Federal', 'Coalición Cívica', 'Frente Progresista Cívico y Social', 'PTS - Frente de Izquierda', 'Socialista', 'Juntos Somos Rio Negro', 'Frente de Izquierda y de los Trabajadores - Unidad', 'Frente de la Concordia Misionero', 'Movimiento Popular Neuquino', 'Acción Federal', 'Frente Cívico y Social de Catamarca', 'Fuerza Cívica Riojana', 'Avanzar San Luis', 'Santa Fe Federal', 'Justicialista 8 de Octubre', 'Misiones ', 'Unidad Federal para el Desarrollo', 'Avanza Libertad', 'Ahora Patria', 'Identidad Bonaerense ', 'Evolución Radical', 'Encuentro Federal', 'Creo', 'Izquierda Socialista - Frente de Izquierda', 'La Libertad Avanza', 'Unidos por San Luis', 'Partido Obrero - Frente de Izquierda y de los Trabajadores - Unidad', 'PTS - Frente de Izquierda de Trabajadores - Unidad', 'Republicanos Unidos ', 'Sin Bloque', 'SER - Somos Energía para Renovar', 'Unidad y Equidad Federal' (type=type_error.enum; enum_values=[<Bloque.FRENTE_DE_TODOS: 'Frente de Todos'>, <Bloque.PRO: 'PRO'>, <Bloque.PRODUCCIÓN_Y_TRABAJO: 'Producción y Trabajo'>, <Bloque.UNIDAD_Y_EQUIDAD_POR_SAN_LUIS: 'Unidad y Equidad por San Luis'>, <Bloque.UNIÓN_CÍVICA_RADICAL: 'Unión Cívica Radical'>, <Bloque.PARTIDO_POR_LA_JUSTICIA_SOCIAL: 'Partido por la Justicia Social'>, <Bloque.JUSTICIALISTA: 'Justicialista'>, <Bloque.CONSENSO_FEDERAL: 'Consenso Federal'>, <Bloque.CÓRDOBA_FEDERAL: 'Córdoba Federal'>, <Bloque.COALICIÓN_CÍVICA: 'Coalición Cívica'>, <Bloque.FRENTE_PROGRESISTA_CÍVICO_Y_SOCIAL: 'Frente Progresista Cívico y Social'>, <Bloque.PTS_FRENTE_DE_IZQUIERDA: 'PTS - Frente de Izquierda'>, <Bloque.SOCIALISTA: 'Socialista'>, <Bloque.JUNTOS_SOMOS_RIO_NEGRO: 'Juntos Somos Rio Negro'>, <Bloque.FRENTE_DE_IZQUIERDA_Y_DE_LOS_TRABAJADORES: 'Frente de Izquierda y de los Trabajadores - Unidad'>, <Bloque.FRENTE_DE_LA_CONCORDIA_MISIONERO: 'Frente de la Concordia Misionero'>, <Bloque.MOVIMIENTO_POPULAR_NEUQUINO: 'Movimiento Popular Neuquino'>, <Bloque.ACCION_FEDERAL: 'Acción Federal'>, <Bloque.FRENTE_CÍVICO_Y_SOCIAL_DE_CATAMARCA: 'Frente Cívico y Social de Catamarca'>, <Bloque.FUERZA_CÍVICA_RIOJANA: 'Fuerza Cívica Riojana'>, <Bloque.AVANZAR_SAN_LUIS: 'Avanzar San Luis'>, <Bloque.SANTA_FE_FEDERAL: 'Santa Fe Federal'>, <Bloque.JUSTICIALISTA_8_DE_OCTUBRE: 'Justicialista 8 de Octubre'>, <Bloque.MISIONES: 'Misiones '>, <Bloque.UNIDAD_FEDERAL_PARA_EL_DESARROLLO: 'Unidad Federal para el Desarrollo'>, <Bloque.AVANZA_LIBERTAD: 'Avanza Libertad'>, <Bloque.AHORA_PATRIA: 'Ahora Patria'>, <Bloque.IDENTIDAD_BONAERENSE_: 'Identidad Bonaerense '>, <Bloque.EVOLUCIÓN_RADICAL: 'Evolución Radical'>, <Bloque.ENCUENTRO_FEDERAL: 'Encuentro Federal'>, <Bloque.CREO: 'Creo'>, <Bloque.IZQUIERDA_SOCIALISTA_FRENTE_DE_IZQUIERDA: 'Izquierda Socialista - Frente de Izquierda'>, <Bloque.LA_LIBERTAD_AVANZA: 'La Libertad Avanza'>, <Bloque.UNIDOS_POR_SAN_LUIS: 'Unidos por San Luis'>, <Bloque.PARTIDO_OBRERO_FRENTE_DE_IZQUIERDA_Y_DE_LOS_TRABAJADORES_UNIDAD: 'Partido Obrero - Frente de Izquierda y de los Trabajadores - Unidad'>, <Bloque.PTS_FRENTE_DE_IZQUIERDA_DE_TRABAJADORES_UNIDAD: 'PTS - Frente de Izquierda de Trabajadores - Unidad'>, <Bloque.REPUBLICANOS_UNIDOS_: 'Republicanos Unidos '>, <Bloque.SIN_BLOQUE: 'Sin Bloque'>, <Bloque.SER_SOMOS_ENERGÍA_PARA_RENOVAR: 'SER - Somos Energía para Renovar'>, <Bloque.UNIDAD_Y_EQUIDAD_FEDERAL: 'Unidad y Equidad Federal'>])"
     ]
    }
   ],
   "source": [
    "BloqueID(**bloque)"
   ]
  },
  {
   "cell_type": "markdown",
   "metadata": {
    "id": "9TdXl5FsHcxG"
   },
   "source": [
    "¿Cómo podemos hacer para normalizar y reparar casos como este? Veremos cómo hacerlo con **búsqueda difusa de strings**"
   ]
  },
  {
   "cell_type": "markdown",
   "metadata": {
    "id": "dctDgKVGJPok"
   },
   "source": [
    "### Ejercicio Pydantic\n",
    "\n",
    "1. Crear un esquema de PyDantic que valide el siguiente JSON de `Politico`. \n",
    "2. Crear otro esquema para `Sexo` que valide que el número en ese campo sea uno de los dos permitidos (0,1). Hacer que `Politico` tenga un campo `Sexo`.\n",
    "3. Agregar validación para la fecha de nacimiento y para el mail (se podría pensar una validación usando REGEX para el mail)"
   ]
  },
  {
   "cell_type": "code",
   "execution_count": null,
   "metadata": {
    "id": "5gqpfJohiqrb"
   },
   "outputs": [],
   "source": []
  },
  {
   "cell_type": "markdown",
   "metadata": {
    "id": "xlk_EWXpbuZO"
   },
   "source": [
    "## Distancia de edición "
   ]
  },
  {
   "cell_type": "markdown",
   "metadata": {
    "id": "QkHgBvavADgm"
   },
   "source": [
    "\n",
    "Para afrontar el \"ruido\" en nuestros textos, tenemos una importante herramienta: la distancia de edición.\n",
    "\n",
    "También llamada Distancia de Levenshtein, nos dice la cantidad mínima de operaciones requerida para llevar de un string al otro. Expresandola de una manera sencilla (y en su versión sin normalizar entre 0 y 1) podemos explicarla así:\n",
    "\n",
    "$$\\mathit{L} = S+D+I$$\n",
    "\n",
    "Donde $S$ = sustitución, $D$ = Eliminación, $I$ = inserción (de un caracter).\n",
    "\n",
    "\n",
    "También podemos usarla entre dos listas como métrica de similitud."
   ]
  },
  {
   "cell_type": "code",
   "execution_count": 399,
   "metadata": {
    "id": "qtLW-PVpEhp2"
   },
   "outputs": [],
   "source": [
    "from nltk.metrics import edit_distance"
   ]
  },
  {
   "cell_type": "code",
   "execution_count": 401,
   "metadata": {
    "colab": {
     "base_uri": "https://localhost:8080/"
    },
    "id": "z6e8fQ-R57PY",
    "outputId": "9d50d327-2db9-44e2-9ece-02330c4952e8"
   },
   "outputs": [
    {
     "name": "stdout",
     "output_type": "stream",
     "text": [
      "'pero' vs 'perro':\n",
      "Distancia Levenshtein -> 1\n",
      "----------------------------------------\n",
      "'pero' vs 'pierdo':\n",
      "Distancia Levenshtein -> 2\n",
      "----------------------------------------\n",
      "'nueve' vs 'mueve':\n",
      "Distancia Levenshtein -> 1\n",
      "----------------------------------------\n",
      "'totalmente' vs 'diferentes':\n",
      "Distancia Levenshtein -> 7\n",
      "----------------------------------------\n",
      "'pero' vs 'basta':\n",
      "Distancia Levenshtein -> 5\n",
      "----------------------------------------\n"
     ]
    }
   ],
   "source": [
    "# Definimos una lista de tuplas de palabras\n",
    "palabras = [(\"pero\", \"perro\"),(\"pero\", \"pierdo\"), (\"nueve\", \"mueve\"),  (\"totalmente\",\"diferentes\"), (\"pero\", \"basta\")]\n",
    "\n",
    "for x,y in palabras:\n",
    "    print(f\"'{x}' vs '{y}':\")\n",
    "    print(\"Distancia Levenshtein ->\", edit_distance(x,y))\n",
    "    print(\"-\"*40)"
   ]
  },
  {
   "cell_type": "markdown",
   "metadata": {
    "id": "44F9E4z9dJCu"
   },
   "source": [
    "## Búsqueda difusa de strings (fuzzy string matching)"
   ]
  },
  {
   "cell_type": "markdown",
   "metadata": {
    "id": "5eR0kIWzbwck"
   },
   "source": [
    "Técnica muy útil para tener en el repertorio, nos permite encontrar coincidencias que no son exactas. En el caso más sencillo, la búsqueda difusa nos devolverá un puntaje de similitud entre los strings relacionada a las diferencias entre los caracteres. Existen variaciones que consideran cuántas unidades (palabras, tokens) coinciden, que ordenan la oración antes, o que borran repetidos. \n",
    "\n",
    "Hay distintas alternativas, que pueden separar en palabras, ordenarlas, borrar duplicadas, o calcular la superposicion del string directamente. Pueden ver todas las disponibles en: https://github.com/seatgeek/thefuzz "
   ]
  },
  {
   "cell_type": "code",
   "execution_count": 268,
   "metadata": {
    "id": "N1H5I_nSpxMe"
   },
   "outputs": [],
   "source": [
    "%%capture\n",
    "!pip install thefuzz[speedup]\n",
    "from thefuzz import process, fuzz"
   ]
  },
  {
   "cell_type": "code",
   "execution_count": 391,
   "metadata": {
    "colab": {
     "base_uri": "https://localhost:8080/"
    },
    "id": "Cq1q7ru7H-aL",
    "outputId": "c3932480-94fc-4eb7-9f86-c8f39459b3ea"
   },
   "outputs": [
    {
     "data": {
      "text/plain": [
       "77"
      ]
     },
     "execution_count": 391,
     "metadata": {},
     "output_type": "execute_result"
    }
   ],
   "source": [
    "c1 = 'uno dos tres'\n",
    "c2 = 'uno doce trece'\n",
    "fuzz.ratio(c1, c2) # entre 0 y 100"
   ]
  },
  {
   "cell_type": "markdown",
   "metadata": {
    "id": "-qFijbpoI6iy"
   },
   "source": [
    "Podemos usar esta función para encontrar la mejor coincidencia para una palabra en una lista de candidatos:"
   ]
  },
  {
   "cell_type": "code",
   "execution_count": 394,
   "metadata": {
    "id": "EaIGqFoPp30R"
   },
   "outputs": [],
   "source": [
    "def get_match(string, lista_strings):\n",
    "    \"\"\"Para buscar coincidencias entre nombre con los nombres\"\"\"\n",
    "    mejor_match, puntaje = process.extractBests(string.strip(), lista_strings, scorer=fuzz.ratio)[0]\n",
    "    return mejor_match, puntaje"
   ]
  },
  {
   "cell_type": "code",
   "execution_count": 393,
   "metadata": {
    "colab": {
     "base_uri": "https://localhost:8080/"
    },
    "collapsed": true,
    "id": "3f-cunV8MWFI",
    "jupyter": {
     "outputs_hidden": true
    },
    "outputId": "1576ecae-74eb-44d8-a369-e91d84c38928",
    "tags": []
   },
   "outputs": [
    {
     "data": {
      "text/plain": [
       "[{'id': '4',\n",
       "  'foto': 'bloque-4.jpg',\n",
       "  'nombre': 'Frente de Todos',\n",
       "  'color': '4fc3f7'},\n",
       " {'id': '6', 'foto': 'bloque-6.jpg', 'nombre': 'PRO', 'color': 'fdd835'},\n",
       " {'id': '7',\n",
       "  'foto': 'bloque_default.jpg',\n",
       "  'nombre': 'Producción y Trabajo',\n",
       "  'color': '000000'},\n",
       " {'id': '9',\n",
       "  'foto': 'bloque_default.jpg',\n",
       "  'nombre': 'Unidad y Equidad por San Luis',\n",
       "  'color': '000000'},\n",
       " {'id': '11',\n",
       "  'foto': 'bloque-11.jpg',\n",
       "  'nombre': 'Unión Cívica Radical',\n",
       "  'color': 'b71c1c'},\n",
       " {'id': '12',\n",
       "  'foto': 'bloque-12.jpg',\n",
       "  'nombre': 'Partido por la Justicia Social',\n",
       "  'color': '01579b'},\n",
       " {'id': '13',\n",
       "  'foto': 'bloque-13.jpg',\n",
       "  'nombre': 'Justicialista',\n",
       "  'color': '0288d1'},\n",
       " {'id': '14',\n",
       "  'foto': 'bloque-14.jpg',\n",
       "  'nombre': 'Consenso Federal',\n",
       "  'color': '1a237e'},\n",
       " {'id': '18',\n",
       "  'foto': 'bloque-18.jpg',\n",
       "  'nombre': 'Córdoba Federal',\n",
       "  'color': '29b6f6'},\n",
       " {'id': '19',\n",
       "  'foto': 'bloque-19.jpg',\n",
       "  'nombre': 'Coalición Cívica',\n",
       "  'color': '01579b'},\n",
       " {'id': '21',\n",
       "  'foto': 'bloque-21.jpg',\n",
       "  'nombre': 'Frente Progresista Cívico y Social',\n",
       "  'color': 'ef6c00'},\n",
       " {'id': '23',\n",
       "  'foto': 'bloque-23.jpg',\n",
       "  'nombre': 'PTS - Frente de Izquierda',\n",
       "  'color': 'f44336'},\n",
       " {'id': '24',\n",
       "  'foto': 'bloque-24.jpg',\n",
       "  'nombre': 'Socialista',\n",
       "  'color': 'd32f2f'},\n",
       " {'id': '25',\n",
       "  'foto': 'bloque-25.jpg',\n",
       "  'nombre': 'Juntos Somos Rio Negro',\n",
       "  'color': '4caf50'},\n",
       " {'id': '26',\n",
       "  'foto': 'bloque-26.jpg',\n",
       "  'nombre': 'Frente de Izquierda y de los Trabajadores - Unidad',\n",
       "  'color': 'f44336'},\n",
       " {'id': '30',\n",
       "  'foto': 'bloque-30.jpg',\n",
       "  'nombre': 'Frente de la Concordia Misionero',\n",
       "  'color': '0d47a1'},\n",
       " {'id': '34',\n",
       "  'foto': 'bloque-34.jpg',\n",
       "  'nombre': 'Movimiento Popular Neuquino',\n",
       "  'color': '4fc3f7'},\n",
       " {'id': '36',\n",
       "  'foto': 'bloque_default.jpg',\n",
       "  'nombre': 'Acción Federal',\n",
       "  'color': '000000'},\n",
       " {'id': '37',\n",
       "  'foto': 'bloque_default.jpg',\n",
       "  'nombre': 'Frente Cívico y Social de Catamarca',\n",
       "  'color': 'ffb300'},\n",
       " {'id': '38',\n",
       "  'foto': 'bloque-38.jpg',\n",
       "  'nombre': 'Fuerza Cívica Riojana',\n",
       "  'color': 'aed581'},\n",
       " {'id': '39',\n",
       "  'foto': 'bloque-39.jpg',\n",
       "  'nombre': 'Avanzar San Luis',\n",
       "  'color': '00acc1'},\n",
       " {'id': '40',\n",
       "  'foto': 'bloque_default.jpg',\n",
       "  'nombre': 'Santa Fe Federal',\n",
       "  'color': '01579b'},\n",
       " {'id': '41',\n",
       "  'foto': 'bloque_default.jpg',\n",
       "  'nombre': 'Justicialista 8 de Octubre',\n",
       "  'color': '000000'},\n",
       " {'id': '43',\n",
       "  'foto': 'bloque_default.jpg',\n",
       "  'nombre': 'Misiones ',\n",
       "  'color': '90a4ae'},\n",
       " {'id': '44',\n",
       "  'foto': 'bloque_default.jpg',\n",
       "  'nombre': 'Unidad Federal para el Desarrollo',\n",
       "  'color': '000000'},\n",
       " {'id': '46',\n",
       "  'foto': 'bloque_default.jpg',\n",
       "  'nombre': 'Avanza Libertad',\n",
       "  'color': '000000'},\n",
       " {'id': '50',\n",
       "  'foto': 'bloque_default.jpg',\n",
       "  'nombre': 'Ahora Patria',\n",
       "  'color': '000000'},\n",
       " {'id': '51',\n",
       "  'foto': 'bloque_default.jpg',\n",
       "  'nombre': 'Identidad Bonaerense ',\n",
       "  'color': '000000'},\n",
       " {'id': '52',\n",
       "  'foto': 'bloque_default.jpg',\n",
       "  'nombre': 'Evolución Radical',\n",
       "  'color': '000000'},\n",
       " {'id': '53',\n",
       "  'foto': 'bloque_default.jpg',\n",
       "  'nombre': 'Encuentro Federal',\n",
       "  'color': '000000'},\n",
       " {'id': '54',\n",
       "  'foto': 'bloque_default.jpg',\n",
       "  'nombre': 'Creo',\n",
       "  'color': '000000'},\n",
       " {'id': '56',\n",
       "  'foto': 'bloque_default.jpg',\n",
       "  'nombre': 'Izquierda Socialista - Frente de Izquierda',\n",
       "  'color': '000000'},\n",
       " {'id': '57',\n",
       "  'foto': 'bloque_default.jpg',\n",
       "  'nombre': 'La Libertad Avanza',\n",
       "  'color': '000000'},\n",
       " {'id': '58',\n",
       "  'foto': 'bloque_default.jpg',\n",
       "  'nombre': 'Unidos por San Luis',\n",
       "  'color': '000000'},\n",
       " {'id': '60',\n",
       "  'foto': 'bloque_default.jpg',\n",
       "  'nombre': 'Partido Obrero - Frente de Izquierda y de los Trabajadores - Unidad',\n",
       "  'color': '000000'},\n",
       " {'id': '61',\n",
       "  'foto': 'bloque_default.jpg',\n",
       "  'nombre': 'PTS - Frente de Izquierda de Trabajadores - Unidad',\n",
       "  'color': '000000'},\n",
       " {'id': '63',\n",
       "  'foto': 'bloque_default.jpg',\n",
       "  'nombre': 'Republicanos Unidos ',\n",
       "  'color': '000000'},\n",
       " {'id': '64',\n",
       "  'foto': 'bloque_default.jpg',\n",
       "  'nombre': 'Sin Bloque',\n",
       "  'color': '757575'},\n",
       " {'id': '65',\n",
       "  'foto': 'bloque_default.jpg',\n",
       "  'nombre': 'Partido Obrero - Frente de Izquierda y de los Trabajadores - Unidad',\n",
       "  'color': '000000'},\n",
       " {'id': '68',\n",
       "  'foto': 'bloque_default.jpg',\n",
       "  'nombre': 'SER - Somos Energía para Renovar',\n",
       "  'color': '000000'},\n",
       " {'id': '70',\n",
       "  'foto': 'bloque_default.jpg',\n",
       "  'nombre': 'Unidad y Equidad Federal',\n",
       "  'color': '000000'}]"
      ]
     },
     "execution_count": 393,
     "metadata": {},
     "output_type": "execute_result"
    }
   ],
   "source": [
    "bloques"
   ]
  },
  {
   "cell_type": "code",
   "execution_count": 395,
   "metadata": {
    "id": "PRwuYOdFHm9W"
   },
   "outputs": [],
   "source": [
    "nombres_bloques = [b[\"nombre\"] for b in bloques]"
   ]
  },
  {
   "cell_type": "code",
   "execution_count": 396,
   "metadata": {
    "colab": {
     "base_uri": "https://localhost:8080/"
    },
    "id": "Fb6QTWZXLuJh",
    "outputId": "cbce4616-a88f-4a51-dfc3-8c799360d88d"
   },
   "outputs": [
    {
     "data": {
      "text/plain": [
       "['Frente de Todos',\n",
       " 'PRO',\n",
       " 'Producción y Trabajo',\n",
       " 'Unidad y Equidad por San Luis',\n",
       " 'Unión Cívica Radical',\n",
       " 'Partido por la Justicia Social',\n",
       " 'Justicialista',\n",
       " 'Consenso Federal',\n",
       " 'Córdoba Federal',\n",
       " 'Coalición Cívica',\n",
       " 'Frente Progresista Cívico y Social',\n",
       " 'PTS - Frente de Izquierda',\n",
       " 'Socialista',\n",
       " 'Juntos Somos Rio Negro',\n",
       " 'Frente de Izquierda y de los Trabajadores - Unidad',\n",
       " 'Frente de la Concordia Misionero',\n",
       " 'Movimiento Popular Neuquino',\n",
       " 'Acción Federal',\n",
       " 'Frente Cívico y Social de Catamarca',\n",
       " 'Fuerza Cívica Riojana',\n",
       " 'Avanzar San Luis',\n",
       " 'Santa Fe Federal',\n",
       " 'Justicialista 8 de Octubre',\n",
       " 'Misiones ',\n",
       " 'Unidad Federal para el Desarrollo',\n",
       " 'Avanza Libertad',\n",
       " 'Ahora Patria',\n",
       " 'Identidad Bonaerense ',\n",
       " 'Evolución Radical',\n",
       " 'Encuentro Federal',\n",
       " 'Creo',\n",
       " 'Izquierda Socialista - Frente de Izquierda',\n",
       " 'La Libertad Avanza',\n",
       " 'Unidos por San Luis',\n",
       " 'Partido Obrero - Frente de Izquierda y de los Trabajadores - Unidad',\n",
       " 'PTS - Frente de Izquierda de Trabajadores - Unidad',\n",
       " 'Republicanos Unidos ',\n",
       " 'Sin Bloque',\n",
       " 'Partido Obrero - Frente de Izquierda y de los Trabajadores - Unidad',\n",
       " 'SER - Somos Energía para Renovar',\n",
       " 'Unidad y Equidad Federal']"
      ]
     },
     "execution_count": 396,
     "metadata": {},
     "output_type": "execute_result"
    }
   ],
   "source": [
    "nombres_bloques"
   ]
  },
  {
   "cell_type": "code",
   "execution_count": 397,
   "metadata": {
    "colab": {
     "base_uri": "https://localhost:8080/"
    },
    "id": "U-brWWiIp9OR",
    "outputId": "3d75a266-b69e-4cbd-dd78-a569ac159f3c"
   },
   "outputs": [
    {
     "data": {
      "text/plain": [
       "('Frente de Todos', 75)"
      ]
     },
     "execution_count": 397,
     "metadata": {},
     "output_type": "execute_result"
    }
   ],
   "source": [
    "busqueda = 'Frente de Algunos'\n",
    "get_match(busqueda, nombres_bloques)"
   ]
  }
 ],
 "metadata": {
  "colab": {
   "collapsed_sections": [
    "JHfPn45-bbhE",
    "ejfz2A9qbj5s",
    "RuRvA4vGbmfI",
    "kxqYZOTBbpmN",
    "dctDgKVGJPok",
    "xlk_EWXpbuZO",
    "44F9E4z9dJCu",
    "rmUaf45Ibz3M"
   ],
   "provenance": []
  },
  "kernelspec": {
   "display_name": "Python 3 (ipykernel)",
   "language": "python",
   "name": "python3"
  },
  "language_info": {
   "codemirror_mode": {
    "name": "ipython",
    "version": 3
   },
   "file_extension": ".py",
   "mimetype": "text/x-python",
   "name": "python",
   "nbconvert_exporter": "python",
   "pygments_lexer": "ipython3",
   "version": "3.10.9"
  }
 },
 "nbformat": 4,
 "nbformat_minor": 4
}
