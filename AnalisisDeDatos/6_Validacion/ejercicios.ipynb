{
 "cells": [
  {
   "cell_type": "markdown",
   "id": "ea1e07b2-c37d-4cd4-983c-418b68f71383",
   "metadata": {
    "id": "rmUaf45Ibz3M",
    "tags": []
   },
   "source": [
    "## Ejercicio: búsqueda difusa\n",
    "\n",
    "Dado el siguiente DataFrame, aplicar la búsqueda difusa de strings para la primera palabra de la descripción de cada producto (columna denominación)\n",
    "\n",
    "Fuentes:\n",
    "- http://inal.sifega.anmat.gov.ar/consultadeRegistroAlimentos/\n",
    "- http://datos.salud.gob.ar/dataset/alimentos-libres-de-gluten/archivo/853d467c-5de5-46ae-bf04-5642c4960d1d"
   ]
  },
  {
   "cell_type": "code",
   "execution_count": 41,
   "id": "1da7c36d-7f60-4490-98c1-5e5f541643c4",
   "metadata": {},
   "outputs": [
    {
     "name": "stdout",
     "output_type": "stream",
     "text": [
      "Requirement already satisfied: thefuzz[speedup] in /home/mat/anaconda3/lib/python3.10/site-packages (0.19.0)\n",
      "Requirement already satisfied: python-levenshtein>=0.12 in /home/mat/anaconda3/lib/python3.10/site-packages (from thefuzz[speedup]) (0.21.1)\n",
      "Requirement already satisfied: Levenshtein==0.21.1 in /home/mat/anaconda3/lib/python3.10/site-packages (from python-levenshtein>=0.12->thefuzz[speedup]) (0.21.1)\n",
      "Requirement already satisfied: rapidfuzz<4.0.0,>=2.3.0 in /home/mat/anaconda3/lib/python3.10/site-packages (from Levenshtein==0.21.1->python-levenshtein>=0.12->thefuzz[speedup]) (3.1.1)\n"
     ]
    }
   ],
   "source": [
    "!pip install thefuzz[speedup]"
   ]
  },
  {
   "cell_type": "code",
   "execution_count": 3,
   "id": "c3d17dd5-dff5-4acb-97d7-2164a7976d18",
   "metadata": {},
   "outputs": [],
   "source": [
    "import pandas as pd"
   ]
  },
  {
   "cell_type": "code",
   "execution_count": 5,
   "id": "9a218a25-81af-4522-b640-bbf8e0852e00",
   "metadata": {
    "id": "KRUjdQuZPUWq"
   },
   "outputs": [],
   "source": [
    "url = \"http://datos.salud.gob.ar/dataset/2ebd602e-3138-40c0-847a-f3eb8f520887/resource/853d467c-5de5-46ae-bf04-5642c4960d1d/download/alimentos-libres-de-gluten.csv\"\n",
    "df = pd.read_csv(url)"
   ]
  },
  {
   "cell_type": "code",
   "execution_count": 6,
   "id": "b922f4c2-e6f8-4e23-a7c2-c4dfa1f2425a",
   "metadata": {},
   "outputs": [
    {
     "data": {
      "text/html": [
       "<div>\n",
       "<style scoped>\n",
       "    .dataframe tbody tr th:only-of-type {\n",
       "        vertical-align: middle;\n",
       "    }\n",
       "\n",
       "    .dataframe tbody tr th {\n",
       "        vertical-align: top;\n",
       "    }\n",
       "\n",
       "    .dataframe thead th {\n",
       "        text-align: right;\n",
       "    }\n",
       "</style>\n",
       "<table border=\"1\" class=\"dataframe\">\n",
       "  <thead>\n",
       "    <tr style=\"text-align: right;\">\n",
       "      <th></th>\n",
       "      <th>marca</th>\n",
       "      <th>nombre_fantasia</th>\n",
       "      <th>denominacion</th>\n",
       "      <th>RNPA</th>\n",
       "    </tr>\n",
       "  </thead>\n",
       "  <tbody>\n",
       "    <tr>\n",
       "      <th>13788</th>\n",
       "      <td>Ensure Plus</td>\n",
       "      <td>Ensure Plus Drink</td>\n",
       "      <td>Suplemento dietario bebible a base de carbohid...</td>\n",
       "      <td>052-00-005717</td>\n",
       "    </tr>\n",
       "  </tbody>\n",
       "</table>\n",
       "</div>"
      ],
      "text/plain": [
       "             marca    nombre_fantasia  \\\n",
       "13788  Ensure Plus  Ensure Plus Drink   \n",
       "\n",
       "                                            denominacion           RNPA  \n",
       "13788  Suplemento dietario bebible a base de carbohid...  052-00-005717  "
      ]
     },
     "execution_count": 6,
     "metadata": {},
     "output_type": "execute_result"
    }
   ],
   "source": [
    "df.sample()"
   ]
  },
  {
   "cell_type": "code",
   "execution_count": 8,
   "id": "cc32d5f6-1399-4a15-85a2-09b5570b7a4c",
   "metadata": {
    "colab": {
     "base_uri": "https://localhost:8080/"
    },
    "id": "d510jJPrPDiv",
    "outputId": "2da3c016-5dd0-42e6-e433-34f1d1b0cf36"
   },
   "outputs": [
    {
     "data": {
      "text/plain": [
       "Dulce de leche libre de gluten                                                                         74\n",
       "Queso cremoso libre de gluten                                                                          63\n",
       "Duraznos amarillos en mitades comunes en jarabe diluido – Libre de gluten                              47\n",
       "Queso sardo libre de gluten                                                                            45\n",
       "Queso tybo libre de gluten                                                                             44\n",
       "                                                                                                       ..\n",
       "Producto de harina de maíz tipo fideo seco - Libre de gluten - (en sus diversos tamaños y formatos)     1\n",
       "Pasta fresca rellena sobre congelada: ravioles libre de gluten sin TACC                                 1\n",
       "Pasta fresca rellena sobrecongelada: sorrentinos libre de gluten sin T.A.C.C.                           1\n",
       "Pastas frescas con huevo sobrecongelados - Libre de gluten sin TACC                                     1\n",
       "Salsa oleosa a base de yogurt y pepino - Libre de gluten                                                1\n",
       "Name: denominacion, Length: 10631, dtype: int64"
      ]
     },
     "execution_count": 8,
     "metadata": {},
     "output_type": "execute_result"
    }
   ],
   "source": [
    "df['denominacion'].value_counts()"
   ]
  },
  {
   "cell_type": "markdown",
   "id": "7f80e6ca-6a36-4d50-96c1-54627e4713a8",
   "metadata": {},
   "source": [
    "Vemos que hay muchas palabras similares pero escritas distinto\n",
    "\n",
    "- \"libre de gluten\" / \"Libre de Gluten\"  \n",
    "- \"sobre congelada\" / \"sobrecongeladas\"  \n",
    "- etc"
   ]
  },
  {
   "cell_type": "code",
   "execution_count": 9,
   "id": "957ac3e5-bd46-4b9a-823d-47cb0af1fbfd",
   "metadata": {},
   "outputs": [],
   "source": [
    "# Contar nulos en \"denominacion\"\n"
   ]
  },
  {
   "cell_type": "code",
   "execution_count": 10,
   "id": "b24fd7d7-7082-4589-8a3f-29f3577da370",
   "metadata": {},
   "outputs": [],
   "source": [
    "# Ver los casos donde \"denominacion\" es nulo\n"
   ]
  },
  {
   "cell_type": "code",
   "execution_count": 11,
   "id": "b0394419-0ded-4580-92f1-ef28d10e8c62",
   "metadata": {
    "id": "Ls1AxEbgT704"
   },
   "outputs": [],
   "source": [
    "# Descartar casos donde \"denominacion\" es nulo\n"
   ]
  },
  {
   "cell_type": "markdown",
   "id": "2bd45103-99f0-4d58-8f9d-2fd8989e8b61",
   "metadata": {},
   "source": [
    "Queremos contar la cantidad de alimentos por categoría (\"Queso\", \"Yogur\"...).\n",
    "\n",
    "Para eso vamos a:\n",
    " 1. Tomar la primer palabra de \"denominacion\"\n",
    " 2. Ver con .value_counts() el resultado\n",
    "\n",
    "Ahí veremos que hay palabras escritas con variaciones, de número u otras (ej \"Lomitos\", \"Lomito\"). Entonces vamos a intentar normalizar las palabras. Para eso tenemos dos enfoques:\n",
    "A) Normalizar con pasos conocidos:\n",
    " 1. Pasar a minúsculas\n",
    " 2. Sacar espacios\n",
    " 3. Sacar tildes\n",
    " 4. Sacar puntuación\n",
    "\n",
    "B) Normalizar palabras infrecuentes.\n",
    " 1. Tomamos las palabras infrecuentes. Para eso podríamos tomar las que están por debajo de cierto percentil (ej. 1%), o las que aparecen una sola vez\n",
    " 2. Luego, utilizando búsqueda difusa, intentamos matchear las palabras infrecuentes con las más frecuentes"
   ]
  },
  {
   "cell_type": "code",
   "execution_count": null,
   "id": "66a2b2ad-28f1-4f2e-9c84-65b974f334ee",
   "metadata": {
    "id": "1dRCrynYUTiN"
   },
   "outputs": [],
   "source": []
  }
 ],
 "metadata": {
  "kernelspec": {
   "display_name": "Python 3 (ipykernel)",
   "language": "python",
   "name": "python3"
  },
  "language_info": {
   "codemirror_mode": {
    "name": "ipython",
    "version": 3
   },
   "file_extension": ".py",
   "mimetype": "text/x-python",
   "name": "python",
   "nbconvert_exporter": "python",
   "pygments_lexer": "ipython3",
   "version": "3.10.9"
  }
 },
 "nbformat": 4,
 "nbformat_minor": 5
}
