{
 "cells": [
  {
   "cell_type": "markdown",
   "id": "ea1e07b2-c37d-4cd4-983c-418b68f71383",
   "metadata": {
    "id": "rmUaf45Ibz3M",
    "tags": []
   },
   "source": [
    "## Ejercicio: búsqueda difusa\n",
    "\n",
    "Dado el siguiente DataFrame, aplicar la búsqueda difusa de strings para la primera palabra de la descripción de cada producto (columna denominación)\n",
    "\n",
    "Fuentes:\n",
    "- http://inal.sifega.anmat.gov.ar/consultadeRegistroAlimentos/\n",
    "- http://datos.salud.gob.ar/dataset/alimentos-libres-de-gluten/archivo/853d467c-5de5-46ae-bf04-5642c4960d1d"
   ]
  },
  {
   "cell_type": "code",
   "execution_count": 41,
   "id": "1da7c36d-7f60-4490-98c1-5e5f541643c4",
   "metadata": {},
   "outputs": [
    {
     "name": "stdout",
     "output_type": "stream",
     "text": [
      "Requirement already satisfied: thefuzz[speedup] in /home/mat/anaconda3/lib/python3.10/site-packages (0.19.0)\n",
      "Requirement already satisfied: python-levenshtein>=0.12 in /home/mat/anaconda3/lib/python3.10/site-packages (from thefuzz[speedup]) (0.21.1)\n",
      "Requirement already satisfied: Levenshtein==0.21.1 in /home/mat/anaconda3/lib/python3.10/site-packages (from python-levenshtein>=0.12->thefuzz[speedup]) (0.21.1)\n",
      "Requirement already satisfied: rapidfuzz<4.0.0,>=2.3.0 in /home/mat/anaconda3/lib/python3.10/site-packages (from Levenshtein==0.21.1->python-levenshtein>=0.12->thefuzz[speedup]) (3.1.1)\n"
     ]
    }
   ],
   "source": [
    "!pip install thefuzz[speedup]"
   ]
  },
  {
   "cell_type": "code",
   "execution_count": 42,
   "id": "d756a5f4-f4ff-4bf7-9219-a96c0bee6ca5",
   "metadata": {},
   "outputs": [],
   "source": [
    "from thefuzz import process, fuzz\n",
    "import pandas as pd"
   ]
  },
  {
   "cell_type": "code",
   "execution_count": 43,
   "id": "9a218a25-81af-4522-b640-bbf8e0852e00",
   "metadata": {
    "id": "KRUjdQuZPUWq"
   },
   "outputs": [],
   "source": [
    "url = \"http://datos.salud.gob.ar/dataset/2ebd602e-3138-40c0-847a-f3eb8f520887/resource/853d467c-5de5-46ae-bf04-5642c4960d1d/download/alimentos-libres-de-gluten.csv\"\n",
    "df = pd.read_csv(url)"
   ]
  },
  {
   "cell_type": "code",
   "execution_count": 44,
   "id": "b922f4c2-e6f8-4e23-a7c2-c4dfa1f2425a",
   "metadata": {},
   "outputs": [
    {
     "data": {
      "text/html": [
       "<div>\n",
       "<style scoped>\n",
       "    .dataframe tbody tr th:only-of-type {\n",
       "        vertical-align: middle;\n",
       "    }\n",
       "\n",
       "    .dataframe tbody tr th {\n",
       "        vertical-align: top;\n",
       "    }\n",
       "\n",
       "    .dataframe thead th {\n",
       "        text-align: right;\n",
       "    }\n",
       "</style>\n",
       "<table border=\"1\" class=\"dataframe\">\n",
       "  <thead>\n",
       "    <tr style=\"text-align: right;\">\n",
       "      <th></th>\n",
       "      <th>marca</th>\n",
       "      <th>nombre_fantasia</th>\n",
       "      <th>denominacion</th>\n",
       "      <th>RNPA</th>\n",
       "    </tr>\n",
       "  </thead>\n",
       "  <tbody>\n",
       "    <tr>\n",
       "      <th>1366</th>\n",
       "      <td>Mogul</td>\n",
       "      <td>Dientes</td>\n",
       "      <td>Pastillas de gomas fantasía sabores a frutilla...</td>\n",
       "      <td>03002834-1</td>\n",
       "    </tr>\n",
       "  </tbody>\n",
       "</table>\n",
       "</div>"
      ],
      "text/plain": [
       "      marca nombre_fantasia  \\\n",
       "1366  Mogul         Dientes   \n",
       "\n",
       "                                           denominacion        RNPA  \n",
       "1366  Pastillas de gomas fantasía sabores a frutilla...  03002834-1  "
      ]
     },
     "execution_count": 44,
     "metadata": {},
     "output_type": "execute_result"
    }
   ],
   "source": [
    "df.sample()"
   ]
  },
  {
   "cell_type": "code",
   "execution_count": 45,
   "id": "cc32d5f6-1399-4a15-85a2-09b5570b7a4c",
   "metadata": {
    "colab": {
     "base_uri": "https://localhost:8080/"
    },
    "id": "d510jJPrPDiv",
    "outputId": "2da3c016-5dd0-42e6-e433-34f1d1b0cf36"
   },
   "outputs": [
    {
     "data": {
      "text/plain": [
       "Dulce de leche libre de gluten                                                                         74\n",
       "Queso cremoso libre de gluten                                                                          63\n",
       "Duraznos amarillos en mitades comunes en jarabe diluido – Libre de gluten                              47\n",
       "Queso sardo libre de gluten                                                                            45\n",
       "Queso tybo libre de gluten                                                                             44\n",
       "                                                                                                       ..\n",
       "Producto de harina de maíz tipo fideo seco - Libre de gluten - (en sus diversos tamaños y formatos)     1\n",
       "Pasta fresca rellena sobre congelada: ravioles libre de gluten sin TACC                                 1\n",
       "Pasta fresca rellena sobrecongelada: sorrentinos libre de gluten sin T.A.C.C.                           1\n",
       "Pastas frescas con huevo sobrecongelados - Libre de gluten sin TACC                                     1\n",
       "Salsa oleosa a base de yogurt y pepino - Libre de gluten                                                1\n",
       "Name: denominacion, Length: 10631, dtype: int64"
      ]
     },
     "execution_count": 45,
     "metadata": {},
     "output_type": "execute_result"
    }
   ],
   "source": [
    "df['denominacion'].value_counts()"
   ]
  },
  {
   "cell_type": "markdown",
   "id": "7f80e6ca-6a36-4d50-96c1-54627e4713a8",
   "metadata": {},
   "source": [
    "Vemos que hay muchas palabras similares pero escritas distinto\n",
    "\n",
    "- \"libre de gluten\" / \"Libre de Gluten\"  \n",
    "- \"sobre congelada\" / \"sobrecongeladas\"  \n",
    "- etc"
   ]
  },
  {
   "cell_type": "code",
   "execution_count": 46,
   "id": "957ac3e5-bd46-4b9a-823d-47cb0af1fbfd",
   "metadata": {},
   "outputs": [
    {
     "data": {
      "text/plain": [
       "1"
      ]
     },
     "execution_count": 46,
     "metadata": {},
     "output_type": "execute_result"
    }
   ],
   "source": [
    "# Contar nulos en \"denominacion\"\n",
    "df.denominacion.isnull().sum()"
   ]
  },
  {
   "cell_type": "code",
   "execution_count": 47,
   "id": "b24fd7d7-7082-4589-8a3f-29f3577da370",
   "metadata": {},
   "outputs": [
    {
     "data": {
      "text/html": [
       "<div>\n",
       "<style scoped>\n",
       "    .dataframe tbody tr th:only-of-type {\n",
       "        vertical-align: middle;\n",
       "    }\n",
       "\n",
       "    .dataframe tbody tr th {\n",
       "        vertical-align: top;\n",
       "    }\n",
       "\n",
       "    .dataframe thead th {\n",
       "        text-align: right;\n",
       "    }\n",
       "</style>\n",
       "<table border=\"1\" class=\"dataframe\">\n",
       "  <thead>\n",
       "    <tr style=\"text-align: right;\">\n",
       "      <th></th>\n",
       "      <th>marca</th>\n",
       "      <th>nombre_fantasia</th>\n",
       "      <th>denominacion</th>\n",
       "      <th>RNPA</th>\n",
       "    </tr>\n",
       "  </thead>\n",
       "  <tbody>\n",
       "    <tr>\n",
       "      <th>6578</th>\n",
       "      <td>;02-567232</td>\n",
       "      <td>NaN</td>\n",
       "      <td>NaN</td>\n",
       "      <td>NaN</td>\n",
       "    </tr>\n",
       "  </tbody>\n",
       "</table>\n",
       "</div>"
      ],
      "text/plain": [
       "           marca nombre_fantasia denominacion RNPA\n",
       "6578  ;02-567232             NaN          NaN  NaN"
      ]
     },
     "execution_count": 47,
     "metadata": {},
     "output_type": "execute_result"
    }
   ],
   "source": [
    "# Ver los casos donde \"denominacion\" es nulo\n",
    "df[df.denominacion.isnull()]"
   ]
  },
  {
   "cell_type": "code",
   "execution_count": 48,
   "id": "b0394419-0ded-4580-92f1-ef28d10e8c62",
   "metadata": {
    "id": "Ls1AxEbgT704"
   },
   "outputs": [],
   "source": [
    "# Descartar casos donde \"denominacion\" es nulo\n",
    "df = df.dropna(subset=['denominacion'])"
   ]
  },
  {
   "cell_type": "markdown",
   "id": "2bd45103-99f0-4d58-8f9d-2fd8989e8b61",
   "metadata": {},
   "source": [
    "Queremos contar la cantidad de alimentos por categoría (\"Queso\", \"Yogur\"...).\n",
    "\n",
    "Para eso vamos a:\n",
    " 1. Tomar la primer palabra de \"denominacion\"\n",
    " 2. Ver con .value_counts() el resultado\n",
    "\n",
    "Ahí veremos que hay palabras escritas con variaciones, de número u otras (ej \"Lomitos\", \"Lomito\"). Entonces vamos a intentar normalizar las palabras. Para eso tenemos dos enfoques:\n",
    "A) Normalizar con pasos conocidos:\n",
    " 1. Pasar a minúsculas\n",
    " 2. Sacar espacios\n",
    " 3. Sacar tildes\n",
    " 4. Sacar puntuación\n",
    "\n",
    "B) Normalizar palabras infrecuentes.\n",
    " 1. Tomamos las palabras infrecuentes. Para eso podríamos tomar las que están por debajo de cierto percentil (ej. 1%), o las que aparecen una sola vez\n",
    " 2. Luego, utilizando búsqueda difusa, intentamos matchear las palabras infrecuentes con las más frecuentes"
   ]
  },
  {
   "cell_type": "code",
   "execution_count": 49,
   "id": "4cf08b61-54e8-4759-be46-68c41d81780f",
   "metadata": {
    "colab": {
     "base_uri": "https://localhost:8080/"
    },
    "id": "be3__AEoSfak",
    "outputId": "b2e6dceb-699f-4aae-8945-9584a7c877e7"
   },
   "outputs": [
    {
     "data": {
      "text/plain": [
       "Queso                       1493\n",
       "Leche                        682\n",
       "Alimento                     668\n",
       "Mermelada                    549\n",
       "Yogur                        503\n",
       "                            ... \n",
       "Estabilizante                  1\n",
       "Lomitos                        1\n",
       "Perejil                        1\n",
       "Aromatizante/saborizante       1\n",
       "Vainillas,                     1\n",
       "Name: simple, Length: 535, dtype: int64"
      ]
     },
     "execution_count": 49,
     "metadata": {},
     "output_type": "execute_result"
    }
   ],
   "source": [
    "# Nos quedamos con la primer palabra de \"denominacion\"\n",
    "# como palabra clave\n",
    "df.loc[:, 'simple'] = df['denominacion'].apply(lambda x: x.split()[0])\n",
    "df['simple'].value_counts()"
   ]
  },
  {
   "cell_type": "code",
   "execution_count": 50,
   "id": "66a2b2ad-28f1-4f2e-9c84-65b974f334ee",
   "metadata": {
    "id": "1dRCrynYUTiN"
   },
   "outputs": [],
   "source": [
    "from unidecode import unidecode\n",
    "import string\n",
    "\n",
    "def normalizar(s):\n",
    "    # todo a minusculas\n",
    "    s = s.lower()\n",
    "    # sacar espacios\n",
    "    s = s.strip()\n",
    "    # sin tildes\n",
    "    s = unidecode(s)\n",
    "    # sacamos puntuacion\n",
    "    letras_no_punct = [l if l not in string.punctuation else '' for l in s]\n",
    "    return ''.join(letras_no_punct)\n",
    "\n",
    "# normalizar('Vainillás,')"
   ]
  },
  {
   "cell_type": "code",
   "execution_count": 51,
   "id": "a8501158-8f97-4e17-9cf9-f4edb3b7490a",
   "metadata": {
    "id": "DbGlELDuU6xl"
   },
   "outputs": [],
   "source": [
    "def get_match(string, lista_strings):\n",
    "    \"\"\"Para buscar coincidencias entre nombre con los nombres\"\"\"\n",
    "    mejor_match, puntaje = process.extractBests(string.strip(), lista_strings, scorer=fuzz.ratio)[0]\n",
    "    return mejor_match, puntaje\n",
    "\n",
    "def find_match(busqueda: str, vocab: list, th=85):\n",
    "    \"\"\"Si lo encuentra, devuelve el resultado de la búsqueda. Si no, mantiene lo mismo\"\"\"\n",
    "    match, puntaje = get_match(busqueda, vocab)\n",
    "    if puntaje > th:\n",
    "        return match\n",
    "    else:\n",
    "        return busqueda"
   ]
  },
  {
   "cell_type": "code",
   "execution_count": 52,
   "id": "00d0b07d-e1dd-456f-ae84-141b300befc3",
   "metadata": {
    "colab": {
     "base_uri": "https://localhost:8080/"
    },
    "id": "CsOmXTTcULjO",
    "outputId": "7bfef430-fa1f-4990-c874-1d51a9dd205a"
   },
   "outputs": [
    {
     "data": {
      "text/plain": [
       "Queso                       1493\n",
       "Leche                        682\n",
       "Alimento                     668\n",
       "Mermelada                    549\n",
       "Yogur                        503\n",
       "                            ... \n",
       "Estabilizante                  1\n",
       "Lomitos                        1\n",
       "Perejil                        1\n",
       "Aromatizante/saborizante       1\n",
       "Vainillas,                     1\n",
       "Name: simple, Length: 535, dtype: int64"
      ]
     },
     "execution_count": 52,
     "metadata": {},
     "output_type": "execute_result"
    }
   ],
   "source": [
    "# 535 \"categorias\" distintas\n",
    "p = df['simple'].value_counts()\n",
    "p"
   ]
  },
  {
   "cell_type": "code",
   "execution_count": 53,
   "id": "fc79905c-0bf8-41cd-8f2d-69b1f7897008",
   "metadata": {
    "colab": {
     "base_uri": "https://localhost:8080/",
     "height": 347
    },
    "id": "Dl70xxjEXpG8",
    "outputId": "360f2fb3-33c9-4507-ce84-5426bf60ef4b"
   },
   "outputs": [
    {
     "data": {
      "image/png": "[encoded data removed]",
      "text/plain": [
       "<Figure size 640x480 with 1 Axes>"
      ]
     },
     "metadata": {},
     "output_type": "display_data"
    }
   ],
   "source": [
    "p.plot.hist(bins=50);"
   ]
  },
  {
   "cell_type": "code",
   "execution_count": 54,
   "id": "30ff1df8-ba99-4f84-b997-9687365cec5d",
   "metadata": {
    "colab": {
     "base_uri": "https://localhost:8080/"
    },
    "id": "jJ84NyQRU-Mt",
    "outputId": "a378d49f-f7c3-4513-f79b-fc5201c1a31c"
   },
   "outputs": [
    {
     "data": {
      "text/plain": [
       "176"
      ]
     },
     "execution_count": 54,
     "metadata": {},
     "output_type": "execute_result"
    }
   ],
   "source": [
    "p[p == 1].count()"
   ]
  },
  {
   "cell_type": "code",
   "execution_count": 55,
   "id": "9a83729a-4daf-451c-a00e-9439574fede8",
   "metadata": {
    "colab": {
     "base_uri": "https://localhost:8080/"
    },
    "id": "BOnX_YjhXOqT",
    "outputId": "a64fc792-4658-4874-f990-b6468113b760"
   },
   "outputs": [
    {
     "data": {
      "text/plain": [
       "Index(['Trozos', 'Premezcla,', 'Fecula', 'Bastoncitos', 'Biscuits',\n",
       "       'Polvorones', 'Bebida,', 'Frambuesa', 'Pretzels', 'Guinda',\n",
       "       ...\n",
       "       'Acaí', 'Espesantes', 'Cazuela', 'Celulosa', 'Antiaglutinante',\n",
       "       'Estabilizante', 'Lomitos', 'Perejil', 'Aromatizante/saborizante',\n",
       "       'Vainillas,'],\n",
       "      dtype='object', length=176)"
      ]
     },
     "execution_count": 55,
     "metadata": {},
     "output_type": "execute_result"
    }
   ],
   "source": [
    "dudosas = p[p == 1].index\n",
    "dudosas"
   ]
  },
  {
   "cell_type": "code",
   "execution_count": 56,
   "id": "6e14273c-117f-4769-baed-f3d48ad0223d",
   "metadata": {
    "colab": {
     "base_uri": "https://localhost:8080/"
    },
    "id": "iQBo97m6VBnE",
    "outputId": "38e803b6-929c-423f-d955-f0df235fc6aa"
   },
   "outputs": [
    {
     "data": {
      "text/plain": [
       "Index(['Queso', 'Leche', 'Alimento', 'Mermelada', 'Yogur', 'Suplemento',\n",
       "       'Dulce', 'Galletitas', 'Polvo', 'Bebida',\n",
       "       ...\n",
       "       'Moras', 'Durazno', 'Rebozador-', 'Pre-pizza', 'Ñoquis', 'Trigo',\n",
       "       'Amaranto', 'Cereza', 'Garrapiñada', 'Tallarines'],\n",
       "      dtype='object', length=359)"
      ]
     },
     "execution_count": 56,
     "metadata": {},
     "output_type": "execute_result"
    }
   ],
   "source": [
    "vocab = p[p > 1].index\n",
    "vocab"
   ]
  },
  {
   "cell_type": "code",
   "execution_count": 57,
   "id": "d38ab378-1be6-4b95-979b-d7def022afb2",
   "metadata": {
    "id": "hZIkvl0eVM3X"
   },
   "outputs": [],
   "source": [
    "matches = dudosas.map(lambda x: find_match(x, vocab))"
   ]
  },
  {
   "cell_type": "code",
   "execution_count": 58,
   "id": "de8052c6-1ce7-4585-a9da-0795407ec994",
   "metadata": {
    "colab": {
     "base_uri": "https://localhost:8080/"
    },
    "id": "nFP6BGeIGJ2W",
    "outputId": "fbcfb2ee-23a7-4c2a-86f2-336ba15b72a0"
   },
   "outputs": [
    {
     "data": {
      "text/plain": [
       "Index(['Trozos', 'Premezcla', 'Fecula', 'Bastoncitos', 'Biscuits',\n",
       "       'Polvorones', 'Bebida', 'Frambuesas', 'Pretzel', 'Guindas',\n",
       "       ...\n",
       "       'Acaí', 'Espesante', 'Cazuela', 'Celulosa', 'Antiaglutinante',\n",
       "       'Estabilizante', 'Lomito', 'Perejil', 'Aromatizante/saborizante',\n",
       "       'Vainillas'],\n",
       "      dtype='object', length=176)"
      ]
     },
     "execution_count": 58,
     "metadata": {},
     "output_type": "execute_result"
    }
   ],
   "source": [
    "matches"
   ]
  },
  {
   "cell_type": "code",
   "execution_count": 59,
   "id": "03c73feb-6d3f-4ef4-8945-b2e57126ba01",
   "metadata": {
    "id": "49NzDDQRV41J"
   },
   "outputs": [],
   "source": [
    "resultado = pd.DataFrame({'original':dudosas, 'matches':matches})"
   ]
  },
  {
   "cell_type": "code",
   "execution_count": 60,
   "id": "62087a3b-ee91-497b-949d-81a653d8b747",
   "metadata": {
    "colab": {
     "base_uri": "https://localhost:8080/",
     "height": 424
    },
    "id": "xoItdeXtVSko",
    "outputId": "db376422-b6f3-4b24-a8b5-941899d5f7bc"
   },
   "outputs": [
    {
     "data": {
      "text/html": [
       "<div>\n",
       "<style scoped>\n",
       "    .dataframe tbody tr th:only-of-type {\n",
       "        vertical-align: middle;\n",
       "    }\n",
       "\n",
       "    .dataframe tbody tr th {\n",
       "        vertical-align: top;\n",
       "    }\n",
       "\n",
       "    .dataframe thead th {\n",
       "        text-align: right;\n",
       "    }\n",
       "</style>\n",
       "<table border=\"1\" class=\"dataframe\">\n",
       "  <thead>\n",
       "    <tr style=\"text-align: right;\">\n",
       "      <th></th>\n",
       "      <th>original</th>\n",
       "      <th>matches</th>\n",
       "    </tr>\n",
       "  </thead>\n",
       "  <tbody>\n",
       "    <tr>\n",
       "      <th>1</th>\n",
       "      <td>Premezcla,</td>\n",
       "      <td>Premezcla</td>\n",
       "    </tr>\n",
       "    <tr>\n",
       "      <th>6</th>\n",
       "      <td>Bebida,</td>\n",
       "      <td>Bebida</td>\n",
       "    </tr>\n",
       "    <tr>\n",
       "      <th>7</th>\n",
       "      <td>Frambuesa</td>\n",
       "      <td>Frambuesas</td>\n",
       "    </tr>\n",
       "    <tr>\n",
       "      <th>8</th>\n",
       "      <td>Pretzels</td>\n",
       "      <td>Pretzel</td>\n",
       "    </tr>\n",
       "    <tr>\n",
       "      <th>9</th>\n",
       "      <td>Guinda</td>\n",
       "      <td>Guindas</td>\n",
       "    </tr>\n",
       "    <tr>\n",
       "      <th>...</th>\n",
       "      <td>...</td>\n",
       "      <td>...</td>\n",
       "    </tr>\n",
       "    <tr>\n",
       "      <th>163</th>\n",
       "      <td>Mora,</td>\n",
       "      <td>Moras</td>\n",
       "    </tr>\n",
       "    <tr>\n",
       "      <th>164</th>\n",
       "      <td>Mora</td>\n",
       "      <td>Moras</td>\n",
       "    </tr>\n",
       "    <tr>\n",
       "      <th>167</th>\n",
       "      <td>Espesantes</td>\n",
       "      <td>Espesante</td>\n",
       "    </tr>\n",
       "    <tr>\n",
       "      <th>172</th>\n",
       "      <td>Lomitos</td>\n",
       "      <td>Lomito</td>\n",
       "    </tr>\n",
       "    <tr>\n",
       "      <th>175</th>\n",
       "      <td>Vainillas,</td>\n",
       "      <td>Vainillas</td>\n",
       "    </tr>\n",
       "  </tbody>\n",
       "</table>\n",
       "<p>67 rows × 2 columns</p>\n",
       "</div>"
      ],
      "text/plain": [
       "       original     matches\n",
       "1    Premezcla,   Premezcla\n",
       "6       Bebida,      Bebida\n",
       "7     Frambuesa  Frambuesas\n",
       "8      Pretzels     Pretzel\n",
       "9        Guinda     Guindas\n",
       "..          ...         ...\n",
       "163       Mora,       Moras\n",
       "164        Mora       Moras\n",
       "167  Espesantes   Espesante\n",
       "172     Lomitos      Lomito\n",
       "175  Vainillas,   Vainillas\n",
       "\n",
       "[67 rows x 2 columns]"
      ]
     },
     "execution_count": 60,
     "metadata": {},
     "output_type": "execute_result"
    }
   ],
   "source": [
    "resultado[resultado['original'] != resultado['matches']]"
   ]
  },
  {
   "cell_type": "code",
   "execution_count": 61,
   "id": "73a285a1-9ae6-40cb-a501-9a3a34c5d4dd",
   "metadata": {
    "colab": {
     "base_uri": "https://localhost:8080/"
    },
    "id": "fEcwvNx6SKD5",
    "outputId": "71e3b664-b960-4e41-9704-a85e08a3130b"
   },
   "outputs": [
    {
     "name": "stdout",
     "output_type": "stream",
     "text": [
      "CPU times: user 11.3 s, sys: 0 ns, total: 11.3 s\n",
      "Wall time: 11.3 s\n"
     ]
    }
   ],
   "source": [
    "%%time\n",
    "df['simple_correct'] = df['simple'].map(lambda x: find_match(x, vocab))"
   ]
  },
  {
   "cell_type": "code",
   "execution_count": 62,
   "id": "ed43128c-a9e9-4ff6-85b5-9d95b768fde6",
   "metadata": {
    "colab": {
     "base_uri": "https://localhost:8080/"
    },
    "id": "EXnWel8HYeNS",
    "outputId": "a41dc5b2-aea6-4b3a-c1af-594fb05f7447"
   },
   "outputs": [
    {
     "data": {
      "text/plain": [
       "Queso              1493\n",
       "Leche               682\n",
       "Alimento            668\n",
       "Mermelada           549\n",
       "Yogur               503\n",
       "                   ... \n",
       "Estabilizante         1\n",
       "Antiaglutinante       1\n",
       "Celulosa              1\n",
       "Acaí                  1\n",
       "Castañas              1\n",
       "Name: simple_correct, Length: 457, dtype: int64"
      ]
     },
     "execution_count": 62,
     "metadata": {},
     "output_type": "execute_result"
    }
   ],
   "source": [
    "df['simple_correct'].value_counts()"
   ]
  },
  {
   "cell_type": "markdown",
   "id": "23744afe-552c-47cb-9068-9824648a3566",
   "metadata": {
    "id": "7IJcC1u4oJeX"
   },
   "source": [
    "# Bonus:\n",
    "- Aplicar la normalización sobre los nombres completos de los productos.\n",
    "\n",
    "Va a requerrir un poco más de pasos, ej podrían borrar \"sin TACC\" (usar RegEx), \"libre de gluten\""
   ]
  }
 ],
 "metadata": {
  "kernelspec": {
   "display_name": "Python 3 (ipykernel)",
   "language": "python",
   "name": "python3"
  },
  "language_info": {
   "codemirror_mode": {
    "name": "ipython",
    "version": 3
   },
   "file_extension": ".py",
   "mimetype": "text/x-python",
   "name": "python",
   "nbconvert_exporter": "python",
   "pygments_lexer": "ipython3",
   "version": "3.10.9"
  }
 },
 "nbformat": 4,
 "nbformat_minor": 5
}
