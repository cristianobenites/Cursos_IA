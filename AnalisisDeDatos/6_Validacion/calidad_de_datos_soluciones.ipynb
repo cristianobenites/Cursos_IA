{
 "cells": [
  {
   "cell_type": "markdown",
   "metadata": {
    "id": "zC6ww9-sBKHg"
   },
   "source": [
    "# Calidad de Datos\n",
    "\n",
    "### Temas:\n",
    "\n",
    "- ¿Por qué preparar y validar los datos?\n",
    "- Wrangling e imputación\n",
    "- Interpolación\n",
    "- Caso: Humedales\n",
    "  - Scraping\n",
    "  - Validación con Pydantic\n",
    "- Normalización de strings:\n",
    "  - Distancia de edición\n",
    "  - Fuzzy string matching "
   ]
  },
  {
   "cell_type": "markdown",
   "metadata": {
    "id": "x4jsKCjNaHvu"
   },
   "source": [
    "## Introducción"
   ]
  },
  {
   "cell_type": "markdown",
   "metadata": {
    "id": "YQI-OsPje0dX"
   },
   "source": [
    "Es conocido el hecho de que, a la hora de trabajar con datos, la mayor parte no está en tunear algorítmos ni dejar bonitas las visualizaciones, si no en la preparación de los datos.\n",
    "\n",
    "A la hora de avanzar con cualquier tipo de análisis basado en datos, es esencial previamente asegurarnos de que estamos trabajando con datos de calidad. Si no se dedica el tiempo necesario, y si consideramos que las empresas apoyan en los datos sus decisiones de negocio, los datos faltantes o incorrectos pueden impactar directamente en la performance de las mismas. Esto se potencia aún más si la toma de decisiones se vincula a modelos de aprendizaje automático, ya que datos de entrenamiento de mala calidad resultan en aprendizajes erróneos.\n",
    "\n",
    "No solo pueden traer complicaciones en el sistema, sino que pueden traer un impacto importante al negocio y para los usuarios (por ejemplo, [Hawaiian Airlines se disculpa después de que una falla técnica causó miles de cargos fraudulentos](https://www.hawaiinewsnow.com/2019/05/24/hawaiian-air-apologizes-after-some-customers-were-overcharged-hundreds-thousands-dollars/))\n",
    "\n",
    "Tener datos de calidad va a proveer muchas ventajas, tales como:\n",
    "- Transparencia en los procesos\n",
    "- Mayor confianza en las propias decisiones de negocio\n",
    "- Escalabilidad\n",
    "- Ahorro de costos y tiempo"
   ]
  },
  {
   "cell_type": "markdown",
   "metadata": {
    "id": "NYKFezU3aBkd"
   },
   "source": [
    "<img src='https://crunchingthedata.com/wp-content/uploads/2021/04/Case-study-one_-Data-quality-copy-2.jpg' width=\"700px\">"
   ]
  },
  {
   "cell_type": "markdown",
   "metadata": {
    "id": "GM8YX32UhsFa"
   },
   "source": [
    "La calidad puede referir a la **extensión** o a la **intención** de la data:\n",
    "- En terminos de extensión:\n",
    "  - Una base completa (sin nulos)\n",
    "  - **Consistencia** de las categorías. Por ejemplo, si una columna tiene categorías de talles S, M o L, sería inconsistente que aparezcan talles de calzado que siguen otro criterio, del tipo numérico en este caso (talle 40, 41, etc.)\n",
    "  - **Precisión** de los datos: Que no tengan errores sintácticos (por ejemplo \"Ss\" en vez de \"S\") ni semánticos (por ejemplo \"M\" en vez de \"S\"). \n"
   ]
  },
  {
   "cell_type": "code",
   "execution_count": null,
   "metadata": {
    "id": "AO8A_941Q4pu"
   },
   "outputs": [],
   "source": [
    "import pandas as pd\n",
    "import numpy as np"
   ]
  },
  {
   "cell_type": "markdown",
   "metadata": {
    "id": "4XRKKNUrvPmy"
   },
   "source": [
    "## Ejemplos de datos ruidosos"
   ]
  },
  {
   "cell_type": "markdown",
   "metadata": {
    "id": "q9UsbJUfaQjM"
   },
   "source": [
    "Chequeando la calidad de nuestros datos:"
   ]
  },
  {
   "cell_type": "code",
   "execution_count": null,
   "metadata": {
    "id": "9WgZVtWmb19d"
   },
   "outputs": [],
   "source": [
    "df = pd.read_csv(\"https://storage.googleapis.com/humai-datasets/datasets/movies.csv\")"
   ]
  },
  {
   "cell_type": "code",
   "execution_count": null,
   "metadata": {
    "colab": {
     "base_uri": "https://localhost:8080/",
     "height": 389
    },
    "id": "JbwIYTnKQ7KJ",
    "outputId": "d2d7ae9e-d4a6-42e2-a889-d4640f55421d"
   },
   "outputs": [
    {
     "data": {
      "text/html": [
       "\n",
       "  <div id=\"df-b50e83ff-7986-4a1e-928d-3cd0b22988b5\">\n",
       "    <div class=\"colab-df-container\">\n",
       "      <div>\n",
       "<style scoped>\n",
       "    .dataframe tbody tr th:only-of-type {\n",
       "        vertical-align: middle;\n",
       "    }\n",
       "\n",
       "    .dataframe tbody tr th {\n",
       "        vertical-align: top;\n",
       "    }\n",
       "\n",
       "    .dataframe thead th {\n",
       "        text-align: right;\n",
       "    }\n",
       "</style>\n",
       "<table border=\"1\" class=\"dataframe\">\n",
       "  <thead>\n",
       "    <tr style=\"text-align: right;\">\n",
       "      <th></th>\n",
       "      <th>MOVIES</th>\n",
       "      <th>YEAR</th>\n",
       "      <th>GENRE</th>\n",
       "      <th>RATING</th>\n",
       "      <th>ONE-LINE</th>\n",
       "      <th>STARS</th>\n",
       "      <th>VOTES</th>\n",
       "      <th>RunTime</th>\n",
       "      <th>Gross</th>\n",
       "    </tr>\n",
       "  </thead>\n",
       "  <tbody>\n",
       "    <tr>\n",
       "      <th>0</th>\n",
       "      <td>Blood Red Sky</td>\n",
       "      <td>(2021)</td>\n",
       "      <td>\\nAction, Horror, Thriller</td>\n",
       "      <td>6.10</td>\n",
       "      <td>\\nA woman with a mysterious illness is forced ...</td>\n",
       "      <td>\\n    Director:\\nPeter Thorwarth\\n| \\n    Star...</td>\n",
       "      <td>21,062</td>\n",
       "      <td>121.00</td>\n",
       "      <td>NaN</td>\n",
       "    </tr>\n",
       "    <tr>\n",
       "      <th>1</th>\n",
       "      <td>Masters of the Universe: Revelation</td>\n",
       "      <td>(2021– )</td>\n",
       "      <td>\\nAnimation, Action, Adventure</td>\n",
       "      <td>5.00</td>\n",
       "      <td>\\nThe war for Eternia begins again in what may...</td>\n",
       "      <td>\\n            \\n    Stars:\\nChris Wood, \\nSara...</td>\n",
       "      <td>17,870</td>\n",
       "      <td>25.00</td>\n",
       "      <td>NaN</td>\n",
       "    </tr>\n",
       "    <tr>\n",
       "      <th>2</th>\n",
       "      <td>The Walking Dead</td>\n",
       "      <td>(2010–2022)</td>\n",
       "      <td>\\nDrama, Horror, Thriller</td>\n",
       "      <td>8.20</td>\n",
       "      <td>\\nSheriff Deputy Rick Grimes wakes up from a c...</td>\n",
       "      <td>\\n            \\n    Stars:\\nAndrew Lincoln, \\n...</td>\n",
       "      <td>885,805</td>\n",
       "      <td>44.00</td>\n",
       "      <td>NaN</td>\n",
       "    </tr>\n",
       "    <tr>\n",
       "      <th>3</th>\n",
       "      <td>Rick and Morty</td>\n",
       "      <td>(2013– )</td>\n",
       "      <td>\\nAnimation, Adventure, Comedy</td>\n",
       "      <td>9.20</td>\n",
       "      <td>\\nAn animated series that follows the exploits...</td>\n",
       "      <td>\\n            \\n    Stars:\\nJustin Roiland, \\n...</td>\n",
       "      <td>414,849</td>\n",
       "      <td>23.00</td>\n",
       "      <td>NaN</td>\n",
       "    </tr>\n",
       "    <tr>\n",
       "      <th>4</th>\n",
       "      <td>Army of Thieves</td>\n",
       "      <td>(2021)</td>\n",
       "      <td>\\nAction, Crime, Horror</td>\n",
       "      <td>NaN</td>\n",
       "      <td>\\nA prequel, set before the events of Army of ...</td>\n",
       "      <td>\\n    Director:\\nMatthias Schweighöfer\\n| \\n  ...</td>\n",
       "      <td>NaN</td>\n",
       "      <td>NaN</td>\n",
       "      <td>NaN</td>\n",
       "    </tr>\n",
       "  </tbody>\n",
       "</table>\n",
       "</div>\n",
       "      <button class=\"colab-df-convert\" onclick=\"convertToInteractive('df-b50e83ff-7986-4a1e-928d-3cd0b22988b5')\"\n",
       "              title=\"Convert this dataframe to an interactive table.\"\n",
       "              style=\"display:none;\">\n",
       "        \n",
       "  <svg xmlns=\"http://www.w3.org/2000/svg\" height=\"24px\"viewBox=\"0 0 24 24\"\n",
       "       width=\"24px\">\n",
       "    <path d=\"M0 0h24v24H0V0z\" fill=\"none\"/>\n",
       "    <path d=\"M18.56 5.44l.94 2.06.94-2.06 2.06-.94-2.06-.94-.94-2.06-.94 2.06-2.06.94zm-11 1L8.5 8.5l.94-2.06 2.06-.94-2.06-.94L8.5 2.5l-.94 2.06-2.06.94zm10 10l.94 2.06.94-2.06 2.06-.94-2.06-.94-.94-2.06-.94 2.06-2.06.94z\"/><path d=\"M17.41 7.96l-1.37-1.37c-.4-.4-.92-.59-1.43-.59-.52 0-1.04.2-1.43.59L10.3 9.45l-7.72 7.72c-.78.78-.78 2.05 0 2.83L4 21.41c.39.39.9.59 1.41.59.51 0 1.02-.2 1.41-.59l7.78-7.78 2.81-2.81c.8-.78.8-2.07 0-2.86zM5.41 20L4 18.59l7.72-7.72 1.47 1.35L5.41 20z\"/>\n",
       "  </svg>\n",
       "      </button>\n",
       "      \n",
       "  <style>\n",
       "    .colab-df-container {\n",
       "      display:flex;\n",
       "      flex-wrap:wrap;\n",
       "      gap: 12px;\n",
       "    }\n",
       "\n",
       "    .colab-df-convert {\n",
       "      background-color: #E8F0FE;\n",
       "      border: none;\n",
       "      border-radius: 50%;\n",
       "      cursor: pointer;\n",
       "      display: none;\n",
       "      fill: #1967D2;\n",
       "      height: 32px;\n",
       "      padding: 0 0 0 0;\n",
       "      width: 32px;\n",
       "    }\n",
       "\n",
       "    .colab-df-convert:hover {\n",
       "      background-color: #E2EBFA;\n",
       "      box-shadow: 0px 1px 2px rgba(60, 64, 67, 0.3), 0px 1px 3px 1px rgba(60, 64, 67, 0.15);\n",
       "      fill: #174EA6;\n",
       "    }\n",
       "\n",
       "    [theme=dark] .colab-df-convert {\n",
       "      background-color: #3B4455;\n",
       "      fill: #D2E3FC;\n",
       "    }\n",
       "\n",
       "    [theme=dark] .colab-df-convert:hover {\n",
       "      background-color: #434B5C;\n",
       "      box-shadow: 0px 1px 3px 1px rgba(0, 0, 0, 0.15);\n",
       "      filter: drop-shadow(0px 1px 2px rgba(0, 0, 0, 0.3));\n",
       "      fill: #FFFFFF;\n",
       "    }\n",
       "  </style>\n",
       "\n",
       "      <script>\n",
       "        const buttonEl =\n",
       "          document.querySelector('#df-b50e83ff-7986-4a1e-928d-3cd0b22988b5 button.colab-df-convert');\n",
       "        buttonEl.style.display =\n",
       "          google.colab.kernel.accessAllowed ? 'block' : 'none';\n",
       "\n",
       "        async function convertToInteractive(key) {\n",
       "          const element = document.querySelector('#df-b50e83ff-7986-4a1e-928d-3cd0b22988b5');\n",
       "          const dataTable =\n",
       "            await google.colab.kernel.invokeFunction('convertToInteractive',\n",
       "                                                     [key], {});\n",
       "          if (!dataTable) return;\n",
       "\n",
       "          const docLinkHtml = 'Like what you see? Visit the ' +\n",
       "            '<a target=\"_blank\" href=https://colab.research.google.com/notebooks/data_table.ipynb>data table notebook</a>'\n",
       "            + ' to learn more about interactive tables.';\n",
       "          element.innerHTML = '';\n",
       "          dataTable['output_type'] = 'display_data';\n",
       "          await google.colab.output.renderOutput(dataTable, element);\n",
       "          const docLink = document.createElement('div');\n",
       "          docLink.innerHTML = docLinkHtml;\n",
       "          element.appendChild(docLink);\n",
       "        }\n",
       "      </script>\n",
       "    </div>\n",
       "  </div>\n",
       "  "
      ],
      "text/plain": [
       "                                MOVIES         YEAR  \\\n",
       "0                        Blood Red Sky       (2021)   \n",
       "1  Masters of the Universe: Revelation     (2021– )   \n",
       "2                     The Walking Dead  (2010–2022)   \n",
       "3                       Rick and Morty     (2013– )   \n",
       "4                      Army of Thieves       (2021)   \n",
       "\n",
       "                                        GENRE  RATING  \\\n",
       "0      \\nAction, Horror, Thriller                6.10   \n",
       "1  \\nAnimation, Action, Adventure                5.00   \n",
       "2       \\nDrama, Horror, Thriller                8.20   \n",
       "3  \\nAnimation, Adventure, Comedy                9.20   \n",
       "4         \\nAction, Crime, Horror                 NaN   \n",
       "\n",
       "                                            ONE-LINE  \\\n",
       "0  \\nA woman with a mysterious illness is forced ...   \n",
       "1  \\nThe war for Eternia begins again in what may...   \n",
       "2  \\nSheriff Deputy Rick Grimes wakes up from a c...   \n",
       "3  \\nAn animated series that follows the exploits...   \n",
       "4  \\nA prequel, set before the events of Army of ...   \n",
       "\n",
       "                                               STARS    VOTES  RunTime Gross  \n",
       "0  \\n    Director:\\nPeter Thorwarth\\n| \\n    Star...   21,062   121.00   NaN  \n",
       "1  \\n            \\n    Stars:\\nChris Wood, \\nSara...   17,870    25.00   NaN  \n",
       "2  \\n            \\n    Stars:\\nAndrew Lincoln, \\n...  885,805    44.00   NaN  \n",
       "3  \\n            \\n    Stars:\\nJustin Roiland, \\n...  414,849    23.00   NaN  \n",
       "4  \\n    Director:\\nMatthias Schweighöfer\\n| \\n  ...      NaN      NaN   NaN  "
      ]
     },
     "execution_count": 322,
     "metadata": {},
     "output_type": "execute_result"
    }
   ],
   "source": [
    "df.head()"
   ]
  },
  {
   "cell_type": "markdown",
   "metadata": {
    "id": "G6FmiTRTb6AE"
   },
   "source": [
    "## 1- Chequeamos que los tipos de datos asociados a cada columna sean los que corresponden con los que queremos."
   ]
  },
  {
   "cell_type": "code",
   "execution_count": null,
   "metadata": {
    "colab": {
     "base_uri": "https://localhost:8080/"
    },
    "id": "weS3dqv6cEPv",
    "outputId": "41bd5ad0-ba09-4bf8-a909-2723134278fc"
   },
   "outputs": [
    {
     "data": {
      "text/plain": [
       "MOVIES       object\n",
       "YEAR         object\n",
       "GENRE        object\n",
       "RATING      float64\n",
       "ONE-LINE     object\n",
       "STARS        object\n",
       "VOTES        object\n",
       "RunTime     float64\n",
       "Gross        object\n",
       "dtype: object"
      ]
     },
     "execution_count": 323,
     "metadata": {},
     "output_type": "execute_result"
    }
   ],
   "source": [
    "df.dtypes"
   ]
  },
  {
   "cell_type": "markdown",
   "metadata": {
    "id": "yXXYRX-aY4Jj"
   },
   "source": [
    "Querríamos que la columna **year** sea numérica y asociada a un año. Vemos que es un objeto, para convertirlo en entero tendríamos que eliminar todos los strings o seleccionar solo la parte numérica de todas las filas.\n",
    "\n",
    "En estos casos tan singulares vamos a usar **REGEX** (Regular Expressions). Esto refiere a secuencias de caracteres que conforman un patrón de búsquedas. \n",
    "\n",
    "Una página útil para interpretar Regex: https://regexr.com/"
   ]
  },
  {
   "cell_type": "code",
   "execution_count": null,
   "metadata": {
    "id": "CmnKjR5QZD4L"
   },
   "outputs": [],
   "source": [
    "# Por defecto nos trae la primera captura que tenga 1 o más cifras. Como tenemos algunas series de televisión (año de comienzo y año de fin), en esos casos vamos a tomar el año de inicio.\n",
    "\n",
    "df['YEAR']=df['YEAR'].str.extract('(\\d+)')"
   ]
  },
  {
   "cell_type": "markdown",
   "metadata": {
    "id": "b15ptL8p3njM"
   },
   "source": [
    "Como la extracción solo trae el año tipo string, tenemos que transformarla en variable numérica."
   ]
  },
  {
   "cell_type": "code",
   "execution_count": null,
   "metadata": {
    "id": "q1Gv3YcUSfs3"
   },
   "outputs": [],
   "source": [
    "df[\"YEAR\"] = pd.to_numeric(df[\"YEAR\"])"
   ]
  },
  {
   "cell_type": "markdown",
   "metadata": {
    "id": "6JAEVDgpg_ig"
   },
   "source": [
    "A las columna **VOTES** y **Gross** también la querríamos en tipo numérico para poder realizar operaciones.\n",
    "\n",
    "¿Cómo haríamos para transformar esto?"
   ]
  },
  {
   "cell_type": "code",
   "execution_count": null,
   "metadata": {
    "id": "55X0uLe7PrC1"
   },
   "outputs": [],
   "source": [
    "df[\"VOTES\"]=df[\"VOTES\"].str.replace(\",\",\"\")"
   ]
  },
  {
   "cell_type": "code",
   "execution_count": null,
   "metadata": {
    "id": "HLOCN1KQg5wM"
   },
   "outputs": [],
   "source": [
    "df[\"VOTES\"] = pd.to_numeric(df[\"VOTES\"])"
   ]
  },
  {
   "cell_type": "code",
   "execution_count": null,
   "metadata": {
    "colab": {
     "base_uri": "https://localhost:8080/"
    },
    "id": "zdomEu7WTtda",
    "outputId": "244b058b-372b-4fa1-8ec0-56277c3a76c9"
   },
   "outputs": [
    {
     "data": {
      "text/plain": [
       "77       $75.47M\n",
       "85      $402.45M\n",
       "95       $89.22M\n",
       "111     $315.54M\n",
       "125      $57.01M\n",
       "          ...   \n",
       "5750      $0.09M\n",
       "5770      $0.00M\n",
       "5835      $0.01M\n",
       "6056      $0.01M\n",
       "6292      $0.14M\n",
       "Name: Gross, Length: 460, dtype: object"
      ]
     },
     "execution_count": 328,
     "metadata": {},
     "output_type": "execute_result"
    }
   ],
   "source": [
    "# Observamos los valores de la columna Gross\n",
    "\n",
    "df[\"Gross\"][df[\"Gross\"].notna()]"
   ]
  },
  {
   "cell_type": "code",
   "execution_count": null,
   "metadata": {
    "colab": {
     "base_uri": "https://localhost:8080/"
    },
    "id": "JmOusoO331Qe",
    "outputId": "4ae0018e-8f16-400a-c908-9057bc6a3f43"
   },
   "outputs": [
    {
     "name": "stderr",
     "output_type": "stream",
     "text": [
      "/usr/local/lib/python3.7/dist-packages/ipykernel_launcher.py:1: FutureWarning: The default value of regex will change from True to False in a future version. In addition, single character regular expressions will *not* be treated as literal strings when regex=True.\n",
      "  \"\"\"Entry point for launching an IPython kernel.\n"
     ]
    }
   ],
   "source": [
    "df[\"Gross\"]=df[\"Gross\"].str.replace(\"$\",\"\")\n",
    "df[\"Gross\"]=df[\"Gross\"].str.replace(\"M\",\"\")"
   ]
  },
  {
   "cell_type": "code",
   "execution_count": null,
   "metadata": {
    "id": "tl8TAOFsTR-h"
   },
   "outputs": [],
   "source": [
    "df[\"Gross\"] = pd.to_numeric(df[\"Gross\"])"
   ]
  },
  {
   "cell_type": "code",
   "execution_count": null,
   "metadata": {
    "colab": {
     "base_uri": "https://localhost:8080/"
    },
    "id": "SEoqUBFrUcao",
    "outputId": "fe67b300-5a30-4449-b377-c33ec1976a76"
   },
   "outputs": [
    {
     "data": {
      "text/plain": [
       "MOVIES       object\n",
       "YEAR        float64\n",
       "GENRE        object\n",
       "RATING      float64\n",
       "ONE-LINE     object\n",
       "STARS        object\n",
       "VOTES       float64\n",
       "RunTime     float64\n",
       "Gross       float64\n",
       "dtype: object"
      ]
     },
     "execution_count": 331,
     "metadata": {},
     "output_type": "execute_result"
    }
   ],
   "source": [
    "df.dtypes"
   ]
  },
  {
   "cell_type": "markdown",
   "metadata": {
    "id": "lvc25V1scJL4"
   },
   "source": [
    "## 2 - Tratamiento de los nulos"
   ]
  },
  {
   "cell_type": "markdown",
   "metadata": {
    "id": "EwzOfzau3DF1"
   },
   "source": [
    "Los tipos de faltantes se pueden describir de la siguiente manera:\n",
    "\n",
    "- Cuando no existe una relación sistemática entre los valores faltantes de una columna y otros valores o valores propios. Si la probabilidad de que falten es la misma para todos los casos, se dice que **los datos faltan completamente al azar (MCAR)**. Esto implica efectivamente que las causas de los datos que faltan no están relacionadas con los datos.\n",
    "\n",
    "- Si la probabilidad de que falten es la misma solo dentro de los grupos definidos por los datos observados, entonces **los datos faltan al azar (MAR)**. MAR es una clase mucho más amplia que MCAR. Por ejemplo, cuando se coloca sobre una superficie blanda, una balanza puede producir más valores faltantes que cuando se coloca sobre una superficie dura. Por lo tanto, tales datos no son MCAR. Sin embargo, si conocemos el tipo de superficie y podemos suponer MCAR dentro del tipo de superficie, entonces los datos son MAR.\n",
    "\n",
    "- Si ni MCAR ni MAR se cumplen, entonces hablamos de **datos perdidos no al azar (MNAR)**. MNAR significa que la probabilidad de que falte varía por razones que desconocemos. Por ejemplo, una encuesta de opinión pública en la que aquellos con opiniones más débiles responden con menos frecuencia. Son casos problemáticos porque los valores faltantes dependen de valores no observados."
   ]
  },
  {
   "cell_type": "markdown",
   "metadata": {
    "id": "PbtcskLIpN4R"
   },
   "source": [
    "### Imputaciones posibles"
   ]
  },
  {
   "cell_type": "markdown",
   "metadata": {
    "id": "QxYd8_0BpNHX"
   },
   "source": [
    "Al trabajar con un conjunto de datos que tienen valores nulos, podemos tomar varias decisiones. Una es eliminar esos datos y quedarnos con las filas que tengan datos para realizar un análisis en particular. Otra de las opciones, cuando no tenemos forma de acceder al dato que nos falta, es realizar imputaciones para poder usarlos en un posterior análisis.\n",
    "\n",
    "Scikit-learn nos ofrece varias clases con las que se pueden realizar imputaciones de valores nulos en Python. Estas usan estadísticos tales como la media, la mediana o la moda. También existen otras opciones sustentadas en algoritmos más avanzados como los k-vecinos (ver KNN-Imputer)\n"
   ]
  },
  {
   "cell_type": "code",
   "execution_count": null,
   "metadata": {
    "id": "Q7_52u0fqoLM"
   },
   "outputs": [],
   "source": [
    "# Creamos el siguiente data que contiene valores nulos. \n",
    "\n",
    "data = pd.DataFrame({'id': [1, 2, 3, 4, 5, 6, 7, 8, 9],\n",
    "                     'area': [1, 2, 3, 1, 2, 3, 1, 2, 3],\n",
    "                     'age': [32, 30, np.nan, 23, 27, 44, 67, 23, np.nan],\n",
    "                     'amount': [102, 121, 343, np.nan, 121, np.nan, 155, 149, 221]})"
   ]
  },
  {
   "cell_type": "code",
   "execution_count": null,
   "metadata": {
    "colab": {
     "base_uri": "https://localhost:8080/",
     "height": 332
    },
    "id": "oL2bp4XltDu5",
    "outputId": "6727e271-df4d-4307-97f9-fcc949c482c9"
   },
   "outputs": [
    {
     "data": {
      "text/html": [
       "\n",
       "  <div id=\"df-5cb73f1b-0922-4230-9972-7c3a318563f3\">\n",
       "    <div class=\"colab-df-container\">\n",
       "      <div>\n",
       "<style scoped>\n",
       "    .dataframe tbody tr th:only-of-type {\n",
       "        vertical-align: middle;\n",
       "    }\n",
       "\n",
       "    .dataframe tbody tr th {\n",
       "        vertical-align: top;\n",
       "    }\n",
       "\n",
       "    .dataframe thead th {\n",
       "        text-align: right;\n",
       "    }\n",
       "</style>\n",
       "<table border=\"1\" class=\"dataframe\">\n",
       "  <thead>\n",
       "    <tr style=\"text-align: right;\">\n",
       "      <th></th>\n",
       "      <th>id</th>\n",
       "      <th>area</th>\n",
       "      <th>age</th>\n",
       "      <th>amount</th>\n",
       "    </tr>\n",
       "  </thead>\n",
       "  <tbody>\n",
       "    <tr>\n",
       "      <th>0</th>\n",
       "      <td>1</td>\n",
       "      <td>1</td>\n",
       "      <td>32.00</td>\n",
       "      <td>102.00</td>\n",
       "    </tr>\n",
       "    <tr>\n",
       "      <th>1</th>\n",
       "      <td>2</td>\n",
       "      <td>2</td>\n",
       "      <td>30.00</td>\n",
       "      <td>121.00</td>\n",
       "    </tr>\n",
       "    <tr>\n",
       "      <th>2</th>\n",
       "      <td>3</td>\n",
       "      <td>3</td>\n",
       "      <td>NaN</td>\n",
       "      <td>343.00</td>\n",
       "    </tr>\n",
       "    <tr>\n",
       "      <th>3</th>\n",
       "      <td>4</td>\n",
       "      <td>1</td>\n",
       "      <td>23.00</td>\n",
       "      <td>NaN</td>\n",
       "    </tr>\n",
       "    <tr>\n",
       "      <th>4</th>\n",
       "      <td>5</td>\n",
       "      <td>2</td>\n",
       "      <td>27.00</td>\n",
       "      <td>121.00</td>\n",
       "    </tr>\n",
       "    <tr>\n",
       "      <th>5</th>\n",
       "      <td>6</td>\n",
       "      <td>3</td>\n",
       "      <td>44.00</td>\n",
       "      <td>NaN</td>\n",
       "    </tr>\n",
       "    <tr>\n",
       "      <th>6</th>\n",
       "      <td>7</td>\n",
       "      <td>1</td>\n",
       "      <td>67.00</td>\n",
       "      <td>155.00</td>\n",
       "    </tr>\n",
       "    <tr>\n",
       "      <th>7</th>\n",
       "      <td>8</td>\n",
       "      <td>2</td>\n",
       "      <td>23.00</td>\n",
       "      <td>149.00</td>\n",
       "    </tr>\n",
       "    <tr>\n",
       "      <th>8</th>\n",
       "      <td>9</td>\n",
       "      <td>3</td>\n",
       "      <td>NaN</td>\n",
       "      <td>221.00</td>\n",
       "    </tr>\n",
       "  </tbody>\n",
       "</table>\n",
       "</div>\n",
       "      <button class=\"colab-df-convert\" onclick=\"convertToInteractive('df-5cb73f1b-0922-4230-9972-7c3a318563f3')\"\n",
       "              title=\"Convert this dataframe to an interactive table.\"\n",
       "              style=\"display:none;\">\n",
       "        \n",
       "  <svg xmlns=\"http://www.w3.org/2000/svg\" height=\"24px\"viewBox=\"0 0 24 24\"\n",
       "       width=\"24px\">\n",
       "    <path d=\"M0 0h24v24H0V0z\" fill=\"none\"/>\n",
       "    <path d=\"M18.56 5.44l.94 2.06.94-2.06 2.06-.94-2.06-.94-.94-2.06-.94 2.06-2.06.94zm-11 1L8.5 8.5l.94-2.06 2.06-.94-2.06-.94L8.5 2.5l-.94 2.06-2.06.94zm10 10l.94 2.06.94-2.06 2.06-.94-2.06-.94-.94-2.06-.94 2.06-2.06.94z\"/><path d=\"M17.41 7.96l-1.37-1.37c-.4-.4-.92-.59-1.43-.59-.52 0-1.04.2-1.43.59L10.3 9.45l-7.72 7.72c-.78.78-.78 2.05 0 2.83L4 21.41c.39.39.9.59 1.41.59.51 0 1.02-.2 1.41-.59l7.78-7.78 2.81-2.81c.8-.78.8-2.07 0-2.86zM5.41 20L4 18.59l7.72-7.72 1.47 1.35L5.41 20z\"/>\n",
       "  </svg>\n",
       "      </button>\n",
       "      \n",
       "  <style>\n",
       "    .colab-df-container {\n",
       "      display:flex;\n",
       "      flex-wrap:wrap;\n",
       "      gap: 12px;\n",
       "    }\n",
       "\n",
       "    .colab-df-convert {\n",
       "      background-color: #E8F0FE;\n",
       "      border: none;\n",
       "      border-radius: 50%;\n",
       "      cursor: pointer;\n",
       "      display: none;\n",
       "      fill: #1967D2;\n",
       "      height: 32px;\n",
       "      padding: 0 0 0 0;\n",
       "      width: 32px;\n",
       "    }\n",
       "\n",
       "    .colab-df-convert:hover {\n",
       "      background-color: #E2EBFA;\n",
       "      box-shadow: 0px 1px 2px rgba(60, 64, 67, 0.3), 0px 1px 3px 1px rgba(60, 64, 67, 0.15);\n",
       "      fill: #174EA6;\n",
       "    }\n",
       "\n",
       "    [theme=dark] .colab-df-convert {\n",
       "      background-color: #3B4455;\n",
       "      fill: #D2E3FC;\n",
       "    }\n",
       "\n",
       "    [theme=dark] .colab-df-convert:hover {\n",
       "      background-color: #434B5C;\n",
       "      box-shadow: 0px 1px 3px 1px rgba(0, 0, 0, 0.15);\n",
       "      filter: drop-shadow(0px 1px 2px rgba(0, 0, 0, 0.3));\n",
       "      fill: #FFFFFF;\n",
       "    }\n",
       "  </style>\n",
       "\n",
       "      <script>\n",
       "        const buttonEl =\n",
       "          document.querySelector('#df-5cb73f1b-0922-4230-9972-7c3a318563f3 button.colab-df-convert');\n",
       "        buttonEl.style.display =\n",
       "          google.colab.kernel.accessAllowed ? 'block' : 'none';\n",
       "\n",
       "        async function convertToInteractive(key) {\n",
       "          const element = document.querySelector('#df-5cb73f1b-0922-4230-9972-7c3a318563f3');\n",
       "          const dataTable =\n",
       "            await google.colab.kernel.invokeFunction('convertToInteractive',\n",
       "                                                     [key], {});\n",
       "          if (!dataTable) return;\n",
       "\n",
       "          const docLinkHtml = 'Like what you see? Visit the ' +\n",
       "            '<a target=\"_blank\" href=https://colab.research.google.com/notebooks/data_table.ipynb>data table notebook</a>'\n",
       "            + ' to learn more about interactive tables.';\n",
       "          element.innerHTML = '';\n",
       "          dataTable['output_type'] = 'display_data';\n",
       "          await google.colab.output.renderOutput(dataTable, element);\n",
       "          const docLink = document.createElement('div');\n",
       "          docLink.innerHTML = docLinkHtml;\n",
       "          element.appendChild(docLink);\n",
       "        }\n",
       "      </script>\n",
       "    </div>\n",
       "  </div>\n",
       "  "
      ],
      "text/plain": [
       "   id  area   age  amount\n",
       "0   1     1 32.00  102.00\n",
       "1   2     2 30.00  121.00\n",
       "2   3     3   NaN  343.00\n",
       "3   4     1 23.00     NaN\n",
       "4   5     2 27.00  121.00\n",
       "5   6     3 44.00     NaN\n",
       "6   7     1 67.00  155.00\n",
       "7   8     2 23.00  149.00\n",
       "8   9     3   NaN  221.00"
      ]
     },
     "execution_count": 333,
     "metadata": {},
     "output_type": "execute_result"
    }
   ],
   "source": [
    "data"
   ]
  },
  {
   "cell_type": "markdown",
   "metadata": {
    "id": "xjZGtvtTvLbV"
   },
   "source": [
    "#### SimpleImputer"
   ]
  },
  {
   "cell_type": "markdown",
   "metadata": {
    "id": "TOAVV0hvqxN2"
   },
   "source": [
    "[SimpleImputer](https://scikit-learn.org/stable/modules/generated/sklearn.impute.SimpleImputer.html) nos permite imputar un mismo valor a todos los registros nulos de una columna. Podemos usar la media, la mediana o la moda, o un valor constante que se indique. \n",
    "\n",
    "El método de cálculo se indica con la propiedad *strategy* que puede recibir como valor: mean, median, most_frequent o constant. En el caso de que el valor sea constant es necesario indicar mediante la propiedad fill_value."
   ]
  },
  {
   "cell_type": "code",
   "execution_count": null,
   "metadata": {
    "id": "SyZb3e1Pq2DP"
   },
   "outputs": [],
   "source": [
    "from sklearn.impute import SimpleImputer\n",
    "simple = SimpleImputer().fit(data)\n",
    "mean = simple.transform(data)"
   ]
  },
  {
   "cell_type": "code",
   "execution_count": null,
   "metadata": {
    "id": "6QLkOlhYtGIl"
   },
   "outputs": [],
   "source": [
    "# Como mean es un array, lo tenemos que asociar a un DataFrame. Además, con round(1) redondeamos el valor a un decimal.\n",
    "\n",
    "data_media = pd.DataFrame(mean,columns=data.columns).round(1)"
   ]
  },
  {
   "cell_type": "code",
   "execution_count": null,
   "metadata": {
    "colab": {
     "base_uri": "https://localhost:8080/",
     "height": 332
    },
    "id": "U9Q4DvUWEdkL",
    "outputId": "a3d477cb-a1b7-4adc-944b-17bddc6ca072"
   },
   "outputs": [
    {
     "data": {
      "text/html": [
       "\n",
       "  <div id=\"df-e432f95b-1e53-4f70-bfab-ef7390998b86\">\n",
       "    <div class=\"colab-df-container\">\n",
       "      <div>\n",
       "<style scoped>\n",
       "    .dataframe tbody tr th:only-of-type {\n",
       "        vertical-align: middle;\n",
       "    }\n",
       "\n",
       "    .dataframe tbody tr th {\n",
       "        vertical-align: top;\n",
       "    }\n",
       "\n",
       "    .dataframe thead th {\n",
       "        text-align: right;\n",
       "    }\n",
       "</style>\n",
       "<table border=\"1\" class=\"dataframe\">\n",
       "  <thead>\n",
       "    <tr style=\"text-align: right;\">\n",
       "      <th></th>\n",
       "      <th>id</th>\n",
       "      <th>area</th>\n",
       "      <th>age</th>\n",
       "      <th>amount</th>\n",
       "    </tr>\n",
       "  </thead>\n",
       "  <tbody>\n",
       "    <tr>\n",
       "      <th>0</th>\n",
       "      <td>1.00</td>\n",
       "      <td>1.00</td>\n",
       "      <td>32.00</td>\n",
       "      <td>102.00</td>\n",
       "    </tr>\n",
       "    <tr>\n",
       "      <th>1</th>\n",
       "      <td>2.00</td>\n",
       "      <td>2.00</td>\n",
       "      <td>30.00</td>\n",
       "      <td>121.00</td>\n",
       "    </tr>\n",
       "    <tr>\n",
       "      <th>2</th>\n",
       "      <td>3.00</td>\n",
       "      <td>3.00</td>\n",
       "      <td>35.10</td>\n",
       "      <td>343.00</td>\n",
       "    </tr>\n",
       "    <tr>\n",
       "      <th>3</th>\n",
       "      <td>4.00</td>\n",
       "      <td>1.00</td>\n",
       "      <td>23.00</td>\n",
       "      <td>173.10</td>\n",
       "    </tr>\n",
       "    <tr>\n",
       "      <th>4</th>\n",
       "      <td>5.00</td>\n",
       "      <td>2.00</td>\n",
       "      <td>27.00</td>\n",
       "      <td>121.00</td>\n",
       "    </tr>\n",
       "    <tr>\n",
       "      <th>5</th>\n",
       "      <td>6.00</td>\n",
       "      <td>3.00</td>\n",
       "      <td>44.00</td>\n",
       "      <td>173.10</td>\n",
       "    </tr>\n",
       "    <tr>\n",
       "      <th>6</th>\n",
       "      <td>7.00</td>\n",
       "      <td>1.00</td>\n",
       "      <td>67.00</td>\n",
       "      <td>155.00</td>\n",
       "    </tr>\n",
       "    <tr>\n",
       "      <th>7</th>\n",
       "      <td>8.00</td>\n",
       "      <td>2.00</td>\n",
       "      <td>23.00</td>\n",
       "      <td>149.00</td>\n",
       "    </tr>\n",
       "    <tr>\n",
       "      <th>8</th>\n",
       "      <td>9.00</td>\n",
       "      <td>3.00</td>\n",
       "      <td>35.10</td>\n",
       "      <td>221.00</td>\n",
       "    </tr>\n",
       "  </tbody>\n",
       "</table>\n",
       "</div>\n",
       "      <button class=\"colab-df-convert\" onclick=\"convertToInteractive('df-e432f95b-1e53-4f70-bfab-ef7390998b86')\"\n",
       "              title=\"Convert this dataframe to an interactive table.\"\n",
       "              style=\"display:none;\">\n",
       "        \n",
       "  <svg xmlns=\"http://www.w3.org/2000/svg\" height=\"24px\"viewBox=\"0 0 24 24\"\n",
       "       width=\"24px\">\n",
       "    <path d=\"M0 0h24v24H0V0z\" fill=\"none\"/>\n",
       "    <path d=\"M18.56 5.44l.94 2.06.94-2.06 2.06-.94-2.06-.94-.94-2.06-.94 2.06-2.06.94zm-11 1L8.5 8.5l.94-2.06 2.06-.94-2.06-.94L8.5 2.5l-.94 2.06-2.06.94zm10 10l.94 2.06.94-2.06 2.06-.94-2.06-.94-.94-2.06-.94 2.06-2.06.94z\"/><path d=\"M17.41 7.96l-1.37-1.37c-.4-.4-.92-.59-1.43-.59-.52 0-1.04.2-1.43.59L10.3 9.45l-7.72 7.72c-.78.78-.78 2.05 0 2.83L4 21.41c.39.39.9.59 1.41.59.51 0 1.02-.2 1.41-.59l7.78-7.78 2.81-2.81c.8-.78.8-2.07 0-2.86zM5.41 20L4 18.59l7.72-7.72 1.47 1.35L5.41 20z\"/>\n",
       "  </svg>\n",
       "      </button>\n",
       "      \n",
       "  <style>\n",
       "    .colab-df-container {\n",
       "      display:flex;\n",
       "      flex-wrap:wrap;\n",
       "      gap: 12px;\n",
       "    }\n",
       "\n",
       "    .colab-df-convert {\n",
       "      background-color: #E8F0FE;\n",
       "      border: none;\n",
       "      border-radius: 50%;\n",
       "      cursor: pointer;\n",
       "      display: none;\n",
       "      fill: #1967D2;\n",
       "      height: 32px;\n",
       "      padding: 0 0 0 0;\n",
       "      width: 32px;\n",
       "    }\n",
       "\n",
       "    .colab-df-convert:hover {\n",
       "      background-color: #E2EBFA;\n",
       "      box-shadow: 0px 1px 2px rgba(60, 64, 67, 0.3), 0px 1px 3px 1px rgba(60, 64, 67, 0.15);\n",
       "      fill: #174EA6;\n",
       "    }\n",
       "\n",
       "    [theme=dark] .colab-df-convert {\n",
       "      background-color: #3B4455;\n",
       "      fill: #D2E3FC;\n",
       "    }\n",
       "\n",
       "    [theme=dark] .colab-df-convert:hover {\n",
       "      background-color: #434B5C;\n",
       "      box-shadow: 0px 1px 3px 1px rgba(0, 0, 0, 0.15);\n",
       "      filter: drop-shadow(0px 1px 2px rgba(0, 0, 0, 0.3));\n",
       "      fill: #FFFFFF;\n",
       "    }\n",
       "  </style>\n",
       "\n",
       "      <script>\n",
       "        const buttonEl =\n",
       "          document.querySelector('#df-e432f95b-1e53-4f70-bfab-ef7390998b86 button.colab-df-convert');\n",
       "        buttonEl.style.display =\n",
       "          google.colab.kernel.accessAllowed ? 'block' : 'none';\n",
       "\n",
       "        async function convertToInteractive(key) {\n",
       "          const element = document.querySelector('#df-e432f95b-1e53-4f70-bfab-ef7390998b86');\n",
       "          const dataTable =\n",
       "            await google.colab.kernel.invokeFunction('convertToInteractive',\n",
       "                                                     [key], {});\n",
       "          if (!dataTable) return;\n",
       "\n",
       "          const docLinkHtml = 'Like what you see? Visit the ' +\n",
       "            '<a target=\"_blank\" href=https://colab.research.google.com/notebooks/data_table.ipynb>data table notebook</a>'\n",
       "            + ' to learn more about interactive tables.';\n",
       "          element.innerHTML = '';\n",
       "          dataTable['output_type'] = 'display_data';\n",
       "          await google.colab.output.renderOutput(dataTable, element);\n",
       "          const docLink = document.createElement('div');\n",
       "          docLink.innerHTML = docLinkHtml;\n",
       "          element.appendChild(docLink);\n",
       "        }\n",
       "      </script>\n",
       "    </div>\n",
       "  </div>\n",
       "  "
      ],
      "text/plain": [
       "    id  area   age  amount\n",
       "0 1.00  1.00 32.00  102.00\n",
       "1 2.00  2.00 30.00  121.00\n",
       "2 3.00  3.00 35.10  343.00\n",
       "3 4.00  1.00 23.00  173.10\n",
       "4 5.00  2.00 27.00  121.00\n",
       "5 6.00  3.00 44.00  173.10\n",
       "6 7.00  1.00 67.00  155.00\n",
       "7 8.00  2.00 23.00  149.00\n",
       "8 9.00  3.00 35.10  221.00"
      ]
     },
     "execution_count": 336,
     "metadata": {},
     "output_type": "execute_result"
    }
   ],
   "source": [
    "data_media"
   ]
  },
  {
   "cell_type": "markdown",
   "metadata": {
    "id": "WSATnKmKtvxu"
   },
   "source": [
    "Nos imputa el valor de la edad promedio (35,1) y el monto promedio (173,1)."
   ]
  },
  {
   "cell_type": "markdown",
   "metadata": {
    "id": "-ASc42CMrPFE"
   },
   "source": [
    "En este caso, podríamos querer obtener números enteros, sin decimales, como en el resto de los registros, y podríamos usar la moda."
   ]
  },
  {
   "cell_type": "code",
   "execution_count": null,
   "metadata": {
    "id": "zhirZeVCrSQd"
   },
   "outputs": [],
   "source": [
    "simple = SimpleImputer(strategy='most_frequent')\n",
    "mode = simple.fit_transform(data)"
   ]
  },
  {
   "cell_type": "code",
   "execution_count": null,
   "metadata": {
    "id": "G1uLPI5JvW-8"
   },
   "outputs": [],
   "source": [
    "data_moda = pd.DataFrame(mode,columns=data.columns)"
   ]
  },
  {
   "cell_type": "code",
   "execution_count": null,
   "metadata": {
    "colab": {
     "base_uri": "https://localhost:8080/",
     "height": 332
    },
    "id": "L9y2oaBhEcFp",
    "outputId": "8e151ac9-ff95-47f6-a895-e3515780a624"
   },
   "outputs": [
    {
     "data": {
      "text/html": [
       "\n",
       "  <div id=\"df-9a5f6a8f-31a4-45f0-9869-ede55ab5ec19\">\n",
       "    <div class=\"colab-df-container\">\n",
       "      <div>\n",
       "<style scoped>\n",
       "    .dataframe tbody tr th:only-of-type {\n",
       "        vertical-align: middle;\n",
       "    }\n",
       "\n",
       "    .dataframe tbody tr th {\n",
       "        vertical-align: top;\n",
       "    }\n",
       "\n",
       "    .dataframe thead th {\n",
       "        text-align: right;\n",
       "    }\n",
       "</style>\n",
       "<table border=\"1\" class=\"dataframe\">\n",
       "  <thead>\n",
       "    <tr style=\"text-align: right;\">\n",
       "      <th></th>\n",
       "      <th>id</th>\n",
       "      <th>area</th>\n",
       "      <th>age</th>\n",
       "      <th>amount</th>\n",
       "    </tr>\n",
       "  </thead>\n",
       "  <tbody>\n",
       "    <tr>\n",
       "      <th>0</th>\n",
       "      <td>1.00</td>\n",
       "      <td>1.00</td>\n",
       "      <td>32.00</td>\n",
       "      <td>102.00</td>\n",
       "    </tr>\n",
       "    <tr>\n",
       "      <th>1</th>\n",
       "      <td>2.00</td>\n",
       "      <td>2.00</td>\n",
       "      <td>30.00</td>\n",
       "      <td>121.00</td>\n",
       "    </tr>\n",
       "    <tr>\n",
       "      <th>2</th>\n",
       "      <td>3.00</td>\n",
       "      <td>3.00</td>\n",
       "      <td>23.00</td>\n",
       "      <td>343.00</td>\n",
       "    </tr>\n",
       "    <tr>\n",
       "      <th>3</th>\n",
       "      <td>4.00</td>\n",
       "      <td>1.00</td>\n",
       "      <td>23.00</td>\n",
       "      <td>121.00</td>\n",
       "    </tr>\n",
       "    <tr>\n",
       "      <th>4</th>\n",
       "      <td>5.00</td>\n",
       "      <td>2.00</td>\n",
       "      <td>27.00</td>\n",
       "      <td>121.00</td>\n",
       "    </tr>\n",
       "    <tr>\n",
       "      <th>5</th>\n",
       "      <td>6.00</td>\n",
       "      <td>3.00</td>\n",
       "      <td>44.00</td>\n",
       "      <td>121.00</td>\n",
       "    </tr>\n",
       "    <tr>\n",
       "      <th>6</th>\n",
       "      <td>7.00</td>\n",
       "      <td>1.00</td>\n",
       "      <td>67.00</td>\n",
       "      <td>155.00</td>\n",
       "    </tr>\n",
       "    <tr>\n",
       "      <th>7</th>\n",
       "      <td>8.00</td>\n",
       "      <td>2.00</td>\n",
       "      <td>23.00</td>\n",
       "      <td>149.00</td>\n",
       "    </tr>\n",
       "    <tr>\n",
       "      <th>8</th>\n",
       "      <td>9.00</td>\n",
       "      <td>3.00</td>\n",
       "      <td>23.00</td>\n",
       "      <td>221.00</td>\n",
       "    </tr>\n",
       "  </tbody>\n",
       "</table>\n",
       "</div>\n",
       "      <button class=\"colab-df-convert\" onclick=\"convertToInteractive('df-9a5f6a8f-31a4-45f0-9869-ede55ab5ec19')\"\n",
       "              title=\"Convert this dataframe to an interactive table.\"\n",
       "              style=\"display:none;\">\n",
       "        \n",
       "  <svg xmlns=\"http://www.w3.org/2000/svg\" height=\"24px\"viewBox=\"0 0 24 24\"\n",
       "       width=\"24px\">\n",
       "    <path d=\"M0 0h24v24H0V0z\" fill=\"none\"/>\n",
       "    <path d=\"M18.56 5.44l.94 2.06.94-2.06 2.06-.94-2.06-.94-.94-2.06-.94 2.06-2.06.94zm-11 1L8.5 8.5l.94-2.06 2.06-.94-2.06-.94L8.5 2.5l-.94 2.06-2.06.94zm10 10l.94 2.06.94-2.06 2.06-.94-2.06-.94-.94-2.06-.94 2.06-2.06.94z\"/><path d=\"M17.41 7.96l-1.37-1.37c-.4-.4-.92-.59-1.43-.59-.52 0-1.04.2-1.43.59L10.3 9.45l-7.72 7.72c-.78.78-.78 2.05 0 2.83L4 21.41c.39.39.9.59 1.41.59.51 0 1.02-.2 1.41-.59l7.78-7.78 2.81-2.81c.8-.78.8-2.07 0-2.86zM5.41 20L4 18.59l7.72-7.72 1.47 1.35L5.41 20z\"/>\n",
       "  </svg>\n",
       "      </button>\n",
       "      \n",
       "  <style>\n",
       "    .colab-df-container {\n",
       "      display:flex;\n",
       "      flex-wrap:wrap;\n",
       "      gap: 12px;\n",
       "    }\n",
       "\n",
       "    .colab-df-convert {\n",
       "      background-color: #E8F0FE;\n",
       "      border: none;\n",
       "      border-radius: 50%;\n",
       "      cursor: pointer;\n",
       "      display: none;\n",
       "      fill: #1967D2;\n",
       "      height: 32px;\n",
       "      padding: 0 0 0 0;\n",
       "      width: 32px;\n",
       "    }\n",
       "\n",
       "    .colab-df-convert:hover {\n",
       "      background-color: #E2EBFA;\n",
       "      box-shadow: 0px 1px 2px rgba(60, 64, 67, 0.3), 0px 1px 3px 1px rgba(60, 64, 67, 0.15);\n",
       "      fill: #174EA6;\n",
       "    }\n",
       "\n",
       "    [theme=dark] .colab-df-convert {\n",
       "      background-color: #3B4455;\n",
       "      fill: #D2E3FC;\n",
       "    }\n",
       "\n",
       "    [theme=dark] .colab-df-convert:hover {\n",
       "      background-color: #434B5C;\n",
       "      box-shadow: 0px 1px 3px 1px rgba(0, 0, 0, 0.15);\n",
       "      filter: drop-shadow(0px 1px 2px rgba(0, 0, 0, 0.3));\n",
       "      fill: #FFFFFF;\n",
       "    }\n",
       "  </style>\n",
       "\n",
       "      <script>\n",
       "        const buttonEl =\n",
       "          document.querySelector('#df-9a5f6a8f-31a4-45f0-9869-ede55ab5ec19 button.colab-df-convert');\n",
       "        buttonEl.style.display =\n",
       "          google.colab.kernel.accessAllowed ? 'block' : 'none';\n",
       "\n",
       "        async function convertToInteractive(key) {\n",
       "          const element = document.querySelector('#df-9a5f6a8f-31a4-45f0-9869-ede55ab5ec19');\n",
       "          const dataTable =\n",
       "            await google.colab.kernel.invokeFunction('convertToInteractive',\n",
       "                                                     [key], {});\n",
       "          if (!dataTable) return;\n",
       "\n",
       "          const docLinkHtml = 'Like what you see? Visit the ' +\n",
       "            '<a target=\"_blank\" href=https://colab.research.google.com/notebooks/data_table.ipynb>data table notebook</a>'\n",
       "            + ' to learn more about interactive tables.';\n",
       "          element.innerHTML = '';\n",
       "          dataTable['output_type'] = 'display_data';\n",
       "          await google.colab.output.renderOutput(dataTable, element);\n",
       "          const docLink = document.createElement('div');\n",
       "          docLink.innerHTML = docLinkHtml;\n",
       "          element.appendChild(docLink);\n",
       "        }\n",
       "      </script>\n",
       "    </div>\n",
       "  </div>\n",
       "  "
      ],
      "text/plain": [
       "    id  area   age  amount\n",
       "0 1.00  1.00 32.00  102.00\n",
       "1 2.00  2.00 30.00  121.00\n",
       "2 3.00  3.00 23.00  343.00\n",
       "3 4.00  1.00 23.00  121.00\n",
       "4 5.00  2.00 27.00  121.00\n",
       "5 6.00  3.00 44.00  121.00\n",
       "6 7.00  1.00 67.00  155.00\n",
       "7 8.00  2.00 23.00  149.00\n",
       "8 9.00  3.00 23.00  221.00"
      ]
     },
     "execution_count": 339,
     "metadata": {},
     "output_type": "execute_result"
    }
   ],
   "source": [
    "data_moda"
   ]
  },
  {
   "cell_type": "markdown",
   "metadata": {
    "id": "6Vxr1VXyrVio"
   },
   "source": [
    "Ahora el valor usado en la columna age es 23, mientras que para amount es 121."
   ]
  },
  {
   "cell_type": "markdown",
   "metadata": {
    "id": "-Cf4214BcneZ"
   },
   "source": [
    "## 3 - Volviendo a nuestra base: asociamos nuestro DataFrame de películas al criterio de Tidy Data."
   ]
  },
  {
   "cell_type": "code",
   "execution_count": null,
   "metadata": {
    "id": "6BIL_H0JTauB"
   },
   "outputs": [],
   "source": [
    "df[\"Director\"]=df[df[\"STARS\"].str.contains(\"Director\")][\"STARS\"].str.split(\"\\n\",expand=True)[2]"
   ]
  },
  {
   "cell_type": "code",
   "execution_count": null,
   "metadata": {
    "id": "M28bcE3iVU21"
   },
   "outputs": [],
   "source": [
    "stars=df[df[\"STARS\"].str.contains(\"Director\")][\"STARS\"].str.split(\"|\",expand=True)[1].str.replace(\"\\n\",\" \")"
   ]
  },
  {
   "cell_type": "code",
   "execution_count": null,
   "metadata": {
    "id": "I4hZ8LKaXj3U"
   },
   "outputs": [],
   "source": [
    "df[\"Stars\"]=stars.str.replace(\"Stars:\",\"\").str.strip()"
   ]
  },
  {
   "cell_type": "code",
   "execution_count": null,
   "metadata": {
    "id": "WE6rB7KFYMfy"
   },
   "outputs": [],
   "source": [
    "df.drop(\"STARS\",axis=1,inplace=True)"
   ]
  },
  {
   "cell_type": "code",
   "execution_count": null,
   "metadata": {
    "id": "nnNlyjsBGEuU"
   },
   "outputs": [],
   "source": [
    "# Limpiamos las columnas con errores sistemáticos\n",
    "\n",
    "df[\"GENRE\"]=df[\"GENRE\"].str.replace(\"\\n\", \"\")\n",
    "df[\"ONE-LINE\"]=df[\"ONE-LINE\"].str.replace(\"\\n\", \"\")"
   ]
  },
  {
   "cell_type": "code",
   "execution_count": null,
   "metadata": {
    "colab": {
     "base_uri": "https://localhost:8080/",
     "height": 424
    },
    "id": "yX1ybtC3VmDe",
    "outputId": "51d02ede-75da-4086-9f4a-22ac2c692140"
   },
   "outputs": [
    {
     "data": {
      "text/html": [
       "\n",
       "  <div id=\"df-351ea53f-c0c8-4d70-9fb9-e4df7e042d66\">\n",
       "    <div class=\"colab-df-container\">\n",
       "      <div>\n",
       "<style scoped>\n",
       "    .dataframe tbody tr th:only-of-type {\n",
       "        vertical-align: middle;\n",
       "    }\n",
       "\n",
       "    .dataframe tbody tr th {\n",
       "        vertical-align: top;\n",
       "    }\n",
       "\n",
       "    .dataframe thead th {\n",
       "        text-align: right;\n",
       "    }\n",
       "</style>\n",
       "<table border=\"1\" class=\"dataframe\">\n",
       "  <thead>\n",
       "    <tr style=\"text-align: right;\">\n",
       "      <th></th>\n",
       "      <th>MOVIES</th>\n",
       "      <th>YEAR</th>\n",
       "      <th>GENRE</th>\n",
       "      <th>RATING</th>\n",
       "      <th>ONE-LINE</th>\n",
       "      <th>VOTES</th>\n",
       "      <th>RunTime</th>\n",
       "      <th>Gross</th>\n",
       "      <th>Director</th>\n",
       "      <th>Stars</th>\n",
       "    </tr>\n",
       "  </thead>\n",
       "  <tbody>\n",
       "    <tr>\n",
       "      <th>0</th>\n",
       "      <td>Blood Red Sky</td>\n",
       "      <td>2,021.00</td>\n",
       "      <td>Action, Horror, Thriller</td>\n",
       "      <td>6.10</td>\n",
       "      <td>A woman with a mysterious illness is forced in...</td>\n",
       "      <td>21,062.00</td>\n",
       "      <td>121.00</td>\n",
       "      <td>NaN</td>\n",
       "      <td>Peter Thorwarth</td>\n",
       "      <td>Peri Baumeister,  Carl Anton Koch,  Alexander ...</td>\n",
       "    </tr>\n",
       "    <tr>\n",
       "      <th>1</th>\n",
       "      <td>Masters of the Universe: Revelation</td>\n",
       "      <td>2,021.00</td>\n",
       "      <td>Animation, Action, Adventure</td>\n",
       "      <td>5.00</td>\n",
       "      <td>The war for Eternia begins again in what may b...</td>\n",
       "      <td>17,870.00</td>\n",
       "      <td>25.00</td>\n",
       "      <td>NaN</td>\n",
       "      <td>NaN</td>\n",
       "      <td>NaN</td>\n",
       "    </tr>\n",
       "    <tr>\n",
       "      <th>2</th>\n",
       "      <td>The Walking Dead</td>\n",
       "      <td>2,010.00</td>\n",
       "      <td>Drama, Horror, Thriller</td>\n",
       "      <td>8.20</td>\n",
       "      <td>Sheriff Deputy Rick Grimes wakes up from a com...</td>\n",
       "      <td>885,805.00</td>\n",
       "      <td>44.00</td>\n",
       "      <td>NaN</td>\n",
       "      <td>NaN</td>\n",
       "      <td>NaN</td>\n",
       "    </tr>\n",
       "    <tr>\n",
       "      <th>3</th>\n",
       "      <td>Rick and Morty</td>\n",
       "      <td>2,013.00</td>\n",
       "      <td>Animation, Adventure, Comedy</td>\n",
       "      <td>9.20</td>\n",
       "      <td>An animated series that follows the exploits o...</td>\n",
       "      <td>414,849.00</td>\n",
       "      <td>23.00</td>\n",
       "      <td>NaN</td>\n",
       "      <td>NaN</td>\n",
       "      <td>NaN</td>\n",
       "    </tr>\n",
       "    <tr>\n",
       "      <th>4</th>\n",
       "      <td>Army of Thieves</td>\n",
       "      <td>2,021.00</td>\n",
       "      <td>Action, Crime, Horror</td>\n",
       "      <td>NaN</td>\n",
       "      <td>A prequel, set before the events of Army of th...</td>\n",
       "      <td>NaN</td>\n",
       "      <td>NaN</td>\n",
       "      <td>NaN</td>\n",
       "      <td>Matthias Schweighöfer</td>\n",
       "      <td>Matthias Schweighöfer,  Nathalie Emmanuel,  Ru...</td>\n",
       "    </tr>\n",
       "  </tbody>\n",
       "</table>\n",
       "</div>\n",
       "      <button class=\"colab-df-convert\" onclick=\"convertToInteractive('df-351ea53f-c0c8-4d70-9fb9-e4df7e042d66')\"\n",
       "              title=\"Convert this dataframe to an interactive table.\"\n",
       "              style=\"display:none;\">\n",
       "        \n",
       "  <svg xmlns=\"http://www.w3.org/2000/svg\" height=\"24px\"viewBox=\"0 0 24 24\"\n",
       "       width=\"24px\">\n",
       "    <path d=\"M0 0h24v24H0V0z\" fill=\"none\"/>\n",
       "    <path d=\"M18.56 5.44l.94 2.06.94-2.06 2.06-.94-2.06-.94-.94-2.06-.94 2.06-2.06.94zm-11 1L8.5 8.5l.94-2.06 2.06-.94-2.06-.94L8.5 2.5l-.94 2.06-2.06.94zm10 10l.94 2.06.94-2.06 2.06-.94-2.06-.94-.94-2.06-.94 2.06-2.06.94z\"/><path d=\"M17.41 7.96l-1.37-1.37c-.4-.4-.92-.59-1.43-.59-.52 0-1.04.2-1.43.59L10.3 9.45l-7.72 7.72c-.78.78-.78 2.05 0 2.83L4 21.41c.39.39.9.59 1.41.59.51 0 1.02-.2 1.41-.59l7.78-7.78 2.81-2.81c.8-.78.8-2.07 0-2.86zM5.41 20L4 18.59l7.72-7.72 1.47 1.35L5.41 20z\"/>\n",
       "  </svg>\n",
       "      </button>\n",
       "      \n",
       "  <style>\n",
       "    .colab-df-container {\n",
       "      display:flex;\n",
       "      flex-wrap:wrap;\n",
       "      gap: 12px;\n",
       "    }\n",
       "\n",
       "    .colab-df-convert {\n",
       "      background-color: #E8F0FE;\n",
       "      border: none;\n",
       "      border-radius: 50%;\n",
       "      cursor: pointer;\n",
       "      display: none;\n",
       "      fill: #1967D2;\n",
       "      height: 32px;\n",
       "      padding: 0 0 0 0;\n",
       "      width: 32px;\n",
       "    }\n",
       "\n",
       "    .colab-df-convert:hover {\n",
       "      background-color: #E2EBFA;\n",
       "      box-shadow: 0px 1px 2px rgba(60, 64, 67, 0.3), 0px 1px 3px 1px rgba(60, 64, 67, 0.15);\n",
       "      fill: #174EA6;\n",
       "    }\n",
       "\n",
       "    [theme=dark] .colab-df-convert {\n",
       "      background-color: #3B4455;\n",
       "      fill: #D2E3FC;\n",
       "    }\n",
       "\n",
       "    [theme=dark] .colab-df-convert:hover {\n",
       "      background-color: #434B5C;\n",
       "      box-shadow: 0px 1px 3px 1px rgba(0, 0, 0, 0.15);\n",
       "      filter: drop-shadow(0px 1px 2px rgba(0, 0, 0, 0.3));\n",
       "      fill: #FFFFFF;\n",
       "    }\n",
       "  </style>\n",
       "\n",
       "      <script>\n",
       "        const buttonEl =\n",
       "          document.querySelector('#df-351ea53f-c0c8-4d70-9fb9-e4df7e042d66 button.colab-df-convert');\n",
       "        buttonEl.style.display =\n",
       "          google.colab.kernel.accessAllowed ? 'block' : 'none';\n",
       "\n",
       "        async function convertToInteractive(key) {\n",
       "          const element = document.querySelector('#df-351ea53f-c0c8-4d70-9fb9-e4df7e042d66');\n",
       "          const dataTable =\n",
       "            await google.colab.kernel.invokeFunction('convertToInteractive',\n",
       "                                                     [key], {});\n",
       "          if (!dataTable) return;\n",
       "\n",
       "          const docLinkHtml = 'Like what you see? Visit the ' +\n",
       "            '<a target=\"_blank\" href=https://colab.research.google.com/notebooks/data_table.ipynb>data table notebook</a>'\n",
       "            + ' to learn more about interactive tables.';\n",
       "          element.innerHTML = '';\n",
       "          dataTable['output_type'] = 'display_data';\n",
       "          await google.colab.output.renderOutput(dataTable, element);\n",
       "          const docLink = document.createElement('div');\n",
       "          docLink.innerHTML = docLinkHtml;\n",
       "          element.appendChild(docLink);\n",
       "        }\n",
       "      </script>\n",
       "    </div>\n",
       "  </div>\n",
       "  "
      ],
      "text/plain": [
       "                                MOVIES     YEAR  \\\n",
       "0                        Blood Red Sky 2,021.00   \n",
       "1  Masters of the Universe: Revelation 2,021.00   \n",
       "2                     The Walking Dead 2,010.00   \n",
       "3                       Rick and Morty 2,013.00   \n",
       "4                      Army of Thieves 2,021.00   \n",
       "\n",
       "                                      GENRE  RATING  \\\n",
       "0      Action, Horror, Thriller                6.10   \n",
       "1  Animation, Action, Adventure                5.00   \n",
       "2       Drama, Horror, Thriller                8.20   \n",
       "3  Animation, Adventure, Comedy                9.20   \n",
       "4         Action, Crime, Horror                 NaN   \n",
       "\n",
       "                                            ONE-LINE      VOTES  RunTime  \\\n",
       "0  A woman with a mysterious illness is forced in...  21,062.00   121.00   \n",
       "1  The war for Eternia begins again in what may b...  17,870.00    25.00   \n",
       "2  Sheriff Deputy Rick Grimes wakes up from a com... 885,805.00    44.00   \n",
       "3  An animated series that follows the exploits o... 414,849.00    23.00   \n",
       "4  A prequel, set before the events of Army of th...        NaN      NaN   \n",
       "\n",
       "   Gross               Director  \\\n",
       "0    NaN        Peter Thorwarth   \n",
       "1    NaN                    NaN   \n",
       "2    NaN                    NaN   \n",
       "3    NaN                    NaN   \n",
       "4    NaN  Matthias Schweighöfer   \n",
       "\n",
       "                                               Stars  \n",
       "0  Peri Baumeister,  Carl Anton Koch,  Alexander ...  \n",
       "1                                                NaN  \n",
       "2                                                NaN  \n",
       "3                                                NaN  \n",
       "4  Matthias Schweighöfer,  Nathalie Emmanuel,  Ru...  "
      ]
     },
     "execution_count": 345,
     "metadata": {},
     "output_type": "execute_result"
    }
   ],
   "source": [
    "df.head()"
   ]
  },
  {
   "cell_type": "markdown",
   "metadata": {
    "id": "Cwd9XOmndAWQ"
   },
   "source": [
    "## 4 - Analizamos si los valores numéricos de las columnas son verosímiles."
   ]
  },
  {
   "cell_type": "code",
   "execution_count": null,
   "metadata": {
    "colab": {
     "base_uri": "https://localhost:8080/",
     "height": 300
    },
    "id": "9f2RlVDuMInh",
    "outputId": "6af8cceb-2b36-4595-e776-074841c7812f"
   },
   "outputs": [
    {
     "data": {
      "text/html": [
       "\n",
       "  <div id=\"df-44790b83-e88b-4953-80ef-7a0b68e6c054\">\n",
       "    <div class=\"colab-df-container\">\n",
       "      <div>\n",
       "<style scoped>\n",
       "    .dataframe tbody tr th:only-of-type {\n",
       "        vertical-align: middle;\n",
       "    }\n",
       "\n",
       "    .dataframe tbody tr th {\n",
       "        vertical-align: top;\n",
       "    }\n",
       "\n",
       "    .dataframe thead th {\n",
       "        text-align: right;\n",
       "    }\n",
       "</style>\n",
       "<table border=\"1\" class=\"dataframe\">\n",
       "  <thead>\n",
       "    <tr style=\"text-align: right;\">\n",
       "      <th></th>\n",
       "      <th>YEAR</th>\n",
       "      <th>RATING</th>\n",
       "      <th>VOTES</th>\n",
       "      <th>RunTime</th>\n",
       "      <th>Gross</th>\n",
       "    </tr>\n",
       "  </thead>\n",
       "  <tbody>\n",
       "    <tr>\n",
       "      <th>count</th>\n",
       "      <td>9251</td>\n",
       "      <td>8179</td>\n",
       "      <td>8179</td>\n",
       "      <td>7041</td>\n",
       "      <td>460</td>\n",
       "    </tr>\n",
       "    <tr>\n",
       "      <th>mean</th>\n",
       "      <td>2016</td>\n",
       "      <td>7</td>\n",
       "      <td>15124</td>\n",
       "      <td>69</td>\n",
       "      <td>44</td>\n",
       "    </tr>\n",
       "    <tr>\n",
       "      <th>std</th>\n",
       "      <td>7</td>\n",
       "      <td>1</td>\n",
       "      <td>70055</td>\n",
       "      <td>47</td>\n",
       "      <td>82</td>\n",
       "    </tr>\n",
       "    <tr>\n",
       "      <th>min</th>\n",
       "      <td>1932</td>\n",
       "      <td>1</td>\n",
       "      <td>5</td>\n",
       "      <td>1</td>\n",
       "      <td>0</td>\n",
       "    </tr>\n",
       "    <tr>\n",
       "      <th>25%</th>\n",
       "      <td>2015</td>\n",
       "      <td>6</td>\n",
       "      <td>166</td>\n",
       "      <td>36</td>\n",
       "      <td>0</td>\n",
       "    </tr>\n",
       "    <tr>\n",
       "      <th>50%</th>\n",
       "      <td>2018</td>\n",
       "      <td>7</td>\n",
       "      <td>789</td>\n",
       "      <td>60</td>\n",
       "      <td>6</td>\n",
       "    </tr>\n",
       "    <tr>\n",
       "      <th>75%</th>\n",
       "      <td>2020</td>\n",
       "      <td>8</td>\n",
       "      <td>3772</td>\n",
       "      <td>95</td>\n",
       "      <td>47</td>\n",
       "    </tr>\n",
       "    <tr>\n",
       "      <th>max</th>\n",
       "      <td>2023</td>\n",
       "      <td>10</td>\n",
       "      <td>1713028</td>\n",
       "      <td>853</td>\n",
       "      <td>504</td>\n",
       "    </tr>\n",
       "  </tbody>\n",
       "</table>\n",
       "</div>\n",
       "      <button class=\"colab-df-convert\" onclick=\"convertToInteractive('df-44790b83-e88b-4953-80ef-7a0b68e6c054')\"\n",
       "              title=\"Convert this dataframe to an interactive table.\"\n",
       "              style=\"display:none;\">\n",
       "        \n",
       "  <svg xmlns=\"http://www.w3.org/2000/svg\" height=\"24px\"viewBox=\"0 0 24 24\"\n",
       "       width=\"24px\">\n",
       "    <path d=\"M0 0h24v24H0V0z\" fill=\"none\"/>\n",
       "    <path d=\"M18.56 5.44l.94 2.06.94-2.06 2.06-.94-2.06-.94-.94-2.06-.94 2.06-2.06.94zm-11 1L8.5 8.5l.94-2.06 2.06-.94-2.06-.94L8.5 2.5l-.94 2.06-2.06.94zm10 10l.94 2.06.94-2.06 2.06-.94-2.06-.94-.94-2.06-.94 2.06-2.06.94z\"/><path d=\"M17.41 7.96l-1.37-1.37c-.4-.4-.92-.59-1.43-.59-.52 0-1.04.2-1.43.59L10.3 9.45l-7.72 7.72c-.78.78-.78 2.05 0 2.83L4 21.41c.39.39.9.59 1.41.59.51 0 1.02-.2 1.41-.59l7.78-7.78 2.81-2.81c.8-.78.8-2.07 0-2.86zM5.41 20L4 18.59l7.72-7.72 1.47 1.35L5.41 20z\"/>\n",
       "  </svg>\n",
       "      </button>\n",
       "      \n",
       "  <style>\n",
       "    .colab-df-container {\n",
       "      display:flex;\n",
       "      flex-wrap:wrap;\n",
       "      gap: 12px;\n",
       "    }\n",
       "\n",
       "    .colab-df-convert {\n",
       "      background-color: #E8F0FE;\n",
       "      border: none;\n",
       "      border-radius: 50%;\n",
       "      cursor: pointer;\n",
       "      display: none;\n",
       "      fill: #1967D2;\n",
       "      height: 32px;\n",
       "      padding: 0 0 0 0;\n",
       "      width: 32px;\n",
       "    }\n",
       "\n",
       "    .colab-df-convert:hover {\n",
       "      background-color: #E2EBFA;\n",
       "      box-shadow: 0px 1px 2px rgba(60, 64, 67, 0.3), 0px 1px 3px 1px rgba(60, 64, 67, 0.15);\n",
       "      fill: #174EA6;\n",
       "    }\n",
       "\n",
       "    [theme=dark] .colab-df-convert {\n",
       "      background-color: #3B4455;\n",
       "      fill: #D2E3FC;\n",
       "    }\n",
       "\n",
       "    [theme=dark] .colab-df-convert:hover {\n",
       "      background-color: #434B5C;\n",
       "      box-shadow: 0px 1px 3px 1px rgba(0, 0, 0, 0.15);\n",
       "      filter: drop-shadow(0px 1px 2px rgba(0, 0, 0, 0.3));\n",
       "      fill: #FFFFFF;\n",
       "    }\n",
       "  </style>\n",
       "\n",
       "      <script>\n",
       "        const buttonEl =\n",
       "          document.querySelector('#df-44790b83-e88b-4953-80ef-7a0b68e6c054 button.colab-df-convert');\n",
       "        buttonEl.style.display =\n",
       "          google.colab.kernel.accessAllowed ? 'block' : 'none';\n",
       "\n",
       "        async function convertToInteractive(key) {\n",
       "          const element = document.querySelector('#df-44790b83-e88b-4953-80ef-7a0b68e6c054');\n",
       "          const dataTable =\n",
       "            await google.colab.kernel.invokeFunction('convertToInteractive',\n",
       "                                                     [key], {});\n",
       "          if (!dataTable) return;\n",
       "\n",
       "          const docLinkHtml = 'Like what you see? Visit the ' +\n",
       "            '<a target=\"_blank\" href=https://colab.research.google.com/notebooks/data_table.ipynb>data table notebook</a>'\n",
       "            + ' to learn more about interactive tables.';\n",
       "          element.innerHTML = '';\n",
       "          dataTable['output_type'] = 'display_data';\n",
       "          await google.colab.output.renderOutput(dataTable, element);\n",
       "          const docLink = document.createElement('div');\n",
       "          docLink.innerHTML = docLinkHtml;\n",
       "          element.appendChild(docLink);\n",
       "        }\n",
       "      </script>\n",
       "    </div>\n",
       "  </div>\n",
       "  "
      ],
      "text/plain": [
       "       YEAR  RATING   VOTES  RunTime  Gross\n",
       "count  9251    8179    8179     7041    460\n",
       "mean   2016       7   15124       69     44\n",
       "std       7       1   70055       47     82\n",
       "min    1932       1       5        1      0\n",
       "25%    2015       6     166       36      0\n",
       "50%    2018       7     789       60      6\n",
       "75%    2020       8    3772       95     47\n",
       "max    2023      10 1713028      853    504"
      ]
     },
     "execution_count": 346,
     "metadata": {},
     "output_type": "execute_result"
    }
   ],
   "source": [
    "pd.set_option('display.float_format', lambda x: '%.0f' % x)\n",
    "df.describe()"
   ]
  },
  {
   "cell_type": "code",
   "execution_count": null,
   "metadata": {
    "colab": {
     "base_uri": "https://localhost:8080/",
     "height": 446
    },
    "id": "QAsgnokldYOY",
    "outputId": "d5daea0b-af18-4cf1-f711-8a8de52d9652"
   },
   "outputs": [
    {
     "data": {
      "image/png": "[encoded data removed]",
      "text/plain": [
       "<Figure size 1080x1080 with 12 Axes>"
      ]
     },
     "metadata": {},
     "output_type": "display_data"
    }
   ],
   "source": [
    "df.hist(\n",
    "    figsize=(15,15),\n",
    "    layout=(4,3),\n",
    "    bins=20\n",
    "    );"
   ]
  },
  {
   "cell_type": "markdown",
   "metadata": {
    "id": "juvb4Emzde8S"
   },
   "source": [
    "## 5 - ¿Hay datos duplicados?"
   ]
  },
  {
   "cell_type": "markdown",
   "metadata": {
    "id": "XzrqbfZCWoxg"
   },
   "source": [
    "*   **duplicated()** devuelve un booleano identificando los casos \n",
    "*   **drop_duplicates()** devuelve el DataFrame sin los casos duplicados\n"
   ]
  },
  {
   "cell_type": "code",
   "execution_count": null,
   "metadata": {
    "colab": {
     "base_uri": "https://localhost:8080/",
     "height": 424
    },
    "id": "Kh6rnCf9U_KH",
    "outputId": "173ec669-3a9b-4460-9b5a-2b44c0b2ff77"
   },
   "outputs": [
    {
     "data": {
      "text/html": [
       "\n",
       "  <div id=\"df-a3bb8ed2-6bed-4909-b795-2d74349335a8\">\n",
       "    <div class=\"colab-df-container\">\n",
       "      <div>\n",
       "<style scoped>\n",
       "    .dataframe tbody tr th:only-of-type {\n",
       "        vertical-align: middle;\n",
       "    }\n",
       "\n",
       "    .dataframe tbody tr th {\n",
       "        vertical-align: top;\n",
       "    }\n",
       "\n",
       "    .dataframe thead th {\n",
       "        text-align: right;\n",
       "    }\n",
       "</style>\n",
       "<table border=\"1\" class=\"dataframe\">\n",
       "  <thead>\n",
       "    <tr style=\"text-align: right;\">\n",
       "      <th></th>\n",
       "      <th>MOVIES</th>\n",
       "      <th>YEAR</th>\n",
       "      <th>GENRE</th>\n",
       "      <th>RATING</th>\n",
       "      <th>ONE-LINE</th>\n",
       "      <th>VOTES</th>\n",
       "      <th>RunTime</th>\n",
       "      <th>Gross</th>\n",
       "      <th>Director</th>\n",
       "      <th>Stars</th>\n",
       "    </tr>\n",
       "  </thead>\n",
       "  <tbody>\n",
       "    <tr>\n",
       "      <th>6833</th>\n",
       "      <td>Mighty Little Bheem</td>\n",
       "      <td>2019</td>\n",
       "      <td>Animation, Short, Adventure</td>\n",
       "      <td>NaN</td>\n",
       "      <td>Add a Plot</td>\n",
       "      <td>NaN</td>\n",
       "      <td>NaN</td>\n",
       "      <td>NaN</td>\n",
       "      <td>Rajiv Chilaka,</td>\n",
       "      <td>None</td>\n",
       "    </tr>\n",
       "    <tr>\n",
       "      <th>6835</th>\n",
       "      <td>Mighty Little Bheem</td>\n",
       "      <td>2019</td>\n",
       "      <td>Animation, Short, Adventure</td>\n",
       "      <td>9</td>\n",
       "      <td>Add a Plot</td>\n",
       "      <td>6</td>\n",
       "      <td>NaN</td>\n",
       "      <td>NaN</td>\n",
       "      <td>Rajiv Chilaka,</td>\n",
       "      <td>None</td>\n",
       "    </tr>\n",
       "    <tr>\n",
       "      <th>6836</th>\n",
       "      <td>Mighty Little Bheem</td>\n",
       "      <td>2019</td>\n",
       "      <td>Animation, Short, Adventure</td>\n",
       "      <td>9</td>\n",
       "      <td>Add a Plot</td>\n",
       "      <td>6</td>\n",
       "      <td>NaN</td>\n",
       "      <td>NaN</td>\n",
       "      <td>Rajiv Chilaka,</td>\n",
       "      <td>None</td>\n",
       "    </tr>\n",
       "    <tr>\n",
       "      <th>6837</th>\n",
       "      <td>Mighty Little Bheem</td>\n",
       "      <td>2019</td>\n",
       "      <td>Animation, Short, Adventure</td>\n",
       "      <td>NaN</td>\n",
       "      <td>Add a Plot</td>\n",
       "      <td>NaN</td>\n",
       "      <td>NaN</td>\n",
       "      <td>NaN</td>\n",
       "      <td>Rajiv Chilaka,</td>\n",
       "      <td>None</td>\n",
       "    </tr>\n",
       "    <tr>\n",
       "      <th>6838</th>\n",
       "      <td>Mighty Little Bheem</td>\n",
       "      <td>2019</td>\n",
       "      <td>Animation, Short, Adventure</td>\n",
       "      <td>NaN</td>\n",
       "      <td>Add a Plot</td>\n",
       "      <td>NaN</td>\n",
       "      <td>NaN</td>\n",
       "      <td>NaN</td>\n",
       "      <td>Rajiv Chilaka,</td>\n",
       "      <td>None</td>\n",
       "    </tr>\n",
       "    <tr>\n",
       "      <th>...</th>\n",
       "      <td>...</td>\n",
       "      <td>...</td>\n",
       "      <td>...</td>\n",
       "      <td>...</td>\n",
       "      <td>...</td>\n",
       "      <td>...</td>\n",
       "      <td>...</td>\n",
       "      <td>...</td>\n",
       "      <td>...</td>\n",
       "      <td>...</td>\n",
       "    </tr>\n",
       "    <tr>\n",
       "      <th>9989</th>\n",
       "      <td>1899</td>\n",
       "      <td>2022</td>\n",
       "      <td>Drama, History, Horror</td>\n",
       "      <td>NaN</td>\n",
       "      <td>Add a Plot</td>\n",
       "      <td>NaN</td>\n",
       "      <td>NaN</td>\n",
       "      <td>NaN</td>\n",
       "      <td>Baran bo Odar</td>\n",
       "      <td>None</td>\n",
       "    </tr>\n",
       "    <tr>\n",
       "      <th>9990</th>\n",
       "      <td>1899</td>\n",
       "      <td>2022</td>\n",
       "      <td>Drama, History, Horror</td>\n",
       "      <td>NaN</td>\n",
       "      <td>Add a Plot</td>\n",
       "      <td>NaN</td>\n",
       "      <td>NaN</td>\n",
       "      <td>NaN</td>\n",
       "      <td>Baran bo Odar</td>\n",
       "      <td>None</td>\n",
       "    </tr>\n",
       "    <tr>\n",
       "      <th>9991</th>\n",
       "      <td>1899</td>\n",
       "      <td>2022</td>\n",
       "      <td>Drama, History, Horror</td>\n",
       "      <td>NaN</td>\n",
       "      <td>Add a Plot</td>\n",
       "      <td>NaN</td>\n",
       "      <td>NaN</td>\n",
       "      <td>NaN</td>\n",
       "      <td>Baran bo Odar</td>\n",
       "      <td>None</td>\n",
       "    </tr>\n",
       "    <tr>\n",
       "      <th>9992</th>\n",
       "      <td>1899</td>\n",
       "      <td>2022</td>\n",
       "      <td>Drama, History, Horror</td>\n",
       "      <td>NaN</td>\n",
       "      <td>Add a Plot</td>\n",
       "      <td>NaN</td>\n",
       "      <td>NaN</td>\n",
       "      <td>NaN</td>\n",
       "      <td>Baran bo Odar</td>\n",
       "      <td>None</td>\n",
       "    </tr>\n",
       "    <tr>\n",
       "      <th>9994</th>\n",
       "      <td>The Imperfects</td>\n",
       "      <td>2021</td>\n",
       "      <td>Adventure, Drama, Fantasy</td>\n",
       "      <td>NaN</td>\n",
       "      <td>Add a Plot</td>\n",
       "      <td>NaN</td>\n",
       "      <td>NaN</td>\n",
       "      <td>NaN</td>\n",
       "      <td>NaN</td>\n",
       "      <td>NaN</td>\n",
       "    </tr>\n",
       "  </tbody>\n",
       "</table>\n",
       "<p>516 rows × 10 columns</p>\n",
       "</div>\n",
       "      <button class=\"colab-df-convert\" onclick=\"convertToInteractive('df-a3bb8ed2-6bed-4909-b795-2d74349335a8')\"\n",
       "              title=\"Convert this dataframe to an interactive table.\"\n",
       "              style=\"display:none;\">\n",
       "        \n",
       "  <svg xmlns=\"http://www.w3.org/2000/svg\" height=\"24px\"viewBox=\"0 0 24 24\"\n",
       "       width=\"24px\">\n",
       "    <path d=\"M0 0h24v24H0V0z\" fill=\"none\"/>\n",
       "    <path d=\"M18.56 5.44l.94 2.06.94-2.06 2.06-.94-2.06-.94-.94-2.06-.94 2.06-2.06.94zm-11 1L8.5 8.5l.94-2.06 2.06-.94-2.06-.94L8.5 2.5l-.94 2.06-2.06.94zm10 10l.94 2.06.94-2.06 2.06-.94-2.06-.94-.94-2.06-.94 2.06-2.06.94z\"/><path d=\"M17.41 7.96l-1.37-1.37c-.4-.4-.92-.59-1.43-.59-.52 0-1.04.2-1.43.59L10.3 9.45l-7.72 7.72c-.78.78-.78 2.05 0 2.83L4 21.41c.39.39.9.59 1.41.59.51 0 1.02-.2 1.41-.59l7.78-7.78 2.81-2.81c.8-.78.8-2.07 0-2.86zM5.41 20L4 18.59l7.72-7.72 1.47 1.35L5.41 20z\"/>\n",
       "  </svg>\n",
       "      </button>\n",
       "      \n",
       "  <style>\n",
       "    .colab-df-container {\n",
       "      display:flex;\n",
       "      flex-wrap:wrap;\n",
       "      gap: 12px;\n",
       "    }\n",
       "\n",
       "    .colab-df-convert {\n",
       "      background-color: #E8F0FE;\n",
       "      border: none;\n",
       "      border-radius: 50%;\n",
       "      cursor: pointer;\n",
       "      display: none;\n",
       "      fill: #1967D2;\n",
       "      height: 32px;\n",
       "      padding: 0 0 0 0;\n",
       "      width: 32px;\n",
       "    }\n",
       "\n",
       "    .colab-df-convert:hover {\n",
       "      background-color: #E2EBFA;\n",
       "      box-shadow: 0px 1px 2px rgba(60, 64, 67, 0.3), 0px 1px 3px 1px rgba(60, 64, 67, 0.15);\n",
       "      fill: #174EA6;\n",
       "    }\n",
       "\n",
       "    [theme=dark] .colab-df-convert {\n",
       "      background-color: #3B4455;\n",
       "      fill: #D2E3FC;\n",
       "    }\n",
       "\n",
       "    [theme=dark] .colab-df-convert:hover {\n",
       "      background-color: #434B5C;\n",
       "      box-shadow: 0px 1px 3px 1px rgba(0, 0, 0, 0.15);\n",
       "      filter: drop-shadow(0px 1px 2px rgba(0, 0, 0, 0.3));\n",
       "      fill: #FFFFFF;\n",
       "    }\n",
       "  </style>\n",
       "\n",
       "      <script>\n",
       "        const buttonEl =\n",
       "          document.querySelector('#df-a3bb8ed2-6bed-4909-b795-2d74349335a8 button.colab-df-convert');\n",
       "        buttonEl.style.display =\n",
       "          google.colab.kernel.accessAllowed ? 'block' : 'none';\n",
       "\n",
       "        async function convertToInteractive(key) {\n",
       "          const element = document.querySelector('#df-a3bb8ed2-6bed-4909-b795-2d74349335a8');\n",
       "          const dataTable =\n",
       "            await google.colab.kernel.invokeFunction('convertToInteractive',\n",
       "                                                     [key], {});\n",
       "          if (!dataTable) return;\n",
       "\n",
       "          const docLinkHtml = 'Like what you see? Visit the ' +\n",
       "            '<a target=\"_blank\" href=https://colab.research.google.com/notebooks/data_table.ipynb>data table notebook</a>'\n",
       "            + ' to learn more about interactive tables.';\n",
       "          element.innerHTML = '';\n",
       "          dataTable['output_type'] = 'display_data';\n",
       "          await google.colab.output.renderOutput(dataTable, element);\n",
       "          const docLink = document.createElement('div');\n",
       "          docLink.innerHTML = docLinkHtml;\n",
       "          element.appendChild(docLink);\n",
       "        }\n",
       "      </script>\n",
       "    </div>\n",
       "  </div>\n",
       "  "
      ],
      "text/plain": [
       "                    MOVIES  YEAR                                    GENRE  \\\n",
       "6833   Mighty Little Bheem  2019  Animation, Short, Adventure               \n",
       "6835   Mighty Little Bheem  2019  Animation, Short, Adventure               \n",
       "6836   Mighty Little Bheem  2019  Animation, Short, Adventure               \n",
       "6837   Mighty Little Bheem  2019  Animation, Short, Adventure               \n",
       "6838   Mighty Little Bheem  2019  Animation, Short, Adventure               \n",
       "...                    ...   ...                                      ...   \n",
       "9989                  1899  2022       Drama, History, Horror               \n",
       "9990                  1899  2022       Drama, History, Horror               \n",
       "9991                  1899  2022       Drama, History, Horror               \n",
       "9992                  1899  2022       Drama, History, Horror               \n",
       "9994        The Imperfects  2021    Adventure, Drama, Fantasy               \n",
       "\n",
       "      RATING    ONE-LINE  VOTES  RunTime  Gross         Director Stars  \n",
       "6833     NaN  Add a Plot    NaN      NaN    NaN  Rajiv Chilaka,   None  \n",
       "6835       9  Add a Plot      6      NaN    NaN  Rajiv Chilaka,   None  \n",
       "6836       9  Add a Plot      6      NaN    NaN  Rajiv Chilaka,   None  \n",
       "6837     NaN  Add a Plot    NaN      NaN    NaN  Rajiv Chilaka,   None  \n",
       "6838     NaN  Add a Plot    NaN      NaN    NaN  Rajiv Chilaka,   None  \n",
       "...      ...         ...    ...      ...    ...              ...   ...  \n",
       "9989     NaN  Add a Plot    NaN      NaN    NaN    Baran bo Odar  None  \n",
       "9990     NaN  Add a Plot    NaN      NaN    NaN    Baran bo Odar  None  \n",
       "9991     NaN  Add a Plot    NaN      NaN    NaN    Baran bo Odar  None  \n",
       "9992     NaN  Add a Plot    NaN      NaN    NaN    Baran bo Odar  None  \n",
       "9994     NaN  Add a Plot    NaN      NaN    NaN              NaN   NaN  \n",
       "\n",
       "[516 rows x 10 columns]"
      ]
     },
     "execution_count": 348,
     "metadata": {},
     "output_type": "execute_result"
    }
   ],
   "source": [
    "df[df.duplicated()]"
   ]
  },
  {
   "cell_type": "markdown",
   "metadata": {
    "id": "QHUK9N_SVE4_"
   },
   "source": [
    "Vemos que hay muchos duplicados, pero que algunas filas tienen información que otras no. Queremos eliminar los duplicados y además quedarnos con las que tengan valores en rating en vez de las de nulos."
   ]
  },
  {
   "cell_type": "code",
   "execution_count": null,
   "metadata": {
    "id": "fafxkg5TTyo-"
   },
   "outputs": [],
   "source": [
    "# pd.set_option('display.max_rows', None)"
   ]
  },
  {
   "cell_type": "code",
   "execution_count": null,
   "metadata": {
    "id": "Tu9qBC3FQ1Le"
   },
   "outputs": [],
   "source": [
    "# Creamos una columna que mire si RATING tiene valores o no\n",
    "df[\"tiene_rating\"] = df[\"RATING\"].to_frame().count(axis=1)\n",
    "\n",
    "# Ordenamos alfabéticamente (por defecto, ascendentemente) según nombres de películas y la columna nueva\n",
    "df = df.sort_values(['MOVIES', 'tiene_rating'])\n",
    "\n",
    "# Borramos las películas que estén más de una vez y nos quedamos con el último valor (que es donde nos aseguramos que tiene_rating=1 en el caso de que suceda)\n",
    "df = df.drop_duplicates('MOVIES', keep='last')"
   ]
  },
  {
   "cell_type": "code",
   "execution_count": null,
   "metadata": {
    "colab": {
     "base_uri": "https://localhost:8080/",
     "height": 49
    },
    "id": "2oLe00mMY2Tn",
    "outputId": "348c6667-94b5-4a16-9356-14b661ff5530"
   },
   "outputs": [
    {
     "data": {
      "text/html": [
       "\n",
       "  <div id=\"df-dae5f49c-9888-4fdb-8eb2-d184433c2e97\">\n",
       "    <div class=\"colab-df-container\">\n",
       "      <div>\n",
       "<style scoped>\n",
       "    .dataframe tbody tr th:only-of-type {\n",
       "        vertical-align: middle;\n",
       "    }\n",
       "\n",
       "    .dataframe tbody tr th {\n",
       "        vertical-align: top;\n",
       "    }\n",
       "\n",
       "    .dataframe thead th {\n",
       "        text-align: right;\n",
       "    }\n",
       "</style>\n",
       "<table border=\"1\" class=\"dataframe\">\n",
       "  <thead>\n",
       "    <tr style=\"text-align: right;\">\n",
       "      <th></th>\n",
       "      <th>MOVIES</th>\n",
       "      <th>YEAR</th>\n",
       "      <th>GENRE</th>\n",
       "      <th>RATING</th>\n",
       "      <th>ONE-LINE</th>\n",
       "      <th>VOTES</th>\n",
       "      <th>RunTime</th>\n",
       "      <th>Gross</th>\n",
       "      <th>Director</th>\n",
       "      <th>Stars</th>\n",
       "      <th>tiene_rating</th>\n",
       "    </tr>\n",
       "  </thead>\n",
       "  <tbody>\n",
       "  </tbody>\n",
       "</table>\n",
       "</div>\n",
       "      <button class=\"colab-df-convert\" onclick=\"convertToInteractive('df-dae5f49c-9888-4fdb-8eb2-d184433c2e97')\"\n",
       "              title=\"Convert this dataframe to an interactive table.\"\n",
       "              style=\"display:none;\">\n",
       "        \n",
       "  <svg xmlns=\"http://www.w3.org/2000/svg\" height=\"24px\"viewBox=\"0 0 24 24\"\n",
       "       width=\"24px\">\n",
       "    <path d=\"M0 0h24v24H0V0z\" fill=\"none\"/>\n",
       "    <path d=\"M18.56 5.44l.94 2.06.94-2.06 2.06-.94-2.06-.94-.94-2.06-.94 2.06-2.06.94zm-11 1L8.5 8.5l.94-2.06 2.06-.94-2.06-.94L8.5 2.5l-.94 2.06-2.06.94zm10 10l.94 2.06.94-2.06 2.06-.94-2.06-.94-.94-2.06-.94 2.06-2.06.94z\"/><path d=\"M17.41 7.96l-1.37-1.37c-.4-.4-.92-.59-1.43-.59-.52 0-1.04.2-1.43.59L10.3 9.45l-7.72 7.72c-.78.78-.78 2.05 0 2.83L4 21.41c.39.39.9.59 1.41.59.51 0 1.02-.2 1.41-.59l7.78-7.78 2.81-2.81c.8-.78.8-2.07 0-2.86zM5.41 20L4 18.59l7.72-7.72 1.47 1.35L5.41 20z\"/>\n",
       "  </svg>\n",
       "      </button>\n",
       "      \n",
       "  <style>\n",
       "    .colab-df-container {\n",
       "      display:flex;\n",
       "      flex-wrap:wrap;\n",
       "      gap: 12px;\n",
       "    }\n",
       "\n",
       "    .colab-df-convert {\n",
       "      background-color: #E8F0FE;\n",
       "      border: none;\n",
       "      border-radius: 50%;\n",
       "      cursor: pointer;\n",
       "      display: none;\n",
       "      fill: #1967D2;\n",
       "      height: 32px;\n",
       "      padding: 0 0 0 0;\n",
       "      width: 32px;\n",
       "    }\n",
       "\n",
       "    .colab-df-convert:hover {\n",
       "      background-color: #E2EBFA;\n",
       "      box-shadow: 0px 1px 2px rgba(60, 64, 67, 0.3), 0px 1px 3px 1px rgba(60, 64, 67, 0.15);\n",
       "      fill: #174EA6;\n",
       "    }\n",
       "\n",
       "    [theme=dark] .colab-df-convert {\n",
       "      background-color: #3B4455;\n",
       "      fill: #D2E3FC;\n",
       "    }\n",
       "\n",
       "    [theme=dark] .colab-df-convert:hover {\n",
       "      background-color: #434B5C;\n",
       "      box-shadow: 0px 1px 3px 1px rgba(0, 0, 0, 0.15);\n",
       "      filter: drop-shadow(0px 1px 2px rgba(0, 0, 0, 0.3));\n",
       "      fill: #FFFFFF;\n",
       "    }\n",
       "  </style>\n",
       "\n",
       "      <script>\n",
       "        const buttonEl =\n",
       "          document.querySelector('#df-dae5f49c-9888-4fdb-8eb2-d184433c2e97 button.colab-df-convert');\n",
       "        buttonEl.style.display =\n",
       "          google.colab.kernel.accessAllowed ? 'block' : 'none';\n",
       "\n",
       "        async function convertToInteractive(key) {\n",
       "          const element = document.querySelector('#df-dae5f49c-9888-4fdb-8eb2-d184433c2e97');\n",
       "          const dataTable =\n",
       "            await google.colab.kernel.invokeFunction('convertToInteractive',\n",
       "                                                     [key], {});\n",
       "          if (!dataTable) return;\n",
       "\n",
       "          const docLinkHtml = 'Like what you see? Visit the ' +\n",
       "            '<a target=\"_blank\" href=https://colab.research.google.com/notebooks/data_table.ipynb>data table notebook</a>'\n",
       "            + ' to learn more about interactive tables.';\n",
       "          element.innerHTML = '';\n",
       "          dataTable['output_type'] = 'display_data';\n",
       "          await google.colab.output.renderOutput(dataTable, element);\n",
       "          const docLink = document.createElement('div');\n",
       "          docLink.innerHTML = docLinkHtml;\n",
       "          element.appendChild(docLink);\n",
       "        }\n",
       "      </script>\n",
       "    </div>\n",
       "  </div>\n",
       "  "
      ],
      "text/plain": [
       "Empty DataFrame\n",
       "Columns: [MOVIES, YEAR, GENRE, RATING, ONE-LINE, VOTES, RunTime, Gross, Director, Stars, tiene_rating]\n",
       "Index: []"
      ]
     },
     "execution_count": 350,
     "metadata": {},
     "output_type": "execute_result"
    }
   ],
   "source": [
    "# Corroboramos y no hay más duplicados\n",
    "\n",
    "df[df.duplicated()]\n",
    "\n"
   ]
  },
  {
   "cell_type": "markdown",
   "metadata": {
    "id": "uX5QnBFUKhLU"
   },
   "source": [
    "A la hora de tomar una decisión con respecto a los nulos de este DataFrame, deberíamos pensarlo en función de nuestro objetivo.\n",
    "\n",
    "Ejercicios:\n",
    "\n",
    "a) ¿Cuáles son los 5 directores mejor puntuados?"
   ]
  },
  {
   "cell_type": "code",
   "execution_count": null,
   "metadata": {
    "colab": {
     "base_uri": "https://localhost:8080/",
     "height": 424
    },
    "id": "mse87yka7vwG",
    "outputId": "f685c907-12e1-4501-bfc4-88be3d2f6501"
   },
   "outputs": [
    {
     "data": {
      "text/html": [
       "\n",
       "  <div id=\"df-65a86518-5374-4e14-9416-2cdd00eb8d33\">\n",
       "    <div class=\"colab-df-container\">\n",
       "      <div>\n",
       "<style scoped>\n",
       "    .dataframe tbody tr th:only-of-type {\n",
       "        vertical-align: middle;\n",
       "    }\n",
       "\n",
       "    .dataframe tbody tr th {\n",
       "        vertical-align: top;\n",
       "    }\n",
       "\n",
       "    .dataframe thead th {\n",
       "        text-align: right;\n",
       "    }\n",
       "</style>\n",
       "<table border=\"1\" class=\"dataframe\">\n",
       "  <thead>\n",
       "    <tr style=\"text-align: right;\">\n",
       "      <th></th>\n",
       "      <th>MOVIES</th>\n",
       "      <th>YEAR</th>\n",
       "      <th>GENRE</th>\n",
       "      <th>RATING</th>\n",
       "      <th>ONE-LINE</th>\n",
       "      <th>VOTES</th>\n",
       "      <th>RunTime</th>\n",
       "      <th>Gross</th>\n",
       "      <th>Director</th>\n",
       "      <th>Stars</th>\n",
       "      <th>tiene_rating</th>\n",
       "    </tr>\n",
       "  </thead>\n",
       "  <tbody>\n",
       "    <tr>\n",
       "      <th>8396</th>\n",
       "      <td>13 Reasons Why</td>\n",
       "      <td>2017</td>\n",
       "      <td>Drama, Mystery, Thriller</td>\n",
       "      <td>8</td>\n",
       "      <td>Strengthened by the struggles they've endured,...</td>\n",
       "      <td>2312</td>\n",
       "      <td>98</td>\n",
       "      <td>NaN</td>\n",
       "      <td>Brian Yorkey</td>\n",
       "      <td>Dylan Minnette,  Grace Saif,  Christian Navarr...</td>\n",
       "      <td>1</td>\n",
       "    </tr>\n",
       "    <tr>\n",
       "      <th>9992</th>\n",
       "      <td>1899</td>\n",
       "      <td>2022</td>\n",
       "      <td>Drama, History, Horror</td>\n",
       "      <td>NaN</td>\n",
       "      <td>Add a Plot</td>\n",
       "      <td>NaN</td>\n",
       "      <td>NaN</td>\n",
       "      <td>NaN</td>\n",
       "      <td>Baran bo Odar</td>\n",
       "      <td>None</td>\n",
       "      <td>0</td>\n",
       "    </tr>\n",
       "    <tr>\n",
       "      <th>9434</th>\n",
       "      <td>3Below: Tales of Arcadia</td>\n",
       "      <td>2018</td>\n",
       "      <td>Animation, Action, Adventure</td>\n",
       "      <td>8</td>\n",
       "      <td>Trolls, humans, gnomes and aliens alike all ma...</td>\n",
       "      <td>5</td>\n",
       "      <td>1</td>\n",
       "      <td>NaN</td>\n",
       "      <td>NaN</td>\n",
       "      <td>NaN</td>\n",
       "      <td>1</td>\n",
       "    </tr>\n",
       "    <tr>\n",
       "      <th>9459</th>\n",
       "      <td>50M2</td>\n",
       "      <td>2021</td>\n",
       "      <td>Comedy, Drama, Thriller</td>\n",
       "      <td>8</td>\n",
       "      <td>A gift leads Yakup to suspect Shadow's identit...</td>\n",
       "      <td>124</td>\n",
       "      <td>64</td>\n",
       "      <td>NaN</td>\n",
       "      <td>Burak Aksak</td>\n",
       "      <td>Engin Öztürk,  Kürsat Alniaçik,  Cengiz Bozkur...</td>\n",
       "      <td>1</td>\n",
       "    </tr>\n",
       "    <tr>\n",
       "      <th>8502</th>\n",
       "      <td>7Seeds</td>\n",
       "      <td>2019</td>\n",
       "      <td>Animation, Action, Adventure</td>\n",
       "      <td>8</td>\n",
       "      <td>Problems persist in the ship as the spreading ...</td>\n",
       "      <td>26</td>\n",
       "      <td>24</td>\n",
       "      <td>NaN</td>\n",
       "      <td>NaN</td>\n",
       "      <td>NaN</td>\n",
       "      <td>1</td>\n",
       "    </tr>\n",
       "  </tbody>\n",
       "</table>\n",
       "</div>\n",
       "      <button class=\"colab-df-convert\" onclick=\"convertToInteractive('df-65a86518-5374-4e14-9416-2cdd00eb8d33')\"\n",
       "              title=\"Convert this dataframe to an interactive table.\"\n",
       "              style=\"display:none;\">\n",
       "        \n",
       "  <svg xmlns=\"http://www.w3.org/2000/svg\" height=\"24px\"viewBox=\"0 0 24 24\"\n",
       "       width=\"24px\">\n",
       "    <path d=\"M0 0h24v24H0V0z\" fill=\"none\"/>\n",
       "    <path d=\"M18.56 5.44l.94 2.06.94-2.06 2.06-.94-2.06-.94-.94-2.06-.94 2.06-2.06.94zm-11 1L8.5 8.5l.94-2.06 2.06-.94-2.06-.94L8.5 2.5l-.94 2.06-2.06.94zm10 10l.94 2.06.94-2.06 2.06-.94-2.06-.94-.94-2.06-.94 2.06-2.06.94z\"/><path d=\"M17.41 7.96l-1.37-1.37c-.4-.4-.92-.59-1.43-.59-.52 0-1.04.2-1.43.59L10.3 9.45l-7.72 7.72c-.78.78-.78 2.05 0 2.83L4 21.41c.39.39.9.59 1.41.59.51 0 1.02-.2 1.41-.59l7.78-7.78 2.81-2.81c.8-.78.8-2.07 0-2.86zM5.41 20L4 18.59l7.72-7.72 1.47 1.35L5.41 20z\"/>\n",
       "  </svg>\n",
       "      </button>\n",
       "      \n",
       "  <style>\n",
       "    .colab-df-container {\n",
       "      display:flex;\n",
       "      flex-wrap:wrap;\n",
       "      gap: 12px;\n",
       "    }\n",
       "\n",
       "    .colab-df-convert {\n",
       "      background-color: #E8F0FE;\n",
       "      border: none;\n",
       "      border-radius: 50%;\n",
       "      cursor: pointer;\n",
       "      display: none;\n",
       "      fill: #1967D2;\n",
       "      height: 32px;\n",
       "      padding: 0 0 0 0;\n",
       "      width: 32px;\n",
       "    }\n",
       "\n",
       "    .colab-df-convert:hover {\n",
       "      background-color: #E2EBFA;\n",
       "      box-shadow: 0px 1px 2px rgba(60, 64, 67, 0.3), 0px 1px 3px 1px rgba(60, 64, 67, 0.15);\n",
       "      fill: #174EA6;\n",
       "    }\n",
       "\n",
       "    [theme=dark] .colab-df-convert {\n",
       "      background-color: #3B4455;\n",
       "      fill: #D2E3FC;\n",
       "    }\n",
       "\n",
       "    [theme=dark] .colab-df-convert:hover {\n",
       "      background-color: #434B5C;\n",
       "      box-shadow: 0px 1px 3px 1px rgba(0, 0, 0, 0.15);\n",
       "      filter: drop-shadow(0px 1px 2px rgba(0, 0, 0, 0.3));\n",
       "      fill: #FFFFFF;\n",
       "    }\n",
       "  </style>\n",
       "\n",
       "      <script>\n",
       "        const buttonEl =\n",
       "          document.querySelector('#df-65a86518-5374-4e14-9416-2cdd00eb8d33 button.colab-df-convert');\n",
       "        buttonEl.style.display =\n",
       "          google.colab.kernel.accessAllowed ? 'block' : 'none';\n",
       "\n",
       "        async function convertToInteractive(key) {\n",
       "          const element = document.querySelector('#df-65a86518-5374-4e14-9416-2cdd00eb8d33');\n",
       "          const dataTable =\n",
       "            await google.colab.kernel.invokeFunction('convertToInteractive',\n",
       "                                                     [key], {});\n",
       "          if (!dataTable) return;\n",
       "\n",
       "          const docLinkHtml = 'Like what you see? Visit the ' +\n",
       "            '<a target=\"_blank\" href=https://colab.research.google.com/notebooks/data_table.ipynb>data table notebook</a>'\n",
       "            + ' to learn more about interactive tables.';\n",
       "          element.innerHTML = '';\n",
       "          dataTable['output_type'] = 'display_data';\n",
       "          await google.colab.output.renderOutput(dataTable, element);\n",
       "          const docLink = document.createElement('div');\n",
       "          docLink.innerHTML = docLinkHtml;\n",
       "          element.appendChild(docLink);\n",
       "        }\n",
       "      </script>\n",
       "    </div>\n",
       "  </div>\n",
       "  "
      ],
      "text/plain": [
       "                         MOVIES  YEAR  \\\n",
       "8396             13 Reasons Why  2017   \n",
       "9992                       1899  2022   \n",
       "9434   3Below: Tales of Arcadia  2018   \n",
       "9459                       50M2  2021   \n",
       "8502                     7Seeds  2019   \n",
       "\n",
       "                                         GENRE  RATING  \\\n",
       "8396      Drama, Mystery, Thriller                   8   \n",
       "9992        Drama, History, Horror                 NaN   \n",
       "9434  Animation, Action, Adventure                   8   \n",
       "9459       Comedy, Drama, Thriller                   8   \n",
       "8502  Animation, Action, Adventure                   8   \n",
       "\n",
       "                                               ONE-LINE  VOTES  RunTime  \\\n",
       "8396  Strengthened by the struggles they've endured,...   2312       98   \n",
       "9992                                         Add a Plot    NaN      NaN   \n",
       "9434  Trolls, humans, gnomes and aliens alike all ma...      5        1   \n",
       "9459  A gift leads Yakup to suspect Shadow's identit...    124       64   \n",
       "8502  Problems persist in the ship as the spreading ...     26       24   \n",
       "\n",
       "      Gross       Director                                              Stars  \\\n",
       "8396    NaN   Brian Yorkey  Dylan Minnette,  Grace Saif,  Christian Navarr...   \n",
       "9992    NaN  Baran bo Odar                                               None   \n",
       "9434    NaN            NaN                                                NaN   \n",
       "9459    NaN    Burak Aksak  Engin Öztürk,  Kürsat Alniaçik,  Cengiz Bozkur...   \n",
       "8502    NaN            NaN                                                NaN   \n",
       "\n",
       "      tiene_rating  \n",
       "8396             1  \n",
       "9992             0  \n",
       "9434             1  \n",
       "9459             1  \n",
       "8502             1  "
      ]
     },
     "execution_count": 352,
     "metadata": {},
     "output_type": "execute_result"
    }
   ],
   "source": [
    "df.head()"
   ]
  },
  {
   "cell_type": "code",
   "execution_count": null,
   "metadata": {
    "id": "vuUUehVu78zi"
   },
   "outputs": [],
   "source": [
    "df_2 = df.groupby(\"Director\").agg({\"MOVIES\":\"count\", \"RATING\":\"mean\"})"
   ]
  },
  {
   "cell_type": "code",
   "execution_count": null,
   "metadata": {
    "id": "R7NDj3Mj9M9y"
   },
   "outputs": [],
   "source": [
    "df_2 = df_2.reset_index()"
   ]
  },
  {
   "cell_type": "code",
   "execution_count": null,
   "metadata": {
    "id": "DnpfuFSU9pTz"
   },
   "outputs": [],
   "source": [
    "df_2[\"Director\"] = df_2[\"Director\"].replace(\",\",\"\")"
   ]
  },
  {
   "cell_type": "code",
   "execution_count": null,
   "metadata": {
    "colab": {
     "base_uri": "https://localhost:8080/",
     "height": 424
    },
    "id": "jGkGoQFw8wQk",
    "outputId": "ecf2565a-1f49-405f-8b6e-0786b77415c5"
   },
   "outputs": [
    {
     "data": {
      "text/html": [
       "\n",
       "  <div id=\"df-1f6559b6-5c64-413e-8d45-6343f76512ff\">\n",
       "    <div class=\"colab-df-container\">\n",
       "      <div>\n",
       "<style scoped>\n",
       "    .dataframe tbody tr th:only-of-type {\n",
       "        vertical-align: middle;\n",
       "    }\n",
       "\n",
       "    .dataframe tbody tr th {\n",
       "        vertical-align: top;\n",
       "    }\n",
       "\n",
       "    .dataframe thead th {\n",
       "        text-align: right;\n",
       "    }\n",
       "</style>\n",
       "<table border=\"1\" class=\"dataframe\">\n",
       "  <thead>\n",
       "    <tr style=\"text-align: right;\">\n",
       "      <th></th>\n",
       "      <th>Director</th>\n",
       "      <th>MOVIES</th>\n",
       "      <th>RATING</th>\n",
       "    </tr>\n",
       "  </thead>\n",
       "  <tbody>\n",
       "    <tr>\n",
       "      <th>1278</th>\n",
       "      <td>Jay Karas</td>\n",
       "      <td>16</td>\n",
       "      <td>7</td>\n",
       "    </tr>\n",
       "    <tr>\n",
       "      <th>2432</th>\n",
       "      <td>Raúl Campos,</td>\n",
       "      <td>15</td>\n",
       "      <td>6</td>\n",
       "    </tr>\n",
       "    <tr>\n",
       "      <th>1884</th>\n",
       "      <td>Marcus Raboy</td>\n",
       "      <td>15</td>\n",
       "      <td>7</td>\n",
       "    </tr>\n",
       "    <tr>\n",
       "      <th>1276</th>\n",
       "      <td>Jay Chapman</td>\n",
       "      <td>14</td>\n",
       "      <td>7</td>\n",
       "    </tr>\n",
       "    <tr>\n",
       "      <th>348</th>\n",
       "      <td>Bob Bryan</td>\n",
       "      <td>11</td>\n",
       "      <td>6</td>\n",
       "    </tr>\n",
       "    <tr>\n",
       "      <th>...</th>\n",
       "      <td>...</td>\n",
       "      <td>...</td>\n",
       "      <td>...</td>\n",
       "    </tr>\n",
       "    <tr>\n",
       "      <th>1153</th>\n",
       "      <td>Il Cho</td>\n",
       "      <td>1</td>\n",
       "      <td>6</td>\n",
       "    </tr>\n",
       "    <tr>\n",
       "      <th>1154</th>\n",
       "      <td>Ildikó Enyedi</td>\n",
       "      <td>1</td>\n",
       "      <td>8</td>\n",
       "    </tr>\n",
       "    <tr>\n",
       "      <th>1155</th>\n",
       "      <td>Imtiaz Ali</td>\n",
       "      <td>1</td>\n",
       "      <td>5</td>\n",
       "    </tr>\n",
       "    <tr>\n",
       "      <th>1156</th>\n",
       "      <td>Indi Wijay</td>\n",
       "      <td>1</td>\n",
       "      <td>NaN</td>\n",
       "    </tr>\n",
       "    <tr>\n",
       "      <th>3152</th>\n",
       "      <td>Ömer Ugur</td>\n",
       "      <td>1</td>\n",
       "      <td>5</td>\n",
       "    </tr>\n",
       "  </tbody>\n",
       "</table>\n",
       "<p>3153 rows × 3 columns</p>\n",
       "</div>\n",
       "      <button class=\"colab-df-convert\" onclick=\"convertToInteractive('df-1f6559b6-5c64-413e-8d45-6343f76512ff')\"\n",
       "              title=\"Convert this dataframe to an interactive table.\"\n",
       "              style=\"display:none;\">\n",
       "        \n",
       "  <svg xmlns=\"http://www.w3.org/2000/svg\" height=\"24px\"viewBox=\"0 0 24 24\"\n",
       "       width=\"24px\">\n",
       "    <path d=\"M0 0h24v24H0V0z\" fill=\"none\"/>\n",
       "    <path d=\"M18.56 5.44l.94 2.06.94-2.06 2.06-.94-2.06-.94-.94-2.06-.94 2.06-2.06.94zm-11 1L8.5 8.5l.94-2.06 2.06-.94-2.06-.94L8.5 2.5l-.94 2.06-2.06.94zm10 10l.94 2.06.94-2.06 2.06-.94-2.06-.94-.94-2.06-.94 2.06-2.06.94z\"/><path d=\"M17.41 7.96l-1.37-1.37c-.4-.4-.92-.59-1.43-.59-.52 0-1.04.2-1.43.59L10.3 9.45l-7.72 7.72c-.78.78-.78 2.05 0 2.83L4 21.41c.39.39.9.59 1.41.59.51 0 1.02-.2 1.41-.59l7.78-7.78 2.81-2.81c.8-.78.8-2.07 0-2.86zM5.41 20L4 18.59l7.72-7.72 1.47 1.35L5.41 20z\"/>\n",
       "  </svg>\n",
       "      </button>\n",
       "      \n",
       "  <style>\n",
       "    .colab-df-container {\n",
       "      display:flex;\n",
       "      flex-wrap:wrap;\n",
       "      gap: 12px;\n",
       "    }\n",
       "\n",
       "    .colab-df-convert {\n",
       "      background-color: #E8F0FE;\n",
       "      border: none;\n",
       "      border-radius: 50%;\n",
       "      cursor: pointer;\n",
       "      display: none;\n",
       "      fill: #1967D2;\n",
       "      height: 32px;\n",
       "      padding: 0 0 0 0;\n",
       "      width: 32px;\n",
       "    }\n",
       "\n",
       "    .colab-df-convert:hover {\n",
       "      background-color: #E2EBFA;\n",
       "      box-shadow: 0px 1px 2px rgba(60, 64, 67, 0.3), 0px 1px 3px 1px rgba(60, 64, 67, 0.15);\n",
       "      fill: #174EA6;\n",
       "    }\n",
       "\n",
       "    [theme=dark] .colab-df-convert {\n",
       "      background-color: #3B4455;\n",
       "      fill: #D2E3FC;\n",
       "    }\n",
       "\n",
       "    [theme=dark] .colab-df-convert:hover {\n",
       "      background-color: #434B5C;\n",
       "      box-shadow: 0px 1px 3px 1px rgba(0, 0, 0, 0.15);\n",
       "      filter: drop-shadow(0px 1px 2px rgba(0, 0, 0, 0.3));\n",
       "      fill: #FFFFFF;\n",
       "    }\n",
       "  </style>\n",
       "\n",
       "      <script>\n",
       "        const buttonEl =\n",
       "          document.querySelector('#df-1f6559b6-5c64-413e-8d45-6343f76512ff button.colab-df-convert');\n",
       "        buttonEl.style.display =\n",
       "          google.colab.kernel.accessAllowed ? 'block' : 'none';\n",
       "\n",
       "        async function convertToInteractive(key) {\n",
       "          const element = document.querySelector('#df-1f6559b6-5c64-413e-8d45-6343f76512ff');\n",
       "          const dataTable =\n",
       "            await google.colab.kernel.invokeFunction('convertToInteractive',\n",
       "                                                     [key], {});\n",
       "          if (!dataTable) return;\n",
       "\n",
       "          const docLinkHtml = 'Like what you see? Visit the ' +\n",
       "            '<a target=\"_blank\" href=https://colab.research.google.com/notebooks/data_table.ipynb>data table notebook</a>'\n",
       "            + ' to learn more about interactive tables.';\n",
       "          element.innerHTML = '';\n",
       "          dataTable['output_type'] = 'display_data';\n",
       "          await google.colab.output.renderOutput(dataTable, element);\n",
       "          const docLink = document.createElement('div');\n",
       "          docLink.innerHTML = docLinkHtml;\n",
       "          element.appendChild(docLink);\n",
       "        }\n",
       "      </script>\n",
       "    </div>\n",
       "  </div>\n",
       "  "
      ],
      "text/plain": [
       "           Director  MOVIES  RATING\n",
       "1278      Jay Karas      16       7\n",
       "2432  Raúl Campos,       15       6\n",
       "1884   Marcus Raboy      15       7\n",
       "1276    Jay Chapman      14       7\n",
       "348       Bob Bryan      11       6\n",
       "...             ...     ...     ...\n",
       "1153         Il Cho       1       6\n",
       "1154  Ildikó Enyedi       1       8\n",
       "1155     Imtiaz Ali       1       5\n",
       "1156     Indi Wijay       1     NaN\n",
       "3152      Ömer Ugur       1       5\n",
       "\n",
       "[3153 rows x 3 columns]"
      ]
     },
     "execution_count": 374,
     "metadata": {},
     "output_type": "execute_result"
    }
   ],
   "source": [
    "# 3153 directores\n",
    "df_2.sort_values(by=\"MOVIES\", ascending=False)"
   ]
  },
  {
   "cell_type": "code",
   "execution_count": null,
   "metadata": {
    "colab": {
     "base_uri": "https://localhost:8080/"
    },
    "id": "fmhbb2iU9xU6",
    "outputId": "67ee7cbe-6e69-4499-85fb-e3ded6e06526"
   },
   "outputs": [
    {
     "data": {
      "text/plain": [
       "(2681, 3)"
      ]
     },
     "execution_count": 377,
     "metadata": {},
     "output_type": "execute_result"
    }
   ],
   "source": [
    "df_2[df_2[\"MOVIES\"]==1].shape"
   ]
  },
  {
   "cell_type": "code",
   "execution_count": null,
   "metadata": {
    "id": "TlD63xJi9_jR"
   },
   "outputs": [],
   "source": [
    "df_2=df_2[df_2[\"MOVIES\"]>1]"
   ]
  },
  {
   "cell_type": "code",
   "execution_count": null,
   "metadata": {
    "colab": {
     "base_uri": "https://localhost:8080/",
     "height": 424
    },
    "id": "jADqV3579Ggt",
    "outputId": "9c038e80-2042-4f0b-ef55-640e9b310135"
   },
   "outputs": [
    {
     "data": {
      "text/html": [
       "\n",
       "  <div id=\"df-d2d7de8c-b75d-403c-8027-a25f1e1e12a2\">\n",
       "    <div class=\"colab-df-container\">\n",
       "      <div>\n",
       "<style scoped>\n",
       "    .dataframe tbody tr th:only-of-type {\n",
       "        vertical-align: middle;\n",
       "    }\n",
       "\n",
       "    .dataframe tbody tr th {\n",
       "        vertical-align: top;\n",
       "    }\n",
       "\n",
       "    .dataframe thead th {\n",
       "        text-align: right;\n",
       "    }\n",
       "</style>\n",
       "<table border=\"1\" class=\"dataframe\">\n",
       "  <thead>\n",
       "    <tr style=\"text-align: right;\">\n",
       "      <th></th>\n",
       "      <th>Director</th>\n",
       "      <th>MOVIES</th>\n",
       "      <th>RATING</th>\n",
       "    </tr>\n",
       "  </thead>\n",
       "  <tbody>\n",
       "    <tr>\n",
       "      <th>0</th>\n",
       "      <td>Aadish Keluskar</td>\n",
       "      <td>1</td>\n",
       "      <td>6</td>\n",
       "    </tr>\n",
       "    <tr>\n",
       "      <th>1</th>\n",
       "      <td>Aaron Augenblick</td>\n",
       "      <td>1</td>\n",
       "      <td>5</td>\n",
       "    </tr>\n",
       "    <tr>\n",
       "      <th>2</th>\n",
       "      <td>Aaron Burns</td>\n",
       "      <td>1</td>\n",
       "      <td>6</td>\n",
       "    </tr>\n",
       "    <tr>\n",
       "      <th>3</th>\n",
       "      <td>Aaron Hann,</td>\n",
       "      <td>1</td>\n",
       "      <td>6</td>\n",
       "    </tr>\n",
       "    <tr>\n",
       "      <th>4</th>\n",
       "      <td>Aaron Lieber</td>\n",
       "      <td>1</td>\n",
       "      <td>7</td>\n",
       "    </tr>\n",
       "    <tr>\n",
       "      <th>...</th>\n",
       "      <td>...</td>\n",
       "      <td>...</td>\n",
       "      <td>...</td>\n",
       "    </tr>\n",
       "    <tr>\n",
       "      <th>3148</th>\n",
       "      <td>Álvaro Longoria,</td>\n",
       "      <td>1</td>\n",
       "      <td>6</td>\n",
       "    </tr>\n",
       "    <tr>\n",
       "      <th>3149</th>\n",
       "      <td>Ángel Gómez Hernández</td>\n",
       "      <td>1</td>\n",
       "      <td>6</td>\n",
       "    </tr>\n",
       "    <tr>\n",
       "      <th>3150</th>\n",
       "      <td>Ángeles Reiné</td>\n",
       "      <td>1</td>\n",
       "      <td>4</td>\n",
       "    </tr>\n",
       "    <tr>\n",
       "      <th>3151</th>\n",
       "      <td>Åke Sandgren</td>\n",
       "      <td>1</td>\n",
       "      <td>6</td>\n",
       "    </tr>\n",
       "    <tr>\n",
       "      <th>3152</th>\n",
       "      <td>Ömer Ugur</td>\n",
       "      <td>1</td>\n",
       "      <td>5</td>\n",
       "    </tr>\n",
       "  </tbody>\n",
       "</table>\n",
       "<p>3153 rows × 3 columns</p>\n",
       "</div>\n",
       "      <button class=\"colab-df-convert\" onclick=\"convertToInteractive('df-d2d7de8c-b75d-403c-8027-a25f1e1e12a2')\"\n",
       "              title=\"Convert this dataframe to an interactive table.\"\n",
       "              style=\"display:none;\">\n",
       "        \n",
       "  <svg xmlns=\"http://www.w3.org/2000/svg\" height=\"24px\"viewBox=\"0 0 24 24\"\n",
       "       width=\"24px\">\n",
       "    <path d=\"M0 0h24v24H0V0z\" fill=\"none\"/>\n",
       "    <path d=\"M18.56 5.44l.94 2.06.94-2.06 2.06-.94-2.06-.94-.94-2.06-.94 2.06-2.06.94zm-11 1L8.5 8.5l.94-2.06 2.06-.94-2.06-.94L8.5 2.5l-.94 2.06-2.06.94zm10 10l.94 2.06.94-2.06 2.06-.94-2.06-.94-.94-2.06-.94 2.06-2.06.94z\"/><path d=\"M17.41 7.96l-1.37-1.37c-.4-.4-.92-.59-1.43-.59-.52 0-1.04.2-1.43.59L10.3 9.45l-7.72 7.72c-.78.78-.78 2.05 0 2.83L4 21.41c.39.39.9.59 1.41.59.51 0 1.02-.2 1.41-.59l7.78-7.78 2.81-2.81c.8-.78.8-2.07 0-2.86zM5.41 20L4 18.59l7.72-7.72 1.47 1.35L5.41 20z\"/>\n",
       "  </svg>\n",
       "      </button>\n",
       "      \n",
       "  <style>\n",
       "    .colab-df-container {\n",
       "      display:flex;\n",
       "      flex-wrap:wrap;\n",
       "      gap: 12px;\n",
       "    }\n",
       "\n",
       "    .colab-df-convert {\n",
       "      background-color: #E8F0FE;\n",
       "      border: none;\n",
       "      border-radius: 50%;\n",
       "      cursor: pointer;\n",
       "      display: none;\n",
       "      fill: #1967D2;\n",
       "      height: 32px;\n",
       "      padding: 0 0 0 0;\n",
       "      width: 32px;\n",
       "    }\n",
       "\n",
       "    .colab-df-convert:hover {\n",
       "      background-color: #E2EBFA;\n",
       "      box-shadow: 0px 1px 2px rgba(60, 64, 67, 0.3), 0px 1px 3px 1px rgba(60, 64, 67, 0.15);\n",
       "      fill: #174EA6;\n",
       "    }\n",
       "\n",
       "    [theme=dark] .colab-df-convert {\n",
       "      background-color: #3B4455;\n",
       "      fill: #D2E3FC;\n",
       "    }\n",
       "\n",
       "    [theme=dark] .colab-df-convert:hover {\n",
       "      background-color: #434B5C;\n",
       "      box-shadow: 0px 1px 3px 1px rgba(0, 0, 0, 0.15);\n",
       "      filter: drop-shadow(0px 1px 2px rgba(0, 0, 0, 0.3));\n",
       "      fill: #FFFFFF;\n",
       "    }\n",
       "  </style>\n",
       "\n",
       "      <script>\n",
       "        const buttonEl =\n",
       "          document.querySelector('#df-d2d7de8c-b75d-403c-8027-a25f1e1e12a2 button.colab-df-convert');\n",
       "        buttonEl.style.display =\n",
       "          google.colab.kernel.accessAllowed ? 'block' : 'none';\n",
       "\n",
       "        async function convertToInteractive(key) {\n",
       "          const element = document.querySelector('#df-d2d7de8c-b75d-403c-8027-a25f1e1e12a2');\n",
       "          const dataTable =\n",
       "            await google.colab.kernel.invokeFunction('convertToInteractive',\n",
       "                                                     [key], {});\n",
       "          if (!dataTable) return;\n",
       "\n",
       "          const docLinkHtml = 'Like what you see? Visit the ' +\n",
       "            '<a target=\"_blank\" href=https://colab.research.google.com/notebooks/data_table.ipynb>data table notebook</a>'\n",
       "            + ' to learn more about interactive tables.';\n",
       "          element.innerHTML = '';\n",
       "          dataTable['output_type'] = 'display_data';\n",
       "          await google.colab.output.renderOutput(dataTable, element);\n",
       "          const docLink = document.createElement('div');\n",
       "          docLink.innerHTML = docLinkHtml;\n",
       "          element.appendChild(docLink);\n",
       "        }\n",
       "      </script>\n",
       "    </div>\n",
       "  </div>\n",
       "  "
      ],
      "text/plain": [
       "                   Director  MOVIES  RATING\n",
       "0           Aadish Keluskar       1       6\n",
       "1          Aaron Augenblick       1       5\n",
       "2               Aaron Burns       1       6\n",
       "3              Aaron Hann,        1       6\n",
       "4              Aaron Lieber       1       7\n",
       "...                     ...     ...     ...\n",
       "3148      Álvaro Longoria,        1       6\n",
       "3149  Ángel Gómez Hernández       1       6\n",
       "3150          Ángeles Reiné       1       4\n",
       "3151           Åke Sandgren       1       6\n",
       "3152              Ömer Ugur       1       5\n",
       "\n",
       "[3153 rows x 3 columns]"
      ]
     },
     "execution_count": 379,
     "metadata": {},
     "output_type": "execute_result"
    }
   ],
   "source": [
    "df_2"
   ]
  },
  {
   "cell_type": "code",
   "execution_count": null,
   "metadata": {
    "id": "jzusYGs4yhtu"
   },
   "outputs": [],
   "source": [
    "df_dir = df[df[\"Director\"].notna()]"
   ]
  },
  {
   "cell_type": "code",
   "execution_count": null,
   "metadata": {
    "id": "73XeTgDUT84v"
   },
   "outputs": [],
   "source": [
    "pd.options.display.float_format = '{:,.2f}'.format"
   ]
  },
  {
   "cell_type": "code",
   "execution_count": null,
   "metadata": {
    "id": "RgWqocj0TXEN"
   },
   "outputs": [],
   "source": [
    "ranking = df_dir.groupby(\"Director\").mean()[\"RATING\"]"
   ]
  },
  {
   "cell_type": "code",
   "execution_count": null,
   "metadata": {
    "colab": {
     "base_uri": "https://localhost:8080/"
    },
    "id": "v8Mc0iaQYnGF",
    "outputId": "9c587346-9280-448d-8cb8-2a2c0cca9354"
   },
   "outputs": [
    {
     "data": {
      "text/plain": [
       "Director\n",
       "Joaquim Dos Santos     9.90\n",
       "Pendleton Ward,        9.70\n",
       "Baran bo Odar          9.70\n",
       "Christina Manrique,    9.70\n",
       "Villads Spangsberg     9.60\n",
       "Name: RATING, dtype: float64"
      ]
     },
     "execution_count": 272,
     "metadata": {},
     "output_type": "execute_result"
    }
   ],
   "source": [
    "ranking.sort_values(ascending=False).head()"
   ]
  },
  {
   "cell_type": "markdown",
   "metadata": {
    "id": "tqL2IH7_yadq"
   },
   "source": [
    "b) ¿Cuáles son los 5 actores que más aparecen en la base? ¿Cuáles tienen mejores películas rankeadas?"
   ]
  },
  {
   "cell_type": "code",
   "execution_count": null,
   "metadata": {
    "colab": {
     "base_uri": "https://localhost:8080/",
     "height": 902
    },
    "id": "iCOaxSia-ZAL",
    "outputId": "fc1a8e8f-d639-491b-a85e-cdff458715eb"
   },
   "outputs": [
    {
     "data": {
      "text/html": [
       "\n",
       "  <div id=\"df-f0c7b3dd-c3a0-40d7-9e36-05e9cba536cb\">\n",
       "    <div class=\"colab-df-container\">\n",
       "      <div>\n",
       "<style scoped>\n",
       "    .dataframe tbody tr th:only-of-type {\n",
       "        vertical-align: middle;\n",
       "    }\n",
       "\n",
       "    .dataframe tbody tr th {\n",
       "        vertical-align: top;\n",
       "    }\n",
       "\n",
       "    .dataframe thead th {\n",
       "        text-align: right;\n",
       "    }\n",
       "</style>\n",
       "<table border=\"1\" class=\"dataframe\">\n",
       "  <thead>\n",
       "    <tr style=\"text-align: right;\">\n",
       "      <th></th>\n",
       "      <th>MOVIES</th>\n",
       "      <th>YEAR</th>\n",
       "      <th>GENRE</th>\n",
       "      <th>RATING</th>\n",
       "      <th>ONE-LINE</th>\n",
       "      <th>VOTES</th>\n",
       "      <th>RunTime</th>\n",
       "      <th>Gross</th>\n",
       "      <th>Director</th>\n",
       "      <th>Stars</th>\n",
       "      <th>tiene_rating</th>\n",
       "    </tr>\n",
       "  </thead>\n",
       "  <tbody>\n",
       "    <tr>\n",
       "      <th>8396</th>\n",
       "      <td>13 Reasons Why</td>\n",
       "      <td>2017</td>\n",
       "      <td>Drama, Mystery, Thriller</td>\n",
       "      <td>8</td>\n",
       "      <td>Strengthened by the struggles they've endured,...</td>\n",
       "      <td>2312</td>\n",
       "      <td>98</td>\n",
       "      <td>NaN</td>\n",
       "      <td>Brian Yorkey</td>\n",
       "      <td>Dylan Minnette,  Grace Saif,  Christian Navarr...</td>\n",
       "      <td>1</td>\n",
       "    </tr>\n",
       "    <tr>\n",
       "      <th>9992</th>\n",
       "      <td>1899</td>\n",
       "      <td>2022</td>\n",
       "      <td>Drama, History, Horror</td>\n",
       "      <td>NaN</td>\n",
       "      <td>Add a Plot</td>\n",
       "      <td>NaN</td>\n",
       "      <td>NaN</td>\n",
       "      <td>NaN</td>\n",
       "      <td>Baran bo Odar</td>\n",
       "      <td>None</td>\n",
       "      <td>0</td>\n",
       "    </tr>\n",
       "    <tr>\n",
       "      <th>9434</th>\n",
       "      <td>3Below: Tales of Arcadia</td>\n",
       "      <td>2018</td>\n",
       "      <td>Animation, Action, Adventure</td>\n",
       "      <td>8</td>\n",
       "      <td>Trolls, humans, gnomes and aliens alike all ma...</td>\n",
       "      <td>5</td>\n",
       "      <td>1</td>\n",
       "      <td>NaN</td>\n",
       "      <td>NaN</td>\n",
       "      <td>NaN</td>\n",
       "      <td>1</td>\n",
       "    </tr>\n",
       "    <tr>\n",
       "      <th>9459</th>\n",
       "      <td>50M2</td>\n",
       "      <td>2021</td>\n",
       "      <td>Comedy, Drama, Thriller</td>\n",
       "      <td>8</td>\n",
       "      <td>A gift leads Yakup to suspect Shadow's identit...</td>\n",
       "      <td>124</td>\n",
       "      <td>64</td>\n",
       "      <td>NaN</td>\n",
       "      <td>Burak Aksak</td>\n",
       "      <td>Engin Öztürk,  Kürsat Alniaçik,  Cengiz Bozkur...</td>\n",
       "      <td>1</td>\n",
       "    </tr>\n",
       "    <tr>\n",
       "      <th>8502</th>\n",
       "      <td>7Seeds</td>\n",
       "      <td>2019</td>\n",
       "      <td>Animation, Action, Adventure</td>\n",
       "      <td>8</td>\n",
       "      <td>Problems persist in the ship as the spreading ...</td>\n",
       "      <td>26</td>\n",
       "      <td>24</td>\n",
       "      <td>NaN</td>\n",
       "      <td>NaN</td>\n",
       "      <td>NaN</td>\n",
       "      <td>1</td>\n",
       "    </tr>\n",
       "    <tr>\n",
       "      <th>...</th>\n",
       "      <td>...</td>\n",
       "      <td>...</td>\n",
       "      <td>...</td>\n",
       "      <td>...</td>\n",
       "      <td>...</td>\n",
       "      <td>...</td>\n",
       "      <td>...</td>\n",
       "      <td>...</td>\n",
       "      <td>...</td>\n",
       "      <td>...</td>\n",
       "      <td>...</td>\n",
       "    </tr>\n",
       "    <tr>\n",
       "      <th>673</th>\n",
       "      <td>Ófærð</td>\n",
       "      <td>2015</td>\n",
       "      <td>Crime, Drama, Mystery</td>\n",
       "      <td>8</td>\n",
       "      <td>In a remote town in Iceland, Police desperatel...</td>\n",
       "      <td>17309</td>\n",
       "      <td>60</td>\n",
       "      <td>NaN</td>\n",
       "      <td>NaN</td>\n",
       "      <td>NaN</td>\n",
       "      <td>1</td>\n",
       "    </tr>\n",
       "    <tr>\n",
       "      <th>1106</th>\n",
       "      <td>Órbita 9</td>\n",
       "      <td>2017</td>\n",
       "      <td>Drama, Romance, Sci-Fi</td>\n",
       "      <td>6</td>\n",
       "      <td>Helena is a young girl who spent all her life ...</td>\n",
       "      <td>7123</td>\n",
       "      <td>95</td>\n",
       "      <td>NaN</td>\n",
       "      <td>Hatem Khraiche</td>\n",
       "      <td>Clara Lago,  Álex González,  Andrés Parra,  Be...</td>\n",
       "      <td>1</td>\n",
       "    </tr>\n",
       "    <tr>\n",
       "      <th>2580</th>\n",
       "      <td>Ôkami to kôshinryô</td>\n",
       "      <td>2008</td>\n",
       "      <td>Animation, Adventure, Fantasy</td>\n",
       "      <td>8</td>\n",
       "      <td>Kraft Lawrence goes from town to town to make ...</td>\n",
       "      <td>3959</td>\n",
       "      <td>24</td>\n",
       "      <td>NaN</td>\n",
       "      <td>NaN</td>\n",
       "      <td>NaN</td>\n",
       "      <td>1</td>\n",
       "    </tr>\n",
       "    <tr>\n",
       "      <th>3534</th>\n",
       "      <td>Öldür Beni Sevgilim</td>\n",
       "      <td>2019</td>\n",
       "      <td>Comedy, Romance</td>\n",
       "      <td>4</td>\n",
       "      <td>Can the excitement of the national lottery sav...</td>\n",
       "      <td>1568</td>\n",
       "      <td>104</td>\n",
       "      <td>NaN</td>\n",
       "      <td>Senol Sönmez</td>\n",
       "      <td>Murat Boz,  Seda Bakan,  Açelya Topaloglu,  Öz...</td>\n",
       "      <td>1</td>\n",
       "    </tr>\n",
       "    <tr>\n",
       "      <th>4160</th>\n",
       "      <td>ÜberWeihnachten</td>\n",
       "      <td>2020</td>\n",
       "      <td>Comedy, Drama, Romance</td>\n",
       "      <td>7</td>\n",
       "      <td>Bastian returns home for the holidays to learn...</td>\n",
       "      <td>1700</td>\n",
       "      <td>48</td>\n",
       "      <td>NaN</td>\n",
       "      <td>NaN</td>\n",
       "      <td>NaN</td>\n",
       "      <td>1</td>\n",
       "    </tr>\n",
       "  </tbody>\n",
       "</table>\n",
       "<p>6817 rows × 11 columns</p>\n",
       "</div>\n",
       "      <button class=\"colab-df-convert\" onclick=\"convertToInteractive('df-f0c7b3dd-c3a0-40d7-9e36-05e9cba536cb')\"\n",
       "              title=\"Convert this dataframe to an interactive table.\"\n",
       "              style=\"display:none;\">\n",
       "        \n",
       "  <svg xmlns=\"http://www.w3.org/2000/svg\" height=\"24px\"viewBox=\"0 0 24 24\"\n",
       "       width=\"24px\">\n",
       "    <path d=\"M0 0h24v24H0V0z\" fill=\"none\"/>\n",
       "    <path d=\"M18.56 5.44l.94 2.06.94-2.06 2.06-.94-2.06-.94-.94-2.06-.94 2.06-2.06.94zm-11 1L8.5 8.5l.94-2.06 2.06-.94-2.06-.94L8.5 2.5l-.94 2.06-2.06.94zm10 10l.94 2.06.94-2.06 2.06-.94-2.06-.94-.94-2.06-.94 2.06-2.06.94z\"/><path d=\"M17.41 7.96l-1.37-1.37c-.4-.4-.92-.59-1.43-.59-.52 0-1.04.2-1.43.59L10.3 9.45l-7.72 7.72c-.78.78-.78 2.05 0 2.83L4 21.41c.39.39.9.59 1.41.59.51 0 1.02-.2 1.41-.59l7.78-7.78 2.81-2.81c.8-.78.8-2.07 0-2.86zM5.41 20L4 18.59l7.72-7.72 1.47 1.35L5.41 20z\"/>\n",
       "  </svg>\n",
       "      </button>\n",
       "      \n",
       "  <style>\n",
       "    .colab-df-container {\n",
       "      display:flex;\n",
       "      flex-wrap:wrap;\n",
       "      gap: 12px;\n",
       "    }\n",
       "\n",
       "    .colab-df-convert {\n",
       "      background-color: #E8F0FE;\n",
       "      border: none;\n",
       "      border-radius: 50%;\n",
       "      cursor: pointer;\n",
       "      display: none;\n",
       "      fill: #1967D2;\n",
       "      height: 32px;\n",
       "      padding: 0 0 0 0;\n",
       "      width: 32px;\n",
       "    }\n",
       "\n",
       "    .colab-df-convert:hover {\n",
       "      background-color: #E2EBFA;\n",
       "      box-shadow: 0px 1px 2px rgba(60, 64, 67, 0.3), 0px 1px 3px 1px rgba(60, 64, 67, 0.15);\n",
       "      fill: #174EA6;\n",
       "    }\n",
       "\n",
       "    [theme=dark] .colab-df-convert {\n",
       "      background-color: #3B4455;\n",
       "      fill: #D2E3FC;\n",
       "    }\n",
       "\n",
       "    [theme=dark] .colab-df-convert:hover {\n",
       "      background-color: #434B5C;\n",
       "      box-shadow: 0px 1px 3px 1px rgba(0, 0, 0, 0.15);\n",
       "      filter: drop-shadow(0px 1px 2px rgba(0, 0, 0, 0.3));\n",
       "      fill: #FFFFFF;\n",
       "    }\n",
       "  </style>\n",
       "\n",
       "      <script>\n",
       "        const buttonEl =\n",
       "          document.querySelector('#df-f0c7b3dd-c3a0-40d7-9e36-05e9cba536cb button.colab-df-convert');\n",
       "        buttonEl.style.display =\n",
       "          google.colab.kernel.accessAllowed ? 'block' : 'none';\n",
       "\n",
       "        async function convertToInteractive(key) {\n",
       "          const element = document.querySelector('#df-f0c7b3dd-c3a0-40d7-9e36-05e9cba536cb');\n",
       "          const dataTable =\n",
       "            await google.colab.kernel.invokeFunction('convertToInteractive',\n",
       "                                                     [key], {});\n",
       "          if (!dataTable) return;\n",
       "\n",
       "          const docLinkHtml = 'Like what you see? Visit the ' +\n",
       "            '<a target=\"_blank\" href=https://colab.research.google.com/notebooks/data_table.ipynb>data table notebook</a>'\n",
       "            + ' to learn more about interactive tables.';\n",
       "          element.innerHTML = '';\n",
       "          dataTable['output_type'] = 'display_data';\n",
       "          await google.colab.output.renderOutput(dataTable, element);\n",
       "          const docLink = document.createElement('div');\n",
       "          docLink.innerHTML = docLinkHtml;\n",
       "          element.appendChild(docLink);\n",
       "        }\n",
       "      </script>\n",
       "    </div>\n",
       "  </div>\n",
       "  "
      ],
      "text/plain": [
       "                         MOVIES  YEAR  \\\n",
       "8396             13 Reasons Why  2017   \n",
       "9992                       1899  2022   \n",
       "9434   3Below: Tales of Arcadia  2018   \n",
       "9459                       50M2  2021   \n",
       "8502                     7Seeds  2019   \n",
       "...                         ...   ...   \n",
       "673                       Ófærð  2015   \n",
       "1106                   Órbita 9  2017   \n",
       "2580         Ôkami to kôshinryô  2008   \n",
       "3534        Öldür Beni Sevgilim  2019   \n",
       "4160            ÜberWeihnachten  2020   \n",
       "\n",
       "                                          GENRE  RATING  \\\n",
       "8396       Drama, Mystery, Thriller                   8   \n",
       "9992         Drama, History, Horror                 NaN   \n",
       "9434   Animation, Action, Adventure                   8   \n",
       "9459        Comedy, Drama, Thriller                   8   \n",
       "8502   Animation, Action, Adventure                   8   \n",
       "...                                         ...     ...   \n",
       "673           Crime, Drama, Mystery                   8   \n",
       "1106         Drama, Romance, Sci-Fi                   6   \n",
       "2580  Animation, Adventure, Fantasy                   8   \n",
       "3534                Comedy, Romance                   4   \n",
       "4160         Comedy, Drama, Romance                   7   \n",
       "\n",
       "                                               ONE-LINE  VOTES  RunTime  \\\n",
       "8396  Strengthened by the struggles they've endured,...   2312       98   \n",
       "9992                                         Add a Plot    NaN      NaN   \n",
       "9434  Trolls, humans, gnomes and aliens alike all ma...      5        1   \n",
       "9459  A gift leads Yakup to suspect Shadow's identit...    124       64   \n",
       "8502  Problems persist in the ship as the spreading ...     26       24   \n",
       "...                                                 ...    ...      ...   \n",
       "673   In a remote town in Iceland, Police desperatel...  17309       60   \n",
       "1106  Helena is a young girl who spent all her life ...   7123       95   \n",
       "2580  Kraft Lawrence goes from town to town to make ...   3959       24   \n",
       "3534  Can the excitement of the national lottery sav...   1568      104   \n",
       "4160  Bastian returns home for the holidays to learn...   1700       48   \n",
       "\n",
       "      Gross        Director  \\\n",
       "8396    NaN    Brian Yorkey   \n",
       "9992    NaN   Baran bo Odar   \n",
       "9434    NaN             NaN   \n",
       "9459    NaN     Burak Aksak   \n",
       "8502    NaN             NaN   \n",
       "...     ...             ...   \n",
       "673     NaN             NaN   \n",
       "1106    NaN  Hatem Khraiche   \n",
       "2580    NaN             NaN   \n",
       "3534    NaN    Senol Sönmez   \n",
       "4160    NaN             NaN   \n",
       "\n",
       "                                                  Stars  tiene_rating  \n",
       "8396  Dylan Minnette,  Grace Saif,  Christian Navarr...             1  \n",
       "9992                                               None             0  \n",
       "9434                                                NaN             1  \n",
       "9459  Engin Öztürk,  Kürsat Alniaçik,  Cengiz Bozkur...             1  \n",
       "8502                                                NaN             1  \n",
       "...                                                 ...           ...  \n",
       "673                                                 NaN             1  \n",
       "1106  Clara Lago,  Álex González,  Andrés Parra,  Be...             1  \n",
       "2580                                                NaN             1  \n",
       "3534  Murat Boz,  Seda Bakan,  Açelya Topaloglu,  Öz...             1  \n",
       "4160                                                NaN             1  \n",
       "\n",
       "[6817 rows x 11 columns]"
      ]
     },
     "execution_count": 381,
     "metadata": {},
     "output_type": "execute_result"
    }
   ],
   "source": [
    "df"
   ]
  },
  {
   "cell_type": "code",
   "execution_count": null,
   "metadata": {
    "id": "VXlXicFzbixt"
   },
   "outputs": [],
   "source": [
    "df_act = df"
   ]
  },
  {
   "cell_type": "code",
   "execution_count": null,
   "metadata": {
    "id": "aOO5aj-8yffi"
   },
   "outputs": [],
   "source": [
    "df_act[[\"Actor 1\", \"Actor 2\", \"Actor 3\", \"Actor 4\"]] = df_act[\"Stars\"].str.split(\",\", expand=True)"
   ]
  },
  {
   "cell_type": "code",
   "execution_count": null,
   "metadata": {
    "id": "1TDNUMX4banx"
   },
   "outputs": [],
   "source": [
    "df_act = df_act[df_act[\"Stars\"].notna()]"
   ]
  },
  {
   "cell_type": "code",
   "execution_count": null,
   "metadata": {
    "colab": {
     "base_uri": "https://localhost:8080/"
    },
    "id": "w1YN_nZaavR3",
    "outputId": "df5ed6d1-f70f-44cd-9538-67a54a035a14"
   },
   "outputs": [
    {
     "name": "stderr",
     "output_type": "stream",
     "text": [
      "/usr/local/lib/python3.7/dist-packages/pandas/core/frame.py:4913: SettingWithCopyWarning: \n",
      "A value is trying to be set on a copy of a slice from a DataFrame\n",
      "\n",
      "See the caveats in the documentation: https://pandas.pydata.org/pandas-docs/stable/user_guide/indexing.html#returning-a-view-versus-a-copy\n",
      "  errors=errors,\n"
     ]
    }
   ],
   "source": [
    "df_act.drop(\"Stars\", axis=1, inplace=True)"
   ]
  },
  {
   "cell_type": "code",
   "execution_count": null,
   "metadata": {
    "colab": {
     "base_uri": "https://localhost:8080/",
     "height": 1000
    },
    "id": "5bds2OjW-snO",
    "outputId": "85062713-d0df-45ab-f7b7-2afef25cd4f7"
   },
   "outputs": [
    {
     "data": {
      "text/html": [
       "\n",
       "  <div id=\"df-62377d1f-fc1a-40e9-b3c4-310ead68cf8c\">\n",
       "    <div class=\"colab-df-container\">\n",
       "      <div>\n",
       "<style scoped>\n",
       "    .dataframe tbody tr th:only-of-type {\n",
       "        vertical-align: middle;\n",
       "    }\n",
       "\n",
       "    .dataframe tbody tr th {\n",
       "        vertical-align: top;\n",
       "    }\n",
       "\n",
       "    .dataframe thead th {\n",
       "        text-align: right;\n",
       "    }\n",
       "</style>\n",
       "<table border=\"1\" class=\"dataframe\">\n",
       "  <thead>\n",
       "    <tr style=\"text-align: right;\">\n",
       "      <th></th>\n",
       "      <th>MOVIES</th>\n",
       "      <th>YEAR</th>\n",
       "      <th>GENRE</th>\n",
       "      <th>RATING</th>\n",
       "      <th>ONE-LINE</th>\n",
       "      <th>VOTES</th>\n",
       "      <th>RunTime</th>\n",
       "      <th>Gross</th>\n",
       "      <th>Director</th>\n",
       "      <th>tiene_rating</th>\n",
       "      <th>Actor 1</th>\n",
       "      <th>Actor 2</th>\n",
       "      <th>Actor 3</th>\n",
       "      <th>Actor 4</th>\n",
       "    </tr>\n",
       "  </thead>\n",
       "  <tbody>\n",
       "    <tr>\n",
       "      <th>8396</th>\n",
       "      <td>13 Reasons Why</td>\n",
       "      <td>2017</td>\n",
       "      <td>Drama, Mystery, Thriller</td>\n",
       "      <td>8</td>\n",
       "      <td>Strengthened by the struggles they've endured,...</td>\n",
       "      <td>2312</td>\n",
       "      <td>98</td>\n",
       "      <td>NaN</td>\n",
       "      <td>Brian Yorkey</td>\n",
       "      <td>1</td>\n",
       "      <td>Dylan Minnette</td>\n",
       "      <td>Grace Saif</td>\n",
       "      <td>Christian Navarro</td>\n",
       "      <td>Alisha Boe</td>\n",
       "    </tr>\n",
       "    <tr>\n",
       "      <th>9459</th>\n",
       "      <td>50M2</td>\n",
       "      <td>2021</td>\n",
       "      <td>Comedy, Drama, Thriller</td>\n",
       "      <td>8</td>\n",
       "      <td>A gift leads Yakup to suspect Shadow's identit...</td>\n",
       "      <td>124</td>\n",
       "      <td>64</td>\n",
       "      <td>NaN</td>\n",
       "      <td>Burak Aksak</td>\n",
       "      <td>1</td>\n",
       "      <td>Engin Öztürk</td>\n",
       "      <td>Kürsat Alniaçik</td>\n",
       "      <td>Cengiz Bozkurt</td>\n",
       "      <td>Aybüke Pusat</td>\n",
       "    </tr>\n",
       "    <tr>\n",
       "      <th>8543</th>\n",
       "      <td>A Suitable Boy</td>\n",
       "      <td>2020</td>\n",
       "      <td>Drama, Romance</td>\n",
       "      <td>6</td>\n",
       "      <td>Lata makes a surprising decision about her fut...</td>\n",
       "      <td>121</td>\n",
       "      <td>58</td>\n",
       "      <td>NaN</td>\n",
       "      <td>Mira Nair</td>\n",
       "      <td>1</td>\n",
       "      <td>Ishaan Khattar</td>\n",
       "      <td>Jeevan Singh Rawat</td>\n",
       "      <td>Aamir Bashir</td>\n",
       "      <td>Shubham Saraf</td>\n",
       "    </tr>\n",
       "    <tr>\n",
       "      <th>8276</th>\n",
       "      <td>After Life</td>\n",
       "      <td>2019</td>\n",
       "      <td>Comedy, Drama</td>\n",
       "      <td>9</td>\n",
       "      <td>Grieving over another loss, Tony asks his frie...</td>\n",
       "      <td>2245</td>\n",
       "      <td>30</td>\n",
       "      <td>NaN</td>\n",
       "      <td>Ricky Gervais</td>\n",
       "      <td>1</td>\n",
       "      <td>Ricky Gervais</td>\n",
       "      <td>Tom Basden</td>\n",
       "      <td>Tony Way</td>\n",
       "      <td>Diane Morgan</td>\n",
       "    </tr>\n",
       "    <tr>\n",
       "      <th>8044</th>\n",
       "      <td>Age of Samurai: Battle for Japan</td>\n",
       "      <td>2021</td>\n",
       "      <td>Documentary, Action, Adventure</td>\n",
       "      <td>7</td>\n",
       "      <td>A dying Hideyoshi appoints five regents to gov...</td>\n",
       "      <td>138</td>\n",
       "      <td>44</td>\n",
       "      <td>NaN</td>\n",
       "      <td>Stephen Scott</td>\n",
       "      <td>1</td>\n",
       "      <td>Hiro Kanagawa</td>\n",
       "      <td>Hayate Masao</td>\n",
       "      <td>Hideaki Itô</td>\n",
       "      <td>Yohei Matsukado</td>\n",
       "    </tr>\n",
       "    <tr>\n",
       "      <th>...</th>\n",
       "      <td>...</td>\n",
       "      <td>...</td>\n",
       "      <td>...</td>\n",
       "      <td>...</td>\n",
       "      <td>...</td>\n",
       "      <td>...</td>\n",
       "      <td>...</td>\n",
       "      <td>...</td>\n",
       "      <td>...</td>\n",
       "      <td>...</td>\n",
       "      <td>...</td>\n",
       "      <td>...</td>\n",
       "      <td>...</td>\n",
       "      <td>...</td>\n",
       "    </tr>\n",
       "    <tr>\n",
       "      <th>4075</th>\n",
       "      <td>Çok Filim Hareketler Bunlar</td>\n",
       "      <td>2010</td>\n",
       "      <td>Comedy</td>\n",
       "      <td>4</td>\n",
       "      <td>Çok film hareketler bunlar They are a 2010 com...</td>\n",
       "      <td>4598</td>\n",
       "      <td>134</td>\n",
       "      <td>NaN</td>\n",
       "      <td>Ozan Açiktan</td>\n",
       "      <td>1</td>\n",
       "      <td>Gülsüm Alkan</td>\n",
       "      <td>Ibrahim Büyükak</td>\n",
       "      <td>Emre Canpolat</td>\n",
       "      <td>Murat Eken</td>\n",
       "    </tr>\n",
       "    <tr>\n",
       "      <th>1256</th>\n",
       "      <td>È stata la mano di Dio</td>\n",
       "      <td>2021</td>\n",
       "      <td>Drama</td>\n",
       "      <td>NaN</td>\n",
       "      <td>Plot unknown. Set in Naples and said to be a v...</td>\n",
       "      <td>NaN</td>\n",
       "      <td>130</td>\n",
       "      <td>NaN</td>\n",
       "      <td>Paolo Sorrentino</td>\n",
       "      <td>0</td>\n",
       "      <td>Filippo Scotti</td>\n",
       "      <td>Toni Servillo</td>\n",
       "      <td>Teresa Saponangelo</td>\n",
       "      <td>Marlon Joubert</td>\n",
       "    </tr>\n",
       "    <tr>\n",
       "      <th>3298</th>\n",
       "      <td>Òlòturé</td>\n",
       "      <td>2019</td>\n",
       "      <td>Crime, Drama</td>\n",
       "      <td>6</td>\n",
       "      <td>A journalist goes undercover as a prostitute t...</td>\n",
       "      <td>705</td>\n",
       "      <td>106</td>\n",
       "      <td>NaN</td>\n",
       "      <td>Kenneth Gyang</td>\n",
       "      <td>1</td>\n",
       "      <td>Ada Ameh</td>\n",
       "      <td>Beverly Osu</td>\n",
       "      <td>Blossom Chukwujekwu</td>\n",
       "      <td>Bukola Oladipupo</td>\n",
       "    </tr>\n",
       "    <tr>\n",
       "      <th>1106</th>\n",
       "      <td>Órbita 9</td>\n",
       "      <td>2017</td>\n",
       "      <td>Drama, Romance, Sci-Fi</td>\n",
       "      <td>6</td>\n",
       "      <td>Helena is a young girl who spent all her life ...</td>\n",
       "      <td>7123</td>\n",
       "      <td>95</td>\n",
       "      <td>NaN</td>\n",
       "      <td>Hatem Khraiche</td>\n",
       "      <td>1</td>\n",
       "      <td>Clara Lago</td>\n",
       "      <td>Álex González</td>\n",
       "      <td>Andrés Parra</td>\n",
       "      <td>Belén Rueda</td>\n",
       "    </tr>\n",
       "    <tr>\n",
       "      <th>3534</th>\n",
       "      <td>Öldür Beni Sevgilim</td>\n",
       "      <td>2019</td>\n",
       "      <td>Comedy, Romance</td>\n",
       "      <td>4</td>\n",
       "      <td>Can the excitement of the national lottery sav...</td>\n",
       "      <td>1568</td>\n",
       "      <td>104</td>\n",
       "      <td>NaN</td>\n",
       "      <td>Senol Sönmez</td>\n",
       "      <td>1</td>\n",
       "      <td>Murat Boz</td>\n",
       "      <td>Seda Bakan</td>\n",
       "      <td>Açelya Topaloglu</td>\n",
       "      <td>Özgür Emre Yildirim</td>\n",
       "    </tr>\n",
       "  </tbody>\n",
       "</table>\n",
       "<p>3723 rows × 14 columns</p>\n",
       "</div>\n",
       "      <button class=\"colab-df-convert\" onclick=\"convertToInteractive('df-62377d1f-fc1a-40e9-b3c4-310ead68cf8c')\"\n",
       "              title=\"Convert this dataframe to an interactive table.\"\n",
       "              style=\"display:none;\">\n",
       "        \n",
       "  <svg xmlns=\"http://www.w3.org/2000/svg\" height=\"24px\"viewBox=\"0 0 24 24\"\n",
       "       width=\"24px\">\n",
       "    <path d=\"M0 0h24v24H0V0z\" fill=\"none\"/>\n",
       "    <path d=\"M18.56 5.44l.94 2.06.94-2.06 2.06-.94-2.06-.94-.94-2.06-.94 2.06-2.06.94zm-11 1L8.5 8.5l.94-2.06 2.06-.94-2.06-.94L8.5 2.5l-.94 2.06-2.06.94zm10 10l.94 2.06.94-2.06 2.06-.94-2.06-.94-.94-2.06-.94 2.06-2.06.94z\"/><path d=\"M17.41 7.96l-1.37-1.37c-.4-.4-.92-.59-1.43-.59-.52 0-1.04.2-1.43.59L10.3 9.45l-7.72 7.72c-.78.78-.78 2.05 0 2.83L4 21.41c.39.39.9.59 1.41.59.51 0 1.02-.2 1.41-.59l7.78-7.78 2.81-2.81c.8-.78.8-2.07 0-2.86zM5.41 20L4 18.59l7.72-7.72 1.47 1.35L5.41 20z\"/>\n",
       "  </svg>\n",
       "      </button>\n",
       "      \n",
       "  <style>\n",
       "    .colab-df-container {\n",
       "      display:flex;\n",
       "      flex-wrap:wrap;\n",
       "      gap: 12px;\n",
       "    }\n",
       "\n",
       "    .colab-df-convert {\n",
       "      background-color: #E8F0FE;\n",
       "      border: none;\n",
       "      border-radius: 50%;\n",
       "      cursor: pointer;\n",
       "      display: none;\n",
       "      fill: #1967D2;\n",
       "      height: 32px;\n",
       "      padding: 0 0 0 0;\n",
       "      width: 32px;\n",
       "    }\n",
       "\n",
       "    .colab-df-convert:hover {\n",
       "      background-color: #E2EBFA;\n",
       "      box-shadow: 0px 1px 2px rgba(60, 64, 67, 0.3), 0px 1px 3px 1px rgba(60, 64, 67, 0.15);\n",
       "      fill: #174EA6;\n",
       "    }\n",
       "\n",
       "    [theme=dark] .colab-df-convert {\n",
       "      background-color: #3B4455;\n",
       "      fill: #D2E3FC;\n",
       "    }\n",
       "\n",
       "    [theme=dark] .colab-df-convert:hover {\n",
       "      background-color: #434B5C;\n",
       "      box-shadow: 0px 1px 3px 1px rgba(0, 0, 0, 0.15);\n",
       "      filter: drop-shadow(0px 1px 2px rgba(0, 0, 0, 0.3));\n",
       "      fill: #FFFFFF;\n",
       "    }\n",
       "  </style>\n",
       "\n",
       "      <script>\n",
       "        const buttonEl =\n",
       "          document.querySelector('#df-62377d1f-fc1a-40e9-b3c4-310ead68cf8c button.colab-df-convert');\n",
       "        buttonEl.style.display =\n",
       "          google.colab.kernel.accessAllowed ? 'block' : 'none';\n",
       "\n",
       "        async function convertToInteractive(key) {\n",
       "          const element = document.querySelector('#df-62377d1f-fc1a-40e9-b3c4-310ead68cf8c');\n",
       "          const dataTable =\n",
       "            await google.colab.kernel.invokeFunction('convertToInteractive',\n",
       "                                                     [key], {});\n",
       "          if (!dataTable) return;\n",
       "\n",
       "          const docLinkHtml = 'Like what you see? Visit the ' +\n",
       "            '<a target=\"_blank\" href=https://colab.research.google.com/notebooks/data_table.ipynb>data table notebook</a>'\n",
       "            + ' to learn more about interactive tables.';\n",
       "          element.innerHTML = '';\n",
       "          dataTable['output_type'] = 'display_data';\n",
       "          await google.colab.output.renderOutput(dataTable, element);\n",
       "          const docLink = document.createElement('div');\n",
       "          docLink.innerHTML = docLinkHtml;\n",
       "          element.appendChild(docLink);\n",
       "        }\n",
       "      </script>\n",
       "    </div>\n",
       "  </div>\n",
       "  "
      ],
      "text/plain": [
       "                                 MOVIES  YEAR  \\\n",
       "8396                     13 Reasons Why  2017   \n",
       "9459                               50M2  2021   \n",
       "8543                     A Suitable Boy  2020   \n",
       "8276                         After Life  2019   \n",
       "8044   Age of Samurai: Battle for Japan  2021   \n",
       "...                                 ...   ...   \n",
       "4075        Çok Filim Hareketler Bunlar  2010   \n",
       "1256             È stata la mano di Dio  2021   \n",
       "3298                            Òlòturé  2019   \n",
       "1106                           Órbita 9  2017   \n",
       "3534                Öldür Beni Sevgilim  2019   \n",
       "\n",
       "                                           GENRE  RATING  \\\n",
       "8396        Drama, Mystery, Thriller                   8   \n",
       "9459         Comedy, Drama, Thriller                   8   \n",
       "8543                  Drama, Romance                   6   \n",
       "8276                   Comedy, Drama                   9   \n",
       "8044  Documentary, Action, Adventure                   7   \n",
       "...                                          ...     ...   \n",
       "4075                          Comedy                   4   \n",
       "1256                           Drama                 NaN   \n",
       "3298                    Crime, Drama                   6   \n",
       "1106          Drama, Romance, Sci-Fi                   6   \n",
       "3534                 Comedy, Romance                   4   \n",
       "\n",
       "                                               ONE-LINE  VOTES  RunTime  \\\n",
       "8396  Strengthened by the struggles they've endured,...   2312       98   \n",
       "9459  A gift leads Yakup to suspect Shadow's identit...    124       64   \n",
       "8543  Lata makes a surprising decision about her fut...    121       58   \n",
       "8276  Grieving over another loss, Tony asks his frie...   2245       30   \n",
       "8044  A dying Hideyoshi appoints five regents to gov...    138       44   \n",
       "...                                                 ...    ...      ...   \n",
       "4075  Çok film hareketler bunlar They are a 2010 com...   4598      134   \n",
       "1256  Plot unknown. Set in Naples and said to be a v...    NaN      130   \n",
       "3298  A journalist goes undercover as a prostitute t...    705      106   \n",
       "1106  Helena is a young girl who spent all her life ...   7123       95   \n",
       "3534  Can the excitement of the national lottery sav...   1568      104   \n",
       "\n",
       "      Gross          Director  tiene_rating         Actor 1  \\\n",
       "8396    NaN      Brian Yorkey             1  Dylan Minnette   \n",
       "9459    NaN       Burak Aksak             1    Engin Öztürk   \n",
       "8543    NaN         Mira Nair             1  Ishaan Khattar   \n",
       "8276    NaN     Ricky Gervais             1   Ricky Gervais   \n",
       "8044    NaN     Stephen Scott             1   Hiro Kanagawa   \n",
       "...     ...               ...           ...             ...   \n",
       "4075    NaN      Ozan Açiktan             1    Gülsüm Alkan   \n",
       "1256    NaN  Paolo Sorrentino             0  Filippo Scotti   \n",
       "3298    NaN     Kenneth Gyang             1        Ada Ameh   \n",
       "1106    NaN    Hatem Khraiche             1      Clara Lago   \n",
       "3534    NaN      Senol Sönmez             1       Murat Boz   \n",
       "\n",
       "                   Actor 2                Actor 3                Actor 4  \n",
       "8396            Grace Saif      Christian Navarro             Alisha Boe  \n",
       "9459       Kürsat Alniaçik         Cengiz Bozkurt           Aybüke Pusat  \n",
       "8543    Jeevan Singh Rawat           Aamir Bashir          Shubham Saraf  \n",
       "8276            Tom Basden               Tony Way           Diane Morgan  \n",
       "8044          Hayate Masao            Hideaki Itô        Yohei Matsukado  \n",
       "...                    ...                    ...                    ...  \n",
       "4075       Ibrahim Büyükak          Emre Canpolat             Murat Eken  \n",
       "1256         Toni Servillo     Teresa Saponangelo         Marlon Joubert  \n",
       "3298           Beverly Osu    Blossom Chukwujekwu       Bukola Oladipupo  \n",
       "1106         Álex González           Andrés Parra            Belén Rueda  \n",
       "3534            Seda Bakan       Açelya Topaloglu    Özgür Emre Yildirim  \n",
       "\n",
       "[3723 rows x 14 columns]"
      ]
     },
     "execution_count": 386,
     "metadata": {},
     "output_type": "execute_result"
    }
   ],
   "source": [
    "df_act"
   ]
  },
  {
   "cell_type": "code",
   "execution_count": null,
   "metadata": {
    "id": "VRUHCmkBa_Q6"
   },
   "outputs": [],
   "source": [
    "df_act = df_act.melt(id_vars=['MOVIES', 'YEAR', 'GENRE', 'RATING', 'ONE-LINE', 'VOTES', 'RunTime',\n",
    "       'Gross', 'Director', \"tiene_rating\"])"
   ]
  },
  {
   "cell_type": "code",
   "execution_count": null,
   "metadata": {
    "colab": {
     "base_uri": "https://localhost:8080/",
     "height": 1000
    },
    "id": "ilUF1Trb-6Kn",
    "outputId": "c7a2a452-63ae-48a7-8264-1ed8fb7c592e"
   },
   "outputs": [
    {
     "data": {
      "text/html": [
       "\n",
       "  <div id=\"df-107f49d9-8599-4333-a5d0-1e7f4195151e\">\n",
       "    <div class=\"colab-df-container\">\n",
       "      <div>\n",
       "<style scoped>\n",
       "    .dataframe tbody tr th:only-of-type {\n",
       "        vertical-align: middle;\n",
       "    }\n",
       "\n",
       "    .dataframe tbody tr th {\n",
       "        vertical-align: top;\n",
       "    }\n",
       "\n",
       "    .dataframe thead th {\n",
       "        text-align: right;\n",
       "    }\n",
       "</style>\n",
       "<table border=\"1\" class=\"dataframe\">\n",
       "  <thead>\n",
       "    <tr style=\"text-align: right;\">\n",
       "      <th></th>\n",
       "      <th>MOVIES</th>\n",
       "      <th>YEAR</th>\n",
       "      <th>GENRE</th>\n",
       "      <th>RATING</th>\n",
       "      <th>ONE-LINE</th>\n",
       "      <th>VOTES</th>\n",
       "      <th>RunTime</th>\n",
       "      <th>Gross</th>\n",
       "      <th>Director</th>\n",
       "      <th>tiene_rating</th>\n",
       "      <th>variable</th>\n",
       "      <th>value</th>\n",
       "    </tr>\n",
       "  </thead>\n",
       "  <tbody>\n",
       "    <tr>\n",
       "      <th>0</th>\n",
       "      <td>13 Reasons Why</td>\n",
       "      <td>2017</td>\n",
       "      <td>Drama, Mystery, Thriller</td>\n",
       "      <td>8</td>\n",
       "      <td>Strengthened by the struggles they've endured,...</td>\n",
       "      <td>2312</td>\n",
       "      <td>98</td>\n",
       "      <td>NaN</td>\n",
       "      <td>Brian Yorkey</td>\n",
       "      <td>1</td>\n",
       "      <td>Actor 1</td>\n",
       "      <td>Dylan Minnette</td>\n",
       "    </tr>\n",
       "    <tr>\n",
       "      <th>1</th>\n",
       "      <td>50M2</td>\n",
       "      <td>2021</td>\n",
       "      <td>Comedy, Drama, Thriller</td>\n",
       "      <td>8</td>\n",
       "      <td>A gift leads Yakup to suspect Shadow's identit...</td>\n",
       "      <td>124</td>\n",
       "      <td>64</td>\n",
       "      <td>NaN</td>\n",
       "      <td>Burak Aksak</td>\n",
       "      <td>1</td>\n",
       "      <td>Actor 1</td>\n",
       "      <td>Engin Öztürk</td>\n",
       "    </tr>\n",
       "    <tr>\n",
       "      <th>2</th>\n",
       "      <td>A Suitable Boy</td>\n",
       "      <td>2020</td>\n",
       "      <td>Drama, Romance</td>\n",
       "      <td>6</td>\n",
       "      <td>Lata makes a surprising decision about her fut...</td>\n",
       "      <td>121</td>\n",
       "      <td>58</td>\n",
       "      <td>NaN</td>\n",
       "      <td>Mira Nair</td>\n",
       "      <td>1</td>\n",
       "      <td>Actor 1</td>\n",
       "      <td>Ishaan Khattar</td>\n",
       "    </tr>\n",
       "    <tr>\n",
       "      <th>3</th>\n",
       "      <td>After Life</td>\n",
       "      <td>2019</td>\n",
       "      <td>Comedy, Drama</td>\n",
       "      <td>9</td>\n",
       "      <td>Grieving over another loss, Tony asks his frie...</td>\n",
       "      <td>2245</td>\n",
       "      <td>30</td>\n",
       "      <td>NaN</td>\n",
       "      <td>Ricky Gervais</td>\n",
       "      <td>1</td>\n",
       "      <td>Actor 1</td>\n",
       "      <td>Ricky Gervais</td>\n",
       "    </tr>\n",
       "    <tr>\n",
       "      <th>4</th>\n",
       "      <td>Age of Samurai: Battle for Japan</td>\n",
       "      <td>2021</td>\n",
       "      <td>Documentary, Action, Adventure</td>\n",
       "      <td>7</td>\n",
       "      <td>A dying Hideyoshi appoints five regents to gov...</td>\n",
       "      <td>138</td>\n",
       "      <td>44</td>\n",
       "      <td>NaN</td>\n",
       "      <td>Stephen Scott</td>\n",
       "      <td>1</td>\n",
       "      <td>Actor 1</td>\n",
       "      <td>Hiro Kanagawa</td>\n",
       "    </tr>\n",
       "    <tr>\n",
       "      <th>...</th>\n",
       "      <td>...</td>\n",
       "      <td>...</td>\n",
       "      <td>...</td>\n",
       "      <td>...</td>\n",
       "      <td>...</td>\n",
       "      <td>...</td>\n",
       "      <td>...</td>\n",
       "      <td>...</td>\n",
       "      <td>...</td>\n",
       "      <td>...</td>\n",
       "      <td>...</td>\n",
       "      <td>...</td>\n",
       "    </tr>\n",
       "    <tr>\n",
       "      <th>14887</th>\n",
       "      <td>Çok Filim Hareketler Bunlar</td>\n",
       "      <td>2010</td>\n",
       "      <td>Comedy</td>\n",
       "      <td>4</td>\n",
       "      <td>Çok film hareketler bunlar They are a 2010 com...</td>\n",
       "      <td>4598</td>\n",
       "      <td>134</td>\n",
       "      <td>NaN</td>\n",
       "      <td>Ozan Açiktan</td>\n",
       "      <td>1</td>\n",
       "      <td>Actor 4</td>\n",
       "      <td>Murat Eken</td>\n",
       "    </tr>\n",
       "    <tr>\n",
       "      <th>14888</th>\n",
       "      <td>È stata la mano di Dio</td>\n",
       "      <td>2021</td>\n",
       "      <td>Drama</td>\n",
       "      <td>NaN</td>\n",
       "      <td>Plot unknown. Set in Naples and said to be a v...</td>\n",
       "      <td>NaN</td>\n",
       "      <td>130</td>\n",
       "      <td>NaN</td>\n",
       "      <td>Paolo Sorrentino</td>\n",
       "      <td>0</td>\n",
       "      <td>Actor 4</td>\n",
       "      <td>Marlon Joubert</td>\n",
       "    </tr>\n",
       "    <tr>\n",
       "      <th>14889</th>\n",
       "      <td>Òlòturé</td>\n",
       "      <td>2019</td>\n",
       "      <td>Crime, Drama</td>\n",
       "      <td>6</td>\n",
       "      <td>A journalist goes undercover as a prostitute t...</td>\n",
       "      <td>705</td>\n",
       "      <td>106</td>\n",
       "      <td>NaN</td>\n",
       "      <td>Kenneth Gyang</td>\n",
       "      <td>1</td>\n",
       "      <td>Actor 4</td>\n",
       "      <td>Bukola Oladipupo</td>\n",
       "    </tr>\n",
       "    <tr>\n",
       "      <th>14890</th>\n",
       "      <td>Órbita 9</td>\n",
       "      <td>2017</td>\n",
       "      <td>Drama, Romance, Sci-Fi</td>\n",
       "      <td>6</td>\n",
       "      <td>Helena is a young girl who spent all her life ...</td>\n",
       "      <td>7123</td>\n",
       "      <td>95</td>\n",
       "      <td>NaN</td>\n",
       "      <td>Hatem Khraiche</td>\n",
       "      <td>1</td>\n",
       "      <td>Actor 4</td>\n",
       "      <td>Belén Rueda</td>\n",
       "    </tr>\n",
       "    <tr>\n",
       "      <th>14891</th>\n",
       "      <td>Öldür Beni Sevgilim</td>\n",
       "      <td>2019</td>\n",
       "      <td>Comedy, Romance</td>\n",
       "      <td>4</td>\n",
       "      <td>Can the excitement of the national lottery sav...</td>\n",
       "      <td>1568</td>\n",
       "      <td>104</td>\n",
       "      <td>NaN</td>\n",
       "      <td>Senol Sönmez</td>\n",
       "      <td>1</td>\n",
       "      <td>Actor 4</td>\n",
       "      <td>Özgür Emre Yildirim</td>\n",
       "    </tr>\n",
       "  </tbody>\n",
       "</table>\n",
       "<p>14892 rows × 12 columns</p>\n",
       "</div>\n",
       "      <button class=\"colab-df-convert\" onclick=\"convertToInteractive('df-107f49d9-8599-4333-a5d0-1e7f4195151e')\"\n",
       "              title=\"Convert this dataframe to an interactive table.\"\n",
       "              style=\"display:none;\">\n",
       "        \n",
       "  <svg xmlns=\"http://www.w3.org/2000/svg\" height=\"24px\"viewBox=\"0 0 24 24\"\n",
       "       width=\"24px\">\n",
       "    <path d=\"M0 0h24v24H0V0z\" fill=\"none\"/>\n",
       "    <path d=\"M18.56 5.44l.94 2.06.94-2.06 2.06-.94-2.06-.94-.94-2.06-.94 2.06-2.06.94zm-11 1L8.5 8.5l.94-2.06 2.06-.94-2.06-.94L8.5 2.5l-.94 2.06-2.06.94zm10 10l.94 2.06.94-2.06 2.06-.94-2.06-.94-.94-2.06-.94 2.06-2.06.94z\"/><path d=\"M17.41 7.96l-1.37-1.37c-.4-.4-.92-.59-1.43-.59-.52 0-1.04.2-1.43.59L10.3 9.45l-7.72 7.72c-.78.78-.78 2.05 0 2.83L4 21.41c.39.39.9.59 1.41.59.51 0 1.02-.2 1.41-.59l7.78-7.78 2.81-2.81c.8-.78.8-2.07 0-2.86zM5.41 20L4 18.59l7.72-7.72 1.47 1.35L5.41 20z\"/>\n",
       "  </svg>\n",
       "      </button>\n",
       "      \n",
       "  <style>\n",
       "    .colab-df-container {\n",
       "      display:flex;\n",
       "      flex-wrap:wrap;\n",
       "      gap: 12px;\n",
       "    }\n",
       "\n",
       "    .colab-df-convert {\n",
       "      background-color: #E8F0FE;\n",
       "      border: none;\n",
       "      border-radius: 50%;\n",
       "      cursor: pointer;\n",
       "      display: none;\n",
       "      fill: #1967D2;\n",
       "      height: 32px;\n",
       "      padding: 0 0 0 0;\n",
       "      width: 32px;\n",
       "    }\n",
       "\n",
       "    .colab-df-convert:hover {\n",
       "      background-color: #E2EBFA;\n",
       "      box-shadow: 0px 1px 2px rgba(60, 64, 67, 0.3), 0px 1px 3px 1px rgba(60, 64, 67, 0.15);\n",
       "      fill: #174EA6;\n",
       "    }\n",
       "\n",
       "    [theme=dark] .colab-df-convert {\n",
       "      background-color: #3B4455;\n",
       "      fill: #D2E3FC;\n",
       "    }\n",
       "\n",
       "    [theme=dark] .colab-df-convert:hover {\n",
       "      background-color: #434B5C;\n",
       "      box-shadow: 0px 1px 3px 1px rgba(0, 0, 0, 0.15);\n",
       "      filter: drop-shadow(0px 1px 2px rgba(0, 0, 0, 0.3));\n",
       "      fill: #FFFFFF;\n",
       "    }\n",
       "  </style>\n",
       "\n",
       "      <script>\n",
       "        const buttonEl =\n",
       "          document.querySelector('#df-107f49d9-8599-4333-a5d0-1e7f4195151e button.colab-df-convert');\n",
       "        buttonEl.style.display =\n",
       "          google.colab.kernel.accessAllowed ? 'block' : 'none';\n",
       "\n",
       "        async function convertToInteractive(key) {\n",
       "          const element = document.querySelector('#df-107f49d9-8599-4333-a5d0-1e7f4195151e');\n",
       "          const dataTable =\n",
       "            await google.colab.kernel.invokeFunction('convertToInteractive',\n",
       "                                                     [key], {});\n",
       "          if (!dataTable) return;\n",
       "\n",
       "          const docLinkHtml = 'Like what you see? Visit the ' +\n",
       "            '<a target=\"_blank\" href=https://colab.research.google.com/notebooks/data_table.ipynb>data table notebook</a>'\n",
       "            + ' to learn more about interactive tables.';\n",
       "          element.innerHTML = '';\n",
       "          dataTable['output_type'] = 'display_data';\n",
       "          await google.colab.output.renderOutput(dataTable, element);\n",
       "          const docLink = document.createElement('div');\n",
       "          docLink.innerHTML = docLinkHtml;\n",
       "          element.appendChild(docLink);\n",
       "        }\n",
       "      </script>\n",
       "    </div>\n",
       "  </div>\n",
       "  "
      ],
      "text/plain": [
       "                                  MOVIES  YEAR  \\\n",
       "0                         13 Reasons Why  2017   \n",
       "1                                   50M2  2021   \n",
       "2                         A Suitable Boy  2020   \n",
       "3                             After Life  2019   \n",
       "4       Age of Samurai: Battle for Japan  2021   \n",
       "...                                  ...   ...   \n",
       "14887        Çok Filim Hareketler Bunlar  2010   \n",
       "14888             È stata la mano di Dio  2021   \n",
       "14889                            Òlòturé  2019   \n",
       "14890                           Órbita 9  2017   \n",
       "14891                Öldür Beni Sevgilim  2019   \n",
       "\n",
       "                                            GENRE  RATING  \\\n",
       "0            Drama, Mystery, Thriller                   8   \n",
       "1             Comedy, Drama, Thriller                   8   \n",
       "2                      Drama, Romance                   6   \n",
       "3                       Comedy, Drama                   9   \n",
       "4      Documentary, Action, Adventure                   7   \n",
       "...                                           ...     ...   \n",
       "14887                          Comedy                   4   \n",
       "14888                           Drama                 NaN   \n",
       "14889                    Crime, Drama                   6   \n",
       "14890          Drama, Romance, Sci-Fi                   6   \n",
       "14891                 Comedy, Romance                   4   \n",
       "\n",
       "                                                ONE-LINE  VOTES  RunTime  \\\n",
       "0      Strengthened by the struggles they've endured,...   2312       98   \n",
       "1      A gift leads Yakup to suspect Shadow's identit...    124       64   \n",
       "2      Lata makes a surprising decision about her fut...    121       58   \n",
       "3      Grieving over another loss, Tony asks his frie...   2245       30   \n",
       "4      A dying Hideyoshi appoints five regents to gov...    138       44   \n",
       "...                                                  ...    ...      ...   \n",
       "14887  Çok film hareketler bunlar They are a 2010 com...   4598      134   \n",
       "14888  Plot unknown. Set in Naples and said to be a v...    NaN      130   \n",
       "14889  A journalist goes undercover as a prostitute t...    705      106   \n",
       "14890  Helena is a young girl who spent all her life ...   7123       95   \n",
       "14891  Can the excitement of the national lottery sav...   1568      104   \n",
       "\n",
       "       Gross          Director  tiene_rating variable                  value  \n",
       "0        NaN      Brian Yorkey             1  Actor 1         Dylan Minnette  \n",
       "1        NaN       Burak Aksak             1  Actor 1           Engin Öztürk  \n",
       "2        NaN         Mira Nair             1  Actor 1         Ishaan Khattar  \n",
       "3        NaN     Ricky Gervais             1  Actor 1          Ricky Gervais  \n",
       "4        NaN     Stephen Scott             1  Actor 1          Hiro Kanagawa  \n",
       "...      ...               ...           ...      ...                    ...  \n",
       "14887    NaN      Ozan Açiktan             1  Actor 4             Murat Eken  \n",
       "14888    NaN  Paolo Sorrentino             0  Actor 4         Marlon Joubert  \n",
       "14889    NaN     Kenneth Gyang             1  Actor 4       Bukola Oladipupo  \n",
       "14890    NaN    Hatem Khraiche             1  Actor 4            Belén Rueda  \n",
       "14891    NaN      Senol Sönmez             1  Actor 4    Özgür Emre Yildirim  \n",
       "\n",
       "[14892 rows x 12 columns]"
      ]
     },
     "execution_count": 390,
     "metadata": {},
     "output_type": "execute_result"
    }
   ],
   "source": [
    "df_act"
   ]
  },
  {
   "cell_type": "code",
   "execution_count": null,
   "metadata": {
    "id": "lp2lFBKYcffy"
   },
   "outputs": [],
   "source": [
    "df_act=df_act.rename(columns={\"value\":\"Actor\"})"
   ]
  },
  {
   "cell_type": "code",
   "execution_count": null,
   "metadata": {
    "id": "U7i2Ludld_6E"
   },
   "outputs": [],
   "source": [
    "df_act[\"Actor\"]=df_act[\"Actor\"].str.strip()"
   ]
  },
  {
   "cell_type": "code",
   "execution_count": null,
   "metadata": {
    "colab": {
     "base_uri": "https://localhost:8080/"
    },
    "id": "J9riOjnmddMZ",
    "outputId": "81f8ef20-83e1-4774-b82d-07bc67974694"
   },
   "outputs": [
    {
     "data": {
      "text/plain": [
       "Jakob Eklund    18\n",
       "Adam Sandler    13\n",
       "Liam Neeson     11\n",
       "Mario Casas     10\n",
       "Bruce Willis    10\n",
       "Name: Actor, dtype: int64"
      ]
     },
     "execution_count": 393,
     "metadata": {},
     "output_type": "execute_result"
    }
   ],
   "source": [
    "df_act[\"Actor\"].value_counts().head()"
   ]
  },
  {
   "cell_type": "code",
   "execution_count": null,
   "metadata": {
    "colab": {
     "base_uri": "https://localhost:8080/"
    },
    "id": "PZwWOQdiZsO4",
    "outputId": "c1252295-ba63-4bbf-895c-59de0a51dddb"
   },
   "outputs": [
    {
     "data": {
      "text/plain": [
       "Actor\n",
       "Michaela Jill Murphy   9.90\n",
       "Zach Tyler             9.90\n",
       "Jack De Sena           9.90\n",
       "Aimee Carrero          9.70\n",
       "Sebastian Rudolph      9.70\n",
       "Name: RATING, dtype: float64"
      ]
     },
     "execution_count": 298,
     "metadata": {},
     "output_type": "execute_result"
    }
   ],
   "source": [
    "df_act.groupby(\"Actor\").mean()[\"RATING\"].sort_values(ascending=False).head()"
   ]
  },
  {
   "cell_type": "markdown",
   "metadata": {
    "id": "iHFdtE_XybxP"
   },
   "source": [
    "c) ¿Cuáles son las películas de drama mejor puntuadas?"
   ]
  },
  {
   "cell_type": "code",
   "execution_count": null,
   "metadata": {
    "id": "XG63zUYdeXrO"
   },
   "outputs": [],
   "source": [
    "df_gen = df"
   ]
  },
  {
   "cell_type": "code",
   "execution_count": null,
   "metadata": {
    "colab": {
     "base_uri": "https://localhost:8080/"
    },
    "id": "uVH1QzB9fLLD",
    "outputId": "42a59066-cc6c-45a5-9cd1-6a960300452a"
   },
   "outputs": [
    {
     "data": {
      "text/plain": [
       "Index(['MOVIES', 'YEAR', 'GENRE', 'RATING', 'ONE-LINE', 'VOTES', 'RunTime',\n",
       "       'Gross', 'Director', 'Stars', 'tiene_rating', 'Actor 1', 'Actor 2',\n",
       "       'Actor 3', 'Actor 4'],\n",
       "      dtype='object')"
      ]
     },
     "execution_count": 395,
     "metadata": {},
     "output_type": "execute_result"
    }
   ],
   "source": [
    "df.columns"
   ]
  },
  {
   "cell_type": "code",
   "execution_count": null,
   "metadata": {
    "id": "9emsrgHaengQ"
   },
   "outputs": [],
   "source": [
    "df_gen = df_gen[df_gen[\"GENRE\"].notna()]"
   ]
  },
  {
   "cell_type": "code",
   "execution_count": null,
   "metadata": {
    "id": "flArZ6rGe80t"
   },
   "outputs": [],
   "source": [
    "df_drama = df_gen[df_gen[\"GENRE\"].str.contains(\"Drama\")]"
   ]
  },
  {
   "cell_type": "code",
   "execution_count": null,
   "metadata": {
    "colab": {
     "base_uri": "https://localhost:8080/"
    },
    "id": "i9WJ10oNfQyp",
    "outputId": "6b5b5cac-38ce-47fb-8339-c6a0ade5575c"
   },
   "outputs": [
    {
     "data": {
      "text/plain": [
       "8767                  Dark\n",
       "7641       BoJack Horseman\n",
       "7792                  Anne\n",
       "7870     The Dragon Prince\n",
       "6915             Cobra Kai\n",
       "Name: MOVIES, dtype: object"
      ]
     },
     "execution_count": 398,
     "metadata": {},
     "output_type": "execute_result"
    }
   ],
   "source": [
    "df_drama.sort_values(\"RATING\", ascending=False).head()[\"MOVIES\"]"
   ]
  },
  {
   "cell_type": "markdown",
   "metadata": {
    "id": "MAXWY1O-9943"
   },
   "source": [
    "También podríamos separarlo con get_dummies()"
   ]
  },
  {
   "cell_type": "code",
   "execution_count": null,
   "metadata": {
    "id": "YH5aoYDc-Acn"
   },
   "outputs": [],
   "source": [
    "df_gen"
   ]
  },
  {
   "cell_type": "markdown",
   "metadata": {
    "id": "FERwfaVPPhtl"
   },
   "source": [
    "## Interpolación de series de tiempo."
   ]
  },
  {
   "cell_type": "markdown",
   "metadata": {
    "id": "aRaHMU-LzLs_"
   },
   "source": [
    "Veamos un ejemplo en el que queremos realizar interpolaciones para las series temporales, para así obtener nuevos puntos partiendo del conocimiento de un conjunto de puntos."
   ]
  },
  {
   "cell_type": "markdown",
   "metadata": {
    "id": "SapWIge5zoXh"
   },
   "source": [
    "Comparemos cuatro activos: acciones, bonos, oro y petróleo."
   ]
  },
  {
   "cell_type": "code",
   "execution_count": null,
   "metadata": {
    "colab": {
     "base_uri": "https://localhost:8080/"
    },
    "id": "T4kFF4FZzuOC",
    "outputId": "1e16e931-33ed-4a00-91b6-021f08f53642"
   },
   "outputs": [
    {
     "data": {
      "text/plain": [
       "('asset_classes.csv', <http.client.HTTPMessage at 0x7f1578627790>)"
      ]
     },
     "execution_count": 399,
     "metadata": {},
     "output_type": "execute_result"
    }
   ],
   "source": [
    "import pandas as pd\n",
    "import numpy as np\n",
    "import matplotlib.pyplot as plt\n",
    "\n",
    "filename = 'https://s3.amazonaws.com/assets.datacamp.com/production/course_4205/datasets/asset_classes.csv'\n",
    "import urllib.request\n",
    "urllib.request.urlretrieve(filename, \"asset_classes.csv\")"
   ]
  },
  {
   "cell_type": "code",
   "execution_count": null,
   "metadata": {
    "id": "GUUir6jowB5w"
   },
   "outputs": [],
   "source": [
    "prices = pd.read_csv('asset_classes.csv', parse_dates=['DATE'], index_col='DATE')"
   ]
  },
  {
   "cell_type": "code",
   "execution_count": null,
   "metadata": {
    "id": "qG7pvSL2y3sP"
   },
   "outputs": [],
   "source": [
    "prices=prices.astype(int)"
   ]
  },
  {
   "cell_type": "code",
   "execution_count": null,
   "metadata": {
    "id": "Q86HRIpGy3MN"
   },
   "outputs": [],
   "source": [
    "prices = prices.apply(lambda x: x.sample(frac=0.25))"
   ]
  },
  {
   "cell_type": "code",
   "execution_count": null,
   "metadata": {
    "colab": {
     "base_uri": "https://localhost:8080/",
     "height": 455
    },
    "id": "qXRfh5b-Ahqq",
    "outputId": "33437862-7700-48dc-f555-d3b364f20935"
   },
   "outputs": [
    {
     "data": {
      "text/html": [
       "\n",
       "  <div id=\"df-f76bee35-4661-405c-822d-95fad0a1bfc4\">\n",
       "    <div class=\"colab-df-container\">\n",
       "      <div>\n",
       "<style scoped>\n",
       "    .dataframe tbody tr th:only-of-type {\n",
       "        vertical-align: middle;\n",
       "    }\n",
       "\n",
       "    .dataframe tbody tr th {\n",
       "        vertical-align: top;\n",
       "    }\n",
       "\n",
       "    .dataframe thead th {\n",
       "        text-align: right;\n",
       "    }\n",
       "</style>\n",
       "<table border=\"1\" class=\"dataframe\">\n",
       "  <thead>\n",
       "    <tr style=\"text-align: right;\">\n",
       "      <th></th>\n",
       "      <th>SP500</th>\n",
       "      <th>Bonds</th>\n",
       "      <th>Gold</th>\n",
       "      <th>Oil</th>\n",
       "    </tr>\n",
       "    <tr>\n",
       "      <th>DATE</th>\n",
       "      <th></th>\n",
       "      <th></th>\n",
       "      <th></th>\n",
       "      <th></th>\n",
       "    </tr>\n",
       "  </thead>\n",
       "  <tbody>\n",
       "    <tr>\n",
       "      <th>2007-06-29</th>\n",
       "      <td>1503</td>\n",
       "      <td>NaN</td>\n",
       "      <td>NaN</td>\n",
       "      <td>NaN</td>\n",
       "    </tr>\n",
       "    <tr>\n",
       "      <th>2007-07-02</th>\n",
       "      <td>NaN</td>\n",
       "      <td>402</td>\n",
       "      <td>NaN</td>\n",
       "      <td>NaN</td>\n",
       "    </tr>\n",
       "    <tr>\n",
       "      <th>2007-07-03</th>\n",
       "      <td>NaN</td>\n",
       "      <td>402</td>\n",
       "      <td>NaN</td>\n",
       "      <td>NaN</td>\n",
       "    </tr>\n",
       "    <tr>\n",
       "      <th>2007-07-05</th>\n",
       "      <td>1525</td>\n",
       "      <td>NaN</td>\n",
       "      <td>NaN</td>\n",
       "      <td>NaN</td>\n",
       "    </tr>\n",
       "    <tr>\n",
       "      <th>2007-07-06</th>\n",
       "      <td>1530</td>\n",
       "      <td>NaN</td>\n",
       "      <td>NaN</td>\n",
       "      <td>NaN</td>\n",
       "    </tr>\n",
       "    <tr>\n",
       "      <th>...</th>\n",
       "      <td>...</td>\n",
       "      <td>...</td>\n",
       "      <td>...</td>\n",
       "      <td>...</td>\n",
       "    </tr>\n",
       "    <tr>\n",
       "      <th>2017-06-15</th>\n",
       "      <td>NaN</td>\n",
       "      <td>NaN</td>\n",
       "      <td>1260</td>\n",
       "      <td>44</td>\n",
       "    </tr>\n",
       "    <tr>\n",
       "      <th>2017-06-19</th>\n",
       "      <td>NaN</td>\n",
       "      <td>619</td>\n",
       "      <td>1251</td>\n",
       "      <td>44</td>\n",
       "    </tr>\n",
       "    <tr>\n",
       "      <th>2017-06-21</th>\n",
       "      <td>NaN</td>\n",
       "      <td>622</td>\n",
       "      <td>NaN</td>\n",
       "      <td>42</td>\n",
       "    </tr>\n",
       "    <tr>\n",
       "      <th>2017-06-22</th>\n",
       "      <td>NaN</td>\n",
       "      <td>NaN</td>\n",
       "      <td>1251</td>\n",
       "      <td>NaN</td>\n",
       "    </tr>\n",
       "    <tr>\n",
       "      <th>2017-06-23</th>\n",
       "      <td>2438</td>\n",
       "      <td>NaN</td>\n",
       "      <td>NaN</td>\n",
       "      <td>NaN</td>\n",
       "    </tr>\n",
       "  </tbody>\n",
       "</table>\n",
       "<p>1678 rows × 4 columns</p>\n",
       "</div>\n",
       "      <button class=\"colab-df-convert\" onclick=\"convertToInteractive('df-f76bee35-4661-405c-822d-95fad0a1bfc4')\"\n",
       "              title=\"Convert this dataframe to an interactive table.\"\n",
       "              style=\"display:none;\">\n",
       "        \n",
       "  <svg xmlns=\"http://www.w3.org/2000/svg\" height=\"24px\"viewBox=\"0 0 24 24\"\n",
       "       width=\"24px\">\n",
       "    <path d=\"M0 0h24v24H0V0z\" fill=\"none\"/>\n",
       "    <path d=\"M18.56 5.44l.94 2.06.94-2.06 2.06-.94-2.06-.94-.94-2.06-.94 2.06-2.06.94zm-11 1L8.5 8.5l.94-2.06 2.06-.94-2.06-.94L8.5 2.5l-.94 2.06-2.06.94zm10 10l.94 2.06.94-2.06 2.06-.94-2.06-.94-.94-2.06-.94 2.06-2.06.94z\"/><path d=\"M17.41 7.96l-1.37-1.37c-.4-.4-.92-.59-1.43-.59-.52 0-1.04.2-1.43.59L10.3 9.45l-7.72 7.72c-.78.78-.78 2.05 0 2.83L4 21.41c.39.39.9.59 1.41.59.51 0 1.02-.2 1.41-.59l7.78-7.78 2.81-2.81c.8-.78.8-2.07 0-2.86zM5.41 20L4 18.59l7.72-7.72 1.47 1.35L5.41 20z\"/>\n",
       "  </svg>\n",
       "      </button>\n",
       "      \n",
       "  <style>\n",
       "    .colab-df-container {\n",
       "      display:flex;\n",
       "      flex-wrap:wrap;\n",
       "      gap: 12px;\n",
       "    }\n",
       "\n",
       "    .colab-df-convert {\n",
       "      background-color: #E8F0FE;\n",
       "      border: none;\n",
       "      border-radius: 50%;\n",
       "      cursor: pointer;\n",
       "      display: none;\n",
       "      fill: #1967D2;\n",
       "      height: 32px;\n",
       "      padding: 0 0 0 0;\n",
       "      width: 32px;\n",
       "    }\n",
       "\n",
       "    .colab-df-convert:hover {\n",
       "      background-color: #E2EBFA;\n",
       "      box-shadow: 0px 1px 2px rgba(60, 64, 67, 0.3), 0px 1px 3px 1px rgba(60, 64, 67, 0.15);\n",
       "      fill: #174EA6;\n",
       "    }\n",
       "\n",
       "    [theme=dark] .colab-df-convert {\n",
       "      background-color: #3B4455;\n",
       "      fill: #D2E3FC;\n",
       "    }\n",
       "\n",
       "    [theme=dark] .colab-df-convert:hover {\n",
       "      background-color: #434B5C;\n",
       "      box-shadow: 0px 1px 3px 1px rgba(0, 0, 0, 0.15);\n",
       "      filter: drop-shadow(0px 1px 2px rgba(0, 0, 0, 0.3));\n",
       "      fill: #FFFFFF;\n",
       "    }\n",
       "  </style>\n",
       "\n",
       "      <script>\n",
       "        const buttonEl =\n",
       "          document.querySelector('#df-f76bee35-4661-405c-822d-95fad0a1bfc4 button.colab-df-convert');\n",
       "        buttonEl.style.display =\n",
       "          google.colab.kernel.accessAllowed ? 'block' : 'none';\n",
       "\n",
       "        async function convertToInteractive(key) {\n",
       "          const element = document.querySelector('#df-f76bee35-4661-405c-822d-95fad0a1bfc4');\n",
       "          const dataTable =\n",
       "            await google.colab.kernel.invokeFunction('convertToInteractive',\n",
       "                                                     [key], {});\n",
       "          if (!dataTable) return;\n",
       "\n",
       "          const docLinkHtml = 'Like what you see? Visit the ' +\n",
       "            '<a target=\"_blank\" href=https://colab.research.google.com/notebooks/data_table.ipynb>data table notebook</a>'\n",
       "            + ' to learn more about interactive tables.';\n",
       "          element.innerHTML = '';\n",
       "          dataTable['output_type'] = 'display_data';\n",
       "          await google.colab.output.renderOutput(dataTable, element);\n",
       "          const docLink = document.createElement('div');\n",
       "          docLink.innerHTML = docLinkHtml;\n",
       "          element.appendChild(docLink);\n",
       "        }\n",
       "      </script>\n",
       "    </div>\n",
       "  </div>\n",
       "  "
      ],
      "text/plain": [
       "            SP500  Bonds  Gold  Oil\n",
       "DATE                               \n",
       "2007-06-29   1503    NaN   NaN  NaN\n",
       "2007-07-02    NaN    402   NaN  NaN\n",
       "2007-07-03    NaN    402   NaN  NaN\n",
       "2007-07-05   1525    NaN   NaN  NaN\n",
       "2007-07-06   1530    NaN   NaN  NaN\n",
       "...           ...    ...   ...  ...\n",
       "2017-06-15    NaN    NaN  1260   44\n",
       "2017-06-19    NaN    619  1251   44\n",
       "2017-06-21    NaN    622   NaN   42\n",
       "2017-06-22    NaN    NaN  1251  NaN\n",
       "2017-06-23   2438    NaN   NaN  NaN\n",
       "\n",
       "[1678 rows x 4 columns]"
      ]
     },
     "execution_count": 404,
     "metadata": {},
     "output_type": "execute_result"
    }
   ],
   "source": [
    "prices"
   ]
  },
  {
   "cell_type": "code",
   "execution_count": null,
   "metadata": {
    "colab": {
     "base_uri": "https://localhost:8080/",
     "height": 455
    },
    "id": "ZFUQWwtTZkO6",
    "outputId": "026b2932-7601-4acc-e523-febe526a39e4"
   },
   "outputs": [
    {
     "data": {
      "text/html": [
       "\n",
       "  <div id=\"df-b53988d3-8c4c-438c-97f8-329fdc6b827d\">\n",
       "    <div class=\"colab-df-container\">\n",
       "      <div>\n",
       "<style scoped>\n",
       "    .dataframe tbody tr th:only-of-type {\n",
       "        vertical-align: middle;\n",
       "    }\n",
       "\n",
       "    .dataframe tbody tr th {\n",
       "        vertical-align: top;\n",
       "    }\n",
       "\n",
       "    .dataframe thead th {\n",
       "        text-align: right;\n",
       "    }\n",
       "</style>\n",
       "<table border=\"1\" class=\"dataframe\">\n",
       "  <thead>\n",
       "    <tr style=\"text-align: right;\">\n",
       "      <th></th>\n",
       "      <th>SP500</th>\n",
       "      <th>Bonds</th>\n",
       "      <th>Gold</th>\n",
       "      <th>Oil</th>\n",
       "    </tr>\n",
       "    <tr>\n",
       "      <th>DATE</th>\n",
       "      <th></th>\n",
       "      <th></th>\n",
       "      <th></th>\n",
       "      <th></th>\n",
       "    </tr>\n",
       "  </thead>\n",
       "  <tbody>\n",
       "    <tr>\n",
       "      <th>2007-07-02</th>\n",
       "      <td>1519</td>\n",
       "      <td>NaN</td>\n",
       "      <td>NaN</td>\n",
       "      <td>71</td>\n",
       "    </tr>\n",
       "    <tr>\n",
       "      <th>2007-07-03</th>\n",
       "      <td>NaN</td>\n",
       "      <td>NaN</td>\n",
       "      <td>NaN</td>\n",
       "      <td>71</td>\n",
       "    </tr>\n",
       "    <tr>\n",
       "      <th>2007-07-05</th>\n",
       "      <td>1525</td>\n",
       "      <td>NaN</td>\n",
       "      <td>NaN</td>\n",
       "      <td>NaN</td>\n",
       "    </tr>\n",
       "    <tr>\n",
       "      <th>2007-07-06</th>\n",
       "      <td>1530</td>\n",
       "      <td>399</td>\n",
       "      <td>NaN</td>\n",
       "      <td>72</td>\n",
       "    </tr>\n",
       "    <tr>\n",
       "      <th>2007-07-10</th>\n",
       "      <td>NaN</td>\n",
       "      <td>402</td>\n",
       "      <td>NaN</td>\n",
       "      <td>NaN</td>\n",
       "    </tr>\n",
       "    <tr>\n",
       "      <th>...</th>\n",
       "      <td>...</td>\n",
       "      <td>...</td>\n",
       "      <td>...</td>\n",
       "      <td>...</td>\n",
       "    </tr>\n",
       "    <tr>\n",
       "      <th>2017-06-20</th>\n",
       "      <td>NaN</td>\n",
       "      <td>621</td>\n",
       "      <td>1246</td>\n",
       "      <td>NaN</td>\n",
       "    </tr>\n",
       "    <tr>\n",
       "      <th>2017-06-21</th>\n",
       "      <td>2435</td>\n",
       "      <td>NaN</td>\n",
       "      <td>NaN</td>\n",
       "      <td>NaN</td>\n",
       "    </tr>\n",
       "    <tr>\n",
       "      <th>2017-06-22</th>\n",
       "      <td>2434</td>\n",
       "      <td>NaN</td>\n",
       "      <td>1251</td>\n",
       "      <td>42</td>\n",
       "    </tr>\n",
       "    <tr>\n",
       "      <th>2017-06-23</th>\n",
       "      <td>2438</td>\n",
       "      <td>NaN</td>\n",
       "      <td>NaN</td>\n",
       "      <td>NaN</td>\n",
       "    </tr>\n",
       "    <tr>\n",
       "      <th>2017-06-26</th>\n",
       "      <td>2439</td>\n",
       "      <td>NaN</td>\n",
       "      <td>NaN</td>\n",
       "      <td>NaN</td>\n",
       "    </tr>\n",
       "  </tbody>\n",
       "</table>\n",
       "<p>1687 rows × 4 columns</p>\n",
       "</div>\n",
       "      <button class=\"colab-df-convert\" onclick=\"convertToInteractive('df-b53988d3-8c4c-438c-97f8-329fdc6b827d')\"\n",
       "              title=\"Convert this dataframe to an interactive table.\"\n",
       "              style=\"display:none;\">\n",
       "        \n",
       "  <svg xmlns=\"http://www.w3.org/2000/svg\" height=\"24px\"viewBox=\"0 0 24 24\"\n",
       "       width=\"24px\">\n",
       "    <path d=\"M0 0h24v24H0V0z\" fill=\"none\"/>\n",
       "    <path d=\"M18.56 5.44l.94 2.06.94-2.06 2.06-.94-2.06-.94-.94-2.06-.94 2.06-2.06.94zm-11 1L8.5 8.5l.94-2.06 2.06-.94-2.06-.94L8.5 2.5l-.94 2.06-2.06.94zm10 10l.94 2.06.94-2.06 2.06-.94-2.06-.94-.94-2.06-.94 2.06-2.06.94z\"/><path d=\"M17.41 7.96l-1.37-1.37c-.4-.4-.92-.59-1.43-.59-.52 0-1.04.2-1.43.59L10.3 9.45l-7.72 7.72c-.78.78-.78 2.05 0 2.83L4 21.41c.39.39.9.59 1.41.59.51 0 1.02-.2 1.41-.59l7.78-7.78 2.81-2.81c.8-.78.8-2.07 0-2.86zM5.41 20L4 18.59l7.72-7.72 1.47 1.35L5.41 20z\"/>\n",
       "  </svg>\n",
       "      </button>\n",
       "      \n",
       "  <style>\n",
       "    .colab-df-container {\n",
       "      display:flex;\n",
       "      flex-wrap:wrap;\n",
       "      gap: 12px;\n",
       "    }\n",
       "\n",
       "    .colab-df-convert {\n",
       "      background-color: #E8F0FE;\n",
       "      border: none;\n",
       "      border-radius: 50%;\n",
       "      cursor: pointer;\n",
       "      display: none;\n",
       "      fill: #1967D2;\n",
       "      height: 32px;\n",
       "      padding: 0 0 0 0;\n",
       "      width: 32px;\n",
       "    }\n",
       "\n",
       "    .colab-df-convert:hover {\n",
       "      background-color: #E2EBFA;\n",
       "      box-shadow: 0px 1px 2px rgba(60, 64, 67, 0.3), 0px 1px 3px 1px rgba(60, 64, 67, 0.15);\n",
       "      fill: #174EA6;\n",
       "    }\n",
       "\n",
       "    [theme=dark] .colab-df-convert {\n",
       "      background-color: #3B4455;\n",
       "      fill: #D2E3FC;\n",
       "    }\n",
       "\n",
       "    [theme=dark] .colab-df-convert:hover {\n",
       "      background-color: #434B5C;\n",
       "      box-shadow: 0px 1px 3px 1px rgba(0, 0, 0, 0.15);\n",
       "      filter: drop-shadow(0px 1px 2px rgba(0, 0, 0, 0.3));\n",
       "      fill: #FFFFFF;\n",
       "    }\n",
       "  </style>\n",
       "\n",
       "      <script>\n",
       "        const buttonEl =\n",
       "          document.querySelector('#df-b53988d3-8c4c-438c-97f8-329fdc6b827d button.colab-df-convert');\n",
       "        buttonEl.style.display =\n",
       "          google.colab.kernel.accessAllowed ? 'block' : 'none';\n",
       "\n",
       "        async function convertToInteractive(key) {\n",
       "          const element = document.querySelector('#df-b53988d3-8c4c-438c-97f8-329fdc6b827d');\n",
       "          const dataTable =\n",
       "            await google.colab.kernel.invokeFunction('convertToInteractive',\n",
       "                                                     [key], {});\n",
       "          if (!dataTable) return;\n",
       "\n",
       "          const docLinkHtml = 'Like what you see? Visit the ' +\n",
       "            '<a target=\"_blank\" href=https://colab.research.google.com/notebooks/data_table.ipynb>data table notebook</a>'\n",
       "            + ' to learn more about interactive tables.';\n",
       "          element.innerHTML = '';\n",
       "          dataTable['output_type'] = 'display_data';\n",
       "          await google.colab.output.renderOutput(dataTable, element);\n",
       "          const docLink = document.createElement('div');\n",
       "          docLink.innerHTML = docLinkHtml;\n",
       "          element.appendChild(docLink);\n",
       "        }\n",
       "      </script>\n",
       "    </div>\n",
       "  </div>\n",
       "  "
      ],
      "text/plain": [
       "            SP500  Bonds  Gold  Oil\n",
       "DATE                               \n",
       "2007-07-02   1519    NaN   NaN   71\n",
       "2007-07-03    NaN    NaN   NaN   71\n",
       "2007-07-05   1525    NaN   NaN  NaN\n",
       "2007-07-06   1530    399   NaN   72\n",
       "2007-07-10    NaN    402   NaN  NaN\n",
       "...           ...    ...   ...  ...\n",
       "2017-06-20    NaN    621  1246  NaN\n",
       "2017-06-21   2435    NaN   NaN  NaN\n",
       "2017-06-22   2434    NaN  1251   42\n",
       "2017-06-23   2438    NaN   NaN  NaN\n",
       "2017-06-26   2439    NaN   NaN  NaN\n",
       "\n",
       "[1687 rows x 4 columns]"
      ]
     },
     "execution_count": 82,
     "metadata": {},
     "output_type": "execute_result"
    }
   ],
   "source": [
    "prices[prices.isna().any(axis=1)]"
   ]
  },
  {
   "cell_type": "code",
   "execution_count": null,
   "metadata": {
    "id": "PxgotGNtLAIR"
   },
   "outputs": [],
   "source": [
    "prices_16 = prices[prices.index.year==2016]"
   ]
  },
  {
   "cell_type": "code",
   "execution_count": null,
   "metadata": {
    "colab": {
     "base_uri": "https://localhost:8080/",
     "height": 569
    },
    "id": "vGTdL2vOXH_3",
    "outputId": "dd791a87-1f06-4cba-dc20-c6b73c5a6af8"
   },
   "outputs": [
    {
     "data": {
      "image/png": "[encoded data removed]",
      "text/plain": [
       "<Figure size 720x720 with 4 Axes>"
      ]
     },
     "metadata": {},
     "output_type": "display_data"
    }
   ],
   "source": [
    "ejes = prices_16.plot(marker='.', linestyle='None',figsize=(10,10),subplots=True)\n",
    "for eje in ejes:\n",
    "  eje.set_ylabel('Precio de los activos')\n"
   ]
  },
  {
   "cell_type": "markdown",
   "metadata": {
    "id": "J-RqPMhA9d3e"
   },
   "source": [
    "Podríamos imputar los datos con un fillna()"
   ]
  },
  {
   "cell_type": "code",
   "execution_count": null,
   "metadata": {
    "id": "IRcr4_t19h0z"
   },
   "outputs": [],
   "source": [
    "prices_b = prices.fillna(method='bfill')"
   ]
  },
  {
   "cell_type": "code",
   "execution_count": null,
   "metadata": {
    "colab": {
     "base_uri": "https://localhost:8080/",
     "height": 455
    },
    "id": "KOJZSbXzrtbj",
    "outputId": "044250ef-52b4-4611-83a4-b561d5447d96"
   },
   "outputs": [
    {
     "data": {
      "text/html": [
       "\n",
       "  <div id=\"df-7668c115-33b4-4757-8347-6fb3a2ffac67\">\n",
       "    <div class=\"colab-df-container\">\n",
       "      <div>\n",
       "<style scoped>\n",
       "    .dataframe tbody tr th:only-of-type {\n",
       "        vertical-align: middle;\n",
       "    }\n",
       "\n",
       "    .dataframe tbody tr th {\n",
       "        vertical-align: top;\n",
       "    }\n",
       "\n",
       "    .dataframe thead th {\n",
       "        text-align: right;\n",
       "    }\n",
       "</style>\n",
       "<table border=\"1\" class=\"dataframe\">\n",
       "  <thead>\n",
       "    <tr style=\"text-align: right;\">\n",
       "      <th></th>\n",
       "      <th>SP500</th>\n",
       "      <th>Bonds</th>\n",
       "      <th>Gold</th>\n",
       "      <th>Oil</th>\n",
       "    </tr>\n",
       "    <tr>\n",
       "      <th>DATE</th>\n",
       "      <th></th>\n",
       "      <th></th>\n",
       "      <th></th>\n",
       "      <th></th>\n",
       "    </tr>\n",
       "  </thead>\n",
       "  <tbody>\n",
       "    <tr>\n",
       "      <th>2007-06-29</th>\n",
       "      <td>1503</td>\n",
       "      <td>402</td>\n",
       "      <td>664</td>\n",
       "      <td>73</td>\n",
       "    </tr>\n",
       "    <tr>\n",
       "      <th>2007-07-02</th>\n",
       "      <td>1525</td>\n",
       "      <td>402</td>\n",
       "      <td>664</td>\n",
       "      <td>73</td>\n",
       "    </tr>\n",
       "    <tr>\n",
       "      <th>2007-07-03</th>\n",
       "      <td>1525</td>\n",
       "      <td>402</td>\n",
       "      <td>664</td>\n",
       "      <td>73</td>\n",
       "    </tr>\n",
       "    <tr>\n",
       "      <th>2007-07-05</th>\n",
       "      <td>1525</td>\n",
       "      <td>401</td>\n",
       "      <td>664</td>\n",
       "      <td>73</td>\n",
       "    </tr>\n",
       "    <tr>\n",
       "      <th>2007-07-06</th>\n",
       "      <td>1530</td>\n",
       "      <td>401</td>\n",
       "      <td>664</td>\n",
       "      <td>73</td>\n",
       "    </tr>\n",
       "    <tr>\n",
       "      <th>...</th>\n",
       "      <td>...</td>\n",
       "      <td>...</td>\n",
       "      <td>...</td>\n",
       "      <td>...</td>\n",
       "    </tr>\n",
       "    <tr>\n",
       "      <th>2017-06-15</th>\n",
       "      <td>2438</td>\n",
       "      <td>619</td>\n",
       "      <td>1260</td>\n",
       "      <td>44</td>\n",
       "    </tr>\n",
       "    <tr>\n",
       "      <th>2017-06-19</th>\n",
       "      <td>2438</td>\n",
       "      <td>619</td>\n",
       "      <td>1251</td>\n",
       "      <td>44</td>\n",
       "    </tr>\n",
       "    <tr>\n",
       "      <th>2017-06-21</th>\n",
       "      <td>2438</td>\n",
       "      <td>622</td>\n",
       "      <td>1251</td>\n",
       "      <td>42</td>\n",
       "    </tr>\n",
       "    <tr>\n",
       "      <th>2017-06-22</th>\n",
       "      <td>2438</td>\n",
       "      <td>NaN</td>\n",
       "      <td>1251</td>\n",
       "      <td>NaN</td>\n",
       "    </tr>\n",
       "    <tr>\n",
       "      <th>2017-06-23</th>\n",
       "      <td>2438</td>\n",
       "      <td>NaN</td>\n",
       "      <td>NaN</td>\n",
       "      <td>NaN</td>\n",
       "    </tr>\n",
       "  </tbody>\n",
       "</table>\n",
       "<p>1678 rows × 4 columns</p>\n",
       "</div>\n",
       "      <button class=\"colab-df-convert\" onclick=\"convertToInteractive('df-7668c115-33b4-4757-8347-6fb3a2ffac67')\"\n",
       "              title=\"Convert this dataframe to an interactive table.\"\n",
       "              style=\"display:none;\">\n",
       "        \n",
       "  <svg xmlns=\"http://www.w3.org/2000/svg\" height=\"24px\"viewBox=\"0 0 24 24\"\n",
       "       width=\"24px\">\n",
       "    <path d=\"M0 0h24v24H0V0z\" fill=\"none\"/>\n",
       "    <path d=\"M18.56 5.44l.94 2.06.94-2.06 2.06-.94-2.06-.94-.94-2.06-.94 2.06-2.06.94zm-11 1L8.5 8.5l.94-2.06 2.06-.94-2.06-.94L8.5 2.5l-.94 2.06-2.06.94zm10 10l.94 2.06.94-2.06 2.06-.94-2.06-.94-.94-2.06-.94 2.06-2.06.94z\"/><path d=\"M17.41 7.96l-1.37-1.37c-.4-.4-.92-.59-1.43-.59-.52 0-1.04.2-1.43.59L10.3 9.45l-7.72 7.72c-.78.78-.78 2.05 0 2.83L4 21.41c.39.39.9.59 1.41.59.51 0 1.02-.2 1.41-.59l7.78-7.78 2.81-2.81c.8-.78.8-2.07 0-2.86zM5.41 20L4 18.59l7.72-7.72 1.47 1.35L5.41 20z\"/>\n",
       "  </svg>\n",
       "      </button>\n",
       "      \n",
       "  <style>\n",
       "    .colab-df-container {\n",
       "      display:flex;\n",
       "      flex-wrap:wrap;\n",
       "      gap: 12px;\n",
       "    }\n",
       "\n",
       "    .colab-df-convert {\n",
       "      background-color: #E8F0FE;\n",
       "      border: none;\n",
       "      border-radius: 50%;\n",
       "      cursor: pointer;\n",
       "      display: none;\n",
       "      fill: #1967D2;\n",
       "      height: 32px;\n",
       "      padding: 0 0 0 0;\n",
       "      width: 32px;\n",
       "    }\n",
       "\n",
       "    .colab-df-convert:hover {\n",
       "      background-color: #E2EBFA;\n",
       "      box-shadow: 0px 1px 2px rgba(60, 64, 67, 0.3), 0px 1px 3px 1px rgba(60, 64, 67, 0.15);\n",
       "      fill: #174EA6;\n",
       "    }\n",
       "\n",
       "    [theme=dark] .colab-df-convert {\n",
       "      background-color: #3B4455;\n",
       "      fill: #D2E3FC;\n",
       "    }\n",
       "\n",
       "    [theme=dark] .colab-df-convert:hover {\n",
       "      background-color: #434B5C;\n",
       "      box-shadow: 0px 1px 3px 1px rgba(0, 0, 0, 0.15);\n",
       "      filter: drop-shadow(0px 1px 2px rgba(0, 0, 0, 0.3));\n",
       "      fill: #FFFFFF;\n",
       "    }\n",
       "  </style>\n",
       "\n",
       "      <script>\n",
       "        const buttonEl =\n",
       "          document.querySelector('#df-7668c115-33b4-4757-8347-6fb3a2ffac67 button.colab-df-convert');\n",
       "        buttonEl.style.display =\n",
       "          google.colab.kernel.accessAllowed ? 'block' : 'none';\n",
       "\n",
       "        async function convertToInteractive(key) {\n",
       "          const element = document.querySelector('#df-7668c115-33b4-4757-8347-6fb3a2ffac67');\n",
       "          const dataTable =\n",
       "            await google.colab.kernel.invokeFunction('convertToInteractive',\n",
       "                                                     [key], {});\n",
       "          if (!dataTable) return;\n",
       "\n",
       "          const docLinkHtml = 'Like what you see? Visit the ' +\n",
       "            '<a target=\"_blank\" href=https://colab.research.google.com/notebooks/data_table.ipynb>data table notebook</a>'\n",
       "            + ' to learn more about interactive tables.';\n",
       "          element.innerHTML = '';\n",
       "          dataTable['output_type'] = 'display_data';\n",
       "          await google.colab.output.renderOutput(dataTable, element);\n",
       "          const docLink = document.createElement('div');\n",
       "          docLink.innerHTML = docLinkHtml;\n",
       "          element.appendChild(docLink);\n",
       "        }\n",
       "      </script>\n",
       "    </div>\n",
       "  </div>\n",
       "  "
      ],
      "text/plain": [
       "            SP500  Bonds  Gold  Oil\n",
       "DATE                               \n",
       "2007-06-29   1503    402   664   73\n",
       "2007-07-02   1525    402   664   73\n",
       "2007-07-03   1525    402   664   73\n",
       "2007-07-05   1525    401   664   73\n",
       "2007-07-06   1530    401   664   73\n",
       "...           ...    ...   ...  ...\n",
       "2017-06-15   2438    619  1260   44\n",
       "2017-06-19   2438    619  1251   44\n",
       "2017-06-21   2438    622  1251   42\n",
       "2017-06-22   2438    NaN  1251  NaN\n",
       "2017-06-23   2438    NaN   NaN  NaN\n",
       "\n",
       "[1678 rows x 4 columns]"
      ]
     },
     "execution_count": 409,
     "metadata": {},
     "output_type": "execute_result"
    }
   ],
   "source": [
    "prices_b#.Gold.plot()"
   ]
  },
  {
   "cell_type": "code",
   "execution_count": null,
   "metadata": {
    "id": "p7fGTu94-91h"
   },
   "outputs": [],
   "source": [
    "import pandas as pd\n",
    "import matplotlib.pyplot as  plt\n",
    "from urllib.request import urlretrieve\n",
    "\n",
    "plt.style.use('seaborn')\n",
    "\n",
    "linear = prices_16.interpolate(method='linear')\n",
    "quadratic = prices_16.interpolate(method='quadratic')\n",
    "nearest = prices_16.interpolate(method='nearest')"
   ]
  },
  {
   "cell_type": "code",
   "execution_count": null,
   "metadata": {
    "colab": {
     "base_uri": "https://localhost:8080/",
     "height": 642
    },
    "id": "mBJijX9u-xqF",
    "outputId": "efcb70a7-c5ab-4307-ffd0-5b3bd4db541c"
   },
   "outputs": [
    {
     "data": {
      "image/png": "[encoded data removed]",
      "text/plain": [
       "<Figure size 2160x1440 with 3 Axes>"
      ]
     },
     "metadata": {},
     "output_type": "display_data"
    }
   ],
   "source": [
    "# Set nrows to 3 and ncols to 1\n",
    "fig, axes = plt.subplots(3, 1, figsize=(30, 20))\n",
    "\n",
    "# Create a dictionary of interpolations\n",
    "interpolations = {'Interpolación Lineal': linear, 'Interpolación Cuadrática': quadratic, \n",
    "                  'Interpolación Cercano': nearest}\n",
    "\n",
    "# Loop over axes and interpolations\n",
    "for ax, df_key in zip(axes, interpolations):\n",
    "  # Select and also set the title for a DataFrame\n",
    "  interpolations[df_key].Gold.plot(color='red', marker='o', \n",
    "                                 linestyle='dotted', ax=ax)\n",
    "  prices_16.Gold.plot(title=df_key + ' - Oro', marker='o', ax=ax)\n",
    "  \n",
    "plt.show()"
   ]
  },
  {
   "cell_type": "markdown",
   "metadata": {
    "id": "a4gDHCQS-3N-"
   },
   "source": [
    "## Ley de Humedales\n"
   ]
  },
  {
   "cell_type": "markdown",
   "metadata": {
    "id": "JHfPn45-bbhE"
   },
   "source": [
    "## Extracción de los datos Web\n",
    "Datos sobre legisladores y sus posturas frente a la Ley de Humedales. \n",
    "\n",
    "Gracias a https://activaelcongreso.ar por la data. \n",
    "\n",
    "Pasos para el scraping:\n",
    "- Identificar el tema a investigar\n",
    "- Identificar una fuente de datos (activaelcongreso.ar)\n",
    "- Dentro del sitio, ver dónde se renderizan los datos:\n",
    "https://activaelcongreso.ar/p/Ley_de_Humedales_Ya/politicos \n",
    "- Aplicar lo que se ve en la clase de APIs Ocultas (agregar link):\n",
    "  - Abrimos ChromeDevTools\n",
    "  - Vamos a la pestaña Network\n",
    "  - Identificamos (podemos usar el buscador) los requests que contienen la info\n",
    "  - Copiamos el request como cURL, y usamos algo como https://curlconverter.com/ para convertirlo a Python\n",
    "  - Identificamos la parte central del request, quitando los cookies y headers no esenciales\n",
    "\n",
    "Con eso podemos bajar los distintos jsons que necesitamos, y unirlos para armar la tabla con datos útiles."
   ]
  },
  {
   "cell_type": "code",
   "execution_count": 1,
   "metadata": {
    "colab": {
     "base_uri": "https://localhost:8080/"
    },
    "id": "wO9S2kkC-9f_",
    "outputId": "1036d12c-a984-4b18-f74e-2fc98efbae5e"
   },
   "outputs": [
    {
     "data": {
      "text/plain": [
       "[{'id': '2', 'nombre': 'Senadorxs'}, {'id': '3', 'nombre': 'Diputadxs'}]"
      ]
     },
     "execution_count": 1,
     "metadata": {},
     "output_type": "execute_result"
    }
   ],
   "source": [
    "# Bajamos datos encontrados en distintos requests\n",
    "\n",
    "import requests\n",
    "\n",
    "json_data = {\n",
    "    'type': 'TipoPolitico',\n",
    "    'action': 'get',\n",
    "    'params': {},\n",
    "}\n",
    "\n",
    "response = requests.post('https://activaelcongreso.ar/PHP/api.php', json=json_data)\n",
    "response.json()"
   ]
  },
  {
   "cell_type": "markdown",
   "metadata": {
    "id": "dhzhdrRK_Cuv"
   },
   "source": [
    "## Pydantic\n"
   ]
  },
  {
   "cell_type": "markdown",
   "metadata": {
    "id": "ejfz2A9qbj5s"
   },
   "source": [
    "Cuando armamos aplicaciones con distintos componentes, es útil ir más allá del **tipado dinámico** y definir los típos de datos y **esquemas** que esperamos. Definamos un primer ejemplo de juguete:"
   ]
  },
  {
   "cell_type": "code",
   "execution_count": 2,
   "metadata": {
    "id": "OVi8xQQI_EVb"
   },
   "outputs": [],
   "source": [
    "from typing import Optional\n",
    "from pydantic import BaseModel, Field\n",
    "\n",
    "class SuperDict(BaseModel):\n",
    "    '''\n",
    "    Field nos permite especificar caracteristicas del campo, como descripcion o restricciones.\n",
    "    Podemos dejar campos como opcionales con Optional.\n",
    "    '''\n",
    "\n",
    "    id: int = Field(ge=1)\n",
    "    nombre: str = Field(min_length=1, max_length=30)\n",
    "    altura: Optional[float] = Field(ge=0, le=300, description=\"Altura en cm.\")"
   ]
  },
  {
   "cell_type": "code",
   "execution_count": 3,
   "metadata": {
    "colab": {
     "base_uri": "https://localhost:8080/"
    },
    "id": "WT81BSug_EXd",
    "outputId": "6cdc52d1-a999-42b6-913f-3b46a34bd7df"
   },
   "outputs": [
    {
     "data": {
      "text/plain": [
       "SuperDict(id=1, nombre='Ernesto', altura=170.0)"
      ]
     },
     "execution_count": 3,
     "metadata": {},
     "output_type": "execute_result"
    }
   ],
   "source": [
    "SuperDict(id=1, nombre='Ernesto', altura=170.0)"
   ]
  },
  {
   "cell_type": "code",
   "execution_count": 4,
   "metadata": {
    "id": "dUxKKS8O__6u"
   },
   "outputs": [],
   "source": [
    "caso = {\"id\": 2, \"nombre\": \"\"}"
   ]
  },
  {
   "cell_type": "code",
   "execution_count": 6,
   "metadata": {
    "colab": {
     "base_uri": "https://localhost:8080/"
    },
    "id": "jrcgkDtY_3OY",
    "outputId": "a5ca2342-2f3d-4659-d17f-3e745702fdb5"
   },
   "outputs": [
    {
     "name": "stdout",
     "output_type": "stream",
     "text": [
      "1 validation error for SuperDict\n",
      "nombre\n",
      "  ensure this value has at least 1 characters (type=value_error.any_str.min_length; limit_value=1)\n"
     ]
    }
   ],
   "source": [
    "from pydantic import ValidationError\n",
    "\n",
    "try:\n",
    "    SuperDict(**caso)\n",
    "except ValidationError as e:\n",
    "    print(e)"
   ]
  },
  {
   "cell_type": "code",
   "execution_count": 7,
   "metadata": {
    "id": "BhkHPFEc_AO0"
   },
   "outputs": [],
   "source": [
    "# Info sobre los bloques\n",
    "json_data = {\n",
    "    'type': 'Bloque',\n",
    "    'action': 'get',\n",
    "    'params': {},\n",
    "}\n",
    "\n",
    "bloques = requests.post('https://activaelcongreso.ar/PHP/api.php', json=json_data).json()"
   ]
  },
  {
   "cell_type": "code",
   "execution_count": 8,
   "metadata": {
    "colab": {
     "base_uri": "https://localhost:8080/"
    },
    "collapsed": true,
    "id": "l1rkAqDt_hjs",
    "jupyter": {
     "outputs_hidden": true
    },
    "outputId": "1e1180e7-3cf3-4aac-fc91-56c08afd56b1",
    "tags": []
   },
   "outputs": [
    {
     "data": {
      "text/plain": [
       "[{'id': '4',\n",
       "  'foto': 'bloque-4.jpg',\n",
       "  'nombre': 'Frente de Todos',\n",
       "  'color': '4fc3f7'},\n",
       " {'id': '6', 'foto': 'bloque-6.jpg', 'nombre': 'PRO', 'color': 'fdd835'},\n",
       " {'id': '7',\n",
       "  'foto': 'bloque_default.jpg',\n",
       "  'nombre': 'Producción y Trabajo',\n",
       "  'color': '000000'},\n",
       " {'id': '9',\n",
       "  'foto': 'bloque_default.jpg',\n",
       "  'nombre': 'Unidad y Equidad por San Luis',\n",
       "  'color': '000000'},\n",
       " {'id': '11',\n",
       "  'foto': 'bloque-11.jpg',\n",
       "  'nombre': 'Unión Cívica Radical',\n",
       "  'color': 'b71c1c'},\n",
       " {'id': '12',\n",
       "  'foto': 'bloque-12.jpg',\n",
       "  'nombre': 'Partido por la Justicia Social',\n",
       "  'color': '01579b'},\n",
       " {'id': '13',\n",
       "  'foto': 'bloque-13.jpg',\n",
       "  'nombre': 'Justicialista',\n",
       "  'color': '0288d1'},\n",
       " {'id': '14',\n",
       "  'foto': 'bloque-14.jpg',\n",
       "  'nombre': 'Consenso Federal',\n",
       "  'color': '1a237e'},\n",
       " {'id': '18',\n",
       "  'foto': 'bloque-18.jpg',\n",
       "  'nombre': 'Córdoba Federal',\n",
       "  'color': '29b6f6'},\n",
       " {'id': '19',\n",
       "  'foto': 'bloque-19.jpg',\n",
       "  'nombre': 'Coalición Cívica',\n",
       "  'color': '01579b'},\n",
       " {'id': '21',\n",
       "  'foto': 'bloque-21.jpg',\n",
       "  'nombre': 'Frente Progresista Cívico y Social',\n",
       "  'color': 'ef6c00'},\n",
       " {'id': '23',\n",
       "  'foto': 'bloque-23.jpg',\n",
       "  'nombre': 'PTS - Frente de Izquierda',\n",
       "  'color': 'f44336'},\n",
       " {'id': '24',\n",
       "  'foto': 'bloque-24.jpg',\n",
       "  'nombre': 'Socialista',\n",
       "  'color': 'd32f2f'},\n",
       " {'id': '25',\n",
       "  'foto': 'bloque-25.jpg',\n",
       "  'nombre': 'Juntos Somos Rio Negro',\n",
       "  'color': '4caf50'},\n",
       " {'id': '26',\n",
       "  'foto': 'bloque-26.jpg',\n",
       "  'nombre': 'Frente de Izquierda y de los Trabajadores - Unidad',\n",
       "  'color': 'f44336'},\n",
       " {'id': '30',\n",
       "  'foto': 'bloque-30.jpg',\n",
       "  'nombre': 'Frente de la Concordia Misionero',\n",
       "  'color': '0d47a1'},\n",
       " {'id': '34',\n",
       "  'foto': 'bloque-34.jpg',\n",
       "  'nombre': 'Movimiento Popular Neuquino',\n",
       "  'color': '4fc3f7'},\n",
       " {'id': '36',\n",
       "  'foto': 'bloque_default.jpg',\n",
       "  'nombre': 'Acción Federal',\n",
       "  'color': '000000'},\n",
       " {'id': '37',\n",
       "  'foto': 'bloque_default.jpg',\n",
       "  'nombre': 'Frente Cívico y Social de Catamarca',\n",
       "  'color': 'ffb300'},\n",
       " {'id': '38',\n",
       "  'foto': 'bloque-38.jpg',\n",
       "  'nombre': 'Fuerza Cívica Riojana',\n",
       "  'color': 'aed581'},\n",
       " {'id': '39',\n",
       "  'foto': 'bloque-39.jpg',\n",
       "  'nombre': 'Avanzar San Luis',\n",
       "  'color': '00acc1'},\n",
       " {'id': '40',\n",
       "  'foto': 'bloque_default.jpg',\n",
       "  'nombre': 'Santa Fe Federal',\n",
       "  'color': '01579b'},\n",
       " {'id': '41',\n",
       "  'foto': 'bloque_default.jpg',\n",
       "  'nombre': 'Justicialista 8 de Octubre',\n",
       "  'color': '000000'},\n",
       " {'id': '43',\n",
       "  'foto': 'bloque_default.jpg',\n",
       "  'nombre': 'Misiones ',\n",
       "  'color': '90a4ae'},\n",
       " {'id': '44',\n",
       "  'foto': 'bloque_default.jpg',\n",
       "  'nombre': 'Unidad Federal para el Desarrollo',\n",
       "  'color': '000000'},\n",
       " {'id': '46',\n",
       "  'foto': 'bloque_default.jpg',\n",
       "  'nombre': 'Avanza Libertad',\n",
       "  'color': '000000'},\n",
       " {'id': '50',\n",
       "  'foto': 'bloque_default.jpg',\n",
       "  'nombre': 'Ahora Patria',\n",
       "  'color': '000000'},\n",
       " {'id': '51',\n",
       "  'foto': 'bloque_default.jpg',\n",
       "  'nombre': 'Identidad Bonaerense ',\n",
       "  'color': '000000'},\n",
       " {'id': '52',\n",
       "  'foto': 'bloque_default.jpg',\n",
       "  'nombre': 'Evolución Radical',\n",
       "  'color': '000000'},\n",
       " {'id': '53',\n",
       "  'foto': 'bloque_default.jpg',\n",
       "  'nombre': 'Encuentro Federal',\n",
       "  'color': '000000'},\n",
       " {'id': '54',\n",
       "  'foto': 'bloque_default.jpg',\n",
       "  'nombre': 'Creo',\n",
       "  'color': '000000'},\n",
       " {'id': '56',\n",
       "  'foto': 'bloque_default.jpg',\n",
       "  'nombre': 'Izquierda Socialista - Frente de Izquierda',\n",
       "  'color': '000000'},\n",
       " {'id': '57',\n",
       "  'foto': 'bloque_default.jpg',\n",
       "  'nombre': 'La Libertad Avanza',\n",
       "  'color': '000000'},\n",
       " {'id': '58',\n",
       "  'foto': 'bloque_default.jpg',\n",
       "  'nombre': 'Unidos por San Luis',\n",
       "  'color': '000000'},\n",
       " {'id': '60',\n",
       "  'foto': 'bloque_default.jpg',\n",
       "  'nombre': 'Partido Obrero - Frente de Izquierda y de los Trabajadores - Unidad',\n",
       "  'color': '000000'},\n",
       " {'id': '61',\n",
       "  'foto': 'bloque_default.jpg',\n",
       "  'nombre': 'PTS - Frente de Izquierda de Trabajadores - Unidad',\n",
       "  'color': '000000'},\n",
       " {'id': '63',\n",
       "  'foto': 'bloque_default.jpg',\n",
       "  'nombre': 'Republicanos Unidos ',\n",
       "  'color': '000000'},\n",
       " {'id': '64',\n",
       "  'foto': 'bloque_default.jpg',\n",
       "  'nombre': 'Sin Bloque',\n",
       "  'color': '757575'},\n",
       " {'id': '65',\n",
       "  'foto': 'bloque_default.jpg',\n",
       "  'nombre': 'Partido Obrero - Frente de Izquierda y de los Trabajadores - Unidad',\n",
       "  'color': '000000'},\n",
       " {'id': '68',\n",
       "  'foto': 'bloque_default.jpg',\n",
       "  'nombre': 'SER - Somos Energía para Renovar',\n",
       "  'color': '000000'},\n",
       " {'id': '70',\n",
       "  'foto': 'bloque_default.jpg',\n",
       "  'nombre': 'Unidad y Equidad Federal',\n",
       "  'color': '000000'}]"
      ]
     },
     "execution_count": 8,
     "metadata": {},
     "output_type": "execute_result"
    }
   ],
   "source": [
    "bloques"
   ]
  },
  {
   "cell_type": "markdown",
   "metadata": {
    "id": "yIt1TwFXGykE"
   },
   "source": [
    "Podemos validar el dato que esperamos con un esquema de pydantic."
   ]
  },
  {
   "cell_type": "markdown",
   "metadata": {
    "id": "RuRvA4vGbmfI"
   },
   "source": [
    "### Ejemplo Bloques"
   ]
  },
  {
   "cell_type": "code",
   "execution_count": 9,
   "metadata": {
    "id": "EkdVghJNGvEw"
   },
   "outputs": [],
   "source": [
    "class BloqueID(BaseModel):\n",
    "    id: int\n",
    "    foto: str\n",
    "    nombre: str\n",
    "    color: str"
   ]
  },
  {
   "cell_type": "code",
   "execution_count": 10,
   "metadata": {
    "colab": {
     "base_uri": "https://localhost:8080/"
    },
    "id": "816GAiodG2wt",
    "outputId": "3d533c86-8d21-4bc4-d5b2-51df98032d28"
   },
   "outputs": [
    {
     "data": {
      "text/plain": [
       "[BloqueID(id=4, foto='bloque-4.jpg', nombre='Frente de Todos', color='4fc3f7'),\n",
       " BloqueID(id=6, foto='bloque-6.jpg', nombre='PRO', color='fdd835'),\n",
       " BloqueID(id=7, foto='bloque_default.jpg', nombre='Producción y Trabajo', color='000000'),\n",
       " BloqueID(id=9, foto='bloque_default.jpg', nombre='Unidad y Equidad por San Luis', color='000000'),\n",
       " BloqueID(id=11, foto='bloque-11.jpg', nombre='Unión Cívica Radical', color='b71c1c')]"
      ]
     },
     "execution_count": 10,
     "metadata": {},
     "output_type": "execute_result"
    }
   ],
   "source": [
    "# Podemos validar todos los bloques que nos trajo la API\n",
    "[BloqueID(**b) for b in bloques][:5]"
   ]
  },
  {
   "cell_type": "markdown",
   "metadata": {
    "id": "9kSeHoHNG808"
   },
   "source": [
    "Podemos hacer validaciones personalizadas, como validar que el campo de  `foto` termine con `jpg` usando el **decorador `validator`**"
   ]
  },
  {
   "cell_type": "code",
   "execution_count": 11,
   "metadata": {
    "id": "idTOc8xCHCcS"
   },
   "outputs": [],
   "source": [
    "from pydantic import validator\n",
    "\n",
    "class BloqueID(BaseModel):\n",
    "    id: int\n",
    "    foto: str\n",
    "    nombre: str\n",
    "    color: str\n",
    "\n",
    "    @validator('foto')\n",
    "    def validate_photo(cls, v):\n",
    "        assert v.endswith('jpg'), 'No termina con JPG'\n",
    "        return v"
   ]
  },
  {
   "cell_type": "markdown",
   "metadata": {
    "id": "9uOiXpvCHGs9"
   },
   "source": [
    "O validar que el campo \"nombre\" pertenezca a una lista de nombres predefinidos"
   ]
  },
  {
   "cell_type": "code",
   "execution_count": 14,
   "metadata": {
    "id": "JOYlo4neFSPs"
   },
   "outputs": [],
   "source": [
    "from typing import List\n",
    "from enum import Enum\n",
    "\n",
    "class Bloque(Enum):\n",
    "    FRENTE_DE_TODOS = 'Frente de Todos'\n",
    "    PRO = 'PRO'\n",
    "    PRODUCCIÓN_Y_TRABAJO = 'Producción y Trabajo'\n",
    "    UNIDAD_Y_EQUIDAD_POR_SAN_LUIS = 'Unidad y Equidad por San Luis'\n",
    "    UNIÓN_CÍVICA_RADICAL = 'Unión Cívica Radical'\n",
    "    PARTIDO_POR_LA_JUSTICIA_SOCIAL = 'Partido por la Justicia Social'\n",
    "    JUSTICIALISTA = 'Justicialista'\n",
    "    CONSENSO_FEDERAL = 'Consenso Federal'\n",
    "    CÓRDOBA_FEDERAL = 'Córdoba Federal'\n",
    "    COALICIÓN_CÍVICA = 'Coalición Cívica'\n",
    "    FRENTE_PROGRESISTA_CÍVICO_Y_SOCIAL = 'Frente Progresista Cívico y Social'\n",
    "    PTS_FRENTE_DE_IZQUIERDA = 'PTS - Frente de Izquierda'\n",
    "    SOCIALISTA = 'Socialista'\n",
    "    JUNTOS_SOMOS_RIO_NEGRO = 'Juntos Somos Rio Negro'\n",
    "    FRENTE_DE_IZQUIERDA_Y_DE_LOS_TRABAJADORES = 'Frente de Izquierda y de los Trabajadores - Unidad'\n",
    "    FRENTE_DE_LA_CONCORDIA_MISIONERO = 'Frente de la Concordia Misionero'\n",
    "    MOVIMIENTO_POPULAR_NEUQUINO = 'Movimiento Popular Neuquino'\n",
    "    ACCION_FEDERAL = 'Acción Federal'\n",
    "    FRENTE_CÍVICO_Y_SOCIAL_DE_CATAMARCA = 'Frente Cívico y Social de Catamarca'\n",
    "    FUERZA_CÍVICA_RIOJANA = 'Fuerza Cívica Riojana'\n",
    "    AVANZAR_SAN_LUIS = 'Avanzar San Luis'\n",
    "    SANTA_FE_FEDERAL = 'Santa Fe Federal'\n",
    "    JUSTICIALISTA_8_DE_OCTUBRE = 'Justicialista 8 de Octubre'\n",
    "    MISIONES = 'Misiones '\n",
    "    UNIDAD_FEDERAL_PARA_EL_DESARROLLO = 'Unidad Federal para el Desarrollo'\n",
    "    AVANZA_LIBERTAD = 'Avanza Libertad'\n",
    "    AHORA_PATRIA = 'Ahora Patria'\n",
    "    IDENTIDAD_BONAERENSE_ = 'Identidad Bonaerense '\n",
    "    EVOLUCIÓN_RADICAL = 'Evolución Radical'\n",
    "    ENCUENTRO_FEDERAL = 'Encuentro Federal'\n",
    "    CREO = 'Creo'\n",
    "    IZQUIERDA_SOCIALISTA_FRENTE_DE_IZQUIERDA = 'Izquierda Socialista - Frente de Izquierda'\n",
    "    LA_LIBERTAD_AVANZA = 'La Libertad Avanza'\n",
    "    UNIDOS_POR_SAN_LUIS = 'Unidos por San Luis'\n",
    "    PARTIDO_OBRERO_FRENTE_DE_IZQUIERDA_Y_DE_LOS_TRABAJADORES_UNIDAD = 'Partido Obrero - Frente de Izquierda y de los Trabajadores - Unidad'\n",
    "    PTS_FRENTE_DE_IZQUIERDA_DE_TRABAJADORES_UNIDAD = 'PTS - Frente de Izquierda de Trabajadores - Unidad'\n",
    "    REPUBLICANOS_UNIDOS_ = 'Republicanos Unidos '\n",
    "    SIN_BLOQUE = 'Sin Bloque'\n",
    "    SER_SOMOS_ENERGÍA_PARA_RENOVAR = 'SER - Somos Energía para Renovar'\n",
    "    UNIDAD_Y_EQUIDAD_FEDERAL = 'Unidad y Equidad Federal'"
   ]
  },
  {
   "cell_type": "markdown",
   "metadata": {
    "id": "kxqYZOTBbpmN"
   },
   "source": [
    "### Ejemplo con Enum"
   ]
  },
  {
   "cell_type": "code",
   "execution_count": 15,
   "metadata": {
    "id": "JtURgW4R_B4q"
   },
   "outputs": [],
   "source": [
    "from pydantic import validator\n",
    "\n",
    "class BloqueID(BaseModel):\n",
    "    id: int\n",
    "    foto: str\n",
    "    # Bloque ahora solo puede ser alguno de los valores de arriba\n",
    "    nombre: Bloque\n",
    "    color: str\n",
    "\n",
    "    @validator('foto')\n",
    "    def validate_photo(cls, v):\n",
    "      assert v.endswith('jpg'), 'No termina con JPG'\n",
    "      return v"
   ]
  },
  {
   "cell_type": "code",
   "execution_count": 16,
   "metadata": {
    "colab": {
     "base_uri": "https://localhost:8080/"
    },
    "id": "-qLqcrZXEYol",
    "outputId": "72f43d58-6e33-41c3-fc71-7a96070003c4"
   },
   "outputs": [
    {
     "data": {
      "text/plain": [
       "BloqueID(id=4, foto='bloque-4.jpg', nombre=<Bloque.FRENTE_DE_TODOS: 'Frente de Todos'>, color='4fc3f7')"
      ]
     },
     "execution_count": 16,
     "metadata": {},
     "output_type": "execute_result"
    }
   ],
   "source": [
    "BloqueID(**bloques[0])"
   ]
  },
  {
   "cell_type": "code",
   "execution_count": 17,
   "metadata": {
    "id": "GFVGXr1JGqps"
   },
   "outputs": [],
   "source": [
    "bloque = {'id': '4',\n",
    "          'foto': 'bloque-4.jpg',\n",
    "          'nombre':'Frente de Algunos',\n",
    "          'color': '4fc3f7'}"
   ]
  },
  {
   "cell_type": "code",
   "execution_count": 18,
   "metadata": {
    "colab": {
     "base_uri": "https://localhost:8080/",
     "height": 472
    },
    "id": "MTDHZQzQHWi1",
    "outputId": "ec16ea1b-2e02-41de-bed5-171b3089ad75"
   },
   "outputs": [
    {
     "ename": "ValidationError",
     "evalue": "1 validation error for BloqueID\nnombre\n  value is not a valid enumeration member; permitted: 'Frente de Todos', 'PRO', 'Producción y Trabajo', 'Unidad y Equidad por San Luis', 'Unión Cívica Radical', 'Partido por la Justicia Social', 'Justicialista', 'Consenso Federal', 'Córdoba Federal', 'Coalición Cívica', 'Frente Progresista Cívico y Social', 'PTS - Frente de Izquierda', 'Socialista', 'Juntos Somos Rio Negro', 'Frente de Izquierda y de los Trabajadores - Unidad', 'Frente de la Concordia Misionero', 'Movimiento Popular Neuquino', 'Acción Federal', 'Frente Cívico y Social de Catamarca', 'Fuerza Cívica Riojana', 'Avanzar San Luis', 'Santa Fe Federal', 'Justicialista 8 de Octubre', 'Misiones ', 'Unidad Federal para el Desarrollo', 'Avanza Libertad', 'Ahora Patria', 'Identidad Bonaerense ', 'Evolución Radical', 'Encuentro Federal', 'Creo', 'Izquierda Socialista - Frente de Izquierda', 'La Libertad Avanza', 'Unidos por San Luis', 'Partido Obrero - Frente de Izquierda y de los Trabajadores - Unidad', 'PTS - Frente de Izquierda de Trabajadores - Unidad', 'Republicanos Unidos ', 'Sin Bloque', 'SER - Somos Energía para Renovar', 'Unidad y Equidad Federal' (type=type_error.enum; enum_values=[<Bloque.FRENTE_DE_TODOS: 'Frente de Todos'>, <Bloque.PRO: 'PRO'>, <Bloque.PRODUCCIÓN_Y_TRABAJO: 'Producción y Trabajo'>, <Bloque.UNIDAD_Y_EQUIDAD_POR_SAN_LUIS: 'Unidad y Equidad por San Luis'>, <Bloque.UNIÓN_CÍVICA_RADICAL: 'Unión Cívica Radical'>, <Bloque.PARTIDO_POR_LA_JUSTICIA_SOCIAL: 'Partido por la Justicia Social'>, <Bloque.JUSTICIALISTA: 'Justicialista'>, <Bloque.CONSENSO_FEDERAL: 'Consenso Federal'>, <Bloque.CÓRDOBA_FEDERAL: 'Córdoba Federal'>, <Bloque.COALICIÓN_CÍVICA: 'Coalición Cívica'>, <Bloque.FRENTE_PROGRESISTA_CÍVICO_Y_SOCIAL: 'Frente Progresista Cívico y Social'>, <Bloque.PTS_FRENTE_DE_IZQUIERDA: 'PTS - Frente de Izquierda'>, <Bloque.SOCIALISTA: 'Socialista'>, <Bloque.JUNTOS_SOMOS_RIO_NEGRO: 'Juntos Somos Rio Negro'>, <Bloque.FRENTE_DE_IZQUIERDA_Y_DE_LOS_TRABAJADORES: 'Frente de Izquierda y de los Trabajadores - Unidad'>, <Bloque.FRENTE_DE_LA_CONCORDIA_MISIONERO: 'Frente de la Concordia Misionero'>, <Bloque.MOVIMIENTO_POPULAR_NEUQUINO: 'Movimiento Popular Neuquino'>, <Bloque.ACCION_FEDERAL: 'Acción Federal'>, <Bloque.FRENTE_CÍVICO_Y_SOCIAL_DE_CATAMARCA: 'Frente Cívico y Social de Catamarca'>, <Bloque.FUERZA_CÍVICA_RIOJANA: 'Fuerza Cívica Riojana'>, <Bloque.AVANZAR_SAN_LUIS: 'Avanzar San Luis'>, <Bloque.SANTA_FE_FEDERAL: 'Santa Fe Federal'>, <Bloque.JUSTICIALISTA_8_DE_OCTUBRE: 'Justicialista 8 de Octubre'>, <Bloque.MISIONES: 'Misiones '>, <Bloque.UNIDAD_FEDERAL_PARA_EL_DESARROLLO: 'Unidad Federal para el Desarrollo'>, <Bloque.AVANZA_LIBERTAD: 'Avanza Libertad'>, <Bloque.AHORA_PATRIA: 'Ahora Patria'>, <Bloque.IDENTIDAD_BONAERENSE_: 'Identidad Bonaerense '>, <Bloque.EVOLUCIÓN_RADICAL: 'Evolución Radical'>, <Bloque.ENCUENTRO_FEDERAL: 'Encuentro Federal'>, <Bloque.CREO: 'Creo'>, <Bloque.IZQUIERDA_SOCIALISTA_FRENTE_DE_IZQUIERDA: 'Izquierda Socialista - Frente de Izquierda'>, <Bloque.LA_LIBERTAD_AVANZA: 'La Libertad Avanza'>, <Bloque.UNIDOS_POR_SAN_LUIS: 'Unidos por San Luis'>, <Bloque.PARTIDO_OBRERO_FRENTE_DE_IZQUIERDA_Y_DE_LOS_TRABAJADORES_UNIDAD: 'Partido Obrero - Frente de Izquierda y de los Trabajadores - Unidad'>, <Bloque.PTS_FRENTE_DE_IZQUIERDA_DE_TRABAJADORES_UNIDAD: 'PTS - Frente de Izquierda de Trabajadores - Unidad'>, <Bloque.REPUBLICANOS_UNIDOS_: 'Republicanos Unidos '>, <Bloque.SIN_BLOQUE: 'Sin Bloque'>, <Bloque.SER_SOMOS_ENERGÍA_PARA_RENOVAR: 'SER - Somos Energía para Renovar'>, <Bloque.UNIDAD_Y_EQUIDAD_FEDERAL: 'Unidad y Equidad Federal'>])",
     "output_type": "error",
     "traceback": [
      "\u001b[0;31m---------------------------------------------------------------------------\u001b[0m",
      "\u001b[0;31mValidationError\u001b[0m                           Traceback (most recent call last)",
      "Cell \u001b[0;32mIn[18], line 1\u001b[0m\n\u001b[0;32m----> 1\u001b[0m \u001b[43mBloqueID\u001b[49m\u001b[43m(\u001b[49m\u001b[38;5;241;43m*\u001b[39;49m\u001b[38;5;241;43m*\u001b[39;49m\u001b[43mbloque\u001b[49m\u001b[43m)\u001b[49m\n",
      "File \u001b[0;32m~/anaconda3/lib/python3.10/site-packages/pydantic/main.py:341\u001b[0m, in \u001b[0;36mpydantic.main.BaseModel.__init__\u001b[0;34m()\u001b[0m\n",
      "\u001b[0;31mValidationError\u001b[0m: 1 validation error for BloqueID\nnombre\n  value is not a valid enumeration member; permitted: 'Frente de Todos', 'PRO', 'Producción y Trabajo', 'Unidad y Equidad por San Luis', 'Unión Cívica Radical', 'Partido por la Justicia Social', 'Justicialista', 'Consenso Federal', 'Córdoba Federal', 'Coalición Cívica', 'Frente Progresista Cívico y Social', 'PTS - Frente de Izquierda', 'Socialista', 'Juntos Somos Rio Negro', 'Frente de Izquierda y de los Trabajadores - Unidad', 'Frente de la Concordia Misionero', 'Movimiento Popular Neuquino', 'Acción Federal', 'Frente Cívico y Social de Catamarca', 'Fuerza Cívica Riojana', 'Avanzar San Luis', 'Santa Fe Federal', 'Justicialista 8 de Octubre', 'Misiones ', 'Unidad Federal para el Desarrollo', 'Avanza Libertad', 'Ahora Patria', 'Identidad Bonaerense ', 'Evolución Radical', 'Encuentro Federal', 'Creo', 'Izquierda Socialista - Frente de Izquierda', 'La Libertad Avanza', 'Unidos por San Luis', 'Partido Obrero - Frente de Izquierda y de los Trabajadores - Unidad', 'PTS - Frente de Izquierda de Trabajadores - Unidad', 'Republicanos Unidos ', 'Sin Bloque', 'SER - Somos Energía para Renovar', 'Unidad y Equidad Federal' (type=type_error.enum; enum_values=[<Bloque.FRENTE_DE_TODOS: 'Frente de Todos'>, <Bloque.PRO: 'PRO'>, <Bloque.PRODUCCIÓN_Y_TRABAJO: 'Producción y Trabajo'>, <Bloque.UNIDAD_Y_EQUIDAD_POR_SAN_LUIS: 'Unidad y Equidad por San Luis'>, <Bloque.UNIÓN_CÍVICA_RADICAL: 'Unión Cívica Radical'>, <Bloque.PARTIDO_POR_LA_JUSTICIA_SOCIAL: 'Partido por la Justicia Social'>, <Bloque.JUSTICIALISTA: 'Justicialista'>, <Bloque.CONSENSO_FEDERAL: 'Consenso Federal'>, <Bloque.CÓRDOBA_FEDERAL: 'Córdoba Federal'>, <Bloque.COALICIÓN_CÍVICA: 'Coalición Cívica'>, <Bloque.FRENTE_PROGRESISTA_CÍVICO_Y_SOCIAL: 'Frente Progresista Cívico y Social'>, <Bloque.PTS_FRENTE_DE_IZQUIERDA: 'PTS - Frente de Izquierda'>, <Bloque.SOCIALISTA: 'Socialista'>, <Bloque.JUNTOS_SOMOS_RIO_NEGRO: 'Juntos Somos Rio Negro'>, <Bloque.FRENTE_DE_IZQUIERDA_Y_DE_LOS_TRABAJADORES: 'Frente de Izquierda y de los Trabajadores - Unidad'>, <Bloque.FRENTE_DE_LA_CONCORDIA_MISIONERO: 'Frente de la Concordia Misionero'>, <Bloque.MOVIMIENTO_POPULAR_NEUQUINO: 'Movimiento Popular Neuquino'>, <Bloque.ACCION_FEDERAL: 'Acción Federal'>, <Bloque.FRENTE_CÍVICO_Y_SOCIAL_DE_CATAMARCA: 'Frente Cívico y Social de Catamarca'>, <Bloque.FUERZA_CÍVICA_RIOJANA: 'Fuerza Cívica Riojana'>, <Bloque.AVANZAR_SAN_LUIS: 'Avanzar San Luis'>, <Bloque.SANTA_FE_FEDERAL: 'Santa Fe Federal'>, <Bloque.JUSTICIALISTA_8_DE_OCTUBRE: 'Justicialista 8 de Octubre'>, <Bloque.MISIONES: 'Misiones '>, <Bloque.UNIDAD_FEDERAL_PARA_EL_DESARROLLO: 'Unidad Federal para el Desarrollo'>, <Bloque.AVANZA_LIBERTAD: 'Avanza Libertad'>, <Bloque.AHORA_PATRIA: 'Ahora Patria'>, <Bloque.IDENTIDAD_BONAERENSE_: 'Identidad Bonaerense '>, <Bloque.EVOLUCIÓN_RADICAL: 'Evolución Radical'>, <Bloque.ENCUENTRO_FEDERAL: 'Encuentro Federal'>, <Bloque.CREO: 'Creo'>, <Bloque.IZQUIERDA_SOCIALISTA_FRENTE_DE_IZQUIERDA: 'Izquierda Socialista - Frente de Izquierda'>, <Bloque.LA_LIBERTAD_AVANZA: 'La Libertad Avanza'>, <Bloque.UNIDOS_POR_SAN_LUIS: 'Unidos por San Luis'>, <Bloque.PARTIDO_OBRERO_FRENTE_DE_IZQUIERDA_Y_DE_LOS_TRABAJADORES_UNIDAD: 'Partido Obrero - Frente de Izquierda y de los Trabajadores - Unidad'>, <Bloque.PTS_FRENTE_DE_IZQUIERDA_DE_TRABAJADORES_UNIDAD: 'PTS - Frente de Izquierda de Trabajadores - Unidad'>, <Bloque.REPUBLICANOS_UNIDOS_: 'Republicanos Unidos '>, <Bloque.SIN_BLOQUE: 'Sin Bloque'>, <Bloque.SER_SOMOS_ENERGÍA_PARA_RENOVAR: 'SER - Somos Energía para Renovar'>, <Bloque.UNIDAD_Y_EQUIDAD_FEDERAL: 'Unidad y Equidad Federal'>])"
     ]
    }
   ],
   "source": [
    "BloqueID(**bloque)"
   ]
  },
  {
   "cell_type": "markdown",
   "metadata": {
    "id": "9TdXl5FsHcxG"
   },
   "source": [
    "¿Cómo podemos hacer para normalizar y reparar casos como este? Veremos cómo hacerlo con **búsqueda difusa de strings**"
   ]
  },
  {
   "cell_type": "markdown",
   "metadata": {
    "id": "dctDgKVGJPok"
   },
   "source": [
    "### Ejercicio Pydantic\n",
    "\n",
    "1. Crear un esquema de PyDantic que valide el siguiente JSON de `Politico`. \n",
    "2. Crear otro esquema para `Sexo` que valide que el número en ese campo sea uno de los dos permitidos (0,1). Hacer que `Politico` tenga un campo `Sexo`.\n",
    "3. Agregar validación para la fecha de nacimiento y para el mail (se podría pensar una validación usando REGEX para el mail)"
   ]
  },
  {
   "cell_type": "code",
   "execution_count": 19,
   "metadata": {
    "id": "Qq4wjXDuJKgA"
   },
   "outputs": [],
   "source": [
    "# Info de políticos\n",
    "json_data = {\n",
    "    'type': 'Politico',\n",
    "    'action': 'get',\n",
    "    'params': {},\n",
    "}\n",
    "\n",
    "politicos = requests.post('https://activaelcongreso.ar/PHP/api.php', json=json_data).json()"
   ]
  },
  {
   "cell_type": "code",
   "execution_count": 20,
   "metadata": {
    "colab": {
     "base_uri": "https://localhost:8080/"
    },
    "id": "BjCuDtUfJNGp",
    "outputId": "02e61760-2bf7-4424-f371-3f1e26dfceb6"
   },
   "outputs": [
    {
     "data": {
      "text/plain": [
       "{'id': '627',\n",
       " 'nombre': 'Ana Claudia',\n",
       " 'apellido': 'Almirón',\n",
       " 'foto': 'politico_default.jpg',\n",
       " 'tipo': '2',\n",
       " 'bloque': '4',\n",
       " 'sexo': '0',\n",
       " 'estadoCivil': '0',\n",
       " 'fechaNacimiento': '2020-09-08',\n",
       " 'religion': '0',\n",
       " 'provincia': '6',\n",
       " 'localidad': '0',\n",
       " 'telefono': '(+54 11) 28223000',\n",
       " 'telefonoInterno': '1026/22',\n",
       " 'email': 'ana.almiron@senado.gob.ar',\n",
       " 'twitter': 'AnitaAlmiron',\n",
       " 'facebook': 'anaalmironcorrientes',\n",
       " 'instagram': 'anaalmironcorrientes',\n",
       " 'eliminado': '0',\n",
       " 'activo': '1'}"
      ]
     },
     "execution_count": 20,
     "metadata": {},
     "output_type": "execute_result"
    }
   ],
   "source": [
    "politicos[0]"
   ]
  },
  {
   "cell_type": "code",
   "execution_count": 23,
   "metadata": {
    "id": "cCFHpxqqJNdM"
   },
   "outputs": [],
   "source": [
    "import re\n",
    "\n",
    "\n",
    "class Sexo(Enum):\n",
    "    MUJER = '0'\n",
    "    HOMBRE = '1'\n",
    "\n",
    "\n",
    "class Politico(BaseModel):\n",
    "    id: int\n",
    "    nombre: str\n",
    "    apellido: str\n",
    "    foto: str\n",
    "    tipo: int\n",
    "    bloque: int\n",
    "    sexo: Sexo\n",
    "    estado_civil: int\n",
    "    fecha_nacimiento: str\n",
    "    religion: int\n",
    "    provincia: int\n",
    "    localidad: int\n",
    "    telefono: str\n",
    "    telefono_interno: str\n",
    "    email: str\n",
    "    twitter: str\n",
    "    facebook: str\n",
    "    instagram: str\n",
    "    eliminado: int\n",
    "    activo: int\n",
    "\n",
    "    # Validador para el campo email\n",
    "    # No es un regex muy exhaustivo, pero sirve para el ejemplo.\n",
    "    @validator(\"email\")\n",
    "    def check_email(cls, v):\n",
    "        pattern = '.+@.+'\n",
    "        assert re.match(pattern, v), 'Mail incorrecto'\n",
    "        return v\n",
    "\n",
    "    # Que pasa si nuestro json tiene campos que no se corresponden con\n",
    "    # el snakecase de nuestra clase?\n",
    "    # Podemos definir un mapeo así:\n",
    "    class Config:\n",
    "        fields = {\n",
    "            'estado_civil': 'estadoCivil',\n",
    "            'fecha_nacimiento': 'fechaNacimiento',\n",
    "            'telefono_interno': 'telefonoInterno'\n",
    "        }\n"
   ]
  },
  {
   "cell_type": "code",
   "execution_count": 24,
   "metadata": {
    "colab": {
     "base_uri": "https://localhost:8080/"
    },
    "id": "j_TIPr2wKBMI",
    "outputId": "56aaa4cd-a2a7-495f-84a5-efaaecf5cdf6"
   },
   "outputs": [
    {
     "data": {
      "text/plain": [
       "Politico(id=627, nombre='Ana Claudia', apellido='Almirón', foto='politico_default.jpg', tipo=2, bloque=4, sexo=<Sexo.MUJER: '0'>, estado_civil=0, fecha_nacimiento='2020-09-08', religion=0, provincia=6, localidad=0, telefono='(+54 11) 28223000', telefono_interno='1026/22', email='ana.almiron@senado.gob.ar', twitter='AnitaAlmiron', facebook='anaalmironcorrientes', instagram='anaalmironcorrientes', eliminado=0, activo=1)"
      ]
     },
     "execution_count": 24,
     "metadata": {},
     "output_type": "execute_result"
    }
   ],
   "source": [
    "Politico(**politicos[0])"
   ]
  },
  {
   "cell_type": "code",
   "execution_count": null,
   "metadata": {
    "id": "5gqpfJohiqrb"
   },
   "outputs": [],
   "source": []
  },
  {
   "cell_type": "markdown",
   "metadata": {
    "id": "xlk_EWXpbuZO"
   },
   "source": [
    "## Distancia de edición "
   ]
  },
  {
   "cell_type": "markdown",
   "metadata": {
    "id": "QkHgBvavADgm"
   },
   "source": [
    "\n",
    "Para afrontar el \"ruido\" en nuestros textos, tenemos una importante herramienta: la distancia de edición.\n",
    "\n",
    "También llamada Distancia de Levenshtein, nos dice la cantidad mínima de operaciones requerida para llevar de un string al otro. Expresandola de una manera sencilla (y en su versión sin normalizar entre 0 y 1) podemos explicarla así:\n",
    "\n",
    "$$\\mathit{L} = S+D+I$$\n",
    "\n",
    "Donde $S$ = sustitución, $D$ = Eliminación, $I$ = inserción (de un caracter).\n",
    "\n",
    "\n",
    "También podemos usarla entre dos listas como métrica de similitud."
   ]
  },
  {
   "cell_type": "code",
   "execution_count": 25,
   "metadata": {
    "id": "qtLW-PVpEhp2"
   },
   "outputs": [],
   "source": [
    "from nltk.metrics import edit_distance"
   ]
  },
  {
   "cell_type": "code",
   "execution_count": 26,
   "metadata": {
    "colab": {
     "base_uri": "https://localhost:8080/"
    },
    "id": "z6e8fQ-R57PY",
    "outputId": "33826a0c-a346-4f4b-d987-fe23e3fa951a"
   },
   "outputs": [
    {
     "name": "stdout",
     "output_type": "stream",
     "text": [
      "'pero' vs 'perro':\n",
      "Distancia Levenshtein -> 1\n",
      "----------------------------------------\n",
      "'pero' vs 'pierdo':\n",
      "Distancia Levenshtein -> 2\n",
      "----------------------------------------\n",
      "'nueve' vs 'mueve':\n",
      "Distancia Levenshtein -> 1\n",
      "----------------------------------------\n",
      "'totalmente' vs 'diferentes':\n",
      "Distancia Levenshtein -> 7\n",
      "----------------------------------------\n",
      "'pero' vs 'basta':\n",
      "Distancia Levenshtein -> 5\n",
      "----------------------------------------\n"
     ]
    }
   ],
   "source": [
    "# Definimos una lista de tuplas de palabras\n",
    "palabras = [(\"pero\", \"perro\"),(\"pero\", \"pierdo\"), (\"nueve\", \"mueve\"),  (\"totalmente\",\"diferentes\"), (\"pero\", \"basta\")]\n",
    "\n",
    "for x,y in palabras:\n",
    "    print(f\"'{x}' vs '{y}':\")\n",
    "    print(\"Distancia Levenshtein ->\", edit_distance(x,y))\n",
    "    print(\"-\"*40)"
   ]
  },
  {
   "cell_type": "markdown",
   "metadata": {
    "id": "44F9E4z9dJCu"
   },
   "source": [
    "## Búsqueda difusa de strings (fuzzy string matching)"
   ]
  },
  {
   "cell_type": "markdown",
   "metadata": {
    "id": "5eR0kIWzbwck"
   },
   "source": [
    "\n",
    "\n",
    "Técnica muy útil para tener en el repertorio, nos permite encontrar coincidencias que no son exactas. En el caso más sencillo, la búsqueda difusa nos devolverá un puntaje de similitud entre los strings relacionada a las diferencias entre los caracteres. Existen variaciones que consideran cuántas unidades (palabras, tokens) coinciden, que ordenan la oración antes, o que borran repetidos. \n",
    "\n",
    "Hay distintas alternativas, que pueden separar en palabras, ordenarlas, borrar duplicadas, o calcular la superposicion del string directamente. Pueden ver todas las disponibles en: https://github.com/seatgeek/thefuzz "
   ]
  },
  {
   "cell_type": "code",
   "execution_count": 27,
   "metadata": {
    "id": "N1H5I_nSpxMe"
   },
   "outputs": [],
   "source": [
    "%%capture\n",
    "!pip install thefuzz[speedup]\n",
    "from thefuzz import process, fuzz"
   ]
  },
  {
   "cell_type": "code",
   "execution_count": 28,
   "metadata": {
    "colab": {
     "base_uri": "https://localhost:8080/"
    },
    "id": "Cq1q7ru7H-aL",
    "outputId": "c3932480-94fc-4eb7-9f86-c8f39459b3ea"
   },
   "outputs": [
    {
     "data": {
      "text/plain": [
       "77"
      ]
     },
     "execution_count": 28,
     "metadata": {},
     "output_type": "execute_result"
    }
   ],
   "source": [
    "c1 = 'uno dos tres'\n",
    "c2 = 'uno doce trece'\n",
    "fuzz.ratio(c1, c2) # entre 0 y 100"
   ]
  },
  {
   "cell_type": "markdown",
   "metadata": {
    "id": "-qFijbpoI6iy"
   },
   "source": [
    "Podemos usar esta función para encontrar la mejor coincidencia para una palabra en una lista de candidatos:"
   ]
  },
  {
   "cell_type": "code",
   "execution_count": 29,
   "metadata": {
    "id": "EaIGqFoPp30R"
   },
   "outputs": [],
   "source": [
    "def get_match(string, lista_strings):\n",
    "    \"\"\"Para buscar coincidencias entre nombre con los nombres\"\"\"\n",
    "    mejor_match, puntaje = process.extractBests(string.strip(), lista_strings, scorer=fuzz.ratio)[0]\n",
    "    return mejor_match, puntaje"
   ]
  },
  {
   "cell_type": "code",
   "execution_count": 30,
   "metadata": {
    "colab": {
     "base_uri": "https://localhost:8080/"
    },
    "id": "3f-cunV8MWFI",
    "outputId": "927ef58b-1837-4993-e619-6147dd730e39"
   },
   "outputs": [
    {
     "data": {
      "text/plain": [
       "[{'id': '4',\n",
       "  'foto': 'bloque-4.jpg',\n",
       "  'nombre': 'Frente de Todos',\n",
       "  'color': '4fc3f7'},\n",
       " {'id': '6', 'foto': 'bloque-6.jpg', 'nombre': 'PRO', 'color': 'fdd835'},\n",
       " {'id': '7',\n",
       "  'foto': 'bloque_default.jpg',\n",
       "  'nombre': 'Producción y Trabajo',\n",
       "  'color': '000000'},\n",
       " {'id': '9',\n",
       "  'foto': 'bloque_default.jpg',\n",
       "  'nombre': 'Unidad y Equidad por San Luis',\n",
       "  'color': '000000'},\n",
       " {'id': '11',\n",
       "  'foto': 'bloque-11.jpg',\n",
       "  'nombre': 'Unión Cívica Radical',\n",
       "  'color': 'b71c1c'},\n",
       " {'id': '12',\n",
       "  'foto': 'bloque-12.jpg',\n",
       "  'nombre': 'Partido por la Justicia Social',\n",
       "  'color': '01579b'},\n",
       " {'id': '13',\n",
       "  'foto': 'bloque-13.jpg',\n",
       "  'nombre': 'Justicialista',\n",
       "  'color': '0288d1'},\n",
       " {'id': '14',\n",
       "  'foto': 'bloque-14.jpg',\n",
       "  'nombre': 'Consenso Federal',\n",
       "  'color': '1a237e'},\n",
       " {'id': '18',\n",
       "  'foto': 'bloque-18.jpg',\n",
       "  'nombre': 'Córdoba Federal',\n",
       "  'color': '29b6f6'},\n",
       " {'id': '19',\n",
       "  'foto': 'bloque-19.jpg',\n",
       "  'nombre': 'Coalición Cívica',\n",
       "  'color': '01579b'},\n",
       " {'id': '21',\n",
       "  'foto': 'bloque-21.jpg',\n",
       "  'nombre': 'Frente Progresista Cívico y Social',\n",
       "  'color': 'ef6c00'},\n",
       " {'id': '23',\n",
       "  'foto': 'bloque-23.jpg',\n",
       "  'nombre': 'PTS - Frente de Izquierda',\n",
       "  'color': 'f44336'},\n",
       " {'id': '24',\n",
       "  'foto': 'bloque-24.jpg',\n",
       "  'nombre': 'Socialista',\n",
       "  'color': 'd32f2f'},\n",
       " {'id': '25',\n",
       "  'foto': 'bloque-25.jpg',\n",
       "  'nombre': 'Juntos Somos Rio Negro',\n",
       "  'color': '4caf50'},\n",
       " {'id': '26',\n",
       "  'foto': 'bloque-26.jpg',\n",
       "  'nombre': 'Frente de Izquierda y de los Trabajadores - Unidad',\n",
       "  'color': 'f44336'},\n",
       " {'id': '30',\n",
       "  'foto': 'bloque-30.jpg',\n",
       "  'nombre': 'Frente de la Concordia Misionero',\n",
       "  'color': '0d47a1'},\n",
       " {'id': '34',\n",
       "  'foto': 'bloque-34.jpg',\n",
       "  'nombre': 'Movimiento Popular Neuquino',\n",
       "  'color': '4fc3f7'},\n",
       " {'id': '36',\n",
       "  'foto': 'bloque_default.jpg',\n",
       "  'nombre': 'Acción Federal',\n",
       "  'color': '000000'},\n",
       " {'id': '37',\n",
       "  'foto': 'bloque_default.jpg',\n",
       "  'nombre': 'Frente Cívico y Social de Catamarca',\n",
       "  'color': 'ffb300'},\n",
       " {'id': '38',\n",
       "  'foto': 'bloque-38.jpg',\n",
       "  'nombre': 'Fuerza Cívica Riojana',\n",
       "  'color': 'aed581'},\n",
       " {'id': '39',\n",
       "  'foto': 'bloque-39.jpg',\n",
       "  'nombre': 'Avanzar San Luis',\n",
       "  'color': '00acc1'},\n",
       " {'id': '40',\n",
       "  'foto': 'bloque_default.jpg',\n",
       "  'nombre': 'Santa Fe Federal',\n",
       "  'color': '01579b'},\n",
       " {'id': '41',\n",
       "  'foto': 'bloque_default.jpg',\n",
       "  'nombre': 'Justicialista 8 de Octubre',\n",
       "  'color': '000000'},\n",
       " {'id': '43',\n",
       "  'foto': 'bloque_default.jpg',\n",
       "  'nombre': 'Misiones ',\n",
       "  'color': '90a4ae'},\n",
       " {'id': '44',\n",
       "  'foto': 'bloque_default.jpg',\n",
       "  'nombre': 'Unidad Federal para el Desarrollo',\n",
       "  'color': '000000'},\n",
       " {'id': '46',\n",
       "  'foto': 'bloque_default.jpg',\n",
       "  'nombre': 'Avanza Libertad',\n",
       "  'color': '000000'},\n",
       " {'id': '50',\n",
       "  'foto': 'bloque_default.jpg',\n",
       "  'nombre': 'Ahora Patria',\n",
       "  'color': '000000'},\n",
       " {'id': '51',\n",
       "  'foto': 'bloque_default.jpg',\n",
       "  'nombre': 'Identidad Bonaerense ',\n",
       "  'color': '000000'},\n",
       " {'id': '52',\n",
       "  'foto': 'bloque_default.jpg',\n",
       "  'nombre': 'Evolución Radical',\n",
       "  'color': '000000'},\n",
       " {'id': '53',\n",
       "  'foto': 'bloque_default.jpg',\n",
       "  'nombre': 'Encuentro Federal',\n",
       "  'color': '000000'},\n",
       " {'id': '54',\n",
       "  'foto': 'bloque_default.jpg',\n",
       "  'nombre': 'Creo',\n",
       "  'color': '000000'},\n",
       " {'id': '56',\n",
       "  'foto': 'bloque_default.jpg',\n",
       "  'nombre': 'Izquierda Socialista - Frente de Izquierda',\n",
       "  'color': '000000'},\n",
       " {'id': '57',\n",
       "  'foto': 'bloque_default.jpg',\n",
       "  'nombre': 'La Libertad Avanza',\n",
       "  'color': '000000'},\n",
       " {'id': '58',\n",
       "  'foto': 'bloque_default.jpg',\n",
       "  'nombre': 'Unidos por San Luis',\n",
       "  'color': '000000'},\n",
       " {'id': '60',\n",
       "  'foto': 'bloque_default.jpg',\n",
       "  'nombre': 'Partido Obrero - Frente de Izquierda y de los Trabajadores - Unidad',\n",
       "  'color': '000000'},\n",
       " {'id': '61',\n",
       "  'foto': 'bloque_default.jpg',\n",
       "  'nombre': 'PTS - Frente de Izquierda de Trabajadores - Unidad',\n",
       "  'color': '000000'},\n",
       " {'id': '63',\n",
       "  'foto': 'bloque_default.jpg',\n",
       "  'nombre': 'Republicanos Unidos ',\n",
       "  'color': '000000'},\n",
       " {'id': '64',\n",
       "  'foto': 'bloque_default.jpg',\n",
       "  'nombre': 'Sin Bloque',\n",
       "  'color': '757575'},\n",
       " {'id': '65',\n",
       "  'foto': 'bloque_default.jpg',\n",
       "  'nombre': 'Partido Obrero - Frente de Izquierda y de los Trabajadores - Unidad',\n",
       "  'color': '000000'},\n",
       " {'id': '68',\n",
       "  'foto': 'bloque_default.jpg',\n",
       "  'nombre': 'SER - Somos Energía para Renovar',\n",
       "  'color': '000000'},\n",
       " {'id': '70',\n",
       "  'foto': 'bloque_default.jpg',\n",
       "  'nombre': 'Unidad y Equidad Federal',\n",
       "  'color': '000000'}]"
      ]
     },
     "execution_count": 30,
     "metadata": {},
     "output_type": "execute_result"
    }
   ],
   "source": [
    "bloques"
   ]
  },
  {
   "cell_type": "code",
   "execution_count": 31,
   "metadata": {
    "id": "PRwuYOdFHm9W"
   },
   "outputs": [],
   "source": [
    "nombres_bloques = [b[\"nombre\"] for b in bloques]"
   ]
  },
  {
   "cell_type": "code",
   "execution_count": 32,
   "metadata": {
    "colab": {
     "base_uri": "https://localhost:8080/"
    },
    "id": "Fb6QTWZXLuJh",
    "outputId": "93bfeb27-0d15-4c4e-bca4-3036bc02c746"
   },
   "outputs": [
    {
     "data": {
      "text/plain": [
       "['Frente de Todos',\n",
       " 'PRO',\n",
       " 'Producción y Trabajo',\n",
       " 'Unidad y Equidad por San Luis',\n",
       " 'Unión Cívica Radical',\n",
       " 'Partido por la Justicia Social',\n",
       " 'Justicialista',\n",
       " 'Consenso Federal',\n",
       " 'Córdoba Federal',\n",
       " 'Coalición Cívica',\n",
       " 'Frente Progresista Cívico y Social',\n",
       " 'PTS - Frente de Izquierda',\n",
       " 'Socialista',\n",
       " 'Juntos Somos Rio Negro',\n",
       " 'Frente de Izquierda y de los Trabajadores - Unidad',\n",
       " 'Frente de la Concordia Misionero',\n",
       " 'Movimiento Popular Neuquino',\n",
       " 'Acción Federal',\n",
       " 'Frente Cívico y Social de Catamarca',\n",
       " 'Fuerza Cívica Riojana',\n",
       " 'Avanzar San Luis',\n",
       " 'Santa Fe Federal',\n",
       " 'Justicialista 8 de Octubre',\n",
       " 'Misiones ',\n",
       " 'Unidad Federal para el Desarrollo',\n",
       " 'Avanza Libertad',\n",
       " 'Ahora Patria',\n",
       " 'Identidad Bonaerense ',\n",
       " 'Evolución Radical',\n",
       " 'Encuentro Federal',\n",
       " 'Creo',\n",
       " 'Izquierda Socialista - Frente de Izquierda',\n",
       " 'La Libertad Avanza',\n",
       " 'Unidos por San Luis',\n",
       " 'Partido Obrero - Frente de Izquierda y de los Trabajadores - Unidad',\n",
       " 'PTS - Frente de Izquierda de Trabajadores - Unidad',\n",
       " 'Republicanos Unidos ',\n",
       " 'Sin Bloque',\n",
       " 'Partido Obrero - Frente de Izquierda y de los Trabajadores - Unidad',\n",
       " 'SER - Somos Energía para Renovar',\n",
       " 'Unidad y Equidad Federal']"
      ]
     },
     "execution_count": 32,
     "metadata": {},
     "output_type": "execute_result"
    }
   ],
   "source": [
    "nombres_bloques"
   ]
  },
  {
   "cell_type": "code",
   "execution_count": 33,
   "metadata": {
    "colab": {
     "base_uri": "https://localhost:8080/"
    },
    "id": "U-brWWiIp9OR",
    "outputId": "c533210b-4366-408f-ea28-804b34375bd5"
   },
   "outputs": [
    {
     "data": {
      "text/plain": [
       "('Frente de Todos', 75)"
      ]
     },
     "execution_count": 33,
     "metadata": {},
     "output_type": "execute_result"
    }
   ],
   "source": [
    "busqueda = 'Frente de Algunos'\n",
    "get_match(busqueda, nombres_bloques)"
   ]
  }
 ],
 "metadata": {
  "colab": {
   "collapsed_sections": [
    "JHfPn45-bbhE",
    "ejfz2A9qbj5s",
    "RuRvA4vGbmfI",
    "kxqYZOTBbpmN",
    "dctDgKVGJPok",
    "xlk_EWXpbuZO",
    "44F9E4z9dJCu",
    "rmUaf45Ibz3M"
   ],
   "provenance": []
  },
  "kernelspec": {
   "display_name": "Python 3 (ipykernel)",
   "language": "python",
   "name": "python3"
  },
  "language_info": {
   "codemirror_mode": {
    "name": "ipython",
    "version": 3
   },
   "file_extension": ".py",
   "mimetype": "text/x-python",
   "name": "python",
   "nbconvert_exporter": "python",
   "pygments_lexer": "ipython3",
   "version": "3.10.9"
  }
 },
 "nbformat": 4,
 "nbformat_minor": 4
}
